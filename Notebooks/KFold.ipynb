{
 "cells": [
  {
   "cell_type": "markdown",
   "metadata": {},
   "source": [
    "# Recommender Systems Challenge, 2023/2024 @ PoliMi"
   ]
  },
  {
   "cell_type": "markdown",
   "metadata": {},
   "source": [
    "# Introduction\n",
    "\n",
    "## Problem Description\n",
    "The application domain is book recommendation. The datasets contain interactions of users with books, in particular, if the user attributed to the book a rating of at least 4. The main goal of the competition is to discover which items (books) a user will interact with.\n",
    "\n",
    "The datasets includes around 600k interactions, 13k users, 22k items (books).\n",
    "The training-test split is done via random holdout, 80% training, 20% test.\n",
    "The goal is to recommend a list of 10 potentially relevant items for each user.\n",
    "\n",
    "\n",
    "## Datasets\n",
    "All files are comma-separated (columns are separated with ',' ).\n",
    "\n",
    "- **data_train.csv**:\n",
    "Contains the training set, describing implicit preferences expressed by the users.\n",
    "    - **user_id** : identifier of the user\n",
    "    - **item_id** : identifier of the item (Book)\n",
    "    - **data** : \"1.0\" if the user liked the book attributing it a rating of at least 4.\n",
    "\n",
    "\n",
    "- **data_target_users_test.csv**:\n",
    "Contains the ids of the users that should appear in your submission file.\n",
    "The submission file should contain all and only these users.\n",
    "\n",
    "- **sample_submission.csv**:\n",
    "A sample submission file in the correct format: [user_id],[ordered list of recommended items].\n",
    "Be careful with the spaces and be sure to recommend the correct number of items to every user."
   ]
  },
  {
   "cell_type": "markdown",
   "metadata": {},
   "source": [
    "# Requirements\n",
    "\n",
    "The working environment and the required libraries are defined here."
   ]
  },
  {
   "cell_type": "code",
   "execution_count": 127,
   "metadata": {
    "_cell_guid": "b1076dfc-b9ad-4769-8c92-a6c4dae69d19",
    "_uuid": "8f2839f25d086af736a60e9eeb907d3b93b6e0e5",
    "execution": {
     "iopub.execute_input": "2023-11-12T22:55:27.107416Z",
     "iopub.status.busy": "2023-11-12T22:55:27.107103Z",
     "iopub.status.idle": "2023-11-12T22:55:27.415864Z",
     "shell.execute_reply": "2023-11-12T22:55:27.415002Z",
     "shell.execute_reply.started": "2023-11-12T22:55:27.107392Z"
    }
   },
   "outputs": [],
   "source": [
    "# Import libraries\n",
    "\n",
    "import numpy as np # linear algebra\n",
    "import pandas as pd # data processing, CSV file I/O (e.g. pd.read_csv)\n",
    "import scipy.sparse as sps # creation of sparse matrix\n",
    "import matplotlib.pyplot as pyplot # plot\n",
    "\n",
    "from tqdm import tqdm\n",
    "\n",
    "from scipy.stats import uniform, loguniform\n",
    "from sklearn.model_selection import train_test_split\n",
    "from sklearn.model_selection import KFold\n",
    "import optuna as op"
   ]
  },
  {
   "cell_type": "code",
   "execution_count": 128,
   "metadata": {},
   "outputs": [
    {
     "name": "stdout",
     "output_type": "stream",
     "text": [
      "The Cython extension is already loaded. To reload it, use:\n",
      "  %reload_ext Cython\n"
     ]
    }
   ],
   "source": [
    "%load_ext Cython"
   ]
  },
  {
   "cell_type": "markdown",
   "metadata": {},
   "source": [
    "# Data Preprocessing"
   ]
  },
  {
   "cell_type": "code",
   "execution_count": 129,
   "metadata": {
    "execution": {
     "iopub.execute_input": "2023-11-12T22:55:29.530470Z",
     "iopub.status.busy": "2023-11-12T22:55:29.530065Z",
     "iopub.status.idle": "2023-11-12T22:55:29.536636Z",
     "shell.execute_reply": "2023-11-12T22:55:29.535790Z",
     "shell.execute_reply.started": "2023-11-12T22:55:29.530448Z"
    }
   },
   "outputs": [
    {
     "data": {
      "text/plain": [
       "_io.TextIOWrapper"
      ]
     },
     "execution_count": 129,
     "metadata": {},
     "output_type": "execute_result"
    }
   ],
   "source": [
    "# Handle the input file\n",
    "input_file = open('Input/data_train.csv', 'r')\n",
    "type(input_file)"
   ]
  },
  {
   "cell_type": "code",
   "execution_count": 130,
   "metadata": {
    "execution": {
     "iopub.execute_input": "2023-11-12T22:55:31.169146Z",
     "iopub.status.busy": "2023-11-12T22:55:31.168482Z",
     "iopub.status.idle": "2023-11-12T22:55:31.385566Z",
     "shell.execute_reply": "2023-11-12T22:55:31.384663Z",
     "shell.execute_reply.started": "2023-11-12T22:55:31.169120Z"
    }
   },
   "outputs": [
    {
     "data": {
      "text/plain": [
       "(478730, 3)"
      ]
     },
     "execution_count": 130,
     "metadata": {},
     "output_type": "execute_result"
    }
   ],
   "source": [
    "# Build the dataframe from the input file\n",
    "input_df = pd.read_csv(\n",
    "    filepath_or_buffer=input_file,\n",
    "    dtype={0:int, 1:int, 2:int},\n",
    "    names=['user_id','item_id','data'],\n",
    "    header=0\n",
    ")\n",
    "\n",
    "input_df.shape"
   ]
  },
  {
   "cell_type": "code",
   "execution_count": 131,
   "metadata": {
    "execution": {
     "iopub.execute_input": "2023-11-12T22:55:34.346527Z",
     "iopub.status.busy": "2023-11-12T22:55:34.346196Z",
     "iopub.status.idle": "2023-11-12T22:55:34.361128Z",
     "shell.execute_reply": "2023-11-12T22:55:34.360275Z",
     "shell.execute_reply.started": "2023-11-12T22:55:34.346502Z"
    }
   },
   "outputs": [
    {
     "data": {
      "text/html": [
       "<div>\n",
       "<style scoped>\n",
       "    .dataframe tbody tr th:only-of-type {\n",
       "        vertical-align: middle;\n",
       "    }\n",
       "\n",
       "    .dataframe tbody tr th {\n",
       "        vertical-align: top;\n",
       "    }\n",
       "\n",
       "    .dataframe thead th {\n",
       "        text-align: right;\n",
       "    }\n",
       "</style>\n",
       "<table border=\"1\" class=\"dataframe\">\n",
       "  <thead>\n",
       "    <tr style=\"text-align: right;\">\n",
       "      <th></th>\n",
       "      <th>user_id</th>\n",
       "      <th>item_id</th>\n",
       "      <th>data</th>\n",
       "    </tr>\n",
       "  </thead>\n",
       "  <tbody>\n",
       "    <tr>\n",
       "      <th>0</th>\n",
       "      <td>1</td>\n",
       "      <td>7</td>\n",
       "      <td>1</td>\n",
       "    </tr>\n",
       "    <tr>\n",
       "      <th>1</th>\n",
       "      <td>1</td>\n",
       "      <td>15</td>\n",
       "      <td>1</td>\n",
       "    </tr>\n",
       "    <tr>\n",
       "      <th>2</th>\n",
       "      <td>1</td>\n",
       "      <td>16</td>\n",
       "      <td>1</td>\n",
       "    </tr>\n",
       "    <tr>\n",
       "      <th>3</th>\n",
       "      <td>1</td>\n",
       "      <td>133</td>\n",
       "      <td>1</td>\n",
       "    </tr>\n",
       "    <tr>\n",
       "      <th>4</th>\n",
       "      <td>1</td>\n",
       "      <td>161</td>\n",
       "      <td>1</td>\n",
       "    </tr>\n",
       "    <tr>\n",
       "      <th>5</th>\n",
       "      <td>1</td>\n",
       "      <td>187</td>\n",
       "      <td>1</td>\n",
       "    </tr>\n",
       "    <tr>\n",
       "      <th>6</th>\n",
       "      <td>1</td>\n",
       "      <td>205</td>\n",
       "      <td>1</td>\n",
       "    </tr>\n",
       "    <tr>\n",
       "      <th>7</th>\n",
       "      <td>1</td>\n",
       "      <td>222</td>\n",
       "      <td>1</td>\n",
       "    </tr>\n",
       "    <tr>\n",
       "      <th>8</th>\n",
       "      <td>1</td>\n",
       "      <td>237</td>\n",
       "      <td>1</td>\n",
       "    </tr>\n",
       "    <tr>\n",
       "      <th>9</th>\n",
       "      <td>1</td>\n",
       "      <td>354</td>\n",
       "      <td>1</td>\n",
       "    </tr>\n",
       "  </tbody>\n",
       "</table>\n",
       "</div>"
      ],
      "text/plain": [
       "   user_id  item_id  data\n",
       "0        1        7     1\n",
       "1        1       15     1\n",
       "2        1       16     1\n",
       "3        1      133     1\n",
       "4        1      161     1\n",
       "5        1      187     1\n",
       "6        1      205     1\n",
       "7        1      222     1\n",
       "8        1      237     1\n",
       "9        1      354     1"
      ]
     },
     "execution_count": 131,
     "metadata": {},
     "output_type": "execute_result"
    }
   ],
   "source": [
    "# Show the first rows of the dataframe\n",
    "input_df.head(n=10)"
   ]
  },
  {
   "cell_type": "code",
   "execution_count": 132,
   "metadata": {},
   "outputs": [
    {
     "data": {
      "text/plain": [
       "<13025x22348 sparse matrix of type '<class 'numpy.int32'>'\n",
       "\twith 478730 stored elements in COOrdinate format>"
      ]
     },
     "execution_count": 132,
     "metadata": {},
     "output_type": "execute_result"
    }
   ],
   "source": [
    "# Build the COO matrix with the COO constructor: (data, (row, column))\n",
    "URM_all = sps.coo_matrix(\n",
    "    (input_df[\"data\"].values,\n",
    "    (input_df[\"user_id\"].values, input_df[\"item_id\"].values))\n",
    ")\n",
    "\n",
    "URM_all"
   ]
  },
  {
   "cell_type": "code",
   "execution_count": 133,
   "metadata": {},
   "outputs": [
    {
     "data": {
      "text/plain": [
       "<13025x22348 sparse matrix of type '<class 'numpy.intc'>'\n",
       "\twith 478730 stored elements in Compressed Sparse Row format>"
      ]
     },
     "execution_count": 133,
     "metadata": {},
     "output_type": "execute_result"
    }
   ],
   "source": [
    "# Convert the matrix to Compressed Sparse Row format\n",
    "URM_all = URM_all.tocsr()\n",
    "\n",
    "URM_all"
   ]
  },
  {
   "cell_type": "code",
   "execution_count": null,
   "metadata": {},
   "outputs": [],
   "source": []
  },
  {
   "cell_type": "code",
   "execution_count": 134,
   "metadata": {},
   "outputs": [],
   "source": [
    "# Set the number of folds to split\n",
    "n_fold = 100"
   ]
  },
  {
   "cell_type": "code",
   "execution_count": 135,
   "metadata": {},
   "outputs": [],
   "source": [
    "kf = KFold(n_splits=n_fold, shuffle=True, random_state=42)"
   ]
  },
  {
   "cell_type": "code",
   "execution_count": 136,
   "metadata": {},
   "outputs": [],
   "source": [
    "for i, (_, v_ind) in enumerate(kf.split(input_df)):\n",
    "    input_df.loc[input_df.index[v_ind], 'kfold'] = int(i)"
   ]
  },
  {
   "cell_type": "code",
   "execution_count": 137,
   "metadata": {},
   "outputs": [
    {
     "data": {
      "text/html": [
       "<div>\n",
       "<style scoped>\n",
       "    .dataframe tbody tr th:only-of-type {\n",
       "        vertical-align: middle;\n",
       "    }\n",
       "\n",
       "    .dataframe tbody tr th {\n",
       "        vertical-align: top;\n",
       "    }\n",
       "\n",
       "    .dataframe thead th {\n",
       "        text-align: right;\n",
       "    }\n",
       "</style>\n",
       "<table border=\"1\" class=\"dataframe\">\n",
       "  <thead>\n",
       "    <tr style=\"text-align: right;\">\n",
       "      <th></th>\n",
       "      <th>user_id</th>\n",
       "      <th>item_id</th>\n",
       "      <th>data</th>\n",
       "      <th>kfold</th>\n",
       "    </tr>\n",
       "  </thead>\n",
       "  <tbody>\n",
       "    <tr>\n",
       "      <th>0</th>\n",
       "      <td>1</td>\n",
       "      <td>7</td>\n",
       "      <td>1</td>\n",
       "      <td>36.0</td>\n",
       "    </tr>\n",
       "    <tr>\n",
       "      <th>1</th>\n",
       "      <td>1</td>\n",
       "      <td>15</td>\n",
       "      <td>1</td>\n",
       "      <td>62.0</td>\n",
       "    </tr>\n",
       "    <tr>\n",
       "      <th>2</th>\n",
       "      <td>1</td>\n",
       "      <td>16</td>\n",
       "      <td>1</td>\n",
       "      <td>7.0</td>\n",
       "    </tr>\n",
       "    <tr>\n",
       "      <th>3</th>\n",
       "      <td>1</td>\n",
       "      <td>133</td>\n",
       "      <td>1</td>\n",
       "      <td>73.0</td>\n",
       "    </tr>\n",
       "    <tr>\n",
       "      <th>4</th>\n",
       "      <td>1</td>\n",
       "      <td>161</td>\n",
       "      <td>1</td>\n",
       "      <td>51.0</td>\n",
       "    </tr>\n",
       "    <tr>\n",
       "      <th>5</th>\n",
       "      <td>1</td>\n",
       "      <td>187</td>\n",
       "      <td>1</td>\n",
       "      <td>96.0</td>\n",
       "    </tr>\n",
       "    <tr>\n",
       "      <th>6</th>\n",
       "      <td>1</td>\n",
       "      <td>205</td>\n",
       "      <td>1</td>\n",
       "      <td>1.0</td>\n",
       "    </tr>\n",
       "    <tr>\n",
       "      <th>7</th>\n",
       "      <td>1</td>\n",
       "      <td>222</td>\n",
       "      <td>1</td>\n",
       "      <td>26.0</td>\n",
       "    </tr>\n",
       "    <tr>\n",
       "      <th>8</th>\n",
       "      <td>1</td>\n",
       "      <td>237</td>\n",
       "      <td>1</td>\n",
       "      <td>65.0</td>\n",
       "    </tr>\n",
       "    <tr>\n",
       "      <th>9</th>\n",
       "      <td>1</td>\n",
       "      <td>354</td>\n",
       "      <td>1</td>\n",
       "      <td>63.0</td>\n",
       "    </tr>\n",
       "  </tbody>\n",
       "</table>\n",
       "</div>"
      ],
      "text/plain": [
       "   user_id  item_id  data  kfold\n",
       "0        1        7     1   36.0\n",
       "1        1       15     1   62.0\n",
       "2        1       16     1    7.0\n",
       "3        1      133     1   73.0\n",
       "4        1      161     1   51.0\n",
       "5        1      187     1   96.0\n",
       "6        1      205     1    1.0\n",
       "7        1      222     1   26.0\n",
       "8        1      237     1   65.0\n",
       "9        1      354     1   63.0"
      ]
     },
     "execution_count": 137,
     "metadata": {},
     "output_type": "execute_result"
    }
   ],
   "source": [
    "input_df.head(10)"
   ]
  },
  {
   "cell_type": "code",
   "execution_count": 138,
   "metadata": {},
   "outputs": [],
   "source": [
    "df_trains = []\n",
    "df_tests = []\n",
    "\n",
    "for i in range(n_fold):\n",
    "    df_trains.append(input_df[input_df[\"kfold\"]!=i])\n",
    "    df_tests.append(input_df[input_df[\"kfold\"]==i])\n",
    "    \n",
    "    df_trains[i] = df_trains[i].drop(columns=['kfold'])\n",
    "    df_tests[i] = df_tests[i].drop(columns=['kfold'])"
   ]
  },
  {
   "cell_type": "code",
   "execution_count": null,
   "metadata": {},
   "outputs": [],
   "source": []
  },
  {
   "cell_type": "code",
   "execution_count": 139,
   "metadata": {},
   "outputs": [
    {
     "data": {
      "text/html": [
       "<div>\n",
       "<style scoped>\n",
       "    .dataframe tbody tr th:only-of-type {\n",
       "        vertical-align: middle;\n",
       "    }\n",
       "\n",
       "    .dataframe tbody tr th {\n",
       "        vertical-align: top;\n",
       "    }\n",
       "\n",
       "    .dataframe thead th {\n",
       "        text-align: right;\n",
       "    }\n",
       "</style>\n",
       "<table border=\"1\" class=\"dataframe\">\n",
       "  <thead>\n",
       "    <tr style=\"text-align: right;\">\n",
       "      <th></th>\n",
       "      <th>user_id</th>\n",
       "      <th>item_id</th>\n",
       "      <th>data</th>\n",
       "    </tr>\n",
       "  </thead>\n",
       "  <tbody>\n",
       "    <tr>\n",
       "      <th>0</th>\n",
       "      <td>1</td>\n",
       "      <td>7</td>\n",
       "      <td>1</td>\n",
       "    </tr>\n",
       "    <tr>\n",
       "      <th>1</th>\n",
       "      <td>1</td>\n",
       "      <td>15</td>\n",
       "      <td>1</td>\n",
       "    </tr>\n",
       "    <tr>\n",
       "      <th>2</th>\n",
       "      <td>1</td>\n",
       "      <td>16</td>\n",
       "      <td>1</td>\n",
       "    </tr>\n",
       "    <tr>\n",
       "      <th>3</th>\n",
       "      <td>1</td>\n",
       "      <td>133</td>\n",
       "      <td>1</td>\n",
       "    </tr>\n",
       "    <tr>\n",
       "      <th>4</th>\n",
       "      <td>1</td>\n",
       "      <td>161</td>\n",
       "      <td>1</td>\n",
       "    </tr>\n",
       "    <tr>\n",
       "      <th>...</th>\n",
       "      <td>...</td>\n",
       "      <td>...</td>\n",
       "      <td>...</td>\n",
       "    </tr>\n",
       "    <tr>\n",
       "      <th>478725</th>\n",
       "      <td>13024</td>\n",
       "      <td>13605</td>\n",
       "      <td>1</td>\n",
       "    </tr>\n",
       "    <tr>\n",
       "      <th>478726</th>\n",
       "      <td>13024</td>\n",
       "      <td>13823</td>\n",
       "      <td>1</td>\n",
       "    </tr>\n",
       "    <tr>\n",
       "      <th>478727</th>\n",
       "      <td>13024</td>\n",
       "      <td>15122</td>\n",
       "      <td>1</td>\n",
       "    </tr>\n",
       "    <tr>\n",
       "      <th>478728</th>\n",
       "      <td>13024</td>\n",
       "      <td>18185</td>\n",
       "      <td>1</td>\n",
       "    </tr>\n",
       "    <tr>\n",
       "      <th>478729</th>\n",
       "      <td>13024</td>\n",
       "      <td>20014</td>\n",
       "      <td>1</td>\n",
       "    </tr>\n",
       "  </tbody>\n",
       "</table>\n",
       "<p>473942 rows × 3 columns</p>\n",
       "</div>"
      ],
      "text/plain": [
       "        user_id  item_id  data\n",
       "0             1        7     1\n",
       "1             1       15     1\n",
       "2             1       16     1\n",
       "3             1      133     1\n",
       "4             1      161     1\n",
       "...         ...      ...   ...\n",
       "478725    13024    13605     1\n",
       "478726    13024    13823     1\n",
       "478727    13024    15122     1\n",
       "478728    13024    18185     1\n",
       "478729    13024    20014     1\n",
       "\n",
       "[473942 rows x 3 columns]"
      ]
     },
     "execution_count": 139,
     "metadata": {},
     "output_type": "execute_result"
    }
   ],
   "source": [
    "df_trains[0]"
   ]
  },
  {
   "cell_type": "code",
   "execution_count": 140,
   "metadata": {},
   "outputs": [],
   "source": [
    "URM_trains = []\n",
    "URM_tests = []\n",
    "\n",
    "\n",
    "for i in range(n_fold):\n",
    "    URM_trains.append(sps.coo_matrix(\n",
    "    (df_trains[i][\"data\"].values,\n",
    "    (df_trains[i][\"user_id\"].values, df_trains[i][\"item_id\"].values))\n",
    ").tocsr())\n",
    "    \n",
    "    \n",
    "    URM_tests.append(sps.coo_matrix(\n",
    "    (df_tests[i][\"data\"].values,\n",
    "    (df_tests[i][\"user_id\"].values, df_tests[i][\"item_id\"].values))\n",
    ").tocsr())"
   ]
  },
  {
   "cell_type": "code",
   "execution_count": 141,
   "metadata": {},
   "outputs": [],
   "source": [
    "# # Save the URMs\n",
    "# for i in range(n_fold):\n",
    "#     sps.save_npz(f'{\"kftrain\" + str(i)}', URM_trains[i], compressed=True)\n",
    "#     sps.save_npz(f'{\"kftest\" + str(i)}', URM_tests[i], compressed=True)"
   ]
  },
  {
   "cell_type": "code",
   "execution_count": null,
   "metadata": {},
   "outputs": [],
   "source": []
  },
  {
   "cell_type": "code",
   "execution_count": null,
   "metadata": {},
   "outputs": [],
   "source": []
  },
  {
   "cell_type": "code",
   "execution_count": 142,
   "metadata": {},
   "outputs": [
    {
     "data": {
      "text/plain": [
       "<13025x22348 sparse matrix of type '<class 'numpy.intc'>'\n",
       "\twith 473942 stored elements in Compressed Sparse Row format>"
      ]
     },
     "execution_count": 142,
     "metadata": {},
     "output_type": "execute_result"
    }
   ],
   "source": [
    "URM_trains[0]"
   ]
  },
  {
   "cell_type": "code",
   "execution_count": 143,
   "metadata": {},
   "outputs": [
    {
     "name": "stdout",
     "output_type": "stream",
     "text": [
      "EvaluatorHoldout: Ignoring 9852 (75.7%) Users that have less than 1 test interactions\n",
      "EvaluatorHoldout: Ignoring 9921 (76.2%) Users that have less than 1 test interactions\n",
      "EvaluatorHoldout: Ignoring 9895 (76.0%) Users that have less than 1 test interactions\n",
      "EvaluatorHoldout: Ignoring 9926 (76.2%) Users that have less than 1 test interactions\n",
      "EvaluatorHoldout: Ignoring 9910 (76.1%) Users that have less than 1 test interactions\n",
      "EvaluatorHoldout: Ignoring 9967 (76.5%) Users that have less than 1 test interactions\n",
      "EvaluatorHoldout: Ignoring 9919 (76.2%) Users that have less than 1 test interactions\n",
      "EvaluatorHoldout: Ignoring 9831 (75.5%) Users that have less than 1 test interactions\n",
      "EvaluatorHoldout: Ignoring 9881 (75.9%) Users that have less than 1 test interactions\n",
      "EvaluatorHoldout: Ignoring 9895 (76.0%) Users that have less than 1 test interactions\n",
      "EvaluatorHoldout: Ignoring 9921 (76.2%) Users that have less than 1 test interactions\n",
      "EvaluatorHoldout: Ignoring 9927 (76.2%) Users that have less than 1 test interactions\n",
      "EvaluatorHoldout: Ignoring 9889 (75.9%) Users that have less than 1 test interactions\n",
      "EvaluatorHoldout: Ignoring 9922 (76.2%) Users that have less than 1 test interactions\n",
      "EvaluatorHoldout: Ignoring 9923 (76.2%) Users that have less than 1 test interactions\n",
      "EvaluatorHoldout: Ignoring 9913 (76.1%) Users that have less than 1 test interactions\n",
      "EvaluatorHoldout: Ignoring 9902 (76.0%) Users that have less than 1 test interactions\n",
      "EvaluatorHoldout: Ignoring 9896 (76.0%) Users that have less than 1 test interactions\n",
      "EvaluatorHoldout: Ignoring 9873 (75.8%) Users that have less than 1 test interactions\n",
      "EvaluatorHoldout: Ignoring 9850 (75.6%) Users that have less than 1 test interactions\n",
      "EvaluatorHoldout: Ignoring 9864 (75.7%) Users that have less than 1 test interactions\n",
      "EvaluatorHoldout: Ignoring 9884 (75.9%) Users that have less than 1 test interactions\n",
      "EvaluatorHoldout: Ignoring 9906 (76.1%) Users that have less than 1 test interactions\n",
      "EvaluatorHoldout: Ignoring 9919 (76.2%) Users that have less than 1 test interactions\n",
      "EvaluatorHoldout: Ignoring 9880 (75.9%) Users that have less than 1 test interactions\n",
      "EvaluatorHoldout: Ignoring 9949 (76.4%) Users that have less than 1 test interactions\n",
      "EvaluatorHoldout: Ignoring 9893 (76.0%) Users that have less than 1 test interactions\n",
      "EvaluatorHoldout: Ignoring 9917 (76.2%) Users that have less than 1 test interactions\n",
      "EvaluatorHoldout: Ignoring 9923 (76.2%) Users that have less than 1 test interactions\n",
      "EvaluatorHoldout: Ignoring 9949 (76.4%) Users that have less than 1 test interactions\n",
      "EvaluatorHoldout: Ignoring 9885 (75.9%) Users that have less than 1 test interactions\n",
      "EvaluatorHoldout: Ignoring 9870 (75.8%) Users that have less than 1 test interactions\n",
      "EvaluatorHoldout: Ignoring 9905 (76.0%) Users that have less than 1 test interactions\n",
      "EvaluatorHoldout: Ignoring 9893 (76.0%) Users that have less than 1 test interactions\n",
      "EvaluatorHoldout: Ignoring 9860 (75.7%) Users that have less than 1 test interactions\n",
      "EvaluatorHoldout: Ignoring 9953 (76.4%) Users that have less than 1 test interactions\n",
      "EvaluatorHoldout: Ignoring 9902 (76.0%) Users that have less than 1 test interactions\n",
      "EvaluatorHoldout: Ignoring 9936 (76.3%) Users that have less than 1 test interactions\n",
      "EvaluatorHoldout: Ignoring 9927 (76.2%) Users that have less than 1 test interactions\n",
      "EvaluatorHoldout: Ignoring 9882 (75.9%) Users that have less than 1 test interactions\n",
      "EvaluatorHoldout: Ignoring 9899 (76.0%) Users that have less than 1 test interactions\n",
      "EvaluatorHoldout: Ignoring 9911 (76.1%) Users that have less than 1 test interactions\n",
      "EvaluatorHoldout: Ignoring 9890 (75.9%) Users that have less than 1 test interactions\n",
      "EvaluatorHoldout: Ignoring 9898 (76.0%) Users that have less than 1 test interactions\n",
      "EvaluatorHoldout: Ignoring 9919 (76.2%) Users that have less than 1 test interactions\n",
      "EvaluatorHoldout: Ignoring 9904 (76.0%) Users that have less than 1 test interactions\n",
      "EvaluatorHoldout: Ignoring 9865 (75.7%) Users that have less than 1 test interactions\n",
      "EvaluatorHoldout: Ignoring 9897 (76.0%) Users that have less than 1 test interactions\n",
      "EvaluatorHoldout: Ignoring 9887 (75.9%) Users that have less than 1 test interactions\n",
      "EvaluatorHoldout: Ignoring 9892 (76.1%) Users that have less than 1 test interactions\n",
      "EvaluatorHoldout: Ignoring 9923 (76.2%) Users that have less than 1 test interactions\n",
      "EvaluatorHoldout: Ignoring 9906 (76.1%) Users that have less than 1 test interactions\n",
      "EvaluatorHoldout: Ignoring 9919 (76.2%) Users that have less than 1 test interactions\n",
      "EvaluatorHoldout: Ignoring 9907 (76.1%) Users that have less than 1 test interactions\n",
      "EvaluatorHoldout: Ignoring 9902 (76.0%) Users that have less than 1 test interactions\n",
      "EvaluatorHoldout: Ignoring 9879 (75.8%) Users that have less than 1 test interactions\n",
      "EvaluatorHoldout: Ignoring 9864 (75.7%) Users that have less than 1 test interactions\n",
      "EvaluatorHoldout: Ignoring 9919 (76.2%) Users that have less than 1 test interactions\n",
      "EvaluatorHoldout: Ignoring 9894 (76.0%) Users that have less than 1 test interactions\n",
      "EvaluatorHoldout: Ignoring 9895 (76.0%) Users that have less than 1 test interactions\n",
      "EvaluatorHoldout: Ignoring 9912 (76.1%) Users that have less than 1 test interactions\n",
      "EvaluatorHoldout: Ignoring 9898 (76.0%) Users that have less than 1 test interactions\n",
      "EvaluatorHoldout: Ignoring 9900 (76.0%) Users that have less than 1 test interactions\n",
      "EvaluatorHoldout: Ignoring 9888 (75.9%) Users that have less than 1 test interactions\n",
      "EvaluatorHoldout: Ignoring 9876 (75.8%) Users that have less than 1 test interactions\n",
      "EvaluatorHoldout: Ignoring 9906 (76.1%) Users that have less than 1 test interactions\n",
      "EvaluatorHoldout: Ignoring 9929 (76.2%) Users that have less than 1 test interactions\n",
      "EvaluatorHoldout: Ignoring 9855 (75.7%) Users that have less than 1 test interactions\n",
      "EvaluatorHoldout: Ignoring 9853 (75.7%) Users that have less than 1 test interactions\n",
      "EvaluatorHoldout: Ignoring 9910 (76.1%) Users that have less than 1 test interactions\n",
      "EvaluatorHoldout: Ignoring 9958 (76.5%) Users that have less than 1 test interactions\n",
      "EvaluatorHoldout: Ignoring 9881 (75.9%) Users that have less than 1 test interactions\n",
      "EvaluatorHoldout: Ignoring 9864 (75.7%) Users that have less than 1 test interactions\n",
      "EvaluatorHoldout: Ignoring 9866 (75.8%) Users that have less than 1 test interactions\n",
      "EvaluatorHoldout: Ignoring 9897 (76.0%) Users that have less than 1 test interactions\n",
      "EvaluatorHoldout: Ignoring 9924 (76.2%) Users that have less than 1 test interactions\n",
      "EvaluatorHoldout: Ignoring 9880 (75.9%) Users that have less than 1 test interactions\n",
      "EvaluatorHoldout: Ignoring 9945 (76.4%) Users that have less than 1 test interactions\n",
      "EvaluatorHoldout: Ignoring 9890 (75.9%) Users that have less than 1 test interactions\n",
      "EvaluatorHoldout: Ignoring 9897 (76.0%) Users that have less than 1 test interactions\n",
      "EvaluatorHoldout: Ignoring 9877 (75.8%) Users that have less than 1 test interactions\n",
      "EvaluatorHoldout: Ignoring 9874 (75.8%) Users that have less than 1 test interactions\n",
      "EvaluatorHoldout: Ignoring 9886 (75.9%) Users that have less than 1 test interactions\n",
      "EvaluatorHoldout: Ignoring 9925 (76.2%) Users that have less than 1 test interactions\n",
      "EvaluatorHoldout: Ignoring 9851 (75.6%) Users that have less than 1 test interactions\n",
      "EvaluatorHoldout: Ignoring 9942 (76.3%) Users that have less than 1 test interactions\n",
      "EvaluatorHoldout: Ignoring 9879 (75.9%) Users that have less than 1 test interactions\n",
      "EvaluatorHoldout: Ignoring 9903 (76.0%) Users that have less than 1 test interactions\n",
      "EvaluatorHoldout: Ignoring 9905 (76.1%) Users that have less than 1 test interactions\n",
      "EvaluatorHoldout: Ignoring 9919 (76.2%) Users that have less than 1 test interactions\n",
      "EvaluatorHoldout: Ignoring 9927 (76.2%) Users that have less than 1 test interactions\n",
      "EvaluatorHoldout: Ignoring 9870 (75.8%) Users that have less than 1 test interactions\n",
      "EvaluatorHoldout: Ignoring 9907 (76.1%) Users that have less than 1 test interactions\n",
      "EvaluatorHoldout: Ignoring 9906 (76.1%) Users that have less than 1 test interactions\n",
      "EvaluatorHoldout: Ignoring 9923 (76.2%) Users that have less than 1 test interactions\n",
      "EvaluatorHoldout: Ignoring 9921 (76.2%) Users that have less than 1 test interactions\n",
      "EvaluatorHoldout: Ignoring 9912 (76.1%) Users that have less than 1 test interactions\n",
      "EvaluatorHoldout: Ignoring 9929 (76.2%) Users that have less than 1 test interactions\n",
      "EvaluatorHoldout: Ignoring 9906 (76.1%) Users that have less than 1 test interactions\n",
      "EvaluatorHoldout: Ignoring 9903 (76.0%) Users that have less than 1 test interactions\n"
     ]
    }
   ],
   "source": [
    "from Evaluation.Evaluator import EvaluatorHoldout\n",
    "evaluators = []\n",
    "\n",
    "for i in range(n_fold):\n",
    "    evaluators.append(EvaluatorHoldout(URM_tests[i], cutoff_list=[10]))"
   ]
  },
  {
   "cell_type": "code",
   "execution_count": 144,
   "metadata": {},
   "outputs": [],
   "source": [
    "from Recommenders.SLIM.SLIMElasticNetRecommender import MultiThreadSLIM_SLIMElasticNetRecommender"
   ]
  },
  {
   "cell_type": "code",
   "execution_count": 145,
   "metadata": {},
   "outputs": [
    {
     "name": "stdout",
     "output_type": "stream",
     "text": [
      "SLIMElasticNetRecommender: URM Detected 396 ( 3.0%) users with no interactions.\n",
      "SLIMElasticNetRecommender: URM Detected 130 ( 0.6%) items with no interactions.\n"
     ]
    },
    {
     "name": "stderr",
     "output_type": "stream",
     "text": [
      "100%|██████████████████████████████████████████████████████████████████████████▉| 22344/22348 [02:23<00:00, 155.37it/s]\n"
     ]
    },
    {
     "name": "stdout",
     "output_type": "stream",
     "text": [
      "SLIMElasticNetRecommender: URM Detected 394 ( 3.0%) users with no interactions.\n",
      "SLIMElasticNetRecommender: URM Detected 130 ( 0.6%) items with no interactions.\n"
     ]
    },
    {
     "name": "stderr",
     "output_type": "stream",
     "text": [
      "100%|██████████████████████████████████████████████████████████████████████████▉| 22344/22348 [03:09<00:00, 117.67it/s]\n"
     ]
    },
    {
     "name": "stdout",
     "output_type": "stream",
     "text": [
      "SLIMElasticNetRecommender: URM Detected 395 ( 3.0%) users with no interactions.\n",
      "SLIMElasticNetRecommender: URM Detected 129 ( 0.6%) items with no interactions.\n"
     ]
    },
    {
     "name": "stderr",
     "output_type": "stream",
     "text": [
      "100%|██████████████████████████████████████████████████████████████████████████▉| 22344/22348 [03:10<00:00, 117.55it/s]\n"
     ]
    },
    {
     "name": "stdout",
     "output_type": "stream",
     "text": [
      "SLIMElasticNetRecommender: URM Detected 398 ( 3.1%) users with no interactions.\n",
      "SLIMElasticNetRecommender: URM Detected 130 ( 0.6%) items with no interactions.\n"
     ]
    },
    {
     "name": "stderr",
     "output_type": "stream",
     "text": [
      "100%|██████████████████████████████████████████████████████████████████████████▉| 22344/22348 [02:27<00:00, 151.28it/s]\n"
     ]
    },
    {
     "name": "stdout",
     "output_type": "stream",
     "text": [
      "SLIMElasticNetRecommender: URM Detected 399 ( 3.1%) users with no interactions.\n",
      "SLIMElasticNetRecommender: URM Detected 134 ( 0.6%) items with no interactions.\n"
     ]
    },
    {
     "name": "stderr",
     "output_type": "stream",
     "text": [
      "100%|██████████████████████████████████████████████████████████████████████████▉| 22344/22348 [03:11<00:00, 116.81it/s]\n"
     ]
    },
    {
     "name": "stdout",
     "output_type": "stream",
     "text": [
      "SLIMElasticNetRecommender: URM Detected 403 ( 3.1%) users with no interactions.\n",
      "SLIMElasticNetRecommender: URM Detected 129 ( 0.6%) items with no interactions.\n"
     ]
    },
    {
     "name": "stderr",
     "output_type": "stream",
     "text": [
      "100%|██████████████████████████████████████████████████████████████████████████▉| 22344/22348 [03:12<00:00, 116.14it/s]\n"
     ]
    },
    {
     "name": "stdout",
     "output_type": "stream",
     "text": [
      "SLIMElasticNetRecommender: URM Detected 392 ( 3.0%) users with no interactions.\n",
      "SLIMElasticNetRecommender: URM Detected 132 ( 0.6%) items with no interactions.\n"
     ]
    },
    {
     "name": "stderr",
     "output_type": "stream",
     "text": [
      "100%|██████████████████████████████████████████████████████████████████████████▉| 22344/22348 [02:27<00:00, 151.14it/s]\n"
     ]
    },
    {
     "name": "stdout",
     "output_type": "stream",
     "text": [
      "SLIMElasticNetRecommender: URM Detected 399 ( 3.1%) users with no interactions.\n",
      "SLIMElasticNetRecommender: URM Detected 131 ( 0.6%) items with no interactions.\n"
     ]
    },
    {
     "name": "stderr",
     "output_type": "stream",
     "text": [
      "100%|██████████████████████████████████████████████████████████████████████████▉| 22344/22348 [03:12<00:00, 116.24it/s]\n"
     ]
    },
    {
     "name": "stdout",
     "output_type": "stream",
     "text": [
      "SLIMElasticNetRecommender: URM Detected 395 ( 3.0%) users with no interactions.\n",
      "SLIMElasticNetRecommender: URM Detected 130 ( 0.6%) items with no interactions.\n"
     ]
    },
    {
     "name": "stderr",
     "output_type": "stream",
     "text": [
      "100%|██████████████████████████████████████████████████████████████████████████▉| 22344/22348 [03:14<00:00, 115.01it/s]\n"
     ]
    },
    {
     "name": "stdout",
     "output_type": "stream",
     "text": [
      "SLIMElasticNetRecommender: URM Detected 397 ( 3.0%) users with no interactions.\n",
      "SLIMElasticNetRecommender: URM Detected 132 ( 0.6%) items with no interactions.\n"
     ]
    },
    {
     "name": "stderr",
     "output_type": "stream",
     "text": [
      "100%|██████████████████████████████████████████████████████████████████████████▉| 22344/22348 [03:08<00:00, 118.44it/s]\n"
     ]
    },
    {
     "name": "stdout",
     "output_type": "stream",
     "text": [
      "SLIMElasticNetRecommender: URM Detected 398 ( 3.1%) users with no interactions.\n",
      "SLIMElasticNetRecommender: URM Detected 129 ( 0.6%) items with no interactions.\n"
     ]
    },
    {
     "name": "stderr",
     "output_type": "stream",
     "text": [
      "100%|██████████████████████████████████████████████████████████████████████████▉| 22344/22348 [02:28<00:00, 150.71it/s]\n"
     ]
    },
    {
     "name": "stdout",
     "output_type": "stream",
     "text": [
      "SLIMElasticNetRecommender: URM Detected 391 ( 3.0%) users with no interactions.\n",
      "SLIMElasticNetRecommender: URM Detected 130 ( 0.6%) items with no interactions.\n"
     ]
    },
    {
     "name": "stderr",
     "output_type": "stream",
     "text": [
      "100%|██████████████████████████████████████████████████████████████████████████▉| 22344/22348 [02:28<00:00, 149.98it/s]\n"
     ]
    },
    {
     "name": "stdout",
     "output_type": "stream",
     "text": [
      "SLIMElasticNetRecommender: URM Detected 398 ( 3.1%) users with no interactions.\n",
      "SLIMElasticNetRecommender: URM Detected 131 ( 0.6%) items with no interactions.\n"
     ]
    },
    {
     "name": "stderr",
     "output_type": "stream",
     "text": [
      "100%|██████████████████████████████████████████████████████████████████████████▉| 22344/22348 [02:29<00:00, 149.00it/s]\n"
     ]
    },
    {
     "name": "stdout",
     "output_type": "stream",
     "text": [
      "SLIMElasticNetRecommender: URM Detected 390 ( 3.0%) users with no interactions.\n",
      "SLIMElasticNetRecommender: URM Detected 128 ( 0.6%) items with no interactions.\n"
     ]
    },
    {
     "name": "stderr",
     "output_type": "stream",
     "text": [
      "100%|██████████████████████████████████████████████████████████████████████████▉| 22344/22348 [03:09<00:00, 118.13it/s]\n"
     ]
    },
    {
     "name": "stdout",
     "output_type": "stream",
     "text": [
      "SLIMElasticNetRecommender: URM Detected 405 ( 3.1%) users with no interactions.\n",
      "SLIMElasticNetRecommender: URM Detected 131 ( 0.6%) items with no interactions.\n"
     ]
    },
    {
     "name": "stderr",
     "output_type": "stream",
     "text": [
      "100%|██████████████████████████████████████████████████████████████████████████▉| 22344/22348 [02:27<00:00, 151.90it/s]\n"
     ]
    },
    {
     "name": "stdout",
     "output_type": "stream",
     "text": [
      "SLIMElasticNetRecommender: URM Detected 398 ( 3.1%) users with no interactions.\n",
      "SLIMElasticNetRecommender: URM Detected 132 ( 0.6%) items with no interactions.\n"
     ]
    },
    {
     "name": "stderr",
     "output_type": "stream",
     "text": [
      "100%|██████████████████████████████████████████████████████████████████████████▉| 22344/22348 [02:28<00:00, 150.45it/s]\n"
     ]
    },
    {
     "name": "stdout",
     "output_type": "stream",
     "text": [
      "SLIMElasticNetRecommender: URM Detected 397 ( 3.0%) users with no interactions.\n",
      "SLIMElasticNetRecommender: URM Detected 129 ( 0.6%) items with no interactions.\n"
     ]
    },
    {
     "name": "stderr",
     "output_type": "stream",
     "text": [
      "100%|██████████████████████████████████████████████████████████████████████████▉| 22344/22348 [02:29<00:00, 149.33it/s]\n"
     ]
    },
    {
     "name": "stdout",
     "output_type": "stream",
     "text": [
      "SLIMElasticNetRecommender: URM Detected 399 ( 3.1%) users with no interactions.\n",
      "SLIMElasticNetRecommender: URM Detected 128 ( 0.6%) items with no interactions.\n"
     ]
    },
    {
     "name": "stderr",
     "output_type": "stream",
     "text": [
      "100%|██████████████████████████████████████████████████████████████████████████▉| 22344/22348 [03:12<00:00, 116.20it/s]\n"
     ]
    },
    {
     "name": "stdout",
     "output_type": "stream",
     "text": [
      "SLIMElasticNetRecommender: URM Detected 395 ( 3.0%) users with no interactions.\n",
      "SLIMElasticNetRecommender: URM Detected 127 ( 0.6%) items with no interactions.\n"
     ]
    },
    {
     "name": "stderr",
     "output_type": "stream",
     "text": [
      "100%|██████████████████████████████████████████████████████████████████████████▉| 22344/22348 [02:28<00:00, 150.40it/s]\n"
     ]
    },
    {
     "name": "stdout",
     "output_type": "stream",
     "text": [
      "SLIMElasticNetRecommender: URM Detected 396 ( 3.0%) users with no interactions.\n",
      "SLIMElasticNetRecommender: URM Detected 134 ( 0.6%) items with no interactions.\n"
     ]
    },
    {
     "name": "stderr",
     "output_type": "stream",
     "text": [
      "100%|██████████████████████████████████████████████████████████████████████████▉| 22344/22348 [03:11<00:00, 116.67it/s]\n"
     ]
    },
    {
     "name": "stdout",
     "output_type": "stream",
     "text": [
      "SLIMElasticNetRecommender: URM Detected 395 ( 3.0%) users with no interactions.\n",
      "SLIMElasticNetRecommender: URM Detected 129 ( 0.6%) items with no interactions.\n"
     ]
    },
    {
     "name": "stderr",
     "output_type": "stream",
     "text": [
      "100%|██████████████████████████████████████████████████████████████████████████▉| 22344/22348 [03:11<00:00, 116.71it/s]\n"
     ]
    },
    {
     "name": "stdout",
     "output_type": "stream",
     "text": [
      "SLIMElasticNetRecommender: URM Detected 399 ( 3.1%) users with no interactions.\n",
      "SLIMElasticNetRecommender: URM Detected 133 ( 0.6%) items with no interactions.\n"
     ]
    },
    {
     "name": "stderr",
     "output_type": "stream",
     "text": [
      "100%|██████████████████████████████████████████████████████████████████████████▉| 22344/22348 [03:12<00:00, 116.06it/s]\n"
     ]
    },
    {
     "name": "stdout",
     "output_type": "stream",
     "text": [
      "SLIMElasticNetRecommender: URM Detected 391 ( 3.0%) users with no interactions.\n",
      "SLIMElasticNetRecommender: URM Detected 131 ( 0.6%) items with no interactions.\n"
     ]
    },
    {
     "name": "stderr",
     "output_type": "stream",
     "text": [
      "100%|██████████████████████████████████████████████████████████████████████████▉| 22344/22348 [02:29<00:00, 149.70it/s]\n"
     ]
    },
    {
     "name": "stdout",
     "output_type": "stream",
     "text": [
      "SLIMElasticNetRecommender: URM Detected 394 ( 3.0%) users with no interactions.\n",
      "SLIMElasticNetRecommender: URM Detected 128 ( 0.6%) items with no interactions.\n"
     ]
    },
    {
     "name": "stderr",
     "output_type": "stream",
     "text": [
      "100%|██████████████████████████████████████████████████████████████████████████▉| 22344/22348 [02:27<00:00, 151.80it/s]\n"
     ]
    },
    {
     "name": "stdout",
     "output_type": "stream",
     "text": [
      "SLIMElasticNetRecommender: URM Detected 397 ( 3.0%) users with no interactions.\n",
      "SLIMElasticNetRecommender: URM Detected 130 ( 0.6%) items with no interactions.\n"
     ]
    },
    {
     "name": "stderr",
     "output_type": "stream",
     "text": [
      "100%|██████████████████████████████████████████████████████████████████████████▉| 22344/22348 [03:10<00:00, 117.03it/s]\n"
     ]
    },
    {
     "name": "stdout",
     "output_type": "stream",
     "text": [
      "SLIMElasticNetRecommender: URM Detected 396 ( 3.0%) users with no interactions.\n",
      "SLIMElasticNetRecommender: URM Detected 132 ( 0.6%) items with no interactions.\n"
     ]
    },
    {
     "name": "stderr",
     "output_type": "stream",
     "text": [
      "100%|██████████████████████████████████████████████████████████████████████████▉| 22344/22348 [02:31<00:00, 147.41it/s]\n"
     ]
    },
    {
     "name": "stdout",
     "output_type": "stream",
     "text": [
      "SLIMElasticNetRecommender: URM Detected 399 ( 3.1%) users with no interactions.\n",
      "SLIMElasticNetRecommender: URM Detected 128 ( 0.6%) items with no interactions.\n"
     ]
    },
    {
     "name": "stderr",
     "output_type": "stream",
     "text": [
      "100%|██████████████████████████████████████████████████████████████████████████▉| 22344/22348 [02:30<00:00, 148.91it/s]\n"
     ]
    },
    {
     "name": "stdout",
     "output_type": "stream",
     "text": [
      "SLIMElasticNetRecommender: URM Detected 397 ( 3.0%) users with no interactions.\n",
      "SLIMElasticNetRecommender: URM Detected 131 ( 0.6%) items with no interactions.\n"
     ]
    },
    {
     "name": "stderr",
     "output_type": "stream",
     "text": [
      "100%|██████████████████████████████████████████████████████████████████████████▉| 22344/22348 [02:28<00:00, 150.75it/s]\n"
     ]
    },
    {
     "name": "stdout",
     "output_type": "stream",
     "text": [
      "SLIMElasticNetRecommender: URM Detected 393 ( 3.0%) users with no interactions.\n",
      "SLIMElasticNetRecommender: URM Detected 131 ( 0.6%) items with no interactions.\n"
     ]
    },
    {
     "name": "stderr",
     "output_type": "stream",
     "text": [
      "100%|██████████████████████████████████████████████████████████████████████████▉| 22344/22348 [02:30<00:00, 148.69it/s]\n"
     ]
    },
    {
     "name": "stdout",
     "output_type": "stream",
     "text": [
      "SLIMElasticNetRecommender: URM Detected 396 ( 3.0%) users with no interactions.\n",
      "SLIMElasticNetRecommender: URM Detected 131 ( 0.6%) items with no interactions.\n"
     ]
    },
    {
     "name": "stderr",
     "output_type": "stream",
     "text": [
      "100%|██████████████████████████████████████████████████████████████████████████▉| 22344/22348 [02:27<00:00, 151.62it/s]\n"
     ]
    },
    {
     "name": "stdout",
     "output_type": "stream",
     "text": [
      "SLIMElasticNetRecommender: URM Detected 394 ( 3.0%) users with no interactions.\n",
      "SLIMElasticNetRecommender: URM Detected 128 ( 0.6%) items with no interactions.\n"
     ]
    },
    {
     "name": "stderr",
     "output_type": "stream",
     "text": [
      "100%|██████████████████████████████████████████████████████████████████████████▉| 22344/22348 [02:27<00:00, 151.47it/s]\n"
     ]
    },
    {
     "name": "stdout",
     "output_type": "stream",
     "text": [
      "SLIMElasticNetRecommender: URM Detected 394 ( 3.0%) users with no interactions.\n",
      "SLIMElasticNetRecommender: URM Detected 130 ( 0.6%) items with no interactions.\n"
     ]
    },
    {
     "name": "stderr",
     "output_type": "stream",
     "text": [
      "100%|██████████████████████████████████████████████████████████████████████████▉| 22344/22348 [03:09<00:00, 117.75it/s]\n"
     ]
    },
    {
     "name": "stdout",
     "output_type": "stream",
     "text": [
      "SLIMElasticNetRecommender: URM Detected 398 ( 3.1%) users with no interactions.\n",
      "SLIMElasticNetRecommender: URM Detected 131 ( 0.6%) items with no interactions.\n"
     ]
    },
    {
     "name": "stderr",
     "output_type": "stream",
     "text": [
      "100%|██████████████████████████████████████████████████████████████████████████▉| 22344/22348 [03:10<00:00, 117.57it/s]\n"
     ]
    },
    {
     "name": "stdout",
     "output_type": "stream",
     "text": [
      "SLIMElasticNetRecommender: URM Detected 394 ( 3.0%) users with no interactions.\n",
      "SLIMElasticNetRecommender: URM Detected 128 ( 0.6%) items with no interactions.\n"
     ]
    },
    {
     "name": "stderr",
     "output_type": "stream",
     "text": [
      "100%|██████████████████████████████████████████████████████████████████████████▉| 22344/22348 [03:12<00:00, 116.08it/s]\n"
     ]
    },
    {
     "name": "stdout",
     "output_type": "stream",
     "text": [
      "SLIMElasticNetRecommender: URM Detected 397 ( 3.0%) users with no interactions.\n",
      "SLIMElasticNetRecommender: URM Detected 129 ( 0.6%) items with no interactions.\n"
     ]
    },
    {
     "name": "stderr",
     "output_type": "stream",
     "text": [
      "100%|██████████████████████████████████████████████████████████████████████████▉| 22344/22348 [02:28<00:00, 150.85it/s]\n"
     ]
    },
    {
     "name": "stdout",
     "output_type": "stream",
     "text": [
      "SLIMElasticNetRecommender: URM Detected 400 ( 3.1%) users with no interactions.\n",
      "SLIMElasticNetRecommender: URM Detected 129 ( 0.6%) items with no interactions.\n"
     ]
    },
    {
     "name": "stderr",
     "output_type": "stream",
     "text": [
      "100%|██████████████████████████████████████████████████████████████████████████▉| 22344/22348 [03:11<00:00, 116.88it/s]\n"
     ]
    },
    {
     "name": "stdout",
     "output_type": "stream",
     "text": [
      "SLIMElasticNetRecommender: URM Detected 397 ( 3.0%) users with no interactions.\n",
      "SLIMElasticNetRecommender: URM Detected 128 ( 0.6%) items with no interactions.\n"
     ]
    },
    {
     "name": "stderr",
     "output_type": "stream",
     "text": [
      "100%|██████████████████████████████████████████████████████████████████████████▉| 22344/22348 [03:10<00:00, 117.06it/s]\n"
     ]
    },
    {
     "name": "stdout",
     "output_type": "stream",
     "text": [
      "SLIMElasticNetRecommender: URM Detected 401 ( 3.1%) users with no interactions.\n",
      "SLIMElasticNetRecommender: URM Detected 128 ( 0.6%) items with no interactions.\n"
     ]
    },
    {
     "name": "stderr",
     "output_type": "stream",
     "text": [
      "100%|██████████████████████████████████████████████████████████████████████████▉| 22344/22348 [03:11<00:00, 116.66it/s]\n"
     ]
    },
    {
     "name": "stdout",
     "output_type": "stream",
     "text": [
      "SLIMElasticNetRecommender: URM Detected 396 ( 3.0%) users with no interactions.\n",
      "SLIMElasticNetRecommender: URM Detected 130 ( 0.6%) items with no interactions.\n"
     ]
    },
    {
     "name": "stderr",
     "output_type": "stream",
     "text": [
      "100%|██████████████████████████████████████████████████████████████████████████▉| 22344/22348 [02:30<00:00, 148.02it/s]\n"
     ]
    },
    {
     "name": "stdout",
     "output_type": "stream",
     "text": [
      "SLIMElasticNetRecommender: URM Detected 395 ( 3.0%) users with no interactions.\n",
      "SLIMElasticNetRecommender: URM Detected 129 ( 0.6%) items with no interactions.\n"
     ]
    },
    {
     "name": "stderr",
     "output_type": "stream",
     "text": [
      "100%|██████████████████████████████████████████████████████████████████████████▉| 22344/22348 [02:30<00:00, 148.26it/s]\n"
     ]
    },
    {
     "name": "stdout",
     "output_type": "stream",
     "text": [
      "SLIMElasticNetRecommender: URM Detected 399 ( 3.1%) users with no interactions.\n",
      "SLIMElasticNetRecommender: URM Detected 128 ( 0.6%) items with no interactions.\n"
     ]
    },
    {
     "name": "stderr",
     "output_type": "stream",
     "text": [
      "100%|██████████████████████████████████████████████████████████████████████████▉| 22344/22348 [03:12<00:00, 116.03it/s]\n"
     ]
    },
    {
     "name": "stdout",
     "output_type": "stream",
     "text": [
      "SLIMElasticNetRecommender: URM Detected 396 ( 3.0%) users with no interactions.\n",
      "SLIMElasticNetRecommender: URM Detected 128 ( 0.6%) items with no interactions.\n"
     ]
    },
    {
     "name": "stderr",
     "output_type": "stream",
     "text": [
      "100%|██████████████████████████████████████████████████████████████████████████▉| 22344/22348 [03:09<00:00, 117.68it/s]\n"
     ]
    },
    {
     "name": "stdout",
     "output_type": "stream",
     "text": [
      "SLIMElasticNetRecommender: URM Detected 397 ( 3.0%) users with no interactions.\n",
      "SLIMElasticNetRecommender: URM Detected 129 ( 0.6%) items with no interactions.\n"
     ]
    },
    {
     "name": "stderr",
     "output_type": "stream",
     "text": [
      "100%|██████████████████████████████████████████████████████████████████████████▉| 22344/22348 [03:10<00:00, 117.54it/s]\n"
     ]
    },
    {
     "name": "stdout",
     "output_type": "stream",
     "text": [
      "SLIMElasticNetRecommender: URM Detected 399 ( 3.1%) users with no interactions.\n",
      "SLIMElasticNetRecommender: URM Detected 128 ( 0.6%) items with no interactions.\n"
     ]
    },
    {
     "name": "stderr",
     "output_type": "stream",
     "text": [
      "100%|██████████████████████████████████████████████████████████████████████████▉| 22344/22348 [03:10<00:00, 117.13it/s]\n"
     ]
    },
    {
     "name": "stdout",
     "output_type": "stream",
     "text": [
      "SLIMElasticNetRecommender: URM Detected 396 ( 3.0%) users with no interactions.\n",
      "SLIMElasticNetRecommender: URM Detected 130 ( 0.6%) items with no interactions.\n"
     ]
    },
    {
     "name": "stderr",
     "output_type": "stream",
     "text": [
      "100%|██████████████████████████████████████████████████████████████████████████▉| 22344/22348 [02:30<00:00, 148.56it/s]\n"
     ]
    },
    {
     "name": "stdout",
     "output_type": "stream",
     "text": [
      "SLIMElasticNetRecommender: URM Detected 399 ( 3.1%) users with no interactions.\n",
      "SLIMElasticNetRecommender: URM Detected 131 ( 0.6%) items with no interactions.\n"
     ]
    },
    {
     "name": "stderr",
     "output_type": "stream",
     "text": [
      "100%|██████████████████████████████████████████████████████████████████████████▉| 22344/22348 [03:11<00:00, 116.75it/s]\n"
     ]
    },
    {
     "name": "stdout",
     "output_type": "stream",
     "text": [
      "SLIMElasticNetRecommender: URM Detected 401 ( 3.1%) users with no interactions.\n",
      "SLIMElasticNetRecommender: URM Detected 128 ( 0.6%) items with no interactions.\n"
     ]
    },
    {
     "name": "stderr",
     "output_type": "stream",
     "text": [
      "100%|██████████████████████████████████████████████████████████████████████████▉| 22344/22348 [02:26<00:00, 152.82it/s]\n"
     ]
    },
    {
     "name": "stdout",
     "output_type": "stream",
     "text": [
      "SLIMElasticNetRecommender: URM Detected 392 ( 3.0%) users with no interactions.\n",
      "SLIMElasticNetRecommender: URM Detected 128 ( 0.6%) items with no interactions.\n"
     ]
    },
    {
     "name": "stderr",
     "output_type": "stream",
     "text": [
      "100%|██████████████████████████████████████████████████████████████████████████▉| 22344/22348 [02:28<00:00, 150.35it/s]\n"
     ]
    },
    {
     "name": "stdout",
     "output_type": "stream",
     "text": [
      "SLIMElasticNetRecommender: URM Detected 395 ( 3.0%) users with no interactions.\n",
      "SLIMElasticNetRecommender: URM Detected 128 ( 0.6%) items with no interactions.\n"
     ]
    },
    {
     "name": "stderr",
     "output_type": "stream",
     "text": [
      "100%|██████████████████████████████████████████████████████████████████████████▉| 22344/22348 [02:28<00:00, 150.87it/s]\n"
     ]
    },
    {
     "name": "stdout",
     "output_type": "stream",
     "text": [
      "SLIMElasticNetRecommender: URM Detected 397 ( 3.0%) users with no interactions.\n",
      "SLIMElasticNetRecommender: URM Detected 131 ( 0.6%) items with no interactions.\n"
     ]
    },
    {
     "name": "stderr",
     "output_type": "stream",
     "text": [
      "100%|██████████████████████████████████████████████████████████████████████████▉| 22344/22348 [02:29<00:00, 149.11it/s]\n"
     ]
    },
    {
     "name": "stdout",
     "output_type": "stream",
     "text": [
      "SLIMElasticNetRecommender: URM Detected 394 ( 3.0%) users with no interactions.\n",
      "SLIMElasticNetRecommender: URM Detected 130 ( 0.6%) items with no interactions.\n"
     ]
    },
    {
     "name": "stderr",
     "output_type": "stream",
     "text": [
      "100%|██████████████████████████████████████████████████████████████████████████▉| 22344/22348 [02:29<00:00, 149.53it/s]\n"
     ]
    },
    {
     "name": "stdout",
     "output_type": "stream",
     "text": [
      "SLIMElasticNetRecommender: URM Detected 398 ( 3.1%) users with no interactions.\n",
      "SLIMElasticNetRecommender: URM Detected 129 ( 0.6%) items with no interactions.\n"
     ]
    },
    {
     "name": "stderr",
     "output_type": "stream",
     "text": [
      "100%|██████████████████████████████████████████████████████████████████████████▉| 22344/22348 [02:31<00:00, 147.87it/s]\n"
     ]
    },
    {
     "name": "stdout",
     "output_type": "stream",
     "text": [
      "SLIMElasticNetRecommender: URM Detected 395 ( 3.0%) users with no interactions.\n",
      "SLIMElasticNetRecommender: URM Detected 128 ( 0.6%) items with no interactions.\n"
     ]
    },
    {
     "name": "stderr",
     "output_type": "stream",
     "text": [
      "100%|██████████████████████████████████████████████████████████████████████████▉| 22344/22348 [03:11<00:00, 116.88it/s]\n"
     ]
    },
    {
     "name": "stdout",
     "output_type": "stream",
     "text": [
      "SLIMElasticNetRecommender: URM Detected 397 ( 3.0%) users with no interactions.\n",
      "SLIMElasticNetRecommender: URM Detected 129 ( 0.6%) items with no interactions.\n"
     ]
    },
    {
     "name": "stderr",
     "output_type": "stream",
     "text": [
      "100%|██████████████████████████████████████████████████████████████████████████▉| 22344/22348 [02:29<00:00, 149.14it/s]\n"
     ]
    },
    {
     "name": "stdout",
     "output_type": "stream",
     "text": [
      "SLIMElasticNetRecommender: URM Detected 394 ( 3.0%) users with no interactions.\n",
      "SLIMElasticNetRecommender: URM Detected 130 ( 0.6%) items with no interactions.\n"
     ]
    },
    {
     "name": "stderr",
     "output_type": "stream",
     "text": [
      "100%|██████████████████████████████████████████████████████████████████████████▉| 22344/22348 [02:29<00:00, 149.73it/s]\n"
     ]
    },
    {
     "name": "stdout",
     "output_type": "stream",
     "text": [
      "SLIMElasticNetRecommender: URM Detected 396 ( 3.0%) users with no interactions.\n",
      "SLIMElasticNetRecommender: URM Detected 130 ( 0.6%) items with no interactions.\n"
     ]
    },
    {
     "name": "stderr",
     "output_type": "stream",
     "text": [
      "100%|██████████████████████████████████████████████████████████████████████████▉| 22344/22348 [02:25<00:00, 153.32it/s]\n"
     ]
    },
    {
     "name": "stdout",
     "output_type": "stream",
     "text": [
      "SLIMElasticNetRecommender: URM Detected 400 ( 3.1%) users with no interactions.\n",
      "SLIMElasticNetRecommender: URM Detected 132 ( 0.6%) items with no interactions.\n"
     ]
    },
    {
     "name": "stderr",
     "output_type": "stream",
     "text": [
      "100%|██████████████████████████████████████████████████████████████████████████▉| 22344/22348 [03:11<00:00, 116.41it/s]\n"
     ]
    },
    {
     "name": "stdout",
     "output_type": "stream",
     "text": [
      "SLIMElasticNetRecommender: URM Detected 394 ( 3.0%) users with no interactions.\n",
      "SLIMElasticNetRecommender: URM Detected 129 ( 0.6%) items with no interactions.\n"
     ]
    },
    {
     "name": "stderr",
     "output_type": "stream",
     "text": [
      "100%|██████████████████████████████████████████████████████████████████████████▉| 22344/22348 [03:11<00:00, 116.61it/s]\n"
     ]
    },
    {
     "name": "stdout",
     "output_type": "stream",
     "text": [
      "SLIMElasticNetRecommender: URM Detected 394 ( 3.0%) users with no interactions.\n",
      "SLIMElasticNetRecommender: URM Detected 131 ( 0.6%) items with no interactions.\n"
     ]
    },
    {
     "name": "stderr",
     "output_type": "stream",
     "text": [
      "100%|██████████████████████████████████████████████████████████████████████████▉| 22344/22348 [03:10<00:00, 117.07it/s]\n"
     ]
    },
    {
     "name": "stdout",
     "output_type": "stream",
     "text": [
      "SLIMElasticNetRecommender: URM Detected 395 ( 3.0%) users with no interactions.\n",
      "SLIMElasticNetRecommender: URM Detected 129 ( 0.6%) items with no interactions.\n"
     ]
    },
    {
     "name": "stderr",
     "output_type": "stream",
     "text": [
      "100%|██████████████████████████████████████████████████████████████████████████▉| 22344/22348 [02:29<00:00, 149.13it/s]\n"
     ]
    },
    {
     "name": "stdout",
     "output_type": "stream",
     "text": [
      "SLIMElasticNetRecommender: URM Detected 400 ( 3.1%) users with no interactions.\n",
      "SLIMElasticNetRecommender: URM Detected 130 ( 0.6%) items with no interactions.\n"
     ]
    },
    {
     "name": "stderr",
     "output_type": "stream",
     "text": [
      "100%|██████████████████████████████████████████████████████████████████████████▉| 22344/22348 [03:11<00:00, 116.87it/s]\n"
     ]
    },
    {
     "name": "stdout",
     "output_type": "stream",
     "text": [
      "SLIMElasticNetRecommender: URM Detected 402 ( 3.1%) users with no interactions.\n",
      "SLIMElasticNetRecommender: URM Detected 129 ( 0.6%) items with no interactions.\n"
     ]
    },
    {
     "name": "stderr",
     "output_type": "stream",
     "text": [
      "100%|██████████████████████████████████████████████████████████████████████████▉| 22344/22348 [03:12<00:00, 115.84it/s]\n"
     ]
    },
    {
     "name": "stdout",
     "output_type": "stream",
     "text": [
      "SLIMElasticNetRecommender: URM Detected 400 ( 3.1%) users with no interactions.\n",
      "SLIMElasticNetRecommender: URM Detected 126 ( 0.6%) items with no interactions.\n"
     ]
    },
    {
     "name": "stderr",
     "output_type": "stream",
     "text": [
      "100%|██████████████████████████████████████████████████████████████████████████▉| 22344/22348 [03:10<00:00, 117.38it/s]\n"
     ]
    },
    {
     "name": "stdout",
     "output_type": "stream",
     "text": [
      "SLIMElasticNetRecommender: URM Detected 397 ( 3.0%) users with no interactions.\n",
      "SLIMElasticNetRecommender: URM Detected 132 ( 0.6%) items with no interactions.\n"
     ]
    },
    {
     "name": "stderr",
     "output_type": "stream",
     "text": [
      "100%|██████████████████████████████████████████████████████████████████████████▉| 22344/22348 [03:10<00:00, 117.45it/s]\n"
     ]
    },
    {
     "name": "stdout",
     "output_type": "stream",
     "text": [
      "SLIMElasticNetRecommender: URM Detected 394 ( 3.0%) users with no interactions.\n",
      "SLIMElasticNetRecommender: URM Detected 127 ( 0.6%) items with no interactions.\n"
     ]
    },
    {
     "name": "stderr",
     "output_type": "stream",
     "text": [
      "100%|██████████████████████████████████████████████████████████████████████████▉| 22344/22348 [03:10<00:00, 117.07it/s]\n"
     ]
    },
    {
     "name": "stdout",
     "output_type": "stream",
     "text": [
      "SLIMElasticNetRecommender: URM Detected 395 ( 3.0%) users with no interactions.\n",
      "SLIMElasticNetRecommender: URM Detected 129 ( 0.6%) items with no interactions.\n"
     ]
    },
    {
     "name": "stderr",
     "output_type": "stream",
     "text": [
      "100%|██████████████████████████████████████████████████████████████████████████▉| 22344/22348 [02:28<00:00, 150.75it/s]\n"
     ]
    },
    {
     "name": "stdout",
     "output_type": "stream",
     "text": [
      "SLIMElasticNetRecommender: URM Detected 393 ( 3.0%) users with no interactions.\n",
      "SLIMElasticNetRecommender: URM Detected 130 ( 0.6%) items with no interactions.\n"
     ]
    },
    {
     "name": "stderr",
     "output_type": "stream",
     "text": [
      "100%|██████████████████████████████████████████████████████████████████████████▉| 22344/22348 [02:27<00:00, 151.12it/s]\n"
     ]
    },
    {
     "name": "stdout",
     "output_type": "stream",
     "text": [
      "SLIMElasticNetRecommender: URM Detected 392 ( 3.0%) users with no interactions.\n",
      "SLIMElasticNetRecommender: URM Detected 131 ( 0.6%) items with no interactions.\n"
     ]
    },
    {
     "name": "stderr",
     "output_type": "stream",
     "text": [
      "100%|██████████████████████████████████████████████████████████████████████████▉| 22344/22348 [02:30<00:00, 148.74it/s]\n"
     ]
    },
    {
     "name": "stdout",
     "output_type": "stream",
     "text": [
      "SLIMElasticNetRecommender: URM Detected 396 ( 3.0%) users with no interactions.\n",
      "SLIMElasticNetRecommender: URM Detected 130 ( 0.6%) items with no interactions.\n"
     ]
    },
    {
     "name": "stderr",
     "output_type": "stream",
     "text": [
      "100%|██████████████████████████████████████████████████████████████████████████▉| 22344/22348 [03:12<00:00, 116.34it/s]\n"
     ]
    },
    {
     "name": "stdout",
     "output_type": "stream",
     "text": [
      "SLIMElasticNetRecommender: URM Detected 393 ( 3.0%) users with no interactions.\n",
      "SLIMElasticNetRecommender: URM Detected 127 ( 0.6%) items with no interactions.\n"
     ]
    },
    {
     "name": "stderr",
     "output_type": "stream",
     "text": [
      "100%|██████████████████████████████████████████████████████████████████████████▉| 22344/22348 [02:27<00:00, 151.92it/s]\n"
     ]
    },
    {
     "name": "stdout",
     "output_type": "stream",
     "text": [
      "SLIMElasticNetRecommender: URM Detected 390 ( 3.0%) users with no interactions.\n",
      "SLIMElasticNetRecommender: URM Detected 133 ( 0.6%) items with no interactions.\n"
     ]
    },
    {
     "name": "stderr",
     "output_type": "stream",
     "text": [
      "100%|██████████████████████████████████████████████████████████████████████████▉| 22344/22348 [03:10<00:00, 117.52it/s]\n"
     ]
    },
    {
     "name": "stdout",
     "output_type": "stream",
     "text": [
      "SLIMElasticNetRecommender: URM Detected 402 ( 3.1%) users with no interactions.\n",
      "SLIMElasticNetRecommender: URM Detected 129 ( 0.6%) items with no interactions.\n"
     ]
    },
    {
     "name": "stderr",
     "output_type": "stream",
     "text": [
      "100%|██████████████████████████████████████████████████████████████████████████▉| 22344/22348 [02:28<00:00, 150.07it/s]\n"
     ]
    },
    {
     "name": "stdout",
     "output_type": "stream",
     "text": [
      "SLIMElasticNetRecommender: URM Detected 393 ( 3.0%) users with no interactions.\n",
      "SLIMElasticNetRecommender: URM Detected 130 ( 0.6%) items with no interactions.\n"
     ]
    },
    {
     "name": "stderr",
     "output_type": "stream",
     "text": [
      "100%|██████████████████████████████████████████████████████████████████████████▉| 22344/22348 [02:30<00:00, 148.39it/s]\n"
     ]
    },
    {
     "name": "stdout",
     "output_type": "stream",
     "text": [
      "SLIMElasticNetRecommender: URM Detected 395 ( 3.0%) users with no interactions.\n",
      "SLIMElasticNetRecommender: URM Detected 133 ( 0.6%) items with no interactions.\n"
     ]
    },
    {
     "name": "stderr",
     "output_type": "stream",
     "text": [
      "100%|██████████████████████████████████████████████████████████████████████████▉| 22344/22348 [02:30<00:00, 148.27it/s]\n"
     ]
    },
    {
     "name": "stdout",
     "output_type": "stream",
     "text": [
      "SLIMElasticNetRecommender: URM Detected 401 ( 3.1%) users with no interactions.\n",
      "SLIMElasticNetRecommender: URM Detected 129 ( 0.6%) items with no interactions.\n"
     ]
    },
    {
     "name": "stderr",
     "output_type": "stream",
     "text": [
      "100%|██████████████████████████████████████████████████████████████████████████▉| 22344/22348 [03:11<00:00, 116.90it/s]\n"
     ]
    },
    {
     "name": "stdout",
     "output_type": "stream",
     "text": [
      "SLIMElasticNetRecommender: URM Detected 399 ( 3.1%) users with no interactions.\n",
      "SLIMElasticNetRecommender: URM Detected 127 ( 0.6%) items with no interactions.\n"
     ]
    },
    {
     "name": "stderr",
     "output_type": "stream",
     "text": [
      "100%|██████████████████████████████████████████████████████████████████████████▉| 22344/22348 [02:28<00:00, 150.39it/s]\n"
     ]
    },
    {
     "name": "stdout",
     "output_type": "stream",
     "text": [
      "SLIMElasticNetRecommender: URM Detected 401 ( 3.1%) users with no interactions.\n",
      "SLIMElasticNetRecommender: URM Detected 132 ( 0.6%) items with no interactions.\n"
     ]
    },
    {
     "name": "stderr",
     "output_type": "stream",
     "text": [
      "100%|██████████████████████████████████████████████████████████████████████████▉| 22344/22348 [02:27<00:00, 151.75it/s]\n"
     ]
    },
    {
     "name": "stdout",
     "output_type": "stream",
     "text": [
      "SLIMElasticNetRecommender: URM Detected 400 ( 3.1%) users with no interactions.\n",
      "SLIMElasticNetRecommender: URM Detected 130 ( 0.6%) items with no interactions.\n"
     ]
    },
    {
     "name": "stderr",
     "output_type": "stream",
     "text": [
      "100%|██████████████████████████████████████████████████████████████████████████▉| 22344/22348 [03:10<00:00, 117.36it/s]\n"
     ]
    },
    {
     "name": "stdout",
     "output_type": "stream",
     "text": [
      "SLIMElasticNetRecommender: URM Detected 393 ( 3.0%) users with no interactions.\n",
      "SLIMElasticNetRecommender: URM Detected 131 ( 0.6%) items with no interactions.\n"
     ]
    },
    {
     "name": "stderr",
     "output_type": "stream",
     "text": [
      "100%|██████████████████████████████████████████████████████████████████████████▉| 22344/22348 [02:30<00:00, 148.22it/s]\n"
     ]
    },
    {
     "name": "stdout",
     "output_type": "stream",
     "text": [
      "SLIMElasticNetRecommender: URM Detected 396 ( 3.0%) users with no interactions.\n",
      "SLIMElasticNetRecommender: URM Detected 133 ( 0.6%) items with no interactions.\n"
     ]
    },
    {
     "name": "stderr",
     "output_type": "stream",
     "text": [
      "100%|██████████████████████████████████████████████████████████████████████████▉| 22344/22348 [02:30<00:00, 148.64it/s]\n"
     ]
    },
    {
     "name": "stdout",
     "output_type": "stream",
     "text": [
      "SLIMElasticNetRecommender: URM Detected 396 ( 3.0%) users with no interactions.\n",
      "SLIMElasticNetRecommender: URM Detected 132 ( 0.6%) items with no interactions.\n"
     ]
    },
    {
     "name": "stderr",
     "output_type": "stream",
     "text": [
      "100%|██████████████████████████████████████████████████████████████████████████▉| 22344/22348 [02:31<00:00, 147.62it/s]\n"
     ]
    },
    {
     "name": "stdout",
     "output_type": "stream",
     "text": [
      "SLIMElasticNetRecommender: URM Detected 400 ( 3.1%) users with no interactions.\n",
      "SLIMElasticNetRecommender: URM Detected 130 ( 0.6%) items with no interactions.\n"
     ]
    },
    {
     "name": "stderr",
     "output_type": "stream",
     "text": [
      "100%|██████████████████████████████████████████████████████████████████████████▉| 22344/22348 [03:12<00:00, 116.31it/s]\n"
     ]
    },
    {
     "name": "stdout",
     "output_type": "stream",
     "text": [
      "SLIMElasticNetRecommender: URM Detected 395 ( 3.0%) users with no interactions.\n",
      "SLIMElasticNetRecommender: URM Detected 133 ( 0.6%) items with no interactions.\n"
     ]
    },
    {
     "name": "stderr",
     "output_type": "stream",
     "text": [
      "100%|██████████████████████████████████████████████████████████████████████████▉| 22344/22348 [03:14<00:00, 114.74it/s]\n"
     ]
    },
    {
     "name": "stdout",
     "output_type": "stream",
     "text": [
      "SLIMElasticNetRecommender: URM Detected 398 ( 3.1%) users with no interactions.\n",
      "SLIMElasticNetRecommender: URM Detected 132 ( 0.6%) items with no interactions.\n"
     ]
    },
    {
     "name": "stderr",
     "output_type": "stream",
     "text": [
      "100%|██████████████████████████████████████████████████████████████████████████▉| 22344/22348 [03:11<00:00, 116.74it/s]\n"
     ]
    },
    {
     "name": "stdout",
     "output_type": "stream",
     "text": [
      "SLIMElasticNetRecommender: URM Detected 396 ( 3.0%) users with no interactions.\n",
      "SLIMElasticNetRecommender: URM Detected 130 ( 0.6%) items with no interactions.\n"
     ]
    },
    {
     "name": "stderr",
     "output_type": "stream",
     "text": [
      "100%|██████████████████████████████████████████████████████████████████████████▉| 22344/22348 [02:30<00:00, 148.24it/s]\n"
     ]
    },
    {
     "name": "stdout",
     "output_type": "stream",
     "text": [
      "SLIMElasticNetRecommender: URM Detected 397 ( 3.0%) users with no interactions.\n",
      "SLIMElasticNetRecommender: URM Detected 131 ( 0.6%) items with no interactions.\n"
     ]
    },
    {
     "name": "stderr",
     "output_type": "stream",
     "text": [
      "100%|██████████████████████████████████████████████████████████████████████████▉| 22344/22348 [03:12<00:00, 116.24it/s]\n"
     ]
    },
    {
     "name": "stdout",
     "output_type": "stream",
     "text": [
      "SLIMElasticNetRecommender: URM Detected 400 ( 3.1%) users with no interactions.\n",
      "SLIMElasticNetRecommender: URM Detected 129 ( 0.6%) items with no interactions.\n"
     ]
    },
    {
     "name": "stderr",
     "output_type": "stream",
     "text": [
      "100%|██████████████████████████████████████████████████████████████████████████▉| 22344/22348 [03:10<00:00, 117.20it/s]\n"
     ]
    },
    {
     "name": "stdout",
     "output_type": "stream",
     "text": [
      "SLIMElasticNetRecommender: URM Detected 401 ( 3.1%) users with no interactions.\n",
      "SLIMElasticNetRecommender: URM Detected 128 ( 0.6%) items with no interactions.\n"
     ]
    },
    {
     "name": "stderr",
     "output_type": "stream",
     "text": [
      "100%|██████████████████████████████████████████████████████████████████████████▉| 22344/22348 [03:10<00:00, 117.20it/s]\n"
     ]
    },
    {
     "name": "stdout",
     "output_type": "stream",
     "text": [
      "SLIMElasticNetRecommender: URM Detected 399 ( 3.1%) users with no interactions.\n",
      "SLIMElasticNetRecommender: URM Detected 127 ( 0.6%) items with no interactions.\n"
     ]
    },
    {
     "name": "stderr",
     "output_type": "stream",
     "text": [
      "100%|██████████████████████████████████████████████████████████████████████████▉| 22344/22348 [03:09<00:00, 117.79it/s]\n"
     ]
    },
    {
     "name": "stdout",
     "output_type": "stream",
     "text": [
      "SLIMElasticNetRecommender: URM Detected 397 ( 3.0%) users with no interactions.\n",
      "SLIMElasticNetRecommender: URM Detected 132 ( 0.6%) items with no interactions.\n"
     ]
    },
    {
     "name": "stderr",
     "output_type": "stream",
     "text": [
      "100%|██████████████████████████████████████████████████████████████████████████▉| 22344/22348 [02:30<00:00, 148.55it/s]\n"
     ]
    },
    {
     "name": "stdout",
     "output_type": "stream",
     "text": [
      "SLIMElasticNetRecommender: URM Detected 393 ( 3.0%) users with no interactions.\n",
      "SLIMElasticNetRecommender: URM Detected 131 ( 0.6%) items with no interactions.\n"
     ]
    },
    {
     "name": "stderr",
     "output_type": "stream",
     "text": [
      "100%|██████████████████████████████████████████████████████████████████████████▉| 22344/22348 [03:12<00:00, 116.35it/s]\n"
     ]
    },
    {
     "name": "stdout",
     "output_type": "stream",
     "text": [
      "SLIMElasticNetRecommender: URM Detected 395 ( 3.0%) users with no interactions.\n",
      "SLIMElasticNetRecommender: URM Detected 128 ( 0.6%) items with no interactions.\n"
     ]
    },
    {
     "name": "stderr",
     "output_type": "stream",
     "text": [
      "100%|██████████████████████████████████████████████████████████████████████████▉| 22344/22348 [03:11<00:00, 116.90it/s]\n"
     ]
    },
    {
     "name": "stdout",
     "output_type": "stream",
     "text": [
      "SLIMElasticNetRecommender: URM Detected 398 ( 3.1%) users with no interactions.\n",
      "SLIMElasticNetRecommender: URM Detected 131 ( 0.6%) items with no interactions.\n"
     ]
    },
    {
     "name": "stderr",
     "output_type": "stream",
     "text": [
      "100%|██████████████████████████████████████████████████████████████████████████▉| 22344/22348 [02:30<00:00, 148.66it/s]\n"
     ]
    },
    {
     "name": "stdout",
     "output_type": "stream",
     "text": [
      "SLIMElasticNetRecommender: URM Detected 396 ( 3.0%) users with no interactions.\n",
      "SLIMElasticNetRecommender: URM Detected 130 ( 0.6%) items with no interactions.\n"
     ]
    },
    {
     "name": "stderr",
     "output_type": "stream",
     "text": [
      "100%|██████████████████████████████████████████████████████████████████████████▉| 22344/22348 [02:27<00:00, 151.91it/s]\n"
     ]
    },
    {
     "name": "stdout",
     "output_type": "stream",
     "text": [
      "SLIMElasticNetRecommender: URM Detected 394 ( 3.0%) users with no interactions.\n",
      "SLIMElasticNetRecommender: URM Detected 128 ( 0.6%) items with no interactions.\n"
     ]
    },
    {
     "name": "stderr",
     "output_type": "stream",
     "text": [
      "100%|██████████████████████████████████████████████████████████████████████████▉| 22344/22348 [02:30<00:00, 148.10it/s]\n"
     ]
    },
    {
     "name": "stdout",
     "output_type": "stream",
     "text": [
      "SLIMElasticNetRecommender: URM Detected 401 ( 3.1%) users with no interactions.\n",
      "SLIMElasticNetRecommender: URM Detected 130 ( 0.6%) items with no interactions.\n"
     ]
    },
    {
     "name": "stderr",
     "output_type": "stream",
     "text": [
      "100%|██████████████████████████████████████████████████████████████████████████▉| 22344/22348 [02:30<00:00, 148.80it/s]\n"
     ]
    },
    {
     "name": "stdout",
     "output_type": "stream",
     "text": [
      "SLIMElasticNetRecommender: URM Detected 397 ( 3.0%) users with no interactions.\n",
      "SLIMElasticNetRecommender: URM Detected 127 ( 0.6%) items with no interactions.\n"
     ]
    },
    {
     "name": "stderr",
     "output_type": "stream",
     "text": [
      "100%|██████████████████████████████████████████████████████████████████████████▉| 22344/22348 [02:30<00:00, 148.41it/s]\n"
     ]
    },
    {
     "name": "stdout",
     "output_type": "stream",
     "text": [
      "SLIMElasticNetRecommender: URM Detected 394 ( 3.0%) users with no interactions.\n",
      "SLIMElasticNetRecommender: URM Detected 129 ( 0.6%) items with no interactions.\n"
     ]
    },
    {
     "name": "stderr",
     "output_type": "stream",
     "text": [
      "100%|██████████████████████████████████████████████████████████████████████████▉| 22344/22348 [03:11<00:00, 116.84it/s]\n"
     ]
    },
    {
     "name": "stdout",
     "output_type": "stream",
     "text": [
      "SLIMElasticNetRecommender: URM Detected 393 ( 3.0%) users with no interactions.\n",
      "SLIMElasticNetRecommender: URM Detected 127 ( 0.6%) items with no interactions.\n"
     ]
    },
    {
     "name": "stderr",
     "output_type": "stream",
     "text": [
      "100%|██████████████████████████████████████████████████████████████████████████▉| 22344/22348 [03:09<00:00, 117.69it/s]\n"
     ]
    },
    {
     "name": "stdout",
     "output_type": "stream",
     "text": [
      "SLIMElasticNetRecommender: URM Detected 396 ( 3.0%) users with no interactions.\n",
      "SLIMElasticNetRecommender: URM Detected 133 ( 0.6%) items with no interactions.\n"
     ]
    },
    {
     "name": "stderr",
     "output_type": "stream",
     "text": [
      "100%|██████████████████████████████████████████████████████████████████████████▉| 22344/22348 [02:30<00:00, 148.61it/s]\n"
     ]
    }
   ],
   "source": [
    "slimes = []\n",
    "\n",
    "for i in range(n_fold):\n",
    "    slime = MultiThreadSLIM_SLIMElasticNetRecommender(URM_trains[i])\n",
    "    slime.fit(topK=692, alpha=0.000722, l1_ratio=0.0702)\n",
    "    slimes.append(slime)"
   ]
  },
  {
   "cell_type": "code",
   "execution_count": 146,
   "metadata": {},
   "outputs": [],
   "source": [
    "from Recommenders.KNN.ItemKNNSimilarityHybridRecommender import ItemKNNSimilarityHybridRecommender\n",
    "from Recommenders.Similarity.Compute_Similarity import Compute_Similarity"
   ]
  },
  {
   "cell_type": "code",
   "execution_count": 147,
   "metadata": {
    "scrolled": true
   },
   "outputs": [
    {
     "name": "stdout",
     "output_type": "stream",
     "text": [
      "Similarity column 22348 (100.0%), 10087.88 column/sec. Elapsed time 2.22 sec\n",
      "Similarity column 22348 (100.0%), 9757.67 column/sec. Elapsed time 2.29 sec\n",
      "ItemKNNSimilarityHybridRecommender: URM Detected 396 ( 3.0%) users with no interactions.\n",
      "ItemKNNSimilarityHybridRecommender: URM Detected 130 ( 0.6%) items with no interactions.\n",
      "Similarity column 22348 (100.0%), 10093.92 column/sec. Elapsed time 2.21 sec\n",
      "Similarity column 22348 (100.0%), 9818.66 column/sec. Elapsed time 2.28 sec\n",
      "ItemKNNSimilarityHybridRecommender: URM Detected 394 ( 3.0%) users with no interactions.\n",
      "ItemKNNSimilarityHybridRecommender: URM Detected 130 ( 0.6%) items with no interactions.\n",
      "Similarity column 22348 (100.0%), 10144.91 column/sec. Elapsed time 2.20 sec\n",
      "Similarity column 22348 (100.0%), 9839.48 column/sec. Elapsed time 2.27 sec\n",
      "ItemKNNSimilarityHybridRecommender: URM Detected 395 ( 3.0%) users with no interactions.\n",
      "ItemKNNSimilarityHybridRecommender: URM Detected 129 ( 0.6%) items with no interactions.\n",
      "Similarity column 22348 (100.0%), 10160.39 column/sec. Elapsed time 2.20 sec\n",
      "Similarity column 22348 (100.0%), 9862.31 column/sec. Elapsed time 2.27 sec\n",
      "ItemKNNSimilarityHybridRecommender: URM Detected 398 ( 3.1%) users with no interactions.\n",
      "ItemKNNSimilarityHybridRecommender: URM Detected 130 ( 0.6%) items with no interactions.\n",
      "Similarity column 22348 (100.0%), 10116.75 column/sec. Elapsed time 2.21 sec\n",
      "Similarity column 22348 (100.0%), 9892.16 column/sec. Elapsed time 2.26 sec\n",
      "ItemKNNSimilarityHybridRecommender: URM Detected 399 ( 3.1%) users with no interactions.\n",
      "ItemKNNSimilarityHybridRecommender: URM Detected 134 ( 0.6%) items with no interactions.\n",
      "Similarity column 22348 (100.0%), 10204.52 column/sec. Elapsed time 2.19 sec\n",
      "Similarity column 22348 (100.0%), 9904.47 column/sec. Elapsed time 2.26 sec\n",
      "ItemKNNSimilarityHybridRecommender: URM Detected 403 ( 3.1%) users with no interactions.\n",
      "ItemKNNSimilarityHybridRecommender: URM Detected 129 ( 0.6%) items with no interactions.\n",
      "Similarity column 22348 (100.0%), 10180.27 column/sec. Elapsed time 2.20 sec\n",
      "Similarity column 22348 (100.0%), 9910.83 column/sec. Elapsed time 2.25 sec\n",
      "ItemKNNSimilarityHybridRecommender: URM Detected 392 ( 3.0%) users with no interactions.\n",
      "ItemKNNSimilarityHybridRecommender: URM Detected 132 ( 0.6%) items with no interactions.\n",
      "Similarity column 22348 (100.0%), 10203.37 column/sec. Elapsed time 2.19 sec\n",
      "Similarity column 22348 (100.0%), 9934.14 column/sec. Elapsed time 2.25 sec\n",
      "ItemKNNSimilarityHybridRecommender: URM Detected 399 ( 3.1%) users with no interactions.\n",
      "ItemKNNSimilarityHybridRecommender: URM Detected 131 ( 0.6%) items with no interactions.\n",
      "Similarity column 22348 (100.0%), 10041.58 column/sec. Elapsed time 2.23 sec\n",
      "Similarity column 22348 (100.0%), 9909.02 column/sec. Elapsed time 2.26 sec\n",
      "ItemKNNSimilarityHybridRecommender: URM Detected 395 ( 3.0%) users with no interactions.\n",
      "ItemKNNSimilarityHybridRecommender: URM Detected 130 ( 0.6%) items with no interactions.\n",
      "Similarity column 22348 (100.0%), 10054.68 column/sec. Elapsed time 2.22 sec\n",
      "Similarity column 22348 (100.0%), 9946.02 column/sec. Elapsed time 2.25 sec\n",
      "ItemKNNSimilarityHybridRecommender: URM Detected 397 ( 3.0%) users with no interactions.\n",
      "ItemKNNSimilarityHybridRecommender: URM Detected 132 ( 0.6%) items with no interactions.\n",
      "Similarity column 22348 (100.0%), 9869.19 column/sec. Elapsed time 2.26 sec\n",
      "Similarity column 22348 (100.0%), 9756.40 column/sec. Elapsed time 2.29 sec\n",
      "ItemKNNSimilarityHybridRecommender: URM Detected 398 ( 3.1%) users with no interactions.\n",
      "ItemKNNSimilarityHybridRecommender: URM Detected 129 ( 0.6%) items with no interactions.\n",
      "Similarity column 22348 (100.0%), 10109.32 column/sec. Elapsed time 2.21 sec\n",
      "Similarity column 22348 (100.0%), 9914.77 column/sec. Elapsed time 2.25 sec\n",
      "ItemKNNSimilarityHybridRecommender: URM Detected 391 ( 3.0%) users with no interactions.\n",
      "ItemKNNSimilarityHybridRecommender: URM Detected 130 ( 0.6%) items with no interactions.\n",
      "Similarity column 22348 (100.0%), 10183.55 column/sec. Elapsed time 2.19 sec\n",
      "Similarity column 22348 (100.0%), 9929.57 column/sec. Elapsed time 2.25 sec\n",
      "ItemKNNSimilarityHybridRecommender: URM Detected 398 ( 3.1%) users with no interactions.\n",
      "ItemKNNSimilarityHybridRecommender: URM Detected 131 ( 0.6%) items with no interactions.\n",
      "Similarity column 22348 (100.0%), 10157.00 column/sec. Elapsed time 2.20 sec\n",
      "Similarity column 22348 (100.0%), 9910.65 column/sec. Elapsed time 2.25 sec\n",
      "ItemKNNSimilarityHybridRecommender: URM Detected 390 ( 3.0%) users with no interactions.\n",
      "ItemKNNSimilarityHybridRecommender: URM Detected 128 ( 0.6%) items with no interactions.\n",
      "Similarity column 22348 (100.0%), 10181.59 column/sec. Elapsed time 2.19 sec\n",
      "Similarity column 22348 (100.0%), 9944.91 column/sec. Elapsed time 2.25 sec\n",
      "ItemKNNSimilarityHybridRecommender: URM Detected 405 ( 3.1%) users with no interactions.\n",
      "ItemKNNSimilarityHybridRecommender: URM Detected 131 ( 0.6%) items with no interactions.\n",
      "Similarity column 22348 (100.0%), 10200.06 column/sec. Elapsed time 2.19 sec\n",
      "Similarity column 22348 (100.0%), 9891.63 column/sec. Elapsed time 2.26 sec\n",
      "ItemKNNSimilarityHybridRecommender: URM Detected 398 ( 3.1%) users with no interactions.\n",
      "ItemKNNSimilarityHybridRecommender: URM Detected 132 ( 0.6%) items with no interactions.\n",
      "Similarity column 22348 (100.0%), 10189.68 column/sec. Elapsed time 2.19 sec\n",
      "Similarity column 22348 (100.0%), 9969.56 column/sec. Elapsed time 2.24 sec\n",
      "ItemKNNSimilarityHybridRecommender: URM Detected 397 ( 3.0%) users with no interactions.\n",
      "ItemKNNSimilarityHybridRecommender: URM Detected 129 ( 0.6%) items with no interactions.\n",
      "Similarity column 22348 (100.0%), 10175.19 column/sec. Elapsed time 2.20 sec\n",
      "Similarity column 22348 (100.0%), 9932.50 column/sec. Elapsed time 2.25 sec\n",
      "ItemKNNSimilarityHybridRecommender: URM Detected 399 ( 3.1%) users with no interactions.\n",
      "ItemKNNSimilarityHybridRecommender: URM Detected 128 ( 0.6%) items with no interactions.\n",
      "Similarity column 22348 (100.0%), 10166.15 column/sec. Elapsed time 2.20 sec\n",
      "Similarity column 22348 (100.0%), 9958.13 column/sec. Elapsed time 2.24 sec\n",
      "ItemKNNSimilarityHybridRecommender: URM Detected 395 ( 3.0%) users with no interactions.\n",
      "ItemKNNSimilarityHybridRecommender: URM Detected 127 ( 0.6%) items with no interactions.\n",
      "Similarity column 22348 (100.0%), 10160.00 column/sec. Elapsed time 2.20 sec\n",
      "Similarity column 22348 (100.0%), 9890.54 column/sec. Elapsed time 2.26 sec\n",
      "ItemKNNSimilarityHybridRecommender: URM Detected 396 ( 3.0%) users with no interactions.\n",
      "ItemKNNSimilarityHybridRecommender: URM Detected 134 ( 0.6%) items with no interactions.\n",
      "Similarity column 22348 (100.0%), 10182.52 column/sec. Elapsed time 2.19 sec\n",
      "Similarity column 22348 (100.0%), 9952.44 column/sec. Elapsed time 2.25 sec\n",
      "ItemKNNSimilarityHybridRecommender: URM Detected 395 ( 3.0%) users with no interactions.\n",
      "ItemKNNSimilarityHybridRecommender: URM Detected 129 ( 0.6%) items with no interactions.\n",
      "Similarity column 22348 (100.0%), 10211.62 column/sec. Elapsed time 2.19 sec\n",
      "Similarity column 22348 (100.0%), 9930.27 column/sec. Elapsed time 2.25 sec\n",
      "ItemKNNSimilarityHybridRecommender: URM Detected 399 ( 3.1%) users with no interactions.\n",
      "ItemKNNSimilarityHybridRecommender: URM Detected 133 ( 0.6%) items with no interactions.\n",
      "Similarity column 22348 (100.0%), 10215.40 column/sec. Elapsed time 2.19 sec\n",
      "Similarity column 22348 (100.0%), 9959.35 column/sec. Elapsed time 2.24 sec\n",
      "ItemKNNSimilarityHybridRecommender: URM Detected 391 ( 3.0%) users with no interactions.\n",
      "ItemKNNSimilarityHybridRecommender: URM Detected 131 ( 0.6%) items with no interactions.\n",
      "Similarity column 22348 (100.0%), 10205.62 column/sec. Elapsed time 2.19 sec\n",
      "Similarity column 22348 (100.0%), 9948.53 column/sec. Elapsed time 2.25 sec\n",
      "ItemKNNSimilarityHybridRecommender: URM Detected 394 ( 3.0%) users with no interactions.\n",
      "ItemKNNSimilarityHybridRecommender: URM Detected 128 ( 0.6%) items with no interactions.\n",
      "Similarity column 22348 (100.0%), 10176.56 column/sec. Elapsed time 2.20 sec\n",
      "Similarity column 22348 (100.0%), 9933.34 column/sec. Elapsed time 2.25 sec\n",
      "ItemKNNSimilarityHybridRecommender: URM Detected 397 ( 3.0%) users with no interactions.\n",
      "ItemKNNSimilarityHybridRecommender: URM Detected 130 ( 0.6%) items with no interactions.\n"
     ]
    },
    {
     "name": "stdout",
     "output_type": "stream",
     "text": [
      "Similarity column 22348 (100.0%), 10218.26 column/sec. Elapsed time 2.19 sec\n",
      "Similarity column 22348 (100.0%), 9928.35 column/sec. Elapsed time 2.25 sec\n",
      "ItemKNNSimilarityHybridRecommender: URM Detected 396 ( 3.0%) users with no interactions.\n",
      "ItemKNNSimilarityHybridRecommender: URM Detected 132 ( 0.6%) items with no interactions.\n",
      "Similarity column 22348 (100.0%), 10173.55 column/sec. Elapsed time 2.20 sec\n",
      "Similarity column 22348 (100.0%), 9965.04 column/sec. Elapsed time 2.24 sec\n",
      "ItemKNNSimilarityHybridRecommender: URM Detected 399 ( 3.1%) users with no interactions.\n",
      "ItemKNNSimilarityHybridRecommender: URM Detected 128 ( 0.6%) items with no interactions.\n",
      "Similarity column 22348 (100.0%), 10218.52 column/sec. Elapsed time 2.19 sec\n",
      "Similarity column 22348 (100.0%), 10020.95 column/sec. Elapsed time 2.23 sec\n",
      "ItemKNNSimilarityHybridRecommender: URM Detected 397 ( 3.0%) users with no interactions.\n",
      "ItemKNNSimilarityHybridRecommender: URM Detected 131 ( 0.6%) items with no interactions.\n",
      "Similarity column 22348 (100.0%), 10158.39 column/sec. Elapsed time 2.20 sec\n",
      "Similarity column 22348 (100.0%), 9866.62 column/sec. Elapsed time 2.27 sec\n",
      "ItemKNNSimilarityHybridRecommender: URM Detected 393 ( 3.0%) users with no interactions.\n",
      "ItemKNNSimilarityHybridRecommender: URM Detected 131 ( 0.6%) items with no interactions.\n",
      "Similarity column 22348 (100.0%), 10182.92 column/sec. Elapsed time 2.19 sec\n",
      "Similarity column 22348 (100.0%), 9938.38 column/sec. Elapsed time 2.25 sec\n",
      "ItemKNNSimilarityHybridRecommender: URM Detected 396 ( 3.0%) users with no interactions.\n",
      "ItemKNNSimilarityHybridRecommender: URM Detected 131 ( 0.6%) items with no interactions.\n",
      "Similarity column 22348 (100.0%), 10208.38 column/sec. Elapsed time 2.19 sec\n",
      "Similarity column 22348 (100.0%), 9886.21 column/sec. Elapsed time 2.26 sec\n",
      "ItemKNNSimilarityHybridRecommender: URM Detected 394 ( 3.0%) users with no interactions.\n",
      "ItemKNNSimilarityHybridRecommender: URM Detected 128 ( 0.6%) items with no interactions.\n",
      "Similarity column 22348 (100.0%), 10206.05 column/sec. Elapsed time 2.19 sec\n",
      "Similarity column 22348 (100.0%), 9941.24 column/sec. Elapsed time 2.25 sec\n",
      "ItemKNNSimilarityHybridRecommender: URM Detected 394 ( 3.0%) users with no interactions.\n",
      "ItemKNNSimilarityHybridRecommender: URM Detected 130 ( 0.6%) items with no interactions.\n",
      "Similarity column 22348 (100.0%), 10204.52 column/sec. Elapsed time 2.19 sec\n",
      "Similarity column 22348 (100.0%), 9937.71 column/sec. Elapsed time 2.25 sec\n",
      "ItemKNNSimilarityHybridRecommender: URM Detected 398 ( 3.1%) users with no interactions.\n",
      "ItemKNNSimilarityHybridRecommender: URM Detected 131 ( 0.6%) items with no interactions.\n",
      "Similarity column 22348 (100.0%), 10183.08 column/sec. Elapsed time 2.19 sec\n",
      "Similarity column 22348 (100.0%), 9909.01 column/sec. Elapsed time 2.26 sec\n",
      "ItemKNNSimilarityHybridRecommender: URM Detected 394 ( 3.0%) users with no interactions.\n",
      "ItemKNNSimilarityHybridRecommender: URM Detected 128 ( 0.6%) items with no interactions.\n",
      "Similarity column 22348 (100.0%), 10169.63 column/sec. Elapsed time 2.20 sec\n",
      "Similarity column 22348 (100.0%), 9951.63 column/sec. Elapsed time 2.25 sec\n",
      "ItemKNNSimilarityHybridRecommender: URM Detected 397 ( 3.0%) users with no interactions.\n",
      "ItemKNNSimilarityHybridRecommender: URM Detected 129 ( 0.6%) items with no interactions.\n",
      "Similarity column 22348 (100.0%), 10152.82 column/sec. Elapsed time 2.20 sec\n",
      "Similarity column 22348 (100.0%), 9941.24 column/sec. Elapsed time 2.25 sec\n",
      "ItemKNNSimilarityHybridRecommender: URM Detected 400 ( 3.1%) users with no interactions.\n",
      "ItemKNNSimilarityHybridRecommender: URM Detected 129 ( 0.6%) items with no interactions.\n",
      "Similarity column 22348 (100.0%), 10178.98 column/sec. Elapsed time 2.20 sec\n",
      "Similarity column 22348 (100.0%), 9933.91 column/sec. Elapsed time 2.25 sec\n",
      "ItemKNNSimilarityHybridRecommender: URM Detected 397 ( 3.0%) users with no interactions.\n",
      "ItemKNNSimilarityHybridRecommender: URM Detected 128 ( 0.6%) items with no interactions.\n",
      "Similarity column 22348 (100.0%), 10197.47 column/sec. Elapsed time 2.19 sec\n",
      "Similarity column 22348 (100.0%), 9913.59 column/sec. Elapsed time 2.25 sec\n",
      "ItemKNNSimilarityHybridRecommender: URM Detected 401 ( 3.1%) users with no interactions.\n",
      "ItemKNNSimilarityHybridRecommender: URM Detected 128 ( 0.6%) items with no interactions.\n",
      "Similarity column 22348 (100.0%), 10146.54 column/sec. Elapsed time 2.20 sec\n",
      "Similarity column 22348 (100.0%), 9902.51 column/sec. Elapsed time 2.26 sec\n",
      "ItemKNNSimilarityHybridRecommender: URM Detected 396 ( 3.0%) users with no interactions.\n",
      "ItemKNNSimilarityHybridRecommender: URM Detected 130 ( 0.6%) items with no interactions.\n",
      "Similarity column 22348 (100.0%), 10220.49 column/sec. Elapsed time 2.19 sec\n",
      "Similarity column 22348 (100.0%), 9919.18 column/sec. Elapsed time 2.25 sec\n",
      "ItemKNNSimilarityHybridRecommender: URM Detected 395 ( 3.0%) users with no interactions.\n",
      "ItemKNNSimilarityHybridRecommender: URM Detected 129 ( 0.6%) items with no interactions.\n",
      "Similarity column 22348 (100.0%), 10227.20 column/sec. Elapsed time 2.19 sec\n",
      "Similarity column 22348 (100.0%), 9943.29 column/sec. Elapsed time 2.25 sec\n",
      "ItemKNNSimilarityHybridRecommender: URM Detected 399 ( 3.1%) users with no interactions.\n",
      "ItemKNNSimilarityHybridRecommender: URM Detected 128 ( 0.6%) items with no interactions.\n",
      "Similarity column 22348 (100.0%), 10195.21 column/sec. Elapsed time 2.19 sec\n",
      "Similarity column 22348 (100.0%), 9975.98 column/sec. Elapsed time 2.24 sec\n",
      "ItemKNNSimilarityHybridRecommender: URM Detected 396 ( 3.0%) users with no interactions.\n",
      "ItemKNNSimilarityHybridRecommender: URM Detected 128 ( 0.6%) items with no interactions.\n",
      "Similarity column 22348 (100.0%), 10153.91 column/sec. Elapsed time 2.20 sec\n",
      "Similarity column 22348 (100.0%), 10014.12 column/sec. Elapsed time 2.23 sec\n",
      "ItemKNNSimilarityHybridRecommender: URM Detected 397 ( 3.0%) users with no interactions.\n",
      "ItemKNNSimilarityHybridRecommender: URM Detected 129 ( 0.6%) items with no interactions.\n",
      "Similarity column 22348 (100.0%), 10199.91 column/sec. Elapsed time 2.19 sec\n",
      "Similarity column 22348 (100.0%), 9944.91 column/sec. Elapsed time 2.25 sec\n",
      "ItemKNNSimilarityHybridRecommender: URM Detected 399 ( 3.1%) users with no interactions.\n",
      "ItemKNNSimilarityHybridRecommender: URM Detected 128 ( 0.6%) items with no interactions.\n",
      "Similarity column 22348 (100.0%), 10152.06 column/sec. Elapsed time 2.20 sec\n",
      "Similarity column 22348 (100.0%), 9984.24 column/sec. Elapsed time 2.24 sec\n",
      "ItemKNNSimilarityHybridRecommender: URM Detected 396 ( 3.0%) users with no interactions.\n",
      "ItemKNNSimilarityHybridRecommender: URM Detected 130 ( 0.6%) items with no interactions.\n",
      "Similarity column 22348 (100.0%), 10199.16 column/sec. Elapsed time 2.19 sec\n",
      "Similarity column 22348 (100.0%), 9929.46 column/sec. Elapsed time 2.25 sec\n",
      "ItemKNNSimilarityHybridRecommender: URM Detected 399 ( 3.1%) users with no interactions.\n",
      "ItemKNNSimilarityHybridRecommender: URM Detected 131 ( 0.6%) items with no interactions.\n",
      "Similarity column 22348 (100.0%), 10123.17 column/sec. Elapsed time 2.21 sec\n",
      "Similarity column 22348 (100.0%), 9928.48 column/sec. Elapsed time 2.25 sec\n",
      "ItemKNNSimilarityHybridRecommender: URM Detected 401 ( 3.1%) users with no interactions.\n",
      "ItemKNNSimilarityHybridRecommender: URM Detected 128 ( 0.6%) items with no interactions.\n",
      "Similarity column 22348 (100.0%), 10158.38 column/sec. Elapsed time 2.20 sec\n",
      "Similarity column 22348 (100.0%), 9950.29 column/sec. Elapsed time 2.25 sec\n",
      "ItemKNNSimilarityHybridRecommender: URM Detected 392 ( 3.0%) users with no interactions.\n",
      "ItemKNNSimilarityHybridRecommender: URM Detected 128 ( 0.6%) items with no interactions.\n",
      "Similarity column 22348 (100.0%), 10156.75 column/sec. Elapsed time 2.20 sec\n",
      "Similarity column 22348 (100.0%), 9903.84 column/sec. Elapsed time 2.26 sec\n",
      "ItemKNNSimilarityHybridRecommender: URM Detected 395 ( 3.0%) users with no interactions.\n",
      "ItemKNNSimilarityHybridRecommender: URM Detected 128 ( 0.6%) items with no interactions.\n",
      "Similarity column 22348 (100.0%), 10175.15 column/sec. Elapsed time 2.20 sec\n",
      "Similarity column 22348 (100.0%), 9891.51 column/sec. Elapsed time 2.26 sec\n",
      "ItemKNNSimilarityHybridRecommender: URM Detected 397 ( 3.0%) users with no interactions.\n",
      "ItemKNNSimilarityHybridRecommender: URM Detected 131 ( 0.6%) items with no interactions.\n"
     ]
    },
    {
     "name": "stdout",
     "output_type": "stream",
     "text": [
      "Similarity column 22348 (100.0%), 10125.63 column/sec. Elapsed time 2.21 sec\n",
      "Similarity column 22348 (100.0%), 9975.44 column/sec. Elapsed time 2.24 sec\n",
      "ItemKNNSimilarityHybridRecommender: URM Detected 394 ( 3.0%) users with no interactions.\n",
      "ItemKNNSimilarityHybridRecommender: URM Detected 130 ( 0.6%) items with no interactions.\n",
      "Similarity column 22348 (100.0%), 10159.77 column/sec. Elapsed time 2.20 sec\n",
      "Similarity column 22348 (100.0%), 9925.57 column/sec. Elapsed time 2.25 sec\n",
      "ItemKNNSimilarityHybridRecommender: URM Detected 398 ( 3.1%) users with no interactions.\n",
      "ItemKNNSimilarityHybridRecommender: URM Detected 129 ( 0.6%) items with no interactions.\n",
      "Similarity column 22348 (100.0%), 10130.55 column/sec. Elapsed time 2.21 sec\n",
      "Similarity column 22348 (100.0%), 9868.22 column/sec. Elapsed time 2.26 sec\n",
      "ItemKNNSimilarityHybridRecommender: URM Detected 395 ( 3.0%) users with no interactions.\n",
      "ItemKNNSimilarityHybridRecommender: URM Detected 128 ( 0.6%) items with no interactions.\n",
      "Similarity column 22348 (100.0%), 10189.85 column/sec. Elapsed time 2.19 sec\n",
      "Similarity column 22348 (100.0%), 9953.99 column/sec. Elapsed time 2.25 sec\n",
      "ItemKNNSimilarityHybridRecommender: URM Detected 397 ( 3.0%) users with no interactions.\n",
      "ItemKNNSimilarityHybridRecommender: URM Detected 129 ( 0.6%) items with no interactions.\n",
      "Similarity column 22348 (100.0%), 10185.00 column/sec. Elapsed time 2.19 sec\n",
      "Similarity column 22348 (100.0%), 10011.45 column/sec. Elapsed time 2.23 sec\n",
      "ItemKNNSimilarityHybridRecommender: URM Detected 394 ( 3.0%) users with no interactions.\n",
      "ItemKNNSimilarityHybridRecommender: URM Detected 130 ( 0.6%) items with no interactions.\n",
      "Similarity column 22348 (100.0%), 10118.87 column/sec. Elapsed time 2.21 sec\n",
      "Similarity column 22348 (100.0%), 9854.97 column/sec. Elapsed time 2.27 sec\n",
      "ItemKNNSimilarityHybridRecommender: URM Detected 396 ( 3.0%) users with no interactions.\n",
      "ItemKNNSimilarityHybridRecommender: URM Detected 130 ( 0.6%) items with no interactions.\n",
      "Similarity column 22348 (100.0%), 10143.19 column/sec. Elapsed time 2.20 sec\n",
      "Similarity column 22348 (100.0%), 9856.86 column/sec. Elapsed time 2.27 sec\n",
      "ItemKNNSimilarityHybridRecommender: URM Detected 400 ( 3.1%) users with no interactions.\n",
      "ItemKNNSimilarityHybridRecommender: URM Detected 132 ( 0.6%) items with no interactions.\n",
      "Similarity column 22348 (100.0%), 10076.03 column/sec. Elapsed time 2.22 sec\n",
      "Similarity column 22348 (100.0%), 9924.65 column/sec. Elapsed time 2.25 sec\n",
      "ItemKNNSimilarityHybridRecommender: URM Detected 394 ( 3.0%) users with no interactions.\n",
      "ItemKNNSimilarityHybridRecommender: URM Detected 129 ( 0.6%) items with no interactions.\n",
      "Similarity column 22348 (100.0%), 10134.00 column/sec. Elapsed time 2.21 sec\n",
      "Similarity column 22348 (100.0%), 9916.79 column/sec. Elapsed time 2.25 sec\n",
      "ItemKNNSimilarityHybridRecommender: URM Detected 394 ( 3.0%) users with no interactions.\n",
      "ItemKNNSimilarityHybridRecommender: URM Detected 131 ( 0.6%) items with no interactions.\n",
      "Similarity column 22348 (100.0%), 10193.96 column/sec. Elapsed time 2.19 sec\n",
      "Similarity column 22348 (100.0%), 9917.84 column/sec. Elapsed time 2.25 sec\n",
      "ItemKNNSimilarityHybridRecommender: URM Detected 395 ( 3.0%) users with no interactions.\n",
      "ItemKNNSimilarityHybridRecommender: URM Detected 129 ( 0.6%) items with no interactions.\n",
      "Similarity column 22348 (100.0%), 10169.18 column/sec. Elapsed time 2.20 sec\n",
      "Similarity column 22348 (100.0%), 9872.87 column/sec. Elapsed time 2.26 sec\n",
      "ItemKNNSimilarityHybridRecommender: URM Detected 400 ( 3.1%) users with no interactions.\n",
      "ItemKNNSimilarityHybridRecommender: URM Detected 130 ( 0.6%) items with no interactions.\n",
      "Similarity column 22348 (100.0%), 10144.34 column/sec. Elapsed time 2.20 sec\n",
      "Similarity column 22348 (100.0%), 9914.82 column/sec. Elapsed time 2.25 sec\n",
      "ItemKNNSimilarityHybridRecommender: URM Detected 402 ( 3.1%) users with no interactions.\n",
      "ItemKNNSimilarityHybridRecommender: URM Detected 129 ( 0.6%) items with no interactions.\n",
      "Similarity column 22348 (100.0%), 10162.24 column/sec. Elapsed time 2.20 sec\n",
      "Similarity column 22348 (100.0%), 9923.58 column/sec. Elapsed time 2.25 sec\n",
      "ItemKNNSimilarityHybridRecommender: URM Detected 400 ( 3.1%) users with no interactions.\n",
      "ItemKNNSimilarityHybridRecommender: URM Detected 126 ( 0.6%) items with no interactions.\n",
      "Similarity column 22348 (100.0%), 10175.99 column/sec. Elapsed time 2.20 sec\n",
      "Similarity column 22348 (100.0%), 9947.12 column/sec. Elapsed time 2.25 sec\n",
      "ItemKNNSimilarityHybridRecommender: URM Detected 397 ( 3.0%) users with no interactions.\n",
      "ItemKNNSimilarityHybridRecommender: URM Detected 132 ( 0.6%) items with no interactions.\n",
      "Similarity column 22348 (100.0%), 10141.36 column/sec. Elapsed time 2.20 sec\n",
      "Similarity column 22348 (100.0%), 9828.19 column/sec. Elapsed time 2.27 sec\n",
      "ItemKNNSimilarityHybridRecommender: URM Detected 394 ( 3.0%) users with no interactions.\n",
      "ItemKNNSimilarityHybridRecommender: URM Detected 127 ( 0.6%) items with no interactions.\n",
      "Similarity column 22348 (100.0%), 10167.38 column/sec. Elapsed time 2.20 sec\n",
      "Similarity column 22348 (100.0%), 9833.47 column/sec. Elapsed time 2.27 sec\n",
      "ItemKNNSimilarityHybridRecommender: URM Detected 395 ( 3.0%) users with no interactions.\n",
      "ItemKNNSimilarityHybridRecommender: URM Detected 129 ( 0.6%) items with no interactions.\n",
      "Similarity column 22348 (100.0%), 10175.43 column/sec. Elapsed time 2.20 sec\n",
      "Similarity column 22348 (100.0%), 9922.28 column/sec. Elapsed time 2.25 sec\n",
      "ItemKNNSimilarityHybridRecommender: URM Detected 393 ( 3.0%) users with no interactions.\n",
      "ItemKNNSimilarityHybridRecommender: URM Detected 130 ( 0.6%) items with no interactions.\n",
      "Similarity column 22348 (100.0%), 10155.94 column/sec. Elapsed time 2.20 sec\n",
      "Similarity column 22348 (100.0%), 9941.27 column/sec. Elapsed time 2.25 sec\n",
      "ItemKNNSimilarityHybridRecommender: URM Detected 392 ( 3.0%) users with no interactions.\n",
      "ItemKNNSimilarityHybridRecommender: URM Detected 131 ( 0.6%) items with no interactions.\n",
      "Similarity column 22348 (100.0%), 10170.52 column/sec. Elapsed time 2.20 sec\n",
      "Similarity column 22348 (100.0%), 9888.63 column/sec. Elapsed time 2.26 sec\n",
      "ItemKNNSimilarityHybridRecommender: URM Detected 396 ( 3.0%) users with no interactions.\n",
      "ItemKNNSimilarityHybridRecommender: URM Detected 130 ( 0.6%) items with no interactions.\n",
      "Similarity column 22348 (100.0%), 10126.12 column/sec. Elapsed time 2.21 sec\n",
      "Similarity column 22348 (100.0%), 9860.89 column/sec. Elapsed time 2.27 sec\n",
      "ItemKNNSimilarityHybridRecommender: URM Detected 393 ( 3.0%) users with no interactions.\n",
      "ItemKNNSimilarityHybridRecommender: URM Detected 127 ( 0.6%) items with no interactions.\n",
      "Similarity column 22348 (100.0%), 10147.37 column/sec. Elapsed time 2.20 sec\n",
      "Similarity column 22348 (100.0%), 9911.13 column/sec. Elapsed time 2.25 sec\n",
      "ItemKNNSimilarityHybridRecommender: URM Detected 390 ( 3.0%) users with no interactions.\n",
      "ItemKNNSimilarityHybridRecommender: URM Detected 133 ( 0.6%) items with no interactions.\n",
      "Similarity column 22348 (100.0%), 10215.45 column/sec. Elapsed time 2.19 sec\n",
      "Similarity column 22348 (100.0%), 9936.96 column/sec. Elapsed time 2.25 sec\n",
      "ItemKNNSimilarityHybridRecommender: URM Detected 402 ( 3.1%) users with no interactions.\n",
      "ItemKNNSimilarityHybridRecommender: URM Detected 129 ( 0.6%) items with no interactions.\n",
      "Similarity column 22348 (100.0%), 10209.42 column/sec. Elapsed time 2.19 sec\n",
      "Similarity column 22348 (100.0%), 9985.80 column/sec. Elapsed time 2.24 sec\n",
      "ItemKNNSimilarityHybridRecommender: URM Detected 393 ( 3.0%) users with no interactions.\n",
      "ItemKNNSimilarityHybridRecommender: URM Detected 130 ( 0.6%) items with no interactions.\n",
      "Similarity column 22348 (100.0%), 10159.82 column/sec. Elapsed time 2.20 sec\n",
      "Similarity column 22348 (100.0%), 9919.18 column/sec. Elapsed time 2.25 sec\n",
      "ItemKNNSimilarityHybridRecommender: URM Detected 395 ( 3.0%) users with no interactions.\n",
      "ItemKNNSimilarityHybridRecommender: URM Detected 133 ( 0.6%) items with no interactions.\n",
      "Similarity column 22348 (100.0%), 10162.02 column/sec. Elapsed time 2.20 sec\n",
      "Similarity column 22348 (100.0%), 9905.01 column/sec. Elapsed time 2.26 sec\n",
      "ItemKNNSimilarityHybridRecommender: URM Detected 401 ( 3.1%) users with no interactions.\n",
      "ItemKNNSimilarityHybridRecommender: URM Detected 129 ( 0.6%) items with no interactions.\n"
     ]
    },
    {
     "name": "stdout",
     "output_type": "stream",
     "text": [
      "Similarity column 22348 (100.0%), 10147.54 column/sec. Elapsed time 2.20 sec\n",
      "Similarity column 22348 (100.0%), 9860.91 column/sec. Elapsed time 2.27 sec\n",
      "ItemKNNSimilarityHybridRecommender: URM Detected 399 ( 3.1%) users with no interactions.\n",
      "ItemKNNSimilarityHybridRecommender: URM Detected 127 ( 0.6%) items with no interactions.\n",
      "Similarity column 22348 (100.0%), 10112.26 column/sec. Elapsed time 2.21 sec\n",
      "Similarity column 22348 (100.0%), 9928.60 column/sec. Elapsed time 2.25 sec\n",
      "ItemKNNSimilarityHybridRecommender: URM Detected 401 ( 3.1%) users with no interactions.\n",
      "ItemKNNSimilarityHybridRecommender: URM Detected 132 ( 0.6%) items with no interactions.\n",
      "Similarity column 22348 (100.0%), 10164.94 column/sec. Elapsed time 2.20 sec\n",
      "Similarity column 22348 (100.0%), 9927.11 column/sec. Elapsed time 2.25 sec\n",
      "ItemKNNSimilarityHybridRecommender: URM Detected 400 ( 3.1%) users with no interactions.\n",
      "ItemKNNSimilarityHybridRecommender: URM Detected 130 ( 0.6%) items with no interactions.\n",
      "Similarity column 22348 (100.0%), 10135.04 column/sec. Elapsed time 2.21 sec\n",
      "Similarity column 22348 (100.0%), 9975.97 column/sec. Elapsed time 2.24 sec\n",
      "ItemKNNSimilarityHybridRecommender: URM Detected 393 ( 3.0%) users with no interactions.\n",
      "ItemKNNSimilarityHybridRecommender: URM Detected 131 ( 0.6%) items with no interactions.\n",
      "Similarity column 22348 (100.0%), 10150.55 column/sec. Elapsed time 2.20 sec\n",
      "Similarity column 22348 (100.0%), 9890.59 column/sec. Elapsed time 2.26 sec\n",
      "ItemKNNSimilarityHybridRecommender: URM Detected 396 ( 3.0%) users with no interactions.\n",
      "ItemKNNSimilarityHybridRecommender: URM Detected 133 ( 0.6%) items with no interactions.\n",
      "Similarity column 22348 (100.0%), 10146.00 column/sec. Elapsed time 2.20 sec\n",
      "Similarity column 22348 (100.0%), 9897.58 column/sec. Elapsed time 2.26 sec\n",
      "ItemKNNSimilarityHybridRecommender: URM Detected 396 ( 3.0%) users with no interactions.\n",
      "ItemKNNSimilarityHybridRecommender: URM Detected 132 ( 0.6%) items with no interactions.\n",
      "Similarity column 22348 (100.0%), 10117.19 column/sec. Elapsed time 2.21 sec\n",
      "Similarity column 22348 (100.0%), 9862.39 column/sec. Elapsed time 2.27 sec\n",
      "ItemKNNSimilarityHybridRecommender: URM Detected 400 ( 3.1%) users with no interactions.\n",
      "ItemKNNSimilarityHybridRecommender: URM Detected 130 ( 0.6%) items with no interactions.\n",
      "Similarity column 22348 (100.0%), 10187.68 column/sec. Elapsed time 2.19 sec\n",
      "Similarity column 22348 (100.0%), 9913.50 column/sec. Elapsed time 2.25 sec\n",
      "ItemKNNSimilarityHybridRecommender: URM Detected 395 ( 3.0%) users with no interactions.\n",
      "ItemKNNSimilarityHybridRecommender: URM Detected 133 ( 0.6%) items with no interactions.\n",
      "Similarity column 22348 (100.0%), 10175.28 column/sec. Elapsed time 2.20 sec\n",
      "Similarity column 22348 (100.0%), 9982.72 column/sec. Elapsed time 2.24 sec\n",
      "ItemKNNSimilarityHybridRecommender: URM Detected 398 ( 3.1%) users with no interactions.\n",
      "ItemKNNSimilarityHybridRecommender: URM Detected 132 ( 0.6%) items with no interactions.\n",
      "Similarity column 22348 (100.0%), 10136.63 column/sec. Elapsed time 2.20 sec\n",
      "Similarity column 22348 (100.0%), 9914.82 column/sec. Elapsed time 2.25 sec\n",
      "ItemKNNSimilarityHybridRecommender: URM Detected 396 ( 3.0%) users with no interactions.\n",
      "ItemKNNSimilarityHybridRecommender: URM Detected 130 ( 0.6%) items with no interactions.\n",
      "Similarity column 22348 (100.0%), 10241.93 column/sec. Elapsed time 2.18 sec\n",
      "Similarity column 22348 (100.0%), 9894.20 column/sec. Elapsed time 2.26 sec\n",
      "ItemKNNSimilarityHybridRecommender: URM Detected 397 ( 3.0%) users with no interactions.\n",
      "ItemKNNSimilarityHybridRecommender: URM Detected 131 ( 0.6%) items with no interactions.\n",
      "Similarity column 22348 (100.0%), 10153.52 column/sec. Elapsed time 2.20 sec\n",
      "Similarity column 22348 (100.0%), 10007.49 column/sec. Elapsed time 2.23 sec\n",
      "ItemKNNSimilarityHybridRecommender: URM Detected 400 ( 3.1%) users with no interactions.\n",
      "ItemKNNSimilarityHybridRecommender: URM Detected 129 ( 0.6%) items with no interactions.\n",
      "Similarity column 22348 (100.0%), 10160.37 column/sec. Elapsed time 2.20 sec\n",
      "Similarity column 22348 (100.0%), 9919.70 column/sec. Elapsed time 2.25 sec\n",
      "ItemKNNSimilarityHybridRecommender: URM Detected 401 ( 3.1%) users with no interactions.\n",
      "ItemKNNSimilarityHybridRecommender: URM Detected 128 ( 0.6%) items with no interactions.\n",
      "Similarity column 22348 (100.0%), 10164.38 column/sec. Elapsed time 2.20 sec\n",
      "Similarity column 22348 (100.0%), 9941.26 column/sec. Elapsed time 2.25 sec\n",
      "ItemKNNSimilarityHybridRecommender: URM Detected 399 ( 3.1%) users with no interactions.\n",
      "ItemKNNSimilarityHybridRecommender: URM Detected 127 ( 0.6%) items with no interactions.\n",
      "Similarity column 22348 (100.0%), 10193.17 column/sec. Elapsed time 2.19 sec\n",
      "Similarity column 22348 (100.0%), 9971.19 column/sec. Elapsed time 2.24 sec\n",
      "ItemKNNSimilarityHybridRecommender: URM Detected 397 ( 3.0%) users with no interactions.\n",
      "ItemKNNSimilarityHybridRecommender: URM Detected 132 ( 0.6%) items with no interactions.\n",
      "Similarity column 22348 (100.0%), 10209.56 column/sec. Elapsed time 2.19 sec\n",
      "Similarity column 22348 (100.0%), 9931.14 column/sec. Elapsed time 2.25 sec\n",
      "ItemKNNSimilarityHybridRecommender: URM Detected 393 ( 3.0%) users with no interactions.\n",
      "ItemKNNSimilarityHybridRecommender: URM Detected 131 ( 0.6%) items with no interactions.\n",
      "Similarity column 22348 (100.0%), 10169.21 column/sec. Elapsed time 2.20 sec\n",
      "Similarity column 22348 (100.0%), 9904.73 column/sec. Elapsed time 2.26 sec\n",
      "ItemKNNSimilarityHybridRecommender: URM Detected 395 ( 3.0%) users with no interactions.\n",
      "ItemKNNSimilarityHybridRecommender: URM Detected 128 ( 0.6%) items with no interactions.\n",
      "Similarity column 22348 (100.0%), 10169.59 column/sec. Elapsed time 2.20 sec\n",
      "Similarity column 22348 (100.0%), 9872.45 column/sec. Elapsed time 2.26 sec\n",
      "ItemKNNSimilarityHybridRecommender: URM Detected 398 ( 3.1%) users with no interactions.\n",
      "ItemKNNSimilarityHybridRecommender: URM Detected 131 ( 0.6%) items with no interactions.\n",
      "Similarity column 22348 (100.0%), 10161.90 column/sec. Elapsed time 2.20 sec\n",
      "Similarity column 22348 (100.0%), 9945.66 column/sec. Elapsed time 2.25 sec\n",
      "ItemKNNSimilarityHybridRecommender: URM Detected 396 ( 3.0%) users with no interactions.\n",
      "ItemKNNSimilarityHybridRecommender: URM Detected 130 ( 0.6%) items with no interactions.\n",
      "Similarity column 22348 (100.0%), 10234.30 column/sec. Elapsed time 2.18 sec\n",
      "Similarity column 22348 (100.0%), 9957.78 column/sec. Elapsed time 2.24 sec\n",
      "ItemKNNSimilarityHybridRecommender: URM Detected 394 ( 3.0%) users with no interactions.\n",
      "ItemKNNSimilarityHybridRecommender: URM Detected 128 ( 0.6%) items with no interactions.\n",
      "Similarity column 22348 (100.0%), 10135.36 column/sec. Elapsed time 2.20 sec\n",
      "Similarity column 22348 (100.0%), 9912.15 column/sec. Elapsed time 2.25 sec\n",
      "ItemKNNSimilarityHybridRecommender: URM Detected 401 ( 3.1%) users with no interactions.\n",
      "ItemKNNSimilarityHybridRecommender: URM Detected 130 ( 0.6%) items with no interactions.\n",
      "Similarity column 22348 (100.0%), 10130.52 column/sec. Elapsed time 2.21 sec\n",
      "Similarity column 22348 (100.0%), 9909.74 column/sec. Elapsed time 2.26 sec\n",
      "ItemKNNSimilarityHybridRecommender: URM Detected 397 ( 3.0%) users with no interactions.\n",
      "ItemKNNSimilarityHybridRecommender: URM Detected 127 ( 0.6%) items with no interactions.\n",
      "Similarity column 22348 (100.0%), 10144.67 column/sec. Elapsed time 2.20 sec\n",
      "Similarity column 22348 (100.0%), 9888.46 column/sec. Elapsed time 2.26 sec\n",
      "ItemKNNSimilarityHybridRecommender: URM Detected 394 ( 3.0%) users with no interactions.\n",
      "ItemKNNSimilarityHybridRecommender: URM Detected 129 ( 0.6%) items with no interactions.\n",
      "Similarity column 22348 (100.0%), 10131.02 column/sec. Elapsed time 2.21 sec\n",
      "Similarity column 22348 (100.0%), 9932.40 column/sec. Elapsed time 2.25 sec\n",
      "ItemKNNSimilarityHybridRecommender: URM Detected 393 ( 3.0%) users with no interactions.\n",
      "ItemKNNSimilarityHybridRecommender: URM Detected 127 ( 0.6%) items with no interactions.\n",
      "Similarity column 22348 (100.0%), 10167.27 column/sec. Elapsed time 2.20 sec\n",
      "Similarity column 22348 (100.0%), 9916.48 column/sec. Elapsed time 2.25 sec\n",
      "ItemKNNSimilarityHybridRecommender: URM Detected 396 ( 3.0%) users with no interactions.\n",
      "ItemKNNSimilarityHybridRecommender: URM Detected 133 ( 0.6%) items with no interactions.\n"
     ]
    }
   ],
   "source": [
    "itemhybrids = []\n",
    "\n",
    "for i in range(n_fold):\n",
    "    sim1 = Compute_Similarity(URM_trains[i], shrink = 8.516265, topK = 112, similarity = \"cosine\").compute_similarity()\n",
    "    sim2 = Compute_Similarity(URM_trains[i], shrink = 4.174645, topK = 3, similarity = \"dice\").compute_similarity()\n",
    "\n",
    "    itemhybrid = ItemKNNSimilarityHybridRecommender(URM_trains[i], sim1, sim2)\n",
    "    itemhybrid.fit(topK = 68, alpha = 0.212)\n",
    "    itemhybrids.append(itemhybrid)"
   ]
  },
  {
   "cell_type": "code",
   "execution_count": 148,
   "metadata": {},
   "outputs": [],
   "source": [
    "from Recommenders.GraphBased.RP3betaRecommender import RP3betaRecommender"
   ]
  },
  {
   "cell_type": "code",
   "execution_count": 149,
   "metadata": {},
   "outputs": [
    {
     "name": "stdout",
     "output_type": "stream",
     "text": [
      "RP3betaRecommender: URM Detected 396 ( 3.0%) users with no interactions.\n",
      "RP3betaRecommender: URM Detected 130 ( 0.6%) items with no interactions.\n",
      "RP3betaRecommender: Similarity column 22348 (100.0%), 5648.23 column/sec. Elapsed time 3.96 sec\n",
      "RP3betaRecommender: URM Detected 394 ( 3.0%) users with no interactions.\n",
      "RP3betaRecommender: URM Detected 130 ( 0.6%) items with no interactions.\n",
      "RP3betaRecommender: Similarity column 22348 (100.0%), 5632.29 column/sec. Elapsed time 3.97 sec\n",
      "RP3betaRecommender: URM Detected 395 ( 3.0%) users with no interactions.\n",
      "RP3betaRecommender: URM Detected 129 ( 0.6%) items with no interactions.\n",
      "RP3betaRecommender: Similarity column 22348 (100.0%), 5567.95 column/sec. Elapsed time 4.01 sec\n",
      "RP3betaRecommender: URM Detected 398 ( 3.1%) users with no interactions.\n",
      "RP3betaRecommender: URM Detected 130 ( 0.6%) items with no interactions.\n",
      "RP3betaRecommender: Similarity column 22348 (100.0%), 5622.33 column/sec. Elapsed time 3.97 sec\n",
      "RP3betaRecommender: URM Detected 399 ( 3.1%) users with no interactions.\n",
      "RP3betaRecommender: URM Detected 134 ( 0.6%) items with no interactions.\n",
      "RP3betaRecommender: Similarity column 22348 (100.0%), 5673.52 column/sec. Elapsed time 3.94 sec\n",
      "RP3betaRecommender: URM Detected 403 ( 3.1%) users with no interactions.\n",
      "RP3betaRecommender: URM Detected 129 ( 0.6%) items with no interactions.\n",
      "RP3betaRecommender: Similarity column 22348 (100.0%), 5646.04 column/sec. Elapsed time 3.96 sec\n",
      "RP3betaRecommender: URM Detected 392 ( 3.0%) users with no interactions.\n",
      "RP3betaRecommender: URM Detected 132 ( 0.6%) items with no interactions.\n",
      "RP3betaRecommender: Similarity column 22348 (100.0%), 5648.00 column/sec. Elapsed time 3.96 sec\n",
      "RP3betaRecommender: URM Detected 399 ( 3.1%) users with no interactions.\n",
      "RP3betaRecommender: URM Detected 131 ( 0.6%) items with no interactions.\n",
      "RP3betaRecommender: Similarity column 22348 (100.0%), 5657.21 column/sec. Elapsed time 3.95 sec\n",
      "RP3betaRecommender: URM Detected 395 ( 3.0%) users with no interactions.\n",
      "RP3betaRecommender: URM Detected 130 ( 0.6%) items with no interactions.\n",
      "RP3betaRecommender: Similarity column 22348 (100.0%), 5656.04 column/sec. Elapsed time 3.95 sec\n",
      "RP3betaRecommender: URM Detected 397 ( 3.0%) users with no interactions.\n",
      "RP3betaRecommender: URM Detected 132 ( 0.6%) items with no interactions.\n",
      "RP3betaRecommender: Similarity column 22348 (100.0%), 5654.80 column/sec. Elapsed time 3.95 sec\n",
      "RP3betaRecommender: URM Detected 398 ( 3.1%) users with no interactions.\n",
      "RP3betaRecommender: URM Detected 129 ( 0.6%) items with no interactions.\n",
      "RP3betaRecommender: Similarity column 22348 (100.0%), 5643.32 column/sec. Elapsed time 3.96 sec\n",
      "RP3betaRecommender: URM Detected 391 ( 3.0%) users with no interactions.\n",
      "RP3betaRecommender: URM Detected 130 ( 0.6%) items with no interactions.\n",
      "RP3betaRecommender: Similarity column 22348 (100.0%), 5631.34 column/sec. Elapsed time 3.97 sec\n",
      "RP3betaRecommender: URM Detected 398 ( 3.1%) users with no interactions.\n",
      "RP3betaRecommender: URM Detected 131 ( 0.6%) items with no interactions.\n",
      "RP3betaRecommender: Similarity column 22348 (100.0%), 5581.48 column/sec. Elapsed time 4.00 sec\n",
      "RP3betaRecommender: URM Detected 390 ( 3.0%) users with no interactions.\n",
      "RP3betaRecommender: URM Detected 128 ( 0.6%) items with no interactions.\n",
      "RP3betaRecommender: Similarity column 22348 (100.0%), 5640.60 column/sec. Elapsed time 3.96 sec\n",
      "RP3betaRecommender: URM Detected 405 ( 3.1%) users with no interactions.\n",
      "RP3betaRecommender: URM Detected 131 ( 0.6%) items with no interactions.\n",
      "RP3betaRecommender: Similarity column 22348 (100.0%), 5662.33 column/sec. Elapsed time 3.95 sec\n",
      "RP3betaRecommender: URM Detected 398 ( 3.1%) users with no interactions.\n",
      "RP3betaRecommender: URM Detected 132 ( 0.6%) items with no interactions.\n",
      "RP3betaRecommender: Similarity column 22348 (100.0%), 5611.55 column/sec. Elapsed time 3.98 sec\n",
      "RP3betaRecommender: URM Detected 397 ( 3.0%) users with no interactions.\n",
      "RP3betaRecommender: URM Detected 129 ( 0.6%) items with no interactions.\n",
      "RP3betaRecommender: Similarity column 22348 (100.0%), 5647.30 column/sec. Elapsed time 3.96 sec\n",
      "RP3betaRecommender: URM Detected 399 ( 3.1%) users with no interactions.\n",
      "RP3betaRecommender: URM Detected 128 ( 0.6%) items with no interactions.\n",
      "RP3betaRecommender: Similarity column 22348 (100.0%), 5647.41 column/sec. Elapsed time 3.96 sec\n",
      "RP3betaRecommender: URM Detected 395 ( 3.0%) users with no interactions.\n",
      "RP3betaRecommender: URM Detected 127 ( 0.6%) items with no interactions.\n",
      "RP3betaRecommender: Similarity column 22348 (100.0%), 5650.31 column/sec. Elapsed time 3.96 sec\n",
      "RP3betaRecommender: URM Detected 396 ( 3.0%) users with no interactions.\n",
      "RP3betaRecommender: URM Detected 134 ( 0.6%) items with no interactions.\n",
      "RP3betaRecommender: Similarity column 22348 (100.0%), 5647.49 column/sec. Elapsed time 3.96 sec\n",
      "RP3betaRecommender: URM Detected 395 ( 3.0%) users with no interactions.\n",
      "RP3betaRecommender: URM Detected 129 ( 0.6%) items with no interactions.\n",
      "RP3betaRecommender: Similarity column 22348 (100.0%), 5665.19 column/sec. Elapsed time 3.94 sec\n",
      "RP3betaRecommender: URM Detected 399 ( 3.1%) users with no interactions.\n",
      "RP3betaRecommender: URM Detected 133 ( 0.6%) items with no interactions.\n",
      "RP3betaRecommender: Similarity column 22348 (100.0%), 5663.45 column/sec. Elapsed time 3.95 sec\n",
      "RP3betaRecommender: URM Detected 391 ( 3.0%) users with no interactions.\n",
      "RP3betaRecommender: URM Detected 131 ( 0.6%) items with no interactions.\n",
      "RP3betaRecommender: Similarity column 22348 (100.0%), 5607.53 column/sec. Elapsed time 3.99 sec\n",
      "RP3betaRecommender: URM Detected 394 ( 3.0%) users with no interactions.\n",
      "RP3betaRecommender: URM Detected 128 ( 0.6%) items with no interactions.\n",
      "RP3betaRecommender: Similarity column 22348 (100.0%), 5617.04 column/sec. Elapsed time 3.98 sec\n",
      "RP3betaRecommender: URM Detected 397 ( 3.0%) users with no interactions.\n",
      "RP3betaRecommender: URM Detected 130 ( 0.6%) items with no interactions.\n",
      "RP3betaRecommender: Similarity column 22348 (100.0%), 5629.01 column/sec. Elapsed time 3.97 sec\n",
      "RP3betaRecommender: URM Detected 396 ( 3.0%) users with no interactions.\n",
      "RP3betaRecommender: URM Detected 132 ( 0.6%) items with no interactions.\n",
      "RP3betaRecommender: Similarity column 22348 (100.0%), 5663.95 column/sec. Elapsed time 3.95 sec\n",
      "RP3betaRecommender: URM Detected 399 ( 3.1%) users with no interactions.\n",
      "RP3betaRecommender: URM Detected 128 ( 0.6%) items with no interactions.\n",
      "RP3betaRecommender: Similarity column 22348 (100.0%), 5668.92 column/sec. Elapsed time 3.94 sec\n",
      "RP3betaRecommender: URM Detected 397 ( 3.0%) users with no interactions.\n",
      "RP3betaRecommender: URM Detected 131 ( 0.6%) items with no interactions.\n",
      "RP3betaRecommender: Similarity column 22348 (100.0%), 5661.76 column/sec. Elapsed time 3.95 sec\n",
      "RP3betaRecommender: URM Detected 393 ( 3.0%) users with no interactions.\n",
      "RP3betaRecommender: URM Detected 131 ( 0.6%) items with no interactions.\n",
      "RP3betaRecommender: Similarity column 22348 (100.0%), 5681.30 column/sec. Elapsed time 3.93 sec\n",
      "RP3betaRecommender: URM Detected 396 ( 3.0%) users with no interactions.\n",
      "RP3betaRecommender: URM Detected 131 ( 0.6%) items with no interactions.\n",
      "RP3betaRecommender: Similarity column 22348 (100.0%), 5681.70 column/sec. Elapsed time 3.93 sec\n",
      "RP3betaRecommender: URM Detected 394 ( 3.0%) users with no interactions.\n",
      "RP3betaRecommender: URM Detected 128 ( 0.6%) items with no interactions.\n",
      "RP3betaRecommender: Similarity column 22348 (100.0%), 5667.51 column/sec. Elapsed time 3.94 sec\n",
      "RP3betaRecommender: URM Detected 394 ( 3.0%) users with no interactions.\n",
      "RP3betaRecommender: URM Detected 130 ( 0.6%) items with no interactions.\n",
      "RP3betaRecommender: Similarity column 22348 (100.0%), 5673.09 column/sec. Elapsed time 3.94 sec\n",
      "RP3betaRecommender: URM Detected 398 ( 3.1%) users with no interactions.\n",
      "RP3betaRecommender: URM Detected 131 ( 0.6%) items with no interactions.\n",
      "RP3betaRecommender: Similarity column 22348 (100.0%), 5665.40 column/sec. Elapsed time 3.94 sec\n",
      "RP3betaRecommender: URM Detected 394 ( 3.0%) users with no interactions.\n",
      "RP3betaRecommender: URM Detected 128 ( 0.6%) items with no interactions.\n",
      "RP3betaRecommender: Similarity column 22348 (100.0%), 5694.83 column/sec. Elapsed time 3.92 sec\n"
     ]
    },
    {
     "name": "stdout",
     "output_type": "stream",
     "text": [
      "RP3betaRecommender: URM Detected 397 ( 3.0%) users with no interactions.\n",
      "RP3betaRecommender: URM Detected 129 ( 0.6%) items with no interactions.\n",
      "RP3betaRecommender: Similarity column 22348 (100.0%), 5668.17 column/sec. Elapsed time 3.94 sec\n",
      "RP3betaRecommender: URM Detected 400 ( 3.1%) users with no interactions.\n",
      "RP3betaRecommender: URM Detected 129 ( 0.6%) items with no interactions.\n",
      "RP3betaRecommender: Similarity column 22348 (100.0%), 5670.37 column/sec. Elapsed time 3.94 sec\n",
      "RP3betaRecommender: URM Detected 397 ( 3.0%) users with no interactions.\n",
      "RP3betaRecommender: URM Detected 128 ( 0.6%) items with no interactions.\n",
      "RP3betaRecommender: Similarity column 22348 (100.0%), 5649.68 column/sec. Elapsed time 3.96 sec\n",
      "RP3betaRecommender: URM Detected 401 ( 3.1%) users with no interactions.\n",
      "RP3betaRecommender: URM Detected 128 ( 0.6%) items with no interactions.\n",
      "RP3betaRecommender: Similarity column 22348 (100.0%), 5679.50 column/sec. Elapsed time 3.93 sec\n",
      "RP3betaRecommender: URM Detected 396 ( 3.0%) users with no interactions.\n",
      "RP3betaRecommender: URM Detected 130 ( 0.6%) items with no interactions.\n",
      "RP3betaRecommender: Similarity column 22348 (100.0%), 5678.68 column/sec. Elapsed time 3.93 sec\n",
      "RP3betaRecommender: URM Detected 395 ( 3.0%) users with no interactions.\n",
      "RP3betaRecommender: URM Detected 129 ( 0.6%) items with no interactions.\n",
      "RP3betaRecommender: Similarity column 22348 (100.0%), 5697.55 column/sec. Elapsed time 3.92 sec\n",
      "RP3betaRecommender: URM Detected 399 ( 3.1%) users with no interactions.\n",
      "RP3betaRecommender: URM Detected 128 ( 0.6%) items with no interactions.\n",
      "RP3betaRecommender: Similarity column 22348 (100.0%), 5691.32 column/sec. Elapsed time 3.93 sec\n",
      "RP3betaRecommender: URM Detected 396 ( 3.0%) users with no interactions.\n",
      "RP3betaRecommender: URM Detected 128 ( 0.6%) items with no interactions.\n",
      "RP3betaRecommender: Similarity column 22348 (100.0%), 5696.15 column/sec. Elapsed time 3.92 sec\n",
      "RP3betaRecommender: URM Detected 397 ( 3.0%) users with no interactions.\n",
      "RP3betaRecommender: URM Detected 129 ( 0.6%) items with no interactions.\n",
      "RP3betaRecommender: Similarity column 22348 (100.0%), 5689.25 column/sec. Elapsed time 3.93 sec\n",
      "RP3betaRecommender: URM Detected 399 ( 3.1%) users with no interactions.\n",
      "RP3betaRecommender: URM Detected 128 ( 0.6%) items with no interactions.\n",
      "RP3betaRecommender: Similarity column 22348 (100.0%), 5705.15 column/sec. Elapsed time 3.92 sec\n",
      "RP3betaRecommender: URM Detected 396 ( 3.0%) users with no interactions.\n",
      "RP3betaRecommender: URM Detected 130 ( 0.6%) items with no interactions.\n",
      "RP3betaRecommender: Similarity column 22348 (100.0%), 5649.61 column/sec. Elapsed time 3.96 sec\n",
      "RP3betaRecommender: URM Detected 399 ( 3.1%) users with no interactions.\n",
      "RP3betaRecommender: URM Detected 131 ( 0.6%) items with no interactions.\n",
      "RP3betaRecommender: Similarity column 22348 (100.0%), 5648.92 column/sec. Elapsed time 3.96 sec\n",
      "RP3betaRecommender: URM Detected 401 ( 3.1%) users with no interactions.\n",
      "RP3betaRecommender: URM Detected 128 ( 0.6%) items with no interactions.\n",
      "RP3betaRecommender: Similarity column 22348 (100.0%), 5639.06 column/sec. Elapsed time 3.96 sec\n",
      "RP3betaRecommender: URM Detected 392 ( 3.0%) users with no interactions.\n",
      "RP3betaRecommender: URM Detected 128 ( 0.6%) items with no interactions.\n",
      "RP3betaRecommender: Similarity column 22348 (100.0%), 5650.86 column/sec. Elapsed time 3.95 sec\n",
      "RP3betaRecommender: URM Detected 395 ( 3.0%) users with no interactions.\n",
      "RP3betaRecommender: URM Detected 128 ( 0.6%) items with no interactions.\n",
      "RP3betaRecommender: Similarity column 22348 (100.0%), 5636.57 column/sec. Elapsed time 3.96 sec\n",
      "RP3betaRecommender: URM Detected 397 ( 3.0%) users with no interactions.\n",
      "RP3betaRecommender: URM Detected 131 ( 0.6%) items with no interactions.\n",
      "RP3betaRecommender: Similarity column 22348 (100.0%), 5621.37 column/sec. Elapsed time 3.98 sec\n",
      "RP3betaRecommender: URM Detected 394 ( 3.0%) users with no interactions.\n",
      "RP3betaRecommender: URM Detected 130 ( 0.6%) items with no interactions.\n",
      "RP3betaRecommender: Similarity column 22348 (100.0%), 5642.06 column/sec. Elapsed time 3.96 sec\n",
      "RP3betaRecommender: URM Detected 398 ( 3.1%) users with no interactions.\n",
      "RP3betaRecommender: URM Detected 129 ( 0.6%) items with no interactions.\n",
      "RP3betaRecommender: Similarity column 22348 (100.0%), 5644.64 column/sec. Elapsed time 3.96 sec\n",
      "RP3betaRecommender: URM Detected 395 ( 3.0%) users with no interactions.\n",
      "RP3betaRecommender: URM Detected 128 ( 0.6%) items with no interactions.\n",
      "RP3betaRecommender: Similarity column 22348 (100.0%), 5608.72 column/sec. Elapsed time 3.98 sec\n",
      "RP3betaRecommender: URM Detected 397 ( 3.0%) users with no interactions.\n",
      "RP3betaRecommender: URM Detected 129 ( 0.6%) items with no interactions.\n",
      "RP3betaRecommender: Similarity column 22348 (100.0%), 5658.96 column/sec. Elapsed time 3.95 sec\n",
      "RP3betaRecommender: URM Detected 394 ( 3.0%) users with no interactions.\n",
      "RP3betaRecommender: URM Detected 130 ( 0.6%) items with no interactions.\n",
      "RP3betaRecommender: Similarity column 22348 (100.0%), 5634.08 column/sec. Elapsed time 3.97 sec\n",
      "RP3betaRecommender: URM Detected 396 ( 3.0%) users with no interactions.\n",
      "RP3betaRecommender: URM Detected 130 ( 0.6%) items with no interactions.\n",
      "RP3betaRecommender: Similarity column 22348 (100.0%), 5614.30 column/sec. Elapsed time 3.98 sec\n",
      "RP3betaRecommender: URM Detected 400 ( 3.1%) users with no interactions.\n",
      "RP3betaRecommender: URM Detected 132 ( 0.6%) items with no interactions.\n",
      "RP3betaRecommender: Similarity column 22348 (100.0%), 5623.34 column/sec. Elapsed time 3.97 sec\n",
      "RP3betaRecommender: URM Detected 394 ( 3.0%) users with no interactions.\n",
      "RP3betaRecommender: URM Detected 129 ( 0.6%) items with no interactions.\n",
      "RP3betaRecommender: Similarity column 22348 (100.0%), 5651.21 column/sec. Elapsed time 3.95 sec\n",
      "RP3betaRecommender: URM Detected 394 ( 3.0%) users with no interactions.\n",
      "RP3betaRecommender: URM Detected 131 ( 0.6%) items with no interactions.\n",
      "RP3betaRecommender: Similarity column 22348 (100.0%), 5601.27 column/sec. Elapsed time 3.99 sec\n",
      "RP3betaRecommender: URM Detected 395 ( 3.0%) users with no interactions.\n",
      "RP3betaRecommender: URM Detected 129 ( 0.6%) items with no interactions.\n",
      "RP3betaRecommender: Similarity column 22348 (100.0%), 5660.37 column/sec. Elapsed time 3.95 sec\n",
      "RP3betaRecommender: URM Detected 400 ( 3.1%) users with no interactions.\n",
      "RP3betaRecommender: URM Detected 130 ( 0.6%) items with no interactions.\n",
      "RP3betaRecommender: Similarity column 22348 (100.0%), 5639.21 column/sec. Elapsed time 3.96 sec\n",
      "RP3betaRecommender: URM Detected 402 ( 3.1%) users with no interactions.\n",
      "RP3betaRecommender: URM Detected 129 ( 0.6%) items with no interactions.\n",
      "RP3betaRecommender: Similarity column 22348 (100.0%), 5637.51 column/sec. Elapsed time 3.96 sec\n",
      "RP3betaRecommender: URM Detected 400 ( 3.1%) users with no interactions.\n",
      "RP3betaRecommender: URM Detected 126 ( 0.6%) items with no interactions.\n",
      "RP3betaRecommender: Similarity column 22348 (100.0%), 5626.62 column/sec. Elapsed time 3.97 sec\n",
      "RP3betaRecommender: URM Detected 397 ( 3.0%) users with no interactions.\n",
      "RP3betaRecommender: URM Detected 132 ( 0.6%) items with no interactions.\n",
      "RP3betaRecommender: Similarity column 22348 (100.0%), 5639.15 column/sec. Elapsed time 3.96 sec\n",
      "RP3betaRecommender: URM Detected 394 ( 3.0%) users with no interactions.\n",
      "RP3betaRecommender: URM Detected 127 ( 0.6%) items with no interactions.\n",
      "RP3betaRecommender: Similarity column 22348 (100.0%), 5648.25 column/sec. Elapsed time 3.96 sec\n",
      "RP3betaRecommender: URM Detected 395 ( 3.0%) users with no interactions.\n",
      "RP3betaRecommender: URM Detected 129 ( 0.6%) items with no interactions.\n",
      "RP3betaRecommender: Similarity column 22348 (100.0%), 5650.06 column/sec. Elapsed time 3.96 sec\n",
      "RP3betaRecommender: URM Detected 393 ( 3.0%) users with no interactions.\n",
      "RP3betaRecommender: URM Detected 130 ( 0.6%) items with no interactions.\n",
      "RP3betaRecommender: Similarity column 22348 (100.0%), 5630.47 column/sec. Elapsed time 3.97 sec\n",
      "RP3betaRecommender: URM Detected 392 ( 3.0%) users with no interactions.\n",
      "RP3betaRecommender: URM Detected 131 ( 0.6%) items with no interactions.\n",
      "RP3betaRecommender: Similarity column 22348 (100.0%), 5637.48 column/sec. Elapsed time 3.96 sec\n"
     ]
    },
    {
     "name": "stdout",
     "output_type": "stream",
     "text": [
      "RP3betaRecommender: URM Detected 396 ( 3.0%) users with no interactions.\n",
      "RP3betaRecommender: URM Detected 130 ( 0.6%) items with no interactions.\n",
      "RP3betaRecommender: Similarity column 22348 (100.0%), 5670.58 column/sec. Elapsed time 3.94 sec\n",
      "RP3betaRecommender: URM Detected 393 ( 3.0%) users with no interactions.\n",
      "RP3betaRecommender: URM Detected 127 ( 0.6%) items with no interactions.\n",
      "RP3betaRecommender: Similarity column 22348 (100.0%), 5621.18 column/sec. Elapsed time 3.98 sec\n",
      "RP3betaRecommender: URM Detected 390 ( 3.0%) users with no interactions.\n",
      "RP3betaRecommender: URM Detected 133 ( 0.6%) items with no interactions.\n",
      "RP3betaRecommender: Similarity column 22348 (100.0%), 5661.78 column/sec. Elapsed time 3.95 sec\n",
      "RP3betaRecommender: URM Detected 402 ( 3.1%) users with no interactions.\n",
      "RP3betaRecommender: URM Detected 129 ( 0.6%) items with no interactions.\n",
      "RP3betaRecommender: Similarity column 22348 (100.0%), 5650.31 column/sec. Elapsed time 3.96 sec\n",
      "RP3betaRecommender: URM Detected 393 ( 3.0%) users with no interactions.\n",
      "RP3betaRecommender: URM Detected 130 ( 0.6%) items with no interactions.\n",
      "RP3betaRecommender: Similarity column 22348 (100.0%), 5651.57 column/sec. Elapsed time 3.95 sec\n",
      "RP3betaRecommender: URM Detected 395 ( 3.0%) users with no interactions.\n",
      "RP3betaRecommender: URM Detected 133 ( 0.6%) items with no interactions.\n",
      "RP3betaRecommender: Similarity column 22348 (100.0%), 5639.83 column/sec. Elapsed time 3.96 sec\n",
      "RP3betaRecommender: URM Detected 401 ( 3.1%) users with no interactions.\n",
      "RP3betaRecommender: URM Detected 129 ( 0.6%) items with no interactions.\n",
      "RP3betaRecommender: Similarity column 22348 (100.0%), 5646.78 column/sec. Elapsed time 3.96 sec\n",
      "RP3betaRecommender: URM Detected 399 ( 3.1%) users with no interactions.\n",
      "RP3betaRecommender: URM Detected 127 ( 0.6%) items with no interactions.\n",
      "RP3betaRecommender: Similarity column 22348 (100.0%), 5642.65 column/sec. Elapsed time 3.96 sec\n",
      "RP3betaRecommender: URM Detected 401 ( 3.1%) users with no interactions.\n",
      "RP3betaRecommender: URM Detected 132 ( 0.6%) items with no interactions.\n",
      "RP3betaRecommender: Similarity column 22348 (100.0%), 5647.51 column/sec. Elapsed time 3.96 sec\n",
      "RP3betaRecommender: URM Detected 400 ( 3.1%) users with no interactions.\n",
      "RP3betaRecommender: URM Detected 130 ( 0.6%) items with no interactions.\n",
      "RP3betaRecommender: Similarity column 22348 (100.0%), 5643.66 column/sec. Elapsed time 3.96 sec\n",
      "RP3betaRecommender: URM Detected 393 ( 3.0%) users with no interactions.\n",
      "RP3betaRecommender: URM Detected 131 ( 0.6%) items with no interactions.\n",
      "RP3betaRecommender: Similarity column 22348 (100.0%), 5655.36 column/sec. Elapsed time 3.95 sec\n",
      "RP3betaRecommender: URM Detected 396 ( 3.0%) users with no interactions.\n",
      "RP3betaRecommender: URM Detected 133 ( 0.6%) items with no interactions.\n",
      "RP3betaRecommender: Similarity column 22348 (100.0%), 5654.93 column/sec. Elapsed time 3.95 sec\n",
      "RP3betaRecommender: URM Detected 396 ( 3.0%) users with no interactions.\n",
      "RP3betaRecommender: URM Detected 132 ( 0.6%) items with no interactions.\n",
      "RP3betaRecommender: Similarity column 22348 (100.0%), 5667.57 column/sec. Elapsed time 3.94 sec\n",
      "RP3betaRecommender: URM Detected 400 ( 3.1%) users with no interactions.\n",
      "RP3betaRecommender: URM Detected 130 ( 0.6%) items with no interactions.\n",
      "RP3betaRecommender: Similarity column 22348 (100.0%), 5653.92 column/sec. Elapsed time 3.95 sec\n",
      "RP3betaRecommender: URM Detected 395 ( 3.0%) users with no interactions.\n",
      "RP3betaRecommender: URM Detected 133 ( 0.6%) items with no interactions.\n",
      "RP3betaRecommender: Similarity column 22348 (100.0%), 5676.03 column/sec. Elapsed time 3.94 sec\n",
      "RP3betaRecommender: URM Detected 398 ( 3.1%) users with no interactions.\n",
      "RP3betaRecommender: URM Detected 132 ( 0.6%) items with no interactions.\n",
      "RP3betaRecommender: Similarity column 22348 (100.0%), 5682.67 column/sec. Elapsed time 3.93 sec\n",
      "RP3betaRecommender: URM Detected 396 ( 3.0%) users with no interactions.\n",
      "RP3betaRecommender: URM Detected 130 ( 0.6%) items with no interactions.\n",
      "RP3betaRecommender: Similarity column 22348 (100.0%), 5669.70 column/sec. Elapsed time 3.94 sec\n",
      "RP3betaRecommender: URM Detected 397 ( 3.0%) users with no interactions.\n",
      "RP3betaRecommender: URM Detected 131 ( 0.6%) items with no interactions.\n",
      "RP3betaRecommender: Similarity column 22348 (100.0%), 5670.43 column/sec. Elapsed time 3.94 sec\n",
      "RP3betaRecommender: URM Detected 400 ( 3.1%) users with no interactions.\n",
      "RP3betaRecommender: URM Detected 129 ( 0.6%) items with no interactions.\n",
      "RP3betaRecommender: Similarity column 22348 (100.0%), 5656.23 column/sec. Elapsed time 3.95 sec\n",
      "RP3betaRecommender: URM Detected 401 ( 3.1%) users with no interactions.\n",
      "RP3betaRecommender: URM Detected 128 ( 0.6%) items with no interactions.\n",
      "RP3betaRecommender: Similarity column 22348 (100.0%), 5656.57 column/sec. Elapsed time 3.95 sec\n",
      "RP3betaRecommender: URM Detected 399 ( 3.1%) users with no interactions.\n",
      "RP3betaRecommender: URM Detected 127 ( 0.6%) items with no interactions.\n",
      "RP3betaRecommender: Similarity column 22348 (100.0%), 5646.83 column/sec. Elapsed time 3.96 sec\n",
      "RP3betaRecommender: URM Detected 397 ( 3.0%) users with no interactions.\n",
      "RP3betaRecommender: URM Detected 132 ( 0.6%) items with no interactions.\n",
      "RP3betaRecommender: Similarity column 22348 (100.0%), 5643.22 column/sec. Elapsed time 3.96 sec\n",
      "RP3betaRecommender: URM Detected 393 ( 3.0%) users with no interactions.\n",
      "RP3betaRecommender: URM Detected 131 ( 0.6%) items with no interactions.\n",
      "RP3betaRecommender: Similarity column 22348 (100.0%), 5639.14 column/sec. Elapsed time 3.96 sec\n",
      "RP3betaRecommender: URM Detected 395 ( 3.0%) users with no interactions.\n",
      "RP3betaRecommender: URM Detected 128 ( 0.6%) items with no interactions.\n",
      "RP3betaRecommender: Similarity column 22348 (100.0%), 5676.21 column/sec. Elapsed time 3.94 sec\n",
      "RP3betaRecommender: URM Detected 398 ( 3.1%) users with no interactions.\n",
      "RP3betaRecommender: URM Detected 131 ( 0.6%) items with no interactions.\n",
      "RP3betaRecommender: Similarity column 22348 (100.0%), 5663.25 column/sec. Elapsed time 3.95 sec\n",
      "RP3betaRecommender: URM Detected 396 ( 3.0%) users with no interactions.\n",
      "RP3betaRecommender: URM Detected 130 ( 0.6%) items with no interactions.\n",
      "RP3betaRecommender: Similarity column 22348 (100.0%), 5671.94 column/sec. Elapsed time 3.94 sec\n",
      "RP3betaRecommender: URM Detected 394 ( 3.0%) users with no interactions.\n",
      "RP3betaRecommender: URM Detected 128 ( 0.6%) items with no interactions.\n",
      "RP3betaRecommender: Similarity column 22348 (100.0%), 5659.27 column/sec. Elapsed time 3.95 sec\n",
      "RP3betaRecommender: URM Detected 401 ( 3.1%) users with no interactions.\n",
      "RP3betaRecommender: URM Detected 130 ( 0.6%) items with no interactions.\n",
      "RP3betaRecommender: Similarity column 22348 (100.0%), 5683.30 column/sec. Elapsed time 3.93 sec\n",
      "RP3betaRecommender: URM Detected 397 ( 3.0%) users with no interactions.\n",
      "RP3betaRecommender: URM Detected 127 ( 0.6%) items with no interactions.\n",
      "RP3betaRecommender: Similarity column 22348 (100.0%), 5631.09 column/sec. Elapsed time 3.97 sec\n",
      "RP3betaRecommender: URM Detected 394 ( 3.0%) users with no interactions.\n",
      "RP3betaRecommender: URM Detected 129 ( 0.6%) items with no interactions.\n",
      "RP3betaRecommender: Similarity column 22348 (100.0%), 5650.18 column/sec. Elapsed time 3.96 sec\n",
      "RP3betaRecommender: URM Detected 393 ( 3.0%) users with no interactions.\n",
      "RP3betaRecommender: URM Detected 127 ( 0.6%) items with no interactions.\n",
      "RP3betaRecommender: Similarity column 22348 (100.0%), 5640.11 column/sec. Elapsed time 3.96 sec\n",
      "RP3betaRecommender: URM Detected 396 ( 3.0%) users with no interactions.\n",
      "RP3betaRecommender: URM Detected 133 ( 0.6%) items with no interactions.\n",
      "RP3betaRecommender: Similarity column 22348 (100.0%), 5670.55 column/sec. Elapsed time 3.94 sec\n"
     ]
    }
   ],
   "source": [
    "rp3betas = []\n",
    "\n",
    "for i in range(n_fold):\n",
    "    rp3beta = RP3betaRecommender(URM_trains[i])\n",
    "    rp3beta.fit(topK=25, alpha=0.253519, beta=0.209538, implicit=True,\n",
    "               normalize_similarity=True)\n",
    "    rp3betas.append(rp3beta)"
   ]
  },
  {
   "cell_type": "code",
   "execution_count": 150,
   "metadata": {},
   "outputs": [],
   "source": [
    "from Recommenders.GeneralScoresHybridRecommender import GeneralScoresHybridRecommender"
   ]
  },
  {
   "cell_type": "code",
   "execution_count": 151,
   "metadata": {},
   "outputs": [
    {
     "name": "stdout",
     "output_type": "stream",
     "text": [
      "GeneralScoresHybridRecommender: URM Detected 396 ( 3.0%) users with no interactions.\n",
      "GeneralScoresHybridRecommender: URM Detected 130 ( 0.6%) items with no interactions.\n",
      "GeneralScoresHybridRecommender: URM Detected 394 ( 3.0%) users with no interactions.\n",
      "GeneralScoresHybridRecommender: URM Detected 130 ( 0.6%) items with no interactions.\n",
      "GeneralScoresHybridRecommender: URM Detected 395 ( 3.0%) users with no interactions.\n",
      "GeneralScoresHybridRecommender: URM Detected 129 ( 0.6%) items with no interactions.\n",
      "GeneralScoresHybridRecommender: URM Detected 398 ( 3.1%) users with no interactions.\n",
      "GeneralScoresHybridRecommender: URM Detected 130 ( 0.6%) items with no interactions.\n",
      "GeneralScoresHybridRecommender: URM Detected 399 ( 3.1%) users with no interactions.\n",
      "GeneralScoresHybridRecommender: URM Detected 134 ( 0.6%) items with no interactions.\n",
      "GeneralScoresHybridRecommender: URM Detected 403 ( 3.1%) users with no interactions.\n",
      "GeneralScoresHybridRecommender: URM Detected 129 ( 0.6%) items with no interactions.\n",
      "GeneralScoresHybridRecommender: URM Detected 392 ( 3.0%) users with no interactions.\n",
      "GeneralScoresHybridRecommender: URM Detected 132 ( 0.6%) items with no interactions.\n",
      "GeneralScoresHybridRecommender: URM Detected 399 ( 3.1%) users with no interactions.\n",
      "GeneralScoresHybridRecommender: URM Detected 131 ( 0.6%) items with no interactions.\n",
      "GeneralScoresHybridRecommender: URM Detected 395 ( 3.0%) users with no interactions.\n",
      "GeneralScoresHybridRecommender: URM Detected 130 ( 0.6%) items with no interactions.\n",
      "GeneralScoresHybridRecommender: URM Detected 397 ( 3.0%) users with no interactions.\n",
      "GeneralScoresHybridRecommender: URM Detected 132 ( 0.6%) items with no interactions.\n",
      "GeneralScoresHybridRecommender: URM Detected 398 ( 3.1%) users with no interactions.\n",
      "GeneralScoresHybridRecommender: URM Detected 129 ( 0.6%) items with no interactions.\n",
      "GeneralScoresHybridRecommender: URM Detected 391 ( 3.0%) users with no interactions.\n",
      "GeneralScoresHybridRecommender: URM Detected 130 ( 0.6%) items with no interactions.\n",
      "GeneralScoresHybridRecommender: URM Detected 398 ( 3.1%) users with no interactions.\n",
      "GeneralScoresHybridRecommender: URM Detected 131 ( 0.6%) items with no interactions.\n",
      "GeneralScoresHybridRecommender: URM Detected 390 ( 3.0%) users with no interactions.\n",
      "GeneralScoresHybridRecommender: URM Detected 128 ( 0.6%) items with no interactions.\n",
      "GeneralScoresHybridRecommender: URM Detected 405 ( 3.1%) users with no interactions.\n",
      "GeneralScoresHybridRecommender: URM Detected 131 ( 0.6%) items with no interactions.\n",
      "GeneralScoresHybridRecommender: URM Detected 398 ( 3.1%) users with no interactions.\n",
      "GeneralScoresHybridRecommender: URM Detected 132 ( 0.6%) items with no interactions.\n",
      "GeneralScoresHybridRecommender: URM Detected 397 ( 3.0%) users with no interactions.\n",
      "GeneralScoresHybridRecommender: URM Detected 129 ( 0.6%) items with no interactions.\n",
      "GeneralScoresHybridRecommender: URM Detected 399 ( 3.1%) users with no interactions.\n",
      "GeneralScoresHybridRecommender: URM Detected 128 ( 0.6%) items with no interactions.\n",
      "GeneralScoresHybridRecommender: URM Detected 395 ( 3.0%) users with no interactions.\n",
      "GeneralScoresHybridRecommender: URM Detected 127 ( 0.6%) items with no interactions.\n",
      "GeneralScoresHybridRecommender: URM Detected 396 ( 3.0%) users with no interactions.\n",
      "GeneralScoresHybridRecommender: URM Detected 134 ( 0.6%) items with no interactions.\n",
      "GeneralScoresHybridRecommender: URM Detected 395 ( 3.0%) users with no interactions.\n",
      "GeneralScoresHybridRecommender: URM Detected 129 ( 0.6%) items with no interactions.\n",
      "GeneralScoresHybridRecommender: URM Detected 399 ( 3.1%) users with no interactions.\n",
      "GeneralScoresHybridRecommender: URM Detected 133 ( 0.6%) items with no interactions.\n",
      "GeneralScoresHybridRecommender: URM Detected 391 ( 3.0%) users with no interactions.\n",
      "GeneralScoresHybridRecommender: URM Detected 131 ( 0.6%) items with no interactions.\n",
      "GeneralScoresHybridRecommender: URM Detected 394 ( 3.0%) users with no interactions.\n",
      "GeneralScoresHybridRecommender: URM Detected 128 ( 0.6%) items with no interactions.\n",
      "GeneralScoresHybridRecommender: URM Detected 397 ( 3.0%) users with no interactions.\n",
      "GeneralScoresHybridRecommender: URM Detected 130 ( 0.6%) items with no interactions.\n",
      "GeneralScoresHybridRecommender: URM Detected 396 ( 3.0%) users with no interactions.\n",
      "GeneralScoresHybridRecommender: URM Detected 132 ( 0.6%) items with no interactions.\n",
      "GeneralScoresHybridRecommender: URM Detected 399 ( 3.1%) users with no interactions.\n",
      "GeneralScoresHybridRecommender: URM Detected 128 ( 0.6%) items with no interactions.\n",
      "GeneralScoresHybridRecommender: URM Detected 397 ( 3.0%) users with no interactions.\n",
      "GeneralScoresHybridRecommender: URM Detected 131 ( 0.6%) items with no interactions.\n",
      "GeneralScoresHybridRecommender: URM Detected 393 ( 3.0%) users with no interactions.\n",
      "GeneralScoresHybridRecommender: URM Detected 131 ( 0.6%) items with no interactions.\n",
      "GeneralScoresHybridRecommender: URM Detected 396 ( 3.0%) users with no interactions.\n",
      "GeneralScoresHybridRecommender: URM Detected 131 ( 0.6%) items with no interactions.\n",
      "GeneralScoresHybridRecommender: URM Detected 394 ( 3.0%) users with no interactions.\n",
      "GeneralScoresHybridRecommender: URM Detected 128 ( 0.6%) items with no interactions.\n",
      "GeneralScoresHybridRecommender: URM Detected 394 ( 3.0%) users with no interactions.\n",
      "GeneralScoresHybridRecommender: URM Detected 130 ( 0.6%) items with no interactions.\n",
      "GeneralScoresHybridRecommender: URM Detected 398 ( 3.1%) users with no interactions.\n",
      "GeneralScoresHybridRecommender: URM Detected 131 ( 0.6%) items with no interactions.\n",
      "GeneralScoresHybridRecommender: URM Detected 394 ( 3.0%) users with no interactions.\n",
      "GeneralScoresHybridRecommender: URM Detected 128 ( 0.6%) items with no interactions.\n",
      "GeneralScoresHybridRecommender: URM Detected 397 ( 3.0%) users with no interactions.\n",
      "GeneralScoresHybridRecommender: URM Detected 129 ( 0.6%) items with no interactions.\n",
      "GeneralScoresHybridRecommender: URM Detected 400 ( 3.1%) users with no interactions.\n",
      "GeneralScoresHybridRecommender: URM Detected 129 ( 0.6%) items with no interactions.\n",
      "GeneralScoresHybridRecommender: URM Detected 397 ( 3.0%) users with no interactions.\n",
      "GeneralScoresHybridRecommender: URM Detected 128 ( 0.6%) items with no interactions.\n",
      "GeneralScoresHybridRecommender: URM Detected 401 ( 3.1%) users with no interactions.\n",
      "GeneralScoresHybridRecommender: URM Detected 128 ( 0.6%) items with no interactions.\n",
      "GeneralScoresHybridRecommender: URM Detected 396 ( 3.0%) users with no interactions.\n",
      "GeneralScoresHybridRecommender: URM Detected 130 ( 0.6%) items with no interactions.\n",
      "GeneralScoresHybridRecommender: URM Detected 395 ( 3.0%) users with no interactions.\n",
      "GeneralScoresHybridRecommender: URM Detected 129 ( 0.6%) items with no interactions.\n",
      "GeneralScoresHybridRecommender: URM Detected 399 ( 3.1%) users with no interactions.\n",
      "GeneralScoresHybridRecommender: URM Detected 128 ( 0.6%) items with no interactions.\n",
      "GeneralScoresHybridRecommender: URM Detected 396 ( 3.0%) users with no interactions.\n",
      "GeneralScoresHybridRecommender: URM Detected 128 ( 0.6%) items with no interactions.\n",
      "GeneralScoresHybridRecommender: URM Detected 397 ( 3.0%) users with no interactions.\n",
      "GeneralScoresHybridRecommender: URM Detected 129 ( 0.6%) items with no interactions.\n",
      "GeneralScoresHybridRecommender: URM Detected 399 ( 3.1%) users with no interactions.\n",
      "GeneralScoresHybridRecommender: URM Detected 128 ( 0.6%) items with no interactions.\n",
      "GeneralScoresHybridRecommender: URM Detected 396 ( 3.0%) users with no interactions.\n",
      "GeneralScoresHybridRecommender: URM Detected 130 ( 0.6%) items with no interactions.\n",
      "GeneralScoresHybridRecommender: URM Detected 399 ( 3.1%) users with no interactions.\n",
      "GeneralScoresHybridRecommender: URM Detected 131 ( 0.6%) items with no interactions.\n",
      "GeneralScoresHybridRecommender: URM Detected 401 ( 3.1%) users with no interactions.\n",
      "GeneralScoresHybridRecommender: URM Detected 128 ( 0.6%) items with no interactions.\n",
      "GeneralScoresHybridRecommender: URM Detected 392 ( 3.0%) users with no interactions.\n",
      "GeneralScoresHybridRecommender: URM Detected 128 ( 0.6%) items with no interactions.\n",
      "GeneralScoresHybridRecommender: URM Detected 395 ( 3.0%) users with no interactions.\n",
      "GeneralScoresHybridRecommender: URM Detected 128 ( 0.6%) items with no interactions.\n",
      "GeneralScoresHybridRecommender: URM Detected 397 ( 3.0%) users with no interactions.\n",
      "GeneralScoresHybridRecommender: URM Detected 131 ( 0.6%) items with no interactions.\n",
      "GeneralScoresHybridRecommender: URM Detected 394 ( 3.0%) users with no interactions.\n",
      "GeneralScoresHybridRecommender: URM Detected 130 ( 0.6%) items with no interactions.\n",
      "GeneralScoresHybridRecommender: URM Detected 398 ( 3.1%) users with no interactions.\n",
      "GeneralScoresHybridRecommender: URM Detected 129 ( 0.6%) items with no interactions.\n",
      "GeneralScoresHybridRecommender: URM Detected 395 ( 3.0%) users with no interactions.\n",
      "GeneralScoresHybridRecommender: URM Detected 128 ( 0.6%) items with no interactions.\n",
      "GeneralScoresHybridRecommender: URM Detected 397 ( 3.0%) users with no interactions.\n",
      "GeneralScoresHybridRecommender: URM Detected 129 ( 0.6%) items with no interactions.\n",
      "GeneralScoresHybridRecommender: URM Detected 394 ( 3.0%) users with no interactions.\n",
      "GeneralScoresHybridRecommender: URM Detected 130 ( 0.6%) items with no interactions.\n",
      "GeneralScoresHybridRecommender: URM Detected 396 ( 3.0%) users with no interactions.\n",
      "GeneralScoresHybridRecommender: URM Detected 130 ( 0.6%) items with no interactions.\n",
      "GeneralScoresHybridRecommender: URM Detected 400 ( 3.1%) users with no interactions.\n",
      "GeneralScoresHybridRecommender: URM Detected 132 ( 0.6%) items with no interactions.\n",
      "GeneralScoresHybridRecommender: URM Detected 394 ( 3.0%) users with no interactions.\n",
      "GeneralScoresHybridRecommender: URM Detected 129 ( 0.6%) items with no interactions.\n",
      "GeneralScoresHybridRecommender: URM Detected 394 ( 3.0%) users with no interactions.\n",
      "GeneralScoresHybridRecommender: URM Detected 131 ( 0.6%) items with no interactions.\n",
      "GeneralScoresHybridRecommender: URM Detected 395 ( 3.0%) users with no interactions.\n",
      "GeneralScoresHybridRecommender: URM Detected 129 ( 0.6%) items with no interactions.\n",
      "GeneralScoresHybridRecommender: URM Detected 400 ( 3.1%) users with no interactions.\n",
      "GeneralScoresHybridRecommender: URM Detected 130 ( 0.6%) items with no interactions.\n",
      "GeneralScoresHybridRecommender: URM Detected 402 ( 3.1%) users with no interactions.\n",
      "GeneralScoresHybridRecommender: URM Detected 129 ( 0.6%) items with no interactions.\n",
      "GeneralScoresHybridRecommender: URM Detected 400 ( 3.1%) users with no interactions.\n",
      "GeneralScoresHybridRecommender: URM Detected 126 ( 0.6%) items with no interactions.\n",
      "GeneralScoresHybridRecommender: URM Detected 397 ( 3.0%) users with no interactions.\n",
      "GeneralScoresHybridRecommender: URM Detected 132 ( 0.6%) items with no interactions.\n",
      "GeneralScoresHybridRecommender: URM Detected 394 ( 3.0%) users with no interactions.\n",
      "GeneralScoresHybridRecommender: URM Detected 127 ( 0.6%) items with no interactions.\n",
      "GeneralScoresHybridRecommender: URM Detected 395 ( 3.0%) users with no interactions.\n",
      "GeneralScoresHybridRecommender: URM Detected 129 ( 0.6%) items with no interactions.\n",
      "GeneralScoresHybridRecommender: URM Detected 393 ( 3.0%) users with no interactions.\n",
      "GeneralScoresHybridRecommender: URM Detected 130 ( 0.6%) items with no interactions.\n",
      "GeneralScoresHybridRecommender: URM Detected 392 ( 3.0%) users with no interactions.\n",
      "GeneralScoresHybridRecommender: URM Detected 131 ( 0.6%) items with no interactions.\n",
      "GeneralScoresHybridRecommender: URM Detected 396 ( 3.0%) users with no interactions.\n",
      "GeneralScoresHybridRecommender: URM Detected 130 ( 0.6%) items with no interactions.\n",
      "GeneralScoresHybridRecommender: URM Detected 393 ( 3.0%) users with no interactions.\n",
      "GeneralScoresHybridRecommender: URM Detected 127 ( 0.6%) items with no interactions.\n",
      "GeneralScoresHybridRecommender: URM Detected 390 ( 3.0%) users with no interactions.\n",
      "GeneralScoresHybridRecommender: URM Detected 133 ( 0.6%) items with no interactions.\n",
      "GeneralScoresHybridRecommender: URM Detected 402 ( 3.1%) users with no interactions.\n",
      "GeneralScoresHybridRecommender: URM Detected 129 ( 0.6%) items with no interactions.\n",
      "GeneralScoresHybridRecommender: URM Detected 393 ( 3.0%) users with no interactions.\n",
      "GeneralScoresHybridRecommender: URM Detected 130 ( 0.6%) items with no interactions.\n",
      "GeneralScoresHybridRecommender: URM Detected 395 ( 3.0%) users with no interactions.\n",
      "GeneralScoresHybridRecommender: URM Detected 133 ( 0.6%) items with no interactions.\n",
      "GeneralScoresHybridRecommender: URM Detected 401 ( 3.1%) users with no interactions.\n",
      "GeneralScoresHybridRecommender: URM Detected 129 ( 0.6%) items with no interactions.\n",
      "GeneralScoresHybridRecommender: URM Detected 399 ( 3.1%) users with no interactions.\n",
      "GeneralScoresHybridRecommender: URM Detected 127 ( 0.6%) items with no interactions.\n",
      "GeneralScoresHybridRecommender: URM Detected 401 ( 3.1%) users with no interactions.\n",
      "GeneralScoresHybridRecommender: URM Detected 132 ( 0.6%) items with no interactions.\n",
      "GeneralScoresHybridRecommender: URM Detected 400 ( 3.1%) users with no interactions.\n"
     ]
    },
    {
     "name": "stdout",
     "output_type": "stream",
     "text": [
      "GeneralScoresHybridRecommender: URM Detected 130 ( 0.6%) items with no interactions.\n",
      "GeneralScoresHybridRecommender: URM Detected 393 ( 3.0%) users with no interactions.\n",
      "GeneralScoresHybridRecommender: URM Detected 131 ( 0.6%) items with no interactions.\n",
      "GeneralScoresHybridRecommender: URM Detected 396 ( 3.0%) users with no interactions.\n",
      "GeneralScoresHybridRecommender: URM Detected 133 ( 0.6%) items with no interactions.\n",
      "GeneralScoresHybridRecommender: URM Detected 396 ( 3.0%) users with no interactions.\n",
      "GeneralScoresHybridRecommender: URM Detected 132 ( 0.6%) items with no interactions.\n",
      "GeneralScoresHybridRecommender: URM Detected 400 ( 3.1%) users with no interactions.\n",
      "GeneralScoresHybridRecommender: URM Detected 130 ( 0.6%) items with no interactions.\n",
      "GeneralScoresHybridRecommender: URM Detected 395 ( 3.0%) users with no interactions.\n",
      "GeneralScoresHybridRecommender: URM Detected 133 ( 0.6%) items with no interactions.\n",
      "GeneralScoresHybridRecommender: URM Detected 398 ( 3.1%) users with no interactions.\n",
      "GeneralScoresHybridRecommender: URM Detected 132 ( 0.6%) items with no interactions.\n",
      "GeneralScoresHybridRecommender: URM Detected 396 ( 3.0%) users with no interactions.\n",
      "GeneralScoresHybridRecommender: URM Detected 130 ( 0.6%) items with no interactions.\n",
      "GeneralScoresHybridRecommender: URM Detected 397 ( 3.0%) users with no interactions.\n",
      "GeneralScoresHybridRecommender: URM Detected 131 ( 0.6%) items with no interactions.\n",
      "GeneralScoresHybridRecommender: URM Detected 400 ( 3.1%) users with no interactions.\n",
      "GeneralScoresHybridRecommender: URM Detected 129 ( 0.6%) items with no interactions.\n",
      "GeneralScoresHybridRecommender: URM Detected 401 ( 3.1%) users with no interactions.\n",
      "GeneralScoresHybridRecommender: URM Detected 128 ( 0.6%) items with no interactions.\n",
      "GeneralScoresHybridRecommender: URM Detected 399 ( 3.1%) users with no interactions.\n",
      "GeneralScoresHybridRecommender: URM Detected 127 ( 0.6%) items with no interactions.\n",
      "GeneralScoresHybridRecommender: URM Detected 397 ( 3.0%) users with no interactions.\n",
      "GeneralScoresHybridRecommender: URM Detected 132 ( 0.6%) items with no interactions.\n",
      "GeneralScoresHybridRecommender: URM Detected 393 ( 3.0%) users with no interactions.\n",
      "GeneralScoresHybridRecommender: URM Detected 131 ( 0.6%) items with no interactions.\n",
      "GeneralScoresHybridRecommender: URM Detected 395 ( 3.0%) users with no interactions.\n",
      "GeneralScoresHybridRecommender: URM Detected 128 ( 0.6%) items with no interactions.\n",
      "GeneralScoresHybridRecommender: URM Detected 398 ( 3.1%) users with no interactions.\n",
      "GeneralScoresHybridRecommender: URM Detected 131 ( 0.6%) items with no interactions.\n",
      "GeneralScoresHybridRecommender: URM Detected 396 ( 3.0%) users with no interactions.\n",
      "GeneralScoresHybridRecommender: URM Detected 130 ( 0.6%) items with no interactions.\n",
      "GeneralScoresHybridRecommender: URM Detected 394 ( 3.0%) users with no interactions.\n",
      "GeneralScoresHybridRecommender: URM Detected 128 ( 0.6%) items with no interactions.\n",
      "GeneralScoresHybridRecommender: URM Detected 401 ( 3.1%) users with no interactions.\n",
      "GeneralScoresHybridRecommender: URM Detected 130 ( 0.6%) items with no interactions.\n",
      "GeneralScoresHybridRecommender: URM Detected 397 ( 3.0%) users with no interactions.\n",
      "GeneralScoresHybridRecommender: URM Detected 127 ( 0.6%) items with no interactions.\n",
      "GeneralScoresHybridRecommender: URM Detected 394 ( 3.0%) users with no interactions.\n",
      "GeneralScoresHybridRecommender: URM Detected 129 ( 0.6%) items with no interactions.\n",
      "GeneralScoresHybridRecommender: URM Detected 393 ( 3.0%) users with no interactions.\n",
      "GeneralScoresHybridRecommender: URM Detected 127 ( 0.6%) items with no interactions.\n",
      "GeneralScoresHybridRecommender: URM Detected 396 ( 3.0%) users with no interactions.\n",
      "GeneralScoresHybridRecommender: URM Detected 133 ( 0.6%) items with no interactions.\n"
     ]
    }
   ],
   "source": [
    "generals = []\n",
    "\n",
    "for i in range(n_fold):\n",
    "    general = GeneralScoresHybridRecommender(\n",
    "        URM_trains[i], \n",
    "        [slimes[i], rp3betas[i], itemhybrids[i]])\n",
    "    general.fit([0.7, 0.25, 0.05])\n",
    "    \n",
    "    generals.append(general)"
   ]
  },
  {
   "cell_type": "code",
   "execution_count": 124,
   "metadata": {},
   "outputs": [
    {
     "name": "stdout",
     "output_type": "stream",
     "text": [
      "GeneralScoresHybridRecommender: URM Detected 387 ( 3.0%) users with no interactions.\n",
      "GeneralScoresHybridRecommender: URM Detected 126 ( 0.6%) items with no interactions.\n"
     ]
    }
   ],
   "source": [
    "final = GeneralScoresHybridRecommender(\n",
    "    URM_all, generals\n",
    ")\n",
    "\n",
    "final.fit([1/n_fold] * n_fold)"
   ]
  },
  {
   "cell_type": "code",
   "execution_count": 125,
   "metadata": {},
   "outputs": [],
   "source": [
    "recommender = final"
   ]
  },
  {
   "cell_type": "code",
   "execution_count": 86,
   "metadata": {},
   "outputs": [],
   "source": [
    "def recommendAll(recommender_array, id, cutoff=10):\n",
    "    \n",
    "    recommendations = []\n",
    "    times = []\n",
    "    result = []\n",
    "    \n",
    "    for rec in recommender_array:\n",
    "        rec_list = rec.recommend(id, cutoff=10)\n",
    "        \n",
    "        for elem in rec_list:\n",
    "            if elem in recommendations:\n",
    "                times[recommendations.index(elem)] += 1\n",
    "            else:\n",
    "                recommendations.append(elem)\n",
    "                times.append(1)\n",
    "\n",
    "    for i in range(max(times), 0, -1):\n",
    "        if(len(result)<10):\n",
    "            for n in range(len(times)):\n",
    "                if times[n] == i:\n",
    "                    result.append(recommendations[n])\n",
    "                    if(len(result) == 10):\n",
    "                        break\n",
    "        else:\n",
    "            break\n",
    "            \n",
    "        \n",
    "    return result"
   ]
  },
  {
   "cell_type": "code",
   "execution_count": 50,
   "metadata": {},
   "outputs": [],
   "source": [
    "res = recommendAll(generals, 2, cutoff=10)"
   ]
  },
  {
   "cell_type": "code",
   "execution_count": 51,
   "metadata": {},
   "outputs": [
    {
     "data": {
      "text/plain": [
       "[1095, 47, 1522, 50, 12, 359, 54, 656, 3176, 196]"
      ]
     },
     "execution_count": 51,
     "metadata": {},
     "output_type": "execute_result"
    }
   ],
   "source": [
    "res"
   ]
  },
  {
   "cell_type": "code",
   "execution_count": null,
   "metadata": {},
   "outputs": [],
   "source": []
  },
  {
   "cell_type": "code",
   "execution_count": null,
   "metadata": {},
   "outputs": [],
   "source": []
  },
  {
   "cell_type": "code",
   "execution_count": null,
   "metadata": {},
   "outputs": [],
   "source": []
  },
  {
   "cell_type": "markdown",
   "metadata": {},
   "source": [
    "# Matrix Conversion"
   ]
  },
  {
   "cell_type": "code",
   "execution_count": null,
   "metadata": {
    "execution": {
     "iopub.execute_input": "2023-11-12T22:56:41.759574Z",
     "iopub.status.busy": "2023-11-12T22:56:41.759295Z",
     "iopub.status.idle": "2023-11-12T22:56:41.769131Z",
     "shell.execute_reply": "2023-11-12T22:56:41.768410Z",
     "shell.execute_reply.started": "2023-11-12T22:56:41.759551Z"
    }
   },
   "outputs": [],
   "source": []
  },
  {
   "cell_type": "code",
   "execution_count": null,
   "metadata": {
    "execution": {
     "iopub.execute_input": "2023-11-12T22:56:46.591716Z",
     "iopub.status.busy": "2023-11-12T22:56:46.591432Z",
     "iopub.status.idle": "2023-11-12T22:56:46.605733Z",
     "shell.execute_reply": "2023-11-12T22:56:46.604615Z",
     "shell.execute_reply.started": "2023-11-12T22:56:46.591696Z"
    }
   },
   "outputs": [],
   "source": []
  },
  {
   "cell_type": "code",
   "execution_count": null,
   "metadata": {},
   "outputs": [],
   "source": []
  },
  {
   "cell_type": "code",
   "execution_count": null,
   "metadata": {},
   "outputs": [],
   "source": []
  },
  {
   "cell_type": "code",
   "execution_count": null,
   "metadata": {},
   "outputs": [],
   "source": []
  },
  {
   "cell_type": "code",
   "execution_count": null,
   "metadata": {},
   "outputs": [],
   "source": []
  },
  {
   "cell_type": "code",
   "execution_count": null,
   "metadata": {},
   "outputs": [],
   "source": []
  },
  {
   "cell_type": "code",
   "execution_count": null,
   "metadata": {},
   "outputs": [],
   "source": []
  },
  {
   "cell_type": "code",
   "execution_count": null,
   "metadata": {},
   "outputs": [],
   "source": []
  },
  {
   "cell_type": "code",
   "execution_count": null,
   "metadata": {},
   "outputs": [],
   "source": []
  },
  {
   "cell_type": "markdown",
   "metadata": {},
   "source": [
    "# Evaluation of the recommender"
   ]
  },
  {
   "cell_type": "code",
   "execution_count": null,
   "metadata": {
    "execution": {
     "iopub.execute_input": "2023-11-12T22:57:21.250734Z",
     "iopub.status.busy": "2023-11-12T22:57:21.250427Z",
     "iopub.status.idle": "2023-11-12T22:57:21.254680Z",
     "shell.execute_reply": "2023-11-12T22:57:21.253888Z",
     "shell.execute_reply.started": "2023-11-12T22:57:21.250710Z"
    }
   },
   "outputs": [],
   "source": [
    "# Define the train-test splitting ratio\n",
    "train_test_split = 0.85"
   ]
  },
  {
   "cell_type": "code",
   "execution_count": null,
   "metadata": {},
   "outputs": [],
   "source": [
    "# Import Evaluators\n",
    "from Evaluation.Evaluator import EvaluatorHoldout\n",
    "from Data_manager.split_functions.split_train_validation_random_holdout import split_train_in_two_percentage_global_sample"
   ]
  },
  {
   "cell_type": "code",
   "execution_count": null,
   "metadata": {},
   "outputs": [],
   "source": [
    "URM_train, URM_test = split_train_in_two_percentage_global_sample(URM_all, train_percentage = train_test_split)\n",
    "# URM_train, URM_validation = split_train_in_two_percentage_global_sample(URM_train, train_percentage = train_test_split)\n",
    "\n",
    "\n",
    "# evaluator_validation = EvaluatorHoldout(URM_validation, cutoff_list=[10])\n",
    "evaluator_test = EvaluatorHoldout(URM_test, cutoff_list=[10])"
   ]
  },
  {
   "cell_type": "markdown",
   "metadata": {},
   "source": [
    "Content-based: URM in csr, ICM in csr\n",
    "\n",
    "Collaborative filtering: URM in csr\n",
    "\n",
    "FunkSVD: URM in coo\n",
    "\n",
    "AsySVD: URM in coo\n"
   ]
  },
  {
   "cell_type": "code",
   "execution_count": null,
   "metadata": {},
   "outputs": [],
   "source": [
    "result, _ = evaluator_test.evaluateRecommender(recommender)\n",
    "result.loc[10]"
   ]
  },
  {
   "cell_type": "markdown",
   "metadata": {},
   "source": [
    "# Recommend items"
   ]
  },
  {
   "cell_type": "code",
   "execution_count": 152,
   "metadata": {
    "execution": {
     "iopub.execute_input": "2023-11-04T21:06:55.003332Z",
     "iopub.status.busy": "2023-11-04T21:06:55.002931Z",
     "iopub.status.idle": "2023-11-04T21:06:55.011864Z",
     "shell.execute_reply": "2023-11-04T21:06:55.010563Z",
     "shell.execute_reply.started": "2023-11-04T21:06:55.003286Z"
    }
   },
   "outputs": [
    {
     "data": {
      "text/plain": [
       "_io.TextIOWrapper"
      ]
     },
     "execution_count": 152,
     "metadata": {},
     "output_type": "execute_result"
    }
   ],
   "source": [
    "# Open the submission sample file\n",
    "submission_sample = open('Input/data_target_users_test.csv', 'r')\n",
    "type(submission_sample)"
   ]
  },
  {
   "cell_type": "code",
   "execution_count": 153,
   "metadata": {
    "execution": {
     "iopub.execute_input": "2023-11-04T21:07:03.629097Z",
     "iopub.status.busy": "2023-11-04T21:07:03.628687Z",
     "iopub.status.idle": "2023-11-04T21:07:03.654289Z",
     "shell.execute_reply": "2023-11-04T21:07:03.653175Z",
     "shell.execute_reply.started": "2023-11-04T21:07:03.629063Z"
    }
   },
   "outputs": [
    {
     "data": {
      "text/html": [
       "<div>\n",
       "<style scoped>\n",
       "    .dataframe tbody tr th:only-of-type {\n",
       "        vertical-align: middle;\n",
       "    }\n",
       "\n",
       "    .dataframe tbody tr th {\n",
       "        vertical-align: top;\n",
       "    }\n",
       "\n",
       "    .dataframe thead th {\n",
       "        text-align: right;\n",
       "    }\n",
       "</style>\n",
       "<table border=\"1\" class=\"dataframe\">\n",
       "  <thead>\n",
       "    <tr style=\"text-align: right;\">\n",
       "      <th></th>\n",
       "      <th>user_id</th>\n",
       "    </tr>\n",
       "  </thead>\n",
       "  <tbody>\n",
       "    <tr>\n",
       "      <th>0</th>\n",
       "      <td>1</td>\n",
       "    </tr>\n",
       "    <tr>\n",
       "      <th>1</th>\n",
       "      <td>2</td>\n",
       "    </tr>\n",
       "    <tr>\n",
       "      <th>2</th>\n",
       "      <td>3</td>\n",
       "    </tr>\n",
       "    <tr>\n",
       "      <th>3</th>\n",
       "      <td>4</td>\n",
       "    </tr>\n",
       "    <tr>\n",
       "      <th>4</th>\n",
       "      <td>5</td>\n",
       "    </tr>\n",
       "    <tr>\n",
       "      <th>...</th>\n",
       "      <td>...</td>\n",
       "    </tr>\n",
       "    <tr>\n",
       "      <th>10877</th>\n",
       "      <td>13020</td>\n",
       "    </tr>\n",
       "    <tr>\n",
       "      <th>10878</th>\n",
       "      <td>13021</td>\n",
       "    </tr>\n",
       "    <tr>\n",
       "      <th>10879</th>\n",
       "      <td>13022</td>\n",
       "    </tr>\n",
       "    <tr>\n",
       "      <th>10880</th>\n",
       "      <td>13023</td>\n",
       "    </tr>\n",
       "    <tr>\n",
       "      <th>10881</th>\n",
       "      <td>13024</td>\n",
       "    </tr>\n",
       "  </tbody>\n",
       "</table>\n",
       "<p>10882 rows × 1 columns</p>\n",
       "</div>"
      ],
      "text/plain": [
       "       user_id\n",
       "0            1\n",
       "1            2\n",
       "2            3\n",
       "3            4\n",
       "4            5\n",
       "...        ...\n",
       "10877    13020\n",
       "10878    13021\n",
       "10879    13022\n",
       "10880    13023\n",
       "10881    13024\n",
       "\n",
       "[10882 rows x 1 columns]"
      ]
     },
     "execution_count": 153,
     "metadata": {},
     "output_type": "execute_result"
    }
   ],
   "source": [
    "# Read the dataframe\n",
    "submission_df = pd.read_csv(filepath_or_buffer=submission_sample)\n",
    "submission_df"
   ]
  },
  {
   "cell_type": "code",
   "execution_count": 154,
   "metadata": {
    "execution": {
     "iopub.execute_input": "2023-11-04T21:07:11.158728Z",
     "iopub.status.busy": "2023-11-04T21:07:11.158297Z",
     "iopub.status.idle": "2023-11-04T21:07:11.166227Z",
     "shell.execute_reply": "2023-11-04T21:07:11.165409Z",
     "shell.execute_reply.started": "2023-11-04T21:07:11.158693Z"
    }
   },
   "outputs": [
    {
     "data": {
      "text/plain": [
       "array([    1,     2,     3, ..., 13022, 13023, 13024], dtype=int64)"
      ]
     },
     "execution_count": 154,
     "metadata": {},
     "output_type": "execute_result"
    }
   ],
   "source": [
    "# Convert the user_id column to numpy list\n",
    "user_list = submission_df['user_id'].to_numpy()\n",
    "user_list"
   ]
  },
  {
   "cell_type": "code",
   "execution_count": 126,
   "metadata": {
    "execution": {
     "iopub.execute_input": "2023-11-04T21:07:14.181159Z",
     "iopub.status.busy": "2023-11-04T21:07:14.180417Z",
     "iopub.status.idle": "2023-11-04T21:07:22.297901Z",
     "shell.execute_reply": "2023-11-04T21:07:22.296845Z",
     "shell.execute_reply.started": "2023-11-04T21:07:14.181126Z"
    }
   },
   "outputs": [
    {
     "name": "stderr",
     "output_type": "stream",
     "text": [
      "0it [00:00, ?it/s]\n"
     ]
    },
    {
     "ename": "ValueError",
     "evalue": "operands could not be broadcast together with shapes (1,22348) (1,22347) (1,22348) ",
     "output_type": "error",
     "traceback": [
      "\u001b[1;31m---------------------------------------------------------------------------\u001b[0m",
      "\u001b[1;31mValueError\u001b[0m                                Traceback (most recent call last)",
      "Cell \u001b[1;32mIn[126], line 6\u001b[0m\n\u001b[0;32m      3\u001b[0m all_recommend \u001b[38;5;241m=\u001b[39m []\n\u001b[0;32m      5\u001b[0m \u001b[38;5;28;01mfor\u001b[39;00m i,\u001b[38;5;28mid\u001b[39m \u001b[38;5;129;01min\u001b[39;00m tqdm(\u001b[38;5;28menumerate\u001b[39m(user_list)):\n\u001b[1;32m----> 6\u001b[0m     rec \u001b[38;5;241m=\u001b[39m \u001b[43mrecommender\u001b[49m\u001b[38;5;241;43m.\u001b[39;49m\u001b[43mrecommend\u001b[49m\u001b[43m(\u001b[49m\u001b[38;5;28;43mid\u001b[39;49m\u001b[43m,\u001b[49m\u001b[43m \u001b[49m\u001b[43mcutoff\u001b[49m\u001b[38;5;241;43m=\u001b[39;49m\u001b[38;5;241;43m10\u001b[39;49m\u001b[43m)\u001b[49m\n\u001b[0;32m      7\u001b[0m     rec_list \u001b[38;5;241m=\u001b[39m rec\n\u001b[0;32m      8\u001b[0m     rec_row \u001b[38;5;241m=\u001b[39m \u001b[38;5;124m'\u001b[39m\u001b[38;5;124m \u001b[39m\u001b[38;5;124m'\u001b[39m\u001b[38;5;241m.\u001b[39mjoin(\u001b[38;5;28mstr\u001b[39m(s) \u001b[38;5;28;01mfor\u001b[39;00m s \u001b[38;5;129;01min\u001b[39;00m rec_list)\n",
      "File \u001b[1;32mD:\\Uni\\Magistrale\\Recommender Systems\\23-24 challenge\\Recommenders\\BaseRecommender.py:147\u001b[0m, in \u001b[0;36mBaseRecommender.recommend\u001b[1;34m(self, user_id_array, cutoff, remove_seen_flag, items_to_compute, remove_top_pop_flag, remove_custom_items_flag, return_scores)\u001b[0m\n\u001b[0;32m    143\u001b[0m cutoff \u001b[38;5;241m=\u001b[39m \u001b[38;5;28mmin\u001b[39m(cutoff, \u001b[38;5;28mself\u001b[39m\u001b[38;5;241m.\u001b[39mURM_train\u001b[38;5;241m.\u001b[39mshape[\u001b[38;5;241m1\u001b[39m] \u001b[38;5;241m-\u001b[39m \u001b[38;5;241m1\u001b[39m)\n\u001b[0;32m    145\u001b[0m \u001b[38;5;66;03m# Compute the scores using the model-specific function\u001b[39;00m\n\u001b[0;32m    146\u001b[0m \u001b[38;5;66;03m# Vectorize over all users in user_id_array\u001b[39;00m\n\u001b[1;32m--> 147\u001b[0m scores_batch \u001b[38;5;241m=\u001b[39m \u001b[38;5;28;43mself\u001b[39;49m\u001b[38;5;241;43m.\u001b[39;49m\u001b[43m_compute_item_score\u001b[49m\u001b[43m(\u001b[49m\u001b[43muser_id_array\u001b[49m\u001b[43m,\u001b[49m\u001b[43m \u001b[49m\u001b[43mitems_to_compute\u001b[49m\u001b[38;5;241;43m=\u001b[39;49m\u001b[43mitems_to_compute\u001b[49m\u001b[43m)\u001b[49m\n\u001b[0;32m    150\u001b[0m \u001b[38;5;28;01mfor\u001b[39;00m user_index \u001b[38;5;129;01min\u001b[39;00m \u001b[38;5;28mrange\u001b[39m(\u001b[38;5;28mlen\u001b[39m(user_id_array)):\n\u001b[0;32m    152\u001b[0m     user_id \u001b[38;5;241m=\u001b[39m user_id_array[user_index]\n",
      "File \u001b[1;32mD:\\Uni\\Magistrale\\Recommender Systems\\23-24 challenge\\Recommenders\\GeneralScoresHybridRecommender.py:33\u001b[0m, in \u001b[0;36mGeneralScoresHybridRecommender._compute_item_score\u001b[1;34m(self, user_id_array, items_to_compute)\u001b[0m\n\u001b[0;32m     30\u001b[0m item_weights \u001b[38;5;241m=\u001b[39m \u001b[38;5;241m0\u001b[39m\n\u001b[0;32m     32\u001b[0m \u001b[38;5;28;01mfor\u001b[39;00m i \u001b[38;5;129;01min\u001b[39;00m \u001b[38;5;28mrange\u001b[39m(\u001b[38;5;28mlen\u001b[39m(item_weights_array)):\n\u001b[1;32m---> 33\u001b[0m     item_weights \u001b[38;5;241m+\u001b[39m\u001b[38;5;241m=\u001b[39m item_weights_array[i] \u001b[38;5;241m*\u001b[39m \u001b[38;5;28mself\u001b[39m\u001b[38;5;241m.\u001b[39mparameter_array[i]\n\u001b[0;32m     35\u001b[0m \u001b[38;5;28;01mreturn\u001b[39;00m item_weights\n",
      "\u001b[1;31mValueError\u001b[0m: operands could not be broadcast together with shapes (1,22348) (1,22347) (1,22348) "
     ]
    }
   ],
   "source": [
    "# # Extract the recommended items and write them in the dataframe\n",
    "\n",
    "# all_recommend = []\n",
    "\n",
    "# for i,id in tqdm(enumerate(user_list)):\n",
    "#     rec = recommender.recommend(id, cutoff=10)\n",
    "#     rec_list = rec\n",
    "#     rec_row = ' '.join(str(s) for s in rec_list)\n",
    "#     all_recommend.append(rec_row)"
   ]
  },
  {
   "cell_type": "code",
   "execution_count": 155,
   "metadata": {},
   "outputs": [
    {
     "name": "stderr",
     "output_type": "stream",
     "text": [
      "10882it [15:09, 11.96it/s]\n"
     ]
    }
   ],
   "source": [
    "# Extract the recommended items and write them in the dataframe\n",
    "\n",
    "all_recommend = []\n",
    "\n",
    "for i,id in tqdm(enumerate(user_list)):\n",
    "    rec = recommendAll(generals, id, cutoff=10)\n",
    "    rec_list = rec\n",
    "    rec_row = ' '.join(str(s) for s in rec_list)\n",
    "    all_recommend.append(rec_row)"
   ]
  },
  {
   "cell_type": "code",
   "execution_count": 156,
   "metadata": {
    "execution": {
     "iopub.execute_input": "2023-11-04T21:07:30.817388Z",
     "iopub.status.busy": "2023-11-04T21:07:30.816981Z",
     "iopub.status.idle": "2023-11-04T21:07:30.824731Z",
     "shell.execute_reply": "2023-11-04T21:07:30.82381Z",
     "shell.execute_reply.started": "2023-11-04T21:07:30.817347Z"
    }
   },
   "outputs": [
    {
     "data": {
      "text/plain": [
       "['36 101 403 506 515 123 694 52 1546 1422',\n",
       " '1095 47 12 50 1522 949 102 196 3176 54',\n",
       " '59 2172 4252 857 4 648 1281 259 4623 956',\n",
       " '249 28 50 171 314 146 7 136 254 128',\n",
       " '1570 170 1511 471 77 95 5138 131 1220 8',\n",
       " '886 874 35 395 88 168 9 104 9329 184',\n",
       " '210 443 451 95 600 3916 1094 722 480 1130',\n",
       " '9018 2821 2282 17799 10108 2350 4535 115 20151 21322',\n",
       " '1816 1446 561 1668 2617 2565 3905 2423 67 1767',\n",
       " '31 40 58 67 34 955 185 52 32 514']"
      ]
     },
     "execution_count": 156,
     "metadata": {},
     "output_type": "execute_result"
    }
   ],
   "source": [
    "all_recommend[:10]"
   ]
  },
  {
   "cell_type": "code",
   "execution_count": 157,
   "metadata": {
    "execution": {
     "iopub.execute_input": "2023-11-04T21:07:34.06307Z",
     "iopub.status.busy": "2023-11-04T21:07:34.062658Z",
     "iopub.status.idle": "2023-11-04T21:07:34.069637Z",
     "shell.execute_reply": "2023-11-04T21:07:34.068564Z",
     "shell.execute_reply.started": "2023-11-04T21:07:34.063035Z"
    }
   },
   "outputs": [],
   "source": [
    "submission_df['item_list'] = all_recommend"
   ]
  },
  {
   "cell_type": "code",
   "execution_count": 158,
   "metadata": {
    "execution": {
     "iopub.execute_input": "2023-11-04T21:07:47.819936Z",
     "iopub.status.busy": "2023-11-04T21:07:47.819536Z",
     "iopub.status.idle": "2023-11-04T21:07:47.830373Z",
     "shell.execute_reply": "2023-11-04T21:07:47.829521Z",
     "shell.execute_reply.started": "2023-11-04T21:07:47.819905Z"
    }
   },
   "outputs": [
    {
     "data": {
      "text/html": [
       "<div>\n",
       "<style scoped>\n",
       "    .dataframe tbody tr th:only-of-type {\n",
       "        vertical-align: middle;\n",
       "    }\n",
       "\n",
       "    .dataframe tbody tr th {\n",
       "        vertical-align: top;\n",
       "    }\n",
       "\n",
       "    .dataframe thead th {\n",
       "        text-align: right;\n",
       "    }\n",
       "</style>\n",
       "<table border=\"1\" class=\"dataframe\">\n",
       "  <thead>\n",
       "    <tr style=\"text-align: right;\">\n",
       "      <th></th>\n",
       "      <th>user_id</th>\n",
       "      <th>item_list</th>\n",
       "    </tr>\n",
       "  </thead>\n",
       "  <tbody>\n",
       "    <tr>\n",
       "      <th>0</th>\n",
       "      <td>1</td>\n",
       "      <td>36 101 403 506 515 123 694 52 1546 1422</td>\n",
       "    </tr>\n",
       "    <tr>\n",
       "      <th>1</th>\n",
       "      <td>2</td>\n",
       "      <td>1095 47 12 50 1522 949 102 196 3176 54</td>\n",
       "    </tr>\n",
       "    <tr>\n",
       "      <th>2</th>\n",
       "      <td>3</td>\n",
       "      <td>59 2172 4252 857 4 648 1281 259 4623 956</td>\n",
       "    </tr>\n",
       "    <tr>\n",
       "      <th>3</th>\n",
       "      <td>4</td>\n",
       "      <td>249 28 50 171 314 146 7 136 254 128</td>\n",
       "    </tr>\n",
       "    <tr>\n",
       "      <th>4</th>\n",
       "      <td>5</td>\n",
       "      <td>1570 170 1511 471 77 95 5138 131 1220 8</td>\n",
       "    </tr>\n",
       "    <tr>\n",
       "      <th>5</th>\n",
       "      <td>6</td>\n",
       "      <td>886 874 35 395 88 168 9 104 9329 184</td>\n",
       "    </tr>\n",
       "    <tr>\n",
       "      <th>6</th>\n",
       "      <td>8</td>\n",
       "      <td>210 443 451 95 600 3916 1094 722 480 1130</td>\n",
       "    </tr>\n",
       "    <tr>\n",
       "      <th>7</th>\n",
       "      <td>9</td>\n",
       "      <td>9018 2821 2282 17799 10108 2350 4535 115 20151...</td>\n",
       "    </tr>\n",
       "    <tr>\n",
       "      <th>8</th>\n",
       "      <td>10</td>\n",
       "      <td>1816 1446 561 1668 2617 2565 3905 2423 67 1767</td>\n",
       "    </tr>\n",
       "    <tr>\n",
       "      <th>9</th>\n",
       "      <td>11</td>\n",
       "      <td>31 40 58 67 34 955 185 52 32 514</td>\n",
       "    </tr>\n",
       "  </tbody>\n",
       "</table>\n",
       "</div>"
      ],
      "text/plain": [
       "   user_id                                          item_list\n",
       "0        1            36 101 403 506 515 123 694 52 1546 1422\n",
       "1        2             1095 47 12 50 1522 949 102 196 3176 54\n",
       "2        3           59 2172 4252 857 4 648 1281 259 4623 956\n",
       "3        4                249 28 50 171 314 146 7 136 254 128\n",
       "4        5            1570 170 1511 471 77 95 5138 131 1220 8\n",
       "5        6               886 874 35 395 88 168 9 104 9329 184\n",
       "6        8          210 443 451 95 600 3916 1094 722 480 1130\n",
       "7        9  9018 2821 2282 17799 10108 2350 4535 115 20151...\n",
       "8       10     1816 1446 561 1668 2617 2565 3905 2423 67 1767\n",
       "9       11                   31 40 58 67 34 955 185 52 32 514"
      ]
     },
     "execution_count": 158,
     "metadata": {},
     "output_type": "execute_result"
    }
   ],
   "source": [
    "submission_df.head(10)"
   ]
  },
  {
   "cell_type": "code",
   "execution_count": 159,
   "metadata": {
    "execution": {
     "iopub.execute_input": "2023-11-04T21:07:53.820333Z",
     "iopub.status.busy": "2023-11-04T21:07:53.819501Z",
     "iopub.status.idle": "2023-11-04T21:07:53.865369Z",
     "shell.execute_reply": "2023-11-04T21:07:53.864316Z",
     "shell.execute_reply.started": "2023-11-04T21:07:53.820277Z"
    }
   },
   "outputs": [],
   "source": [
    "# Export the dataframe on csv file\n",
    "submission_df.to_csv('Output/KFold100.csv', index=False)"
   ]
  },
  {
   "cell_type": "code",
   "execution_count": null,
   "metadata": {},
   "outputs": [],
   "source": []
  }
 ],
 "metadata": {
  "kaggle": {
   "accelerator": "none",
   "dataSources": [
    {
     "databundleVersionId": 6919098,
     "sourceId": 62803,
     "sourceType": "competition"
    }
   ],
   "dockerImageVersionId": 30558,
   "isGpuEnabled": false,
   "isInternetEnabled": true,
   "language": "python",
   "sourceType": "notebook"
  },
  "kernelspec": {
   "display_name": "Python 3 (ipykernel)",
   "language": "python",
   "name": "python3"
  },
  "language_info": {
   "codemirror_mode": {
    "name": "ipython",
    "version": 3
   },
   "file_extension": ".py",
   "mimetype": "text/x-python",
   "name": "python",
   "nbconvert_exporter": "python",
   "pygments_lexer": "ipython3",
   "version": "3.8.18"
  }
 },
 "nbformat": 4,
 "nbformat_minor": 4
}
