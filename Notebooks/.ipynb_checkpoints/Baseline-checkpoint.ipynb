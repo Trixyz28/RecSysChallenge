{
 "cells": [
  {
   "cell_type": "markdown",
   "metadata": {},
   "source": [
    "# Recommender Systems Challenge, 2023/2024 @ PoliMi"
   ]
  },
  {
   "cell_type": "markdown",
   "metadata": {},
   "source": [
    "# Introduction\n",
    "\n",
    "## Problem Description\n",
    "The application domain is book recommendation. The datasets contain interactions of users with books, in particular, if the user attributed to the book a rating of at least 4. The main goal of the competition is to discover which items (books) a user will interact with.\n",
    "\n",
    "The datasets includes around 600k interactions, 13k users, 22k items (books).\n",
    "The training-test split is done via random holdout, 80% training, 20% test.\n",
    "The goal is to recommend a list of 10 potentially relevant items for each user.\n",
    "\n",
    "\n",
    "## Datasets\n",
    "All files are comma-separated (columns are separated with ',' ).\n",
    "\n",
    "- **data_train.csv**:\n",
    "Contains the training set, describing implicit preferences expressed by the users.\n",
    "    - **user_id** : identifier of the user\n",
    "    - **item_id** : identifier of the item (Book)\n",
    "    - **data** : \"1.0\" if the user liked the book attributing it a rating of at least 4.\n",
    "\n",
    "\n",
    "- **data_target_users_test.csv**:\n",
    "Contains the ids of the users that should appear in your submission file.\n",
    "The submission file should contain all and only these users.\n",
    "\n",
    "- **sample_submission.csv**:\n",
    "A sample submission file in the correct format: [user_id],[ordered list of recommended items].\n",
    "Be careful with the spaces and be sure to recommend the correct number of items to every user."
   ]
  },
  {
   "cell_type": "markdown",
   "metadata": {},
   "source": [
    "# Requirements\n",
    "\n",
    "The working environment and the required libraries are defined here."
   ]
  },
  {
   "cell_type": "code",
   "execution_count": 1,
   "metadata": {
    "_cell_guid": "b1076dfc-b9ad-4769-8c92-a6c4dae69d19",
    "_uuid": "8f2839f25d086af736a60e9eeb907d3b93b6e0e5",
    "execution": {
     "iopub.execute_input": "2023-11-12T22:55:27.107416Z",
     "iopub.status.busy": "2023-11-12T22:55:27.107103Z",
     "iopub.status.idle": "2023-11-12T22:55:27.415864Z",
     "shell.execute_reply": "2023-11-12T22:55:27.415002Z",
     "shell.execute_reply.started": "2023-11-12T22:55:27.107392Z"
    }
   },
   "outputs": [],
   "source": [
    "# Import libraries\n",
    "\n",
    "import numpy as np # linear algebra\n",
    "import pandas as pd # data processing, CSV file I/O (e.g. pd.read_csv)\n",
    "import scipy.sparse as sps # creation of sparse matrix\n",
    "import matplotlib.pyplot as pyplot # plot\n",
    "\n",
    "from tqdm import tqdm"
   ]
  },
  {
   "cell_type": "markdown",
   "metadata": {},
   "source": [
    "# Data Preprocessing"
   ]
  },
  {
   "cell_type": "code",
   "execution_count": 2,
   "metadata": {
    "execution": {
     "iopub.execute_input": "2023-11-12T22:55:29.530470Z",
     "iopub.status.busy": "2023-11-12T22:55:29.530065Z",
     "iopub.status.idle": "2023-11-12T22:55:29.536636Z",
     "shell.execute_reply": "2023-11-12T22:55:29.535790Z",
     "shell.execute_reply.started": "2023-11-12T22:55:29.530448Z"
    }
   },
   "outputs": [
    {
     "data": {
      "text/plain": [
       "_io.TextIOWrapper"
      ]
     },
     "execution_count": 2,
     "metadata": {},
     "output_type": "execute_result"
    }
   ],
   "source": [
    "# Handle the input file\n",
    "input_file = open('Input/data_train.csv', 'r')\n",
    "type(input_file)"
   ]
  },
  {
   "cell_type": "code",
   "execution_count": 3,
   "metadata": {
    "execution": {
     "iopub.execute_input": "2023-11-12T22:55:31.169146Z",
     "iopub.status.busy": "2023-11-12T22:55:31.168482Z",
     "iopub.status.idle": "2023-11-12T22:55:31.385566Z",
     "shell.execute_reply": "2023-11-12T22:55:31.384663Z",
     "shell.execute_reply.started": "2023-11-12T22:55:31.169120Z"
    }
   },
   "outputs": [
    {
     "data": {
      "text/plain": [
       "(478730, 3)"
      ]
     },
     "execution_count": 3,
     "metadata": {},
     "output_type": "execute_result"
    }
   ],
   "source": [
    "# Build the dataframe from the input file\n",
    "input_df = pd.read_csv(\n",
    "    filepath_or_buffer=input_file,\n",
    "    dtype={0:int, 1:int, 2:int},\n",
    "    names=['user_id','item_id','data'],\n",
    "    header=0\n",
    ")\n",
    "\n",
    "input_df.shape"
   ]
  },
  {
   "cell_type": "code",
   "execution_count": 4,
   "metadata": {
    "execution": {
     "iopub.execute_input": "2023-11-12T22:55:34.346527Z",
     "iopub.status.busy": "2023-11-12T22:55:34.346196Z",
     "iopub.status.idle": "2023-11-12T22:55:34.361128Z",
     "shell.execute_reply": "2023-11-12T22:55:34.360275Z",
     "shell.execute_reply.started": "2023-11-12T22:55:34.346502Z"
    }
   },
   "outputs": [
    {
     "data": {
      "text/html": [
       "<div>\n",
       "<style scoped>\n",
       "    .dataframe tbody tr th:only-of-type {\n",
       "        vertical-align: middle;\n",
       "    }\n",
       "\n",
       "    .dataframe tbody tr th {\n",
       "        vertical-align: top;\n",
       "    }\n",
       "\n",
       "    .dataframe thead th {\n",
       "        text-align: right;\n",
       "    }\n",
       "</style>\n",
       "<table border=\"1\" class=\"dataframe\">\n",
       "  <thead>\n",
       "    <tr style=\"text-align: right;\">\n",
       "      <th></th>\n",
       "      <th>user_id</th>\n",
       "      <th>item_id</th>\n",
       "      <th>data</th>\n",
       "    </tr>\n",
       "  </thead>\n",
       "  <tbody>\n",
       "    <tr>\n",
       "      <th>0</th>\n",
       "      <td>1</td>\n",
       "      <td>7</td>\n",
       "      <td>1</td>\n",
       "    </tr>\n",
       "    <tr>\n",
       "      <th>1</th>\n",
       "      <td>1</td>\n",
       "      <td>15</td>\n",
       "      <td>1</td>\n",
       "    </tr>\n",
       "    <tr>\n",
       "      <th>2</th>\n",
       "      <td>1</td>\n",
       "      <td>16</td>\n",
       "      <td>1</td>\n",
       "    </tr>\n",
       "    <tr>\n",
       "      <th>3</th>\n",
       "      <td>1</td>\n",
       "      <td>133</td>\n",
       "      <td>1</td>\n",
       "    </tr>\n",
       "    <tr>\n",
       "      <th>4</th>\n",
       "      <td>1</td>\n",
       "      <td>161</td>\n",
       "      <td>1</td>\n",
       "    </tr>\n",
       "    <tr>\n",
       "      <th>5</th>\n",
       "      <td>1</td>\n",
       "      <td>187</td>\n",
       "      <td>1</td>\n",
       "    </tr>\n",
       "    <tr>\n",
       "      <th>6</th>\n",
       "      <td>1</td>\n",
       "      <td>205</td>\n",
       "      <td>1</td>\n",
       "    </tr>\n",
       "    <tr>\n",
       "      <th>7</th>\n",
       "      <td>1</td>\n",
       "      <td>222</td>\n",
       "      <td>1</td>\n",
       "    </tr>\n",
       "    <tr>\n",
       "      <th>8</th>\n",
       "      <td>1</td>\n",
       "      <td>237</td>\n",
       "      <td>1</td>\n",
       "    </tr>\n",
       "    <tr>\n",
       "      <th>9</th>\n",
       "      <td>1</td>\n",
       "      <td>354</td>\n",
       "      <td>1</td>\n",
       "    </tr>\n",
       "  </tbody>\n",
       "</table>\n",
       "</div>"
      ],
      "text/plain": [
       "   user_id  item_id  data\n",
       "0        1        7     1\n",
       "1        1       15     1\n",
       "2        1       16     1\n",
       "3        1      133     1\n",
       "4        1      161     1\n",
       "5        1      187     1\n",
       "6        1      205     1\n",
       "7        1      222     1\n",
       "8        1      237     1\n",
       "9        1      354     1"
      ]
     },
     "execution_count": 4,
     "metadata": {},
     "output_type": "execute_result"
    }
   ],
   "source": [
    "# Show the first rows of the dataframe\n",
    "input_df.head(n=10)"
   ]
  },
  {
   "cell_type": "code",
   "execution_count": 5,
   "metadata": {
    "execution": {
     "iopub.execute_input": "2023-11-12T22:55:37.530832Z",
     "iopub.status.busy": "2023-11-12T22:55:37.530481Z",
     "iopub.status.idle": "2023-11-12T22:55:37.550310Z",
     "shell.execute_reply": "2023-11-12T22:55:37.549787Z",
     "shell.execute_reply.started": "2023-11-12T22:55:37.530806Z"
    }
   },
   "outputs": [
    {
     "name": "stdout",
     "output_type": "stream",
     "text": [
      "[    1     2     3 ... 13022 13023 13024]\n",
      "[    7    15    16 ... 22317 22339 21466]\n"
     ]
    }
   ],
   "source": [
    "# Create arrays of unique user_ids and item_ids\n",
    "arr_users = input_df[\"user_id\"].unique()\n",
    "arr_items = input_df[\"item_id\"].unique()\n",
    "\n",
    "print(arr_users)\n",
    "print(arr_items)"
   ]
  },
  {
   "cell_type": "code",
   "execution_count": 8,
   "metadata": {
    "execution": {
     "iopub.execute_input": "2023-11-12T22:56:02.215375Z",
     "iopub.status.busy": "2023-11-12T22:56:02.214968Z",
     "iopub.status.idle": "2023-11-12T22:56:02.223353Z",
     "shell.execute_reply": "2023-11-12T22:56:02.222530Z",
     "shell.execute_reply.started": "2023-11-12T22:56:02.215349Z"
    }
   },
   "outputs": [
    {
     "name": "stdout",
     "output_type": "stream",
     "text": [
      "Average interaction per user 37.88\n",
      "Average interaction per item 21.54\n",
      "Sparsity 99.83 %\n"
     ]
    }
   ],
   "source": [
    "# Show some statistics\n",
    "n_users = len(arr_users)\n",
    "n_items = len(arr_items)\n",
    "n_interactions = len(input_df)\n",
    "\n",
    "print(\"Average interaction per user {:.2f}\".format(n_interactions/n_users))\n",
    "print(\"Average interaction per item {:.2f}\".format(n_interactions/n_items))\n",
    "print(\"Sparsity {:.2f} %\".format((1-float(n_interactions)/(n_items*n_users))*100))"
   ]
  },
  {
   "cell_type": "code",
   "execution_count": 9,
   "metadata": {},
   "outputs": [
    {
     "name": "stdout",
     "output_type": "stream",
     "text": [
      "Number of users\t 12638, Number of items\t 22222 \n",
      "\n",
      "Max ID users\t 13024, Max ID items\t 22347 \n",
      "\n"
     ]
    }
   ],
   "source": [
    "print(\"Number of users\\t {}, Number of items\\t {} \\n\".format(n_users, n_items))\n",
    "print(\"Max ID users\\t {}, Max ID items\\t {} \\n\".format(max(arr_users), max(arr_items)))"
   ]
  },
  {
   "cell_type": "code",
   "execution_count": 15,
   "metadata": {},
   "outputs": [
    {
     "name": "stdout",
     "output_type": "stream",
     "text": [
      "New index for item 980 is 348\n"
     ]
    }
   ],
   "source": [
    "# # Remove empty indices, create a new mapping\n",
    "\n",
    "# mapped_id, original_id = pd.factorize(input_df[\"user_id\"].unique())\n",
    "# user_original_ID_to_index = pd.Series(mapped_id, index=original_id)\n",
    "\n",
    "# mapped_id, original_id = pd.factorize(input_df[\"item_id\"].unique())\n",
    "# item_original_ID_to_index = pd.Series(mapped_id, index=original_id)\n",
    "\n",
    "\n",
    "# original_item_ID = 980\n",
    "# print(\"New index for item {} is {}\".format(original_item_ID, item_original_ID_to_index[original_item_ID]))"
   ]
  },
  {
   "cell_type": "code",
   "execution_count": 17,
   "metadata": {},
   "outputs": [
    {
     "data": {
      "text/html": [
       "<div>\n",
       "<style scoped>\n",
       "    .dataframe tbody tr th:only-of-type {\n",
       "        vertical-align: middle;\n",
       "    }\n",
       "\n",
       "    .dataframe tbody tr th {\n",
       "        vertical-align: top;\n",
       "    }\n",
       "\n",
       "    .dataframe thead th {\n",
       "        text-align: right;\n",
       "    }\n",
       "</style>\n",
       "<table border=\"1\" class=\"dataframe\">\n",
       "  <thead>\n",
       "    <tr style=\"text-align: right;\">\n",
       "      <th></th>\n",
       "      <th>user_id</th>\n",
       "      <th>item_id</th>\n",
       "      <th>data</th>\n",
       "    </tr>\n",
       "  </thead>\n",
       "  <tbody>\n",
       "    <tr>\n",
       "      <th>0</th>\n",
       "      <td>0</td>\n",
       "      <td>0</td>\n",
       "      <td>1</td>\n",
       "    </tr>\n",
       "    <tr>\n",
       "      <th>1</th>\n",
       "      <td>0</td>\n",
       "      <td>1</td>\n",
       "      <td>1</td>\n",
       "    </tr>\n",
       "    <tr>\n",
       "      <th>2</th>\n",
       "      <td>0</td>\n",
       "      <td>2</td>\n",
       "      <td>1</td>\n",
       "    </tr>\n",
       "    <tr>\n",
       "      <th>3</th>\n",
       "      <td>0</td>\n",
       "      <td>3</td>\n",
       "      <td>1</td>\n",
       "    </tr>\n",
       "    <tr>\n",
       "      <th>4</th>\n",
       "      <td>0</td>\n",
       "      <td>4</td>\n",
       "      <td>1</td>\n",
       "    </tr>\n",
       "    <tr>\n",
       "      <th>5</th>\n",
       "      <td>0</td>\n",
       "      <td>5</td>\n",
       "      <td>1</td>\n",
       "    </tr>\n",
       "    <tr>\n",
       "      <th>6</th>\n",
       "      <td>0</td>\n",
       "      <td>6</td>\n",
       "      <td>1</td>\n",
       "    </tr>\n",
       "    <tr>\n",
       "      <th>7</th>\n",
       "      <td>0</td>\n",
       "      <td>7</td>\n",
       "      <td>1</td>\n",
       "    </tr>\n",
       "    <tr>\n",
       "      <th>8</th>\n",
       "      <td>0</td>\n",
       "      <td>8</td>\n",
       "      <td>1</td>\n",
       "    </tr>\n",
       "    <tr>\n",
       "      <th>9</th>\n",
       "      <td>0</td>\n",
       "      <td>9</td>\n",
       "      <td>1</td>\n",
       "    </tr>\n",
       "  </tbody>\n",
       "</table>\n",
       "</div>"
      ],
      "text/plain": [
       "   user_id  item_id  data\n",
       "0        0        0     1\n",
       "1        0        1     1\n",
       "2        0        2     1\n",
       "3        0        3     1\n",
       "4        0        4     1\n",
       "5        0        5     1\n",
       "6        0        6     1\n",
       "7        0        7     1\n",
       "8        0        8     1\n",
       "9        0        9     1"
      ]
     },
     "execution_count": 17,
     "metadata": {},
     "output_type": "execute_result"
    }
   ],
   "source": [
    "# # Replace the IDs in the dataframe\n",
    "\n",
    "# input_df[\"user_id\"] = input_df[\"user_id\"].map(user_original_ID_to_index)\n",
    "# input_df[\"item_id\"] = input_df[\"item_id\"].map(item_original_ID_to_index)\n",
    "\n",
    "\n",
    "# input_df.head(n=10)"
   ]
  },
  {
   "cell_type": "markdown",
   "metadata": {},
   "source": [
    "# Matrix Conversion"
   ]
  },
  {
   "cell_type": "code",
   "execution_count": 18,
   "metadata": {
    "execution": {
     "iopub.execute_input": "2023-11-12T22:56:41.759574Z",
     "iopub.status.busy": "2023-11-12T22:56:41.759295Z",
     "iopub.status.idle": "2023-11-12T22:56:41.769131Z",
     "shell.execute_reply": "2023-11-12T22:56:41.768410Z",
     "shell.execute_reply.started": "2023-11-12T22:56:41.759551Z"
    }
   },
   "outputs": [
    {
     "data": {
      "text/plain": [
       "<12638x22222 sparse matrix of type '<class 'numpy.int32'>'\n",
       "\twith 478730 stored elements in COOrdinate format>"
      ]
     },
     "execution_count": 18,
     "metadata": {},
     "output_type": "execute_result"
    }
   ],
   "source": [
    "# Build the COO matrix with the COO constructor: (data, (row, column))\n",
    "URM_all = sps.coo_matrix(\n",
    "    (input_df[\"data\"].values,\n",
    "    (input_df[\"user_id\"].values, input_df[\"item_id\"].values))\n",
    ")\n",
    "\n",
    "URM_all"
   ]
  },
  {
   "cell_type": "code",
   "execution_count": 19,
   "metadata": {
    "execution": {
     "iopub.execute_input": "2023-11-12T22:56:46.591716Z",
     "iopub.status.busy": "2023-11-12T22:56:46.591432Z",
     "iopub.status.idle": "2023-11-12T22:56:46.605733Z",
     "shell.execute_reply": "2023-11-12T22:56:46.604615Z",
     "shell.execute_reply.started": "2023-11-12T22:56:46.591696Z"
    }
   },
   "outputs": [
    {
     "data": {
      "text/plain": [
       "<12638x22222 sparse matrix of type '<class 'numpy.intc'>'\n",
       "\twith 478730 stored elements in Compressed Sparse Row format>"
      ]
     },
     "execution_count": 19,
     "metadata": {},
     "output_type": "execute_result"
    }
   ],
   "source": [
    "# Convert the matrix to Compressed Sparse Row format\n",
    "URM_csr = URM_all.tocsr()\n",
    "\n",
    "URM_csr"
   ]
  },
  {
   "cell_type": "code",
   "execution_count": 20,
   "metadata": {
    "execution": {
     "iopub.execute_input": "2023-11-12T22:56:50.673578Z",
     "iopub.status.busy": "2023-11-12T22:56:50.673250Z",
     "iopub.status.idle": "2023-11-12T22:56:50.688362Z",
     "shell.execute_reply": "2023-11-12T22:56:50.687787Z",
     "shell.execute_reply.started": "2023-11-12T22:56:50.673552Z"
    }
   },
   "outputs": [
    {
     "data": {
      "text/plain": [
       "array([1431, 1007,  754, ...,    1,    1,    1], dtype=int32)"
      ]
     },
     "execution_count": 20,
     "metadata": {},
     "output_type": "execute_result"
    }
   ],
   "source": [
    "# Compute the item popularity as the number of interaction in each column\n",
    "\n",
    "# numpy.ediff1d(): calculate the differences between consecutive elements of an array.\n",
    "# (scipy) indptr maps the elements of data and indices to the rows of the sparse matrix.\n",
    "item_popularity = np.ediff1d(URM_all.tocsc().indptr)\n",
    "item_popularity"
   ]
  },
  {
   "cell_type": "code",
   "execution_count": 21,
   "metadata": {
    "execution": {
     "iopub.execute_input": "2023-11-12T22:56:52.555626Z",
     "iopub.status.busy": "2023-11-12T22:56:52.554891Z",
     "iopub.status.idle": "2023-11-12T22:56:52.562565Z",
     "shell.execute_reply": "2023-11-12T22:56:52.561896Z",
     "shell.execute_reply.started": "2023-11-12T22:56:52.555593Z"
    }
   },
   "outputs": [
    {
     "data": {
      "text/plain": [
       "array([   1,    1,    1, ..., 1581, 1666, 1764], dtype=int32)"
      ]
     },
     "execution_count": 21,
     "metadata": {},
     "output_type": "execute_result"
    }
   ],
   "source": [
    "# Sort the popularity array\n",
    "item_popularity = np.sort(item_popularity)\n",
    "item_popularity"
   ]
  },
  {
   "cell_type": "code",
   "execution_count": 22,
   "metadata": {
    "execution": {
     "iopub.execute_input": "2023-11-12T22:56:54.597465Z",
     "iopub.status.busy": "2023-11-12T22:56:54.597146Z",
     "iopub.status.idle": "2023-11-12T22:56:54.812621Z",
     "shell.execute_reply": "2023-11-12T22:56:54.811595Z",
     "shell.execute_reply.started": "2023-11-12T22:56:54.597440Z"
    }
   },
   "outputs": [
    {
     "data": {
      "image/png": "[encoded data removed]",
      "text/plain": [
       "<Figure size 432x288 with 1 Axes>"
      ]
     },
     "metadata": {
      "needs_background": "light"
     },
     "output_type": "display_data"
    }
   ],
   "source": [
    "# Plot the correlation between sorted items and the number of interactions.\n",
    "pyplot.plot(item_popularity, 'ro')\n",
    "pyplot.ylabel('Num Interactions')\n",
    "pyplot.xlabel('Sorted Item')\n",
    "pyplot.show()"
   ]
  },
  {
   "cell_type": "code",
   "execution_count": 23,
   "metadata": {
    "execution": {
     "iopub.execute_input": "2023-11-12T22:56:58.473087Z",
     "iopub.status.busy": "2023-11-12T22:56:58.472593Z",
     "iopub.status.idle": "2023-11-12T22:56:58.479846Z",
     "shell.execute_reply": "2023-11-12T22:56:58.478957Z",
     "shell.execute_reply.started": "2023-11-12T22:56:58.473061Z"
    }
   },
   "outputs": [
    {
     "name": "stdout",
     "output_type": "stream",
     "text": [
      "Average per-item interactions over the whole dataset 21.54\n",
      "Average per-item interactions for the top 10% popular items 122.73\n",
      "Average per-item interactions for the least 10% popular items 2.35\n",
      "Average per-item interactions for the median 10% popular items 8.37\n",
      "Number of items with zero interactions 0\n"
     ]
    }
   ],
   "source": [
    "# Statistics\n",
    "ten_percent = int(n_items/10)\n",
    "\n",
    "print(\"Average per-item interactions over the whole dataset {:.2f}\".\n",
    "      format(item_popularity.mean()))\n",
    "\n",
    "print(\"Average per-item interactions for the top 10% popular items {:.2f}\".\n",
    "      format(item_popularity[-ten_percent:].mean()))\n",
    "\n",
    "print(\"Average per-item interactions for the least 10% popular items {:.2f}\".\n",
    "      format(item_popularity[:ten_percent].mean()))\n",
    "\n",
    "print(\"Average per-item interactions for the median 10% popular items {:.2f}\".\n",
    "      format(item_popularity[int(n_items*0.45):int(n_items*0.55)].mean()))\n",
    "\n",
    "print(\"Number of items with zero interactions {}\".\n",
    "      format(np.sum(item_popularity==0)))"
   ]
  },
  {
   "cell_type": "code",
   "execution_count": 24,
   "metadata": {
    "execution": {
     "iopub.execute_input": "2023-11-12T22:57:08.195018Z",
     "iopub.status.busy": "2023-11-12T22:57:08.194711Z",
     "iopub.status.idle": "2023-11-12T22:57:08.201059Z",
     "shell.execute_reply": "2023-11-12T22:57:08.200165Z",
     "shell.execute_reply.started": "2023-11-12T22:57:08.194997Z"
    }
   },
   "outputs": [
    {
     "data": {
      "text/plain": [
       "array([   1,    1,    1, ...,  729,  824, 1351], dtype=int32)"
      ]
     },
     "execution_count": 24,
     "metadata": {},
     "output_type": "execute_result"
    }
   ],
   "source": [
    "# Compute the user activity as the number of interaction in each row\n",
    "user_activity = np.ediff1d(URM_csr.indptr)\n",
    "user_activity = np.sort(user_activity)\n",
    "user_activity"
   ]
  },
  {
   "cell_type": "code",
   "execution_count": 25,
   "metadata": {
    "execution": {
     "iopub.execute_input": "2023-11-12T22:57:10.794195Z",
     "iopub.status.busy": "2023-11-12T22:57:10.793893Z",
     "iopub.status.idle": "2023-11-12T22:57:10.963991Z",
     "shell.execute_reply": "2023-11-12T22:57:10.963156Z",
     "shell.execute_reply.started": "2023-11-12T22:57:10.794172Z"
    }
   },
   "outputs": [
    {
     "data": {
      "image/png": "[encoded data removed]",
      "text/plain": [
       "<Figure size 432x288 with 1 Axes>"
      ]
     },
     "metadata": {
      "needs_background": "light"
     },
     "output_type": "display_data"
    }
   ],
   "source": [
    "# Plot the correlation between sorted users and number of interactions\n",
    "pyplot.plot(user_activity, 'ro')\n",
    "pyplot.ylabel('Num Interactions')\n",
    "pyplot.xlabel('Sorted User')\n",
    "pyplot.show()"
   ]
  },
  {
   "cell_type": "markdown",
   "metadata": {},
   "source": [
    "# Evaluation of the recommender"
   ]
  },
  {
   "cell_type": "code",
   "execution_count": 26,
   "metadata": {
    "execution": {
     "iopub.execute_input": "2023-11-12T22:57:21.250734Z",
     "iopub.status.busy": "2023-11-12T22:57:21.250427Z",
     "iopub.status.idle": "2023-11-12T22:57:21.254680Z",
     "shell.execute_reply": "2023-11-12T22:57:21.253888Z",
     "shell.execute_reply.started": "2023-11-12T22:57:21.250710Z"
    }
   },
   "outputs": [],
   "source": [
    "# Define the train-test splitting ratio\n",
    "train_test_split = 0.8"
   ]
  },
  {
   "cell_type": "code",
   "execution_count": 27,
   "metadata": {
    "execution": {
     "iopub.execute_input": "2023-11-12T22:57:23.293099Z",
     "iopub.status.busy": "2023-11-12T22:57:23.292732Z",
     "iopub.status.idle": "2023-11-12T22:57:23.298860Z",
     "shell.execute_reply": "2023-11-12T22:57:23.298052Z",
     "shell.execute_reply.started": "2023-11-12T22:57:23.293072Z"
    }
   },
   "outputs": [
    {
     "data": {
      "text/plain": [
       "478730"
      ]
     },
     "execution_count": 27,
     "metadata": {},
     "output_type": "execute_result"
    }
   ],
   "source": [
    "# Define the number of interactions as non-zero elements of the URM\n",
    "n_interactions = URM_all.nnz\n",
    "n_interactions"
   ]
  },
  {
   "cell_type": "code",
   "execution_count": 28,
   "metadata": {
    "execution": {
     "iopub.execute_input": "2023-11-12T22:57:27.543661Z",
     "iopub.status.busy": "2023-11-12T22:57:27.543371Z",
     "iopub.status.idle": "2023-11-12T22:57:27.562667Z",
     "shell.execute_reply": "2023-11-12T22:57:27.561740Z",
     "shell.execute_reply.started": "2023-11-12T22:57:27.543640Z"
    }
   },
   "outputs": [
    {
     "data": {
      "text/plain": [
       "array([ True,  True, False, ...,  True,  True, False])"
      ]
     },
     "execution_count": 28,
     "metadata": {},
     "output_type": "execute_result"
    }
   ],
   "source": [
    "# Define the train mask\n",
    "if(train_test_split != 1):\n",
    "    train_mask = np.random.choice([True,False], \n",
    "                                  n_interactions, \n",
    "                                  p=[train_test_split, 1-train_test_split])\n",
    "else:\n",
    "    train_mask = np.random.choice([True,False], \n",
    "                                  n_interactions, \n",
    "                                  p=[0.8, 0.2])\n",
    "train_mask"
   ]
  },
  {
   "cell_type": "code",
   "execution_count": 29,
   "metadata": {
    "execution": {
     "iopub.execute_input": "2023-11-12T22:57:34.081912Z",
     "iopub.status.busy": "2023-11-12T22:57:34.081434Z",
     "iopub.status.idle": "2023-11-12T22:57:34.087631Z",
     "shell.execute_reply": "2023-11-12T22:57:34.086993Z",
     "shell.execute_reply.started": "2023-11-12T22:57:34.081885Z"
    }
   },
   "outputs": [
    {
     "data": {
      "text/plain": [
       "<12638x22222 sparse matrix of type '<class 'numpy.intc'>'\n",
       "\twith 382755 stored elements in Compressed Sparse Row format>"
      ]
     },
     "execution_count": 29,
     "metadata": {},
     "output_type": "execute_result"
    }
   ],
   "source": [
    "# Build the training URM\n",
    "\n",
    "if(train_test_split != 1):\n",
    "    URM_train = sps.csr_matrix((URM_all.data[train_mask],\n",
    "                                (URM_all.row[train_mask], URM_all.col[train_mask])))\n",
    "else:\n",
    "    URM_train = URM_csr\n",
    "\n",
    "URM_train"
   ]
  },
  {
   "cell_type": "code",
   "execution_count": 30,
   "metadata": {
    "execution": {
     "iopub.execute_input": "2023-11-12T22:57:45.307264Z",
     "iopub.status.busy": "2023-11-12T22:57:45.306979Z",
     "iopub.status.idle": "2023-11-12T22:57:45.323001Z",
     "shell.execute_reply": "2023-11-12T22:57:45.322133Z",
     "shell.execute_reply.started": "2023-11-12T22:57:45.307243Z"
    }
   },
   "outputs": [
    {
     "data": {
      "text/plain": [
       "478730"
      ]
     },
     "execution_count": 30,
     "metadata": {},
     "output_type": "execute_result"
    }
   ],
   "source": [
    "# Build the test URM\n",
    "\n",
    "test_mask = np.logical_not(train_mask)\n",
    "\n",
    "URM_test = sps.csr_matrix((URM_all.data[test_mask],\n",
    "                           (URM_all.row[test_mask], URM_all.col[test_mask])))\n",
    "\n",
    "len(test_mask)"
   ]
  },
  {
   "cell_type": "code",
   "execution_count": 31,
   "metadata": {
    "execution": {
     "iopub.execute_input": "2023-11-12T22:57:47.368663Z",
     "iopub.status.busy": "2023-11-12T22:57:47.368384Z",
     "iopub.status.idle": "2023-11-12T22:57:47.375566Z",
     "shell.execute_reply": "2023-11-12T22:57:47.374853Z",
     "shell.execute_reply.started": "2023-11-12T22:57:47.368643Z"
    }
   },
   "outputs": [
    {
     "data": {
      "text/plain": [
       "array([1114])"
      ]
     },
     "execution_count": 31,
     "metadata": {},
     "output_type": "execute_result"
    }
   ],
   "source": [
    "# Example: display relevant items (items in the test set) for a certain user\n",
    "user_id = 42\n",
    "relevant_items = URM_test[user_id].indices\n",
    "relevant_items"
   ]
  },
  {
   "cell_type": "code",
   "execution_count": 32,
   "metadata": {
    "execution": {
     "iopub.execute_input": "2023-11-12T22:57:49.660871Z",
     "iopub.status.busy": "2023-11-12T22:57:49.660512Z",
     "iopub.status.idle": "2023-11-12T22:57:49.666261Z",
     "shell.execute_reply": "2023-11-12T22:57:49.665473Z",
     "shell.execute_reply.started": "2023-11-12T22:57:49.660846Z"
    }
   },
   "outputs": [
    {
     "data": {
      "text/plain": [
       "<1x22219 sparse matrix of type '<class 'numpy.intc'>'\n",
       "\twith 1 stored elements in Compressed Sparse Row format>"
      ]
     },
     "execution_count": 32,
     "metadata": {},
     "output_type": "execute_result"
    }
   ],
   "source": [
    "URM_test[user_id]"
   ]
  },
  {
   "cell_type": "code",
   "execution_count": 33,
   "metadata": {
    "execution": {
     "iopub.execute_input": "2023-11-12T22:57:54.735809Z",
     "iopub.status.busy": "2023-11-12T22:57:54.735459Z",
     "iopub.status.idle": "2023-11-12T22:57:54.741536Z",
     "shell.execute_reply": "2023-11-12T22:57:54.740539Z",
     "shell.execute_reply.started": "2023-11-12T22:57:54.735781Z"
    }
   },
   "outputs": [
    {
     "data": {
      "text/plain": [
       "array([ 0,  1,  2,  3, 22])"
      ]
     },
     "execution_count": 33,
     "metadata": {},
     "output_type": "execute_result"
    }
   ],
   "source": [
    "# Example: pick a list of recommendations\n",
    "recommended_items = np.array([0, 1, 2, 3, 22])\n",
    "recommended_items"
   ]
  },
  {
   "cell_type": "code",
   "execution_count": 34,
   "metadata": {
    "execution": {
     "iopub.execute_input": "2023-11-12T22:57:57.360311Z",
     "iopub.status.busy": "2023-11-12T22:57:57.360022Z",
     "iopub.status.idle": "2023-11-12T22:57:57.365991Z",
     "shell.execute_reply": "2023-11-12T22:57:57.365088Z",
     "shell.execute_reply.started": "2023-11-12T22:57:57.360288Z"
    }
   },
   "outputs": [
    {
     "data": {
      "text/plain": [
       "array([False, False, False, False, False])"
      ]
     },
     "execution_count": 34,
     "metadata": {},
     "output_type": "execute_result"
    }
   ],
   "source": [
    "# Check if the items in the recommendation list are relevant for that user\n",
    "# numpy.in1d(): test whether each element of a 1-D array is also present in a second array.\n",
    "is_relevant = np.in1d(recommended_items, relevant_items, assume_unique=True)\n",
    "is_relevant"
   ]
  },
  {
   "cell_type": "code",
   "execution_count": 35,
   "metadata": {
    "execution": {
     "iopub.execute_input": "2023-11-12T22:57:59.789075Z",
     "iopub.status.busy": "2023-11-12T22:57:59.788764Z",
     "iopub.status.idle": "2023-11-12T22:57:59.793273Z",
     "shell.execute_reply": "2023-11-12T22:57:59.792690Z",
     "shell.execute_reply.started": "2023-11-12T22:57:59.789054Z"
    }
   },
   "outputs": [],
   "source": [
    "# Precision: how many of the recommended items are relevant\n",
    "def precision(recommended_items, relevant_items):\n",
    "    \n",
    "    is_relevant = np.in1d(recommended_items, relevant_items, assume_unique=True)\n",
    "    \n",
    "    precision_score = np.sum(is_relevant, dtype=np.float32) / len(is_relevant)\n",
    "    \n",
    "    return precision_score"
   ]
  },
  {
   "cell_type": "code",
   "execution_count": 36,
   "metadata": {
    "execution": {
     "iopub.execute_input": "2023-11-12T22:58:03.116169Z",
     "iopub.status.busy": "2023-11-12T22:58:03.115868Z",
     "iopub.status.idle": "2023-11-12T22:58:03.120945Z",
     "shell.execute_reply": "2023-11-12T22:58:03.120116Z",
     "shell.execute_reply.started": "2023-11-12T22:58:03.116146Z"
    }
   },
   "outputs": [],
   "source": [
    "# Recall: how many of the relevant items I was able to recommend\n",
    "def recall(recommended_items, relevant_items):\n",
    "    \n",
    "    is_relevant = np.in1d(recommended_items, relevant_items, assume_unique=True)\n",
    "    \n",
    "    recall_score = np.sum(is_relevant, dtype=np.float32) / relevant_items.shape[0]\n",
    "    \n",
    "    return recall_score"
   ]
  },
  {
   "cell_type": "code",
   "execution_count": 37,
   "metadata": {
    "execution": {
     "iopub.execute_input": "2023-11-12T22:58:05.172401Z",
     "iopub.status.busy": "2023-11-12T22:58:05.172077Z",
     "iopub.status.idle": "2023-11-12T22:58:05.177872Z",
     "shell.execute_reply": "2023-11-12T22:58:05.177130Z",
     "shell.execute_reply.started": "2023-11-12T22:58:05.172375Z"
    }
   },
   "outputs": [],
   "source": [
    "# Average Precision\n",
    "def AP(recommended_items, relevant_items):\n",
    "   \n",
    "    is_relevant = np.in1d(recommended_items, relevant_items, assume_unique=True)\n",
    "    \n",
    "    # Cumulative sum: precision at 1, at 2, at 3 ...\n",
    "    p_at_k = is_relevant * np.cumsum(is_relevant, dtype=np.float32) / (1 + np.arange(is_relevant.shape[0]))\n",
    "    \n",
    "    ap_score = np.sum(p_at_k) / np.min([relevant_items.shape[0], is_relevant.shape[0]])\n",
    "\n",
    "    return ap_score"
   ]
  },
  {
   "cell_type": "markdown",
   "metadata": {},
   "source": [
    "# Recommender Classes\n",
    "- **fit()**: train the model\n",
    "- **recommend()**: use the model to recommend"
   ]
  },
  {
   "cell_type": "code",
   "execution_count": 89,
   "metadata": {
    "execution": {
     "iopub.execute_input": "2023-11-12T22:58:14.738514Z",
     "iopub.status.busy": "2023-11-12T22:58:14.738223Z",
     "iopub.status.idle": "2023-11-12T22:58:14.743551Z",
     "shell.execute_reply": "2023-11-12T22:58:14.742690Z",
     "shell.execute_reply.started": "2023-11-12T22:58:14.738493Z"
    }
   },
   "outputs": [],
   "source": [
    "# Define the basic recommender class\n",
    "class Recommender(object):\n",
    "    def fit(self, URM_train):\n",
    "        self.n_items = URM_train.shape[1]\n",
    "        \n",
    "    def recommend(self, user_id, at=10):\n",
    "        recommended_items = np.random.choice(self.n_items, at)\n",
    "        return recommended_items"
   ]
  },
  {
   "cell_type": "markdown",
   "metadata": {},
   "source": [
    "## Random Recommender"
   ]
  },
  {
   "cell_type": "code",
   "execution_count": null,
   "metadata": {
    "execution": {
     "iopub.execute_input": "2023-11-04T21:06:16.565624Z",
     "iopub.status.busy": "2023-11-04T21:06:16.565043Z",
     "iopub.status.idle": "2023-11-04T21:06:16.571227Z",
     "shell.execute_reply": "2023-11-04T21:06:16.569922Z",
     "shell.execute_reply.started": "2023-11-04T21:06:16.565583Z"
    }
   },
   "outputs": [],
   "source": [
    "# Define the random recommender\n",
    "class RandomRecommender(Recommender):\n",
    "    pass"
   ]
  },
  {
   "cell_type": "markdown",
   "metadata": {},
   "source": [
    "## Top Popular Recommender"
   ]
  },
  {
   "cell_type": "code",
   "execution_count": null,
   "metadata": {
    "execution": {
     "iopub.execute_input": "2023-11-12T22:58:32.166679Z",
     "iopub.status.busy": "2023-11-12T22:58:32.166381Z",
     "iopub.status.idle": "2023-11-12T22:58:32.172734Z",
     "shell.execute_reply": "2023-11-12T22:58:32.171928Z",
     "shell.execute_reply.started": "2023-11-12T22:58:32.166657Z"
    }
   },
   "outputs": [],
   "source": [
    "class TopPopRecommender(Recommender):\n",
    "    \n",
    "    def fit(self, URM_train):\n",
    "        \n",
    "        self.URM_train = URM_train\n",
    "        item_popularity = np.ediff1d(URM_train.tocsc().indptr)\n",
    "        \n",
    "        self.popular_items = np.argsort(item_popularity)\n",
    "        self.popular_items = np.flip(self.popular_items, axis=0)\n",
    "        \n",
    "    def recommend(self, user_id, at=10):\n",
    "        seen_items = self.URM_train.indices[self.URM_train.indptr[user_id]:self.URM_train.indptr[user_id+1]]\n",
    "        unseen_items_mask = np.in1d(self.popular_items, seen_items, assume_unique=True, invert=True)\n",
    "            \n",
    "        unseen_items = self.popular_items[unseen_items_mask]\n",
    "        recommended_items = unseen_items[0:at]\n",
    "        \n",
    "        return recommended_items"
   ]
  },
  {
   "cell_type": "markdown",
   "metadata": {},
   "source": [
    "## ItemKNNCF Recommender"
   ]
  },
  {
   "cell_type": "code",
   "execution_count": 90,
   "metadata": {},
   "outputs": [
    {
     "name": "stdout",
     "output_type": "stream",
     "text": [
      "EvaluatorHoldout: Ignoring 2521 (19.4%) Users that have less than 1 test interactions\n",
      "ItemKNNCFRecommender: URM Detected 611 ( 4.7%) users with no interactions.\n",
      "ItemKNNCFRecommender: URM Detected 253 ( 1.1%) items with no interactions.\n",
      "Unable to load Cython Compute_Similarity, reverting to Python\n",
      "Similarity column 22348 (100.0%), 4603.44 column/sec. Elapsed time 4.85 sec\n"
     ]
    }
   ],
   "source": [
    "from Recommenders.KNN.ItemKNNCFRecommender import ItemKNNCFRecommender\n",
    "from Evaluation.Evaluator import EvaluatorHoldout\n",
    "evaluator_test = EvaluatorHoldout(URM_test, cutoff_list=[10])\n",
    "\n",
    "recommender = ItemKNNCFRecommender(URM_train)\n",
    "recommender.fit(shrink=3, topK=5)"
   ]
  },
  {
   "cell_type": "code",
   "execution_count": 91,
   "metadata": {},
   "outputs": [
    {
     "name": "stdout",
     "output_type": "stream",
     "text": [
      "EvaluatorHoldout: Processed 10504 (100.0%) in 3.26 sec. Users per second: 3219\n"
     ]
    },
    {
     "data": {
      "text/plain": [
       "PRECISION                      0.085215\n",
       "PRECISION_RECALL_MIN_DEN       0.144037\n",
       "RECALL                         0.119863\n",
       "MAP                            0.043871\n",
       "MAP_MIN_DEN                    0.072501\n",
       "MRR                            0.243404\n",
       "NDCG                           0.132414\n",
       "F1                             0.099612\n",
       "HIT_RATE                       0.469059\n",
       "ARHR_ALL_HITS                  0.322591\n",
       "NOVELTY                        0.005586\n",
       "AVERAGE_POPULARITY             0.141768\n",
       "DIVERSITY_MEAN_INTER_LIST      0.984081\n",
       "DIVERSITY_HERFINDAHL           0.998399\n",
       "COVERAGE_ITEM                  0.511903\n",
       "COVERAGE_ITEM_HIT              0.111688\n",
       "ITEMS_IN_GT                    0.798998\n",
       "COVERAGE_USER                  0.806449\n",
       "COVERAGE_USER_HIT              0.378273\n",
       "USERS_IN_GT                    0.806449\n",
       "DIVERSITY_GINI                 0.115838\n",
       "SHANNON_ENTROPY               11.067369\n",
       "RATIO_DIVERSITY_HERFINDAHL      0.99876\n",
       "RATIO_DIVERSITY_GINI           0.334185\n",
       "RATIO_SHANNON_ENTROPY          0.852588\n",
       "RATIO_AVERAGE_POPULARITY       1.184289\n",
       "RATIO_NOVELTY                  0.326723\n",
       "Name: 10, dtype: object"
      ]
     },
     "execution_count": 91,
     "metadata": {},
     "output_type": "execute_result"
    }
   ],
   "source": [
    "result, _ = evaluator_test.evaluateRecommender(recommender)\n",
    "result.loc[10]"
   ]
  },
  {
   "cell_type": "code",
   "execution_count": 92,
   "metadata": {},
   "outputs": [
    {
     "name": "stdout",
     "output_type": "stream",
     "text": [
      "ItemKNNCFRecommender: URM Detected 611 ( 4.7%) users with no interactions.\n",
      "ItemKNNCFRecommender: URM Detected 253 ( 1.1%) items with no interactions.\n",
      "Unable to load Cython Compute_Similarity, reverting to Python\n",
      "Similarity column 22348 (100.0%), 4573.88 column/sec. Elapsed time 4.89 sec\n",
      "EvaluatorHoldout: Processed 10504 (100.0%) in 3.33 sec. Users per second: 3156\n",
      "ItemKNNCFRecommender: URM Detected 611 ( 4.7%) users with no interactions.\n",
      "ItemKNNCFRecommender: URM Detected 253 ( 1.1%) items with no interactions.\n",
      "Unable to load Cython Compute_Similarity, reverting to Python\n",
      "Similarity column 22348 (100.0%), 4642.31 column/sec. Elapsed time 4.81 sec\n",
      "EvaluatorHoldout: Processed 10504 (100.0%) in 3.28 sec. Users per second: 3201\n",
      "ItemKNNCFRecommender: URM Detected 611 ( 4.7%) users with no interactions.\n",
      "ItemKNNCFRecommender: URM Detected 253 ( 1.1%) items with no interactions.\n",
      "Unable to load Cython Compute_Similarity, reverting to Python\n",
      "Similarity column 22348 (100.0%), 4606.78 column/sec. Elapsed time 4.85 sec\n",
      "EvaluatorHoldout: Processed 10504 (100.0%) in 3.32 sec. Users per second: 3162\n"
     ]
    }
   ],
   "source": [
    "x_tick = [2.8, 3.0, 3.2]\n",
    "MAP_per_k = []\n",
    "\n",
    "for x in x_tick:\n",
    "    \n",
    "    recommender = ItemKNNCFRecommender(URM_train)\n",
    "    recommender.fit(shrink=x, topK=5)\n",
    "    \n",
    "    result_df, _ = evaluator_test.evaluateRecommender(recommender)\n",
    "    \n",
    "    MAP_per_k.append(result_df.loc[10][\"MAP\"])"
   ]
  },
  {
   "cell_type": "code",
   "execution_count": 93,
   "metadata": {},
   "outputs": [
    {
     "data": {
      "image/png": "[encoded data removed]",
      "text/plain": [
       "<Figure size 432x288 with 1 Axes>"
      ]
     },
     "metadata": {
      "needs_background": "light"
     },
     "output_type": "display_data"
    }
   ],
   "source": [
    "pyplot.plot(x_tick, MAP_per_k)\n",
    "pyplot.ylabel('MAP')\n",
    "pyplot.xlabel('shrink')\n",
    "pyplot.show()"
   ]
  },
  {
   "cell_type": "markdown",
   "metadata": {},
   "source": [
    "## UserKNNCF Recommender"
   ]
  },
  {
   "cell_type": "code",
   "execution_count": 129,
   "metadata": {},
   "outputs": [
    {
     "name": "stdout",
     "output_type": "stream",
     "text": [
      "EvaluatorHoldout: Ignoring 2521 (19.4%) Users that have less than 1 test interactions\n",
      "UserKNNCFRecommender: URM Detected 611 ( 4.7%) users with no interactions.\n",
      "UserKNNCFRecommender: URM Detected 253 ( 1.1%) items with no interactions.\n",
      "Unable to load Cython Compute_Similarity, reverting to Python\n",
      "Similarity column 13025 (100.0%), 2432.25 column/sec. Elapsed time 5.36 sec\n"
     ]
    }
   ],
   "source": [
    "from Recommenders.KNN.UserKNNCFRecommender import UserKNNCFRecommender\n",
    "from Evaluation.Evaluator import EvaluatorHoldout\n",
    "evaluator_test = EvaluatorHoldout(URM_test, cutoff_list=[10])\n",
    "\n",
    "recommender = UserKNNCFRecommender(URM_train)\n",
    "recommender.fit(shrink=0, topK=340)\n"
   ]
  },
  {
   "cell_type": "code",
   "execution_count": 130,
   "metadata": {},
   "outputs": [
    {
     "name": "stdout",
     "output_type": "stream",
     "text": [
      "EvaluatorHoldout: Processed 10504 (100.0%) in 5.04 sec. Users per second: 2084\n"
     ]
    },
    {
     "data": {
      "text/plain": [
       "PRECISION                     0.069945\n",
       "PRECISION_RECALL_MIN_DEN       0.12717\n",
       "RECALL                        0.109097\n",
       "MAP                           0.035085\n",
       "MAP_MIN_DEN                   0.062151\n",
       "MRR                           0.220798\n",
       "NDCG                          0.115225\n",
       "F1                             0.08524\n",
       "HIT_RATE                      0.435072\n",
       "ARHR_ALL_HITS                 0.276165\n",
       "NOVELTY                       0.004497\n",
       "AVERAGE_POPULARITY             0.39897\n",
       "DIVERSITY_MEAN_INTER_LIST     0.884162\n",
       "DIVERSITY_HERFINDAHL          0.988408\n",
       "COVERAGE_ITEM                 0.145695\n",
       "COVERAGE_ITEM_HIT             0.046268\n",
       "ITEMS_IN_GT                   0.798998\n",
       "COVERAGE_USER                 0.806449\n",
       "COVERAGE_USER_HIT             0.350864\n",
       "USERS_IN_GT                   0.806449\n",
       "DIVERSITY_GINI                0.015204\n",
       "SHANNON_ENTROPY               8.115938\n",
       "RATIO_DIVERSITY_HERFINDAHL    0.988765\n",
       "RATIO_DIVERSITY_GINI          0.043862\n",
       "RATIO_SHANNON_ENTROPY         0.625221\n",
       "RATIO_AVERAGE_POPULARITY      3.332887\n",
       "RATIO_NOVELTY                 0.262985\n",
       "Name: 10, dtype: object"
      ]
     },
     "execution_count": 130,
     "metadata": {},
     "output_type": "execute_result"
    }
   ],
   "source": [
    "result, _ = evaluator_test.evaluateRecommender(recommender)\n",
    "result.loc[10]"
   ]
  },
  {
   "cell_type": "code",
   "execution_count": 131,
   "metadata": {},
   "outputs": [
    {
     "name": "stdout",
     "output_type": "stream",
     "text": [
      "UserKNNCFRecommender: URM Detected 611 ( 4.7%) users with no interactions.\n",
      "UserKNNCFRecommender: URM Detected 253 ( 1.1%) items with no interactions.\n",
      "Unable to load Cython Compute_Similarity, reverting to Python\n",
      "Similarity column 13025 (100.0%), 2458.91 column/sec. Elapsed time 5.30 sec\n",
      "EvaluatorHoldout: Processed 10504 (100.0%) in 5.09 sec. Users per second: 2066\n",
      "UserKNNCFRecommender: URM Detected 611 ( 4.7%) users with no interactions.\n",
      "UserKNNCFRecommender: URM Detected 253 ( 1.1%) items with no interactions.\n",
      "Unable to load Cython Compute_Similarity, reverting to Python\n",
      "Similarity column 13025 (100.0%), 2444.99 column/sec. Elapsed time 5.33 sec\n",
      "EvaluatorHoldout: Processed 10504 (100.0%) in 5.08 sec. Users per second: 2068\n",
      "UserKNNCFRecommender: URM Detected 611 ( 4.7%) users with no interactions.\n",
      "UserKNNCFRecommender: URM Detected 253 ( 1.1%) items with no interactions.\n",
      "Unable to load Cython Compute_Similarity, reverting to Python\n",
      "Similarity column 13025 (100.0%), 2455.04 column/sec. Elapsed time 5.31 sec\n",
      "EvaluatorHoldout: Processed 10504 (100.0%) in 5.11 sec. Users per second: 2055\n"
     ]
    }
   ],
   "source": [
    "x_tick = [0.0, 0.2, 0.5]\n",
    "MAP_per_k = []\n",
    "\n",
    "for x in x_tick:\n",
    "    \n",
    "    recommender = UserKNNCFRecommender(URM_train)\n",
    "    recommender.fit(shrink=x, topK=340)\n",
    "    \n",
    "    result_df, _ = evaluator_test.evaluateRecommender(recommender)\n",
    "    \n",
    "    MAP_per_k.append(result_df.loc[10][\"MAP\"])"
   ]
  },
  {
   "cell_type": "code",
   "execution_count": 132,
   "metadata": {},
   "outputs": [
    {
     "data": {
      "image/png": "[encoded data removed]",
      "text/plain": [
       "<Figure size 432x288 with 1 Axes>"
      ]
     },
     "metadata": {
      "needs_background": "light"
     },
     "output_type": "display_data"
    }
   ],
   "source": [
    "pyplot.plot(x_tick, MAP_per_k)\n",
    "pyplot.ylabel('MAP')\n",
    "pyplot.xlabel('shrink')\n",
    "pyplot.show()"
   ]
  },
  {
   "cell_type": "markdown",
   "metadata": {},
   "source": [
    "## PureSVD Recommender"
   ]
  },
  {
   "cell_type": "code",
   "execution_count": 149,
   "metadata": {},
   "outputs": [
    {
     "name": "stdout",
     "output_type": "stream",
     "text": [
      "PureSVDRecommender: URM Detected 611 ( 4.7%) users with no interactions.\n",
      "PureSVDRecommender: URM Detected 253 ( 1.1%) items with no interactions.\n",
      "PureSVDRecommender: Computing SVD decomposition...\n",
      "PureSVDRecommender: Computing SVD decomposition... done in 0.50 sec\n",
      "EvaluatorHoldout: Processed 10504 (100.0%) in 5.31 sec. Users per second: 1977\n"
     ]
    },
    {
     "data": {
      "text/plain": [
       "PRECISION                     0.060301\n",
       "PRECISION_RECALL_MIN_DEN      0.103179\n",
       "RECALL                        0.087055\n",
       "MAP                           0.030796\n",
       "MAP_MIN_DEN                   0.053121\n",
       "MRR                           0.197311\n",
       "NDCG                          0.098522\n",
       "F1                            0.071249\n",
       "HIT_RATE                      0.381759\n",
       "ARHR_ALL_HITS                 0.244647\n",
       "NOVELTY                       0.004785\n",
       "AVERAGE_POPULARITY            0.196657\n",
       "DIVERSITY_MEAN_INTER_LIST     0.968358\n",
       "DIVERSITY_HERFINDAHL          0.996827\n",
       "COVERAGE_ITEM                 0.048058\n",
       "COVERAGE_ITEM_HIT             0.029801\n",
       "ITEMS_IN_GT                   0.798998\n",
       "COVERAGE_USER                 0.806449\n",
       "COVERAGE_USER_HIT             0.307869\n",
       "USERS_IN_GT                   0.806449\n",
       "DIVERSITY_GINI                0.013831\n",
       "SHANNON_ENTROPY               8.706419\n",
       "RATIO_DIVERSITY_HERFINDAHL    0.997187\n",
       "RATIO_DIVERSITY_GINI          0.039902\n",
       "RATIO_SHANNON_ENTROPY          0.67071\n",
       "RATIO_AVERAGE_POPULARITY      1.642818\n",
       "RATIO_NOVELTY                 0.279851\n",
       "Name: 10, dtype: object"
      ]
     },
     "execution_count": 149,
     "metadata": {},
     "output_type": "execute_result"
    }
   ],
   "source": [
    "from Recommenders.MatrixFactorization.PureSVDRecommender import PureSVDRecommender\n",
    "\n",
    "pRec = PureSVDRecommender(URM_train)\n",
    "pRec.fit(num_factors=135)\n",
    "result, _ = evaluator_test.evaluateRecommender(pRec)\n",
    "result.loc[10]"
   ]
  },
  {
   "cell_type": "code",
   "execution_count": 147,
   "metadata": {},
   "outputs": [
    {
     "name": "stdout",
     "output_type": "stream",
     "text": [
      "PureSVDRecommender: URM Detected 611 ( 4.7%) users with no interactions.\n",
      "PureSVDRecommender: URM Detected 253 ( 1.1%) items with no interactions.\n",
      "PureSVDRecommender: Computing SVD decomposition...\n",
      "PureSVDRecommender: Computing SVD decomposition... done in 0.48 sec\n",
      "EvaluatorHoldout: Processed 10504 (100.0%) in 5.42 sec. Users per second: 1939\n",
      "PureSVDRecommender: URM Detected 611 ( 4.7%) users with no interactions.\n",
      "PureSVDRecommender: URM Detected 253 ( 1.1%) items with no interactions.\n",
      "PureSVDRecommender: Computing SVD decomposition...\n",
      "PureSVDRecommender: Computing SVD decomposition... done in 0.52 sec\n",
      "EvaluatorHoldout: Processed 10504 (100.0%) in 5.37 sec. Users per second: 1956\n",
      "PureSVDRecommender: URM Detected 611 ( 4.7%) users with no interactions.\n",
      "PureSVDRecommender: URM Detected 253 ( 1.1%) items with no interactions.\n",
      "PureSVDRecommender: Computing SVD decomposition...\n",
      "PureSVDRecommender: Computing SVD decomposition... done in 0.57 sec\n",
      "EvaluatorHoldout: Processed 10504 (100.0%) in 5.39 sec. Users per second: 1948\n"
     ]
    }
   ],
   "source": [
    "x_tick = [125, 135, 145]\n",
    "MAP_per_k = []\n",
    "\n",
    "for x in x_tick:\n",
    "    \n",
    "    pRec = PureSVDRecommender(URM_train)\n",
    "    pRec.fit(num_factors=x)\n",
    "    \n",
    "    result_df, _ = evaluator_test.evaluateRecommender(pRec)\n",
    "    \n",
    "    MAP_per_k.append(result_df.loc[10][\"MAP\"])"
   ]
  },
  {
   "cell_type": "code",
   "execution_count": 148,
   "metadata": {},
   "outputs": [
    {
     "data": {
      "image/png": "[encoded data removed]",
      "text/plain": [
       "<Figure size 432x288 with 1 Axes>"
      ]
     },
     "metadata": {
      "needs_background": "light"
     },
     "output_type": "display_data"
    }
   ],
   "source": [
    "pyplot.plot(x_tick, MAP_per_k)\n",
    "pyplot.ylabel('MAP')\n",
    "pyplot.xlabel('factors')\n",
    "pyplot.show()"
   ]
  },
  {
   "cell_type": "markdown",
   "metadata": {},
   "source": [
    "## CustomSimilarityRecommender"
   ]
  },
  {
   "cell_type": "code",
   "execution_count": 219,
   "metadata": {},
   "outputs": [
    {
     "name": "stdout",
     "output_type": "stream",
     "text": [
      "EvaluatorHoldout: Ignoring 2521 (19.4%) Users that have less than 1 test interactions\n",
      "Unable to load Cython Compute_Similarity, reverting to Python\n",
      "Similarity column 22348 (100.0%), 3746.50 column/sec. Elapsed time 5.97 sec\n",
      "Unable to load Cython Compute_Similarity, reverting to Python\n",
      "Similarity column 22348 (100.0%), 4587.47 column/sec. Elapsed time 4.87 sec\n",
      "ItemKNNSimilarityHybridRecommender: URM Detected 611 ( 4.7%) users with no interactions.\n",
      "ItemKNNSimilarityHybridRecommender: URM Detected 253 ( 1.1%) items with no interactions.\n"
     ]
    }
   ],
   "source": [
    "from Recommenders.KNN.ItemKNNSimilarityHybridRecommender import ItemKNNSimilarityHybridRecommender\n",
    "from Recommenders.Similarity.Compute_Similarity import Compute_Similarity\n",
    "from Evaluation.Evaluator import EvaluatorHoldout\n",
    "evaluator_test = EvaluatorHoldout(URM_test, cutoff_list=[10])\n",
    "\n",
    "sim1 = Compute_Similarity(URM_train, shrink = 5, topK = 80, similarity = 'dice').compute_similarity()\n",
    "sim2 = Compute_Similarity(URM_train, shrink = 2.75, topK = 5, similarity = 'cosine').compute_similarity()\n",
    "\n",
    "itemRecommender = ItemKNNSimilarityHybridRecommender(URM_train, sim1, sim2)\n",
    "itemRecommender.fit(topK = 100, alpha = 0.6)"
   ]
  },
  {
   "cell_type": "code",
   "execution_count": 220,
   "metadata": {},
   "outputs": [
    {
     "name": "stdout",
     "output_type": "stream",
     "text": [
      "EvaluatorHoldout: Processed 10504 (100.0%) in 3.99 sec. Users per second: 2634\n"
     ]
    },
    {
     "data": {
      "text/plain": [
       "PRECISION                      0.089566\n",
       "PRECISION_RECALL_MIN_DEN       0.153376\n",
       "RECALL                         0.128499\n",
       "MAP                            0.045899\n",
       "MAP_MIN_DEN                     0.07597\n",
       "MRR                            0.250854\n",
       "NDCG                           0.138711\n",
       "F1                             0.105557\n",
       "HIT_RATE                       0.489813\n",
       "ARHR_ALL_HITS                  0.334496\n",
       "NOVELTY                        0.005354\n",
       "AVERAGE_POPULARITY             0.185132\n",
       "DIVERSITY_MEAN_INTER_LIST      0.980105\n",
       "DIVERSITY_HERFINDAHL           0.998001\n",
       "COVERAGE_ITEM                  0.530338\n",
       "COVERAGE_ITEM_HIT              0.108556\n",
       "ITEMS_IN_GT                    0.798998\n",
       "COVERAGE_USER                  0.806449\n",
       "COVERAGE_USER_HIT               0.39501\n",
       "USERS_IN_GT                    0.806449\n",
       "DIVERSITY_GINI                 0.114159\n",
       "SHANNON_ENTROPY               10.913987\n",
       "RATIO_DIVERSITY_HERFINDAHL     0.998362\n",
       "RATIO_DIVERSITY_GINI           0.329342\n",
       "RATIO_SHANNON_ENTROPY          0.840772\n",
       "RATIO_AVERAGE_POPULARITY       1.546542\n",
       "RATIO_NOVELTY                  0.313153\n",
       "Name: 10, dtype: object"
      ]
     },
     "execution_count": 220,
     "metadata": {},
     "output_type": "execute_result"
    }
   ],
   "source": [
    "result, _ = evaluator_test.evaluateRecommender(itemRecommender)\n",
    "result.loc[10]"
   ]
  },
  {
   "cell_type": "code",
   "execution_count": 265,
   "metadata": {},
   "outputs": [
    {
     "name": "stdout",
     "output_type": "stream",
     "text": [
      "P3alphaRecommender: URM Detected 611 ( 4.7%) users with no interactions.\n",
      "P3alphaRecommender: URM Detected 253 ( 1.1%) items with no interactions.\n",
      "P3alphaRecommender: Similarity column 22348 (100.0%), 1908.77 column/sec. Elapsed time 11.71 sec\n"
     ]
    }
   ],
   "source": [
    "from Recommenders.GraphBased.P3alphaRecommender import P3alphaRecommender\n",
    "\n",
    "P3alpha = P3alphaRecommender(URM_train)\n",
    "P3alpha.fit(topK=820)"
   ]
  },
  {
   "cell_type": "code",
   "execution_count": 266,
   "metadata": {},
   "outputs": [
    {
     "name": "stdout",
     "output_type": "stream",
     "text": [
      "EvaluatorHoldout: Processed 10504 (100.0%) in 5.10 sec. Users per second: 2058\n"
     ]
    },
    {
     "data": {
      "text/plain": [
       "PRECISION                      0.066241\n",
       "PRECISION_RECALL_MIN_DEN       0.117311\n",
       "RECALL                         0.099525\n",
       "MAP                            0.032014\n",
       "MAP_MIN_DEN                    0.056936\n",
       "MRR                            0.191167\n",
       "NDCG                           0.104818\n",
       "F1                             0.079542\n",
       "HIT_RATE                       0.395183\n",
       "ARHR_ALL_HITS                  0.244788\n",
       "NOVELTY                        0.005286\n",
       "AVERAGE_POPULARITY             0.167871\n",
       "DIVERSITY_MEAN_INTER_LIST       0.98517\n",
       "DIVERSITY_HERFINDAHL           0.998508\n",
       "COVERAGE_ITEM                  0.394398\n",
       "COVERAGE_ITEM_HIT              0.072982\n",
       "ITEMS_IN_GT                    0.798998\n",
       "COVERAGE_USER                  0.806449\n",
       "COVERAGE_USER_HIT              0.318695\n",
       "USERS_IN_GT                    0.806449\n",
       "DIVERSITY_GINI                 0.092183\n",
       "SHANNON_ENTROPY               10.926866\n",
       "RATIO_DIVERSITY_HERFINDAHL     0.998869\n",
       "RATIO_DIVERSITY_GINI           0.265941\n",
       "RATIO_SHANNON_ENTROPY          0.841764\n",
       "RATIO_AVERAGE_POPULARITY        1.40235\n",
       "RATIO_NOVELTY                  0.309164\n",
       "Name: 10, dtype: object"
      ]
     },
     "execution_count": 266,
     "metadata": {},
     "output_type": "execute_result"
    }
   ],
   "source": [
    "result, _ = evaluator_test.evaluateRecommender(P3alpha)\n",
    "result.loc[10]"
   ]
  },
  {
   "cell_type": "code",
   "execution_count": 267,
   "metadata": {},
   "outputs": [
    {
     "name": "stdout",
     "output_type": "stream",
     "text": [
      "ItemKNNCustomSimilarityRecommender: URM Detected 611 ( 4.7%) users with no interactions.\n",
      "ItemKNNCustomSimilarityRecommender: URM Detected 253 ( 1.1%) items with no interactions.\n"
     ]
    }
   ],
   "source": [
    "from Recommenders.KNN.ItemKNNCustomSimilarityRecommender import ItemKNNCustomSimilarityRecommender\n",
    "\n",
    "alpha = 0.6\n",
    "new_similarity = (1 - alpha) * itemRecommender.W_sparse + alpha * P3alpha.W_sparse\n",
    "csRec = ItemKNNCustomSimilarityRecommender(URM_train)\n",
    "csRec.fit(new_similarity)\n"
   ]
  },
  {
   "cell_type": "code",
   "execution_count": 268,
   "metadata": {},
   "outputs": [
    {
     "name": "stdout",
     "output_type": "stream",
     "text": [
      "EvaluatorHoldout: Processed 10504 (100.0%) in 5.29 sec. Users per second: 1984\n"
     ]
    },
    {
     "data": {
      "text/plain": [
       "PRECISION                      0.090642\n",
       "PRECISION_RECALL_MIN_DEN       0.154777\n",
       "RECALL                          0.12955\n",
       "MAP                            0.046671\n",
       "MAP_MIN_DEN                    0.077204\n",
       "MRR                            0.254405\n",
       "NDCG                           0.140561\n",
       "F1                             0.106658\n",
       "HIT_RATE                       0.492574\n",
       "ARHR_ALL_HITS                  0.339665\n",
       "NOVELTY                        0.005342\n",
       "AVERAGE_POPULARITY             0.184486\n",
       "DIVERSITY_MEAN_INTER_LIST      0.980457\n",
       "DIVERSITY_HERFINDAHL           0.998036\n",
       "COVERAGE_ITEM                  0.528951\n",
       "COVERAGE_ITEM_HIT              0.108914\n",
       "ITEMS_IN_GT                    0.798998\n",
       "COVERAGE_USER                  0.806449\n",
       "COVERAGE_USER_HIT              0.397236\n",
       "USERS_IN_GT                    0.806449\n",
       "DIVERSITY_GINI                  0.11279\n",
       "SHANNON_ENTROPY               10.900762\n",
       "RATIO_DIVERSITY_HERFINDAHL     0.998398\n",
       "RATIO_DIVERSITY_GINI            0.32539\n",
       "RATIO_SHANNON_ENTROPY          0.839753\n",
       "RATIO_AVERAGE_POPULARITY       1.541151\n",
       "RATIO_NOVELTY                  0.312422\n",
       "Name: 10, dtype: object"
      ]
     },
     "execution_count": 268,
     "metadata": {},
     "output_type": "execute_result"
    }
   ],
   "source": [
    "result, _ = evaluator_test.evaluateRecommender(csRec)\n",
    "result.loc[10]"
   ]
  },
  {
   "cell_type": "code",
   "execution_count": 274,
   "metadata": {},
   "outputs": [
    {
     "name": "stdout",
     "output_type": "stream",
     "text": [
      "Unable to load Cython Compute_Similarity, reverting to Python\n",
      "Similarity column 22348 (100.0%), 3676.28 column/sec. Elapsed time 6.08 sec\n",
      "Unable to load Cython Compute_Similarity, reverting to Python\n",
      "Similarity column 22348 (100.0%), 4557.56 column/sec. Elapsed time 4.90 sec\n",
      "ItemKNNSimilarityHybridRecommender: URM Detected 611 ( 4.7%) users with no interactions.\n",
      "ItemKNNSimilarityHybridRecommender: URM Detected 253 ( 1.1%) items with no interactions.\n",
      "P3alphaRecommender: URM Detected 611 ( 4.7%) users with no interactions.\n",
      "P3alphaRecommender: URM Detected 253 ( 1.1%) items with no interactions.\n",
      "P3alphaRecommender: Similarity column 22348 (100.0%), 1898.12 column/sec. Elapsed time 11.77 sec\n",
      "ItemKNNCustomSimilarityRecommender: URM Detected 611 ( 4.7%) users with no interactions.\n",
      "ItemKNNCustomSimilarityRecommender: URM Detected 253 ( 1.1%) items with no interactions.\n",
      "EvaluatorHoldout: Processed 10504 (100.0%) in 5.25 sec. Users per second: 2001\n",
      "ItemKNNCustomSimilarityRecommender: URM Detected 611 ( 4.7%) users with no interactions.\n",
      "ItemKNNCustomSimilarityRecommender: URM Detected 253 ( 1.1%) items with no interactions.\n",
      "EvaluatorHoldout: Processed 10504 (100.0%) in 5.30 sec. Users per second: 1983\n",
      "ItemKNNCustomSimilarityRecommender: URM Detected 611 ( 4.7%) users with no interactions.\n",
      "ItemKNNCustomSimilarityRecommender: URM Detected 253 ( 1.1%) items with no interactions.\n",
      "EvaluatorHoldout: Processed 10504 (100.0%) in 5.30 sec. Users per second: 1982\n"
     ]
    }
   ],
   "source": [
    "x_tick = [0.75, 0.8, 0.85]\n",
    "MAP_per_k = []\n",
    "\n",
    "sim1 = Compute_Similarity(URM_train, shrink = 5, topK = 80, similarity = 'dice').compute_similarity()\n",
    "sim2 = Compute_Similarity(URM_train, shrink = 2.75, topK = 5, similarity = 'cosine').compute_similarity()\n",
    "itemRecommender = ItemKNNSimilarityHybridRecommender(URM_train, sim1, sim2)\n",
    "itemRecommender.fit(topK = 100, alpha = 0.6)\n",
    "\n",
    "P3alpha = P3alphaRecommender(URM_train)\n",
    "P3alpha.fit(topK=820)\n",
    "\n",
    "for alpha in x_tick:\n",
    "    \n",
    "    new_similarity = (1 - alpha) * itemRecommender.W_sparse + alpha * P3alpha.W_sparse\n",
    "    csRec = ItemKNNCustomSimilarityRecommender(URM_train)\n",
    "    csRec.fit(new_similarity)\n",
    "    \n",
    "    result_df, _ = evaluator_test.evaluateRecommender(csRec)\n",
    "    \n",
    "    MAP_per_k.append(result_df.loc[10][\"MAP\"])\n",
    "\n"
   ]
  },
  {
   "cell_type": "code",
   "execution_count": 275,
   "metadata": {},
   "outputs": [
    {
     "data": {
      "image/png": "[encoded data removed]",
      "text/plain": [
       "<Figure size 432x288 with 1 Axes>"
      ]
     },
     "metadata": {
      "needs_background": "light"
     },
     "output_type": "display_data"
    }
   ],
   "source": [
    "pyplot.plot(x_tick, MAP_per_k)\n",
    "pyplot.ylabel('MAP')\n",
    "pyplot.xlabel('alpha')\n",
    "pyplot.show()"
   ]
  },
  {
   "cell_type": "code",
   "execution_count": 276,
   "metadata": {},
   "outputs": [
    {
     "name": "stdout",
     "output_type": "stream",
     "text": [
      "Unable to load Cython Compute_Similarity, reverting to Python\n",
      "Similarity column 22348 (100.0%), 3334.78 column/sec. Elapsed time 6.70 sec\n",
      "Unable to load Cython Compute_Similarity, reverting to Python\n",
      "Similarity column 22348 (100.0%), 4103.77 column/sec. Elapsed time 5.45 sec\n",
      "ItemKNNSimilarityHybridRecommender: URM Detected 387 ( 3.0%) users with no interactions.\n",
      "ItemKNNSimilarityHybridRecommender: URM Detected 126 ( 0.6%) items with no interactions.\n",
      "P3alphaRecommender: URM Detected 387 ( 3.0%) users with no interactions.\n",
      "P3alphaRecommender: URM Detected 126 ( 0.6%) items with no interactions.\n",
      "P3alphaRecommender: Similarity column 22348 (100.0%), 1638.34 column/sec. Elapsed time 13.64 sec\n",
      "ItemKNNCustomSimilarityRecommender: URM Detected 387 ( 3.0%) users with no interactions.\n",
      "ItemKNNCustomSimilarityRecommender: URM Detected 126 ( 0.6%) items with no interactions.\n"
     ]
    }
   ],
   "source": [
    "sim1 = Compute_Similarity(URM_train, shrink = 5, topK = 80, similarity = 'dice').compute_similarity()\n",
    "sim2 = Compute_Similarity(URM_train, shrink = 2.75, topK = 5, similarity = 'cosine').compute_similarity()\n",
    "itemRecommender = ItemKNNSimilarityHybridRecommender(URM_train, sim1, sim2)\n",
    "itemRecommender.fit(topK = 100, alpha = 0.6)\n",
    "\n",
    "P3alpha = P3alphaRecommender(URM_train)\n",
    "P3alpha.fit(topK=820)\n",
    "\n",
    "alpha = 0.8\n",
    "\n",
    "new_similarity = (1 - alpha) * itemRecommender.W_sparse + alpha * P3alpha.W_sparse\n",
    "csRec = ItemKNNCustomSimilarityRecommender(URM_train)\n",
    "csRec.fit(new_similarity)\n",
    "\n",
    "result, _ = evaluator_test.evaluateRecommender(csRec)\n",
    "result.loc[10]"
   ]
  },
  {
   "cell_type": "code",
   "execution_count": null,
   "metadata": {},
   "outputs": [],
   "source": [
    "from Recommenders.KNN.ItemKNNCustomSimilarityRecommender import ItemKNNCustomSimilarityRecommender\n",
    "\n",
    "alpha = 0.6\n",
    "new_similarity = (1 - alpha) * P3alpha.W_sparse + alpha * RP3beta.W_sparse\n",
    "csRec = ItemKNNCustomSimilarityRecommender(URM_train)\n",
    "csRec.fit(new_similarity)\n"
   ]
  },
  {
   "cell_type": "code",
   "execution_count": null,
   "metadata": {},
   "outputs": [],
   "source": [
    "evaluate_algorithm(URM_test, csRec, at=10)"
   ]
  },
  {
   "cell_type": "code",
   "execution_count": null,
   "metadata": {},
   "outputs": [],
   "source": [
    "x_tick = [0.85, 0.9, 0.95, 1]\n",
    "MAP_per_k = []\n",
    "\n",
    "for alpha in x_tick:\n",
    "    \n",
    "    new_similarity = (1 - alpha) * itemRecommender.W_sparse + alpha * RP3beta.W_sparse\n",
    "    csRec = ItemKNNCustomSimilarityRecommender(URM_train)\n",
    "    csRec.fit(new_similarity)\n",
    "    \n",
    "    result_df, _ = evaluator_test.evaluateRecommender(csRec)\n",
    "    \n",
    "    MAP_per_k.append(result_df.loc[10][\"MAP\"])"
   ]
  },
  {
   "cell_type": "code",
   "execution_count": null,
   "metadata": {},
   "outputs": [],
   "source": [
    "pyplot.plot(x_tick, MAP_per_k)\n",
    "pyplot.ylabel('MAP')\n",
    "pyplot.xlabel('alpha')\n",
    "pyplot.show()"
   ]
  },
  {
   "cell_type": "markdown",
   "metadata": {},
   "source": [
    "# Build a Recommender"
   ]
  },
  {
   "cell_type": "code",
   "execution_count": null,
   "metadata": {
    "execution": {
     "iopub.execute_input": "2023-11-12T22:59:00.437584Z",
     "iopub.status.busy": "2023-11-12T22:59:00.437307Z",
     "iopub.status.idle": "2023-11-12T22:59:00.441356Z",
     "shell.execute_reply": "2023-11-12T22:59:00.440480Z",
     "shell.execute_reply.started": "2023-11-12T22:59:00.437563Z"
    }
   },
   "outputs": [],
   "source": [
    "# Choose a type of recommender to build\n",
    "# random, toppop\n",
    "recommender_type = 'itemKNNCF'"
   ]
  },
  {
   "cell_type": "code",
   "execution_count": null,
   "metadata": {
    "execution": {
     "iopub.execute_input": "2023-11-12T22:59:02.936185Z",
     "iopub.status.busy": "2023-11-12T22:59:02.935846Z",
     "iopub.status.idle": "2023-11-12T22:59:02.940485Z",
     "shell.execute_reply": "2023-11-12T22:59:02.939667Z",
     "shell.execute_reply.started": "2023-11-12T22:59:02.936158Z"
    }
   },
   "outputs": [],
   "source": [
    "# Build and fit the recommender\n",
    "if(recommender_type=='random'):\n",
    "    recommender = RandomRecommender()\n",
    "    recommender.fit(URM_train)"
   ]
  },
  {
   "cell_type": "code",
   "execution_count": null,
   "metadata": {
    "execution": {
     "iopub.execute_input": "2023-11-12T22:59:05.814509Z",
     "iopub.status.busy": "2023-11-12T22:59:05.814218Z",
     "iopub.status.idle": "2023-11-12T22:59:05.827897Z",
     "shell.execute_reply": "2023-11-12T22:59:05.827083Z",
     "shell.execute_reply.started": "2023-11-12T22:59:05.814488Z"
    }
   },
   "outputs": [],
   "source": [
    "if(recommender_type=='toppop'):\n",
    "    recommender = TopPopRecommender()\n",
    "    recommender.fit(URM_train)"
   ]
  },
  {
   "cell_type": "code",
   "execution_count": null,
   "metadata": {},
   "outputs": [],
   "source": [
    "if(recommender_type=='itemKNNCF'):\n",
    "    recommender = ItemKNNCFRecommender(URM_train)\n",
    "    recommender.fit(shrink=3, topK=5)"
   ]
  },
  {
   "cell_type": "code",
   "execution_count": null,
   "metadata": {
    "execution": {
     "iopub.execute_input": "2023-11-12T22:59:10.964098Z",
     "iopub.status.busy": "2023-11-12T22:59:10.963810Z",
     "iopub.status.idle": "2023-11-12T22:59:10.974086Z",
     "shell.execute_reply": "2023-11-12T22:59:10.973251Z",
     "shell.execute_reply.started": "2023-11-12T22:59:10.964074Z"
    }
   },
   "outputs": [],
   "source": [
    "# Output a certain number of recommendations\n",
    "for user_id in range(10):\n",
    "    print(recommender.recommend(user_id, cutoff=10))"
   ]
  },
  {
   "cell_type": "markdown",
   "metadata": {},
   "source": [
    "## Evaluation Function"
   ]
  },
  {
   "cell_type": "code",
   "execution_count": null,
   "metadata": {
    "execution": {
     "iopub.execute_input": "2023-11-12T22:59:14.538785Z",
     "iopub.status.busy": "2023-11-12T22:59:14.537928Z",
     "iopub.status.idle": "2023-11-12T22:59:14.545005Z",
     "shell.execute_reply": "2023-11-12T22:59:14.544265Z",
     "shell.execute_reply.started": "2023-11-12T22:59:14.538735Z"
    }
   },
   "outputs": [],
   "source": [
    "# Define the evaluation algorithm\n",
    "# The recommender class is passed as parameter\n",
    "\n",
    "def evaluate_algorithm(URM_test, recommender_object, at=10):\n",
    "    \n",
    "    cumulative_precision = 0.0\n",
    "    cumulative_recall = 0.0\n",
    "    cumulative_AP = 0.0\n",
    "    \n",
    "    num_eval = 0\n",
    "\n",
    "\n",
    "    for user_id in range(URM_test.shape[0]):\n",
    "\n",
    "        relevant_items = URM_test.indices[URM_test.indptr[user_id]:URM_test.indptr[user_id+1]]\n",
    "        \n",
    "        if len(relevant_items)>0:\n",
    "            \n",
    "            recommended_items = recommender_object.recommend(user_id, cutoff=at)\n",
    "            num_eval+=1\n",
    "\n",
    "            cumulative_precision += precision(recommended_items, relevant_items)\n",
    "            cumulative_recall += recall(recommended_items, relevant_items)\n",
    "            cumulative_AP += AP(recommended_items, relevant_items)\n",
    "            \n",
    "    cumulative_precision /= num_eval\n",
    "    cumulative_recall /= num_eval\n",
    "    MAP = cumulative_AP / num_eval\n",
    "    \n",
    "    print(\"Recommender results are: Precision = {:.4f}, Recall = {:.4f}, MAP = {:.4f}\".format(\n",
    "        cumulative_precision, cumulative_recall, MAP)) "
   ]
  },
  {
   "cell_type": "code",
   "execution_count": null,
   "metadata": {
    "execution": {
     "iopub.execute_input": "2023-11-12T22:59:40.838318Z",
     "iopub.status.busy": "2023-11-12T22:59:40.837556Z",
     "iopub.status.idle": "2023-11-12T22:59:47.442482Z",
     "shell.execute_reply": "2023-11-12T22:59:47.441666Z",
     "shell.execute_reply.started": "2023-11-12T22:59:40.838290Z"
    }
   },
   "outputs": [],
   "source": [
    "# Run the evaluation\n",
    "evaluate_algorithm(URM_test, recommender)"
   ]
  },
  {
   "cell_type": "markdown",
   "metadata": {},
   "source": [
    "# Recommend items"
   ]
  },
  {
   "cell_type": "code",
   "execution_count": 277,
   "metadata": {
    "execution": {
     "iopub.execute_input": "2023-11-04T21:06:55.003332Z",
     "iopub.status.busy": "2023-11-04T21:06:55.002931Z",
     "iopub.status.idle": "2023-11-04T21:06:55.011864Z",
     "shell.execute_reply": "2023-11-04T21:06:55.010563Z",
     "shell.execute_reply.started": "2023-11-04T21:06:55.003286Z"
    }
   },
   "outputs": [
    {
     "data": {
      "text/plain": [
       "_io.TextIOWrapper"
      ]
     },
     "execution_count": 277,
     "metadata": {},
     "output_type": "execute_result"
    }
   ],
   "source": [
    "# Open the submission sample file\n",
    "submission_sample = open('Input/data_target_users_test.csv', 'r')\n",
    "type(submission_sample)"
   ]
  },
  {
   "cell_type": "code",
   "execution_count": 278,
   "metadata": {
    "execution": {
     "iopub.execute_input": "2023-11-04T21:07:03.629097Z",
     "iopub.status.busy": "2023-11-04T21:07:03.628687Z",
     "iopub.status.idle": "2023-11-04T21:07:03.654289Z",
     "shell.execute_reply": "2023-11-04T21:07:03.653175Z",
     "shell.execute_reply.started": "2023-11-04T21:07:03.629063Z"
    }
   },
   "outputs": [
    {
     "data": {
      "text/html": [
       "<div>\n",
       "<style scoped>\n",
       "    .dataframe tbody tr th:only-of-type {\n",
       "        vertical-align: middle;\n",
       "    }\n",
       "\n",
       "    .dataframe tbody tr th {\n",
       "        vertical-align: top;\n",
       "    }\n",
       "\n",
       "    .dataframe thead th {\n",
       "        text-align: right;\n",
       "    }\n",
       "</style>\n",
       "<table border=\"1\" class=\"dataframe\">\n",
       "  <thead>\n",
       "    <tr style=\"text-align: right;\">\n",
       "      <th></th>\n",
       "      <th>user_id</th>\n",
       "    </tr>\n",
       "  </thead>\n",
       "  <tbody>\n",
       "    <tr>\n",
       "      <th>0</th>\n",
       "      <td>1</td>\n",
       "    </tr>\n",
       "    <tr>\n",
       "      <th>1</th>\n",
       "      <td>2</td>\n",
       "    </tr>\n",
       "    <tr>\n",
       "      <th>2</th>\n",
       "      <td>3</td>\n",
       "    </tr>\n",
       "    <tr>\n",
       "      <th>3</th>\n",
       "      <td>4</td>\n",
       "    </tr>\n",
       "    <tr>\n",
       "      <th>4</th>\n",
       "      <td>5</td>\n",
       "    </tr>\n",
       "    <tr>\n",
       "      <th>...</th>\n",
       "      <td>...</td>\n",
       "    </tr>\n",
       "    <tr>\n",
       "      <th>10877</th>\n",
       "      <td>13020</td>\n",
       "    </tr>\n",
       "    <tr>\n",
       "      <th>10878</th>\n",
       "      <td>13021</td>\n",
       "    </tr>\n",
       "    <tr>\n",
       "      <th>10879</th>\n",
       "      <td>13022</td>\n",
       "    </tr>\n",
       "    <tr>\n",
       "      <th>10880</th>\n",
       "      <td>13023</td>\n",
       "    </tr>\n",
       "    <tr>\n",
       "      <th>10881</th>\n",
       "      <td>13024</td>\n",
       "    </tr>\n",
       "  </tbody>\n",
       "</table>\n",
       "<p>10882 rows × 1 columns</p>\n",
       "</div>"
      ],
      "text/plain": [
       "       user_id\n",
       "0            1\n",
       "1            2\n",
       "2            3\n",
       "3            4\n",
       "4            5\n",
       "...        ...\n",
       "10877    13020\n",
       "10878    13021\n",
       "10879    13022\n",
       "10880    13023\n",
       "10881    13024\n",
       "\n",
       "[10882 rows x 1 columns]"
      ]
     },
     "execution_count": 278,
     "metadata": {},
     "output_type": "execute_result"
    }
   ],
   "source": [
    "# Read the dataframe\n",
    "submission_df = pd.read_csv(filepath_or_buffer=submission_sample)\n",
    "submission_df"
   ]
  },
  {
   "cell_type": "code",
   "execution_count": 279,
   "metadata": {
    "execution": {
     "iopub.execute_input": "2023-11-04T21:07:11.158728Z",
     "iopub.status.busy": "2023-11-04T21:07:11.158297Z",
     "iopub.status.idle": "2023-11-04T21:07:11.166227Z",
     "shell.execute_reply": "2023-11-04T21:07:11.165409Z",
     "shell.execute_reply.started": "2023-11-04T21:07:11.158693Z"
    }
   },
   "outputs": [
    {
     "data": {
      "text/plain": [
       "array([    1,     2,     3, ..., 13022, 13023, 13024], dtype=int64)"
      ]
     },
     "execution_count": 279,
     "metadata": {},
     "output_type": "execute_result"
    }
   ],
   "source": [
    "# Convert the user_id column to numpy list\n",
    "user_list = submission_df['user_id'].to_numpy()\n",
    "user_list"
   ]
  },
  {
   "cell_type": "code",
   "execution_count": 280,
   "metadata": {
    "execution": {
     "iopub.execute_input": "2023-11-04T21:07:14.181159Z",
     "iopub.status.busy": "2023-11-04T21:07:14.180417Z",
     "iopub.status.idle": "2023-11-04T21:07:22.297901Z",
     "shell.execute_reply": "2023-11-04T21:07:22.296845Z",
     "shell.execute_reply.started": "2023-11-04T21:07:14.181126Z"
    }
   },
   "outputs": [
    {
     "name": "stderr",
     "output_type": "stream",
     "text": [
      "10882it [00:04, 2489.55it/s]\n"
     ]
    }
   ],
   "source": [
    "# Extract the recommended items and write them in the dataframe\n",
    "\n",
    "all_recommend = []\n",
    "\n",
    "for i,id in tqdm(enumerate(user_list)):\n",
    "    rec = csRec.recommend(id, cutoff=10)\n",
    "    rec_list = rec\n",
    "    rec_row = ' '.join(str(s) for s in rec_list)\n",
    "    all_recommend.append(rec_row)"
   ]
  },
  {
   "cell_type": "code",
   "execution_count": 281,
   "metadata": {
    "execution": {
     "iopub.execute_input": "2023-11-04T21:07:30.817388Z",
     "iopub.status.busy": "2023-11-04T21:07:30.816981Z",
     "iopub.status.idle": "2023-11-04T21:07:30.824731Z",
     "shell.execute_reply": "2023-11-04T21:07:30.82381Z",
     "shell.execute_reply.started": "2023-11-04T21:07:30.817347Z"
    }
   },
   "outputs": [
    {
     "data": {
      "text/plain": [
       "['101 36 506 515 403 1546 694 123 977 637',\n",
       " '1095 47 28 50 11 12 2 277 6 1522',\n",
       " '59 857 259 584 956 536 2172 648 3152 414',\n",
       " '28 50 249 136 145 5 277 314 139 171',\n",
       " '1570 77 116 148 175 131 5138 135 4 24',\n",
       " '886 8 6 2 14 9 26 88 35 7',\n",
       " '443 210 600 451 722 760 1749 1155 480 3916',\n",
       " '9018 17799 21322 10108 2821 5724 7056 6197 6721 20151',\n",
       " '1816 1446 2617 561 2423 1668 2565 3905 1767 3721',\n",
       " '31 40 58 955 34 44 99 67 52 4']"
      ]
     },
     "execution_count": 281,
     "metadata": {},
     "output_type": "execute_result"
    }
   ],
   "source": [
    "all_recommend[:10]"
   ]
  },
  {
   "cell_type": "code",
   "execution_count": 282,
   "metadata": {
    "execution": {
     "iopub.execute_input": "2023-11-04T21:07:34.06307Z",
     "iopub.status.busy": "2023-11-04T21:07:34.062658Z",
     "iopub.status.idle": "2023-11-04T21:07:34.069637Z",
     "shell.execute_reply": "2023-11-04T21:07:34.068564Z",
     "shell.execute_reply.started": "2023-11-04T21:07:34.063035Z"
    }
   },
   "outputs": [],
   "source": [
    "submission_df['item_list'] = all_recommend"
   ]
  },
  {
   "cell_type": "code",
   "execution_count": 283,
   "metadata": {
    "execution": {
     "iopub.execute_input": "2023-11-04T21:07:47.819936Z",
     "iopub.status.busy": "2023-11-04T21:07:47.819536Z",
     "iopub.status.idle": "2023-11-04T21:07:47.830373Z",
     "shell.execute_reply": "2023-11-04T21:07:47.829521Z",
     "shell.execute_reply.started": "2023-11-04T21:07:47.819905Z"
    }
   },
   "outputs": [
    {
     "data": {
      "text/html": [
       "<div>\n",
       "<style scoped>\n",
       "    .dataframe tbody tr th:only-of-type {\n",
       "        vertical-align: middle;\n",
       "    }\n",
       "\n",
       "    .dataframe tbody tr th {\n",
       "        vertical-align: top;\n",
       "    }\n",
       "\n",
       "    .dataframe thead th {\n",
       "        text-align: right;\n",
       "    }\n",
       "</style>\n",
       "<table border=\"1\" class=\"dataframe\">\n",
       "  <thead>\n",
       "    <tr style=\"text-align: right;\">\n",
       "      <th></th>\n",
       "      <th>user_id</th>\n",
       "      <th>item_list</th>\n",
       "    </tr>\n",
       "  </thead>\n",
       "  <tbody>\n",
       "    <tr>\n",
       "      <th>0</th>\n",
       "      <td>1</td>\n",
       "      <td>101 36 506 515 403 1546 694 123 977 637</td>\n",
       "    </tr>\n",
       "    <tr>\n",
       "      <th>1</th>\n",
       "      <td>2</td>\n",
       "      <td>1095 47 28 50 11 12 2 277 6 1522</td>\n",
       "    </tr>\n",
       "    <tr>\n",
       "      <th>2</th>\n",
       "      <td>3</td>\n",
       "      <td>59 857 259 584 956 536 2172 648 3152 414</td>\n",
       "    </tr>\n",
       "    <tr>\n",
       "      <th>3</th>\n",
       "      <td>4</td>\n",
       "      <td>28 50 249 136 145 5 277 314 139 171</td>\n",
       "    </tr>\n",
       "    <tr>\n",
       "      <th>4</th>\n",
       "      <td>5</td>\n",
       "      <td>1570 77 116 148 175 131 5138 135 4 24</td>\n",
       "    </tr>\n",
       "    <tr>\n",
       "      <th>5</th>\n",
       "      <td>6</td>\n",
       "      <td>886 8 6 2 14 9 26 88 35 7</td>\n",
       "    </tr>\n",
       "    <tr>\n",
       "      <th>6</th>\n",
       "      <td>8</td>\n",
       "      <td>443 210 600 451 722 760 1749 1155 480 3916</td>\n",
       "    </tr>\n",
       "    <tr>\n",
       "      <th>7</th>\n",
       "      <td>9</td>\n",
       "      <td>9018 17799 21322 10108 2821 5724 7056 6197 672...</td>\n",
       "    </tr>\n",
       "    <tr>\n",
       "      <th>8</th>\n",
       "      <td>10</td>\n",
       "      <td>1816 1446 2617 561 2423 1668 2565 3905 1767 3721</td>\n",
       "    </tr>\n",
       "    <tr>\n",
       "      <th>9</th>\n",
       "      <td>11</td>\n",
       "      <td>31 40 58 955 34 44 99 67 52 4</td>\n",
       "    </tr>\n",
       "  </tbody>\n",
       "</table>\n",
       "</div>"
      ],
      "text/plain": [
       "   user_id                                          item_list\n",
       "0        1            101 36 506 515 403 1546 694 123 977 637\n",
       "1        2                   1095 47 28 50 11 12 2 277 6 1522\n",
       "2        3           59 857 259 584 956 536 2172 648 3152 414\n",
       "3        4                28 50 249 136 145 5 277 314 139 171\n",
       "4        5              1570 77 116 148 175 131 5138 135 4 24\n",
       "5        6                          886 8 6 2 14 9 26 88 35 7\n",
       "6        8         443 210 600 451 722 760 1749 1155 480 3916\n",
       "7        9  9018 17799 21322 10108 2821 5724 7056 6197 672...\n",
       "8       10   1816 1446 2617 561 2423 1668 2565 3905 1767 3721\n",
       "9       11                      31 40 58 955 34 44 99 67 52 4"
      ]
     },
     "execution_count": 283,
     "metadata": {},
     "output_type": "execute_result"
    }
   ],
   "source": [
    "submission_df.head(10)"
   ]
  },
  {
   "cell_type": "code",
   "execution_count": 284,
   "metadata": {
    "execution": {
     "iopub.execute_input": "2023-11-04T21:07:53.820333Z",
     "iopub.status.busy": "2023-11-04T21:07:53.819501Z",
     "iopub.status.idle": "2023-11-04T21:07:53.865369Z",
     "shell.execute_reply": "2023-11-04T21:07:53.864316Z",
     "shell.execute_reply.started": "2023-11-04T21:07:53.820277Z"
    }
   },
   "outputs": [],
   "source": [
    "# Export the dataframe on csv file\n",
    "submission_df.to_csv('Output/New.csv', index=False)"
   ]
  },
  {
   "cell_type": "code",
   "execution_count": null,
   "metadata": {},
   "outputs": [],
   "source": []
  }
 ],
 "metadata": {
  "kaggle": {
   "accelerator": "none",
   "dataSources": [
    {
     "databundleVersionId": 6919098,
     "sourceId": 62803,
     "sourceType": "competition"
    }
   ],
   "dockerImageVersionId": 30558,
   "isGpuEnabled": false,
   "isInternetEnabled": true,
   "language": "python",
   "sourceType": "notebook"
  },
  "kernelspec": {
   "display_name": "Python 3 (ipykernel)",
   "language": "python",
   "name": "python3"
  },
  "language_info": {
   "codemirror_mode": {
    "name": "ipython",
    "version": 3
   },
   "file_extension": ".py",
   "mimetype": "text/x-python",
   "name": "python",
   "nbconvert_exporter": "python",
   "pygments_lexer": "ipython3",
   "version": "3.8.18"
  }
 },
 "nbformat": 4,
 "nbformat_minor": 4
}
