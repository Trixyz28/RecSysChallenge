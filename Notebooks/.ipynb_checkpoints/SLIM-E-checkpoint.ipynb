{
 "cells": [
  {
   "cell_type": "markdown",
   "metadata": {},
   "source": [
    "# Recommender Systems Challenge, 2023/2024 @ PoliMi"
   ]
  },
  {
   "cell_type": "markdown",
   "metadata": {},
   "source": [
    "# Introduction\n",
    "\n",
    "## Problem Description\n",
    "The application domain is book recommendation. The datasets contain interactions of users with books, in particular, if the user attributed to the book a rating of at least 4. The main goal of the competition is to discover which items (books) a user will interact with.\n",
    "\n",
    "The datasets includes around 600k interactions, 13k users, 22k items (books).\n",
    "The training-test split is done via random holdout, 80% training, 20% test.\n",
    "The goal is to recommend a list of 10 potentially relevant items for each user.\n",
    "\n",
    "\n",
    "## Datasets\n",
    "All files are comma-separated (columns are separated with ',' ).\n",
    "\n",
    "- **data_train.csv**:\n",
    "Contains the training set, describing implicit preferences expressed by the users.\n",
    "    - **user_id** : identifier of the user\n",
    "    - **item_id** : identifier of the item (Book)\n",
    "    - **data** : \"1.0\" if the user liked the book attributing it a rating of at least 4.\n",
    "\n",
    "\n",
    "- **data_target_users_test.csv**:\n",
    "Contains the ids of the users that should appear in your submission file.\n",
    "The submission file should contain all and only these users.\n",
    "\n",
    "- **sample_submission.csv**:\n",
    "A sample submission file in the correct format: [user_id],[ordered list of recommended items].\n",
    "Be careful with the spaces and be sure to recommend the correct number of items to every user."
   ]
  },
  {
   "cell_type": "markdown",
   "metadata": {},
   "source": [
    "# Requirements\n",
    "\n",
    "The working environment and the required libraries are defined here."
   ]
  },
  {
   "cell_type": "code",
   "execution_count": 1,
   "metadata": {
    "_cell_guid": "b1076dfc-b9ad-4769-8c92-a6c4dae69d19",
    "_uuid": "8f2839f25d086af736a60e9eeb907d3b93b6e0e5",
    "execution": {
     "iopub.execute_input": "2023-11-12T22:55:27.107416Z",
     "iopub.status.busy": "2023-11-12T22:55:27.107103Z",
     "iopub.status.idle": "2023-11-12T22:55:27.415864Z",
     "shell.execute_reply": "2023-11-12T22:55:27.415002Z",
     "shell.execute_reply.started": "2023-11-12T22:55:27.107392Z"
    }
   },
   "outputs": [],
   "source": [
    "# Import libraries\n",
    "\n",
    "import numpy as np # linear algebra\n",
    "import pandas as pd # data processing, CSV file I/O (e.g. pd.read_csv)\n",
    "import scipy.sparse as sps # creation of sparse matrix\n",
    "import matplotlib.pyplot as pyplot # plot\n",
    "\n",
    "from tqdm import tqdm\n",
    "\n",
    "from scipy.stats import uniform, loguniform\n",
    "import optuna as op"
   ]
  },
  {
   "cell_type": "code",
   "execution_count": 2,
   "metadata": {},
   "outputs": [],
   "source": [
    "%load_ext Cython"
   ]
  },
  {
   "cell_type": "markdown",
   "metadata": {},
   "source": [
    "# Data Preprocessing"
   ]
  },
  {
   "cell_type": "code",
   "execution_count": 3,
   "metadata": {
    "execution": {
     "iopub.execute_input": "2023-11-12T22:55:29.530470Z",
     "iopub.status.busy": "2023-11-12T22:55:29.530065Z",
     "iopub.status.idle": "2023-11-12T22:55:29.536636Z",
     "shell.execute_reply": "2023-11-12T22:55:29.535790Z",
     "shell.execute_reply.started": "2023-11-12T22:55:29.530448Z"
    }
   },
   "outputs": [
    {
     "data": {
      "text/plain": [
       "_io.TextIOWrapper"
      ]
     },
     "execution_count": 3,
     "metadata": {},
     "output_type": "execute_result"
    }
   ],
   "source": [
    "# Handle the input file\n",
    "input_file = open('Input/data_train.csv', 'r')\n",
    "type(input_file)"
   ]
  },
  {
   "cell_type": "code",
   "execution_count": 4,
   "metadata": {
    "execution": {
     "iopub.execute_input": "2023-11-12T22:55:31.169146Z",
     "iopub.status.busy": "2023-11-12T22:55:31.168482Z",
     "iopub.status.idle": "2023-11-12T22:55:31.385566Z",
     "shell.execute_reply": "2023-11-12T22:55:31.384663Z",
     "shell.execute_reply.started": "2023-11-12T22:55:31.169120Z"
    }
   },
   "outputs": [
    {
     "data": {
      "text/plain": [
       "(478730, 3)"
      ]
     },
     "execution_count": 4,
     "metadata": {},
     "output_type": "execute_result"
    }
   ],
   "source": [
    "# Build the dataframe from the input file\n",
    "input_df = pd.read_csv(\n",
    "    filepath_or_buffer=input_file,\n",
    "    dtype={0:int, 1:int, 2:int},\n",
    "    names=['user_id','item_id','data'],\n",
    "    header=0\n",
    ")\n",
    "\n",
    "input_df.shape"
   ]
  },
  {
   "cell_type": "code",
   "execution_count": 5,
   "metadata": {
    "execution": {
     "iopub.execute_input": "2023-11-12T22:55:34.346527Z",
     "iopub.status.busy": "2023-11-12T22:55:34.346196Z",
     "iopub.status.idle": "2023-11-12T22:55:34.361128Z",
     "shell.execute_reply": "2023-11-12T22:55:34.360275Z",
     "shell.execute_reply.started": "2023-11-12T22:55:34.346502Z"
    }
   },
   "outputs": [
    {
     "data": {
      "text/html": [
       "<div>\n",
       "<style scoped>\n",
       "    .dataframe tbody tr th:only-of-type {\n",
       "        vertical-align: middle;\n",
       "    }\n",
       "\n",
       "    .dataframe tbody tr th {\n",
       "        vertical-align: top;\n",
       "    }\n",
       "\n",
       "    .dataframe thead th {\n",
       "        text-align: right;\n",
       "    }\n",
       "</style>\n",
       "<table border=\"1\" class=\"dataframe\">\n",
       "  <thead>\n",
       "    <tr style=\"text-align: right;\">\n",
       "      <th></th>\n",
       "      <th>user_id</th>\n",
       "      <th>item_id</th>\n",
       "      <th>data</th>\n",
       "    </tr>\n",
       "  </thead>\n",
       "  <tbody>\n",
       "    <tr>\n",
       "      <th>0</th>\n",
       "      <td>1</td>\n",
       "      <td>7</td>\n",
       "      <td>1</td>\n",
       "    </tr>\n",
       "    <tr>\n",
       "      <th>1</th>\n",
       "      <td>1</td>\n",
       "      <td>15</td>\n",
       "      <td>1</td>\n",
       "    </tr>\n",
       "    <tr>\n",
       "      <th>2</th>\n",
       "      <td>1</td>\n",
       "      <td>16</td>\n",
       "      <td>1</td>\n",
       "    </tr>\n",
       "    <tr>\n",
       "      <th>3</th>\n",
       "      <td>1</td>\n",
       "      <td>133</td>\n",
       "      <td>1</td>\n",
       "    </tr>\n",
       "    <tr>\n",
       "      <th>4</th>\n",
       "      <td>1</td>\n",
       "      <td>161</td>\n",
       "      <td>1</td>\n",
       "    </tr>\n",
       "    <tr>\n",
       "      <th>5</th>\n",
       "      <td>1</td>\n",
       "      <td>187</td>\n",
       "      <td>1</td>\n",
       "    </tr>\n",
       "    <tr>\n",
       "      <th>6</th>\n",
       "      <td>1</td>\n",
       "      <td>205</td>\n",
       "      <td>1</td>\n",
       "    </tr>\n",
       "    <tr>\n",
       "      <th>7</th>\n",
       "      <td>1</td>\n",
       "      <td>222</td>\n",
       "      <td>1</td>\n",
       "    </tr>\n",
       "    <tr>\n",
       "      <th>8</th>\n",
       "      <td>1</td>\n",
       "      <td>237</td>\n",
       "      <td>1</td>\n",
       "    </tr>\n",
       "    <tr>\n",
       "      <th>9</th>\n",
       "      <td>1</td>\n",
       "      <td>354</td>\n",
       "      <td>1</td>\n",
       "    </tr>\n",
       "  </tbody>\n",
       "</table>\n",
       "</div>"
      ],
      "text/plain": [
       "   user_id  item_id  data\n",
       "0        1        7     1\n",
       "1        1       15     1\n",
       "2        1       16     1\n",
       "3        1      133     1\n",
       "4        1      161     1\n",
       "5        1      187     1\n",
       "6        1      205     1\n",
       "7        1      222     1\n",
       "8        1      237     1\n",
       "9        1      354     1"
      ]
     },
     "execution_count": 5,
     "metadata": {},
     "output_type": "execute_result"
    }
   ],
   "source": [
    "# Show the first rows of the dataframe\n",
    "input_df.head(n=10)"
   ]
  },
  {
   "cell_type": "code",
   "execution_count": 5,
   "metadata": {
    "execution": {
     "iopub.execute_input": "2023-11-12T22:55:37.530832Z",
     "iopub.status.busy": "2023-11-12T22:55:37.530481Z",
     "iopub.status.idle": "2023-11-12T22:55:37.550310Z",
     "shell.execute_reply": "2023-11-12T22:55:37.549787Z",
     "shell.execute_reply.started": "2023-11-12T22:55:37.530806Z"
    }
   },
   "outputs": [
    {
     "name": "stdout",
     "output_type": "stream",
     "text": [
      "[    1     2     3 ... 13022 13023 13024]\n",
      "[    7    15    16 ... 22317 22339 21466]\n"
     ]
    }
   ],
   "source": [
    "# Create arrays of unique user_ids and item_ids\n",
    "arr_users = input_df[\"user_id\"].unique()\n",
    "arr_items = input_df[\"item_id\"].unique()\n",
    "\n",
    "print(arr_users)\n",
    "print(arr_items)"
   ]
  },
  {
   "cell_type": "code",
   "execution_count": 6,
   "metadata": {
    "execution": {
     "iopub.execute_input": "2023-11-12T22:56:02.215375Z",
     "iopub.status.busy": "2023-11-12T22:56:02.214968Z",
     "iopub.status.idle": "2023-11-12T22:56:02.223353Z",
     "shell.execute_reply": "2023-11-12T22:56:02.222530Z",
     "shell.execute_reply.started": "2023-11-12T22:56:02.215349Z"
    }
   },
   "outputs": [
    {
     "name": "stdout",
     "output_type": "stream",
     "text": [
      "Average interaction per user 37.88\n",
      "Average interaction per item 21.54\n",
      "Sparsity 99.83 %\n"
     ]
    }
   ],
   "source": [
    "# Show some statistics\n",
    "n_users = len(arr_users)\n",
    "n_items = len(arr_items)\n",
    "n_interactions = len(input_df)\n",
    "\n",
    "print(\"Average interaction per user {:.2f}\".format(n_interactions/n_users))\n",
    "print(\"Average interaction per item {:.2f}\".format(n_interactions/n_items))\n",
    "print(\"Sparsity {:.2f} %\".format((1-float(n_interactions)/(n_items*n_users))*100))"
   ]
  },
  {
   "cell_type": "code",
   "execution_count": 8,
   "metadata": {},
   "outputs": [
    {
     "name": "stdout",
     "output_type": "stream",
     "text": [
      "Number of users\t 12638, Number of items\t 22222 \n",
      "\n",
      "Max ID users\t 13024, Max ID items\t 22347 \n",
      "\n"
     ]
    }
   ],
   "source": [
    "print(\"Number of users\\t {}, Number of items\\t {} \\n\".format(n_users, n_items))\n",
    "print(\"Max ID users\\t {}, Max ID items\\t {} \\n\".format(max(arr_users), max(arr_items)))"
   ]
  },
  {
   "cell_type": "code",
   "execution_count": 9,
   "metadata": {},
   "outputs": [],
   "source": [
    "# # Remove empty indices, create a new mapping\n",
    "\n",
    "# mapped_id, original_id = pd.factorize(input_df[\"user_id\"].unique())\n",
    "# user_original_ID_to_index = pd.Series(mapped_id, index=original_id)\n",
    "\n",
    "# mapped_id, original_id = pd.factorize(input_df[\"item_id\"].unique())\n",
    "# item_original_ID_to_index = pd.Series(mapped_id, index=original_id)\n",
    "\n",
    "\n",
    "# original_item_ID = 980\n",
    "# print(\"New index for item {} is {}\".format(original_item_ID, item_original_ID_to_index[original_item_ID]))"
   ]
  },
  {
   "cell_type": "code",
   "execution_count": 10,
   "metadata": {},
   "outputs": [],
   "source": [
    "# # Replace the IDs in the dataframe\n",
    "\n",
    "# input_df[\"user_id\"] = input_df[\"user_id\"].map(user_original_ID_to_index)\n",
    "# input_df[\"item_id\"] = input_df[\"item_id\"].map(item_original_ID_to_index)\n",
    "\n",
    "\n",
    "# input_df.head(n=10)"
   ]
  },
  {
   "cell_type": "markdown",
   "metadata": {},
   "source": [
    "# Matrix Conversion"
   ]
  },
  {
   "cell_type": "code",
   "execution_count": 7,
   "metadata": {
    "execution": {
     "iopub.execute_input": "2023-11-12T22:56:41.759574Z",
     "iopub.status.busy": "2023-11-12T22:56:41.759295Z",
     "iopub.status.idle": "2023-11-12T22:56:41.769131Z",
     "shell.execute_reply": "2023-11-12T22:56:41.768410Z",
     "shell.execute_reply.started": "2023-11-12T22:56:41.759551Z"
    }
   },
   "outputs": [
    {
     "data": {
      "text/plain": [
       "<13025x22348 sparse matrix of type '<class 'numpy.int32'>'\n",
       "\twith 478730 stored elements in COOrdinate format>"
      ]
     },
     "execution_count": 7,
     "metadata": {},
     "output_type": "execute_result"
    }
   ],
   "source": [
    "# Build the COO matrix with the COO constructor: (data, (row, column))\n",
    "URM_all = sps.coo_matrix(\n",
    "    (input_df[\"data\"].values,\n",
    "    (input_df[\"user_id\"].values, input_df[\"item_id\"].values))\n",
    ")\n",
    "\n",
    "URM_all"
   ]
  },
  {
   "cell_type": "code",
   "execution_count": 8,
   "metadata": {
    "execution": {
     "iopub.execute_input": "2023-11-12T22:56:46.591716Z",
     "iopub.status.busy": "2023-11-12T22:56:46.591432Z",
     "iopub.status.idle": "2023-11-12T22:56:46.605733Z",
     "shell.execute_reply": "2023-11-12T22:56:46.604615Z",
     "shell.execute_reply.started": "2023-11-12T22:56:46.591696Z"
    }
   },
   "outputs": [
    {
     "data": {
      "text/plain": [
       "<13025x22348 sparse matrix of type '<class 'numpy.intc'>'\n",
       "\twith 478730 stored elements in Compressed Sparse Row format>"
      ]
     },
     "execution_count": 8,
     "metadata": {},
     "output_type": "execute_result"
    }
   ],
   "source": [
    "# Convert the matrix to Compressed Sparse Row format\n",
    "URM_all = URM_all.tocsr()\n",
    "\n",
    "URM_all"
   ]
  },
  {
   "cell_type": "code",
   "execution_count": 9,
   "metadata": {
    "execution": {
     "iopub.execute_input": "2023-11-12T22:56:50.673578Z",
     "iopub.status.busy": "2023-11-12T22:56:50.673250Z",
     "iopub.status.idle": "2023-11-12T22:56:50.688362Z",
     "shell.execute_reply": "2023-11-12T22:56:50.687787Z",
     "shell.execute_reply.started": "2023-11-12T22:56:50.673552Z"
    }
   },
   "outputs": [
    {
     "data": {
      "text/plain": [
       "array([   0, 1581, 1764, ...,    3,    5,    2])"
      ]
     },
     "execution_count": 9,
     "metadata": {},
     "output_type": "execute_result"
    }
   ],
   "source": [
    "# Compute the item popularity as the number of interaction in each column\n",
    "\n",
    "# numpy.ediff1d(): calculate the differences between consecutive elements of an array.\n",
    "# (scipy) indptr maps the elements of data and indices to the rows of the sparse matrix.\n",
    "item_popularity = np.ediff1d(URM_all.tocsc().indptr)\n",
    "item_popularity"
   ]
  },
  {
   "cell_type": "code",
   "execution_count": 14,
   "metadata": {
    "execution": {
     "iopub.execute_input": "2023-11-12T22:56:52.555626Z",
     "iopub.status.busy": "2023-11-12T22:56:52.554891Z",
     "iopub.status.idle": "2023-11-12T22:56:52.562565Z",
     "shell.execute_reply": "2023-11-12T22:56:52.561896Z",
     "shell.execute_reply.started": "2023-11-12T22:56:52.555593Z"
    }
   },
   "outputs": [
    {
     "data": {
      "text/plain": [
       "array([   0,    0,    0, ..., 1581, 1666, 1764])"
      ]
     },
     "execution_count": 14,
     "metadata": {},
     "output_type": "execute_result"
    }
   ],
   "source": [
    "# Sort the popularity array\n",
    "item_popularity = np.sort(item_popularity)\n",
    "item_popularity"
   ]
  },
  {
   "cell_type": "code",
   "execution_count": 15,
   "metadata": {
    "execution": {
     "iopub.execute_input": "2023-11-12T22:56:54.597465Z",
     "iopub.status.busy": "2023-11-12T22:56:54.597146Z",
     "iopub.status.idle": "2023-11-12T22:56:54.812621Z",
     "shell.execute_reply": "2023-11-12T22:56:54.811595Z",
     "shell.execute_reply.started": "2023-11-12T22:56:54.597440Z"
    }
   },
   "outputs": [
    {
     "data": {
      "image/png": "[encoded data removed]",
      "text/plain": [
       "<Figure size 640x480 with 1 Axes>"
      ]
     },
     "metadata": {},
     "output_type": "display_data"
    }
   ],
   "source": [
    "# Plot the correlation between sorted items and the number of interactions.\n",
    "pyplot.plot(item_popularity, 'ro')\n",
    "pyplot.ylabel('Num Interactions')\n",
    "pyplot.xlabel('Sorted Item')\n",
    "pyplot.show()"
   ]
  },
  {
   "cell_type": "code",
   "execution_count": 16,
   "metadata": {
    "execution": {
     "iopub.execute_input": "2023-11-12T22:56:58.473087Z",
     "iopub.status.busy": "2023-11-12T22:56:58.472593Z",
     "iopub.status.idle": "2023-11-12T22:56:58.479846Z",
     "shell.execute_reply": "2023-11-12T22:56:58.478957Z",
     "shell.execute_reply.started": "2023-11-12T22:56:58.473061Z"
    }
   },
   "outputs": [
    {
     "name": "stdout",
     "output_type": "stream",
     "text": [
      "Average per-item interactions over the whole dataset 21.42\n",
      "Average per-item interactions for the top 10% popular items 122.73\n",
      "Average per-item interactions for the least 10% popular items 2.18\n",
      "Average per-item interactions for the median 10% popular items 8.25\n",
      "Number of items with zero interactions 126\n"
     ]
    }
   ],
   "source": [
    "# Statistics\n",
    "ten_percent = int(n_items/10)\n",
    "\n",
    "print(\"Average per-item interactions over the whole dataset {:.2f}\".\n",
    "      format(item_popularity.mean()))\n",
    "\n",
    "print(\"Average per-item interactions for the top 10% popular items {:.2f}\".\n",
    "      format(item_popularity[-ten_percent:].mean()))\n",
    "\n",
    "print(\"Average per-item interactions for the least 10% popular items {:.2f}\".\n",
    "      format(item_popularity[:ten_percent].mean()))\n",
    "\n",
    "print(\"Average per-item interactions for the median 10% popular items {:.2f}\".\n",
    "      format(item_popularity[int(n_items*0.45):int(n_items*0.55)].mean()))\n",
    "\n",
    "print(\"Number of items with zero interactions {}\".\n",
    "      format(np.sum(item_popularity==0)))"
   ]
  },
  {
   "cell_type": "code",
   "execution_count": 17,
   "metadata": {
    "execution": {
     "iopub.execute_input": "2023-11-12T22:57:08.195018Z",
     "iopub.status.busy": "2023-11-12T22:57:08.194711Z",
     "iopub.status.idle": "2023-11-12T22:57:08.201059Z",
     "shell.execute_reply": "2023-11-12T22:57:08.200165Z",
     "shell.execute_reply.started": "2023-11-12T22:57:08.194997Z"
    }
   },
   "outputs": [
    {
     "data": {
      "text/plain": [
       "array([   0,    0,    0, ...,  729,  824, 1351])"
      ]
     },
     "execution_count": 17,
     "metadata": {},
     "output_type": "execute_result"
    }
   ],
   "source": [
    "# Compute the user activity as the number of interaction in each row\n",
    "user_activity = np.ediff1d(URM_all.indptr)\n",
    "user_activity = np.sort(user_activity)\n",
    "user_activity"
   ]
  },
  {
   "cell_type": "code",
   "execution_count": 18,
   "metadata": {
    "execution": {
     "iopub.execute_input": "2023-11-12T22:57:10.794195Z",
     "iopub.status.busy": "2023-11-12T22:57:10.793893Z",
     "iopub.status.idle": "2023-11-12T22:57:10.963991Z",
     "shell.execute_reply": "2023-11-12T22:57:10.963156Z",
     "shell.execute_reply.started": "2023-11-12T22:57:10.794172Z"
    }
   },
   "outputs": [
    {
     "data": {
      "image/png": "[encoded data removed]",
      "text/plain": [
       "<Figure size 640x480 with 1 Axes>"
      ]
     },
     "metadata": {},
     "output_type": "display_data"
    }
   ],
   "source": [
    "# Plot the correlation between sorted users and number of interactions\n",
    "pyplot.plot(user_activity, 'ro')\n",
    "pyplot.ylabel('Num Interactions')\n",
    "pyplot.xlabel('Sorted User')\n",
    "pyplot.show()"
   ]
  },
  {
   "cell_type": "markdown",
   "metadata": {},
   "source": [
    "# Evaluation of the recommender"
   ]
  },
  {
   "cell_type": "code",
   "execution_count": 10,
   "metadata": {
    "execution": {
     "iopub.execute_input": "2023-11-12T22:57:21.250734Z",
     "iopub.status.busy": "2023-11-12T22:57:21.250427Z",
     "iopub.status.idle": "2023-11-12T22:57:21.254680Z",
     "shell.execute_reply": "2023-11-12T22:57:21.253888Z",
     "shell.execute_reply.started": "2023-11-12T22:57:21.250710Z"
    }
   },
   "outputs": [],
   "source": [
    "# Define the train-test splitting ratio\n",
    "train_test_split = 0.85"
   ]
  },
  {
   "cell_type": "code",
   "execution_count": 11,
   "metadata": {},
   "outputs": [],
   "source": [
    "# Import Evaluators\n",
    "from Evaluation.Evaluator import EvaluatorHoldout\n",
    "from Data_manager.split_functions.split_train_validation_random_holdout import split_train_in_two_percentage_global_sample"
   ]
  },
  {
   "cell_type": "code",
   "execution_count": 12,
   "metadata": {},
   "outputs": [
    {
     "name": "stdout",
     "output_type": "stream",
     "text": [
      "Warning: 532 (4.08 %) of 13025 users have no train items\n",
      "Warning: 3195 (24.53 %) of 13025 users have no sampled items\n",
      "EvaluatorHoldout: Ignoring 3195 (24.5%) Users that have less than 1 test interactions\n"
     ]
    }
   ],
   "source": [
    "URM_train, URM_test = split_train_in_two_percentage_global_sample(URM_all, train_percentage = train_test_split)\n",
    "# URM_train, URM_validation = split_train_in_two_percentage_global_sample(URM_train, train_percentage = train_test_split)\n",
    "\n",
    "\n",
    "# evaluator_validation = EvaluatorHoldout(URM_validation, cutoff_list=[10])\n",
    "evaluator_test = EvaluatorHoldout(URM_test, cutoff_list=[10])"
   ]
  },
  {
   "cell_type": "markdown",
   "metadata": {},
   "source": [
    "## SLIMElasticNet Recommender"
   ]
  },
  {
   "cell_type": "code",
   "execution_count": null,
   "metadata": {},
   "outputs": [
    {
     "name": "stdout",
     "output_type": "stream",
     "text": [
      "SLIMElasticNetRecommender: URM Detected 532 ( 4.1%) users with no interactions.\n",
      "SLIMElasticNetRecommender: URM Detected 211 ( 0.9%) items with no interactions.\n"
     ]
    },
    {
     "name": "stderr",
     "output_type": "stream",
     "text": [
      " 80%|███████████████████████████████████████████████████████████████▊                | 17832/22348 [02:14<00:31, 144.18it/s]"
     ]
    }
   ],
   "source": [
    "from Recommenders.SLIM.SLIMElasticNetRecommender import MultiThreadSLIM_SLIMElasticNetRecommender\n",
    "slime = MultiThreadSLIM_SLIMElasticNetRecommender(URM_train)\n",
    "slime.fit(l1_ratio=0.042596, alpha=0.0011111, topK=512)"
   ]
  },
  {
   "cell_type": "code",
   "execution_count": null,
   "metadata": {},
   "outputs": [],
   "source": [
    "result, _ = evaluator_test.evaluateRecommender(slime)\n",
    "result.loc[10]"
   ]
  },
  {
   "cell_type": "markdown",
   "metadata": {},
   "source": [
    "### Hyperparameter Tuning"
   ]
  },
  {
   "cell_type": "code",
   "execution_count": 32,
   "metadata": {},
   "outputs": [],
   "source": [
    "def objective(trial):\n",
    "    topK = trial.suggest_int(\"topK\", 20, 1000)\n",
    "    alpha = trial.suggest_float(\"alpha\", 0, 0.05)\n",
    "    l1_ratio = trial.suggest_float(\"l1_ratio\", 0, 0.1)\n",
    "    \n",
    "    recommender = MultiThreadSLIM_SLIMElasticNetRecommender(URM_train)\n",
    "    recommender.fit(**{\n",
    "    'topK': topK,\n",
    "    'alpha': alpha,\n",
    "    'l1_ratio': l1_ratio\n",
    "    })\n",
    "    \n",
    "    result, _ = evaluator_test.evaluateRecommender(recommender)\n",
    "    MAP_result = result[\"MAP\"].item()\n",
    "       \n",
    "    return MAP_result"
   ]
  },
  {
   "cell_type": "code",
   "execution_count": 33,
   "metadata": {
    "scrolled": true
   },
   "outputs": [
    {
     "name": "stderr",
     "output_type": "stream",
     "text": [
      "[I 2023-12-06 22:58:01,137] A new study created in memory with name: no-name-bfd96186-2c3f-430c-b65a-b73bb2f8c833\n"
     ]
    },
    {
     "name": "stdout",
     "output_type": "stream",
     "text": [
      "SLIMElasticNetRecommender: URM Detected 556 ( 4.3%) users with no interactions.\n",
      "SLIMElasticNetRecommender: URM Detected 198 ( 0.9%) items with no interactions.\n"
     ]
    },
    {
     "name": "stderr",
     "output_type": "stream",
     "text": [
      "100%|███████████████████████████████████████████████████████████████████████████████▉| 22344/22348 [02:38<00:00, 141.19it/s]\n"
     ]
    },
    {
     "name": "stdout",
     "output_type": "stream",
     "text": [
      "EvaluatorHoldout: Processed 9913 (100.0%) in 5.83 sec. Users per second: 1700\n"
     ]
    },
    {
     "name": "stderr",
     "output_type": "stream",
     "text": [
      "[I 2023-12-06 23:00:45,316] Trial 0 finished with value: 0.04098329674517559 and parameters: {'topK': 650, 'alpha': 0.0014, 'l1_ratio': 0.05}. Best is trial 0 with value: 0.04098329674517559.\n"
     ]
    },
    {
     "name": "stdout",
     "output_type": "stream",
     "text": [
      "SLIMElasticNetRecommender: URM Detected 556 ( 4.3%) users with no interactions.\n",
      "SLIMElasticNetRecommender: URM Detected 198 ( 0.9%) items with no interactions.\n"
     ]
    },
    {
     "name": "stderr",
     "output_type": "stream",
     "text": [
      "100%|███████████████████████████████████████████████████████████████████████████████▉| 22344/22348 [00:51<00:00, 436.89it/s]\n"
     ]
    },
    {
     "name": "stdout",
     "output_type": "stream",
     "text": [
      "EvaluatorHoldout: Processed 9913 (100.0%) in 3.83 sec. Users per second: 2589\n"
     ]
    },
    {
     "name": "stderr",
     "output_type": "stream",
     "text": [
      "[I 2023-12-06 23:01:40,335] Trial 1 finished with value: 0.03099412107557993 and parameters: {'topK': 492, 'alpha': 0.020078426970403775, 'l1_ratio': 0.04772406380607115}. Best is trial 0 with value: 0.04098329674517559.\n"
     ]
    },
    {
     "name": "stdout",
     "output_type": "stream",
     "text": [
      "SLIMElasticNetRecommender: URM Detected 556 ( 4.3%) users with no interactions.\n",
      "SLIMElasticNetRecommender: URM Detected 198 ( 0.9%) items with no interactions.\n"
     ]
    },
    {
     "name": "stderr",
     "output_type": "stream",
     "text": [
      "100%|███████████████████████████████████████████████████████████████████████████████▉| 22344/22348 [01:02<00:00, 357.12it/s]\n"
     ]
    },
    {
     "name": "stdout",
     "output_type": "stream",
     "text": [
      "EvaluatorHoldout: Processed 9913 (100.0%) in 3.72 sec. Users per second: 2665\n"
     ]
    },
    {
     "name": "stderr",
     "output_type": "stream",
     "text": [
      "[I 2023-12-06 23:02:46,661] Trial 2 finished with value: 0.026357156467617427 and parameters: {'topK': 552, 'alpha': 0.041548244948238416, 'l1_ratio': 0.05611984278061423}. Best is trial 0 with value: 0.04098329674517559.\n"
     ]
    },
    {
     "name": "stdout",
     "output_type": "stream",
     "text": [
      "SLIMElasticNetRecommender: URM Detected 556 ( 4.3%) users with no interactions.\n",
      "SLIMElasticNetRecommender: URM Detected 198 ( 0.9%) items with no interactions.\n"
     ]
    },
    {
     "name": "stderr",
     "output_type": "stream",
     "text": [
      "100%|███████████████████████████████████████████████████████████████████████████████▉| 22344/22348 [01:01<00:00, 360.66it/s]\n"
     ]
    },
    {
     "name": "stdout",
     "output_type": "stream",
     "text": [
      "EvaluatorHoldout: Processed 9913 (100.0%) in 3.67 sec. Users per second: 2701\n"
     ]
    },
    {
     "name": "stderr",
     "output_type": "stream",
     "text": [
      "[I 2023-12-06 23:03:52,322] Trial 3 finished with value: 0.028175375769191987 and parameters: {'topK': 240, 'alpha': 0.02351428781965293, 'l1_ratio': 0.08100651318257941}. Best is trial 0 with value: 0.04098329674517559.\n"
     ]
    },
    {
     "name": "stdout",
     "output_type": "stream",
     "text": [
      "SLIMElasticNetRecommender: URM Detected 556 ( 4.3%) users with no interactions.\n",
      "SLIMElasticNetRecommender: URM Detected 198 ( 0.9%) items with no interactions.\n"
     ]
    },
    {
     "name": "stderr",
     "output_type": "stream",
     "text": [
      "100%|███████████████████████████████████████████████████████████████████████████████▉| 22344/22348 [01:24<00:00, 265.09it/s]\n"
     ]
    },
    {
     "name": "stdout",
     "output_type": "stream",
     "text": [
      "EvaluatorHoldout: Processed 9913 (100.0%) in 5.36 sec. Users per second: 1850\n"
     ]
    },
    {
     "name": "stderr",
     "output_type": "stream",
     "text": [
      "[I 2023-12-06 23:05:22,016] Trial 4 finished with value: 0.034938452633146884 and parameters: {'topK': 414, 'alpha': 0.01860747392023815, 'l1_ratio': 0.010863308035926235}. Best is trial 0 with value: 0.04098329674517559.\n"
     ]
    },
    {
     "name": "stdout",
     "output_type": "stream",
     "text": [
      "SLIMElasticNetRecommender: URM Detected 556 ( 4.3%) users with no interactions.\n",
      "SLIMElasticNetRecommender: URM Detected 198 ( 0.9%) items with no interactions.\n"
     ]
    },
    {
     "name": "stderr",
     "output_type": "stream",
     "text": [
      "100%|███████████████████████████████████████████████████████████████████████████████▉| 22344/22348 [02:13<00:00, 167.58it/s]\n"
     ]
    },
    {
     "name": "stdout",
     "output_type": "stream",
     "text": [
      "EvaluatorHoldout: Processed 9913 (100.0%) in 5.95 sec. Users per second: 1667\n"
     ]
    },
    {
     "name": "stderr",
     "output_type": "stream",
     "text": [
      "[I 2023-12-06 23:07:41,361] Trial 5 finished with value: 0.03329987958733059 and parameters: {'topK': 70, 'alpha': 0.042368369009184385, 'l1_ratio': 0.002802789704958897}. Best is trial 0 with value: 0.04098329674517559.\n"
     ]
    },
    {
     "name": "stdout",
     "output_type": "stream",
     "text": [
      "SLIMElasticNetRecommender: URM Detected 556 ( 4.3%) users with no interactions.\n",
      "SLIMElasticNetRecommender: URM Detected 198 ( 0.9%) items with no interactions.\n"
     ]
    },
    {
     "name": "stderr",
     "output_type": "stream",
     "text": [
      "100%|███████████████████████████████████████████████████████████████████████████████▉| 22344/22348 [02:24<00:00, 154.14it/s]\n"
     ]
    },
    {
     "name": "stdout",
     "output_type": "stream",
     "text": [
      "EvaluatorHoldout: Processed 9913 (100.0%) in 4.58 sec. Users per second: 2163\n"
     ]
    },
    {
     "name": "stderr",
     "output_type": "stream",
     "text": [
      "[I 2023-12-06 23:10:10,953] Trial 6 finished with value: 0.040685263378696795 and parameters: {'topK': 29, 'alpha': 0.001315115414518553, 'l1_ratio': 0.07537708711750916}. Best is trial 0 with value: 0.04098329674517559.\n"
     ]
    },
    {
     "name": "stdout",
     "output_type": "stream",
     "text": [
      "SLIMElasticNetRecommender: URM Detected 556 ( 4.3%) users with no interactions.\n",
      "SLIMElasticNetRecommender: URM Detected 198 ( 0.9%) items with no interactions.\n"
     ]
    },
    {
     "name": "stderr",
     "output_type": "stream",
     "text": [
      "100%|███████████████████████████████████████████████████████████████████████████████▉| 22344/22348 [01:26<00:00, 257.57it/s]\n"
     ]
    },
    {
     "name": "stdout",
     "output_type": "stream",
     "text": [
      "EvaluatorHoldout: Processed 9913 (100.0%) in 5.51 sec. Users per second: 1800\n"
     ]
    },
    {
     "name": "stderr",
     "output_type": "stream",
     "text": [
      "[I 2023-12-06 23:11:43,262] Trial 7 finished with value: 0.03367339504482678 and parameters: {'topK': 933, 'alpha': 0.027355602118113588, 'l1_ratio': 0.007010799347182562}. Best is trial 0 with value: 0.04098329674517559.\n"
     ]
    },
    {
     "name": "stdout",
     "output_type": "stream",
     "text": [
      "SLIMElasticNetRecommender: URM Detected 556 ( 4.3%) users with no interactions.\n",
      "SLIMElasticNetRecommender: URM Detected 198 ( 0.9%) items with no interactions.\n"
     ]
    },
    {
     "name": "stderr",
     "output_type": "stream",
     "text": [
      "100%|███████████████████████████████████████████████████████████████████████████████▉| 22344/22348 [01:06<00:00, 336.99it/s]\n"
     ]
    },
    {
     "name": "stdout",
     "output_type": "stream",
     "text": [
      "EvaluatorHoldout: Processed 9913 (100.0%) in 3.75 sec. Users per second: 2645\n"
     ]
    },
    {
     "name": "stderr",
     "output_type": "stream",
     "text": [
      "[I 2023-12-06 23:12:53,354] Trial 8 finished with value: 0.027680282745601036 and parameters: {'topK': 893, 'alpha': 0.043960252433634224, 'l1_ratio': 0.03522965481242726}. Best is trial 0 with value: 0.04098329674517559.\n"
     ]
    },
    {
     "name": "stdout",
     "output_type": "stream",
     "text": [
      "SLIMElasticNetRecommender: URM Detected 556 ( 4.3%) users with no interactions.\n",
      "SLIMElasticNetRecommender: URM Detected 198 ( 0.9%) items with no interactions.\n"
     ]
    },
    {
     "name": "stderr",
     "output_type": "stream",
     "text": [
      "100%|███████████████████████████████████████████████████████████████████████████████▉| 22344/22348 [01:07<00:00, 331.77it/s]\n"
     ]
    },
    {
     "name": "stdout",
     "output_type": "stream",
     "text": [
      "EvaluatorHoldout: Processed 9913 (100.0%) in 3.74 sec. Users per second: 2648\n"
     ]
    },
    {
     "name": "stderr",
     "output_type": "stream",
     "text": [
      "[I 2023-12-06 23:14:04,488] Trial 9 finished with value: 0.028414495795964695 and parameters: {'topK': 421, 'alpha': 0.04821753596674183, 'l1_ratio': 0.025324799367821817}. Best is trial 0 with value: 0.04098329674517559.\n"
     ]
    },
    {
     "name": "stdout",
     "output_type": "stream",
     "text": [
      "SLIMElasticNetRecommender: URM Detected 556 ( 4.3%) users with no interactions.\n",
      "SLIMElasticNetRecommender: URM Detected 198 ( 0.9%) items with no interactions.\n"
     ]
    },
    {
     "name": "stderr",
     "output_type": "stream",
     "text": [
      "100%|████████████████████████████████████████████████████████████████████████████████▉| 22344/22348 [05:46<00:00, 64.48it/s]\n"
     ]
    },
    {
     "name": "stdout",
     "output_type": "stream",
     "text": [
      "EvaluatorHoldout: Processed 9913 (100.0%) in 5.14 sec. Users per second: 1928\n"
     ]
    },
    {
     "name": "stderr",
     "output_type": "stream",
     "text": [
      "[I 2023-12-06 23:19:56,317] Trial 10 finished with value: 0.025153806369381797 and parameters: {'topK': 764, 'alpha': 6.21497267132981e-06, 'l1_ratio': 0.08987318578453828}. Best is trial 0 with value: 0.04098329674517559.\n"
     ]
    },
    {
     "name": "stdout",
     "output_type": "stream",
     "text": [
      "SLIMElasticNetRecommender: URM Detected 556 ( 4.3%) users with no interactions.\n",
      "SLIMElasticNetRecommender: URM Detected 198 ( 0.9%) items with no interactions.\n"
     ]
    },
    {
     "name": "stderr",
     "output_type": "stream",
     "text": [
      "100%|███████████████████████████████████████████████████████████████████████████████▉| 22344/22348 [02:55<00:00, 127.01it/s]\n"
     ]
    },
    {
     "name": "stdout",
     "output_type": "stream",
     "text": [
      "EvaluatorHoldout: Processed 9913 (100.0%) in 5.79 sec. Users per second: 1713\n"
     ]
    },
    {
     "name": "stderr",
     "output_type": "stream",
     "text": [
      "[I 2023-12-06 23:22:58,164] Trial 11 finished with value: 0.041091760218664786 and parameters: {'topK': 692, 'alpha': 0.000722317690348295, 'l1_ratio': 0.07016630124092108}. Best is trial 11 with value: 0.041091760218664786.\n"
     ]
    },
    {
     "name": "stdout",
     "output_type": "stream",
     "text": [
      "SLIMElasticNetRecommender: URM Detected 556 ( 4.3%) users with no interactions.\n",
      "SLIMElasticNetRecommender: URM Detected 198 ( 0.9%) items with no interactions.\n"
     ]
    },
    {
     "name": "stderr",
     "output_type": "stream",
     "text": [
      "100%|███████████████████████████████████████████████████████████████████████████████▉| 22344/22348 [00:59<00:00, 373.13it/s]\n"
     ]
    },
    {
     "name": "stdout",
     "output_type": "stream",
     "text": [
      "EvaluatorHoldout: Processed 9913 (100.0%) in 4.34 sec. Users per second: 2282\n"
     ]
    },
    {
     "name": "stderr",
     "output_type": "stream",
     "text": [
      "[I 2023-12-06 23:24:02,445] Trial 12 finished with value: 0.03634814152972174 and parameters: {'topK': 728, 'alpha': 0.006291687261637965, 'l1_ratio': 0.06544697773340151}. Best is trial 11 with value: 0.041091760218664786.\n"
     ]
    },
    {
     "name": "stdout",
     "output_type": "stream",
     "text": [
      "SLIMElasticNetRecommender: URM Detected 556 ( 4.3%) users with no interactions.\n",
      "SLIMElasticNetRecommender: URM Detected 198 ( 0.9%) items with no interactions.\n"
     ]
    },
    {
     "name": "stderr",
     "output_type": "stream",
     "text": [
      "100%|███████████████████████████████████████████████████████████████████████████████▉| 22344/22348 [00:55<00:00, 401.48it/s]\n"
     ]
    },
    {
     "name": "stdout",
     "output_type": "stream",
     "text": [
      "EvaluatorHoldout: Processed 9913 (100.0%) in 4.07 sec. Users per second: 2434\n"
     ]
    },
    {
     "name": "stderr",
     "output_type": "stream",
     "text": [
      "[I 2023-12-06 23:25:02,227] Trial 13 finished with value: 0.034347766040745326 and parameters: {'topK': 710, 'alpha': 0.009743150608495264, 'l1_ratio': 0.059974979917800424}. Best is trial 11 with value: 0.041091760218664786.\n"
     ]
    },
    {
     "name": "stdout",
     "output_type": "stream",
     "text": [
      "SLIMElasticNetRecommender: URM Detected 556 ( 4.3%) users with no interactions.\n",
      "SLIMElasticNetRecommender: URM Detected 198 ( 0.9%) items with no interactions.\n"
     ]
    },
    {
     "name": "stderr",
     "output_type": "stream",
     "text": [
      "100%|███████████████████████████████████████████████████████████████████████████████▉| 22344/22348 [00:51<00:00, 432.27it/s]\n"
     ]
    },
    {
     "name": "stdout",
     "output_type": "stream",
     "text": [
      "EvaluatorHoldout: Processed 9913 (100.0%) in 3.82 sec. Users per second: 2593\n"
     ]
    },
    {
     "name": "stderr",
     "output_type": "stream",
     "text": [
      "[I 2023-12-06 23:25:57,791] Trial 14 finished with value: 0.03243178750366306 and parameters: {'topK': 610, 'alpha': 0.010185109339030692, 'l1_ratio': 0.09205773047284041}. Best is trial 11 with value: 0.041091760218664786.\n"
     ]
    },
    {
     "name": "stdout",
     "output_type": "stream",
     "text": [
      "SLIMElasticNetRecommender: URM Detected 556 ( 4.3%) users with no interactions.\n",
      "SLIMElasticNetRecommender: URM Detected 198 ( 0.9%) items with no interactions.\n"
     ]
    },
    {
     "name": "stderr",
     "output_type": "stream",
     "text": [
      "100%|███████████████████████████████████████████████████████████████████████████████▉| 22344/22348 [03:18<00:00, 112.84it/s]\n"
     ]
    },
    {
     "name": "stdout",
     "output_type": "stream",
     "text": [
      "EvaluatorHoldout: Processed 9913 (100.0%) in 5.52 sec. Users per second: 1797\n"
     ]
    },
    {
     "name": "stderr",
     "output_type": "stream",
     "text": [
      "[I 2023-12-06 23:29:21,510] Trial 15 finished with value: 0.0375313841532447 and parameters: {'topK': 831, 'alpha': 0.00024109602722991678, 'l1_ratio': 0.04608060539997589}. Best is trial 11 with value: 0.041091760218664786.\n"
     ]
    },
    {
     "name": "stdout",
     "output_type": "stream",
     "text": [
      "SLIMElasticNetRecommender: URM Detected 556 ( 4.3%) users with no interactions.\n",
      "SLIMElasticNetRecommender: URM Detected 198 ( 0.9%) items with no interactions.\n"
     ]
    },
    {
     "name": "stderr",
     "output_type": "stream",
     "text": [
      "100%|███████████████████████████████████████████████████████████████████████████████▉| 22344/22348 [00:52<00:00, 429.60it/s]\n"
     ]
    },
    {
     "name": "stdout",
     "output_type": "stream",
     "text": [
      "EvaluatorHoldout: Processed 9913 (100.0%) in 3.86 sec. Users per second: 2571\n"
     ]
    },
    {
     "name": "stderr",
     "output_type": "stream",
     "text": [
      "[I 2023-12-06 23:30:17,428] Trial 16 finished with value: 0.03185130076106598 and parameters: {'topK': 671, 'alpha': 0.013253517710517674, 'l1_ratio': 0.07131747196961688}. Best is trial 11 with value: 0.041091760218664786.\n"
     ]
    },
    {
     "name": "stdout",
     "output_type": "stream",
     "text": [
      "SLIMElasticNetRecommender: URM Detected 556 ( 4.3%) users with no interactions.\n",
      "SLIMElasticNetRecommender: URM Detected 198 ( 0.9%) items with no interactions.\n"
     ]
    },
    {
     "name": "stderr",
     "output_type": "stream",
     "text": [
      "100%|███████████████████████████████████████████████████████████████████████████████▉| 22344/22348 [00:55<00:00, 401.17it/s]\n"
     ]
    },
    {
     "name": "stdout",
     "output_type": "stream",
     "text": [
      "EvaluatorHoldout: Processed 9913 (100.0%) in 4.10 sec. Users per second: 2417\n"
     ]
    },
    {
     "name": "stderr",
     "output_type": "stream",
     "text": [
      "[I 2023-12-06 23:31:17,279] Trial 17 finished with value: 0.035061355218977 and parameters: {'topK': 999, 'alpha': 0.006147565149199185, 'l1_ratio': 0.09897455348016211}. Best is trial 11 with value: 0.041091760218664786.\n"
     ]
    },
    {
     "name": "stdout",
     "output_type": "stream",
     "text": [
      "SLIMElasticNetRecommender: URM Detected 556 ( 4.3%) users with no interactions.\n",
      "SLIMElasticNetRecommender: URM Detected 198 ( 0.9%) items with no interactions.\n"
     ]
    },
    {
     "name": "stderr",
     "output_type": "stream",
     "text": [
      "100%|███████████████████████████████████████████████████████████████████████████████▉| 22344/22348 [01:08<00:00, 327.92it/s]\n"
     ]
    },
    {
     "name": "stdout",
     "output_type": "stream",
     "text": [
      "EvaluatorHoldout: Processed 9913 (100.0%) in 3.91 sec. Users per second: 2533\n"
     ]
    },
    {
     "name": "stderr",
     "output_type": "stream",
     "text": [
      "[I 2023-12-06 23:32:29,380] Trial 18 finished with value: 0.03204622277304637 and parameters: {'topK': 321, 'alpha': 0.013942423375650681, 'l1_ratio': 0.0612096214830742}. Best is trial 11 with value: 0.041091760218664786.\n"
     ]
    },
    {
     "name": "stdout",
     "output_type": "stream",
     "text": [
      "SLIMElasticNetRecommender: URM Detected 556 ( 4.3%) users with no interactions.\n",
      "SLIMElasticNetRecommender: URM Detected 198 ( 0.9%) items with no interactions.\n"
     ]
    },
    {
     "name": "stderr",
     "output_type": "stream",
     "text": [
      "100%|███████████████████████████████████████████████████████████████████████████████▉| 22344/22348 [01:39<00:00, 225.32it/s]\n"
     ]
    },
    {
     "name": "stdout",
     "output_type": "stream",
     "text": [
      "EvaluatorHoldout: Processed 9913 (100.0%) in 4.89 sec. Users per second: 2027\n"
     ]
    },
    {
     "name": "stderr",
     "output_type": "stream",
     "text": [
      "[I 2023-12-06 23:34:13,494] Trial 19 finished with value: 0.03809580653270812 and parameters: {'topK': 612, 'alpha': 0.004920853218719334, 'l1_ratio': 0.05010451710977064}. Best is trial 11 with value: 0.041091760218664786.\n"
     ]
    },
    {
     "name": "stdout",
     "output_type": "stream",
     "text": [
      "SLIMElasticNetRecommender: URM Detected 556 ( 4.3%) users with no interactions.\n",
      "SLIMElasticNetRecommender: URM Detected 198 ( 0.9%) items with no interactions.\n"
     ]
    },
    {
     "name": "stderr",
     "output_type": "stream",
     "text": [
      "100%|███████████████████████████████████████████████████████████████████████████████▉| 22344/22348 [01:27<00:00, 256.29it/s]\n"
     ]
    },
    {
     "name": "stdout",
     "output_type": "stream",
     "text": [
      "EvaluatorHoldout: Processed 9913 (100.0%) in 4.53 sec. Users per second: 2189\n"
     ]
    },
    {
     "name": "stderr",
     "output_type": "stream",
     "text": [
      "[I 2023-12-06 23:35:45,260] Trial 20 finished with value: 0.03781568695267931 and parameters: {'topK': 833, 'alpha': 0.004338111841980443, 'l1_ratio': 0.07105501211180974}. Best is trial 11 with value: 0.041091760218664786.\n"
     ]
    },
    {
     "name": "stdout",
     "output_type": "stream",
     "text": [
      "SLIMElasticNetRecommender: URM Detected 556 ( 4.3%) users with no interactions.\n",
      "SLIMElasticNetRecommender: URM Detected 198 ( 0.9%) items with no interactions.\n"
     ]
    },
    {
     "name": "stderr",
     "output_type": "stream",
     "text": [
      "100%|███████████████████████████████████████████████████████████████████████████████▉| 22344/22348 [02:18<00:00, 161.70it/s]\n"
     ]
    },
    {
     "name": "stdout",
     "output_type": "stream",
     "text": [
      "EvaluatorHoldout: Processed 9913 (100.0%) in 4.76 sec. Users per second: 2082\n"
     ]
    },
    {
     "name": "stderr",
     "output_type": "stream",
     "text": [
      "[I 2023-12-06 23:38:08,263] Trial 21 finished with value: 0.03990527509971726 and parameters: {'topK': 20, 'alpha': 0.0018951142593628964, 'l1_ratio': 0.0768505974837216}. Best is trial 11 with value: 0.041091760218664786.\n"
     ]
    },
    {
     "name": "stdout",
     "output_type": "stream",
     "text": [
      "SLIMElasticNetRecommender: URM Detected 556 ( 4.3%) users with no interactions.\n",
      "SLIMElasticNetRecommender: URM Detected 198 ( 0.9%) items with no interactions.\n"
     ]
    },
    {
     "name": "stderr",
     "output_type": "stream",
     "text": [
      "100%|███████████████████████████████████████████████████████████████████████████████▉| 22344/22348 [01:46<00:00, 210.53it/s]\n"
     ]
    },
    {
     "name": "stdout",
     "output_type": "stream",
     "text": [
      "EvaluatorHoldout: Processed 9913 (100.0%) in 5.58 sec. Users per second: 1776\n"
     ]
    },
    {
     "name": "stderr",
     "output_type": "stream",
     "text": [
      "[I 2023-12-06 23:40:00,044] Trial 22 finished with value: 0.040611006230395444 and parameters: {'topK': 180, 'alpha': 0.0016778829230193388, 'l1_ratio': 0.0783448117859183}. Best is trial 11 with value: 0.041091760218664786.\n"
     ]
    },
    {
     "name": "stdout",
     "output_type": "stream",
     "text": [
      "SLIMElasticNetRecommender: URM Detected 556 ( 4.3%) users with no interactions.\n",
      "SLIMElasticNetRecommender: URM Detected 198 ( 0.9%) items with no interactions.\n"
     ]
    },
    {
     "name": "stderr",
     "output_type": "stream",
     "text": [
      "100%|███████████████████████████████████████████████████████████████████████████████▉| 22344/22348 [00:58<00:00, 384.09it/s]\n"
     ]
    },
    {
     "name": "stdout",
     "output_type": "stream",
     "text": [
      "EvaluatorHoldout: Processed 9913 (100.0%) in 4.08 sec. Users per second: 2430\n"
     ]
    },
    {
     "name": "stderr",
     "output_type": "stream",
     "text": [
      "[I 2023-12-06 23:41:02,354] Trial 23 finished with value: 0.03467439341317111 and parameters: {'topK': 474, 'alpha': 0.008578310543582655, 'l1_ratio': 0.06734437828867225}. Best is trial 11 with value: 0.041091760218664786.\n"
     ]
    },
    {
     "name": "stdout",
     "output_type": "stream",
     "text": [
      "SLIMElasticNetRecommender: URM Detected 556 ( 4.3%) users with no interactions.\n",
      "SLIMElasticNetRecommender: URM Detected 198 ( 0.9%) items with no interactions.\n"
     ]
    },
    {
     "name": "stderr",
     "output_type": "stream",
     "text": [
      "100%|███████████████████████████████████████████████████████████████████████████████▉| 22344/22348 [02:18<00:00, 161.52it/s]\n"
     ]
    },
    {
     "name": "stdout",
     "output_type": "stream",
     "text": [
      "EvaluatorHoldout: Processed 9913 (100.0%) in 5.61 sec. Users per second: 1768\n"
     ]
    },
    {
     "name": "stderr",
     "output_type": "stream",
     "text": [
      "[I 2023-12-06 23:43:26,363] Trial 24 finished with value: 0.03981492556671674 and parameters: {'topK': 596, 'alpha': 0.0026215478093646293, 'l1_ratio': 0.05340513563695501}. Best is trial 11 with value: 0.041091760218664786.\n"
     ]
    },
    {
     "name": "stdout",
     "output_type": "stream",
     "text": [
      "SLIMElasticNetRecommender: URM Detected 556 ( 4.3%) users with no interactions.\n",
      "SLIMElasticNetRecommender: URM Detected 198 ( 0.9%) items with no interactions.\n"
     ]
    },
    {
     "name": "stderr",
     "output_type": "stream",
     "text": [
      "100%|███████████████████████████████████████████████████████████████████████████████▉| 22344/22348 [01:11<00:00, 312.13it/s]\n"
     ]
    },
    {
     "name": "stdout",
     "output_type": "stream",
     "text": [
      "EvaluatorHoldout: Processed 9913 (100.0%) in 4.78 sec. Users per second: 2072\n"
     ]
    },
    {
     "name": "stderr",
     "output_type": "stream",
     "text": [
      "[I 2023-12-06 23:44:42,786] Trial 25 finished with value: 0.03733637007040669 and parameters: {'topK': 331, 'alpha': 0.006381822862705011, 'l1_ratio': 0.04197845435403985}. Best is trial 11 with value: 0.041091760218664786.\n"
     ]
    },
    {
     "name": "stdout",
     "output_type": "stream",
     "text": [
      "SLIMElasticNetRecommender: URM Detected 556 ( 4.3%) users with no interactions.\n",
      "SLIMElasticNetRecommender: URM Detected 198 ( 0.9%) items with no interactions.\n"
     ]
    },
    {
     "name": "stderr",
     "output_type": "stream",
     "text": [
      "100%|███████████████████████████████████████████████████████████████████████████████▉| 22344/22348 [00:54<00:00, 412.48it/s]\n"
     ]
    },
    {
     "name": "stdout",
     "output_type": "stream",
     "text": [
      "EvaluatorHoldout: Processed 9913 (100.0%) in 3.93 sec. Users per second: 2521\n"
     ]
    },
    {
     "name": "stderr",
     "output_type": "stream",
     "text": [
      "[I 2023-12-06 23:45:40,937] Trial 26 finished with value: 0.03276070463828986 and parameters: {'topK': 805, 'alpha': 0.01269695257297024, 'l1_ratio': 0.0596150276057674}. Best is trial 11 with value: 0.041091760218664786.\n"
     ]
    },
    {
     "name": "stdout",
     "output_type": "stream",
     "text": [
      "SLIMElasticNetRecommender: URM Detected 556 ( 4.3%) users with no interactions.\n",
      "SLIMElasticNetRecommender: URM Detected 198 ( 0.9%) items with no interactions.\n"
     ]
    },
    {
     "name": "stderr",
     "output_type": "stream",
     "text": [
      "100%|███████████████████████████████████████████████████████████████████████████████▉| 22344/22348 [01:10<00:00, 317.57it/s]\n"
     ]
    },
    {
     "name": "stdout",
     "output_type": "stream",
     "text": [
      "EvaluatorHoldout: Processed 9913 (100.0%) in 4.75 sec. Users per second: 2086\n"
     ]
    },
    {
     "name": "stderr",
     "output_type": "stream",
     "text": [
      "[I 2023-12-06 23:46:56,103] Trial 27 finished with value: 0.03833127574981754 and parameters: {'topK': 676, 'alpha': 0.003419449045562931, 'l1_ratio': 0.08414406355710674}. Best is trial 11 with value: 0.041091760218664786.\n"
     ]
    },
    {
     "name": "stdout",
     "output_type": "stream",
     "text": [
      "SLIMElasticNetRecommender: URM Detected 556 ( 4.3%) users with no interactions.\n",
      "SLIMElasticNetRecommender: URM Detected 198 ( 0.9%) items with no interactions.\n"
     ]
    },
    {
     "name": "stderr",
     "output_type": "stream",
     "text": [
      "100%|███████████████████████████████████████████████████████████████████████████████▉| 22344/22348 [02:53<00:00, 128.47it/s]\n"
     ]
    },
    {
     "name": "stdout",
     "output_type": "stream",
     "text": [
      "EvaluatorHoldout: Processed 9913 (100.0%) in 4.39 sec. Users per second: 2258\n"
     ]
    },
    {
     "name": "stderr",
     "output_type": "stream",
     "text": [
      "[I 2023-12-06 23:49:54,534] Trial 28 finished with value: 0.022231161101583748 and parameters: {'topK': 160, 'alpha': 3.81617972547339e-05, 'l1_ratio': 0.07256468959259964}. Best is trial 11 with value: 0.041091760218664786.\n"
     ]
    },
    {
     "name": "stdout",
     "output_type": "stream",
     "text": [
      "SLIMElasticNetRecommender: URM Detected 556 ( 4.3%) users with no interactions.\n",
      "SLIMElasticNetRecommender: URM Detected 198 ( 0.9%) items with no interactions.\n"
     ]
    },
    {
     "name": "stderr",
     "output_type": "stream",
     "text": [
      "100%|███████████████████████████████████████████████████████████████████████████████▉| 22344/22348 [00:54<00:00, 407.06it/s]\n"
     ]
    },
    {
     "name": "stdout",
     "output_type": "stream",
     "text": [
      "EvaluatorHoldout: Processed 9913 (100.0%) in 4.10 sec. Users per second: 2420\n"
     ]
    },
    {
     "name": "stderr",
     "output_type": "stream",
     "text": [
      "[I 2023-12-06 23:50:53,572] Trial 29 finished with value: 0.03498377151055491 and parameters: {'topK': 490, 'alpha': 0.008088397533968818, 'l1_ratio': 0.06737642889791444}. Best is trial 11 with value: 0.041091760218664786.\n"
     ]
    },
    {
     "name": "stdout",
     "output_type": "stream",
     "text": [
      "SLIMElasticNetRecommender: URM Detected 556 ( 4.3%) users with no interactions.\n",
      "SLIMElasticNetRecommender: URM Detected 198 ( 0.9%) items with no interactions.\n"
     ]
    },
    {
     "name": "stderr",
     "output_type": "stream",
     "text": [
      "100%|███████████████████████████████████████████████████████████████████████████████▉| 22344/22348 [01:08<00:00, 324.37it/s]\n"
     ]
    },
    {
     "name": "stdout",
     "output_type": "stream",
     "text": [
      "EvaluatorHoldout: Processed 9913 (100.0%) in 3.95 sec. Users per second: 2509\n"
     ]
    },
    {
     "name": "stderr",
     "output_type": "stream",
     "text": [
      "[I 2023-12-06 23:52:06,459] Trial 30 finished with value: 0.03144123317305019 and parameters: {'topK': 362, 'alpha': 0.017056046541183003, 'l1_ratio': 0.05347770310148507}. Best is trial 11 with value: 0.041091760218664786.\n"
     ]
    },
    {
     "name": "stdout",
     "output_type": "stream",
     "text": [
      "SLIMElasticNetRecommender: URM Detected 556 ( 4.3%) users with no interactions.\n",
      "SLIMElasticNetRecommender: URM Detected 198 ( 0.9%) items with no interactions.\n"
     ]
    },
    {
     "name": "stderr",
     "output_type": "stream",
     "text": [
      "100%|███████████████████████████████████████████████████████████████████████████████▉| 22344/22348 [01:26<00:00, 259.22it/s]\n"
     ]
    },
    {
     "name": "stdout",
     "output_type": "stream",
     "text": [
      "EvaluatorHoldout: Processed 9913 (100.0%) in 4.52 sec. Users per second: 2191\n"
     ]
    },
    {
     "name": "stderr",
     "output_type": "stream",
     "text": [
      "[I 2023-12-06 23:53:37,234] Trial 31 finished with value: 0.03788664155934456 and parameters: {'topK': 183, 'alpha': 0.003999629519364778, 'l1_ratio': 0.07789028705106418}. Best is trial 11 with value: 0.041091760218664786.\n"
     ]
    },
    {
     "name": "stdout",
     "output_type": "stream",
     "text": [
      "SLIMElasticNetRecommender: URM Detected 556 ( 4.3%) users with no interactions.\n",
      "SLIMElasticNetRecommender: URM Detected 198 ( 0.9%) items with no interactions.\n"
     ]
    },
    {
     "name": "stderr",
     "output_type": "stream",
     "text": [
      "100%|███████████████████████████████████████████████████████████████████████████████▉| 22344/22348 [01:25<00:00, 260.20it/s]\n"
     ]
    },
    {
     "name": "stdout",
     "output_type": "stream",
     "text": [
      "EvaluatorHoldout: Processed 9913 (100.0%) in 5.11 sec. Users per second: 1940\n"
     ]
    },
    {
     "name": "stderr",
     "output_type": "stream",
     "text": [
      "[I 2023-12-06 23:55:08,272] Trial 32 finished with value: 0.0392876918076156 and parameters: {'topK': 99, 'alpha': 0.002660850925462716, 'l1_ratio': 0.08105331104440047}. Best is trial 11 with value: 0.041091760218664786.\n"
     ]
    },
    {
     "name": "stdout",
     "output_type": "stream",
     "text": [
      "SLIMElasticNetRecommender: URM Detected 556 ( 4.3%) users with no interactions.\n",
      "SLIMElasticNetRecommender: URM Detected 198 ( 0.9%) items with no interactions.\n"
     ]
    },
    {
     "name": "stderr",
     "output_type": "stream",
     "text": [
      "100%|███████████████████████████████████████████████████████████████████████████████▉| 22344/22348 [02:41<00:00, 138.71it/s]\n"
     ]
    },
    {
     "name": "stdout",
     "output_type": "stream",
     "text": [
      "EvaluatorHoldout: Processed 9913 (100.0%) in 4.74 sec. Users per second: 2092\n"
     ]
    },
    {
     "name": "stderr",
     "output_type": "stream",
     "text": [
      "[I 2023-12-06 23:57:54,223] Trial 33 finished with value: 0.03156813083348963 and parameters: {'topK': 242, 'alpha': 9.94198533048492e-05, 'l1_ratio': 0.08473364906546269}. Best is trial 11 with value: 0.041091760218664786.\n"
     ]
    },
    {
     "name": "stdout",
     "output_type": "stream",
     "text": [
      "SLIMElasticNetRecommender: URM Detected 556 ( 4.3%) users with no interactions.\n",
      "SLIMElasticNetRecommender: URM Detected 198 ( 0.9%) items with no interactions.\n"
     ]
    },
    {
     "name": "stderr",
     "output_type": "stream",
     "text": [
      "100%|███████████████████████████████████████████████████████████████████████████████▉| 22344/22348 [01:12<00:00, 310.26it/s]\n"
     ]
    },
    {
     "name": "stdout",
     "output_type": "stream",
     "text": [
      "EvaluatorHoldout: Processed 9913 (100.0%) in 4.12 sec. Users per second: 2409\n"
     ]
    },
    {
     "name": "stderr",
     "output_type": "stream",
     "text": [
      "[I 2023-12-06 23:59:10,409] Trial 34 finished with value: 0.0349858010725058 and parameters: {'topK': 32, 'alpha': 0.0074851724733776236, 'l1_ratio': 0.07538774001952185}. Best is trial 11 with value: 0.041091760218664786.\n"
     ]
    },
    {
     "name": "stdout",
     "output_type": "stream",
     "text": [
      "SLIMElasticNetRecommender: URM Detected 556 ( 4.3%) users with no interactions.\n",
      "SLIMElasticNetRecommender: URM Detected 198 ( 0.9%) items with no interactions.\n"
     ]
    },
    {
     "name": "stderr",
     "output_type": "stream",
     "text": [
      "100%|███████████████████████████████████████████████████████████████████████████████▉| 22344/22348 [01:13<00:00, 303.52it/s]\n"
     ]
    },
    {
     "name": "stdout",
     "output_type": "stream",
     "text": [
      "EvaluatorHoldout: Processed 9913 (100.0%) in 4.97 sec. Users per second: 1996\n"
     ]
    },
    {
     "name": "stderr",
     "output_type": "stream",
     "text": [
      "[I 2023-12-07 00:00:29,051] Trial 35 finished with value: 0.03835044650362971 and parameters: {'topK': 557, 'alpha': 0.003934864502806088, 'l1_ratio': 0.06308632659397331}. Best is trial 11 with value: 0.041091760218664786.\n"
     ]
    },
    {
     "name": "stdout",
     "output_type": "stream",
     "text": [
      "SLIMElasticNetRecommender: URM Detected 556 ( 4.3%) users with no interactions.\n",
      "SLIMElasticNetRecommender: URM Detected 198 ( 0.9%) items with no interactions.\n"
     ]
    },
    {
     "name": "stderr",
     "output_type": "stream",
     "text": [
      "100%|███████████████████████████████████████████████████████████████████████████████▉| 22344/22348 [01:09<00:00, 321.24it/s]\n"
     ]
    },
    {
     "name": "stdout",
     "output_type": "stream",
     "text": [
      "EvaluatorHoldout: Processed 9913 (100.0%) in 4.10 sec. Users per second: 2421\n"
     ]
    },
    {
     "name": "stderr",
     "output_type": "stream",
     "text": [
      "[I 2023-12-07 00:01:42,753] Trial 36 finished with value: 0.034150446183383074 and parameters: {'topK': 116, 'alpha': 0.010246124455168938, 'l1_ratio': 0.05866815270835304}. Best is trial 11 with value: 0.041091760218664786.\n"
     ]
    },
    {
     "name": "stdout",
     "output_type": "stream",
     "text": [
      "SLIMElasticNetRecommender: URM Detected 556 ( 4.3%) users with no interactions.\n",
      "SLIMElasticNetRecommender: URM Detected 198 ( 0.9%) items with no interactions.\n"
     ]
    },
    {
     "name": "stderr",
     "output_type": "stream",
     "text": [
      "100%|███████████████████████████████████████████████████████████████████████████████▉| 22344/22348 [01:06<00:00, 337.29it/s]\n"
     ]
    },
    {
     "name": "stdout",
     "output_type": "stream",
     "text": [
      "EvaluatorHoldout: Processed 9913 (100.0%) in 3.69 sec. Users per second: 2685\n"
     ]
    },
    {
     "name": "stderr",
     "output_type": "stream",
     "text": [
      "[I 2023-12-07 00:02:52,746] Trial 37 finished with value: 0.028277902673897876 and parameters: {'topK': 243, 'alpha': 0.026231482473980546, 'l1_ratio': 0.06872433083318029}. Best is trial 11 with value: 0.041091760218664786.\n"
     ]
    },
    {
     "name": "stdout",
     "output_type": "stream",
     "text": [
      "SLIMElasticNetRecommender: URM Detected 556 ( 4.3%) users with no interactions.\n",
      "SLIMElasticNetRecommender: URM Detected 198 ( 0.9%) items with no interactions.\n"
     ]
    },
    {
     "name": "stderr",
     "output_type": "stream",
     "text": [
      "100%|███████████████████████████████████████████████████████████████████████████████▉| 22344/22348 [01:02<00:00, 355.38it/s]\n"
     ]
    },
    {
     "name": "stdout",
     "output_type": "stream",
     "text": [
      "EvaluatorHoldout: Processed 9913 (100.0%) in 3.69 sec. Users per second: 2689\n"
     ]
    },
    {
     "name": "stderr",
     "output_type": "stream",
     "text": [
      "[I 2023-12-07 00:03:59,364] Trial 38 finished with value: 0.027114467294029443 and parameters: {'topK': 165, 'alpha': 0.030221930741242943, 'l1_ratio': 0.0742588597345989}. Best is trial 11 with value: 0.041091760218664786.\n"
     ]
    },
    {
     "name": "stdout",
     "output_type": "stream",
     "text": [
      "SLIMElasticNetRecommender: URM Detected 556 ( 4.3%) users with no interactions.\n",
      "SLIMElasticNetRecommender: URM Detected 198 ( 0.9%) items with no interactions.\n"
     ]
    },
    {
     "name": "stderr",
     "output_type": "stream",
     "text": [
      "100%|███████████████████████████████████████████████████████████████████████████████▉| 22344/22348 [01:26<00:00, 258.58it/s]\n"
     ]
    },
    {
     "name": "stdout",
     "output_type": "stream",
     "text": [
      "EvaluatorHoldout: Processed 9913 (100.0%) in 4.58 sec. Users per second: 2165\n"
     ]
    },
    {
     "name": "stderr",
     "output_type": "stream",
     "text": [
      "[I 2023-12-07 00:05:30,411] Trial 39 finished with value: 0.03710872287312363 and parameters: {'topK': 543, 'alpha': 0.005813405928597836, 'l1_ratio': 0.055535188323017404}. Best is trial 11 with value: 0.041091760218664786.\n"
     ]
    },
    {
     "name": "stdout",
     "output_type": "stream",
     "text": [
      "SLIMElasticNetRecommender: URM Detected 556 ( 4.3%) users with no interactions.\n",
      "SLIMElasticNetRecommender: URM Detected 198 ( 0.9%) items with no interactions.\n"
     ]
    },
    {
     "name": "stderr",
     "output_type": "stream",
     "text": [
      "100%|███████████████████████████████████████████████████████████████████████████████▉| 22344/22348 [00:49<00:00, 455.16it/s]\n"
     ]
    },
    {
     "name": "stdout",
     "output_type": "stream",
     "text": [
      "EvaluatorHoldout: Processed 9913 (100.0%) in 3.68 sec. Users per second: 2697\n"
     ]
    },
    {
     "name": "stderr",
     "output_type": "stream",
     "text": [
      "[I 2023-12-07 00:06:23,227] Trial 40 finished with value: 0.02889442915267601 and parameters: {'topK': 73, 'alpha': 0.020853760828704913, 'l1_ratio': 0.07929509584805851}. Best is trial 11 with value: 0.041091760218664786.\n"
     ]
    },
    {
     "name": "stdout",
     "output_type": "stream",
     "text": [
      "SLIMElasticNetRecommender: URM Detected 556 ( 4.3%) users with no interactions.\n",
      "SLIMElasticNetRecommender: URM Detected 198 ( 0.9%) items with no interactions.\n"
     ]
    },
    {
     "name": "stderr",
     "output_type": "stream",
     "text": [
      "100%|███████████████████████████████████████████████████████████████████████████████▉| 22344/22348 [01:56<00:00, 192.21it/s]\n"
     ]
    },
    {
     "name": "stdout",
     "output_type": "stream",
     "text": [
      "EvaluatorHoldout: Processed 9913 (100.0%) in 4.64 sec. Users per second: 2135\n"
     ]
    },
    {
     "name": "stderr",
     "output_type": "stream",
     "text": [
      "[I 2023-12-07 00:08:24,170] Trial 41 finished with value: 0.03941147106813439 and parameters: {'topK': 21, 'alpha': 0.0023976932457694905, 'l1_ratio': 0.07517312564801339}. Best is trial 11 with value: 0.041091760218664786.\n"
     ]
    },
    {
     "name": "stdout",
     "output_type": "stream",
     "text": [
      "SLIMElasticNetRecommender: URM Detected 556 ( 4.3%) users with no interactions.\n",
      "SLIMElasticNetRecommender: URM Detected 198 ( 0.9%) items with no interactions.\n"
     ]
    },
    {
     "name": "stderr",
     "output_type": "stream",
     "text": [
      "100%|███████████████████████████████████████████████████████████████████████████████▉| 22344/22348 [02:19<00:00, 160.15it/s]\n"
     ]
    },
    {
     "name": "stdout",
     "output_type": "stream",
     "text": [
      "EvaluatorHoldout: Processed 9913 (100.0%) in 5.52 sec. Users per second: 1796\n"
     ]
    },
    {
     "name": "stderr",
     "output_type": "stream",
     "text": [
      "[I 2023-12-07 00:10:49,275] Trial 42 finished with value: 0.04034210728576765 and parameters: {'topK': 114, 'alpha': 0.0020203106907816784, 'l1_ratio': 0.06588523396736429}. Best is trial 11 with value: 0.041091760218664786.\n"
     ]
    },
    {
     "name": "stdout",
     "output_type": "stream",
     "text": [
      "SLIMElasticNetRecommender: URM Detected 556 ( 4.3%) users with no interactions.\n",
      "SLIMElasticNetRecommender: URM Detected 198 ( 0.9%) items with no interactions.\n"
     ]
    },
    {
     "name": "stderr",
     "output_type": "stream",
     "text": [
      "100%|███████████████████████████████████████████████████████████████████████████████▉| 22344/22348 [01:46<00:00, 209.90it/s]\n"
     ]
    },
    {
     "name": "stdout",
     "output_type": "stream",
     "text": [
      "EvaluatorHoldout: Processed 9913 (100.0%) in 5.66 sec. Users per second: 1751\n"
     ]
    },
    {
     "name": "stderr",
     "output_type": "stream",
     "text": [
      "[I 2023-12-07 00:12:41,452] Trial 43 finished with value: 0.04032148741671646 and parameters: {'topK': 210, 'alpha': 0.0021715250085973655, 'l1_ratio': 0.06344920764767935}. Best is trial 11 with value: 0.041091760218664786.\n"
     ]
    },
    {
     "name": "stdout",
     "output_type": "stream",
     "text": [
      "SLIMElasticNetRecommender: URM Detected 556 ( 4.3%) users with no interactions.\n",
      "SLIMElasticNetRecommender: URM Detected 198 ( 0.9%) items with no interactions.\n"
     ]
    },
    {
     "name": "stderr",
     "output_type": "stream",
     "text": [
      "100%|███████████████████████████████████████████████████████████████████████████████▉| 22344/22348 [01:03<00:00, 352.97it/s]\n"
     ]
    },
    {
     "name": "stdout",
     "output_type": "stream",
     "text": [
      "EvaluatorHoldout: Processed 9913 (100.0%) in 4.43 sec. Users per second: 2236\n"
     ]
    },
    {
     "name": "stderr",
     "output_type": "stream",
     "text": [
      "[I 2023-12-07 00:13:49,241] Trial 44 finished with value: 0.036878821941366616 and parameters: {'topK': 124, 'alpha': 0.005549241406874507, 'l1_ratio': 0.06651529083212208}. Best is trial 11 with value: 0.041091760218664786.\n"
     ]
    },
    {
     "name": "stdout",
     "output_type": "stream",
     "text": [
      "SLIMElasticNetRecommender: URM Detected 556 ( 4.3%) users with no interactions.\n",
      "SLIMElasticNetRecommender: URM Detected 198 ( 0.9%) items with no interactions.\n"
     ]
    },
    {
     "name": "stderr",
     "output_type": "stream",
     "text": [
      "100%|███████████████████████████████████████████████████████████████████████████████▉| 22344/22348 [00:56<00:00, 393.29it/s]\n"
     ]
    },
    {
     "name": "stdout",
     "output_type": "stream",
     "text": [
      "EvaluatorHoldout: Processed 9913 (100.0%) in 4.07 sec. Users per second: 2438\n"
     ]
    },
    {
     "name": "stderr",
     "output_type": "stream",
     "text": [
      "[I 2023-12-07 00:14:50,175] Trial 45 finished with value: 0.03512632121680886 and parameters: {'topK': 755, 'alpha': 0.007598054385457527, 'l1_ratio': 0.07093108655763533}. Best is trial 11 with value: 0.041091760218664786.\n"
     ]
    },
    {
     "name": "stdout",
     "output_type": "stream",
     "text": [
      "SLIMElasticNetRecommender: URM Detected 556 ( 4.3%) users with no interactions.\n",
      "SLIMElasticNetRecommender: URM Detected 198 ( 0.9%) items with no interactions.\n"
     ]
    },
    {
     "name": "stderr",
     "output_type": "stream",
     "text": [
      "100%|███████████████████████████████████████████████████████████████████████████████▉| 22344/22348 [02:26<00:00, 152.20it/s]\n"
     ]
    },
    {
     "name": "stdout",
     "output_type": "stream",
     "text": [
      "EvaluatorHoldout: Processed 9913 (100.0%) in 5.47 sec. Users per second: 1812\n"
     ]
    },
    {
     "name": "stderr",
     "output_type": "stream",
     "text": [
      "[I 2023-12-07 00:17:22,632] Trial 46 finished with value: 0.03909473130521298 and parameters: {'topK': 657, 'alpha': 0.00028821075490459414, 'l1_ratio': 0.08459126330226262}. Best is trial 11 with value: 0.041091760218664786.\n"
     ]
    },
    {
     "name": "stdout",
     "output_type": "stream",
     "text": [
      "SLIMElasticNetRecommender: URM Detected 556 ( 4.3%) users with no interactions.\n",
      "SLIMElasticNetRecommender: URM Detected 198 ( 0.9%) items with no interactions.\n"
     ]
    },
    {
     "name": "stderr",
     "output_type": "stream",
     "text": [
      "100%|███████████████████████████████████████████████████████████████████████████████▉| 22344/22348 [00:54<00:00, 411.92it/s]\n"
     ]
    },
    {
     "name": "stdout",
     "output_type": "stream",
     "text": [
      "EvaluatorHoldout: Processed 9913 (100.0%) in 4.04 sec. Users per second: 2452\n"
     ]
    },
    {
     "name": "stderr",
     "output_type": "stream",
     "text": [
      "[I 2023-12-07 00:18:20,970] Trial 47 finished with value: 0.034363161889390405 and parameters: {'topK': 67, 'alpha': 0.009527246381007364, 'l1_ratio': 0.0633853813521427}. Best is trial 11 with value: 0.041091760218664786.\n"
     ]
    },
    {
     "name": "stdout",
     "output_type": "stream",
     "text": [
      "SLIMElasticNetRecommender: URM Detected 556 ( 4.3%) users with no interactions.\n",
      "SLIMElasticNetRecommender: URM Detected 198 ( 0.9%) items with no interactions.\n"
     ]
    },
    {
     "name": "stderr",
     "output_type": "stream",
     "text": [
      "100%|███████████████████████████████████████████████████████████████████████████████▉| 22344/22348 [01:12<00:00, 308.93it/s]\n"
     ]
    },
    {
     "name": "stdout",
     "output_type": "stream",
     "text": [
      "EvaluatorHoldout: Processed 9913 (100.0%) in 4.75 sec. Users per second: 2085\n"
     ]
    },
    {
     "name": "stderr",
     "output_type": "stream",
     "text": [
      "[I 2023-12-07 00:19:38,109] Trial 48 finished with value: 0.03786179043391851 and parameters: {'topK': 287, 'alpha': 0.004860806584140049, 'l1_ratio': 0.05789700746467935}. Best is trial 11 with value: 0.041091760218664786.\n"
     ]
    },
    {
     "name": "stdout",
     "output_type": "stream",
     "text": [
      "SLIMElasticNetRecommender: URM Detected 556 ( 4.3%) users with no interactions.\n",
      "SLIMElasticNetRecommender: URM Detected 198 ( 0.9%) items with no interactions.\n"
     ]
    },
    {
     "name": "stderr",
     "output_type": "stream",
     "text": [
      "100%|███████████████████████████████████████████████████████████████████████████████▉| 22344/22348 [01:55<00:00, 192.90it/s]\n"
     ]
    },
    {
     "name": "stdout",
     "output_type": "stream",
     "text": [
      "EvaluatorHoldout: Processed 9913 (100.0%) in 5.26 sec. Users per second: 1883\n"
     ]
    },
    {
     "name": "stderr",
     "output_type": "stream",
     "text": [
      "[I 2023-12-07 00:21:39,271] Trial 49 finished with value: 0.040179714308132025 and parameters: {'topK': 408, 'alpha': 0.0018575405669230913, 'l1_ratio': 0.08974573899003807}. Best is trial 11 with value: 0.041091760218664786.\n"
     ]
    },
    {
     "name": "stdout",
     "output_type": "stream",
     "text": [
      "SLIMElasticNetRecommender: URM Detected 556 ( 4.3%) users with no interactions.\n",
      "SLIMElasticNetRecommender: URM Detected 198 ( 0.9%) items with no interactions.\n"
     ]
    },
    {
     "name": "stderr",
     "output_type": "stream",
     "text": [
      "100%|███████████████████████████████████████████████████████████████████████████████▉| 22344/22348 [00:55<00:00, 401.50it/s]\n"
     ]
    },
    {
     "name": "stdout",
     "output_type": "stream",
     "text": [
      "EvaluatorHoldout: Processed 9913 (100.0%) in 4.10 sec. Users per second: 2420\n"
     ]
    },
    {
     "name": "stderr",
     "output_type": "stream",
     "text": [
      "[I 2023-12-07 00:22:39,073] Trial 50 finished with value: 0.034150846491460204 and parameters: {'topK': 722, 'alpha': 0.011429095720130412, 'l1_ratio': 0.047912747148245824}. Best is trial 11 with value: 0.041091760218664786.\n"
     ]
    },
    {
     "name": "stdout",
     "output_type": "stream",
     "text": [
      "SLIMElasticNetRecommender: URM Detected 556 ( 4.3%) users with no interactions.\n",
      "SLIMElasticNetRecommender: URM Detected 198 ( 0.9%) items with no interactions.\n"
     ]
    },
    {
     "name": "stderr",
     "output_type": "stream",
     "text": [
      "100%|███████████████████████████████████████████████████████████████████████████████▉| 22344/22348 [01:48<00:00, 205.08it/s]\n"
     ]
    },
    {
     "name": "stdout",
     "output_type": "stream",
     "text": [
      "EvaluatorHoldout: Processed 9913 (100.0%) in 5.70 sec. Users per second: 1740\n"
     ]
    },
    {
     "name": "stderr",
     "output_type": "stream",
     "text": [
      "[I 2023-12-07 00:24:33,802] Trial 51 finished with value: 0.0405442188308128 and parameters: {'topK': 206, 'alpha': 0.0018890518455376055, 'l1_ratio': 0.06360361367802525}. Best is trial 11 with value: 0.041091760218664786.\n"
     ]
    },
    {
     "name": "stdout",
     "output_type": "stream",
     "text": [
      "SLIMElasticNetRecommender: URM Detected 556 ( 4.3%) users with no interactions.\n",
      "SLIMElasticNetRecommender: URM Detected 198 ( 0.9%) items with no interactions.\n"
     ]
    },
    {
     "name": "stderr",
     "output_type": "stream",
     "text": [
      "100%|███████████████████████████████████████████████████████████████████████████████▉| 22344/22348 [01:01<00:00, 362.82it/s]\n"
     ]
    },
    {
     "name": "stdout",
     "output_type": "stream",
     "text": [
      "EvaluatorHoldout: Processed 9913 (100.0%) in 4.23 sec. Users per second: 2344\n"
     ]
    },
    {
     "name": "stderr",
     "output_type": "stream",
     "text": [
      "[I 2023-12-07 00:25:39,671] Trial 52 finished with value: 0.03602105780608799 and parameters: {'topK': 154, 'alpha': 0.006520275614108767, 'l1_ratio': 0.06935605025736839}. Best is trial 11 with value: 0.041091760218664786.\n"
     ]
    },
    {
     "name": "stdout",
     "output_type": "stream",
     "text": [
      "SLIMElasticNetRecommender: URM Detected 556 ( 4.3%) users with no interactions.\n",
      "SLIMElasticNetRecommender: URM Detected 198 ( 0.9%) items with no interactions.\n"
     ]
    },
    {
     "name": "stderr",
     "output_type": "stream",
     "text": [
      "100%|███████████████████████████████████████████████████████████████████████████████▉| 22344/22348 [01:50<00:00, 202.43it/s]\n"
     ]
    },
    {
     "name": "stdout",
     "output_type": "stream",
     "text": [
      "EvaluatorHoldout: Processed 9913 (100.0%) in 5.71 sec. Users per second: 1737\n"
     ]
    },
    {
     "name": "stderr",
     "output_type": "stream",
     "text": [
      "[I 2023-12-07 00:27:35,833] Trial 53 finished with value: 0.040797874043864764 and parameters: {'topK': 211, 'alpha': 0.0016698819440612977, 'l1_ratio': 0.06520727797537422}. Best is trial 11 with value: 0.041091760218664786.\n"
     ]
    },
    {
     "name": "stdout",
     "output_type": "stream",
     "text": [
      "SLIMElasticNetRecommender: URM Detected 556 ( 4.3%) users with no interactions.\n",
      "SLIMElasticNetRecommender: URM Detected 198 ( 0.9%) items with no interactions.\n"
     ]
    },
    {
     "name": "stderr",
     "output_type": "stream",
     "text": [
      "100%|███████████████████████████████████████████████████████████████████████████████▉| 22344/22348 [01:08<00:00, 325.42it/s]\n"
     ]
    },
    {
     "name": "stdout",
     "output_type": "stream",
     "text": [
      "EvaluatorHoldout: Processed 9913 (100.0%) in 4.63 sec. Users per second: 2142\n"
     ]
    },
    {
     "name": "stderr",
     "output_type": "stream",
     "text": [
      "[I 2023-12-07 00:28:49,180] Trial 54 finished with value: 0.037880624928945825 and parameters: {'topK': 214, 'alpha': 0.004178426612336063, 'l1_ratio': 0.07251511013784168}. Best is trial 11 with value: 0.041091760218664786.\n"
     ]
    },
    {
     "name": "stdout",
     "output_type": "stream",
     "text": [
      "SLIMElasticNetRecommender: URM Detected 556 ( 4.3%) users with no interactions.\n",
      "SLIMElasticNetRecommender: URM Detected 198 ( 0.9%) items with no interactions.\n"
     ]
    },
    {
     "name": "stderr",
     "output_type": "stream",
     "text": [
      "100%|███████████████████████████████████████████████████████████████████████████████▉| 22344/22348 [01:18<00:00, 284.87it/s]\n"
     ]
    },
    {
     "name": "stdout",
     "output_type": "stream",
     "text": [
      "EvaluatorHoldout: Processed 9913 (100.0%) in 4.15 sec. Users per second: 2388\n"
     ]
    },
    {
     "name": "stderr",
     "output_type": "stream",
     "text": [
      "[I 2023-12-07 00:30:11,822] Trial 55 finished with value: 0.03559577450806186 and parameters: {'topK': 282, 'alpha': 0.007504843157894337, 'l1_ratio': 0.062123979444255045}. Best is trial 11 with value: 0.041091760218664786.\n"
     ]
    },
    {
     "name": "stdout",
     "output_type": "stream",
     "text": [
      "SLIMElasticNetRecommender: URM Detected 556 ( 4.3%) users with no interactions.\n",
      "SLIMElasticNetRecommender: URM Detected 198 ( 0.9%) items with no interactions.\n"
     ]
    },
    {
     "name": "stderr",
     "output_type": "stream",
     "text": [
      "100%|███████████████████████████████████████████████████████████████████████████████▉| 22344/22348 [02:35<00:00, 143.84it/s]\n"
     ]
    },
    {
     "name": "stdout",
     "output_type": "stream",
     "text": [
      "EvaluatorHoldout: Processed 9913 (100.0%) in 5.73 sec. Users per second: 1730\n"
     ]
    },
    {
     "name": "stderr",
     "output_type": "stream",
     "text": [
      "[I 2023-12-07 00:32:52,975] Trial 56 finished with value: 0.0410151212373047 and parameters: {'topK': 460, 'alpha': 0.0013141504704635982, 'l1_ratio': 0.05642479833790047}. Best is trial 11 with value: 0.041091760218664786.\n"
     ]
    },
    {
     "name": "stdout",
     "output_type": "stream",
     "text": [
      "SLIMElasticNetRecommender: URM Detected 556 ( 4.3%) users with no interactions.\n",
      "SLIMElasticNetRecommender: URM Detected 198 ( 0.9%) items with no interactions.\n"
     ]
    },
    {
     "name": "stderr",
     "output_type": "stream",
     "text": [
      "100%|███████████████████████████████████████████████████████████████████████████████▉| 22344/22348 [01:23<00:00, 267.84it/s]\n"
     ]
    },
    {
     "name": "stdout",
     "output_type": "stream",
     "text": [
      "EvaluatorHoldout: Processed 9913 (100.0%) in 5.11 sec. Users per second: 1941\n"
     ]
    },
    {
     "name": "stderr",
     "output_type": "stream",
     "text": [
      "[I 2023-12-07 00:34:21,567] Trial 57 finished with value: 0.03821961781787312 and parameters: {'topK': 432, 'alpha': 0.0051162880752349624, 'l1_ratio': 0.04303799056865237}. Best is trial 11 with value: 0.041091760218664786.\n"
     ]
    },
    {
     "name": "stdout",
     "output_type": "stream",
     "text": [
      "SLIMElasticNetRecommender: URM Detected 556 ( 4.3%) users with no interactions.\n",
      "SLIMElasticNetRecommender: URM Detected 198 ( 0.9%) items with no interactions.\n"
     ]
    },
    {
     "name": "stderr",
     "output_type": "stream",
     "text": [
      "100%|███████████████████████████████████████████████████████████████████████████████▉| 22344/22348 [02:25<00:00, 154.05it/s]\n"
     ]
    },
    {
     "name": "stdout",
     "output_type": "stream",
     "text": [
      "EvaluatorHoldout: Processed 9913 (100.0%) in 5.50 sec. Users per second: 1801\n"
     ]
    },
    {
     "name": "stderr",
     "output_type": "stream",
     "text": [
      "[I 2023-12-07 00:36:52,283] Trial 58 finished with value: 0.03924184852662662 and parameters: {'topK': 640, 'alpha': 0.00035277436226601355, 'l1_ratio': 0.057321167364388734}. Best is trial 11 with value: 0.041091760218664786.\n"
     ]
    },
    {
     "name": "stdout",
     "output_type": "stream",
     "text": [
      "SLIMElasticNetRecommender: URM Detected 556 ( 4.3%) users with no interactions.\n",
      "SLIMElasticNetRecommender: URM Detected 198 ( 0.9%) items with no interactions.\n"
     ]
    },
    {
     "name": "stderr",
     "output_type": "stream",
     "text": [
      "100%|███████████████████████████████████████████████████████████████████████████████▉| 22344/22348 [01:28<00:00, 253.81it/s]\n"
     ]
    },
    {
     "name": "stdout",
     "output_type": "stream",
     "text": [
      "EvaluatorHoldout: Processed 9913 (100.0%) in 5.19 sec. Users per second: 1911\n"
     ]
    },
    {
     "name": "stderr",
     "output_type": "stream",
     "text": [
      "[I 2023-12-07 00:38:25,566] Trial 59 finished with value: 0.0388107967892095 and parameters: {'topK': 565, 'alpha': 0.0038588103138056202, 'l1_ratio': 0.05103302403382206}. Best is trial 11 with value: 0.041091760218664786.\n"
     ]
    },
    {
     "name": "stdout",
     "output_type": "stream",
     "text": [
      "SLIMElasticNetRecommender: URM Detected 556 ( 4.3%) users with no interactions.\n",
      "SLIMElasticNetRecommender: URM Detected 198 ( 0.9%) items with no interactions.\n"
     ]
    },
    {
     "name": "stderr",
     "output_type": "stream",
     "text": [
      "100%|███████████████████████████████████████████████████████████████████████████████▉| 22344/22348 [01:13<00:00, 303.08it/s]\n"
     ]
    },
    {
     "name": "stdout",
     "output_type": "stream",
     "text": [
      "EvaluatorHoldout: Processed 9913 (100.0%) in 4.03 sec. Users per second: 2462\n"
     ]
    },
    {
     "name": "stderr",
     "output_type": "stream",
     "text": [
      "[I 2023-12-07 00:39:43,367] Trial 60 finished with value: 0.03443230710354724 and parameters: {'topK': 699, 'alpha': 0.008710237331800619, 'l1_ratio': 0.06954000567776523}. Best is trial 11 with value: 0.041091760218664786.\n"
     ]
    },
    {
     "name": "stdout",
     "output_type": "stream",
     "text": [
      "SLIMElasticNetRecommender: URM Detected 556 ( 4.3%) users with no interactions.\n",
      "SLIMElasticNetRecommender: URM Detected 198 ( 0.9%) items with no interactions.\n"
     ]
    },
    {
     "name": "stderr",
     "output_type": "stream",
     "text": [
      "100%|███████████████████████████████████████████████████████████████████████████████▉| 22344/22348 [02:25<00:00, 153.33it/s]\n"
     ]
    },
    {
     "name": "stdout",
     "output_type": "stream",
     "text": [
      "EvaluatorHoldout: Processed 9913 (100.0%) in 5.69 sec. Users per second: 1742\n"
     ]
    },
    {
     "name": "stderr",
     "output_type": "stream",
     "text": [
      "[I 2023-12-07 00:42:14,864] Trial 61 finished with value: 0.041018111538640704 and parameters: {'topK': 276, 'alpha': 0.0015376733110521689, 'l1_ratio': 0.055328052703267204}. Best is trial 11 with value: 0.041091760218664786.\n"
     ]
    },
    {
     "name": "stdout",
     "output_type": "stream",
     "text": [
      "SLIMElasticNetRecommender: URM Detected 556 ( 4.3%) users with no interactions.\n",
      "SLIMElasticNetRecommender: URM Detected 198 ( 0.9%) items with no interactions.\n"
     ]
    },
    {
     "name": "stderr",
     "output_type": "stream",
     "text": [
      "100%|███████████████████████████████████████████████████████████████████████████████▉| 22344/22348 [02:50<00:00, 130.72it/s]\n"
     ]
    },
    {
     "name": "stdout",
     "output_type": "stream",
     "text": [
      "EvaluatorHoldout: Processed 9913 (100.0%) in 5.81 sec. Users per second: 1707\n"
     ]
    },
    {
     "name": "stderr",
     "output_type": "stream",
     "text": [
      "[I 2023-12-07 00:45:11,740] Trial 62 finished with value: 0.041063178221960143 and parameters: {'topK': 380, 'alpha': 0.0009948839054571025, 'l1_ratio': 0.051292040301607424}. Best is trial 11 with value: 0.041091760218664786.\n"
     ]
    },
    {
     "name": "stdout",
     "output_type": "stream",
     "text": [
      "SLIMElasticNetRecommender: URM Detected 556 ( 4.3%) users with no interactions.\n",
      "SLIMElasticNetRecommender: URM Detected 198 ( 0.9%) items with no interactions.\n"
     ]
    },
    {
     "name": "stderr",
     "output_type": "stream",
     "text": [
      "100%|███████████████████████████████████████████████████████████████████████████████▉| 22344/22348 [01:28<00:00, 253.68it/s]\n"
     ]
    },
    {
     "name": "stdout",
     "output_type": "stream",
     "text": [
      "EvaluatorHoldout: Processed 9913 (100.0%) in 5.25 sec. Users per second: 1887\n"
     ]
    },
    {
     "name": "stderr",
     "output_type": "stream",
     "text": [
      "[I 2023-12-07 00:46:45,135] Trial 63 finished with value: 0.0390653446892735 and parameters: {'topK': 448, 'alpha': 0.003413290814073695, 'l1_ratio': 0.054544104362897534}. Best is trial 11 with value: 0.041091760218664786.\n"
     ]
    },
    {
     "name": "stdout",
     "output_type": "stream",
     "text": [
      "SLIMElasticNetRecommender: URM Detected 556 ( 4.3%) users with no interactions.\n",
      "SLIMElasticNetRecommender: URM Detected 198 ( 0.9%) items with no interactions.\n"
     ]
    },
    {
     "name": "stderr",
     "output_type": "stream",
     "text": [
      "100%|███████████████████████████████████████████████████████████████████████████████▉| 22344/22348 [03:37<00:00, 102.94it/s]\n"
     ]
    },
    {
     "name": "stdout",
     "output_type": "stream",
     "text": [
      "EvaluatorHoldout: Processed 9913 (100.0%) in 5.03 sec. Users per second: 1971\n"
     ]
    },
    {
     "name": "stderr",
     "output_type": "stream",
     "text": [
      "[I 2023-12-07 00:50:27,384] Trial 64 finished with value: 0.030483239901428254 and parameters: {'topK': 340, 'alpha': 8.432858166286896e-05, 'l1_ratio': 0.0505487051743151}. Best is trial 11 with value: 0.041091760218664786.\n"
     ]
    },
    {
     "name": "stdout",
     "output_type": "stream",
     "text": [
      "SLIMElasticNetRecommender: URM Detected 556 ( 4.3%) users with no interactions.\n",
      "SLIMElasticNetRecommender: URM Detected 198 ( 0.9%) items with no interactions.\n"
     ]
    },
    {
     "name": "stderr",
     "output_type": "stream",
     "text": [
      "100%|███████████████████████████████████████████████████████████████████████████████▉| 22344/22348 [01:18<00:00, 283.69it/s]\n"
     ]
    },
    {
     "name": "stdout",
     "output_type": "stream",
     "text": [
      "EvaluatorHoldout: Processed 9913 (100.0%) in 4.53 sec. Users per second: 2186\n"
     ]
    },
    {
     "name": "stderr",
     "output_type": "stream",
     "text": [
      "[I 2023-12-07 00:51:50,736] Trial 65 finished with value: 0.0366468193922047 and parameters: {'topK': 386, 'alpha': 0.006195674480532049, 'l1_ratio': 0.05838172136889701}. Best is trial 11 with value: 0.041091760218664786.\n"
     ]
    },
    {
     "name": "stdout",
     "output_type": "stream",
     "text": [
      "SLIMElasticNetRecommender: URM Detected 556 ( 4.3%) users with no interactions.\n",
      "SLIMElasticNetRecommender: URM Detected 198 ( 0.9%) items with no interactions.\n"
     ]
    },
    {
     "name": "stderr",
     "output_type": "stream",
     "text": [
      "100%|███████████████████████████████████████████████████████████████████████████████▉| 22344/22348 [01:58<00:00, 187.93it/s]\n"
     ]
    },
    {
     "name": "stdout",
     "output_type": "stream",
     "text": [
      "EvaluatorHoldout: Processed 9913 (100.0%) in 5.35 sec. Users per second: 1851\n"
     ]
    },
    {
     "name": "stderr",
     "output_type": "stream",
     "text": [
      "[I 2023-12-07 00:53:55,056] Trial 66 finished with value: 0.03955180707072226 and parameters: {'topK': 276, 'alpha': 0.0033008443402551377, 'l1_ratio': 0.04686101452216312}. Best is trial 11 with value: 0.041091760218664786.\n"
     ]
    },
    {
     "name": "stdout",
     "output_type": "stream",
     "text": [
      "SLIMElasticNetRecommender: URM Detected 556 ( 4.3%) users with no interactions.\n",
      "SLIMElasticNetRecommender: URM Detected 198 ( 0.9%) items with no interactions.\n"
     ]
    },
    {
     "name": "stderr",
     "output_type": "stream",
     "text": [
      "100%|███████████████████████████████████████████████████████████████████████████████▉| 22344/22348 [02:38<00:00, 141.00it/s]\n"
     ]
    },
    {
     "name": "stdout",
     "output_type": "stream",
     "text": [
      "EvaluatorHoldout: Processed 9913 (100.0%) in 5.76 sec. Users per second: 1722\n"
     ]
    },
    {
     "name": "stderr",
     "output_type": "stream",
     "text": [
      "[I 2023-12-07 00:56:39,385] Trial 67 finished with value: 0.04100532169557737 and parameters: {'topK': 510, 'alpha': 0.0013084354985130298, 'l1_ratio': 0.05379632938456715}. Best is trial 11 with value: 0.041091760218664786.\n"
     ]
    },
    {
     "name": "stdout",
     "output_type": "stream",
     "text": [
      "SLIMElasticNetRecommender: URM Detected 556 ( 4.3%) users with no interactions.\n",
      "SLIMElasticNetRecommender: URM Detected 198 ( 0.9%) items with no interactions.\n"
     ]
    },
    {
     "name": "stderr",
     "output_type": "stream",
     "text": [
      "100%|███████████████████████████████████████████████████████████████████████████████▉| 22344/22348 [02:12<00:00, 169.01it/s]\n"
     ]
    },
    {
     "name": "stdout",
     "output_type": "stream",
     "text": [
      "EvaluatorHoldout: Processed 9913 (100.0%) in 5.86 sec. Users per second: 1691\n"
     ]
    },
    {
     "name": "stderr",
     "output_type": "stream",
     "text": [
      "[I 2023-12-07 00:58:57,573] Trial 68 finished with value: 0.04111394529229742 and parameters: {'topK': 451, 'alpha': 0.0011688485386429073, 'l1_ratio': 0.05222776947637771}. Best is trial 68 with value: 0.04111394529229742.\n"
     ]
    },
    {
     "name": "stdout",
     "output_type": "stream",
     "text": [
      "SLIMElasticNetRecommender: URM Detected 556 ( 4.3%) users with no interactions.\n",
      "SLIMElasticNetRecommender: URM Detected 198 ( 0.9%) items with no interactions.\n"
     ]
    },
    {
     "name": "stderr",
     "output_type": "stream",
     "text": [
      "100%|███████████████████████████████████████████████████████████████████████████████▉| 22344/22348 [01:14<00:00, 300.84it/s]\n"
     ]
    },
    {
     "name": "stdout",
     "output_type": "stream",
     "text": [
      "EvaluatorHoldout: Processed 9913 (100.0%) in 4.79 sec. Users per second: 2071\n"
     ]
    },
    {
     "name": "stderr",
     "output_type": "stream",
     "text": [
      "[I 2023-12-07 01:00:16,686] Trial 69 finished with value: 0.03812422040002035 and parameters: {'topK': 515, 'alpha': 0.004756133194988212, 'l1_ratio': 0.05233879473021756}. Best is trial 68 with value: 0.04111394529229742.\n"
     ]
    },
    {
     "name": "stdout",
     "output_type": "stream",
     "text": [
      "SLIMElasticNetRecommender: URM Detected 556 ( 4.3%) users with no interactions.\n",
      "SLIMElasticNetRecommender: URM Detected 198 ( 0.9%) items with no interactions.\n"
     ]
    },
    {
     "name": "stderr",
     "output_type": "stream",
     "text": [
      "100%|███████████████████████████████████████████████████████████████████████████████▉| 22344/22348 [02:16<00:00, 163.21it/s]\n"
     ]
    },
    {
     "name": "stdout",
     "output_type": "stream",
     "text": [
      "EvaluatorHoldout: Processed 9913 (100.0%) in 5.89 sec. Users per second: 1682\n"
     ]
    },
    {
     "name": "stderr",
     "output_type": "stream",
     "text": [
      "[I 2023-12-07 01:02:39,632] Trial 70 finished with value: 0.04113575007325684 and parameters: {'topK': 512, 'alpha': 0.0011110804653462702, 'l1_ratio': 0.04259635412908345}. Best is trial 70 with value: 0.04113575007325684.\n"
     ]
    },
    {
     "name": "stdout",
     "output_type": "stream",
     "text": [
      "SLIMElasticNetRecommender: URM Detected 556 ( 4.3%) users with no interactions.\n",
      "SLIMElasticNetRecommender: URM Detected 198 ( 0.9%) items with no interactions.\n"
     ]
    },
    {
     "name": "stderr",
     "output_type": "stream",
     "text": [
      "100%|███████████████████████████████████████████████████████████████████████████████▉| 22344/22348 [02:14<00:00, 166.68it/s]\n"
     ]
    },
    {
     "name": "stdout",
     "output_type": "stream",
     "text": [
      "EvaluatorHoldout: Processed 9913 (100.0%) in 5.87 sec. Users per second: 1690\n"
     ]
    },
    {
     "name": "stderr",
     "output_type": "stream",
     "text": [
      "[I 2023-12-07 01:04:59,705] Trial 71 finished with value: 0.04105094881020485 and parameters: {'topK': 451, 'alpha': 0.0011581273526373025, 'l1_ratio': 0.04320413790124672}. Best is trial 70 with value: 0.04113575007325684.\n"
     ]
    },
    {
     "name": "stdout",
     "output_type": "stream",
     "text": [
      "SLIMElasticNetRecommender: URM Detected 556 ( 4.3%) users with no interactions.\n",
      "SLIMElasticNetRecommender: URM Detected 198 ( 0.9%) items with no interactions.\n"
     ]
    },
    {
     "name": "stderr",
     "output_type": "stream",
     "text": [
      "100%|███████████████████████████████████████████████████████████████████████████████▉| 22344/22348 [02:11<00:00, 169.35it/s]\n"
     ]
    },
    {
     "name": "stdout",
     "output_type": "stream",
     "text": [
      "EvaluatorHoldout: Processed 9913 (100.0%) in 5.93 sec. Users per second: 1671\n"
     ]
    },
    {
     "name": "stderr",
     "output_type": "stream",
     "text": [
      "[I 2023-12-07 01:07:17,719] Trial 72 finished with value: 0.04103968814399613 and parameters: {'topK': 465, 'alpha': 0.0014228913005334787, 'l1_ratio': 0.03999932582383675}. Best is trial 70 with value: 0.04113575007325684.\n"
     ]
    },
    {
     "name": "stdout",
     "output_type": "stream",
     "text": [
      "SLIMElasticNetRecommender: URM Detected 556 ( 4.3%) users with no interactions.\n",
      "SLIMElasticNetRecommender: URM Detected 198 ( 0.9%) items with no interactions.\n"
     ]
    },
    {
     "name": "stderr",
     "output_type": "stream",
     "text": [
      "100%|███████████████████████████████████████████████████████████████████████████████▉| 22344/22348 [01:51<00:00, 201.07it/s]\n"
     ]
    },
    {
     "name": "stdout",
     "output_type": "stream",
     "text": [
      "EvaluatorHoldout: Processed 9913 (100.0%) in 5.77 sec. Users per second: 1717\n"
     ]
    },
    {
     "name": "stderr",
     "output_type": "stream",
     "text": [
      "[I 2023-12-07 01:09:14,700] Trial 73 finished with value: 0.03972404362397356 and parameters: {'topK': 465, 'alpha': 0.003320634002579699, 'l1_ratio': 0.03598769706393246}. Best is trial 70 with value: 0.04113575007325684.\n"
     ]
    },
    {
     "name": "stdout",
     "output_type": "stream",
     "text": [
      "SLIMElasticNetRecommender: URM Detected 556 ( 4.3%) users with no interactions.\n",
      "SLIMElasticNetRecommender: URM Detected 198 ( 0.9%) items with no interactions.\n"
     ]
    },
    {
     "name": "stderr",
     "output_type": "stream",
     "text": [
      "100%|███████████████████████████████████████████████████████████████████████████████▉| 22344/22348 [02:49<00:00, 131.79it/s]\n"
     ]
    },
    {
     "name": "stdout",
     "output_type": "stream",
     "text": [
      "EvaluatorHoldout: Processed 9913 (100.0%) in 5.84 sec. Users per second: 1697\n"
     ]
    },
    {
     "name": "stderr",
     "output_type": "stream",
     "text": [
      "[I 2023-12-07 01:12:10,223] Trial 74 finished with value: 0.041113645061239594 and parameters: {'topK': 386, 'alpha': 0.0012014178532268934, 'l1_ratio': 0.04440350755061586}. Best is trial 70 with value: 0.04113575007325684.\n"
     ]
    },
    {
     "name": "stdout",
     "output_type": "stream",
     "text": [
      "SLIMElasticNetRecommender: URM Detected 556 ( 4.3%) users with no interactions.\n",
      "SLIMElasticNetRecommender: URM Detected 198 ( 0.9%) items with no interactions.\n"
     ]
    },
    {
     "name": "stderr",
     "output_type": "stream",
     "text": [
      "100%|███████████████████████████████████████████████████████████████████████████████▉| 22344/22348 [02:16<00:00, 163.46it/s]\n"
     ]
    },
    {
     "name": "stdout",
     "output_type": "stream",
     "text": [
      "EvaluatorHoldout: Processed 9913 (100.0%) in 5.57 sec. Users per second: 1781\n"
     ]
    },
    {
     "name": "stderr",
     "output_type": "stream",
     "text": [
      "[I 2023-12-07 01:14:32,549] Trial 75 finished with value: 0.03945699410266197 and parameters: {'topK': 385, 'alpha': 0.0033653425787019634, 'l1_ratio': 0.04327963240713609}. Best is trial 70 with value: 0.04113575007325684.\n"
     ]
    },
    {
     "name": "stdout",
     "output_type": "stream",
     "text": [
      "SLIMElasticNetRecommender: URM Detected 556 ( 4.3%) users with no interactions.\n",
      "SLIMElasticNetRecommender: URM Detected 198 ( 0.9%) items with no interactions.\n"
     ]
    },
    {
     "name": "stderr",
     "output_type": "stream",
     "text": [
      "100%|███████████████████████████████████████████████████████████████████████████████▉| 22344/22348 [02:59<00:00, 124.64it/s]\n"
     ]
    },
    {
     "name": "stdout",
     "output_type": "stream",
     "text": [
      "EvaluatorHoldout: Processed 9913 (100.0%) in 5.68 sec. Users per second: 1746\n"
     ]
    },
    {
     "name": "stderr",
     "output_type": "stream",
     "text": [
      "[I 2023-12-07 01:17:37,658] Trial 76 finished with value: 0.04101673047577467 and parameters: {'topK': 365, 'alpha': 0.0010682808330960292, 'l1_ratio': 0.03948913290396379}. Best is trial 70 with value: 0.04113575007325684.\n"
     ]
    },
    {
     "name": "stdout",
     "output_type": "stream",
     "text": [
      "SLIMElasticNetRecommender: URM Detected 556 ( 4.3%) users with no interactions.\n",
      "SLIMElasticNetRecommender: URM Detected 198 ( 0.9%) items with no interactions.\n"
     ]
    },
    {
     "name": "stderr",
     "output_type": "stream",
     "text": [
      "100%|███████████████████████████████████████████████████████████████████████████████▉| 22344/22348 [01:05<00:00, 339.66it/s]\n"
     ]
    },
    {
     "name": "stdout",
     "output_type": "stream",
     "text": [
      "EvaluatorHoldout: Processed 9913 (100.0%) in 4.51 sec. Users per second: 2198\n"
     ]
    },
    {
     "name": "stderr",
     "output_type": "stream",
     "text": [
      "[I 2023-12-07 01:18:48,009] Trial 77 finished with value: 0.036885250889084724 and parameters: {'topK': 409, 'alpha': 0.006428672090852142, 'l1_ratio': 0.04943355532089068}. Best is trial 70 with value: 0.04113575007325684.\n"
     ]
    },
    {
     "name": "stdout",
     "output_type": "stream",
     "text": [
      "SLIMElasticNetRecommender: URM Detected 556 ( 4.3%) users with no interactions.\n",
      "SLIMElasticNetRecommender: URM Detected 198 ( 0.9%) items with no interactions.\n"
     ]
    },
    {
     "name": "stderr",
     "output_type": "stream",
     "text": [
      "100%|███████████████████████████████████████████████████████████████████████████████▉| 22344/22348 [01:13<00:00, 303.87it/s]\n"
     ]
    },
    {
     "name": "stdout",
     "output_type": "stream",
     "text": [
      "EvaluatorHoldout: Processed 9913 (100.0%) in 4.88 sec. Users per second: 2030\n"
     ]
    },
    {
     "name": "stderr",
     "output_type": "stream",
     "text": [
      "[I 2023-12-07 01:20:06,480] Trial 78 finished with value: 0.03821636331320637 and parameters: {'topK': 313, 'alpha': 0.005003973175322414, 'l1_ratio': 0.04633545765267064}. Best is trial 70 with value: 0.04113575007325684.\n"
     ]
    },
    {
     "name": "stdout",
     "output_type": "stream",
     "text": [
      "SLIMElasticNetRecommender: URM Detected 556 ( 4.3%) users with no interactions.\n",
      "SLIMElasticNetRecommender: URM Detected 198 ( 0.9%) items with no interactions.\n"
     ]
    },
    {
     "name": "stderr",
     "output_type": "stream",
     "text": [
      "100%|███████████████████████████████████████████████████████████████████████████████▉| 22344/22348 [01:57<00:00, 190.67it/s]\n"
     ]
    },
    {
     "name": "stdout",
     "output_type": "stream",
     "text": [
      "EvaluatorHoldout: Processed 9913 (100.0%) in 5.81 sec. Users per second: 1706\n"
     ]
    },
    {
     "name": "stderr",
     "output_type": "stream",
     "text": [
      "[I 2023-12-07 01:22:09,561] Trial 79 finished with value: 0.04040589237477217 and parameters: {'topK': 498, 'alpha': 0.002674991383374503, 'l1_ratio': 0.03187792602786471}. Best is trial 70 with value: 0.04113575007325684.\n"
     ]
    },
    {
     "name": "stdout",
     "output_type": "stream",
     "text": [
      "SLIMElasticNetRecommender: URM Detected 556 ( 4.3%) users with no interactions.\n",
      "SLIMElasticNetRecommender: URM Detected 198 ( 0.9%) items with no interactions.\n"
     ]
    },
    {
     "name": "stderr",
     "output_type": "stream",
     "text": [
      "100%|████████████████████████████████████████████████████████████████████████████████▉| 22344/22348 [03:44<00:00, 99.53it/s]\n"
     ]
    },
    {
     "name": "stdout",
     "output_type": "stream",
     "text": [
      "EvaluatorHoldout: Processed 9913 (100.0%) in 5.11 sec. Users per second: 1938\n"
     ]
    },
    {
     "name": "stderr",
     "output_type": "stream",
     "text": [
      "[I 2023-12-07 01:25:59,346] Trial 80 finished with value: 0.030456615411220744 and parameters: {'topK': 538, 'alpha': 6.953064933342876e-05, 'l1_ratio': 0.044899812829061275}. Best is trial 70 with value: 0.04113575007325684.\n"
     ]
    },
    {
     "name": "stdout",
     "output_type": "stream",
     "text": [
      "SLIMElasticNetRecommender: URM Detected 556 ( 4.3%) users with no interactions.\n",
      "SLIMElasticNetRecommender: URM Detected 198 ( 0.9%) items with no interactions.\n"
     ]
    },
    {
     "name": "stderr",
     "output_type": "stream",
     "text": [
      "100%|███████████████████████████████████████████████████████████████████████████████▉| 22344/22348 [02:42<00:00, 137.24it/s]\n"
     ]
    },
    {
     "name": "stdout",
     "output_type": "stream",
     "text": [
      "EvaluatorHoldout: Processed 9913 (100.0%) in 5.89 sec. Users per second: 1684\n"
     ]
    },
    {
     "name": "stderr",
     "output_type": "stream",
     "text": [
      "[I 2023-12-07 01:28:48,157] Trial 81 finished with value: 0.0410578541245347 and parameters: {'topK': 349, 'alpha': 0.0016768450720313363, 'l1_ratio': 0.039561797243260435}. Best is trial 70 with value: 0.04113575007325684.\n"
     ]
    },
    {
     "name": "stdout",
     "output_type": "stream",
     "text": [
      "SLIMElasticNetRecommender: URM Detected 556 ( 4.3%) users with no interactions.\n",
      "SLIMElasticNetRecommender: URM Detected 198 ( 0.9%) items with no interactions.\n"
     ]
    },
    {
     "name": "stderr",
     "output_type": "stream",
     "text": [
      "100%|███████████████████████████████████████████████████████████████████████████████▉| 22344/22348 [02:56<00:00, 126.90it/s]\n"
     ]
    },
    {
     "name": "stdout",
     "output_type": "stream",
     "text": [
      "EvaluatorHoldout: Processed 9913 (100.0%) in 5.80 sec. Users per second: 1710\n"
     ]
    },
    {
     "name": "stderr",
     "output_type": "stream",
     "text": [
      "[I 2023-12-07 01:31:50,177] Trial 82 finished with value: 0.04104658144908368 and parameters: {'topK': 364, 'alpha': 0.0012315392682942753, 'l1_ratio': 0.03889345375958593}. Best is trial 70 with value: 0.04113575007325684.\n"
     ]
    },
    {
     "name": "stdout",
     "output_type": "stream",
     "text": [
      "SLIMElasticNetRecommender: URM Detected 556 ( 4.3%) users with no interactions.\n",
      "SLIMElasticNetRecommender: URM Detected 198 ( 0.9%) items with no interactions.\n"
     ]
    },
    {
     "name": "stderr",
     "output_type": "stream",
     "text": [
      "100%|███████████████████████████████████████████████████████████████████████████████▉| 22344/22348 [02:24<00:00, 154.70it/s]\n"
     ]
    },
    {
     "name": "stdout",
     "output_type": "stream",
     "text": [
      "EvaluatorHoldout: Processed 9913 (100.0%) in 5.74 sec. Users per second: 1726\n"
     ]
    },
    {
     "name": "stderr",
     "output_type": "stream",
     "text": [
      "[I 2023-12-07 01:34:20,443] Trial 83 finished with value: 0.04019884503113657 and parameters: {'topK': 356, 'alpha': 0.0028628471718192845, 'l1_ratio': 0.03938785457319681}. Best is trial 70 with value: 0.04113575007325684.\n"
     ]
    },
    {
     "name": "stdout",
     "output_type": "stream",
     "text": [
      "SLIMElasticNetRecommender: URM Detected 556 ( 4.3%) users with no interactions.\n",
      "SLIMElasticNetRecommender: URM Detected 198 ( 0.9%) items with no interactions.\n"
     ]
    },
    {
     "name": "stderr",
     "output_type": "stream",
     "text": [
      "100%|███████████████████████████████████████████████████████████████████████████████▉| 22344/22348 [01:55<00:00, 193.59it/s]\n"
     ]
    },
    {
     "name": "stdout",
     "output_type": "stream",
     "text": [
      "EvaluatorHoldout: Processed 9913 (100.0%) in 5.29 sec. Users per second: 1874\n"
     ]
    },
    {
     "name": "stderr",
     "output_type": "stream",
     "text": [
      "[I 2023-12-07 01:36:21,215] Trial 84 finished with value: 0.03868517611153598 and parameters: {'topK': 439, 'alpha': 0.004508573276843805, 'l1_ratio': 0.04015320712574973}. Best is trial 70 with value: 0.04113575007325684.\n"
     ]
    },
    {
     "name": "stdout",
     "output_type": "stream",
     "text": [
      "SLIMElasticNetRecommender: URM Detected 556 ( 4.3%) users with no interactions.\n",
      "SLIMElasticNetRecommender: URM Detected 198 ( 0.9%) items with no interactions.\n"
     ]
    },
    {
     "name": "stderr",
     "output_type": "stream",
     "text": [
      "100%|███████████████████████████████████████████████████████████████████████████████▉| 22344/22348 [02:59<00:00, 124.52it/s]\n"
     ]
    },
    {
     "name": "stdout",
     "output_type": "stream",
     "text": [
      "EvaluatorHoldout: Processed 9913 (100.0%) in 5.74 sec. Users per second: 1728\n"
     ]
    },
    {
     "name": "stderr",
     "output_type": "stream",
     "text": [
      "[I 2023-12-07 01:39:26,550] Trial 85 finished with value: 0.0409616560905278 and parameters: {'topK': 384, 'alpha': 0.0011454472051254916, 'l1_ratio': 0.0367069038552716}. Best is trial 70 with value: 0.04113575007325684.\n"
     ]
    },
    {
     "name": "stdout",
     "output_type": "stream",
     "text": [
      "SLIMElasticNetRecommender: URM Detected 556 ( 4.3%) users with no interactions.\n",
      "SLIMElasticNetRecommender: URM Detected 198 ( 0.9%) items with no interactions.\n"
     ]
    },
    {
     "name": "stderr",
     "output_type": "stream",
     "text": [
      "100%|███████████████████████████████████████████████████████████████████████████████▉| 22344/22348 [02:28<00:00, 150.02it/s]\n"
     ]
    },
    {
     "name": "stdout",
     "output_type": "stream",
     "text": [
      "EvaluatorHoldout: Processed 9913 (100.0%) in 5.87 sec. Users per second: 1690\n"
     ]
    },
    {
     "name": "stderr",
     "output_type": "stream",
     "text": [
      "[I 2023-12-07 01:42:01,444] Trial 86 finished with value: 0.04016230090677848 and parameters: {'topK': 892, 'alpha': 0.0028244632922846567, 'l1_ratio': 0.032782094350555624}. Best is trial 70 with value: 0.04113575007325684.\n"
     ]
    },
    {
     "name": "stdout",
     "output_type": "stream",
     "text": [
      "SLIMElasticNetRecommender: URM Detected 556 ( 4.3%) users with no interactions.\n",
      "SLIMElasticNetRecommender: URM Detected 198 ( 0.9%) items with no interactions.\n"
     ]
    },
    {
     "name": "stderr",
     "output_type": "stream",
     "text": [
      "100%|███████████████████████████████████████████████████████████████████████████████▉| 22344/22348 [01:30<00:00, 246.95it/s]\n"
     ]
    },
    {
     "name": "stdout",
     "output_type": "stream",
     "text": [
      "EvaluatorHoldout: Processed 9913 (100.0%) in 4.80 sec. Users per second: 2066\n"
     ]
    },
    {
     "name": "stderr",
     "output_type": "stream",
     "text": [
      "[I 2023-12-07 01:43:36,779] Trial 87 finished with value: 0.03751591224606511 and parameters: {'topK': 478, 'alpha': 0.005922252498738961, 'l1_ratio': 0.04489583460177391}. Best is trial 70 with value: 0.04113575007325684.\n"
     ]
    },
    {
     "name": "stdout",
     "output_type": "stream",
     "text": [
      "SLIMElasticNetRecommender: URM Detected 556 ( 4.3%) users with no interactions.\n",
      "SLIMElasticNetRecommender: URM Detected 198 ( 0.9%) items with no interactions.\n"
     ]
    },
    {
     "name": "stderr",
     "output_type": "stream",
     "text": [
      "100%|███████████████████████████████████████████████████████████████████████████████▉| 22344/22348 [02:55<00:00, 127.44it/s]\n"
     ]
    },
    {
     "name": "stdout",
     "output_type": "stream",
     "text": [
      "EvaluatorHoldout: Processed 9913 (100.0%) in 5.91 sec. Users per second: 1678\n"
     ]
    },
    {
     "name": "stderr",
     "output_type": "stream",
     "text": [
      "[I 2023-12-07 01:46:38,168] Trial 88 finished with value: 0.04107007553012846 and parameters: {'topK': 588, 'alpha': 0.0009680936260894814, 'l1_ratio': 0.04796477606232968}. Best is trial 70 with value: 0.04113575007325684.\n"
     ]
    },
    {
     "name": "stdout",
     "output_type": "stream",
     "text": [
      "SLIMElasticNetRecommender: URM Detected 556 ( 4.3%) users with no interactions.\n",
      "SLIMElasticNetRecommender: URM Detected 198 ( 0.9%) items with no interactions.\n"
     ]
    },
    {
     "name": "stderr",
     "output_type": "stream",
     "text": [
      "100%|███████████████████████████████████████████████████████████████████████████████▉| 22344/22348 [01:54<00:00, 195.31it/s]\n"
     ]
    },
    {
     "name": "stdout",
     "output_type": "stream",
     "text": [
      "EvaluatorHoldout: Processed 9913 (100.0%) in 5.18 sec. Users per second: 1914\n"
     ]
    },
    {
     "name": "stderr",
     "output_type": "stream",
     "text": [
      "[I 2023-12-07 01:48:37,812] Trial 89 finished with value: 0.038534456117428534 and parameters: {'topK': 316, 'alpha': 0.004261454108097004, 'l1_ratio': 0.04734407127689599}. Best is trial 70 with value: 0.04113575007325684.\n"
     ]
    },
    {
     "name": "stdout",
     "output_type": "stream",
     "text": [
      "SLIMElasticNetRecommender: URM Detected 556 ( 4.3%) users with no interactions.\n",
      "SLIMElasticNetRecommender: URM Detected 198 ( 0.9%) items with no interactions.\n"
     ]
    },
    {
     "name": "stderr",
     "output_type": "stream",
     "text": [
      "100%|███████████████████████████████████████████████████████████████████████████████▉| 22344/22348 [01:03<00:00, 353.88it/s]\n"
     ]
    },
    {
     "name": "stdout",
     "output_type": "stream",
     "text": [
      "EvaluatorHoldout: Processed 9913 (100.0%) in 4.51 sec. Users per second: 2199\n"
     ]
    },
    {
     "name": "stderr",
     "output_type": "stream",
     "text": [
      "[I 2023-12-07 01:49:45,519] Trial 90 finished with value: 0.03655447232189932 and parameters: {'topK': 576, 'alpha': 0.007197824935324092, 'l1_ratio': 0.0487204993077216}. Best is trial 70 with value: 0.04113575007325684.\n"
     ]
    },
    {
     "name": "stdout",
     "output_type": "stream",
     "text": [
      "SLIMElasticNetRecommender: URM Detected 556 ( 4.3%) users with no interactions.\n",
      "SLIMElasticNetRecommender: URM Detected 198 ( 0.9%) items with no interactions.\n"
     ]
    },
    {
     "name": "stderr",
     "output_type": "stream",
     "text": [
      "100%|███████████████████████████████████████████████████████████████████████████████▉| 22344/22348 [02:25<00:00, 153.55it/s]\n"
     ]
    },
    {
     "name": "stdout",
     "output_type": "stream",
     "text": [
      "EvaluatorHoldout: Processed 9913 (100.0%) in 5.76 sec. Users per second: 1721\n"
     ]
    },
    {
     "name": "stderr",
     "output_type": "stream",
     "text": [
      "[I 2023-12-07 01:52:16,970] Trial 91 finished with value: 0.04092879880355976 and parameters: {'topK': 615, 'alpha': 0.0008410290833144693, 'l1_ratio': 0.041917674897919616}. Best is trial 70 with value: 0.04113575007325684.\n"
     ]
    },
    {
     "name": "stdout",
     "output_type": "stream",
     "text": [
      "SLIMElasticNetRecommender: URM Detected 556 ( 4.3%) users with no interactions.\n",
      "SLIMElasticNetRecommender: URM Detected 198 ( 0.9%) items with no interactions.\n"
     ]
    },
    {
     "name": "stderr",
     "output_type": "stream",
     "text": [
      "100%|███████████████████████████████████████████████████████████████████████████████▉| 22344/22348 [01:52<00:00, 199.35it/s]\n"
     ]
    },
    {
     "name": "stdout",
     "output_type": "stream",
     "text": [
      "EvaluatorHoldout: Processed 9913 (100.0%) in 5.62 sec. Users per second: 1765\n"
     ]
    },
    {
     "name": "stderr",
     "output_type": "stream",
     "text": [
      "[I 2023-12-07 01:54:14,743] Trial 92 finished with value: 0.03988232143457664 and parameters: {'topK': 416, 'alpha': 0.0026763352367425437, 'l1_ratio': 0.05120697626921}. Best is trial 70 with value: 0.04113575007325684.\n"
     ]
    },
    {
     "name": "stdout",
     "output_type": "stream",
     "text": [
      "SLIMElasticNetRecommender: URM Detected 556 ( 4.3%) users with no interactions.\n",
      "SLIMElasticNetRecommender: URM Detected 198 ( 0.9%) items with no interactions.\n"
     ]
    },
    {
     "name": "stderr",
     "output_type": "stream",
     "text": [
      "100%|███████████████████████████████████████████████████████████████████████████████▉| 22344/22348 [02:21<00:00, 157.89it/s]\n"
     ]
    },
    {
     "name": "stdout",
     "output_type": "stream",
     "text": [
      "EvaluatorHoldout: Processed 9913 (100.0%) in 5.85 sec. Users per second: 1695\n"
     ]
    },
    {
     "name": "stderr",
     "output_type": "stream",
     "text": [
      "[I 2023-12-07 01:56:42,278] Trial 93 finished with value: 0.0409821318486712 and parameters: {'topK': 531, 'alpha': 0.0009776084335547373, 'l1_ratio': 0.04444441922932203}. Best is trial 70 with value: 0.04113575007325684.\n"
     ]
    },
    {
     "name": "stdout",
     "output_type": "stream",
     "text": [
      "SLIMElasticNetRecommender: URM Detected 556 ( 4.3%) users with no interactions.\n",
      "SLIMElasticNetRecommender: URM Detected 198 ( 0.9%) items with no interactions.\n"
     ]
    },
    {
     "name": "stderr",
     "output_type": "stream",
     "text": [
      "100%|███████████████████████████████████████████████████████████████████████████████▉| 22344/22348 [02:26<00:00, 152.78it/s]\n"
     ]
    },
    {
     "name": "stdout",
     "output_type": "stream",
     "text": [
      "EvaluatorHoldout: Processed 9913 (100.0%) in 5.75 sec. Users per second: 1725\n"
     ]
    },
    {
     "name": "stderr",
     "output_type": "stream",
     "text": [
      "[I 2023-12-07 01:59:14,359] Trial 94 finished with value: 0.04070127169869989 and parameters: {'topK': 448, 'alpha': 0.002164704571169091, 'l1_ratio': 0.04107379886644205}. Best is trial 70 with value: 0.04113575007325684.\n"
     ]
    },
    {
     "name": "stdout",
     "output_type": "stream",
     "text": [
      "SLIMElasticNetRecommender: URM Detected 556 ( 4.3%) users with no interactions.\n",
      "SLIMElasticNetRecommender: URM Detected 198 ( 0.9%) items with no interactions.\n"
     ]
    },
    {
     "name": "stderr",
     "output_type": "stream",
     "text": [
      "100%|████████████████████████████████████████████████████████████████████████████████▉| 22344/22348 [04:14<00:00, 87.81it/s]\n"
     ]
    },
    {
     "name": "stdout",
     "output_type": "stream",
     "text": [
      "EvaluatorHoldout: Processed 9913 (100.0%) in 5.08 sec. Users per second: 1949\n"
     ]
    },
    {
     "name": "stderr",
     "output_type": "stream",
     "text": [
      "[I 2023-12-07 02:03:34,056] Trial 95 finished with value: 0.025503551533259883 and parameters: {'topK': 474, 'alpha': 2.3188816873350804e-05, 'l1_ratio': 0.03764725850530329}. Best is trial 70 with value: 0.04113575007325684.\n"
     ]
    },
    {
     "name": "stdout",
     "output_type": "stream",
     "text": [
      "SLIMElasticNetRecommender: URM Detected 556 ( 4.3%) users with no interactions.\n",
      "SLIMElasticNetRecommender: URM Detected 198 ( 0.9%) items with no interactions.\n"
     ]
    },
    {
     "name": "stderr",
     "output_type": "stream",
     "text": [
      "100%|███████████████████████████████████████████████████████████████████████████████▉| 22344/22348 [01:30<00:00, 246.43it/s]\n"
     ]
    },
    {
     "name": "stdout",
     "output_type": "stream",
     "text": [
      "EvaluatorHoldout: Processed 9913 (100.0%) in 4.84 sec. Users per second: 2049\n"
     ]
    },
    {
     "name": "stderr",
     "output_type": "stream",
     "text": [
      "[I 2023-12-07 02:05:09,629] Trial 96 finished with value: 0.03782051466808912 and parameters: {'topK': 394, 'alpha': 0.005215373226507472, 'l1_ratio': 0.048759459461314505}. Best is trial 70 with value: 0.04113575007325684.\n"
     ]
    },
    {
     "name": "stdout",
     "output_type": "stream",
     "text": [
      "SLIMElasticNetRecommender: URM Detected 556 ( 4.3%) users with no interactions.\n",
      "SLIMElasticNetRecommender: URM Detected 198 ( 0.9%) items with no interactions.\n"
     ]
    },
    {
     "name": "stderr",
     "output_type": "stream",
     "text": [
      "100%|███████████████████████████████████████████████████████████████████████████████▉| 22344/22348 [01:54<00:00, 195.46it/s]\n"
     ]
    },
    {
     "name": "stdout",
     "output_type": "stream",
     "text": [
      "EvaluatorHoldout: Processed 9913 (100.0%) in 5.29 sec. Users per second: 1875\n"
     ]
    },
    {
     "name": "stderr",
     "output_type": "stream",
     "text": [
      "[I 2023-12-07 02:07:09,290] Trial 97 finished with value: 0.03899441410109274 and parameters: {'topK': 341, 'alpha': 0.003935142936390367, 'l1_ratio': 0.04340178480141039}. Best is trial 70 with value: 0.04113575007325684.\n"
     ]
    },
    {
     "name": "stdout",
     "output_type": "stream",
     "text": [
      "SLIMElasticNetRecommender: URM Detected 556 ( 4.3%) users with no interactions.\n",
      "SLIMElasticNetRecommender: URM Detected 198 ( 0.9%) items with no interactions.\n"
     ]
    },
    {
     "name": "stderr",
     "output_type": "stream",
     "text": [
      "100%|███████████████████████████████████████████████████████████████████████████████▉| 22344/22348 [01:56<00:00, 192.17it/s]\n"
     ]
    },
    {
     "name": "stdout",
     "output_type": "stream",
     "text": [
      "EvaluatorHoldout: Processed 9913 (100.0%) in 5.77 sec. Users per second: 1718\n"
     ]
    },
    {
     "name": "stderr",
     "output_type": "stream",
     "text": [
      "[I 2023-12-07 02:09:11,426] Trial 98 finished with value: 0.04067500748576162 and parameters: {'topK': 590, 'alpha': 0.002144771143086436, 'l1_ratio': 0.03883840983884675}. Best is trial 70 with value: 0.04113575007325684.\n"
     ]
    },
    {
     "name": "stdout",
     "output_type": "stream",
     "text": [
      "SLIMElasticNetRecommender: URM Detected 556 ( 4.3%) users with no interactions.\n",
      "SLIMElasticNetRecommender: URM Detected 198 ( 0.9%) items with no interactions.\n"
     ]
    },
    {
     "name": "stderr",
     "output_type": "stream",
     "text": [
      "100%|███████████████████████████████████████████████████████████████████████████████▉| 22344/22348 [02:17<00:00, 161.95it/s]\n"
     ]
    },
    {
     "name": "stdout",
     "output_type": "stream",
     "text": [
      "EvaluatorHoldout: Processed 9913 (100.0%) in 5.85 sec. Users per second: 1694\n"
     ]
    },
    {
     "name": "stderr",
     "output_type": "stream",
     "text": [
      "[I 2023-12-07 02:11:35,411] Trial 99 finished with value: 0.041022514927488714 and parameters: {'topK': 424, 'alpha': 0.001098361937247875, 'l1_ratio': 0.04137928058211392}. Best is trial 70 with value: 0.04113575007325684.\n"
     ]
    }
   ],
   "source": [
    "best_params = {\n",
    "    'topK': 650,\n",
    "    'alpha': 0.0014,\n",
    "    'l1_ratio': 0.05\n",
    "}\n",
    "\n",
    "study = op.create_study(direction=\"maximize\")\n",
    "study.enqueue_trial(best_params)\n",
    "study.optimize(objective, n_trials=100)"
   ]
  },
  {
   "cell_type": "code",
   "execution_count": 34,
   "metadata": {},
   "outputs": [
    {
     "data": {
      "text/plain": [
       "{'topK': 512, 'alpha': 0.0011110804653462702, 'l1_ratio': 0.04259635412908345}"
      ]
     },
     "execution_count": 34,
     "metadata": {},
     "output_type": "execute_result"
    }
   ],
   "source": [
    "study.best_params"
   ]
  },
  {
   "cell_type": "code",
   "execution_count": null,
   "metadata": {},
   "outputs": [],
   "source": [
    "result, _ = evaluator_test.evaluateRecommender(recommender)\n",
    "result.loc[10]"
   ]
  },
  {
   "cell_type": "code",
   "execution_count": 29,
   "metadata": {},
   "outputs": [
    {
     "name": "stdout",
     "output_type": "stream",
     "text": [
      "SLIMElasticNetRecommender: URM Detected 556 ( 4.3%) users with no interactions.\n",
      "SLIMElasticNetRecommender: URM Detected 198 ( 0.9%) items with no interactions.\n"
     ]
    },
    {
     "name": "stderr",
     "output_type": "stream",
     "text": [
      "100%|████████████████████████████████████████████████████████████████████████████████▉| 22344/22348 [17:41<00:00, 21.04it/s]\n"
     ]
    }
   ],
   "source": [
    "recommender = MultiThreadSLIM_SLIMElasticNetRecommender(URM_train)\n",
    "recommender.fit(**{\n",
    "    'topK': 300,\n",
    "    'alpha': 0.003,\n",
    "    'l1_ratio': 0\n",
    "})"
   ]
  },
  {
   "cell_type": "code",
   "execution_count": 30,
   "metadata": {},
   "outputs": [
    {
     "name": "stdout",
     "output_type": "stream",
     "text": [
      "EvaluatorHoldout: Processed 9913 (100.0%) in 5.26 sec. Users per second: 1884\n"
     ]
    },
    {
     "data": {
      "text/plain": [
       "PRECISION                       0.08042\n",
       "PRECISION_RECALL_MIN_DEN       0.162103\n",
       "RECALL                         0.146314\n",
       "MAP                            0.039918\n",
       "MAP_MIN_DEN                    0.080783\n",
       "MRR                            0.247268\n",
       "NDCG                           0.141969\n",
       "F1                             0.103792\n",
       "HIT_RATE                       0.488752\n",
       "ARHR_ALL_HITS                  0.311941\n",
       "NOVELTY                        0.005055\n",
       "AVERAGE_POPULARITY             0.198097\n",
       "DIVERSITY_MEAN_INTER_LIST      0.980131\n",
       "DIVERSITY_HERFINDAHL           0.998003\n",
       "COVERAGE_ITEM                  0.269599\n",
       "COVERAGE_ITEM_HIT              0.080544\n",
       "ITEMS_IN_GT                    0.718409\n",
       "COVERAGE_USER                  0.761075\n",
       "COVERAGE_USER_HIT              0.371977\n",
       "USERS_IN_GT                    0.761075\n",
       "DIVERSITY_GINI                 0.051476\n",
       "SHANNON_ENTROPY               10.237298\n",
       "RATIO_DIVERSITY_HERFINDAHL     0.998363\n",
       "RATIO_DIVERSITY_GINI           0.147945\n",
       "RATIO_SHANNON_ENTROPY           0.78838\n",
       "RATIO_AVERAGE_POPULARITY       1.629945\n",
       "RATIO_NOVELTY                  0.278473\n",
       "Name: 10, dtype: object"
      ]
     },
     "execution_count": 30,
     "metadata": {},
     "output_type": "execute_result"
    }
   ],
   "source": [
    "result, _ = evaluator_test.evaluateRecommender(recommender)\n",
    "result.loc[10]"
   ]
  }
 ],
 "metadata": {
  "kaggle": {
   "accelerator": "none",
   "dataSources": [
    {
     "databundleVersionId": 6919098,
     "sourceId": 62803,
     "sourceType": "competition"
    }
   ],
   "dockerImageVersionId": 30558,
   "isGpuEnabled": false,
   "isInternetEnabled": true,
   "language": "python",
   "sourceType": "notebook"
  },
  "kernelspec": {
   "display_name": "Python 3 (ipykernel)",
   "language": "python",
   "name": "python3"
  },
  "language_info": {
   "codemirror_mode": {
    "name": "ipython",
    "version": 3
   },
   "file_extension": ".py",
   "mimetype": "text/x-python",
   "name": "python",
   "nbconvert_exporter": "python",
   "pygments_lexer": "ipython3",
   "version": "3.8.18"
  }
 },
 "nbformat": 4,
 "nbformat_minor": 4
}
