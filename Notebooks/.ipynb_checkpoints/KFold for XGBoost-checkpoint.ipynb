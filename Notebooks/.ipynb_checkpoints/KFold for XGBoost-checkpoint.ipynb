{
 "cells": [
  {
   "cell_type": "markdown",
   "metadata": {},
   "source": [
    "# Recommender Systems Challenge, 2023/2024 @ PoliMi"
   ]
  },
  {
   "cell_type": "markdown",
   "metadata": {},
   "source": [
    "# Introduction\n",
    "\n",
    "## Problem Description\n",
    "The application domain is book recommendation. The datasets contain interactions of users with books, in particular, if the user attributed to the book a rating of at least 4. The main goal of the competition is to discover which items (books) a user will interact with.\n",
    "\n",
    "The datasets includes around 600k interactions, 13k users, 22k items (books).\n",
    "The training-test split is done via random holdout, 80% training, 20% test.\n",
    "The goal is to recommend a list of 10 potentially relevant items for each user.\n",
    "\n",
    "\n",
    "## Datasets\n",
    "All files are comma-separated (columns are separated with ',' ).\n",
    "\n",
    "- **data_train.csv**:\n",
    "Contains the training set, describing implicit preferences expressed by the users.\n",
    "    - **user_id** : identifier of the user\n",
    "    - **item_id** : identifier of the item (Book)\n",
    "    - **data** : \"1.0\" if the user liked the book attributing it a rating of at least 4.\n",
    "\n",
    "\n",
    "- **data_target_users_test.csv**:\n",
    "Contains the ids of the users that should appear in your submission file.\n",
    "The submission file should contain all and only these users.\n",
    "\n",
    "- **sample_submission.csv**:\n",
    "A sample submission file in the correct format: [user_id],[ordered list of recommended items].\n",
    "Be careful with the spaces and be sure to recommend the correct number of items to every user."
   ]
  },
  {
   "cell_type": "markdown",
   "metadata": {},
   "source": [
    "# Requirements\n",
    "\n",
    "The working environment and the required libraries are defined here."
   ]
  },
  {
   "cell_type": "code",
   "execution_count": 1,
   "metadata": {
    "_cell_guid": "b1076dfc-b9ad-4769-8c92-a6c4dae69d19",
    "_uuid": "8f2839f25d086af736a60e9eeb907d3b93b6e0e5",
    "execution": {
     "iopub.execute_input": "2023-11-12T22:55:27.107416Z",
     "iopub.status.busy": "2023-11-12T22:55:27.107103Z",
     "iopub.status.idle": "2023-11-12T22:55:27.415864Z",
     "shell.execute_reply": "2023-11-12T22:55:27.415002Z",
     "shell.execute_reply.started": "2023-11-12T22:55:27.107392Z"
    }
   },
   "outputs": [],
   "source": [
    "# Import libraries\n",
    "\n",
    "import numpy as np # linear algebra\n",
    "import pandas as pd # data processing, CSV file I/O (e.g. pd.read_csv)\n",
    "import scipy.sparse as sps # creation of sparse matrix\n",
    "import matplotlib.pyplot as pyplot # plot\n",
    "\n",
    "from tqdm import tqdm\n",
    "\n",
    "from scipy.stats import uniform, loguniform\n",
    "from sklearn.model_selection import train_test_split\n",
    "from sklearn.model_selection import KFold\n",
    "import optuna as op"
   ]
  },
  {
   "cell_type": "code",
   "execution_count": 2,
   "metadata": {},
   "outputs": [],
   "source": [
    "%load_ext Cython"
   ]
  },
  {
   "cell_type": "markdown",
   "metadata": {},
   "source": [
    "# Data Preprocessing"
   ]
  },
  {
   "cell_type": "code",
   "execution_count": 3,
   "metadata": {
    "execution": {
     "iopub.execute_input": "2023-11-12T22:55:29.530470Z",
     "iopub.status.busy": "2023-11-12T22:55:29.530065Z",
     "iopub.status.idle": "2023-11-12T22:55:29.536636Z",
     "shell.execute_reply": "2023-11-12T22:55:29.535790Z",
     "shell.execute_reply.started": "2023-11-12T22:55:29.530448Z"
    }
   },
   "outputs": [
    {
     "data": {
      "text/plain": [
       "_io.TextIOWrapper"
      ]
     },
     "execution_count": 3,
     "metadata": {},
     "output_type": "execute_result"
    }
   ],
   "source": [
    "# Handle the input file\n",
    "input_file = open('Input/data_train.csv', 'r')\n",
    "type(input_file)"
   ]
  },
  {
   "cell_type": "code",
   "execution_count": 4,
   "metadata": {
    "execution": {
     "iopub.execute_input": "2023-11-12T22:55:31.169146Z",
     "iopub.status.busy": "2023-11-12T22:55:31.168482Z",
     "iopub.status.idle": "2023-11-12T22:55:31.385566Z",
     "shell.execute_reply": "2023-11-12T22:55:31.384663Z",
     "shell.execute_reply.started": "2023-11-12T22:55:31.169120Z"
    }
   },
   "outputs": [
    {
     "data": {
      "text/plain": [
       "(478730, 3)"
      ]
     },
     "execution_count": 4,
     "metadata": {},
     "output_type": "execute_result"
    }
   ],
   "source": [
    "# Build the dataframe from the input file\n",
    "input_df = pd.read_csv(\n",
    "    filepath_or_buffer=input_file,\n",
    "    dtype={0:int, 1:int, 2:int},\n",
    "    names=['user_id','item_id','data'],\n",
    "    header=0\n",
    ")\n",
    "\n",
    "input_df.shape"
   ]
  },
  {
   "cell_type": "code",
   "execution_count": 5,
   "metadata": {
    "execution": {
     "iopub.execute_input": "2023-11-12T22:55:34.346527Z",
     "iopub.status.busy": "2023-11-12T22:55:34.346196Z",
     "iopub.status.idle": "2023-11-12T22:55:34.361128Z",
     "shell.execute_reply": "2023-11-12T22:55:34.360275Z",
     "shell.execute_reply.started": "2023-11-12T22:55:34.346502Z"
    }
   },
   "outputs": [
    {
     "data": {
      "text/html": [
       "<div>\n",
       "<style scoped>\n",
       "    .dataframe tbody tr th:only-of-type {\n",
       "        vertical-align: middle;\n",
       "    }\n",
       "\n",
       "    .dataframe tbody tr th {\n",
       "        vertical-align: top;\n",
       "    }\n",
       "\n",
       "    .dataframe thead th {\n",
       "        text-align: right;\n",
       "    }\n",
       "</style>\n",
       "<table border=\"1\" class=\"dataframe\">\n",
       "  <thead>\n",
       "    <tr style=\"text-align: right;\">\n",
       "      <th></th>\n",
       "      <th>user_id</th>\n",
       "      <th>item_id</th>\n",
       "      <th>data</th>\n",
       "    </tr>\n",
       "  </thead>\n",
       "  <tbody>\n",
       "    <tr>\n",
       "      <th>0</th>\n",
       "      <td>1</td>\n",
       "      <td>7</td>\n",
       "      <td>1</td>\n",
       "    </tr>\n",
       "    <tr>\n",
       "      <th>1</th>\n",
       "      <td>1</td>\n",
       "      <td>15</td>\n",
       "      <td>1</td>\n",
       "    </tr>\n",
       "    <tr>\n",
       "      <th>2</th>\n",
       "      <td>1</td>\n",
       "      <td>16</td>\n",
       "      <td>1</td>\n",
       "    </tr>\n",
       "    <tr>\n",
       "      <th>3</th>\n",
       "      <td>1</td>\n",
       "      <td>133</td>\n",
       "      <td>1</td>\n",
       "    </tr>\n",
       "    <tr>\n",
       "      <th>4</th>\n",
       "      <td>1</td>\n",
       "      <td>161</td>\n",
       "      <td>1</td>\n",
       "    </tr>\n",
       "    <tr>\n",
       "      <th>...</th>\n",
       "      <td>...</td>\n",
       "      <td>...</td>\n",
       "      <td>...</td>\n",
       "    </tr>\n",
       "    <tr>\n",
       "      <th>478725</th>\n",
       "      <td>13024</td>\n",
       "      <td>13605</td>\n",
       "      <td>1</td>\n",
       "    </tr>\n",
       "    <tr>\n",
       "      <th>478726</th>\n",
       "      <td>13024</td>\n",
       "      <td>13823</td>\n",
       "      <td>1</td>\n",
       "    </tr>\n",
       "    <tr>\n",
       "      <th>478727</th>\n",
       "      <td>13024</td>\n",
       "      <td>15122</td>\n",
       "      <td>1</td>\n",
       "    </tr>\n",
       "    <tr>\n",
       "      <th>478728</th>\n",
       "      <td>13024</td>\n",
       "      <td>18185</td>\n",
       "      <td>1</td>\n",
       "    </tr>\n",
       "    <tr>\n",
       "      <th>478729</th>\n",
       "      <td>13024</td>\n",
       "      <td>20014</td>\n",
       "      <td>1</td>\n",
       "    </tr>\n",
       "  </tbody>\n",
       "</table>\n",
       "<p>478730 rows × 3 columns</p>\n",
       "</div>"
      ],
      "text/plain": [
       "        user_id  item_id  data\n",
       "0             1        7     1\n",
       "1             1       15     1\n",
       "2             1       16     1\n",
       "3             1      133     1\n",
       "4             1      161     1\n",
       "...         ...      ...   ...\n",
       "478725    13024    13605     1\n",
       "478726    13024    13823     1\n",
       "478727    13024    15122     1\n",
       "478728    13024    18185     1\n",
       "478729    13024    20014     1\n",
       "\n",
       "[478730 rows x 3 columns]"
      ]
     },
     "execution_count": 5,
     "metadata": {},
     "output_type": "execute_result"
    }
   ],
   "source": [
    "# Show the first rows of the dataframe\n",
    "input_df"
   ]
  },
  {
   "cell_type": "code",
   "execution_count": 6,
   "metadata": {},
   "outputs": [
    {
     "data": {
      "text/plain": [
       "<13025x22348 sparse matrix of type '<class 'numpy.int32'>'\n",
       "\twith 478730 stored elements in COOrdinate format>"
      ]
     },
     "execution_count": 6,
     "metadata": {},
     "output_type": "execute_result"
    }
   ],
   "source": [
    "# Build the COO matrix with the COO constructor: (data, (row, column))\n",
    "URM_all = sps.coo_matrix(\n",
    "    (input_df[\"data\"].values,\n",
    "    (input_df[\"user_id\"].values, input_df[\"item_id\"].values))\n",
    ")\n",
    "\n",
    "URM_all"
   ]
  },
  {
   "cell_type": "code",
   "execution_count": 7,
   "metadata": {},
   "outputs": [
    {
     "data": {
      "text/plain": [
       "<13025x22348 sparse matrix of type '<class 'numpy.intc'>'\n",
       "\twith 478730 stored elements in Compressed Sparse Row format>"
      ]
     },
     "execution_count": 7,
     "metadata": {},
     "output_type": "execute_result"
    }
   ],
   "source": [
    "# Convert the matrix to Compressed Sparse Row format\n",
    "URM_all = URM_all.tocsr()\n",
    "\n",
    "URM_all"
   ]
  },
  {
   "cell_type": "code",
   "execution_count": 8,
   "metadata": {},
   "outputs": [
    {
     "name": "stdout",
     "output_type": "stream",
     "text": [
      "Unique UserID in the URM are 12638\n",
      "Unique ItemID in the URM are 22222\n"
     ]
    }
   ],
   "source": [
    "mapped_id, original_id = pd.factorize(input_df[\"user_id\"].unique())\n",
    "user_original_ID_to_index = pd.Series(mapped_id, index=original_id)\n",
    "\n",
    "print(\"Unique UserID in the URM are {}\".format(len(original_id)))\n",
    "\n",
    "mapped_id, original_id = pd.factorize(input_df[\"item_id\"].unique())\n",
    "item_original_ID_to_index = pd.Series(mapped_id, index=original_id)\n",
    "\n",
    "print(\"Unique ItemID in the URM are {}\".format(len(original_id)))\n",
    "\n",
    "input_df[\"user_id\"] = input_df[\"user_id\"].map(user_original_ID_to_index)\n",
    "input_df[\"item_id\"] = input_df[\"item_id\"].map(item_original_ID_to_index)"
   ]
  },
  {
   "cell_type": "code",
   "execution_count": 9,
   "metadata": {},
   "outputs": [],
   "source": [
    "n_users = len(user_original_ID_to_index)\n",
    "n_items = len(item_original_ID_to_index)"
   ]
  },
  {
   "cell_type": "code",
   "execution_count": 10,
   "metadata": {},
   "outputs": [
    {
     "data": {
      "text/html": [
       "<div>\n",
       "<style scoped>\n",
       "    .dataframe tbody tr th:only-of-type {\n",
       "        vertical-align: middle;\n",
       "    }\n",
       "\n",
       "    .dataframe tbody tr th {\n",
       "        vertical-align: top;\n",
       "    }\n",
       "\n",
       "    .dataframe thead th {\n",
       "        text-align: right;\n",
       "    }\n",
       "</style>\n",
       "<table border=\"1\" class=\"dataframe\">\n",
       "  <thead>\n",
       "    <tr style=\"text-align: right;\">\n",
       "      <th></th>\n",
       "      <th>user_id</th>\n",
       "      <th>item_id</th>\n",
       "      <th>data</th>\n",
       "    </tr>\n",
       "  </thead>\n",
       "  <tbody>\n",
       "    <tr>\n",
       "      <th>0</th>\n",
       "      <td>0</td>\n",
       "      <td>0</td>\n",
       "      <td>1</td>\n",
       "    </tr>\n",
       "    <tr>\n",
       "      <th>1</th>\n",
       "      <td>0</td>\n",
       "      <td>1</td>\n",
       "      <td>1</td>\n",
       "    </tr>\n",
       "    <tr>\n",
       "      <th>2</th>\n",
       "      <td>0</td>\n",
       "      <td>2</td>\n",
       "      <td>1</td>\n",
       "    </tr>\n",
       "    <tr>\n",
       "      <th>3</th>\n",
       "      <td>0</td>\n",
       "      <td>3</td>\n",
       "      <td>1</td>\n",
       "    </tr>\n",
       "    <tr>\n",
       "      <th>4</th>\n",
       "      <td>0</td>\n",
       "      <td>4</td>\n",
       "      <td>1</td>\n",
       "    </tr>\n",
       "    <tr>\n",
       "      <th>...</th>\n",
       "      <td>...</td>\n",
       "      <td>...</td>\n",
       "      <td>...</td>\n",
       "    </tr>\n",
       "    <tr>\n",
       "      <th>478725</th>\n",
       "      <td>12637</td>\n",
       "      <td>617</td>\n",
       "      <td>1</td>\n",
       "    </tr>\n",
       "    <tr>\n",
       "      <th>478726</th>\n",
       "      <td>12637</td>\n",
       "      <td>7533</td>\n",
       "      <td>1</td>\n",
       "    </tr>\n",
       "    <tr>\n",
       "      <th>478727</th>\n",
       "      <td>12637</td>\n",
       "      <td>17034</td>\n",
       "      <td>1</td>\n",
       "    </tr>\n",
       "    <tr>\n",
       "      <th>478728</th>\n",
       "      <td>12637</td>\n",
       "      <td>18422</td>\n",
       "      <td>1</td>\n",
       "    </tr>\n",
       "    <tr>\n",
       "      <th>478729</th>\n",
       "      <td>12637</td>\n",
       "      <td>16602</td>\n",
       "      <td>1</td>\n",
       "    </tr>\n",
       "  </tbody>\n",
       "</table>\n",
       "<p>478730 rows × 3 columns</p>\n",
       "</div>"
      ],
      "text/plain": [
       "        user_id  item_id  data\n",
       "0             0        0     1\n",
       "1             0        1     1\n",
       "2             0        2     1\n",
       "3             0        3     1\n",
       "4             0        4     1\n",
       "...         ...      ...   ...\n",
       "478725    12637      617     1\n",
       "478726    12637     7533     1\n",
       "478727    12637    17034     1\n",
       "478728    12637    18422     1\n",
       "478729    12637    16602     1\n",
       "\n",
       "[478730 rows x 3 columns]"
      ]
     },
     "execution_count": 10,
     "metadata": {},
     "output_type": "execute_result"
    }
   ],
   "source": [
    "input_df"
   ]
  },
  {
   "cell_type": "code",
   "execution_count": 11,
   "metadata": {},
   "outputs": [],
   "source": [
    "# Import Evaluators\n",
    "from Evaluation.Evaluator import EvaluatorHoldout\n",
    "from sklearn.model_selection import train_test_split\n",
    "from Data_manager.split_functions.split_train_validation_random_holdout import split_train_in_two_percentage_global_sample"
   ]
  },
  {
   "cell_type": "code",
   "execution_count": 12,
   "metadata": {},
   "outputs": [],
   "source": [
    "(user_ids_training_validation, user_ids_test,\n",
    " item_ids_training_validation, item_ids_test,\n",
    " ratings_training_validation, ratings_test) = train_test_split(input_df.user_id,\n",
    "                                                    input_df.item_id,\n",
    "                                                    input_df.data,\n",
    "                                                    test_size=0.15,\n",
    "                                                    shuffle=True,\n",
    "                                                    random_state=28)"
   ]
  },
  {
   "cell_type": "code",
   "execution_count": 15,
   "metadata": {},
   "outputs": [],
   "source": [
    "training_val_df = pd.DataFrame(\n",
    "    {'user_id': user_ids_training_validation,\n",
    "    'item_id': item_ids_training_validation,\n",
    "    'data': ratings_training_validation},\n",
    "    columns=['user_id','item_id','data'],\n",
    ")"
   ]
  },
  {
   "cell_type": "code",
   "execution_count": 16,
   "metadata": {},
   "outputs": [
    {
     "data": {
      "text/html": [
       "<div>\n",
       "<style scoped>\n",
       "    .dataframe tbody tr th:only-of-type {\n",
       "        vertical-align: middle;\n",
       "    }\n",
       "\n",
       "    .dataframe tbody tr th {\n",
       "        vertical-align: top;\n",
       "    }\n",
       "\n",
       "    .dataframe thead th {\n",
       "        text-align: right;\n",
       "    }\n",
       "</style>\n",
       "<table border=\"1\" class=\"dataframe\">\n",
       "  <thead>\n",
       "    <tr style=\"text-align: right;\">\n",
       "      <th></th>\n",
       "      <th>user_id</th>\n",
       "      <th>item_id</th>\n",
       "      <th>data</th>\n",
       "    </tr>\n",
       "  </thead>\n",
       "  <tbody>\n",
       "    <tr>\n",
       "      <th>230965</th>\n",
       "      <td>6070</td>\n",
       "      <td>12396</td>\n",
       "      <td>1</td>\n",
       "    </tr>\n",
       "    <tr>\n",
       "      <th>80186</th>\n",
       "      <td>2125</td>\n",
       "      <td>9024</td>\n",
       "      <td>1</td>\n",
       "    </tr>\n",
       "    <tr>\n",
       "      <th>374408</th>\n",
       "      <td>9872</td>\n",
       "      <td>1950</td>\n",
       "      <td>1</td>\n",
       "    </tr>\n",
       "    <tr>\n",
       "      <th>216132</th>\n",
       "      <td>5690</td>\n",
       "      <td>124</td>\n",
       "      <td>1</td>\n",
       "    </tr>\n",
       "    <tr>\n",
       "      <th>70418</th>\n",
       "      <td>1873</td>\n",
       "      <td>2761</td>\n",
       "      <td>1</td>\n",
       "    </tr>\n",
       "    <tr>\n",
       "      <th>...</th>\n",
       "      <td>...</td>\n",
       "      <td>...</td>\n",
       "      <td>...</td>\n",
       "    </tr>\n",
       "    <tr>\n",
       "      <th>382964</th>\n",
       "      <td>10085</td>\n",
       "      <td>567</td>\n",
       "      <td>1</td>\n",
       "    </tr>\n",
       "    <tr>\n",
       "      <th>324886</th>\n",
       "      <td>8466</td>\n",
       "      <td>2427</td>\n",
       "      <td>1</td>\n",
       "    </tr>\n",
       "    <tr>\n",
       "      <th>353797</th>\n",
       "      <td>9298</td>\n",
       "      <td>3571</td>\n",
       "      <td>1</td>\n",
       "    </tr>\n",
       "    <tr>\n",
       "      <th>200697</th>\n",
       "      <td>5290</td>\n",
       "      <td>4505</td>\n",
       "      <td>1</td>\n",
       "    </tr>\n",
       "    <tr>\n",
       "      <th>42241</th>\n",
       "      <td>1131</td>\n",
       "      <td>210</td>\n",
       "      <td>1</td>\n",
       "    </tr>\n",
       "  </tbody>\n",
       "</table>\n",
       "<p>406920 rows × 3 columns</p>\n",
       "</div>"
      ],
      "text/plain": [
       "        user_id  item_id  data\n",
       "230965     6070    12396     1\n",
       "80186      2125     9024     1\n",
       "374408     9872     1950     1\n",
       "216132     5690      124     1\n",
       "70418      1873     2761     1\n",
       "...         ...      ...   ...\n",
       "382964    10085      567     1\n",
       "324886     8466     2427     1\n",
       "353797     9298     3571     1\n",
       "200697     5290     4505     1\n",
       "42241      1131      210     1\n",
       "\n",
       "[406920 rows x 3 columns]"
      ]
     },
     "execution_count": 16,
     "metadata": {},
     "output_type": "execute_result"
    }
   ],
   "source": [
    "training_val_df"
   ]
  },
  {
   "cell_type": "code",
   "execution_count": 19,
   "metadata": {},
   "outputs": [],
   "source": [
    "training_val_df = training_val_df.reset_index(drop=True)"
   ]
  },
  {
   "cell_type": "code",
   "execution_count": 20,
   "metadata": {},
   "outputs": [
    {
     "data": {
      "text/html": [
       "<div>\n",
       "<style scoped>\n",
       "    .dataframe tbody tr th:only-of-type {\n",
       "        vertical-align: middle;\n",
       "    }\n",
       "\n",
       "    .dataframe tbody tr th {\n",
       "        vertical-align: top;\n",
       "    }\n",
       "\n",
       "    .dataframe thead th {\n",
       "        text-align: right;\n",
       "    }\n",
       "</style>\n",
       "<table border=\"1\" class=\"dataframe\">\n",
       "  <thead>\n",
       "    <tr style=\"text-align: right;\">\n",
       "      <th></th>\n",
       "      <th>user_id</th>\n",
       "      <th>item_id</th>\n",
       "      <th>data</th>\n",
       "    </tr>\n",
       "  </thead>\n",
       "  <tbody>\n",
       "    <tr>\n",
       "      <th>0</th>\n",
       "      <td>6070</td>\n",
       "      <td>12396</td>\n",
       "      <td>1</td>\n",
       "    </tr>\n",
       "    <tr>\n",
       "      <th>1</th>\n",
       "      <td>2125</td>\n",
       "      <td>9024</td>\n",
       "      <td>1</td>\n",
       "    </tr>\n",
       "    <tr>\n",
       "      <th>2</th>\n",
       "      <td>9872</td>\n",
       "      <td>1950</td>\n",
       "      <td>1</td>\n",
       "    </tr>\n",
       "    <tr>\n",
       "      <th>3</th>\n",
       "      <td>5690</td>\n",
       "      <td>124</td>\n",
       "      <td>1</td>\n",
       "    </tr>\n",
       "    <tr>\n",
       "      <th>4</th>\n",
       "      <td>1873</td>\n",
       "      <td>2761</td>\n",
       "      <td>1</td>\n",
       "    </tr>\n",
       "    <tr>\n",
       "      <th>...</th>\n",
       "      <td>...</td>\n",
       "      <td>...</td>\n",
       "      <td>...</td>\n",
       "    </tr>\n",
       "    <tr>\n",
       "      <th>406915</th>\n",
       "      <td>10085</td>\n",
       "      <td>567</td>\n",
       "      <td>1</td>\n",
       "    </tr>\n",
       "    <tr>\n",
       "      <th>406916</th>\n",
       "      <td>8466</td>\n",
       "      <td>2427</td>\n",
       "      <td>1</td>\n",
       "    </tr>\n",
       "    <tr>\n",
       "      <th>406917</th>\n",
       "      <td>9298</td>\n",
       "      <td>3571</td>\n",
       "      <td>1</td>\n",
       "    </tr>\n",
       "    <tr>\n",
       "      <th>406918</th>\n",
       "      <td>5290</td>\n",
       "      <td>4505</td>\n",
       "      <td>1</td>\n",
       "    </tr>\n",
       "    <tr>\n",
       "      <th>406919</th>\n",
       "      <td>1131</td>\n",
       "      <td>210</td>\n",
       "      <td>1</td>\n",
       "    </tr>\n",
       "  </tbody>\n",
       "</table>\n",
       "<p>406920 rows × 3 columns</p>\n",
       "</div>"
      ],
      "text/plain": [
       "        user_id  item_id  data\n",
       "0          6070    12396     1\n",
       "1          2125     9024     1\n",
       "2          9872     1950     1\n",
       "3          5690      124     1\n",
       "4          1873     2761     1\n",
       "...         ...      ...   ...\n",
       "406915    10085      567     1\n",
       "406916     8466     2427     1\n",
       "406917     9298     3571     1\n",
       "406918     5290     4505     1\n",
       "406919     1131      210     1\n",
       "\n",
       "[406920 rows x 3 columns]"
      ]
     },
     "execution_count": 20,
     "metadata": {},
     "output_type": "execute_result"
    }
   ],
   "source": [
    "training_val_df"
   ]
  },
  {
   "cell_type": "code",
   "execution_count": 21,
   "metadata": {},
   "outputs": [],
   "source": [
    "# Set the number of folds to split\n",
    "n_fold = 10"
   ]
  },
  {
   "cell_type": "code",
   "execution_count": 22,
   "metadata": {},
   "outputs": [],
   "source": [
    "kf = KFold(n_splits=n_fold, shuffle=True, random_state=28)"
   ]
  },
  {
   "cell_type": "code",
   "execution_count": 23,
   "metadata": {},
   "outputs": [],
   "source": [
    "for i, (_, v_ind) in enumerate(kf.split(training_val_df)):\n",
    "    training_val_df.loc[training_val_df.index[v_ind], 'kfold'] = int(i)"
   ]
  },
  {
   "cell_type": "code",
   "execution_count": 24,
   "metadata": {},
   "outputs": [
    {
     "data": {
      "text/html": [
       "<div>\n",
       "<style scoped>\n",
       "    .dataframe tbody tr th:only-of-type {\n",
       "        vertical-align: middle;\n",
       "    }\n",
       "\n",
       "    .dataframe tbody tr th {\n",
       "        vertical-align: top;\n",
       "    }\n",
       "\n",
       "    .dataframe thead th {\n",
       "        text-align: right;\n",
       "    }\n",
       "</style>\n",
       "<table border=\"1\" class=\"dataframe\">\n",
       "  <thead>\n",
       "    <tr style=\"text-align: right;\">\n",
       "      <th></th>\n",
       "      <th>user_id</th>\n",
       "      <th>item_id</th>\n",
       "      <th>data</th>\n",
       "      <th>kfold</th>\n",
       "    </tr>\n",
       "  </thead>\n",
       "  <tbody>\n",
       "    <tr>\n",
       "      <th>0</th>\n",
       "      <td>6070</td>\n",
       "      <td>12396</td>\n",
       "      <td>1</td>\n",
       "      <td>5.0</td>\n",
       "    </tr>\n",
       "    <tr>\n",
       "      <th>1</th>\n",
       "      <td>2125</td>\n",
       "      <td>9024</td>\n",
       "      <td>1</td>\n",
       "      <td>6.0</td>\n",
       "    </tr>\n",
       "    <tr>\n",
       "      <th>2</th>\n",
       "      <td>9872</td>\n",
       "      <td>1950</td>\n",
       "      <td>1</td>\n",
       "      <td>9.0</td>\n",
       "    </tr>\n",
       "    <tr>\n",
       "      <th>3</th>\n",
       "      <td>5690</td>\n",
       "      <td>124</td>\n",
       "      <td>1</td>\n",
       "      <td>2.0</td>\n",
       "    </tr>\n",
       "    <tr>\n",
       "      <th>4</th>\n",
       "      <td>1873</td>\n",
       "      <td>2761</td>\n",
       "      <td>1</td>\n",
       "      <td>9.0</td>\n",
       "    </tr>\n",
       "    <tr>\n",
       "      <th>...</th>\n",
       "      <td>...</td>\n",
       "      <td>...</td>\n",
       "      <td>...</td>\n",
       "      <td>...</td>\n",
       "    </tr>\n",
       "    <tr>\n",
       "      <th>406915</th>\n",
       "      <td>10085</td>\n",
       "      <td>567</td>\n",
       "      <td>1</td>\n",
       "      <td>6.0</td>\n",
       "    </tr>\n",
       "    <tr>\n",
       "      <th>406916</th>\n",
       "      <td>8466</td>\n",
       "      <td>2427</td>\n",
       "      <td>1</td>\n",
       "      <td>7.0</td>\n",
       "    </tr>\n",
       "    <tr>\n",
       "      <th>406917</th>\n",
       "      <td>9298</td>\n",
       "      <td>3571</td>\n",
       "      <td>1</td>\n",
       "      <td>5.0</td>\n",
       "    </tr>\n",
       "    <tr>\n",
       "      <th>406918</th>\n",
       "      <td>5290</td>\n",
       "      <td>4505</td>\n",
       "      <td>1</td>\n",
       "      <td>6.0</td>\n",
       "    </tr>\n",
       "    <tr>\n",
       "      <th>406919</th>\n",
       "      <td>1131</td>\n",
       "      <td>210</td>\n",
       "      <td>1</td>\n",
       "      <td>3.0</td>\n",
       "    </tr>\n",
       "  </tbody>\n",
       "</table>\n",
       "<p>406920 rows × 4 columns</p>\n",
       "</div>"
      ],
      "text/plain": [
       "        user_id  item_id  data  kfold\n",
       "0          6070    12396     1    5.0\n",
       "1          2125     9024     1    6.0\n",
       "2          9872     1950     1    9.0\n",
       "3          5690      124     1    2.0\n",
       "4          1873     2761     1    9.0\n",
       "...         ...      ...   ...    ...\n",
       "406915    10085      567     1    6.0\n",
       "406916     8466     2427     1    7.0\n",
       "406917     9298     3571     1    5.0\n",
       "406918     5290     4505     1    6.0\n",
       "406919     1131      210     1    3.0\n",
       "\n",
       "[406920 rows x 4 columns]"
      ]
     },
     "execution_count": 24,
     "metadata": {},
     "output_type": "execute_result"
    }
   ],
   "source": [
    "training_val_df"
   ]
  },
  {
   "cell_type": "code",
   "execution_count": 25,
   "metadata": {},
   "outputs": [],
   "source": [
    "df_trains = []\n",
    "df_vals = []\n",
    "\n",
    "for i in range(n_fold):\n",
    "    df_trains.append(training_val_df[training_val_df[\"kfold\"]!=i])\n",
    "    df_vals.append(training_val_df[training_val_df[\"kfold\"]==i])\n",
    "    \n",
    "    df_trains[i] = df_trains[i].drop(columns=['kfold'])\n",
    "    df_vals[i] = df_vals[i].drop(columns=['kfold'])"
   ]
  },
  {
   "cell_type": "code",
   "execution_count": 26,
   "metadata": {},
   "outputs": [
    {
     "data": {
      "text/html": [
       "<div>\n",
       "<style scoped>\n",
       "    .dataframe tbody tr th:only-of-type {\n",
       "        vertical-align: middle;\n",
       "    }\n",
       "\n",
       "    .dataframe tbody tr th {\n",
       "        vertical-align: top;\n",
       "    }\n",
       "\n",
       "    .dataframe thead th {\n",
       "        text-align: right;\n",
       "    }\n",
       "</style>\n",
       "<table border=\"1\" class=\"dataframe\">\n",
       "  <thead>\n",
       "    <tr style=\"text-align: right;\">\n",
       "      <th></th>\n",
       "      <th>user_id</th>\n",
       "      <th>item_id</th>\n",
       "      <th>data</th>\n",
       "    </tr>\n",
       "  </thead>\n",
       "  <tbody>\n",
       "    <tr>\n",
       "      <th>0</th>\n",
       "      <td>6070</td>\n",
       "      <td>12396</td>\n",
       "      <td>1</td>\n",
       "    </tr>\n",
       "    <tr>\n",
       "      <th>1</th>\n",
       "      <td>2125</td>\n",
       "      <td>9024</td>\n",
       "      <td>1</td>\n",
       "    </tr>\n",
       "    <tr>\n",
       "      <th>2</th>\n",
       "      <td>9872</td>\n",
       "      <td>1950</td>\n",
       "      <td>1</td>\n",
       "    </tr>\n",
       "    <tr>\n",
       "      <th>3</th>\n",
       "      <td>5690</td>\n",
       "      <td>124</td>\n",
       "      <td>1</td>\n",
       "    </tr>\n",
       "    <tr>\n",
       "      <th>4</th>\n",
       "      <td>1873</td>\n",
       "      <td>2761</td>\n",
       "      <td>1</td>\n",
       "    </tr>\n",
       "    <tr>\n",
       "      <th>...</th>\n",
       "      <td>...</td>\n",
       "      <td>...</td>\n",
       "      <td>...</td>\n",
       "    </tr>\n",
       "    <tr>\n",
       "      <th>406915</th>\n",
       "      <td>10085</td>\n",
       "      <td>567</td>\n",
       "      <td>1</td>\n",
       "    </tr>\n",
       "    <tr>\n",
       "      <th>406916</th>\n",
       "      <td>8466</td>\n",
       "      <td>2427</td>\n",
       "      <td>1</td>\n",
       "    </tr>\n",
       "    <tr>\n",
       "      <th>406917</th>\n",
       "      <td>9298</td>\n",
       "      <td>3571</td>\n",
       "      <td>1</td>\n",
       "    </tr>\n",
       "    <tr>\n",
       "      <th>406918</th>\n",
       "      <td>5290</td>\n",
       "      <td>4505</td>\n",
       "      <td>1</td>\n",
       "    </tr>\n",
       "    <tr>\n",
       "      <th>406919</th>\n",
       "      <td>1131</td>\n",
       "      <td>210</td>\n",
       "      <td>1</td>\n",
       "    </tr>\n",
       "  </tbody>\n",
       "</table>\n",
       "<p>366228 rows × 3 columns</p>\n",
       "</div>"
      ],
      "text/plain": [
       "        user_id  item_id  data\n",
       "0          6070    12396     1\n",
       "1          2125     9024     1\n",
       "2          9872     1950     1\n",
       "3          5690      124     1\n",
       "4          1873     2761     1\n",
       "...         ...      ...   ...\n",
       "406915    10085      567     1\n",
       "406916     8466     2427     1\n",
       "406917     9298     3571     1\n",
       "406918     5290     4505     1\n",
       "406919     1131      210     1\n",
       "\n",
       "[366228 rows x 3 columns]"
      ]
     },
     "execution_count": 26,
     "metadata": {},
     "output_type": "execute_result"
    }
   ],
   "source": [
    "df_trains[0]"
   ]
  },
  {
   "cell_type": "code",
   "execution_count": 27,
   "metadata": {},
   "outputs": [
    {
     "data": {
      "text/html": [
       "<div>\n",
       "<style scoped>\n",
       "    .dataframe tbody tr th:only-of-type {\n",
       "        vertical-align: middle;\n",
       "    }\n",
       "\n",
       "    .dataframe tbody tr th {\n",
       "        vertical-align: top;\n",
       "    }\n",
       "\n",
       "    .dataframe thead th {\n",
       "        text-align: right;\n",
       "    }\n",
       "</style>\n",
       "<table border=\"1\" class=\"dataframe\">\n",
       "  <thead>\n",
       "    <tr style=\"text-align: right;\">\n",
       "      <th></th>\n",
       "      <th>user_id</th>\n",
       "      <th>item_id</th>\n",
       "      <th>data</th>\n",
       "    </tr>\n",
       "  </thead>\n",
       "  <tbody>\n",
       "    <tr>\n",
       "      <th>21</th>\n",
       "      <td>4185</td>\n",
       "      <td>1356</td>\n",
       "      <td>1</td>\n",
       "    </tr>\n",
       "    <tr>\n",
       "      <th>41</th>\n",
       "      <td>12582</td>\n",
       "      <td>1571</td>\n",
       "      <td>1</td>\n",
       "    </tr>\n",
       "    <tr>\n",
       "      <th>49</th>\n",
       "      <td>7155</td>\n",
       "      <td>12438</td>\n",
       "      <td>1</td>\n",
       "    </tr>\n",
       "    <tr>\n",
       "      <th>59</th>\n",
       "      <td>11180</td>\n",
       "      <td>2667</td>\n",
       "      <td>1</td>\n",
       "    </tr>\n",
       "    <tr>\n",
       "      <th>60</th>\n",
       "      <td>10504</td>\n",
       "      <td>587</td>\n",
       "      <td>1</td>\n",
       "    </tr>\n",
       "    <tr>\n",
       "      <th>...</th>\n",
       "      <td>...</td>\n",
       "      <td>...</td>\n",
       "      <td>...</td>\n",
       "    </tr>\n",
       "    <tr>\n",
       "      <th>406872</th>\n",
       "      <td>566</td>\n",
       "      <td>8252</td>\n",
       "      <td>1</td>\n",
       "    </tr>\n",
       "    <tr>\n",
       "      <th>406876</th>\n",
       "      <td>10986</td>\n",
       "      <td>1116</td>\n",
       "      <td>1</td>\n",
       "    </tr>\n",
       "    <tr>\n",
       "      <th>406879</th>\n",
       "      <td>7028</td>\n",
       "      <td>3620</td>\n",
       "      <td>1</td>\n",
       "    </tr>\n",
       "    <tr>\n",
       "      <th>406898</th>\n",
       "      <td>7328</td>\n",
       "      <td>5649</td>\n",
       "      <td>1</td>\n",
       "    </tr>\n",
       "    <tr>\n",
       "      <th>406907</th>\n",
       "      <td>8532</td>\n",
       "      <td>287</td>\n",
       "      <td>1</td>\n",
       "    </tr>\n",
       "  </tbody>\n",
       "</table>\n",
       "<p>40692 rows × 3 columns</p>\n",
       "</div>"
      ],
      "text/plain": [
       "        user_id  item_id  data\n",
       "21         4185     1356     1\n",
       "41        12582     1571     1\n",
       "49         7155    12438     1\n",
       "59        11180     2667     1\n",
       "60        10504      587     1\n",
       "...         ...      ...   ...\n",
       "406872      566     8252     1\n",
       "406876    10986     1116     1\n",
       "406879     7028     3620     1\n",
       "406898     7328     5649     1\n",
       "406907     8532      287     1\n",
       "\n",
       "[40692 rows x 3 columns]"
      ]
     },
     "execution_count": 27,
     "metadata": {},
     "output_type": "execute_result"
    }
   ],
   "source": [
    "df_vals[0]"
   ]
  },
  {
   "cell_type": "code",
   "execution_count": 28,
   "metadata": {},
   "outputs": [],
   "source": [
    "URM_trains = []\n",
    "URM_validations = []\n",
    "\n",
    "\n",
    "for i in range(n_fold):\n",
    "    URM_trains.append(sps.coo_matrix(\n",
    "    (df_trains[i][\"data\"].values,\n",
    "    (df_trains[i][\"user_id\"].values, df_trains[i][\"item_id\"].values))\n",
    ").tocsr())\n",
    "    \n",
    "    \n",
    "    URM_validations.append(sps.coo_matrix(\n",
    "    (df_vals[i][\"data\"].values,\n",
    "    (df_vals[i][\"user_id\"].values, df_vals[i][\"item_id\"].values))\n",
    ").tocsr())"
   ]
  },
  {
   "cell_type": "code",
   "execution_count": 29,
   "metadata": {},
   "outputs": [
    {
     "data": {
      "text/plain": [
       "<12638x22222 sparse matrix of type '<class 'numpy.intc'>'\n",
       "\twith 366228 stored elements in Compressed Sparse Row format>"
      ]
     },
     "execution_count": 29,
     "metadata": {},
     "output_type": "execute_result"
    }
   ],
   "source": [
    "URM_trains[0]"
   ]
  },
  {
   "cell_type": "code",
   "execution_count": 31,
   "metadata": {},
   "outputs": [],
   "source": [
    "URM_train_validation = sps.csr_matrix((ratings_training_validation, (user_ids_training_validation, item_ids_training_validation)),\n",
    "                           shape = (n_users, n_items))\n",
    "\n",
    "URM_test = sps.csr_matrix((ratings_test, (user_ids_test, item_ids_test)),\n",
    "                           shape = (n_users, n_items))"
   ]
  },
  {
   "cell_type": "code",
   "execution_count": 32,
   "metadata": {
    "scrolled": true
   },
   "outputs": [
    {
     "name": "stdout",
     "output_type": "stream",
     "text": [
      "EvaluatorHoldout: Ignoring 2748 (21.7%) Users that have less than 1 test interactions\n",
      "EvaluatorHoldout: Ignoring 4027 (31.9%) Users that have less than 1 test interactions\n",
      "EvaluatorHoldout: Ignoring 4027 (31.9%) Users that have less than 1 test interactions\n",
      "EvaluatorHoldout: Ignoring 4004 (31.7%) Users that have less than 1 test interactions\n",
      "EvaluatorHoldout: Ignoring 3973 (31.4%) Users that have less than 1 test interactions\n",
      "EvaluatorHoldout: Ignoring 4053 (32.1%) Users that have less than 1 test interactions\n",
      "EvaluatorHoldout: Ignoring 3995 (31.6%) Users that have less than 1 test interactions\n",
      "EvaluatorHoldout: Ignoring 4032 (31.9%) Users that have less than 1 test interactions\n",
      "EvaluatorHoldout: Ignoring 4015 (31.8%) Users that have less than 1 test interactions\n",
      "EvaluatorHoldout: Ignoring 3983 (31.5%) Users that have less than 1 test interactions\n",
      "EvaluatorHoldout: Ignoring 4030 (31.9%) Users that have less than 1 test interactions\n"
     ]
    }
   ],
   "source": [
    "from Evaluation.Evaluator import EvaluatorHoldout\n",
    "evaluator_vals = []\n",
    "evaluator_test = EvaluatorHoldout(URM_test, cutoff_list=[10])\n",
    "\n",
    "for i in range(n_fold):\n",
    "    evaluator_vals.append(EvaluatorHoldout(URM_validations[i], cutoff_list=[10]))"
   ]
  },
  {
   "cell_type": "code",
   "execution_count": 33,
   "metadata": {},
   "outputs": [],
   "source": [
    "from Recommenders.SLIM.SLIMElasticNetRecommender import MultiThreadSLIM_SLIMElasticNetRecommender"
   ]
  },
  {
   "cell_type": "code",
   "execution_count": 34,
   "metadata": {
    "scrolled": true
   },
   "outputs": [
    {
     "name": "stdout",
     "output_type": "stream",
     "text": [
      "SLIMElasticNetRecommender: URM Detected 262 ( 2.1%) users with no interactions.\n",
      "SLIMElasticNetRecommender: URM Detected 148 ( 0.7%) items with no interactions.\n"
     ]
    },
    {
     "name": "stderr",
     "output_type": "stream",
     "text": [
      "100%|██████████████████████████████████████████████████████████████████████████▉| 22216/22222 [03:17<00:00, 112.21it/s]\n"
     ]
    },
    {
     "name": "stdout",
     "output_type": "stream",
     "text": [
      "SLIMElasticNetRecommender: URM Detected 256 ( 2.0%) users with no interactions.\n",
      "SLIMElasticNetRecommender: URM Detected 139 ( 0.6%) items with no interactions.\n"
     ]
    },
    {
     "name": "stderr",
     "output_type": "stream",
     "text": [
      "100%|██████████████████████████████████████████████████████████████████████████▉| 22216/22222 [03:07<00:00, 118.33it/s]\n"
     ]
    },
    {
     "name": "stdout",
     "output_type": "stream",
     "text": [
      "SLIMElasticNetRecommender: URM Detected 261 ( 2.1%) users with no interactions.\n",
      "SLIMElasticNetRecommender: URM Detected 158 ( 0.7%) items with no interactions.\n"
     ]
    },
    {
     "name": "stderr",
     "output_type": "stream",
     "text": [
      "100%|██████████████████████████████████████████████████████████████████████████▉| 22216/22222 [03:20<00:00, 111.08it/s]\n"
     ]
    },
    {
     "name": "stdout",
     "output_type": "stream",
     "text": [
      "SLIMElasticNetRecommender: URM Detected 265 ( 2.1%) users with no interactions.\n",
      "SLIMElasticNetRecommender: URM Detected 148 ( 0.7%) items with no interactions.\n"
     ]
    },
    {
     "name": "stderr",
     "output_type": "stream",
     "text": [
      "100%|██████████████████████████████████████████████████████████████████████████▉| 22216/22221 [03:09<00:00, 117.44it/s]\n"
     ]
    },
    {
     "name": "stdout",
     "output_type": "stream",
     "text": [
      "SLIMElasticNetRecommender: URM Detected 273 ( 2.2%) users with no interactions.\n",
      "SLIMElasticNetRecommender: URM Detected 147 ( 0.7%) items with no interactions.\n"
     ]
    },
    {
     "name": "stderr",
     "output_type": "stream",
     "text": [
      "100%|██████████████████████████████████████████████████████████████████████████▉| 22216/22222 [02:24<00:00, 153.28it/s]\n"
     ]
    },
    {
     "name": "stdout",
     "output_type": "stream",
     "text": [
      "SLIMElasticNetRecommender: URM Detected 254 ( 2.0%) users with no interactions.\n",
      "SLIMElasticNetRecommender: URM Detected 155 ( 0.7%) items with no interactions.\n"
     ]
    },
    {
     "name": "stderr",
     "output_type": "stream",
     "text": [
      "100%|██████████████████████████████████████████████████████████████████████████▉| 22216/22222 [02:45<00:00, 134.32it/s]\n"
     ]
    },
    {
     "name": "stdout",
     "output_type": "stream",
     "text": [
      "SLIMElasticNetRecommender: URM Detected 253 ( 2.0%) users with no interactions.\n",
      "SLIMElasticNetRecommender: URM Detected 145 ( 0.7%) items with no interactions.\n"
     ]
    },
    {
     "name": "stderr",
     "output_type": "stream",
     "text": [
      "100%|██████████████████████████████████████████████████████████████████████████▉| 22216/22222 [02:06<00:00, 175.58it/s]\n"
     ]
    },
    {
     "name": "stdout",
     "output_type": "stream",
     "text": [
      "SLIMElasticNetRecommender: URM Detected 249 ( 2.0%) users with no interactions.\n",
      "SLIMElasticNetRecommender: URM Detected 140 ( 0.6%) items with no interactions.\n"
     ]
    },
    {
     "name": "stderr",
     "output_type": "stream",
     "text": [
      "100%|██████████████████████████████████████████████████████████████████████████▉| 22216/22222 [02:07<00:00, 174.12it/s]\n"
     ]
    },
    {
     "name": "stdout",
     "output_type": "stream",
     "text": [
      "SLIMElasticNetRecommender: URM Detected 256 ( 2.0%) users with no interactions.\n",
      "SLIMElasticNetRecommender: URM Detected 151 ( 0.7%) items with no interactions.\n"
     ]
    },
    {
     "name": "stderr",
     "output_type": "stream",
     "text": [
      "100%|██████████████████████████████████████████████████████████████████████████▉| 22216/22222 [02:42<00:00, 136.59it/s]\n"
     ]
    },
    {
     "name": "stdout",
     "output_type": "stream",
     "text": [
      "SLIMElasticNetRecommender: URM Detected 248 ( 2.0%) users with no interactions.\n",
      "SLIMElasticNetRecommender: URM Detected 161 ( 0.7%) items with no interactions.\n"
     ]
    },
    {
     "name": "stderr",
     "output_type": "stream",
     "text": [
      "100%|██████████████████████████████████████████████████████████████████████████▉| 22216/22222 [02:42<00:00, 136.45it/s]\n"
     ]
    }
   ],
   "source": [
    "slime_trains = []\n",
    "\n",
    "for i in range(n_fold):\n",
    "    slime = MultiThreadSLIM_SLIMElasticNetRecommender(URM_trains[i])\n",
    "    slime.fit(topK=692, alpha=0.000722, l1_ratio=0.0702)\n",
    "    slime_trains.append(slime)"
   ]
  },
  {
   "cell_type": "code",
   "execution_count": 35,
   "metadata": {},
   "outputs": [
    {
     "name": "stdout",
     "output_type": "stream",
     "text": [
      "SLIMElasticNetRecommender: URM Detected 149 ( 1.2%) users with no interactions.\n",
      "SLIMElasticNetRecommender: URM Detected 75 ( 0.3%) items with no interactions.\n"
     ]
    },
    {
     "name": "stderr",
     "output_type": "stream",
     "text": [
      "100%|██████████████████████████████████████████████████████████████████████████▉| 22216/22222 [02:09<00:00, 171.64it/s]\n"
     ]
    }
   ],
   "source": [
    "slime_train_val = MultiThreadSLIM_SLIMElasticNetRecommender(URM_train_validation)\n",
    "slime_train_val.fit(l1_ratio=0.0702, alpha=0.000722, topK=692)"
   ]
  },
  {
   "cell_type": "code",
   "execution_count": 36,
   "metadata": {},
   "outputs": [],
   "source": [
    "from Recommenders.KNN.ItemKNNSimilarityHybridRecommender import ItemKNNSimilarityHybridRecommender\n",
    "from Recommenders.Similarity.Compute_Similarity import Compute_Similarity"
   ]
  },
  {
   "cell_type": "code",
   "execution_count": 37,
   "metadata": {
    "scrolled": true
   },
   "outputs": [
    {
     "name": "stdout",
     "output_type": "stream",
     "text": [
      "Similarity column 22222 (100.0%), 11866.48 column/sec. Elapsed time 1.87 sec\n",
      "Similarity column 22222 (100.0%), 11742.03 column/sec. Elapsed time 1.89 sec\n",
      "ItemKNNSimilarityHybridRecommender: URM Detected 262 ( 2.1%) users with no interactions.\n",
      "ItemKNNSimilarityHybridRecommender: URM Detected 148 ( 0.7%) items with no interactions.\n",
      "Similarity column 22222 (100.0%), 11849.94 column/sec. Elapsed time 1.88 sec\n",
      "Similarity column 22222 (100.0%), 11907.49 column/sec. Elapsed time 1.87 sec\n",
      "ItemKNNSimilarityHybridRecommender: URM Detected 256 ( 2.0%) users with no interactions.\n",
      "ItemKNNSimilarityHybridRecommender: URM Detected 139 ( 0.6%) items with no interactions.\n",
      "Similarity column 22222 (100.0%), 11884.80 column/sec. Elapsed time 1.87 sec\n",
      "Similarity column 22222 (100.0%), 11875.17 column/sec. Elapsed time 1.87 sec\n",
      "ItemKNNSimilarityHybridRecommender: URM Detected 261 ( 2.1%) users with no interactions.\n",
      "ItemKNNSimilarityHybridRecommender: URM Detected 158 ( 0.7%) items with no interactions.\n",
      "Similarity column 22221 (100.0%), 11989.99 column/sec. Elapsed time 1.85 sec\n",
      "Similarity column 22221 (100.0%), 11870.61 column/sec. Elapsed time 1.87 sec\n",
      "ItemKNNSimilarityHybridRecommender: URM Detected 265 ( 2.1%) users with no interactions.\n",
      "ItemKNNSimilarityHybridRecommender: URM Detected 148 ( 0.7%) items with no interactions.\n",
      "Similarity column 22222 (100.0%), 12009.66 column/sec. Elapsed time 1.85 sec\n",
      "Similarity column 22222 (100.0%), 11950.56 column/sec. Elapsed time 1.86 sec\n",
      "ItemKNNSimilarityHybridRecommender: URM Detected 273 ( 2.2%) users with no interactions.\n",
      "ItemKNNSimilarityHybridRecommender: URM Detected 147 ( 0.7%) items with no interactions.\n",
      "Similarity column 22222 (100.0%), 11964.68 column/sec. Elapsed time 1.86 sec\n",
      "Similarity column 22222 (100.0%), 11951.47 column/sec. Elapsed time 1.86 sec\n",
      "ItemKNNSimilarityHybridRecommender: URM Detected 254 ( 2.0%) users with no interactions.\n",
      "ItemKNNSimilarityHybridRecommender: URM Detected 155 ( 0.7%) items with no interactions.\n",
      "Similarity column 22222 (100.0%), 11994.84 column/sec. Elapsed time 1.85 sec\n",
      "Similarity column 22222 (100.0%), 11792.39 column/sec. Elapsed time 1.88 sec\n",
      "ItemKNNSimilarityHybridRecommender: URM Detected 253 ( 2.0%) users with no interactions.\n",
      "ItemKNNSimilarityHybridRecommender: URM Detected 145 ( 0.7%) items with no interactions.\n",
      "Similarity column 22222 (100.0%), 12027.45 column/sec. Elapsed time 1.85 sec\n",
      "Similarity column 22222 (100.0%), 11959.36 column/sec. Elapsed time 1.86 sec\n",
      "ItemKNNSimilarityHybridRecommender: URM Detected 249 ( 2.0%) users with no interactions.\n",
      "ItemKNNSimilarityHybridRecommender: URM Detected 140 ( 0.6%) items with no interactions.\n",
      "Similarity column 22222 (100.0%), 11973.17 column/sec. Elapsed time 1.86 sec\n",
      "Similarity column 22222 (100.0%), 11983.81 column/sec. Elapsed time 1.85 sec\n",
      "ItemKNNSimilarityHybridRecommender: URM Detected 256 ( 2.0%) users with no interactions.\n",
      "ItemKNNSimilarityHybridRecommender: URM Detected 151 ( 0.7%) items with no interactions.\n",
      "Similarity column 22222 (100.0%), 11996.88 column/sec. Elapsed time 1.85 sec\n",
      "Similarity column 22222 (100.0%), 11947.23 column/sec. Elapsed time 1.86 sec\n",
      "ItemKNNSimilarityHybridRecommender: URM Detected 248 ( 2.0%) users with no interactions.\n",
      "ItemKNNSimilarityHybridRecommender: URM Detected 161 ( 0.7%) items with no interactions.\n"
     ]
    }
   ],
   "source": [
    "itemhybrid_trains = []\n",
    "\n",
    "for i in range(n_fold):\n",
    "    sim1 = Compute_Similarity(URM_trains[i], shrink = 0, topK = 5, similarity = \"cosine\").compute_similarity()\n",
    "    sim2 = Compute_Similarity(URM_trains[i], shrink = 0.5, topK = 65, similarity = \"cosine\").compute_similarity()\n",
    "\n",
    "    itemhybrid = ItemKNNSimilarityHybridRecommender(URM_trains[i], sim1, sim2)\n",
    "    itemhybrid.fit(topK = 70, alpha = 0.65)\n",
    "    itemhybrid_trains.append(itemhybrid)"
   ]
  },
  {
   "cell_type": "code",
   "execution_count": 38,
   "metadata": {},
   "outputs": [
    {
     "name": "stdout",
     "output_type": "stream",
     "text": [
      "Similarity column 22222 (100.0%), 11398.18 column/sec. Elapsed time 1.95 sec\n",
      "Similarity column 22222 (100.0%), 11352.27 column/sec. Elapsed time 1.96 sec\n",
      "ItemKNNSimilarityHybridRecommender: URM Detected 149 ( 1.2%) users with no interactions.\n",
      "ItemKNNSimilarityHybridRecommender: URM Detected 75 ( 0.3%) items with no interactions.\n"
     ]
    }
   ],
   "source": [
    "sim1_val = Compute_Similarity(URM_train_validation, shrink = 0, topK = 5, similarity = 'cosine').compute_similarity()\n",
    "sim2_val = Compute_Similarity(URM_train_validation, shrink = 0.5, topK = 65, similarity = 'cosine').compute_similarity()\n",
    "itemhybrid_train_val = ItemKNNSimilarityHybridRecommender(URM_train_validation, sim1_val, sim2_val)\n",
    "itemhybrid_train_val.fit(topK = 70, alpha = 0.65)"
   ]
  },
  {
   "cell_type": "code",
   "execution_count": 39,
   "metadata": {},
   "outputs": [],
   "source": [
    "from Recommenders.GraphBased.RP3betaRecommender import RP3betaRecommender"
   ]
  },
  {
   "cell_type": "code",
   "execution_count": 40,
   "metadata": {
    "scrolled": true
   },
   "outputs": [
    {
     "name": "stdout",
     "output_type": "stream",
     "text": [
      "RP3betaRecommender: URM Detected 262 ( 2.1%) users with no interactions.\n",
      "RP3betaRecommender: URM Detected 148 ( 0.7%) items with no interactions.\n",
      "RP3betaRecommender: Similarity column 22222 (100.0%), 6807.82 column/sec. Elapsed time 3.26 sec\n",
      "RP3betaRecommender: URM Detected 256 ( 2.0%) users with no interactions.\n",
      "RP3betaRecommender: URM Detected 139 ( 0.6%) items with no interactions.\n",
      "RP3betaRecommender: Similarity column 22222 (100.0%), 6784.18 column/sec. Elapsed time 3.28 sec\n",
      "RP3betaRecommender: URM Detected 261 ( 2.1%) users with no interactions.\n",
      "RP3betaRecommender: URM Detected 158 ( 0.7%) items with no interactions.\n",
      "RP3betaRecommender: Similarity column 22222 (100.0%), 6748.53 column/sec. Elapsed time 3.29 sec\n",
      "RP3betaRecommender: URM Detected 265 ( 2.1%) users with no interactions.\n",
      "RP3betaRecommender: URM Detected 148 ( 0.7%) items with no interactions.\n",
      "RP3betaRecommender: Similarity column 22221 (100.0%), 6885.37 column/sec. Elapsed time 3.23 sec\n",
      "RP3betaRecommender: URM Detected 273 ( 2.2%) users with no interactions.\n",
      "RP3betaRecommender: URM Detected 147 ( 0.7%) items with no interactions.\n",
      "RP3betaRecommender: Similarity column 22222 (100.0%), 6784.29 column/sec. Elapsed time 3.28 sec\n",
      "RP3betaRecommender: URM Detected 254 ( 2.0%) users with no interactions.\n",
      "RP3betaRecommender: URM Detected 155 ( 0.7%) items with no interactions.\n",
      "RP3betaRecommender: Similarity column 22222 (100.0%), 6839.76 column/sec. Elapsed time 3.25 sec\n",
      "RP3betaRecommender: URM Detected 253 ( 2.0%) users with no interactions.\n",
      "RP3betaRecommender: URM Detected 145 ( 0.7%) items with no interactions.\n",
      "RP3betaRecommender: Similarity column 22222 (100.0%), 6871.02 column/sec. Elapsed time 3.23 sec\n",
      "RP3betaRecommender: URM Detected 249 ( 2.0%) users with no interactions.\n",
      "RP3betaRecommender: URM Detected 140 ( 0.6%) items with no interactions.\n",
      "RP3betaRecommender: Similarity column 22222 (100.0%), 6800.10 column/sec. Elapsed time 3.27 sec\n",
      "RP3betaRecommender: URM Detected 256 ( 2.0%) users with no interactions.\n",
      "RP3betaRecommender: URM Detected 151 ( 0.7%) items with no interactions.\n",
      "RP3betaRecommender: Similarity column 22222 (100.0%), 6871.39 column/sec. Elapsed time 3.23 sec\n",
      "RP3betaRecommender: URM Detected 248 ( 2.0%) users with no interactions.\n",
      "RP3betaRecommender: URM Detected 161 ( 0.7%) items with no interactions.\n",
      "RP3betaRecommender: Similarity column 22222 (100.0%), 6807.80 column/sec. Elapsed time 3.26 sec\n"
     ]
    }
   ],
   "source": [
    "rp3beta_trains = []\n",
    "\n",
    "for i in range(n_fold):\n",
    "    rp3beta = RP3betaRecommender(URM_trains[i])\n",
    "    rp3beta.fit(topK=25, alpha=0.253519, beta=0.209538, implicit=True,\n",
    "               normalize_similarity=True)\n",
    "    rp3beta_trains.append(rp3beta)"
   ]
  },
  {
   "cell_type": "code",
   "execution_count": 41,
   "metadata": {},
   "outputs": [
    {
     "name": "stdout",
     "output_type": "stream",
     "text": [
      "RP3betaRecommender: URM Detected 149 ( 1.2%) users with no interactions.\n",
      "RP3betaRecommender: URM Detected 75 ( 0.3%) items with no interactions.\n",
      "RP3betaRecommender: Similarity column 22222 (100.0%), 6538.28 column/sec. Elapsed time 3.40 sec\n"
     ]
    }
   ],
   "source": [
    "rp3beta_train_val = RP3betaRecommender(URM_train_validation)\n",
    "rp3beta_train_val.fit(topK=25, alpha=0.253519, beta=0.209538, implicit=True, normalize_similarity=True)"
   ]
  },
  {
   "cell_type": "code",
   "execution_count": 42,
   "metadata": {},
   "outputs": [],
   "source": [
    "from Recommenders.GeneralScoresHybridRecommender import GeneralScoresHybridRecommender"
   ]
  },
  {
   "cell_type": "code",
   "execution_count": 43,
   "metadata": {
    "scrolled": true
   },
   "outputs": [
    {
     "name": "stdout",
     "output_type": "stream",
     "text": [
      "GeneralScoresHybridRecommender: URM Detected 262 ( 2.1%) users with no interactions.\n",
      "GeneralScoresHybridRecommender: URM Detected 148 ( 0.7%) items with no interactions.\n",
      "GeneralScoresHybridRecommender: URM Detected 256 ( 2.0%) users with no interactions.\n",
      "GeneralScoresHybridRecommender: URM Detected 139 ( 0.6%) items with no interactions.\n",
      "GeneralScoresHybridRecommender: URM Detected 261 ( 2.1%) users with no interactions.\n",
      "GeneralScoresHybridRecommender: URM Detected 158 ( 0.7%) items with no interactions.\n",
      "GeneralScoresHybridRecommender: URM Detected 265 ( 2.1%) users with no interactions.\n",
      "GeneralScoresHybridRecommender: URM Detected 148 ( 0.7%) items with no interactions.\n",
      "GeneralScoresHybridRecommender: URM Detected 273 ( 2.2%) users with no interactions.\n",
      "GeneralScoresHybridRecommender: URM Detected 147 ( 0.7%) items with no interactions.\n",
      "GeneralScoresHybridRecommender: URM Detected 254 ( 2.0%) users with no interactions.\n",
      "GeneralScoresHybridRecommender: URM Detected 155 ( 0.7%) items with no interactions.\n",
      "GeneralScoresHybridRecommender: URM Detected 253 ( 2.0%) users with no interactions.\n",
      "GeneralScoresHybridRecommender: URM Detected 145 ( 0.7%) items with no interactions.\n",
      "GeneralScoresHybridRecommender: URM Detected 249 ( 2.0%) users with no interactions.\n",
      "GeneralScoresHybridRecommender: URM Detected 140 ( 0.6%) items with no interactions.\n",
      "GeneralScoresHybridRecommender: URM Detected 256 ( 2.0%) users with no interactions.\n",
      "GeneralScoresHybridRecommender: URM Detected 151 ( 0.7%) items with no interactions.\n",
      "GeneralScoresHybridRecommender: URM Detected 248 ( 2.0%) users with no interactions.\n",
      "GeneralScoresHybridRecommender: URM Detected 161 ( 0.7%) items with no interactions.\n"
     ]
    }
   ],
   "source": [
    "recommender_trains = []\n",
    "\n",
    "for i in range(n_fold):\n",
    "    general = GeneralScoresHybridRecommender(\n",
    "        URM_trains[i], \n",
    "        [slime_trains[i], rp3beta_trains[i], itemhybrid_trains[i]])\n",
    "    general.fit([0.7, 0.25, 0.05])\n",
    "    \n",
    "    recommender_trains.append(general)"
   ]
  },
  {
   "cell_type": "code",
   "execution_count": 44,
   "metadata": {},
   "outputs": [
    {
     "name": "stdout",
     "output_type": "stream",
     "text": [
      "GeneralScoresHybridRecommender: URM Detected 149 ( 1.2%) users with no interactions.\n",
      "GeneralScoresHybridRecommender: URM Detected 75 ( 0.3%) items with no interactions.\n"
     ]
    }
   ],
   "source": [
    "recommender_train_val = GeneralScoresHybridRecommender(URM_train_validation, [slime_train_val, rp3beta_train_val, itemhybrid_train_val])\n",
    "recommender_train_val.fit([0.7, 0.25, 0.05])"
   ]
  },
  {
   "cell_type": "code",
   "execution_count": null,
   "metadata": {},
   "outputs": [],
   "source": []
  },
  {
   "cell_type": "code",
   "execution_count": 45,
   "metadata": {},
   "outputs": [],
   "source": [
    "from Recommenders.KNN.ItemKNNCFRecommender import ItemKNNCFRecommender"
   ]
  },
  {
   "cell_type": "code",
   "execution_count": 46,
   "metadata": {
    "scrolled": true
   },
   "outputs": [
    {
     "name": "stdout",
     "output_type": "stream",
     "text": [
      "ItemKNNCFRecommender: URM Detected 262 ( 2.1%) users with no interactions.\n",
      "ItemKNNCFRecommender: URM Detected 148 ( 0.7%) items with no interactions.\n",
      "Similarity column 22222 (100.0%), 12194.39 column/sec. Elapsed time 1.82 sec\n",
      "ItemKNNCFRecommender: URM Detected 256 ( 2.0%) users with no interactions.\n",
      "ItemKNNCFRecommender: URM Detected 139 ( 0.6%) items with no interactions.\n",
      "Similarity column 22222 (100.0%), 12157.01 column/sec. Elapsed time 1.83 sec\n",
      "ItemKNNCFRecommender: URM Detected 261 ( 2.1%) users with no interactions.\n",
      "ItemKNNCFRecommender: URM Detected 158 ( 0.7%) items with no interactions.\n",
      "Similarity column 22222 (100.0%), 12209.75 column/sec. Elapsed time 1.82 sec\n",
      "ItemKNNCFRecommender: URM Detected 265 ( 2.1%) users with no interactions.\n",
      "ItemKNNCFRecommender: URM Detected 148 ( 0.7%) items with no interactions.\n",
      "Similarity column 22221 (100.0%), 12220.73 column/sec. Elapsed time 1.82 sec\n",
      "ItemKNNCFRecommender: URM Detected 273 ( 2.2%) users with no interactions.\n",
      "ItemKNNCFRecommender: URM Detected 147 ( 0.7%) items with no interactions.\n",
      "Similarity column 22222 (100.0%), 12202.67 column/sec. Elapsed time 1.82 sec\n",
      "ItemKNNCFRecommender: URM Detected 254 ( 2.0%) users with no interactions.\n",
      "ItemKNNCFRecommender: URM Detected 155 ( 0.7%) items with no interactions.\n",
      "Similarity column 22222 (100.0%), 12223.25 column/sec. Elapsed time 1.82 sec\n",
      "ItemKNNCFRecommender: URM Detected 253 ( 2.0%) users with no interactions.\n",
      "ItemKNNCFRecommender: URM Detected 145 ( 0.7%) items with no interactions.\n",
      "Similarity column 22222 (100.0%), 12193.37 column/sec. Elapsed time 1.82 sec\n",
      "ItemKNNCFRecommender: URM Detected 249 ( 2.0%) users with no interactions.\n",
      "ItemKNNCFRecommender: URM Detected 140 ( 0.6%) items with no interactions.\n",
      "Similarity column 22222 (100.0%), 12174.84 column/sec. Elapsed time 1.83 sec\n",
      "ItemKNNCFRecommender: URM Detected 256 ( 2.0%) users with no interactions.\n",
      "ItemKNNCFRecommender: URM Detected 151 ( 0.7%) items with no interactions.\n",
      "Similarity column 22222 (100.0%), 12192.58 column/sec. Elapsed time 1.82 sec\n",
      "ItemKNNCFRecommender: URM Detected 248 ( 2.0%) users with no interactions.\n",
      "ItemKNNCFRecommender: URM Detected 161 ( 0.7%) items with no interactions.\n",
      "Similarity column 22222 (100.0%), 12246.81 column/sec. Elapsed time 1.81 sec\n"
     ]
    }
   ],
   "source": [
    "itemknncf_trains = []\n",
    "\n",
    "for i in range(n_fold):\n",
    "    itemknncf = ItemKNNCFRecommender(URM_trains[i])\n",
    "    itemknncf.fit(shrink=15.47563, topK=12, similarity='dice')\n",
    "\n",
    "    itemknncf_trains.append(itemknncf)"
   ]
  },
  {
   "cell_type": "code",
   "execution_count": 47,
   "metadata": {},
   "outputs": [
    {
     "name": "stdout",
     "output_type": "stream",
     "text": [
      "ItemKNNCFRecommender: URM Detected 149 ( 1.2%) users with no interactions.\n",
      "ItemKNNCFRecommender: URM Detected 75 ( 0.3%) items with no interactions.\n",
      "Similarity column 22222 (100.0%), 11580.57 column/sec. Elapsed time 1.92 sec\n"
     ]
    }
   ],
   "source": [
    "itemknncf_train_val = ItemKNNCFRecommender(URM_train_validation)\n",
    "itemknncf_train_val.fit(shrink=15.47563, topK=12, similarity='dice')"
   ]
  },
  {
   "cell_type": "code",
   "execution_count": 48,
   "metadata": {},
   "outputs": [],
   "source": [
    "from Recommenders.GraphBased.P3alphaRecommender import P3alphaRecommender"
   ]
  },
  {
   "cell_type": "code",
   "execution_count": 49,
   "metadata": {
    "scrolled": true
   },
   "outputs": [
    {
     "name": "stdout",
     "output_type": "stream",
     "text": [
      "P3alphaRecommender: URM Detected 262 ( 2.1%) users with no interactions.\n",
      "P3alphaRecommender: URM Detected 148 ( 0.7%) items with no interactions.\n",
      "P3alphaRecommender: Similarity column 22222 (100.0%), 7025.10 column/sec. Elapsed time 3.16 sec\n",
      "P3alphaRecommender: URM Detected 256 ( 2.0%) users with no interactions.\n",
      "P3alphaRecommender: URM Detected 139 ( 0.6%) items with no interactions.\n",
      "P3alphaRecommender: Similarity column 22222 (100.0%), 7062.97 column/sec. Elapsed time 3.15 sec\n",
      "P3alphaRecommender: URM Detected 261 ( 2.1%) users with no interactions.\n",
      "P3alphaRecommender: URM Detected 158 ( 0.7%) items with no interactions.\n",
      "P3alphaRecommender: Similarity column 22222 (100.0%), 7097.38 column/sec. Elapsed time 3.13 sec\n",
      "P3alphaRecommender: URM Detected 265 ( 2.1%) users with no interactions.\n",
      "P3alphaRecommender: URM Detected 148 ( 0.7%) items with no interactions.\n",
      "P3alphaRecommender: Similarity column 22221 (100.0%), 7124.16 column/sec. Elapsed time 3.12 sec\n",
      "P3alphaRecommender: URM Detected 273 ( 2.2%) users with no interactions.\n",
      "P3alphaRecommender: URM Detected 147 ( 0.7%) items with no interactions.\n",
      "P3alphaRecommender: Similarity column 22222 (100.0%), 7116.01 column/sec. Elapsed time 3.12 sec\n",
      "P3alphaRecommender: URM Detected 254 ( 2.0%) users with no interactions.\n",
      "P3alphaRecommender: URM Detected 155 ( 0.7%) items with no interactions.\n",
      "P3alphaRecommender: Similarity column 22222 (100.0%), 7092.16 column/sec. Elapsed time 3.13 sec\n",
      "P3alphaRecommender: URM Detected 253 ( 2.0%) users with no interactions.\n",
      "P3alphaRecommender: URM Detected 145 ( 0.7%) items with no interactions.\n",
      "P3alphaRecommender: Similarity column 22222 (100.0%), 6999.32 column/sec. Elapsed time 3.17 sec\n",
      "P3alphaRecommender: URM Detected 249 ( 2.0%) users with no interactions.\n",
      "P3alphaRecommender: URM Detected 140 ( 0.6%) items with no interactions.\n",
      "P3alphaRecommender: Similarity column 22222 (100.0%), 7009.65 column/sec. Elapsed time 3.17 sec\n",
      "P3alphaRecommender: URM Detected 256 ( 2.0%) users with no interactions.\n",
      "P3alphaRecommender: URM Detected 151 ( 0.7%) items with no interactions.\n",
      "P3alphaRecommender: Similarity column 22222 (100.0%), 7093.63 column/sec. Elapsed time 3.13 sec\n",
      "P3alphaRecommender: URM Detected 248 ( 2.0%) users with no interactions.\n",
      "P3alphaRecommender: URM Detected 161 ( 0.7%) items with no interactions.\n",
      "P3alphaRecommender: Similarity column 22222 (100.0%), 7152.70 column/sec. Elapsed time 3.11 sec\n"
     ]
    }
   ],
   "source": [
    "p3alpha_trains = []\n",
    "\n",
    "for i in range(n_fold):\n",
    "    p3alpha = P3alphaRecommender(URM_trains[i])\n",
    "    p3alpha.fit(topK=35, alpha=0.210046, implicit=True, normalize_similarity=True)\n",
    "    p3alpha_trains.append(p3alpha)"
   ]
  },
  {
   "cell_type": "code",
   "execution_count": 50,
   "metadata": {},
   "outputs": [
    {
     "name": "stdout",
     "output_type": "stream",
     "text": [
      "P3alphaRecommender: URM Detected 149 ( 1.2%) users with no interactions.\n",
      "P3alphaRecommender: URM Detected 75 ( 0.3%) items with no interactions.\n",
      "P3alphaRecommender: Similarity column 22222 (100.0%), 6704.87 column/sec. Elapsed time 3.31 sec\n"
     ]
    }
   ],
   "source": [
    "p3alpha_train_val = P3alphaRecommender(URM_train_validation)\n",
    "p3alpha_train_val.fit(topK=35, alpha=0.210046, implicit=True, normalize_similarity=True)"
   ]
  },
  {
   "cell_type": "code",
   "execution_count": 51,
   "metadata": {},
   "outputs": [],
   "source": [
    "from Recommenders.EASE_R.EASE_R_Recommender import EASE_R_Recommender"
   ]
  },
  {
   "cell_type": "code",
   "execution_count": 52,
   "metadata": {
    "scrolled": true
   },
   "outputs": [
    {
     "name": "stdout",
     "output_type": "stream",
     "text": [
      "EASE_R_Recommender: URM Detected 262 ( 2.1%) users with no interactions.\n",
      "EASE_R_Recommender: URM Detected 148 ( 0.7%) items with no interactions.\n",
      "EASE_R_Recommender: Fitting model... \n",
      "EASE_R_Recommender: Fitting model... done in 1.50 min\n",
      "EASE_R_Recommender: URM Detected 256 ( 2.0%) users with no interactions.\n",
      "EASE_R_Recommender: URM Detected 139 ( 0.6%) items with no interactions.\n",
      "EASE_R_Recommender: Fitting model... \n",
      "EASE_R_Recommender: Fitting model... done in 1.44 min\n",
      "EASE_R_Recommender: URM Detected 261 ( 2.1%) users with no interactions.\n",
      "EASE_R_Recommender: URM Detected 158 ( 0.7%) items with no interactions.\n",
      "EASE_R_Recommender: Fitting model... \n",
      "EASE_R_Recommender: Fitting model... done in 1.48 min\n",
      "EASE_R_Recommender: URM Detected 265 ( 2.1%) users with no interactions.\n",
      "EASE_R_Recommender: URM Detected 148 ( 0.7%) items with no interactions.\n",
      "EASE_R_Recommender: Fitting model... \n",
      "EASE_R_Recommender: Fitting model... done in 1.48 min\n",
      "EASE_R_Recommender: URM Detected 273 ( 2.2%) users with no interactions.\n",
      "EASE_R_Recommender: URM Detected 147 ( 0.7%) items with no interactions.\n",
      "EASE_R_Recommender: Fitting model... \n",
      "EASE_R_Recommender: Fitting model... done in 1.47 min\n",
      "EASE_R_Recommender: URM Detected 254 ( 2.0%) users with no interactions.\n",
      "EASE_R_Recommender: URM Detected 155 ( 0.7%) items with no interactions.\n",
      "EASE_R_Recommender: Fitting model... \n",
      "EASE_R_Recommender: Fitting model... done in 1.48 min\n",
      "EASE_R_Recommender: URM Detected 253 ( 2.0%) users with no interactions.\n",
      "EASE_R_Recommender: URM Detected 145 ( 0.7%) items with no interactions.\n",
      "EASE_R_Recommender: Fitting model... \n",
      "EASE_R_Recommender: Fitting model... done in 1.55 min\n",
      "EASE_R_Recommender: URM Detected 249 ( 2.0%) users with no interactions.\n",
      "EASE_R_Recommender: URM Detected 140 ( 0.6%) items with no interactions.\n",
      "EASE_R_Recommender: Fitting model... \n",
      "EASE_R_Recommender: Fitting model... done in 1.50 min\n",
      "EASE_R_Recommender: URM Detected 256 ( 2.0%) users with no interactions.\n",
      "EASE_R_Recommender: URM Detected 151 ( 0.7%) items with no interactions.\n",
      "EASE_R_Recommender: Fitting model... \n",
      "EASE_R_Recommender: Fitting model... done in 1.47 min\n",
      "EASE_R_Recommender: URM Detected 248 ( 2.0%) users with no interactions.\n",
      "EASE_R_Recommender: URM Detected 161 ( 0.7%) items with no interactions.\n",
      "EASE_R_Recommender: Fitting model... \n",
      "EASE_R_Recommender: Fitting model... done in 1.41 min\n"
     ]
    }
   ],
   "source": [
    "ease_trains = []\n",
    "\n",
    "for i in range(n_fold):\n",
    "    ease = EASE_R_Recommender(URM_trains[i])\n",
    "    ease.fit(topK=29, l2_norm=19)\n",
    "    ease_trains.append(ease)"
   ]
  },
  {
   "cell_type": "code",
   "execution_count": 53,
   "metadata": {},
   "outputs": [
    {
     "name": "stdout",
     "output_type": "stream",
     "text": [
      "EASE_R_Recommender: URM Detected 149 ( 1.2%) users with no interactions.\n",
      "EASE_R_Recommender: URM Detected 75 ( 0.3%) items with no interactions.\n",
      "EASE_R_Recommender: Fitting model... \n",
      "EASE_R_Recommender: Fitting model... done in 1.41 min\n"
     ]
    }
   ],
   "source": [
    "ease_train_val = EASE_R_Recommender(URM_train_validation)\n",
    "ease_train_val.fit(topK=29, l2_norm=19)"
   ]
  },
  {
   "cell_type": "code",
   "execution_count": 55,
   "metadata": {},
   "outputs": [],
   "source": [
    "from Recommenders.KNN.UserKNNCFRecommender import UserKNNCFRecommender"
   ]
  },
  {
   "cell_type": "code",
   "execution_count": 56,
   "metadata": {
    "scrolled": true
   },
   "outputs": [
    {
     "name": "stdout",
     "output_type": "stream",
     "text": [
      "UserKNNCFRecommender: URM Detected 262 ( 2.1%) users with no interactions.\n",
      "UserKNNCFRecommender: URM Detected 148 ( 0.7%) items with no interactions.\n",
      "Similarity column 12638 (100.0%), 9531.90 column/sec. Elapsed time 1.33 sec\n",
      "UserKNNCFRecommender: URM Detected 256 ( 2.0%) users with no interactions.\n",
      "UserKNNCFRecommender: URM Detected 139 ( 0.6%) items with no interactions.\n",
      "Similarity column 12638 (100.0%), 11507.63 column/sec. Elapsed time 1.10 sec\n",
      "UserKNNCFRecommender: URM Detected 261 ( 2.1%) users with no interactions.\n",
      "UserKNNCFRecommender: URM Detected 158 ( 0.7%) items with no interactions.\n",
      "Similarity column 12638 (100.0%), 11496.41 column/sec. Elapsed time 1.10 sec\n",
      "UserKNNCFRecommender: URM Detected 265 ( 2.1%) users with no interactions.\n",
      "UserKNNCFRecommender: URM Detected 148 ( 0.7%) items with no interactions.\n",
      "Similarity column 12638 (100.0%), 11413.39 column/sec. Elapsed time 1.11 sec\n",
      "UserKNNCFRecommender: URM Detected 273 ( 2.2%) users with no interactions.\n",
      "UserKNNCFRecommender: URM Detected 147 ( 0.7%) items with no interactions.\n",
      "Similarity column 12638 (100.0%), 11479.57 column/sec. Elapsed time 1.10 sec\n",
      "UserKNNCFRecommender: URM Detected 254 ( 2.0%) users with no interactions.\n",
      "UserKNNCFRecommender: URM Detected 155 ( 0.7%) items with no interactions.\n",
      "Similarity column 12638 (100.0%), 11250.84 column/sec. Elapsed time 1.12 sec\n",
      "UserKNNCFRecommender: URM Detected 253 ( 2.0%) users with no interactions.\n",
      "UserKNNCFRecommender: URM Detected 145 ( 0.7%) items with no interactions.\n",
      "Similarity column 12638 (100.0%), 11506.39 column/sec. Elapsed time 1.10 sec\n",
      "UserKNNCFRecommender: URM Detected 249 ( 2.0%) users with no interactions.\n",
      "UserKNNCFRecommender: URM Detected 140 ( 0.6%) items with no interactions.\n",
      "Similarity column 12638 (100.0%), 11524.20 column/sec. Elapsed time 1.10 sec\n",
      "UserKNNCFRecommender: URM Detected 256 ( 2.0%) users with no interactions.\n",
      "UserKNNCFRecommender: URM Detected 151 ( 0.7%) items with no interactions.\n",
      "Similarity column 12638 (100.0%), 11510.91 column/sec. Elapsed time 1.10 sec\n",
      "UserKNNCFRecommender: URM Detected 248 ( 2.0%) users with no interactions.\n",
      "UserKNNCFRecommender: URM Detected 161 ( 0.7%) items with no interactions.\n",
      "Similarity column 12638 (100.0%), 11383.14 column/sec. Elapsed time 1.11 sec\n"
     ]
    }
   ],
   "source": [
    "userknncf_trains = []\n",
    "\n",
    "for i in range(n_fold):\n",
    "    userknncf = UserKNNCFRecommender(URM_trains[i])\n",
    "    userknncf.fit(shrink=1.432797, topK=329, feature_weighting=\"TF-IDF\")\n",
    "    userknncf_trains.append(userknncf)"
   ]
  },
  {
   "cell_type": "code",
   "execution_count": 57,
   "metadata": {},
   "outputs": [
    {
     "name": "stdout",
     "output_type": "stream",
     "text": [
      "UserKNNCFRecommender: URM Detected 149 ( 1.2%) users with no interactions.\n",
      "UserKNNCFRecommender: URM Detected 75 ( 0.3%) items with no interactions.\n",
      "Similarity column 12638 (100.0%), 10603.29 column/sec. Elapsed time 1.19 sec\n"
     ]
    }
   ],
   "source": [
    "userknncf_train_val = UserKNNCFRecommender(URM_train_validation)\n",
    "userknncf_train_val.fit(shrink=1.432797, topK=329, feature_weighting=\"TF-IDF\")"
   ]
  },
  {
   "cell_type": "code",
   "execution_count": null,
   "metadata": {},
   "outputs": [],
   "source": []
  },
  {
   "cell_type": "code",
   "execution_count": 61,
   "metadata": {},
   "outputs": [
    {
     "name": "stdout",
     "output_type": "stream",
     "text": [
      "EvaluatorHoldout: Processed 9890 (100.0%) in 7.23 sec. Users per second: 1368\n"
     ]
    },
    {
     "data": {
      "text/plain": [
       "(       PRECISION PRECISION_RECALL_MIN_DEN   RECALL       MAP MAP_MIN_DEN  \\\n",
       " cutoff                                                                     \n",
       " 10      0.082629                  0.16539  0.14844  0.041089    0.082192   \n",
       " \n",
       "              MRR      NDCG        F1  HIT_RATE ARHR_ALL_HITS  ...  \\\n",
       " cutoff                                                        ...   \n",
       " 10      0.247575  0.144129  0.106163  0.489181      0.315889  ...   \n",
       " \n",
       "        COVERAGE_USER COVERAGE_USER_HIT USERS_IN_GT DIVERSITY_GINI  \\\n",
       " cutoff                                                              \n",
       " 10          0.782561          0.382814    0.782561        0.08911   \n",
       " \n",
       "        SHANNON_ENTROPY RATIO_DIVERSITY_HERFINDAHL RATIO_DIVERSITY_GINI  \\\n",
       " cutoff                                                                   \n",
       " 10           10.900592                   0.998882             0.254993   \n",
       " \n",
       "        RATIO_SHANNON_ENTROPY RATIO_AVERAGE_POPULARITY RATIO_NOVELTY  \n",
       " cutoff                                                               \n",
       " 10                  0.839548                 1.389853      0.280311  \n",
       " \n",
       " [1 rows x 27 columns],\n",
       " 'CUTOFF: 10 - PRECISION: 0.0826289, PRECISION_RECALL_MIN_DEN: 0.1653900, RECALL: 0.1484403, MAP: 0.0410893, MAP_MIN_DEN: 0.0821919, MRR: 0.2475748, NDCG: 0.1441292, F1: 0.1061627, HIT_RATE: 0.4891810, ARHR_ALL_HITS: 0.3158887, NOVELTY: 0.0052734, AVERAGE_POPULARITY: 0.1688687, DIVERSITY_MEAN_INTER_LIST: 0.9853139, DIVERSITY_HERFINDAHL: 0.9985214, COVERAGE_ITEM: 0.4023490, COVERAGE_ITEM_HIT: 0.1007560, ITEMS_IN_GT: 0.7287373, COVERAGE_USER: 0.7825605, COVERAGE_USER_HIT: 0.3828137, USERS_IN_GT: 0.7825605, DIVERSITY_GINI: 0.0891105, SHANNON_ENTROPY: 10.9005925, RATIO_DIVERSITY_HERFINDAHL: 0.9988819, RATIO_DIVERSITY_GINI: 0.2549928, RATIO_SHANNON_ENTROPY: 0.8395481, RATIO_AVERAGE_POPULARITY: 1.3898534, RATIO_NOVELTY: 0.2803110, \\n')"
      ]
     },
     "execution_count": 61,
     "metadata": {},
     "output_type": "execute_result"
    }
   ],
   "source": [
    "evaluator_test.evaluateRecommender(recommender_train_val)"
   ]
  },
  {
   "cell_type": "code",
   "execution_count": null,
   "metadata": {},
   "outputs": [],
   "source": []
  },
  {
   "cell_type": "code",
   "execution_count": 62,
   "metadata": {},
   "outputs": [],
   "source": [
    "candidate_generator_recommenders = recommender_trains"
   ]
  },
  {
   "cell_type": "code",
   "execution_count": 71,
   "metadata": {},
   "outputs": [
    {
     "name": "stderr",
     "output_type": "stream",
     "text": [
      "100%|██████████████████████████████████████████████████████████████████████████| 12638/12638 [00:09<00:00, 1303.61it/s]\n",
      "100%|██████████████████████████████████████████████████████████████████████████| 12638/12638 [00:09<00:00, 1297.42it/s]\n",
      "100%|██████████████████████████████████████████████████████████████████████████| 12638/12638 [00:09<00:00, 1295.68it/s]\n",
      "100%|██████████████████████████████████████████████████████████████████████████| 12638/12638 [00:09<00:00, 1327.51it/s]\n",
      "100%|██████████████████████████████████████████████████████████████████████████| 12638/12638 [00:09<00:00, 1308.69it/s]\n",
      "100%|██████████████████████████████████████████████████████████████████████████| 12638/12638 [00:09<00:00, 1310.19it/s]\n",
      "100%|██████████████████████████████████████████████████████████████████████████| 12638/12638 [00:09<00:00, 1300.55it/s]\n",
      "100%|██████████████████████████████████████████████████████████████████████████| 12638/12638 [00:09<00:00, 1287.49it/s]\n",
      "100%|██████████████████████████████████████████████████████████████████████████| 12638/12638 [00:09<00:00, 1295.09it/s]\n",
      "100%|██████████████████████████████████████████████████████████████████████████| 12638/12638 [00:09<00:00, 1307.69it/s]\n"
     ]
    }
   ],
   "source": [
    "training_dfs = []\n",
    "\n",
    "for i in range(n_fold):\n",
    "    n_users, n_items = URM_trains[i].shape\n",
    "    training_dataframe = pd.DataFrame(index=range(0,n_users), columns = [\"item_id\"])\n",
    "    training_dataframe.index.name='user_id'\n",
    "    \n",
    "    cutoff = 30\n",
    "\n",
    "    for user_id in tqdm(range(n_users)):    \n",
    "        recommendations = candidate_generator_recommenders[i].recommend(user_id, cutoff = cutoff)\n",
    "        training_dataframe.loc[user_id, \"item_id\"] = recommendations\n",
    "        \n",
    "    training_dataframe = training_dataframe.explode(\"item_id\")\n",
    "    \n",
    "    URM_validation_coo = sps.coo_matrix(URM_validations[i])\n",
    "\n",
    "    correct_recommendations = pd.DataFrame({\"user_id\": URM_validation_coo.row,\n",
    "                                        \"item_id\": URM_validation_coo.col})\n",
    "    \n",
    "    training_dataframe = pd.merge(training_dataframe, correct_recommendations, on=['user_id','item_id'], how='left', indicator='Exist')\n",
    "    training_dataframe[\"Label\"] = training_dataframe[\"Exist\"] == \"both\"\n",
    "    training_dataframe.drop(columns = ['Exist'], inplace=True)\n",
    "    training_dfs.append(training_dataframe)"
   ]
  },
  {
   "cell_type": "code",
   "execution_count": 72,
   "metadata": {},
   "outputs": [],
   "source": [
    "other_algorithms = {\n",
    "    \"Hybrid\": recommender_trains,\n",
    "    \"ItemKNNCF\": itemknncf_trains,\n",
    "    \"P3alpha\": p3alpha_trains,\n",
    "    \"RP3beta\": rp3beta_trains,\n",
    "    \"SLIM-E\": slime_trains,\n",
    "    \"EASE_R\": ease_trains,\n",
    "    \"UserKNNCF\": userknncf_trains,\n",
    "    \"ItemHybrid\": itemhybrid_trains,\n",
    "}"
   ]
  },
  {
   "cell_type": "code",
   "execution_count": 73,
   "metadata": {},
   "outputs": [
    {
     "name": "stderr",
     "output_type": "stream",
     "text": [
      "100%|███████████████████████████████████████████████████████████████████████████| 12638/12638 [00:47<00:00, 264.77it/s]\n",
      "100%|███████████████████████████████████████████████████████████████████████████| 12638/12638 [00:47<00:00, 267.53it/s]\n",
      "100%|███████████████████████████████████████████████████████████████████████████| 12638/12638 [00:47<00:00, 267.56it/s]\n",
      "100%|███████████████████████████████████████████████████████████████████████████| 12638/12638 [00:47<00:00, 265.59it/s]\n",
      "100%|███████████████████████████████████████████████████████████████████████████| 12638/12638 [00:48<00:00, 262.62it/s]\n",
      "100%|███████████████████████████████████████████████████████████████████████████| 12638/12638 [00:46<00:00, 271.33it/s]\n",
      "100%|███████████████████████████████████████████████████████████████████████████| 12638/12638 [00:46<00:00, 271.43it/s]\n",
      "100%|███████████████████████████████████████████████████████████████████████████| 12638/12638 [00:46<00:00, 271.63it/s]\n",
      "100%|███████████████████████████████████████████████████████████████████████████| 12638/12638 [00:46<00:00, 271.85it/s]\n",
      "100%|███████████████████████████████████████████████████████████████████████████| 12638/12638 [00:46<00:00, 274.13it/s]\n"
     ]
    }
   ],
   "source": [
    "groups_all = []\n",
    "y_trains = []\n",
    "X_trains = []\n",
    "\n",
    "for i in range(n_fold):\n",
    "    training_dfs[i] = training_dfs[i].set_index('user_id')\n",
    "    n_users, n_items = URM_trains[i].shape\n",
    "\n",
    "    for user_id in tqdm(range(n_users)):  \n",
    "        for rec_label, rec_instance in other_algorithms.items():\n",
    "        \n",
    "            item_list = training_dfs[i].loc[user_id, \"item_id\"].values.tolist()\n",
    "        \n",
    "            all_item_scores = rec_instance[i]._compute_item_score([user_id], items_to_compute = item_list)\n",
    "\n",
    "            training_dfs[i].loc[user_id, rec_label] = all_item_scores[0, item_list] \n",
    "\n",
    "    training_dfs[i] = training_dfs[i].reset_index()\n",
    "    training_dfs[i] = training_dfs[i].rename(columns = {\"index\": \"user_id\"})\n",
    "    \n",
    "    item_popularity = np.ediff1d(sps.csc_matrix(URM_trains[i]).indptr)\n",
    "    training_dfs[i]['item_popularity'] = item_popularity[training_dfs[i][\"item_id\"].values.astype(int)]\n",
    "\n",
    "    user_popularity = np.ediff1d(sps.csr_matrix(URM_trains[i]).indptr)\n",
    "    training_dfs[i]['user_profile_len'] = user_popularity[training_dfs[i][\"user_id\"].values.astype(int)]\n",
    "\n",
    "    training_dfs[i] = training_dfs[i].sort_values(\"user_id\").reset_index()\n",
    "    training_dfs[i].drop(columns = ['index'], inplace=True)\n",
    "\n",
    "    groups = training_dfs[i].groupby(\"user_id\").size().values\n",
    "    groups_all.append(groups)\n",
    "    \n",
    "    y_train = training_dfs[i][\"Label\"]\n",
    "    y_trains.append(y_train)\n",
    "    \n",
    "    X_train_xgb = training_dfs[i].drop(columns=[\"Label\"])\n",
    "    X_train_xgb[\"user_id\"] = X_train_xgb[\"user_id\"].astype(\"category\")\n",
    "    X_train_xgb[\"item_id\"] = X_train_xgb[\"item_id\"].astype(\"category\")\n",
    "    X_trains.append(X_train_xgb)"
   ]
  },
  {
   "cell_type": "code",
   "execution_count": 75,
   "metadata": {},
   "outputs": [],
   "source": [
    "from xgboost import XGBRanker"
   ]
  },
  {
   "cell_type": "code",
   "execution_count": 90,
   "metadata": {},
   "outputs": [],
   "source": [
    "n_estimators = 300\n",
    "learning_rate = 0.2\n",
    "reg_alpha = 30\n",
    "reg_lambda = 0.1\n",
    "max_depth = 3\n",
    "max_leaves = 0\n",
    "grow_policy = \"depthwise\"\n",
    "objective = \"pairwise\"\n",
    "booster = \"gbtree\"\n",
    "use_user_profile = False\n",
    "random_seed = None\n",
    "\n",
    "colsample_bytree = 0.7\n",
    "gamma = 5\n",
    "min_child_weight = 5.0\n",
    "\n",
    "XGB_models = []\n",
    "\n",
    "for i in range(n_fold):\n",
    "    XGB_model = XGBRanker(objective='rank:{}'.format(objective),\n",
    "                      n_estimators = int(n_estimators),\n",
    "                      random_state = random_seed,\n",
    "                      learning_rate = learning_rate,\n",
    "                      reg_alpha = reg_alpha,\n",
    "                      reg_lambda = reg_lambda,\n",
    "                      max_depth = int(max_depth),\n",
    "                      max_leaves = int(max_leaves),\n",
    "                      grow_policy = grow_policy,\n",
    "                      verbosity = 0, # 2 if self.verbose else 0,\n",
    "                      booster = booster,\n",
    "                      enable_categorical = True,\n",
    "                      colsample_bytree = colsample_bytree,\n",
    "                      gamma = gamma,\n",
    "                      min_child_weight = min_child_weight,\n",
    "                      tree_method = \"hist\",  # Supported tree methods are `gpu_hist`, `approx`, and `hist`.\n",
    "                      )\n",
    "    XGB_model.fit(X_trains[i],\n",
    "          y_trains[i],\n",
    "          group=groups_all[i],\n",
    "          verbose=True)\n",
    "    XGB_models.append(XGB_model)"
   ]
  },
  {
   "cell_type": "code",
   "execution_count": 91,
   "metadata": {},
   "outputs": [],
   "source": [
    "%matplotlib inline\n",
    "from xgboost import plot_importance"
   ]
  },
  {
   "cell_type": "code",
   "execution_count": 92,
   "metadata": {},
   "outputs": [
    {
     "data": {
      "image/png": "[encoded data removed]",
      "text/plain": [
       "<Figure size 640x480 with 1 Axes>"
      ]
     },
     "metadata": {},
     "output_type": "display_data"
    },
    {
     "data": {
      "image/png": "[encoded data removed]",
      "text/plain": [
       "<Figure size 640x480 with 1 Axes>"
      ]
     },
     "metadata": {},
     "output_type": "display_data"
    },
    {
     "data": {
      "image/png": "[encoded data removed]",
      "text/plain": [
       "<Figure size 640x480 with 1 Axes>"
      ]
     },
     "metadata": {},
     "output_type": "display_data"
    },
    {
     "data": {
      "image/png": "[encoded data removed]",
      "text/plain": [
       "<Figure size 640x480 with 1 Axes>"
      ]
     },
     "metadata": {},
     "output_type": "display_data"
    },
    {
     "data": {
      "image/png": "[encoded data removed]",
      "text/plain": [
       "<Figure size 640x480 with 1 Axes>"
      ]
     },
     "metadata": {},
     "output_type": "display_data"
    },
    {
     "data": {
      "image/png": "[encoded data removed]",
      "text/plain": [
       "<Figure size 640x480 with 1 Axes>"
      ]
     },
     "metadata": {},
     "output_type": "display_data"
    },
    {
     "data": {
      "image/png": "[encoded data removed]",
      "text/plain": [
       "<Figure size 640x480 with 1 Axes>"
      ]
     },
     "metadata": {},
     "output_type": "display_data"
    },
    {
     "data": {
      "image/png": "[encoded data removed]",
      "text/plain": [
       "<Figure size 640x480 with 1 Axes>"
      ]
     },
     "metadata": {},
     "output_type": "display_data"
    },
    {
     "data": {
      "image/png": "[encoded data removed]",
      "text/plain": [
       "<Figure size 640x480 with 1 Axes>"
      ]
     },
     "metadata": {},
     "output_type": "display_data"
    },
    {
     "data": {
      "image/png": "[encoded data removed]",
      "text/plain": [
       "<Figure size 640x480 with 1 Axes>"
      ]
     },
     "metadata": {},
     "output_type": "display_data"
    }
   ],
   "source": [
    "for i in range(n_fold):\n",
    "    plot_importance(XGB_models[i], importance_type='weight', title='Weight (Frequence)')"
   ]
  },
  {
   "cell_type": "code",
   "execution_count": null,
   "metadata": {},
   "outputs": [],
   "source": []
  },
  {
   "cell_type": "markdown",
   "metadata": {
    "execution": {
     "iopub.execute_input": "2023-11-12T22:56:41.759574Z",
     "iopub.status.busy": "2023-11-12T22:56:41.759295Z",
     "iopub.status.idle": "2023-11-12T22:56:41.769131Z",
     "shell.execute_reply": "2023-11-12T22:56:41.768410Z",
     "shell.execute_reply.started": "2023-11-12T22:56:41.759551Z"
    }
   },
   "source": [
    "## Build test dataframe"
   ]
  },
  {
   "cell_type": "code",
   "execution_count": 79,
   "metadata": {},
   "outputs": [
    {
     "name": "stderr",
     "output_type": "stream",
     "text": [
      "100%|████████████████████████████████████████████████████████████████████████████| 9890/9890 [00:07<00:00, 1331.28it/s]\n"
     ]
    },
    {
     "data": {
      "text/html": [
       "<div>\n",
       "<style scoped>\n",
       "    .dataframe tbody tr th:only-of-type {\n",
       "        vertical-align: middle;\n",
       "    }\n",
       "\n",
       "    .dataframe tbody tr th {\n",
       "        vertical-align: top;\n",
       "    }\n",
       "\n",
       "    .dataframe thead th {\n",
       "        text-align: right;\n",
       "    }\n",
       "</style>\n",
       "<table border=\"1\" class=\"dataframe\">\n",
       "  <thead>\n",
       "    <tr style=\"text-align: right;\">\n",
       "      <th></th>\n",
       "      <th>user_id</th>\n",
       "      <th>item_id</th>\n",
       "    </tr>\n",
       "  </thead>\n",
       "  <tbody>\n",
       "    <tr>\n",
       "      <th>0</th>\n",
       "      <td>0</td>\n",
       "      <td>674</td>\n",
       "    </tr>\n",
       "    <tr>\n",
       "      <th>1</th>\n",
       "      <td>0</td>\n",
       "      <td>587</td>\n",
       "    </tr>\n",
       "    <tr>\n",
       "      <th>2</th>\n",
       "      <td>0</td>\n",
       "      <td>1585</td>\n",
       "    </tr>\n",
       "    <tr>\n",
       "      <th>3</th>\n",
       "      <td>0</td>\n",
       "      <td>1449</td>\n",
       "    </tr>\n",
       "    <tr>\n",
       "      <th>4</th>\n",
       "      <td>0</td>\n",
       "      <td>2755</td>\n",
       "    </tr>\n",
       "    <tr>\n",
       "      <th>...</th>\n",
       "      <td>...</td>\n",
       "      <td>...</td>\n",
       "    </tr>\n",
       "    <tr>\n",
       "      <th>296695</th>\n",
       "      <td>12637</td>\n",
       "      <td>2744</td>\n",
       "    </tr>\n",
       "    <tr>\n",
       "      <th>296696</th>\n",
       "      <td>12637</td>\n",
       "      <td>696</td>\n",
       "    </tr>\n",
       "    <tr>\n",
       "      <th>296697</th>\n",
       "      <td>12637</td>\n",
       "      <td>694</td>\n",
       "    </tr>\n",
       "    <tr>\n",
       "      <th>296698</th>\n",
       "      <td>12637</td>\n",
       "      <td>10900</td>\n",
       "    </tr>\n",
       "    <tr>\n",
       "      <th>296699</th>\n",
       "      <td>12637</td>\n",
       "      <td>896</td>\n",
       "    </tr>\n",
       "  </tbody>\n",
       "</table>\n",
       "<p>296700 rows × 2 columns</p>\n",
       "</div>"
      ],
      "text/plain": [
       "        user_id  item_id\n",
       "0             0      674\n",
       "1             0      587\n",
       "2             0     1585\n",
       "3             0     1449\n",
       "4             0     2755\n",
       "...         ...      ...\n",
       "296695    12637     2744\n",
       "296696    12637      696\n",
       "296697    12637      694\n",
       "296698    12637    10900\n",
       "296699    12637      896\n",
       "\n",
       "[296700 rows x 2 columns]"
      ]
     },
     "execution_count": 79,
     "metadata": {},
     "output_type": "execute_result"
    }
   ],
   "source": [
    "users_to_recommend = np.unique(URM_test.tocoo().row)\n",
    "\n",
    "user_recommendations_items = []\n",
    "user_recommendations_user_id = []\n",
    "\n",
    "for id in tqdm(users_to_recommend):\n",
    "    # getting the recommendations\n",
    "    recommendations = recommender_train_val.recommend(user_id_array=id, remove_seen_flag=True, cutoff=cutoff)\n",
    "    \n",
    "    user_recommendations_items.extend(recommendations)\n",
    "    user_recommendations_user_id.extend([id]*len(recommendations))\n",
    "    \n",
    "test_dataframe = pd.DataFrame({\"user_id\":user_recommendations_user_id, \"item_id\":user_recommendations_items})\n",
    "test_dataframe"
   ]
  },
  {
   "cell_type": "code",
   "execution_count": 80,
   "metadata": {},
   "outputs": [],
   "source": [
    "other_algorithms_train_validation = {\n",
    "    \"Hybrid\": recommender_train_val,\n",
    "    \"ItemKNNCF\": itemknncf_train_val,\n",
    "    \"P3alpha\": p3alpha_train_val,\n",
    "    \"RP3beta\": rp3beta_train_val,\n",
    "    \"SLIM-E\": slime_train_val,\n",
    "    \"EASE_R\": ease_train_val,\n",
    "    \"UserKNNCF\": userknncf_train_val,\n",
    "    \"ItemHybrid\": itemhybrid_train_val,\n",
    "}"
   ]
  },
  {
   "cell_type": "code",
   "execution_count": 81,
   "metadata": {},
   "outputs": [
    {
     "name": "stderr",
     "output_type": "stream",
     "text": [
      "100%|█████████████████████████████████████████████████████████████████████████████| 9890/9890 [00:37<00:00, 266.61it/s]\n"
     ]
    },
    {
     "data": {
      "text/html": [
       "<div>\n",
       "<style scoped>\n",
       "    .dataframe tbody tr th:only-of-type {\n",
       "        vertical-align: middle;\n",
       "    }\n",
       "\n",
       "    .dataframe tbody tr th {\n",
       "        vertical-align: top;\n",
       "    }\n",
       "\n",
       "    .dataframe thead th {\n",
       "        text-align: right;\n",
       "    }\n",
       "</style>\n",
       "<table border=\"1\" class=\"dataframe\">\n",
       "  <thead>\n",
       "    <tr style=\"text-align: right;\">\n",
       "      <th></th>\n",
       "      <th>user_id</th>\n",
       "      <th>item_id</th>\n",
       "      <th>Hybrid</th>\n",
       "      <th>ItemKNNCF</th>\n",
       "      <th>P3alpha</th>\n",
       "      <th>RP3beta</th>\n",
       "      <th>SLIM-E</th>\n",
       "      <th>EASE_R</th>\n",
       "      <th>UserKNNCF</th>\n",
       "      <th>ItemHybrid</th>\n",
       "    </tr>\n",
       "  </thead>\n",
       "  <tbody>\n",
       "    <tr>\n",
       "      <th>0</th>\n",
       "      <td>0</td>\n",
       "      <td>674</td>\n",
       "      <td>0.707126</td>\n",
       "      <td>0.476774</td>\n",
       "      <td>0.449333</td>\n",
       "      <td>0.665007</td>\n",
       "      <td>0.691153</td>\n",
       "      <td>0.490226</td>\n",
       "      <td>21.360912</td>\n",
       "      <td>1.141336</td>\n",
       "    </tr>\n",
       "    <tr>\n",
       "      <th>1</th>\n",
       "      <td>0</td>\n",
       "      <td>587</td>\n",
       "      <td>0.542200</td>\n",
       "      <td>0.364388</td>\n",
       "      <td>0.407392</td>\n",
       "      <td>0.585519</td>\n",
       "      <td>0.503543</td>\n",
       "      <td>0.479448</td>\n",
       "      <td>18.574888</td>\n",
       "      <td>0.866801</td>\n",
       "    </tr>\n",
       "    <tr>\n",
       "      <th>2</th>\n",
       "      <td>0</td>\n",
       "      <td>1585</td>\n",
       "      <td>0.352938</td>\n",
       "      <td>0.498560</td>\n",
       "      <td>0.078392</td>\n",
       "      <td>0.285449</td>\n",
       "      <td>0.345401</td>\n",
       "      <td>0.287270</td>\n",
       "      <td>8.803205</td>\n",
       "      <td>0.795905</td>\n",
       "    </tr>\n",
       "    <tr>\n",
       "      <th>3</th>\n",
       "      <td>0</td>\n",
       "      <td>1449</td>\n",
       "      <td>0.316864</td>\n",
       "      <td>0.320451</td>\n",
       "      <td>0.089741</td>\n",
       "      <td>0.212910</td>\n",
       "      <td>0.321710</td>\n",
       "      <td>0.223213</td>\n",
       "      <td>9.058813</td>\n",
       "      <td>0.768792</td>\n",
       "    </tr>\n",
       "    <tr>\n",
       "      <th>4</th>\n",
       "      <td>0</td>\n",
       "      <td>2755</td>\n",
       "      <td>0.263373</td>\n",
       "      <td>0.250000</td>\n",
       "      <td>0.093403</td>\n",
       "      <td>0.127471</td>\n",
       "      <td>0.291522</td>\n",
       "      <td>0.250040</td>\n",
       "      <td>5.904123</td>\n",
       "      <td>0.548794</td>\n",
       "    </tr>\n",
       "    <tr>\n",
       "      <th>...</th>\n",
       "      <td>...</td>\n",
       "      <td>...</td>\n",
       "      <td>...</td>\n",
       "      <td>...</td>\n",
       "      <td>...</td>\n",
       "      <td>...</td>\n",
       "      <td>...</td>\n",
       "      <td>...</td>\n",
       "      <td>...</td>\n",
       "      <td>...</td>\n",
       "    </tr>\n",
       "    <tr>\n",
       "      <th>296695</th>\n",
       "      <td>12637</td>\n",
       "      <td>2744</td>\n",
       "      <td>0.209180</td>\n",
       "      <td>0.219780</td>\n",
       "      <td>0.057413</td>\n",
       "      <td>0.085192</td>\n",
       "      <td>0.225546</td>\n",
       "      <td>0.153618</td>\n",
       "      <td>1.683679</td>\n",
       "      <td>0.599996</td>\n",
       "    </tr>\n",
       "    <tr>\n",
       "      <th>296696</th>\n",
       "      <td>12637</td>\n",
       "      <td>696</td>\n",
       "      <td>0.195657</td>\n",
       "      <td>0.288068</td>\n",
       "      <td>0.000000</td>\n",
       "      <td>0.000000</td>\n",
       "      <td>0.229636</td>\n",
       "      <td>0.100994</td>\n",
       "      <td>10.766883</td>\n",
       "      <td>0.698231</td>\n",
       "    </tr>\n",
       "    <tr>\n",
       "      <th>296697</th>\n",
       "      <td>12637</td>\n",
       "      <td>694</td>\n",
       "      <td>0.185977</td>\n",
       "      <td>0.217336</td>\n",
       "      <td>0.000000</td>\n",
       "      <td>0.091446</td>\n",
       "      <td>0.182399</td>\n",
       "      <td>0.060041</td>\n",
       "      <td>11.149442</td>\n",
       "      <td>0.708739</td>\n",
       "    </tr>\n",
       "    <tr>\n",
       "      <th>296698</th>\n",
       "      <td>12637</td>\n",
       "      <td>10900</td>\n",
       "      <td>0.185242</td>\n",
       "      <td>0.658782</td>\n",
       "      <td>0.131640</td>\n",
       "      <td>0.177300</td>\n",
       "      <td>0.090306</td>\n",
       "      <td>0.192275</td>\n",
       "      <td>5.961126</td>\n",
       "      <td>1.554053</td>\n",
       "    </tr>\n",
       "    <tr>\n",
       "      <th>296699</th>\n",
       "      <td>12637</td>\n",
       "      <td>896</td>\n",
       "      <td>0.180874</td>\n",
       "      <td>0.186220</td>\n",
       "      <td>0.041782</td>\n",
       "      <td>0.108765</td>\n",
       "      <td>0.186467</td>\n",
       "      <td>0.162508</td>\n",
       "      <td>1.400959</td>\n",
       "      <td>0.463113</td>\n",
       "    </tr>\n",
       "  </tbody>\n",
       "</table>\n",
       "<p>296700 rows × 10 columns</p>\n",
       "</div>"
      ],
      "text/plain": [
       "        user_id  item_id    Hybrid  ItemKNNCF   P3alpha   RP3beta    SLIM-E  \\\n",
       "0             0      674  0.707126   0.476774  0.449333  0.665007  0.691153   \n",
       "1             0      587  0.542200   0.364388  0.407392  0.585519  0.503543   \n",
       "2             0     1585  0.352938   0.498560  0.078392  0.285449  0.345401   \n",
       "3             0     1449  0.316864   0.320451  0.089741  0.212910  0.321710   \n",
       "4             0     2755  0.263373   0.250000  0.093403  0.127471  0.291522   \n",
       "...         ...      ...       ...        ...       ...       ...       ...   \n",
       "296695    12637     2744  0.209180   0.219780  0.057413  0.085192  0.225546   \n",
       "296696    12637      696  0.195657   0.288068  0.000000  0.000000  0.229636   \n",
       "296697    12637      694  0.185977   0.217336  0.000000  0.091446  0.182399   \n",
       "296698    12637    10900  0.185242   0.658782  0.131640  0.177300  0.090306   \n",
       "296699    12637      896  0.180874   0.186220  0.041782  0.108765  0.186467   \n",
       "\n",
       "          EASE_R  UserKNNCF  ItemHybrid  \n",
       "0       0.490226  21.360912    1.141336  \n",
       "1       0.479448  18.574888    0.866801  \n",
       "2       0.287270   8.803205    0.795905  \n",
       "3       0.223213   9.058813    0.768792  \n",
       "4       0.250040   5.904123    0.548794  \n",
       "...          ...        ...         ...  \n",
       "296695  0.153618   1.683679    0.599996  \n",
       "296696  0.100994  10.766883    0.698231  \n",
       "296697  0.060041  11.149442    0.708739  \n",
       "296698  0.192275   5.961126    1.554053  \n",
       "296699  0.162508   1.400959    0.463113  \n",
       "\n",
       "[296700 rows x 10 columns]"
      ]
     },
     "execution_count": 81,
     "metadata": {},
     "output_type": "execute_result"
    }
   ],
   "source": [
    "test_dataframe = test_dataframe.set_index('user_id')\n",
    "\n",
    "for user_id in tqdm(users_to_recommend):       \n",
    "    for rec_label, rec_instance in other_algorithms_train_validation.items():\n",
    "        \n",
    "        item_list = test_dataframe.loc[user_id, \"item_id\"].values.tolist()\n",
    "        \n",
    "        all_item_scores = rec_instance._compute_item_score([user_id], items_to_compute = item_list)\n",
    "\n",
    "        test_dataframe.loc[user_id, rec_label] = all_item_scores[0, item_list] \n",
    "\n",
    "test_dataframe = test_dataframe.reset_index()\n",
    "test_dataframe = test_dataframe.rename(columns = {\"index\": \"user_id\"})\n",
    "test_dataframe"
   ]
  },
  {
   "cell_type": "code",
   "execution_count": 82,
   "metadata": {},
   "outputs": [],
   "source": [
    "item_popularity = np.ediff1d(sps.csc_matrix(URM_train_validation).indptr)\n",
    "test_dataframe['item_popularity'] = item_popularity[test_dataframe[\"item_id\"].values.astype(int)]\n",
    "\n",
    "user_popularity = np.ediff1d(sps.csr_matrix(URM_train_validation).indptr)\n",
    "test_dataframe['user_profile_len'] = user_popularity[test_dataframe[\"user_id\"].values.astype(int)]"
   ]
  },
  {
   "cell_type": "code",
   "execution_count": 83,
   "metadata": {},
   "outputs": [
    {
     "data": {
      "text/html": [
       "<div>\n",
       "<style scoped>\n",
       "    .dataframe tbody tr th:only-of-type {\n",
       "        vertical-align: middle;\n",
       "    }\n",
       "\n",
       "    .dataframe tbody tr th {\n",
       "        vertical-align: top;\n",
       "    }\n",
       "\n",
       "    .dataframe thead th {\n",
       "        text-align: right;\n",
       "    }\n",
       "</style>\n",
       "<table border=\"1\" class=\"dataframe\">\n",
       "  <thead>\n",
       "    <tr style=\"text-align: right;\">\n",
       "      <th></th>\n",
       "      <th>user_id</th>\n",
       "      <th>item_id</th>\n",
       "      <th>Hybrid</th>\n",
       "      <th>ItemKNNCF</th>\n",
       "      <th>P3alpha</th>\n",
       "      <th>RP3beta</th>\n",
       "      <th>SLIM-E</th>\n",
       "      <th>EASE_R</th>\n",
       "      <th>UserKNNCF</th>\n",
       "      <th>ItemHybrid</th>\n",
       "      <th>item_popularity</th>\n",
       "      <th>user_profile_len</th>\n",
       "    </tr>\n",
       "  </thead>\n",
       "  <tbody>\n",
       "    <tr>\n",
       "      <th>0</th>\n",
       "      <td>0</td>\n",
       "      <td>674</td>\n",
       "      <td>0.707126</td>\n",
       "      <td>0.476774</td>\n",
       "      <td>0.449333</td>\n",
       "      <td>0.665007</td>\n",
       "      <td>0.691153</td>\n",
       "      <td>0.490226</td>\n",
       "      <td>21.360912</td>\n",
       "      <td>1.141336</td>\n",
       "      <td>377</td>\n",
       "      <td>39</td>\n",
       "    </tr>\n",
       "    <tr>\n",
       "      <th>1</th>\n",
       "      <td>0</td>\n",
       "      <td>6738</td>\n",
       "      <td>0.107051</td>\n",
       "      <td>0.254388</td>\n",
       "      <td>0.000000</td>\n",
       "      <td>0.038405</td>\n",
       "      <td>0.113020</td>\n",
       "      <td>0.155223</td>\n",
       "      <td>7.214179</td>\n",
       "      <td>0.366711</td>\n",
       "      <td>56</td>\n",
       "      <td>39</td>\n",
       "    </tr>\n",
       "    <tr>\n",
       "      <th>2</th>\n",
       "      <td>0</td>\n",
       "      <td>13840</td>\n",
       "      <td>0.108641</td>\n",
       "      <td>0.177604</td>\n",
       "      <td>0.021308</td>\n",
       "      <td>0.040576</td>\n",
       "      <td>0.120784</td>\n",
       "      <td>0.034449</td>\n",
       "      <td>2.142048</td>\n",
       "      <td>0.278974</td>\n",
       "      <td>21</td>\n",
       "      <td>39</td>\n",
       "    </tr>\n",
       "    <tr>\n",
       "      <th>3</th>\n",
       "      <td>0</td>\n",
       "      <td>3708</td>\n",
       "      <td>0.110808</td>\n",
       "      <td>0.151803</td>\n",
       "      <td>0.042367</td>\n",
       "      <td>0.059408</td>\n",
       "      <td>0.109396</td>\n",
       "      <td>0.129144</td>\n",
       "      <td>2.924329</td>\n",
       "      <td>0.387581</td>\n",
       "      <td>184</td>\n",
       "      <td>39</td>\n",
       "    </tr>\n",
       "    <tr>\n",
       "      <th>4</th>\n",
       "      <td>0</td>\n",
       "      <td>6184</td>\n",
       "      <td>0.112614</td>\n",
       "      <td>0.214719</td>\n",
       "      <td>0.022975</td>\n",
       "      <td>0.071083</td>\n",
       "      <td>0.104833</td>\n",
       "      <td>0.033368</td>\n",
       "      <td>1.733873</td>\n",
       "      <td>0.429200</td>\n",
       "      <td>28</td>\n",
       "      <td>39</td>\n",
       "    </tr>\n",
       "    <tr>\n",
       "      <th>...</th>\n",
       "      <td>...</td>\n",
       "      <td>...</td>\n",
       "      <td>...</td>\n",
       "      <td>...</td>\n",
       "      <td>...</td>\n",
       "      <td>...</td>\n",
       "      <td>...</td>\n",
       "      <td>...</td>\n",
       "      <td>...</td>\n",
       "      <td>...</td>\n",
       "      <td>...</td>\n",
       "      <td>...</td>\n",
       "    </tr>\n",
       "    <tr>\n",
       "      <th>296695</th>\n",
       "      <td>12637</td>\n",
       "      <td>9567</td>\n",
       "      <td>0.558235</td>\n",
       "      <td>0.891048</td>\n",
       "      <td>0.198555</td>\n",
       "      <td>0.357706</td>\n",
       "      <td>0.507333</td>\n",
       "      <td>0.358740</td>\n",
       "      <td>11.200864</td>\n",
       "      <td>2.273499</td>\n",
       "      <td>38</td>\n",
       "      <td>62</td>\n",
       "    </tr>\n",
       "    <tr>\n",
       "      <th>296696</th>\n",
       "      <td>12637</td>\n",
       "      <td>16591</td>\n",
       "      <td>0.579772</td>\n",
       "      <td>1.214878</td>\n",
       "      <td>0.306634</td>\n",
       "      <td>0.443415</td>\n",
       "      <td>0.443427</td>\n",
       "      <td>0.327396</td>\n",
       "      <td>5.272201</td>\n",
       "      <td>3.170400</td>\n",
       "      <td>11</td>\n",
       "      <td>62</td>\n",
       "    </tr>\n",
       "    <tr>\n",
       "      <th>296697</th>\n",
       "      <td>12637</td>\n",
       "      <td>10900</td>\n",
       "      <td>0.185242</td>\n",
       "      <td>0.658782</td>\n",
       "      <td>0.131640</td>\n",
       "      <td>0.177300</td>\n",
       "      <td>0.090306</td>\n",
       "      <td>0.192275</td>\n",
       "      <td>5.961126</td>\n",
       "      <td>1.554053</td>\n",
       "      <td>21</td>\n",
       "      <td>62</td>\n",
       "    </tr>\n",
       "    <tr>\n",
       "      <th>296698</th>\n",
       "      <td>12637</td>\n",
       "      <td>17033</td>\n",
       "      <td>0.354159</td>\n",
       "      <td>0.874667</td>\n",
       "      <td>0.131159</td>\n",
       "      <td>0.333195</td>\n",
       "      <td>0.211670</td>\n",
       "      <td>0.172596</td>\n",
       "      <td>2.464640</td>\n",
       "      <td>2.453839</td>\n",
       "      <td>5</td>\n",
       "      <td>62</td>\n",
       "    </tr>\n",
       "    <tr>\n",
       "      <th>296699</th>\n",
       "      <td>12637</td>\n",
       "      <td>896</td>\n",
       "      <td>0.180874</td>\n",
       "      <td>0.186220</td>\n",
       "      <td>0.041782</td>\n",
       "      <td>0.108765</td>\n",
       "      <td>0.186467</td>\n",
       "      <td>0.162508</td>\n",
       "      <td>1.400959</td>\n",
       "      <td>0.463113</td>\n",
       "      <td>123</td>\n",
       "      <td>62</td>\n",
       "    </tr>\n",
       "  </tbody>\n",
       "</table>\n",
       "<p>296700 rows × 12 columns</p>\n",
       "</div>"
      ],
      "text/plain": [
       "        user_id  item_id    Hybrid  ItemKNNCF   P3alpha   RP3beta    SLIM-E  \\\n",
       "0             0      674  0.707126   0.476774  0.449333  0.665007  0.691153   \n",
       "1             0     6738  0.107051   0.254388  0.000000  0.038405  0.113020   \n",
       "2             0    13840  0.108641   0.177604  0.021308  0.040576  0.120784   \n",
       "3             0     3708  0.110808   0.151803  0.042367  0.059408  0.109396   \n",
       "4             0     6184  0.112614   0.214719  0.022975  0.071083  0.104833   \n",
       "...         ...      ...       ...        ...       ...       ...       ...   \n",
       "296695    12637     9567  0.558235   0.891048  0.198555  0.357706  0.507333   \n",
       "296696    12637    16591  0.579772   1.214878  0.306634  0.443415  0.443427   \n",
       "296697    12637    10900  0.185242   0.658782  0.131640  0.177300  0.090306   \n",
       "296698    12637    17033  0.354159   0.874667  0.131159  0.333195  0.211670   \n",
       "296699    12637      896  0.180874   0.186220  0.041782  0.108765  0.186467   \n",
       "\n",
       "          EASE_R  UserKNNCF  ItemHybrid  item_popularity  user_profile_len  \n",
       "0       0.490226  21.360912    1.141336              377                39  \n",
       "1       0.155223   7.214179    0.366711               56                39  \n",
       "2       0.034449   2.142048    0.278974               21                39  \n",
       "3       0.129144   2.924329    0.387581              184                39  \n",
       "4       0.033368   1.733873    0.429200               28                39  \n",
       "...          ...        ...         ...              ...               ...  \n",
       "296695  0.358740  11.200864    2.273499               38                62  \n",
       "296696  0.327396   5.272201    3.170400               11                62  \n",
       "296697  0.192275   5.961126    1.554053               21                62  \n",
       "296698  0.172596   2.464640    2.453839                5                62  \n",
       "296699  0.162508   1.400959    0.463113              123                62  \n",
       "\n",
       "[296700 rows x 12 columns]"
      ]
     },
     "execution_count": 83,
     "metadata": {},
     "output_type": "execute_result"
    }
   ],
   "source": [
    "test_dataframe = test_dataframe.sort_values(\"user_id\").reset_index()\n",
    "test_dataframe.drop(columns = ['index'], inplace=True)\n",
    "test_dataframe"
   ]
  },
  {
   "cell_type": "code",
   "execution_count": null,
   "metadata": {},
   "outputs": [],
   "source": []
  },
  {
   "cell_type": "code",
   "execution_count": 84,
   "metadata": {},
   "outputs": [],
   "source": [
    "def list_recommendations(target_users, recommender):\n",
    "    recommendations_list = []\n",
    "    \n",
    "    for id in target_users:\n",
    "        recommendations_per_user = recommender.recommend(user_id_array = id, remove_seen_flag=True, cutoff=10)\n",
    "        recommendations_list.append(recommendations_per_user)\n",
    "        \n",
    "    return recommendations_list\n",
    "\n",
    "def AP(recommended_items, relevant_items):\n",
    "   \n",
    "    is_relevant = np.in1d(recommended_items, relevant_items, assume_unique=True)\n",
    "    \n",
    "    # Cumulative sum: precision at 1, at 2, at 3 ...\n",
    "    p_at_k = is_relevant * np.cumsum(is_relevant, dtype=np.float32) / (1 + np.arange(is_relevant.shape[0]))\n",
    "    \n",
    "    ap_score = np.sum(p_at_k) / np.min([relevant_items.shape[0], is_relevant.shape[0]])\n",
    "\n",
    "    return ap_score\n",
    "\n",
    "# recommendations_list is the Python list of recommendations for each user in urm_test\n",
    "def evaluate_recommender_MAP_from_rec_list(urm_test, recommendations_list, cutoff):\n",
    "    target_users = np.unique(urm_test.tocoo().row)\n",
    "    \n",
    "    cumulative_AP = 0.0\n",
    "    num_eval = 0\n",
    "        \n",
    "    for i in range(0, len(target_users)):\n",
    "        relevant_items = urm_test.indices[urm_test.indptr[target_users[i]]:urm_test.indptr[target_users[i]+1]]\n",
    "        \n",
    "        if len(relevant_items)>0:\n",
    "            recommended_items = recommendations_list[i]\n",
    "            \n",
    "            num_eval+=1\n",
    "            \n",
    "            cumulative_AP += AP(recommended_items, relevant_items)\n",
    "            \n",
    "    MAP = cumulative_AP / num_eval\n",
    "    \n",
    "    return MAP"
   ]
  },
  {
   "cell_type": "code",
   "execution_count": null,
   "metadata": {},
   "outputs": [],
   "source": []
  },
  {
   "cell_type": "code",
   "execution_count": null,
   "metadata": {},
   "outputs": [],
   "source": []
  },
  {
   "cell_type": "markdown",
   "metadata": {},
   "source": [
    "## Predict!"
   ]
  },
  {
   "cell_type": "code",
   "execution_count": 85,
   "metadata": {},
   "outputs": [
    {
     "name": "stderr",
     "output_type": "stream",
     "text": [
      "100%|████████████████████████████████████████████████████████████████████████████| 9890/9890 [00:07<00:00, 1349.78it/s]\n"
     ]
    }
   ],
   "source": [
    "user_recommendations = []\n",
    "\n",
    "for user_id in tqdm(users_to_recommend):    \n",
    "    user_recommendations.append(recommender_train_val.recommend(user_id, cutoff = 10))"
   ]
  },
  {
   "cell_type": "code",
   "execution_count": 95,
   "metadata": {},
   "outputs": [
    {
     "name": "stderr",
     "output_type": "stream",
     "text": [
      "100%|████████████████████████████████████████████████████████████████████████████| 9890/9890 [00:02<00:00, 3907.60it/s]\n"
     ]
    },
    {
     "name": "stdout",
     "output_type": "stream",
     "text": [
      "XGBoost changed 18676 items, 18.88% of total\n",
      "Fold 0\n",
      "Hybrid: 0.08219185888881989\n",
      "XGBoost: 0.08275114435917771\n"
     ]
    },
    {
     "name": "stderr",
     "output_type": "stream",
     "text": [
      "100%|████████████████████████████████████████████████████████████████████████████| 9890/9890 [00:02<00:00, 3922.12it/s]\n"
     ]
    },
    {
     "name": "stdout",
     "output_type": "stream",
     "text": [
      "XGBoost changed 18905 items, 19.12% of total\n",
      "Fold 1\n",
      "Hybrid: 0.08219185888881989\n",
      "XGBoost: 0.08300428717530524\n"
     ]
    },
    {
     "name": "stderr",
     "output_type": "stream",
     "text": [
      "100%|████████████████████████████████████████████████████████████████████████████| 9890/9890 [00:02<00:00, 3930.42it/s]\n"
     ]
    },
    {
     "name": "stdout",
     "output_type": "stream",
     "text": [
      "XGBoost changed 19132 items, 19.34% of total\n",
      "Fold 2\n",
      "Hybrid: 0.08219185888881989\n",
      "XGBoost: 0.08311021389606653\n"
     ]
    },
    {
     "name": "stderr",
     "output_type": "stream",
     "text": [
      "100%|████████████████████████████████████████████████████████████████████████████| 9890/9890 [00:02<00:00, 3740.78it/s]\n"
     ]
    },
    {
     "name": "stdout",
     "output_type": "stream",
     "text": [
      "XGBoost changed 19299 items, 19.51% of total\n",
      "Fold 3\n",
      "Hybrid: 0.08219185888881989\n",
      "XGBoost: 0.082260366312761\n"
     ]
    },
    {
     "name": "stderr",
     "output_type": "stream",
     "text": [
      "100%|████████████████████████████████████████████████████████████████████████████| 9890/9890 [00:02<00:00, 3936.36it/s]\n"
     ]
    },
    {
     "name": "stdout",
     "output_type": "stream",
     "text": [
      "XGBoost changed 18878 items, 19.09% of total\n",
      "Fold 4\n",
      "Hybrid: 0.08219185888881989\n",
      "XGBoost: 0.08232001382172886\n"
     ]
    },
    {
     "name": "stderr",
     "output_type": "stream",
     "text": [
      "100%|████████████████████████████████████████████████████████████████████████████| 9890/9890 [00:02<00:00, 3932.18it/s]\n"
     ]
    },
    {
     "name": "stdout",
     "output_type": "stream",
     "text": [
      "XGBoost changed 18579 items, 18.79% of total\n",
      "Fold 5\n",
      "Hybrid: 0.08219185888881989\n",
      "XGBoost: 0.082455586119779\n"
     ]
    },
    {
     "name": "stderr",
     "output_type": "stream",
     "text": [
      "100%|████████████████████████████████████████████████████████████████████████████| 9890/9890 [00:02<00:00, 3952.27it/s]\n"
     ]
    },
    {
     "name": "stdout",
     "output_type": "stream",
     "text": [
      "XGBoost changed 19849 items, 20.07% of total\n",
      "Fold 6\n",
      "Hybrid: 0.08219185888881989\n",
      "XGBoost: 0.08298259862964746\n"
     ]
    },
    {
     "name": "stderr",
     "output_type": "stream",
     "text": [
      "100%|████████████████████████████████████████████████████████████████████████████| 9890/9890 [00:02<00:00, 3938.72it/s]\n"
     ]
    },
    {
     "name": "stdout",
     "output_type": "stream",
     "text": [
      "XGBoost changed 19346 items, 19.56% of total\n",
      "Fold 7\n",
      "Hybrid: 0.08219185888881989\n",
      "XGBoost: 0.08322651419010456\n"
     ]
    },
    {
     "name": "stderr",
     "output_type": "stream",
     "text": [
      "100%|████████████████████████████████████████████████████████████████████████████| 9890/9890 [00:02<00:00, 3949.32it/s]\n"
     ]
    },
    {
     "name": "stdout",
     "output_type": "stream",
     "text": [
      "XGBoost changed 18513 items, 18.72% of total\n",
      "Fold 8\n",
      "Hybrid: 0.08219185888881989\n",
      "XGBoost: 0.08273900052568635\n"
     ]
    },
    {
     "name": "stderr",
     "output_type": "stream",
     "text": [
      "100%|████████████████████████████████████████████████████████████████████████████| 9890/9890 [00:02<00:00, 3876.99it/s]\n"
     ]
    },
    {
     "name": "stdout",
     "output_type": "stream",
     "text": [
      "XGBoost changed 19021 items, 19.23% of total\n",
      "Fold 9\n",
      "Hybrid: 0.08219185888881989\n",
      "XGBoost: 0.08211616584711959\n"
     ]
    }
   ],
   "source": [
    "recommendations_boosted_all = []\n",
    "results = []\n",
    "\n",
    "for f in range(n_fold):\n",
    "    X = test_dataframe\n",
    "    predictions = XGB_models[f].predict(X)\n",
    "\n",
    "    xgb_reranked = test_dataframe.copy()\n",
    "    xgb_reranked['rating_xgb'] = pd.Series(predictions, index=xgb_reranked.index)\n",
    "    xgb_reranked = xgb_reranked.sort_values(['user_id','rating_xgb'], ascending=[True, False])\n",
    "\n",
    "    user_recommendations_boosted = []\n",
    "\n",
    "    for id in tqdm(users_to_recommend):\n",
    "        user_recommendations_boosted.append(xgb_reranked.loc[xgb_reranked['user_id'] == id].item_id.values[:10].tolist())\n",
    "        \n",
    "    recommendations_boosted_all.append(user_recommendations_boosted)\n",
    "\n",
    "    xgb_changed_item_count = 0\n",
    "\n",
    "    for i in range(len(user_recommendations)):\n",
    "        default_items = user_recommendations[i]\n",
    "        xgb_reranked_items = user_recommendations_boosted[i]\n",
    "    \n",
    "        xgb_new_items = list(set(xgb_reranked_items) - set(default_items))\n",
    "    \n",
    "        xgb_changed_item_count = xgb_changed_item_count + len(xgb_new_items)\n",
    "\n",
    "    n_users_to_recommend = len(users_to_recommend)\n",
    "    n_recommended_items = n_users_to_recommend * 10\n",
    "\n",
    "    print(\"XGBoost changed {} items, {:.2f}% of total\".format(xgb_changed_item_count, xgb_changed_item_count/n_recommended_items * 100))\n",
    "\n",
    "    print(\"Fold {}\".format(f))\n",
    "    print(\"Hybrid: {}\".format(evaluate_recommender_MAP_from_rec_list(URM_test, user_recommendations, 10)))\n",
    "    print(\"XGBoost: {}\".format(evaluate_recommender_MAP_from_rec_list(URM_test, user_recommendations_boosted, 10)))\n",
    "    \n",
    "    results.append(evaluate_recommender_MAP_from_rec_list(URM_test, user_recommendations_boosted, 10))"
   ]
  },
  {
   "cell_type": "code",
   "execution_count": 96,
   "metadata": {},
   "outputs": [
    {
     "name": "stdout",
     "output_type": "stream",
     "text": [
      "Average MAP: 0.08269658908773762\n"
     ]
    }
   ],
   "source": [
    "print(\"Average MAP: {}\".format(sum(results)/n_fold))"
   ]
  },
  {
   "cell_type": "code",
   "execution_count": null,
   "metadata": {},
   "outputs": [],
   "source": []
  },
  {
   "cell_type": "code",
   "execution_count": 144,
   "metadata": {},
   "outputs": [
    {
     "data": {
      "text/plain": [
       "0         24.126411\n",
       "1          2.564969\n",
       "2          0.000000\n",
       "3          2.899011\n",
       "4          2.411139\n",
       "            ...    \n",
       "379135     6.104478\n",
       "379136     4.066985\n",
       "379137     8.629980\n",
       "379138     4.474370\n",
       "379139    11.404390\n",
       "Name: UserKNNCF, Length: 379140, dtype: float32"
      ]
     },
     "execution_count": 144,
     "metadata": {},
     "output_type": "execute_result"
    }
   ],
   "source": [
    "X_trains[0]['UserKNNCF']"
   ]
  },
  {
   "cell_type": "code",
   "execution_count": 146,
   "metadata": {},
   "outputs": [],
   "source": [
    "for i in range(n_fold):\n",
    "    X_trains[i] = X_trains[i].drop(['UserKNNCF'], axis=1)"
   ]
  },
  {
   "cell_type": "code",
   "execution_count": 147,
   "metadata": {},
   "outputs": [
    {
     "data": {
      "text/html": [
       "<div>\n",
       "<style scoped>\n",
       "    .dataframe tbody tr th:only-of-type {\n",
       "        vertical-align: middle;\n",
       "    }\n",
       "\n",
       "    .dataframe tbody tr th {\n",
       "        vertical-align: top;\n",
       "    }\n",
       "\n",
       "    .dataframe thead th {\n",
       "        text-align: right;\n",
       "    }\n",
       "</style>\n",
       "<table border=\"1\" class=\"dataframe\">\n",
       "  <thead>\n",
       "    <tr style=\"text-align: right;\">\n",
       "      <th></th>\n",
       "      <th>user_id</th>\n",
       "      <th>item_id</th>\n",
       "      <th>Hybrid</th>\n",
       "      <th>ItemKNNCF</th>\n",
       "      <th>P3alpha</th>\n",
       "      <th>RP3beta</th>\n",
       "      <th>SLIM-E</th>\n",
       "      <th>EASE_R</th>\n",
       "      <th>ItemHybrid</th>\n",
       "      <th>item_popularity</th>\n",
       "      <th>user_profile_len</th>\n",
       "    </tr>\n",
       "  </thead>\n",
       "  <tbody>\n",
       "    <tr>\n",
       "      <th>0</th>\n",
       "      <td>0</td>\n",
       "      <td>674</td>\n",
       "      <td>0.662135</td>\n",
       "      <td>0.426504</td>\n",
       "      <td>0.346526</td>\n",
       "      <td>0.606692</td>\n",
       "      <td>0.650032</td>\n",
       "      <td>0.553079</td>\n",
       "      <td>1.108787</td>\n",
       "      <td>346</td>\n",
       "      <td>37</td>\n",
       "    </tr>\n",
       "    <tr>\n",
       "      <th>1</th>\n",
       "      <td>0</td>\n",
       "      <td>319</td>\n",
       "      <td>0.101478</td>\n",
       "      <td>0.103571</td>\n",
       "      <td>0.000000</td>\n",
       "      <td>0.062034</td>\n",
       "      <td>0.104910</td>\n",
       "      <td>0.083594</td>\n",
       "      <td>0.250645</td>\n",
       "      <td>522</td>\n",
       "      <td>37</td>\n",
       "    </tr>\n",
       "    <tr>\n",
       "      <th>2</th>\n",
       "      <td>0</td>\n",
       "      <td>3188</td>\n",
       "      <td>0.102570</td>\n",
       "      <td>0.130137</td>\n",
       "      <td>0.045132</td>\n",
       "      <td>0.069109</td>\n",
       "      <td>0.101112</td>\n",
       "      <td>0.070830</td>\n",
       "      <td>0.290288</td>\n",
       "      <td>68</td>\n",
       "      <td>37</td>\n",
       "    </tr>\n",
       "    <tr>\n",
       "      <th>3</th>\n",
       "      <td>0</td>\n",
       "      <td>11630</td>\n",
       "      <td>0.105386</td>\n",
       "      <td>0.056338</td>\n",
       "      <td>0.024622</td>\n",
       "      <td>0.042727</td>\n",
       "      <td>0.124239</td>\n",
       "      <td>0.063757</td>\n",
       "      <td>0.154743</td>\n",
       "      <td>26</td>\n",
       "      <td>37</td>\n",
       "    </tr>\n",
       "    <tr>\n",
       "      <th>4</th>\n",
       "      <td>0</td>\n",
       "      <td>13840</td>\n",
       "      <td>0.107238</td>\n",
       "      <td>0.118581</td>\n",
       "      <td>0.022243</td>\n",
       "      <td>0.042977</td>\n",
       "      <td>0.119487</td>\n",
       "      <td>0.063621</td>\n",
       "      <td>0.257060</td>\n",
       "      <td>18</td>\n",
       "      <td>37</td>\n",
       "    </tr>\n",
       "    <tr>\n",
       "      <th>...</th>\n",
       "      <td>...</td>\n",
       "      <td>...</td>\n",
       "      <td>...</td>\n",
       "      <td>...</td>\n",
       "      <td>...</td>\n",
       "      <td>...</td>\n",
       "      <td>...</td>\n",
       "      <td>...</td>\n",
       "      <td>...</td>\n",
       "      <td>...</td>\n",
       "      <td>...</td>\n",
       "    </tr>\n",
       "    <tr>\n",
       "      <th>379135</th>\n",
       "      <td>12637</td>\n",
       "      <td>17580</td>\n",
       "      <td>0.508287</td>\n",
       "      <td>0.729856</td>\n",
       "      <td>0.213120</td>\n",
       "      <td>0.341469</td>\n",
       "      <td>0.460387</td>\n",
       "      <td>0.268199</td>\n",
       "      <td>2.012965</td>\n",
       "      <td>15</td>\n",
       "      <td>58</td>\n",
       "    </tr>\n",
       "    <tr>\n",
       "      <th>379136</th>\n",
       "      <td>12637</td>\n",
       "      <td>11426</td>\n",
       "      <td>0.564985</td>\n",
       "      <td>0.980351</td>\n",
       "      <td>0.279091</td>\n",
       "      <td>0.416270</td>\n",
       "      <td>0.453287</td>\n",
       "      <td>0.220221</td>\n",
       "      <td>2.872338</td>\n",
       "      <td>12</td>\n",
       "      <td>58</td>\n",
       "    </tr>\n",
       "    <tr>\n",
       "      <th>379137</th>\n",
       "      <td>12637</td>\n",
       "      <td>678</td>\n",
       "      <td>0.189096</td>\n",
       "      <td>0.101617</td>\n",
       "      <td>0.047402</td>\n",
       "      <td>0.116632</td>\n",
       "      <td>0.189719</td>\n",
       "      <td>0.167430</td>\n",
       "      <td>0.542680</td>\n",
       "      <td>253</td>\n",
       "      <td>58</td>\n",
       "    </tr>\n",
       "    <tr>\n",
       "      <th>379138</th>\n",
       "      <td>12637</td>\n",
       "      <td>8356</td>\n",
       "      <td>0.305427</td>\n",
       "      <td>0.540735</td>\n",
       "      <td>0.252401</td>\n",
       "      <td>0.286197</td>\n",
       "      <td>0.222414</td>\n",
       "      <td>0.170353</td>\n",
       "      <td>1.563768</td>\n",
       "      <td>21</td>\n",
       "      <td>58</td>\n",
       "    </tr>\n",
       "    <tr>\n",
       "      <th>379139</th>\n",
       "      <td>12637</td>\n",
       "      <td>331</td>\n",
       "      <td>0.187737</td>\n",
       "      <td>0.245681</td>\n",
       "      <td>0.047726</td>\n",
       "      <td>0.116369</td>\n",
       "      <td>0.179297</td>\n",
       "      <td>0.123905</td>\n",
       "      <td>0.662737</td>\n",
       "      <td>164</td>\n",
       "      <td>58</td>\n",
       "    </tr>\n",
       "  </tbody>\n",
       "</table>\n",
       "<p>379140 rows × 11 columns</p>\n",
       "</div>"
      ],
      "text/plain": [
       "       user_id item_id    Hybrid  ItemKNNCF   P3alpha   RP3beta    SLIM-E  \\\n",
       "0            0     674  0.662135   0.426504  0.346526  0.606692  0.650032   \n",
       "1            0     319  0.101478   0.103571  0.000000  0.062034  0.104910   \n",
       "2            0    3188  0.102570   0.130137  0.045132  0.069109  0.101112   \n",
       "3            0   11630  0.105386   0.056338  0.024622  0.042727  0.124239   \n",
       "4            0   13840  0.107238   0.118581  0.022243  0.042977  0.119487   \n",
       "...        ...     ...       ...        ...       ...       ...       ...   \n",
       "379135   12637   17580  0.508287   0.729856  0.213120  0.341469  0.460387   \n",
       "379136   12637   11426  0.564985   0.980351  0.279091  0.416270  0.453287   \n",
       "379137   12637     678  0.189096   0.101617  0.047402  0.116632  0.189719   \n",
       "379138   12637    8356  0.305427   0.540735  0.252401  0.286197  0.222414   \n",
       "379139   12637     331  0.187737   0.245681  0.047726  0.116369  0.179297   \n",
       "\n",
       "          EASE_R  ItemHybrid  item_popularity  user_profile_len  \n",
       "0       0.553079    1.108787              346                37  \n",
       "1       0.083594    0.250645              522                37  \n",
       "2       0.070830    0.290288               68                37  \n",
       "3       0.063757    0.154743               26                37  \n",
       "4       0.063621    0.257060               18                37  \n",
       "...          ...         ...              ...               ...  \n",
       "379135  0.268199    2.012965               15                58  \n",
       "379136  0.220221    2.872338               12                58  \n",
       "379137  0.167430    0.542680              253                58  \n",
       "379138  0.170353    1.563768               21                58  \n",
       "379139  0.123905    0.662737              164                58  \n",
       "\n",
       "[379140 rows x 11 columns]"
      ]
     },
     "execution_count": 147,
     "metadata": {},
     "output_type": "execute_result"
    }
   ],
   "source": [
    "X_trains[0]"
   ]
  },
  {
   "cell_type": "code",
   "execution_count": 151,
   "metadata": {},
   "outputs": [
    {
     "data": {
      "text/plain": [
       "array([30, 30, 30, ..., 30, 30, 30], dtype=int64)"
      ]
     },
     "execution_count": 151,
     "metadata": {},
     "output_type": "execute_result"
    }
   ],
   "source": [
    "groups_all[0]"
   ]
  },
  {
   "cell_type": "code",
   "execution_count": 148,
   "metadata": {},
   "outputs": [],
   "source": [
    "n_estimators = 788\n",
    "learning_rate = 0.216945\n",
    "reg_alpha = 31\n",
    "reg_lambda = 0.22545462\n",
    "\n",
    "colsample_bytree = 0.797181\n",
    "gamma = 3\n",
    "min_child_weight = 8.0\n",
    "\n",
    "\n",
    "max_depth = 3\n",
    "max_leaves = 0\n",
    "grow_policy = \"depthwise\"\n",
    "objective = \"pairwise\"\n",
    "booster = \"gbtree\"\n",
    "use_user_profile = False\n",
    "random_seed = 42\n",
    "\n",
    "\n",
    "XGB_models = []\n",
    "\n",
    "for i in range(n_fold):\n",
    "    XGB_model = XGBRanker(objective='rank:{}'.format(objective),\n",
    "                      n_estimators = int(n_estimators),\n",
    "                      random_state = random_seed,\n",
    "                      learning_rate = learning_rate,\n",
    "                      reg_alpha = reg_alpha,\n",
    "                      reg_lambda = reg_lambda,\n",
    "                      max_depth = int(max_depth),\n",
    "                      max_leaves = int(max_leaves),\n",
    "                      grow_policy = grow_policy,\n",
    "                      verbosity = 0, # 2 if self.verbose else 0,\n",
    "                      booster = booster,\n",
    "                      enable_categorical = True,\n",
    "                      colsample_bytree = colsample_bytree,\n",
    "                      gamma = gamma,\n",
    "                      min_child_weight = min_child_weight,\n",
    "                      tree_method = \"hist\",  # Supported tree methods are `gpu_hist`, `approx`, and `hist`.\n",
    "                      )\n",
    "    XGB_model.fit(X_trains[i],\n",
    "          y_trains[i],\n",
    "          group=groups_all[i],\n",
    "          verbose=True)\n",
    "    XGB_models.append(XGB_model)"
   ]
  },
  {
   "cell_type": "code",
   "execution_count": null,
   "metadata": {
    "scrolled": true
   },
   "outputs": [],
   "source": [
    "recommendations_boosted_all = []\n",
    "results = []\n",
    "\n",
    "for f in range(n_fold):\n",
    "    X = test_dataframe\n",
    "    test_dataframe = test_dataframe.drop(['UserKNNCF'], axis=1)\n",
    "    predictions = XGB_models[f].predict(X)\n",
    "\n",
    "    xgb_reranked = test_dataframe.copy()\n",
    "    xgb_reranked['rating_xgb'] = pd.Series(predictions, index=xgb_reranked.index)\n",
    "    xgb_reranked = xgb_reranked.sort_values(['user_id','rating_xgb'], ascending=[True, False])\n",
    "\n",
    "    user_recommendations_boosted = []\n",
    "\n",
    "    for id in tqdm(users_to_recommend):\n",
    "        user_recommendations_boosted.append(xgb_reranked.loc[xgb_reranked['user_id'] == id].item_id.values[:10].tolist())\n",
    "        \n",
    "    recommendations_boosted_all.append(user_recommendations_boosted)\n",
    "\n",
    "    xgb_changed_item_count = 0\n",
    "\n",
    "    for i in range(len(user_recommendations)):\n",
    "        default_items = user_recommendations[i]\n",
    "        xgb_reranked_items = user_recommendations_boosted[i]\n",
    "    \n",
    "        xgb_new_items = list(set(xgb_reranked_items) - set(default_items))\n",
    "    \n",
    "        xgb_changed_item_count = xgb_changed_item_count + len(xgb_new_items)\n",
    "\n",
    "    n_users_to_recommend = len(users_to_recommend)\n",
    "    n_recommended_items = n_users_to_recommend * 10\n",
    "\n",
    "    print(\"XGBoost changed {} items, {:.2f}% of total\".format(xgb_changed_item_count, xgb_changed_item_count/n_recommended_items * 100))\n",
    "\n",
    "    print(\"Fold {}\".format(f))\n",
    "    print(\"Hybrid: {}\".format(evaluate_recommender_MAP_from_rec_list(URM_test, user_recommendations, 10)))\n",
    "    print(\"XGBoost: {}\".format(evaluate_recommender_MAP_from_rec_list(URM_test, user_recommendations_boosted, 10)))\n",
    "    \n",
    "    results.append(evaluate_recommender_MAP_from_rec_list(URM_test, user_recommendations_boosted, 10))"
   ]
  },
  {
   "cell_type": "code",
   "execution_count": null,
   "metadata": {},
   "outputs": [],
   "source": [
    "print(\"Average MAP: {}\".format(sum(results)/n_fold))"
   ]
  }
 ],
 "metadata": {
  "kaggle": {
   "accelerator": "none",
   "dataSources": [
    {
     "databundleVersionId": 6919098,
     "sourceId": 62803,
     "sourceType": "competition"
    }
   ],
   "dockerImageVersionId": 30558,
   "isGpuEnabled": false,
   "isInternetEnabled": true,
   "language": "python",
   "sourceType": "notebook"
  },
  "kernelspec": {
   "display_name": "Python 3 (ipykernel)",
   "language": "python",
   "name": "python3"
  },
  "language_info": {
   "codemirror_mode": {
    "name": "ipython",
    "version": 3
   },
   "file_extension": ".py",
   "mimetype": "text/x-python",
   "name": "python",
   "nbconvert_exporter": "python",
   "pygments_lexer": "ipython3",
   "version": "3.8.18"
  }
 },
 "nbformat": 4,
 "nbformat_minor": 4
}
