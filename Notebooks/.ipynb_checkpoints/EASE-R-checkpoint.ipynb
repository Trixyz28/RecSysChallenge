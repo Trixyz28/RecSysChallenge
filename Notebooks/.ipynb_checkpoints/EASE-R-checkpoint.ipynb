{
 "cells": [
  {
   "cell_type": "markdown",
   "metadata": {},
   "source": [
    "# Recommender Systems Challenge, 2023/2024 @ PoliMi"
   ]
  },
  {
   "cell_type": "markdown",
   "metadata": {},
   "source": [
    "# Introduction\n",
    "\n",
    "## Problem Description\n",
    "The application domain is book recommendation. The datasets contain interactions of users with books, in particular, if the user attributed to the book a rating of at least 4. The main goal of the competition is to discover which items (books) a user will interact with.\n",
    "\n",
    "The datasets includes around 600k interactions, 13k users, 22k items (books).\n",
    "The training-test split is done via random holdout, 80% training, 20% test.\n",
    "The goal is to recommend a list of 10 potentially relevant items for each user.\n",
    "\n",
    "\n",
    "## Datasets\n",
    "All files are comma-separated (columns are separated with ',' ).\n",
    "\n",
    "- **data_train.csv**:\n",
    "Contains the training set, describing implicit preferences expressed by the users.\n",
    "    - **user_id** : identifier of the user\n",
    "    - **item_id** : identifier of the item (Book)\n",
    "    - **data** : \"1.0\" if the user liked the book attributing it a rating of at least 4.\n",
    "\n",
    "\n",
    "- **data_target_users_test.csv**:\n",
    "Contains the ids of the users that should appear in your submission file.\n",
    "The submission file should contain all and only these users.\n",
    "\n",
    "- **sample_submission.csv**:\n",
    "A sample submission file in the correct format: [user_id],[ordered list of recommended items].\n",
    "Be careful with the spaces and be sure to recommend the correct number of items to every user."
   ]
  },
  {
   "cell_type": "markdown",
   "metadata": {},
   "source": [
    "# Requirements\n",
    "\n",
    "The working environment and the required libraries are defined here."
   ]
  },
  {
   "cell_type": "code",
   "execution_count": 1,
   "metadata": {
    "_cell_guid": "b1076dfc-b9ad-4769-8c92-a6c4dae69d19",
    "_uuid": "8f2839f25d086af736a60e9eeb907d3b93b6e0e5",
    "execution": {
     "iopub.execute_input": "2023-11-12T22:55:27.107416Z",
     "iopub.status.busy": "2023-11-12T22:55:27.107103Z",
     "iopub.status.idle": "2023-11-12T22:55:27.415864Z",
     "shell.execute_reply": "2023-11-12T22:55:27.415002Z",
     "shell.execute_reply.started": "2023-11-12T22:55:27.107392Z"
    }
   },
   "outputs": [],
   "source": [
    "# Import libraries\n",
    "\n",
    "import numpy as np # linear algebra\n",
    "import pandas as pd # data processing, CSV file I/O (e.g. pd.read_csv)\n",
    "import scipy.sparse as sps # creation of sparse matrix\n",
    "import matplotlib.pyplot as pyplot # plot\n",
    "\n",
    "from tqdm import tqdm\n",
    "\n",
    "from scipy.stats import uniform, loguniform\n",
    "import optuna as op"
   ]
  },
  {
   "cell_type": "code",
   "execution_count": 2,
   "metadata": {},
   "outputs": [],
   "source": [
    "%load_ext Cython"
   ]
  },
  {
   "cell_type": "markdown",
   "metadata": {},
   "source": [
    "# Data Preprocessing"
   ]
  },
  {
   "cell_type": "code",
   "execution_count": 3,
   "metadata": {
    "execution": {
     "iopub.execute_input": "2023-11-12T22:55:29.530470Z",
     "iopub.status.busy": "2023-11-12T22:55:29.530065Z",
     "iopub.status.idle": "2023-11-12T22:55:29.536636Z",
     "shell.execute_reply": "2023-11-12T22:55:29.535790Z",
     "shell.execute_reply.started": "2023-11-12T22:55:29.530448Z"
    }
   },
   "outputs": [
    {
     "data": {
      "text/plain": [
       "_io.TextIOWrapper"
      ]
     },
     "execution_count": 3,
     "metadata": {},
     "output_type": "execute_result"
    }
   ],
   "source": [
    "# Handle the input file\n",
    "input_file = open('Input/data_train.csv', 'r')\n",
    "type(input_file)"
   ]
  },
  {
   "cell_type": "code",
   "execution_count": 4,
   "metadata": {
    "execution": {
     "iopub.execute_input": "2023-11-12T22:55:31.169146Z",
     "iopub.status.busy": "2023-11-12T22:55:31.168482Z",
     "iopub.status.idle": "2023-11-12T22:55:31.385566Z",
     "shell.execute_reply": "2023-11-12T22:55:31.384663Z",
     "shell.execute_reply.started": "2023-11-12T22:55:31.169120Z"
    }
   },
   "outputs": [
    {
     "data": {
      "text/plain": [
       "(478730, 3)"
      ]
     },
     "execution_count": 4,
     "metadata": {},
     "output_type": "execute_result"
    }
   ],
   "source": [
    "# Build the dataframe from the input file\n",
    "input_df = pd.read_csv(\n",
    "    filepath_or_buffer=input_file,\n",
    "    dtype={0:int, 1:int, 2:int},\n",
    "    names=['user_id','item_id','data'],\n",
    "    header=0\n",
    ")\n",
    "\n",
    "input_df.shape"
   ]
  },
  {
   "cell_type": "code",
   "execution_count": 5,
   "metadata": {
    "execution": {
     "iopub.execute_input": "2023-11-12T22:55:34.346527Z",
     "iopub.status.busy": "2023-11-12T22:55:34.346196Z",
     "iopub.status.idle": "2023-11-12T22:55:34.361128Z",
     "shell.execute_reply": "2023-11-12T22:55:34.360275Z",
     "shell.execute_reply.started": "2023-11-12T22:55:34.346502Z"
    }
   },
   "outputs": [
    {
     "data": {
      "text/html": [
       "<div>\n",
       "<style scoped>\n",
       "    .dataframe tbody tr th:only-of-type {\n",
       "        vertical-align: middle;\n",
       "    }\n",
       "\n",
       "    .dataframe tbody tr th {\n",
       "        vertical-align: top;\n",
       "    }\n",
       "\n",
       "    .dataframe thead th {\n",
       "        text-align: right;\n",
       "    }\n",
       "</style>\n",
       "<table border=\"1\" class=\"dataframe\">\n",
       "  <thead>\n",
       "    <tr style=\"text-align: right;\">\n",
       "      <th></th>\n",
       "      <th>user_id</th>\n",
       "      <th>item_id</th>\n",
       "      <th>data</th>\n",
       "    </tr>\n",
       "  </thead>\n",
       "  <tbody>\n",
       "    <tr>\n",
       "      <th>0</th>\n",
       "      <td>1</td>\n",
       "      <td>7</td>\n",
       "      <td>1</td>\n",
       "    </tr>\n",
       "    <tr>\n",
       "      <th>1</th>\n",
       "      <td>1</td>\n",
       "      <td>15</td>\n",
       "      <td>1</td>\n",
       "    </tr>\n",
       "    <tr>\n",
       "      <th>2</th>\n",
       "      <td>1</td>\n",
       "      <td>16</td>\n",
       "      <td>1</td>\n",
       "    </tr>\n",
       "    <tr>\n",
       "      <th>3</th>\n",
       "      <td>1</td>\n",
       "      <td>133</td>\n",
       "      <td>1</td>\n",
       "    </tr>\n",
       "    <tr>\n",
       "      <th>4</th>\n",
       "      <td>1</td>\n",
       "      <td>161</td>\n",
       "      <td>1</td>\n",
       "    </tr>\n",
       "    <tr>\n",
       "      <th>5</th>\n",
       "      <td>1</td>\n",
       "      <td>187</td>\n",
       "      <td>1</td>\n",
       "    </tr>\n",
       "    <tr>\n",
       "      <th>6</th>\n",
       "      <td>1</td>\n",
       "      <td>205</td>\n",
       "      <td>1</td>\n",
       "    </tr>\n",
       "    <tr>\n",
       "      <th>7</th>\n",
       "      <td>1</td>\n",
       "      <td>222</td>\n",
       "      <td>1</td>\n",
       "    </tr>\n",
       "    <tr>\n",
       "      <th>8</th>\n",
       "      <td>1</td>\n",
       "      <td>237</td>\n",
       "      <td>1</td>\n",
       "    </tr>\n",
       "    <tr>\n",
       "      <th>9</th>\n",
       "      <td>1</td>\n",
       "      <td>354</td>\n",
       "      <td>1</td>\n",
       "    </tr>\n",
       "  </tbody>\n",
       "</table>\n",
       "</div>"
      ],
      "text/plain": [
       "   user_id  item_id  data\n",
       "0        1        7     1\n",
       "1        1       15     1\n",
       "2        1       16     1\n",
       "3        1      133     1\n",
       "4        1      161     1\n",
       "5        1      187     1\n",
       "6        1      205     1\n",
       "7        1      222     1\n",
       "8        1      237     1\n",
       "9        1      354     1"
      ]
     },
     "execution_count": 5,
     "metadata": {},
     "output_type": "execute_result"
    }
   ],
   "source": [
    "# Show the first rows of the dataframe\n",
    "input_df.head(n=10)"
   ]
  },
  {
   "cell_type": "code",
   "execution_count": 6,
   "metadata": {
    "execution": {
     "iopub.execute_input": "2023-11-12T22:55:37.530832Z",
     "iopub.status.busy": "2023-11-12T22:55:37.530481Z",
     "iopub.status.idle": "2023-11-12T22:55:37.550310Z",
     "shell.execute_reply": "2023-11-12T22:55:37.549787Z",
     "shell.execute_reply.started": "2023-11-12T22:55:37.530806Z"
    }
   },
   "outputs": [
    {
     "name": "stdout",
     "output_type": "stream",
     "text": [
      "[    1     2     3 ... 13022 13023 13024]\n",
      "[    7    15    16 ... 22317 22339 21466]\n"
     ]
    }
   ],
   "source": [
    "# Create arrays of unique user_ids and item_ids\n",
    "arr_users = input_df[\"user_id\"].unique()\n",
    "arr_items = input_df[\"item_id\"].unique()\n",
    "\n",
    "print(arr_users)\n",
    "print(arr_items)"
   ]
  },
  {
   "cell_type": "code",
   "execution_count": 7,
   "metadata": {
    "execution": {
     "iopub.execute_input": "2023-11-12T22:56:02.215375Z",
     "iopub.status.busy": "2023-11-12T22:56:02.214968Z",
     "iopub.status.idle": "2023-11-12T22:56:02.223353Z",
     "shell.execute_reply": "2023-11-12T22:56:02.222530Z",
     "shell.execute_reply.started": "2023-11-12T22:56:02.215349Z"
    }
   },
   "outputs": [
    {
     "name": "stdout",
     "output_type": "stream",
     "text": [
      "Average interaction per user 37.88\n",
      "Average interaction per item 21.54\n",
      "Sparsity 99.83 %\n"
     ]
    }
   ],
   "source": [
    "# Show some statistics\n",
    "n_users = len(arr_users)\n",
    "n_items = len(arr_items)\n",
    "n_interactions = len(input_df)\n",
    "\n",
    "print(\"Average interaction per user {:.2f}\".format(n_interactions/n_users))\n",
    "print(\"Average interaction per item {:.2f}\".format(n_interactions/n_items))\n",
    "print(\"Sparsity {:.2f} %\".format((1-float(n_interactions)/(n_items*n_users))*100))"
   ]
  },
  {
   "cell_type": "code",
   "execution_count": 8,
   "metadata": {},
   "outputs": [
    {
     "name": "stdout",
     "output_type": "stream",
     "text": [
      "Number of users\t 12638, Number of items\t 22222 \n",
      "\n",
      "Max ID users\t 13024, Max ID items\t 22347 \n",
      "\n"
     ]
    }
   ],
   "source": [
    "print(\"Number of users\\t {}, Number of items\\t {} \\n\".format(n_users, n_items))\n",
    "print(\"Max ID users\\t {}, Max ID items\\t {} \\n\".format(max(arr_users), max(arr_items)))"
   ]
  },
  {
   "cell_type": "code",
   "execution_count": 9,
   "metadata": {},
   "outputs": [],
   "source": [
    "# # Remove empty indices, create a new mapping\n",
    "\n",
    "# mapped_id, original_id = pd.factorize(input_df[\"user_id\"].unique())\n",
    "# user_original_ID_to_index = pd.Series(mapped_id, index=original_id)\n",
    "\n",
    "# mapped_id, original_id = pd.factorize(input_df[\"item_id\"].unique())\n",
    "# item_original_ID_to_index = pd.Series(mapped_id, index=original_id)\n",
    "\n",
    "\n",
    "# original_item_ID = 980\n",
    "# print(\"New index for item {} is {}\".format(original_item_ID, item_original_ID_to_index[original_item_ID]))"
   ]
  },
  {
   "cell_type": "code",
   "execution_count": 10,
   "metadata": {},
   "outputs": [],
   "source": [
    "# # Replace the IDs in the dataframe\n",
    "\n",
    "# input_df[\"user_id\"] = input_df[\"user_id\"].map(user_original_ID_to_index)\n",
    "# input_df[\"item_id\"] = input_df[\"item_id\"].map(item_original_ID_to_index)\n",
    "\n",
    "\n",
    "# input_df.head(n=10)"
   ]
  },
  {
   "cell_type": "markdown",
   "metadata": {},
   "source": [
    "# Matrix Conversion"
   ]
  },
  {
   "cell_type": "code",
   "execution_count": 11,
   "metadata": {
    "execution": {
     "iopub.execute_input": "2023-11-12T22:56:41.759574Z",
     "iopub.status.busy": "2023-11-12T22:56:41.759295Z",
     "iopub.status.idle": "2023-11-12T22:56:41.769131Z",
     "shell.execute_reply": "2023-11-12T22:56:41.768410Z",
     "shell.execute_reply.started": "2023-11-12T22:56:41.759551Z"
    }
   },
   "outputs": [
    {
     "data": {
      "text/plain": [
       "<13025x22348 sparse matrix of type '<class 'numpy.int32'>'\n",
       "\twith 478730 stored elements in COOrdinate format>"
      ]
     },
     "execution_count": 11,
     "metadata": {},
     "output_type": "execute_result"
    }
   ],
   "source": [
    "# Build the COO matrix with the COO constructor: (data, (row, column))\n",
    "URM_all = sps.coo_matrix(\n",
    "    (input_df[\"data\"].values,\n",
    "    (input_df[\"user_id\"].values, input_df[\"item_id\"].values))\n",
    ")\n",
    "\n",
    "URM_all"
   ]
  },
  {
   "cell_type": "code",
   "execution_count": 12,
   "metadata": {
    "execution": {
     "iopub.execute_input": "2023-11-12T22:56:46.591716Z",
     "iopub.status.busy": "2023-11-12T22:56:46.591432Z",
     "iopub.status.idle": "2023-11-12T22:56:46.605733Z",
     "shell.execute_reply": "2023-11-12T22:56:46.604615Z",
     "shell.execute_reply.started": "2023-11-12T22:56:46.591696Z"
    }
   },
   "outputs": [
    {
     "data": {
      "text/plain": [
       "<13025x22348 sparse matrix of type '<class 'numpy.intc'>'\n",
       "\twith 478730 stored elements in Compressed Sparse Row format>"
      ]
     },
     "execution_count": 12,
     "metadata": {},
     "output_type": "execute_result"
    }
   ],
   "source": [
    "# Convert the matrix to Compressed Sparse Row format\n",
    "URM_all = URM_all.tocsr()\n",
    "\n",
    "URM_all"
   ]
  },
  {
   "cell_type": "code",
   "execution_count": 13,
   "metadata": {
    "execution": {
     "iopub.execute_input": "2023-11-12T22:56:50.673578Z",
     "iopub.status.busy": "2023-11-12T22:56:50.673250Z",
     "iopub.status.idle": "2023-11-12T22:56:50.688362Z",
     "shell.execute_reply": "2023-11-12T22:56:50.687787Z",
     "shell.execute_reply.started": "2023-11-12T22:56:50.673552Z"
    }
   },
   "outputs": [
    {
     "data": {
      "text/plain": [
       "array([   0, 1581, 1764, ...,    3,    5,    2])"
      ]
     },
     "execution_count": 13,
     "metadata": {},
     "output_type": "execute_result"
    }
   ],
   "source": [
    "# Compute the item popularity as the number of interaction in each column\n",
    "\n",
    "# numpy.ediff1d(): calculate the differences between consecutive elements of an array.\n",
    "# (scipy) indptr maps the elements of data and indices to the rows of the sparse matrix.\n",
    "item_popularity = np.ediff1d(URM_all.tocsc().indptr)\n",
    "item_popularity"
   ]
  },
  {
   "cell_type": "code",
   "execution_count": 14,
   "metadata": {
    "execution": {
     "iopub.execute_input": "2023-11-12T22:56:52.555626Z",
     "iopub.status.busy": "2023-11-12T22:56:52.554891Z",
     "iopub.status.idle": "2023-11-12T22:56:52.562565Z",
     "shell.execute_reply": "2023-11-12T22:56:52.561896Z",
     "shell.execute_reply.started": "2023-11-12T22:56:52.555593Z"
    }
   },
   "outputs": [
    {
     "data": {
      "text/plain": [
       "array([   0,    0,    0, ..., 1581, 1666, 1764])"
      ]
     },
     "execution_count": 14,
     "metadata": {},
     "output_type": "execute_result"
    }
   ],
   "source": [
    "# Sort the popularity array\n",
    "item_popularity = np.sort(item_popularity)\n",
    "item_popularity"
   ]
  },
  {
   "cell_type": "code",
   "execution_count": 15,
   "metadata": {
    "execution": {
     "iopub.execute_input": "2023-11-12T22:56:54.597465Z",
     "iopub.status.busy": "2023-11-12T22:56:54.597146Z",
     "iopub.status.idle": "2023-11-12T22:56:54.812621Z",
     "shell.execute_reply": "2023-11-12T22:56:54.811595Z",
     "shell.execute_reply.started": "2023-11-12T22:56:54.597440Z"
    }
   },
   "outputs": [
    {
     "data": {
      "image/png": "[encoded data removed]",
      "text/plain": [
       "<Figure size 640x480 with 1 Axes>"
      ]
     },
     "metadata": {},
     "output_type": "display_data"
    }
   ],
   "source": [
    "# Plot the correlation between sorted items and the number of interactions.\n",
    "pyplot.plot(item_popularity, 'ro')\n",
    "pyplot.ylabel('Num Interactions')\n",
    "pyplot.xlabel('Sorted Item')\n",
    "pyplot.show()"
   ]
  },
  {
   "cell_type": "code",
   "execution_count": 16,
   "metadata": {
    "execution": {
     "iopub.execute_input": "2023-11-12T22:56:58.473087Z",
     "iopub.status.busy": "2023-11-12T22:56:58.472593Z",
     "iopub.status.idle": "2023-11-12T22:56:58.479846Z",
     "shell.execute_reply": "2023-11-12T22:56:58.478957Z",
     "shell.execute_reply.started": "2023-11-12T22:56:58.473061Z"
    }
   },
   "outputs": [
    {
     "name": "stdout",
     "output_type": "stream",
     "text": [
      "Average per-item interactions over the whole dataset 21.42\n",
      "Average per-item interactions for the top 10% popular items 122.73\n",
      "Average per-item interactions for the least 10% popular items 2.18\n",
      "Average per-item interactions for the median 10% popular items 8.25\n",
      "Number of items with zero interactions 126\n"
     ]
    }
   ],
   "source": [
    "# Statistics\n",
    "ten_percent = int(n_items/10)\n",
    "\n",
    "print(\"Average per-item interactions over the whole dataset {:.2f}\".\n",
    "      format(item_popularity.mean()))\n",
    "\n",
    "print(\"Average per-item interactions for the top 10% popular items {:.2f}\".\n",
    "      format(item_popularity[-ten_percent:].mean()))\n",
    "\n",
    "print(\"Average per-item interactions for the least 10% popular items {:.2f}\".\n",
    "      format(item_popularity[:ten_percent].mean()))\n",
    "\n",
    "print(\"Average per-item interactions for the median 10% popular items {:.2f}\".\n",
    "      format(item_popularity[int(n_items*0.45):int(n_items*0.55)].mean()))\n",
    "\n",
    "print(\"Number of items with zero interactions {}\".\n",
    "      format(np.sum(item_popularity==0)))"
   ]
  },
  {
   "cell_type": "code",
   "execution_count": 17,
   "metadata": {
    "execution": {
     "iopub.execute_input": "2023-11-12T22:57:08.195018Z",
     "iopub.status.busy": "2023-11-12T22:57:08.194711Z",
     "iopub.status.idle": "2023-11-12T22:57:08.201059Z",
     "shell.execute_reply": "2023-11-12T22:57:08.200165Z",
     "shell.execute_reply.started": "2023-11-12T22:57:08.194997Z"
    }
   },
   "outputs": [
    {
     "data": {
      "text/plain": [
       "array([   0,    0,    0, ...,  729,  824, 1351])"
      ]
     },
     "execution_count": 17,
     "metadata": {},
     "output_type": "execute_result"
    }
   ],
   "source": [
    "# Compute the user activity as the number of interaction in each row\n",
    "user_activity = np.ediff1d(URM_all.indptr)\n",
    "user_activity = np.sort(user_activity)\n",
    "user_activity"
   ]
  },
  {
   "cell_type": "code",
   "execution_count": 18,
   "metadata": {
    "execution": {
     "iopub.execute_input": "2023-11-12T22:57:10.794195Z",
     "iopub.status.busy": "2023-11-12T22:57:10.793893Z",
     "iopub.status.idle": "2023-11-12T22:57:10.963991Z",
     "shell.execute_reply": "2023-11-12T22:57:10.963156Z",
     "shell.execute_reply.started": "2023-11-12T22:57:10.794172Z"
    }
   },
   "outputs": [
    {
     "data": {
      "image/png": "[encoded data removed]",
      "text/plain": [
       "<Figure size 640x480 with 1 Axes>"
      ]
     },
     "metadata": {},
     "output_type": "display_data"
    }
   ],
   "source": [
    "# Plot the correlation between sorted users and number of interactions\n",
    "pyplot.plot(user_activity, 'ro')\n",
    "pyplot.ylabel('Num Interactions')\n",
    "pyplot.xlabel('Sorted User')\n",
    "pyplot.show()"
   ]
  },
  {
   "cell_type": "markdown",
   "metadata": {},
   "source": [
    "# Evaluation of the recommender"
   ]
  },
  {
   "cell_type": "code",
   "execution_count": 19,
   "metadata": {
    "execution": {
     "iopub.execute_input": "2023-11-12T22:57:21.250734Z",
     "iopub.status.busy": "2023-11-12T22:57:21.250427Z",
     "iopub.status.idle": "2023-11-12T22:57:21.254680Z",
     "shell.execute_reply": "2023-11-12T22:57:21.253888Z",
     "shell.execute_reply.started": "2023-11-12T22:57:21.250710Z"
    }
   },
   "outputs": [],
   "source": [
    "# Define the train-test splitting ratio\n",
    "train_test_split = 0.85"
   ]
  },
  {
   "cell_type": "code",
   "execution_count": 20,
   "metadata": {},
   "outputs": [],
   "source": [
    "# Import Evaluators\n",
    "from Evaluation.Evaluator import EvaluatorHoldout\n",
    "from Data_manager.split_functions.split_train_validation_random_holdout import split_train_in_two_percentage_global_sample"
   ]
  },
  {
   "cell_type": "code",
   "execution_count": 21,
   "metadata": {},
   "outputs": [
    {
     "name": "stdout",
     "output_type": "stream",
     "text": [
      "Warning: 533 (4.09 %) of 13025 users have no train items\n",
      "Warning: 3175 (24.38 %) of 13025 users have no sampled items\n",
      "EvaluatorHoldout: Ignoring 3175 (24.4%) Users that have less than 1 test interactions\n"
     ]
    }
   ],
   "source": [
    "URM_train, URM_test = split_train_in_two_percentage_global_sample(URM_all, train_percentage = train_test_split)\n",
    "# URM_train, URM_validation = split_train_in_two_percentage_global_sample(URM_train, train_percentage = train_test_split)\n",
    "\n",
    "\n",
    "# evaluator_validation = EvaluatorHoldout(URM_validation, cutoff_list=[10])\n",
    "evaluator_test = EvaluatorHoldout(URM_test, cutoff_list=[10])"
   ]
  },
  {
   "cell_type": "markdown",
   "metadata": {},
   "source": [
    "## EASE-R Recommender"
   ]
  },
  {
   "cell_type": "code",
   "execution_count": 22,
   "metadata": {},
   "outputs": [],
   "source": [
    "from Recommenders.EASE_R.EASE_R_Recommender import EASE_R_Recommender"
   ]
  },
  {
   "cell_type": "code",
   "execution_count": 23,
   "metadata": {},
   "outputs": [
    {
     "name": "stdout",
     "output_type": "stream",
     "text": [
      "EASE_R_Recommender: URM Detected 533 ( 4.1%) users with no interactions.\n",
      "EASE_R_Recommender: URM Detected 204 ( 0.9%) items with no interactions.\n",
      "EASE_R_Recommender: Fitting model... \n",
      "EASE_R_Recommender: Fitting model... done in 1.39 min\n"
     ]
    }
   ],
   "source": [
    "recommender = EASE_R_Recommender(URM_train)\n",
    "recommender.fit(topK=35, l2_norm=23, normalize_matrix=False)"
   ]
  },
  {
   "cell_type": "code",
   "execution_count": 24,
   "metadata": {},
   "outputs": [
    {
     "name": "stdout",
     "output_type": "stream",
     "text": [
      "EvaluatorHoldout: Processed 9850 (100.0%) in 5.23 sec. Users per second: 1884\n"
     ]
    },
    {
     "data": {
      "text/plain": [
       "PRECISION                      0.078528\n",
       "PRECISION_RECALL_MIN_DEN       0.157538\n",
       "RECALL                         0.141494\n",
       "MAP                            0.038857\n",
       "MAP_MIN_DEN                    0.078124\n",
       "MRR                            0.239584\n",
       "NDCG                           0.137784\n",
       "F1                             0.101001\n",
       "HIT_RATE                       0.476447\n",
       "ARHR_ALL_HITS                  0.303045\n",
       "NOVELTY                        0.005167\n",
       "AVERAGE_POPULARITY             0.162372\n",
       "DIVERSITY_MEAN_INTER_LIST      0.984124\n",
       "DIVERSITY_HERFINDAHL           0.998402\n",
       "COVERAGE_ITEM                  0.302264\n",
       "COVERAGE_ITEM_HIT              0.078396\n",
       "ITEMS_IN_GT                    0.720691\n",
       "COVERAGE_USER                  0.756238\n",
       "COVERAGE_USER_HIT              0.360307\n",
       "USERS_IN_GT                    0.756238\n",
       "DIVERSITY_GINI                 0.060157\n",
       "SHANNON_ENTROPY               10.491387\n",
       "RATIO_DIVERSITY_HERFINDAHL     0.998764\n",
       "RATIO_DIVERSITY_GINI           0.172767\n",
       "RATIO_SHANNON_ENTROPY          0.807915\n",
       "RATIO_AVERAGE_POPULARITY       1.351483\n",
       "RATIO_NOVELTY                   0.28462\n",
       "Name: 10, dtype: object"
      ]
     },
     "execution_count": 24,
     "metadata": {},
     "output_type": "execute_result"
    }
   ],
   "source": [
    "result, _ = evaluator_test.evaluateRecommender(recommender)\n",
    "result.loc[10]"
   ]
  },
  {
   "cell_type": "code",
   "execution_count": 29,
   "metadata": {},
   "outputs": [
    {
     "name": "stdout",
     "output_type": "stream",
     "text": [
      "EASE_R_Recommender: URM Detected 533 ( 4.1%) users with no interactions.\n",
      "EASE_R_Recommender: URM Detected 204 ( 0.9%) items with no interactions.\n",
      "EASE_R_Recommender: Fitting model... \n",
      "EASE_R_Recommender: Fitting model... done in 1.32 min\n"
     ]
    }
   ],
   "source": [
    "recommender = EASE_R_Recommender(URM_train)\n",
    "recommender.fit(topK=10, l2_norm=100, normalize_matrix=True)"
   ]
  },
  {
   "cell_type": "code",
   "execution_count": 30,
   "metadata": {},
   "outputs": [
    {
     "name": "stdout",
     "output_type": "stream",
     "text": [
      "EvaluatorHoldout: Processed 9850 (100.0%) in 5.02 sec. Users per second: 1961\n"
     ]
    },
    {
     "data": {
      "text/plain": [
       "PRECISION                      0.022843\n",
       "PRECISION_RECALL_MIN_DEN       0.054881\n",
       "RECALL                         0.049828\n",
       "MAP                            0.010417\n",
       "MAP_MIN_DEN                    0.023612\n",
       "MRR                            0.074443\n",
       "NDCG                           0.042959\n",
       "F1                             0.031325\n",
       "HIT_RATE                       0.166091\n",
       "ARHR_ALL_HITS                  0.087289\n",
       "NOVELTY                        0.007061\n",
       "AVERAGE_POPULARITY              0.01877\n",
       "DIVERSITY_MEAN_INTER_LIST      0.997829\n",
       "DIVERSITY_HERFINDAHL           0.999773\n",
       "COVERAGE_ITEM                  0.899499\n",
       "COVERAGE_ITEM_HIT              0.071371\n",
       "ITEMS_IN_GT                    0.720691\n",
       "COVERAGE_USER                  0.756238\n",
       "COVERAGE_USER_HIT              0.125605\n",
       "USERS_IN_GT                    0.756238\n",
       "DIVERSITY_GINI                 0.535462\n",
       "SHANNON_ENTROPY               13.760032\n",
       "RATIO_DIVERSITY_HERFINDAHL     1.000134\n",
       "RATIO_DIVERSITY_GINI           1.537822\n",
       "RATIO_SHANNON_ENTROPY          1.059625\n",
       "RATIO_AVERAGE_POPULARITY       0.156229\n",
       "RATIO_NOVELTY                  0.388987\n",
       "Name: 10, dtype: object"
      ]
     },
     "execution_count": 30,
     "metadata": {},
     "output_type": "execute_result"
    }
   ],
   "source": [
    "result, _ = evaluator_test.evaluateRecommender(recommender)\n",
    "result.loc[10]"
   ]
  },
  {
   "cell_type": "code",
   "execution_count": 14,
   "metadata": {},
   "outputs": [],
   "source": [
    "def objective(trial):\n",
    "    topK = trial.suggest_int(\"topK\", 1, 180)\n",
    "    l2_norm = trial.suggest_int(\"l2_norm\", 1, 100)\n",
    "\n",
    "    recommender = EASE_R_Recommender(URM_train)\n",
    "    recommender.fit(topK=topK, l2_norm=l2_norm)\n",
    "    \n",
    "    result, _ = evaluator_test.evaluateRecommender(recommender)\n",
    "    MAP_result = result[\"MAP\"].item()\n",
    "       \n",
    "    return MAP_result"
   ]
  },
  {
   "cell_type": "code",
   "execution_count": 15,
   "metadata": {},
   "outputs": [],
   "source": [
    "best_params = {\n",
    "    'topK': 40,\n",
    "    'l2_norm': 30,\n",
    "}"
   ]
  },
  {
   "cell_type": "code",
   "execution_count": 16,
   "metadata": {
    "scrolled": true
   },
   "outputs": [
    {
     "name": "stderr",
     "output_type": "stream",
     "text": [
      "[I 2023-12-17 18:53:58,841] A new study created in memory with name: no-name-ec9c9cc5-5c2c-4e75-a21c-ceb1ab7ddc7f\n"
     ]
    },
    {
     "name": "stdout",
     "output_type": "stream",
     "text": [
      "EASE_R_Recommender: URM Detected 552 ( 4.2%) users with no interactions.\n",
      "EASE_R_Recommender: URM Detected 194 ( 0.9%) items with no interactions.\n",
      "EASE_R_Recommender: Fitting model... \n",
      "EASE_R_Recommender: Fitting model... done in 1.33 min\n",
      "EvaluatorHoldout: Processed 9908 (100.0%) in 5.25 sec. Users per second: 1887\n"
     ]
    },
    {
     "name": "stderr",
     "output_type": "stream",
     "text": [
      "[I 2023-12-17 18:55:35,739] Trial 0 finished with value: 0.03933217345611418 and parameters: {'topK': 40, 'l2_norm': 30}. Best is trial 0 with value: 0.03933217345611418.\n"
     ]
    },
    {
     "name": "stdout",
     "output_type": "stream",
     "text": [
      "EASE_R_Recommender: URM Detected 552 ( 4.2%) users with no interactions.\n",
      "EASE_R_Recommender: URM Detected 194 ( 0.9%) items with no interactions.\n",
      "EASE_R_Recommender: Fitting model... \n",
      "EASE_R_Recommender: Fitting model... done in 1.34 min\n",
      "EvaluatorHoldout: Processed 9908 (100.0%) in 5.02 sec. Users per second: 1972\n"
     ]
    },
    {
     "name": "stderr",
     "output_type": "stream",
     "text": [
      "[I 2023-12-17 18:57:12,299] Trial 1 finished with value: 0.03764296207650114 and parameters: {'topK': 5, 'l2_norm': 43}. Best is trial 0 with value: 0.03933217345611418.\n"
     ]
    },
    {
     "name": "stdout",
     "output_type": "stream",
     "text": [
      "EASE_R_Recommender: URM Detected 552 ( 4.2%) users with no interactions.\n",
      "EASE_R_Recommender: URM Detected 194 ( 0.9%) items with no interactions.\n",
      "EASE_R_Recommender: Fitting model... \n",
      "EASE_R_Recommender: Fitting model... done in 1.32 min\n",
      "EvaluatorHoldout: Processed 9908 (100.0%) in 5.65 sec. Users per second: 1753\n"
     ]
    },
    {
     "name": "stderr",
     "output_type": "stream",
     "text": [
      "[I 2023-12-17 18:58:50,542] Trial 2 finished with value: 0.03868915450718079 and parameters: {'topK': 118, 'l2_norm': 40}. Best is trial 0 with value: 0.03933217345611418.\n"
     ]
    },
    {
     "name": "stdout",
     "output_type": "stream",
     "text": [
      "EASE_R_Recommender: URM Detected 552 ( 4.2%) users with no interactions.\n",
      "EASE_R_Recommender: URM Detected 194 ( 0.9%) items with no interactions.\n",
      "EASE_R_Recommender: Fitting model... \n",
      "EASE_R_Recommender: Fitting model... done in 1.33 min\n",
      "EvaluatorHoldout: Processed 9908 (100.0%) in 5.72 sec. Users per second: 1731\n"
     ]
    },
    {
     "name": "stderr",
     "output_type": "stream",
     "text": [
      "[I 2023-12-17 19:00:29,211] Trial 3 finished with value: 0.03856700293493842 and parameters: {'topK': 108, 'l2_norm': 61}. Best is trial 0 with value: 0.03933217345611418.\n"
     ]
    },
    {
     "name": "stdout",
     "output_type": "stream",
     "text": [
      "EASE_R_Recommender: URM Detected 552 ( 4.2%) users with no interactions.\n",
      "EASE_R_Recommender: URM Detected 194 ( 0.9%) items with no interactions.\n",
      "EASE_R_Recommender: Fitting model... \n",
      "EASE_R_Recommender: Fitting model... done in 1.32 min\n",
      "EvaluatorHoldout: Processed 9908 (100.0%) in 5.19 sec. Users per second: 1907\n"
     ]
    },
    {
     "name": "stderr",
     "output_type": "stream",
     "text": [
      "[I 2023-12-17 19:02:05,530] Trial 4 finished with value: 0.0386063810869528 and parameters: {'topK': 24, 'l2_norm': 71}. Best is trial 0 with value: 0.03933217345611418.\n"
     ]
    },
    {
     "name": "stdout",
     "output_type": "stream",
     "text": [
      "EASE_R_Recommender: URM Detected 552 ( 4.2%) users with no interactions.\n",
      "EASE_R_Recommender: URM Detected 194 ( 0.9%) items with no interactions.\n",
      "EASE_R_Recommender: Fitting model... \n",
      "EASE_R_Recommender: Fitting model... done in 1.33 min\n",
      "EvaluatorHoldout: Processed 9908 (100.0%) in 5.36 sec. Users per second: 1850\n"
     ]
    },
    {
     "name": "stderr",
     "output_type": "stream",
     "text": [
      "[I 2023-12-17 19:03:43,229] Trial 5 finished with value: 0.039118433236570584 and parameters: {'topK': 64, 'l2_norm': 36}. Best is trial 0 with value: 0.03933217345611418.\n"
     ]
    },
    {
     "name": "stdout",
     "output_type": "stream",
     "text": [
      "EASE_R_Recommender: URM Detected 552 ( 4.2%) users with no interactions.\n",
      "EASE_R_Recommender: URM Detected 194 ( 0.9%) items with no interactions.\n",
      "EASE_R_Recommender: Fitting model... \n",
      "EASE_R_Recommender: Fitting model... done in 1.35 min\n",
      "EvaluatorHoldout: Processed 9908 (100.0%) in 5.77 sec. Users per second: 1718\n"
     ]
    },
    {
     "name": "stderr",
     "output_type": "stream",
     "text": [
      "[I 2023-12-17 19:05:23,617] Trial 6 finished with value: 0.03838625673658015 and parameters: {'topK': 140, 'l2_norm': 67}. Best is trial 0 with value: 0.03933217345611418.\n"
     ]
    },
    {
     "name": "stdout",
     "output_type": "stream",
     "text": [
      "EASE_R_Recommender: URM Detected 552 ( 4.2%) users with no interactions.\n",
      "EASE_R_Recommender: URM Detected 194 ( 0.9%) items with no interactions.\n",
      "EASE_R_Recommender: Fitting model... \n",
      "EASE_R_Recommender: Fitting model... done in 1.33 min\n",
      "EvaluatorHoldout: Processed 9908 (100.0%) in 5.76 sec. Users per second: 1720\n"
     ]
    },
    {
     "name": "stderr",
     "output_type": "stream",
     "text": [
      "[I 2023-12-17 19:07:02,888] Trial 7 finished with value: 0.038393962550705096 and parameters: {'topK': 146, 'l2_norm': 67}. Best is trial 0 with value: 0.03933217345611418.\n"
     ]
    },
    {
     "name": "stdout",
     "output_type": "stream",
     "text": [
      "EASE_R_Recommender: URM Detected 552 ( 4.2%) users with no interactions.\n",
      "EASE_R_Recommender: URM Detected 194 ( 0.9%) items with no interactions.\n",
      "EASE_R_Recommender: Fitting model... \n",
      "EASE_R_Recommender: Fitting model... done in 1.34 min\n",
      "EvaluatorHoldout: Processed 9908 (100.0%) in 5.00 sec. Users per second: 1982\n"
     ]
    },
    {
     "name": "stderr",
     "output_type": "stream",
     "text": [
      "[I 2023-12-17 19:08:36,149] Trial 8 finished with value: 0.0280684960365522 and parameters: {'topK': 1, 'l2_norm': 56}. Best is trial 0 with value: 0.03933217345611418.\n"
     ]
    },
    {
     "name": "stdout",
     "output_type": "stream",
     "text": [
      "EASE_R_Recommender: URM Detected 552 ( 4.2%) users with no interactions.\n",
      "EASE_R_Recommender: URM Detected 194 ( 0.9%) items with no interactions.\n",
      "EASE_R_Recommender: Fitting model... \n",
      "EASE_R_Recommender: Fitting model... done in 1.35 min\n",
      "EvaluatorHoldout: Processed 9908 (100.0%) in 5.92 sec. Users per second: 1674\n"
     ]
    },
    {
     "name": "stderr",
     "output_type": "stream",
     "text": [
      "[I 2023-12-17 19:10:16,929] Trial 9 finished with value: 0.03853579518875288 and parameters: {'topK': 136, 'l2_norm': 61}. Best is trial 0 with value: 0.03933217345611418.\n"
     ]
    },
    {
     "name": "stdout",
     "output_type": "stream",
     "text": [
      "EASE_R_Recommender: URM Detected 552 ( 4.2%) users with no interactions.\n",
      "EASE_R_Recommender: URM Detected 194 ( 0.9%) items with no interactions.\n",
      "EASE_R_Recommender: Fitting model... \n",
      "EASE_R_Recommender: Fitting model... done in 1.33 min\n",
      "EvaluatorHoldout: Processed 9908 (100.0%) in 5.27 sec. Users per second: 1880\n"
     ]
    },
    {
     "name": "stderr",
     "output_type": "stream",
     "text": [
      "[I 2023-12-17 19:11:55,326] Trial 10 finished with value: 0.037050940077283004 and parameters: {'topK': 65, 'l2_norm': 6}. Best is trial 0 with value: 0.03933217345611418.\n"
     ]
    },
    {
     "name": "stdout",
     "output_type": "stream",
     "text": [
      "EASE_R_Recommender: URM Detected 552 ( 4.2%) users with no interactions.\n",
      "EASE_R_Recommender: URM Detected 194 ( 0.9%) items with no interactions.\n",
      "EASE_R_Recommender: Fitting model... \n",
      "EASE_R_Recommender: Fitting model... done in 1.33 min\n",
      "EvaluatorHoldout: Processed 9908 (100.0%) in 5.36 sec. Users per second: 1850\n"
     ]
    },
    {
     "name": "stderr",
     "output_type": "stream",
     "text": [
      "[I 2023-12-17 19:13:33,145] Trial 11 finished with value: 0.039363989977635905 and parameters: {'topK': 63, 'l2_norm': 21}. Best is trial 11 with value: 0.039363989977635905.\n"
     ]
    },
    {
     "name": "stdout",
     "output_type": "stream",
     "text": [
      "EASE_R_Recommender: URM Detected 552 ( 4.2%) users with no interactions.\n",
      "EASE_R_Recommender: URM Detected 194 ( 0.9%) items with no interactions.\n",
      "EASE_R_Recommender: Fitting model... \n",
      "EASE_R_Recommender: Fitting model... done in 1.33 min\n",
      "EvaluatorHoldout: Processed 9908 (100.0%) in 5.34 sec. Users per second: 1857\n"
     ]
    },
    {
     "name": "stderr",
     "output_type": "stream",
     "text": [
      "[I 2023-12-17 19:15:10,943] Trial 12 finished with value: 0.039270050336108524 and parameters: {'topK': 55, 'l2_norm': 19}. Best is trial 11 with value: 0.039363989977635905.\n"
     ]
    },
    {
     "name": "stdout",
     "output_type": "stream",
     "text": [
      "EASE_R_Recommender: URM Detected 552 ( 4.2%) users with no interactions.\n",
      "EASE_R_Recommender: URM Detected 194 ( 0.9%) items with no interactions.\n",
      "EASE_R_Recommender: Fitting model... \n",
      "EASE_R_Recommender: Fitting model... done in 1.37 min\n",
      "EvaluatorHoldout: Processed 9908 (100.0%) in 6.01 sec. Users per second: 1649\n"
     ]
    },
    {
     "name": "stderr",
     "output_type": "stream",
     "text": [
      "[I 2023-12-17 19:16:53,661] Trial 13 finished with value: 0.037457505879488553 and parameters: {'topK': 179, 'l2_norm': 96}. Best is trial 11 with value: 0.039363989977635905.\n"
     ]
    },
    {
     "name": "stdout",
     "output_type": "stream",
     "text": [
      "EASE_R_Recommender: URM Detected 552 ( 4.2%) users with no interactions.\n",
      "EASE_R_Recommender: URM Detected 194 ( 0.9%) items with no interactions.\n",
      "EASE_R_Recommender: Fitting model... \n",
      "EASE_R_Recommender: Fitting model... done in 1.34 min\n",
      "EvaluatorHoldout: Processed 9908 (100.0%) in 5.32 sec. Users per second: 1862\n"
     ]
    },
    {
     "name": "stderr",
     "output_type": "stream",
     "text": [
      "[I 2023-12-17 19:18:31,659] Trial 14 finished with value: 0.03948435126977761 and parameters: {'topK': 39, 'l2_norm': 23}. Best is trial 14 with value: 0.03948435126977761.\n"
     ]
    },
    {
     "name": "stdout",
     "output_type": "stream",
     "text": [
      "EASE_R_Recommender: URM Detected 552 ( 4.2%) users with no interactions.\n",
      "EASE_R_Recommender: URM Detected 194 ( 0.9%) items with no interactions.\n",
      "EASE_R_Recommender: Fitting model... \n",
      "EASE_R_Recommender: Fitting model... done in 1.42 min\n",
      "EvaluatorHoldout: Processed 9908 (100.0%) in 5.44 sec. Users per second: 1821\n"
     ]
    },
    {
     "name": "stderr",
     "output_type": "stream",
     "text": [
      "[I 2023-12-17 19:20:15,770] Trial 15 finished with value: 0.03512602850991068 and parameters: {'topK': 94, 'l2_norm': 4}. Best is trial 14 with value: 0.03948435126977761.\n"
     ]
    },
    {
     "name": "stdout",
     "output_type": "stream",
     "text": [
      "EASE_R_Recommender: URM Detected 552 ( 4.2%) users with no interactions.\n",
      "EASE_R_Recommender: URM Detected 194 ( 0.9%) items with no interactions.\n",
      "EASE_R_Recommender: Fitting model... \n",
      "EASE_R_Recommender: Fitting model... done in 1.36 min\n",
      "EvaluatorHoldout: Processed 9908 (100.0%) in 5.42 sec. Users per second: 1827\n"
     ]
    },
    {
     "name": "stderr",
     "output_type": "stream",
     "text": [
      "[I 2023-12-17 19:21:55,988] Trial 16 finished with value: 0.03928967132540048 and parameters: {'topK': 76, 'l2_norm': 22}. Best is trial 14 with value: 0.03948435126977761.\n"
     ]
    },
    {
     "name": "stdout",
     "output_type": "stream",
     "text": [
      "EASE_R_Recommender: URM Detected 552 ( 4.2%) users with no interactions.\n",
      "EASE_R_Recommender: URM Detected 194 ( 0.9%) items with no interactions.\n",
      "EASE_R_Recommender: Fitting model... \n",
      "EASE_R_Recommender: Fitting model... done in 1.32 min\n",
      "EvaluatorHoldout: Processed 9908 (100.0%) in 5.31 sec. Users per second: 1865\n"
     ]
    },
    {
     "name": "stderr",
     "output_type": "stream",
     "text": [
      "[I 2023-12-17 19:23:33,080] Trial 17 finished with value: 0.03892112594600545 and parameters: {'topK': 34, 'l2_norm': 12}. Best is trial 14 with value: 0.03948435126977761.\n"
     ]
    },
    {
     "name": "stdout",
     "output_type": "stream",
     "text": [
      "EASE_R_Recommender: URM Detected 552 ( 4.2%) users with no interactions.\n",
      "EASE_R_Recommender: URM Detected 194 ( 0.9%) items with no interactions.\n",
      "EASE_R_Recommender: Fitting model... \n",
      "EASE_R_Recommender: Fitting model... done in 1.32 min\n",
      "EvaluatorHoldout: Processed 9908 (100.0%) in 5.53 sec. Users per second: 1791\n"
     ]
    },
    {
     "name": "stderr",
     "output_type": "stream",
     "text": [
      "[I 2023-12-17 19:25:11,364] Trial 18 finished with value: 0.039058849350533234 and parameters: {'topK': 92, 'l2_norm': 26}. Best is trial 14 with value: 0.03948435126977761.\n"
     ]
    },
    {
     "name": "stdout",
     "output_type": "stream",
     "text": [
      "EASE_R_Recommender: URM Detected 552 ( 4.2%) users with no interactions.\n",
      "EASE_R_Recommender: URM Detected 194 ( 0.9%) items with no interactions.\n",
      "EASE_R_Recommender: Fitting model... \n",
      "EASE_R_Recommender: Fitting model... done in 1.33 min\n",
      "EvaluatorHoldout: Processed 9908 (100.0%) in 5.35 sec. Users per second: 1850\n"
     ]
    },
    {
     "name": "stderr",
     "output_type": "stream",
     "text": [
      "[I 2023-12-17 19:26:49,235] Trial 19 finished with value: 0.03904137910042283 and parameters: {'topK': 48, 'l2_norm': 47}. Best is trial 14 with value: 0.03948435126977761.\n"
     ]
    },
    {
     "name": "stdout",
     "output_type": "stream",
     "text": [
      "EASE_R_Recommender: URM Detected 552 ( 4.2%) users with no interactions.\n",
      "EASE_R_Recommender: URM Detected 194 ( 0.9%) items with no interactions.\n",
      "EASE_R_Recommender: Fitting model... \n",
      "EASE_R_Recommender: Fitting model... done in 1.32 min\n",
      "EvaluatorHoldout: Processed 9908 (100.0%) in 5.08 sec. Users per second: 1950\n"
     ]
    },
    {
     "name": "stderr",
     "output_type": "stream",
     "text": [
      "[I 2023-12-17 19:28:26,099] Trial 20 finished with value: 0.03892659290872912 and parameters: {'topK': 17, 'l2_norm': 16}. Best is trial 14 with value: 0.03948435126977761.\n"
     ]
    },
    {
     "name": "stdout",
     "output_type": "stream",
     "text": [
      "EASE_R_Recommender: URM Detected 552 ( 4.2%) users with no interactions.\n",
      "EASE_R_Recommender: URM Detected 194 ( 0.9%) items with no interactions.\n",
      "EASE_R_Recommender: Fitting model... \n",
      "EASE_R_Recommender: Fitting model... done in 1.34 min\n",
      "EvaluatorHoldout: Processed 9908 (100.0%) in 5.26 sec. Users per second: 1884\n"
     ]
    },
    {
     "name": "stderr",
     "output_type": "stream",
     "text": [
      "[I 2023-12-17 19:30:04,033] Trial 21 finished with value: 0.03940074879366414 and parameters: {'topK': 38, 'l2_norm': 29}. Best is trial 14 with value: 0.03948435126977761.\n"
     ]
    },
    {
     "name": "stdout",
     "output_type": "stream",
     "text": [
      "EASE_R_Recommender: URM Detected 552 ( 4.2%) users with no interactions.\n",
      "EASE_R_Recommender: URM Detected 194 ( 0.9%) items with no interactions.\n",
      "EASE_R_Recommender: Fitting model... \n",
      "EASE_R_Recommender: Fitting model... done in 1.32 min\n",
      "EvaluatorHoldout: Processed 9908 (100.0%) in 5.46 sec. Users per second: 1815\n"
     ]
    },
    {
     "name": "stderr",
     "output_type": "stream",
     "text": [
      "[I 2023-12-17 19:31:41,798] Trial 22 finished with value: 0.0390944066362924 and parameters: {'topK': 79, 'l2_norm': 28}. Best is trial 14 with value: 0.03948435126977761.\n"
     ]
    },
    {
     "name": "stdout",
     "output_type": "stream",
     "text": [
      "EASE_R_Recommender: URM Detected 552 ( 4.2%) users with no interactions.\n",
      "EASE_R_Recommender: URM Detected 194 ( 0.9%) items with no interactions.\n",
      "EASE_R_Recommender: Fitting model... \n",
      "EASE_R_Recommender: Fitting model... done in 1.33 min\n",
      "EvaluatorHoldout: Processed 9908 (100.0%) in 5.27 sec. Users per second: 1881\n"
     ]
    },
    {
     "name": "stderr",
     "output_type": "stream",
     "text": [
      "[I 2023-12-17 19:33:18,828] Trial 23 finished with value: 0.03930512300465919 and parameters: {'topK': 29, 'l2_norm': 35}. Best is trial 14 with value: 0.03948435126977761.\n"
     ]
    },
    {
     "name": "stdout",
     "output_type": "stream",
     "text": [
      "EASE_R_Recommender: URM Detected 552 ( 4.2%) users with no interactions.\n",
      "EASE_R_Recommender: URM Detected 194 ( 0.9%) items with no interactions.\n",
      "EASE_R_Recommender: Fitting model... \n",
      "EASE_R_Recommender: Fitting model... done in 1.31 min\n",
      "EvaluatorHoldout: Processed 9908 (100.0%) in 5.25 sec. Users per second: 1887\n"
     ]
    },
    {
     "name": "stderr",
     "output_type": "stream",
     "text": [
      "[I 2023-12-17 19:34:55,268] Trial 24 finished with value: 0.03886803432852138 and parameters: {'topK': 45, 'l2_norm': 11}. Best is trial 14 with value: 0.03948435126977761.\n"
     ]
    },
    {
     "name": "stdout",
     "output_type": "stream",
     "text": [
      "EASE_R_Recommender: URM Detected 552 ( 4.2%) users with no interactions.\n",
      "EASE_R_Recommender: URM Detected 194 ( 0.9%) items with no interactions.\n",
      "EASE_R_Recommender: Fitting model... \n",
      "EASE_R_Recommender: Fitting model... done in 1.32 min\n",
      "EvaluatorHoldout: Processed 9908 (100.0%) in 5.36 sec. Users per second: 1848\n"
     ]
    },
    {
     "name": "stderr",
     "output_type": "stream",
     "text": [
      "[I 2023-12-17 19:36:32,641] Trial 25 finished with value: 0.03935172235358989 and parameters: {'topK': 61, 'l2_norm': 21}. Best is trial 14 with value: 0.03948435126977761.\n"
     ]
    },
    {
     "name": "stdout",
     "output_type": "stream",
     "text": [
      "EASE_R_Recommender: URM Detected 552 ( 4.2%) users with no interactions.\n",
      "EASE_R_Recommender: URM Detected 194 ( 0.9%) items with no interactions.\n",
      "EASE_R_Recommender: Fitting model... \n",
      "EASE_R_Recommender: Fitting model... done in 1.33 min\n",
      "EvaluatorHoldout: Processed 9908 (100.0%) in 5.05 sec. Users per second: 1960\n"
     ]
    },
    {
     "name": "stderr",
     "output_type": "stream",
     "text": [
      "[I 2023-12-17 19:38:09,350] Trial 26 finished with value: 0.03881106977847025 and parameters: {'topK': 13, 'l2_norm': 33}. Best is trial 14 with value: 0.03948435126977761.\n"
     ]
    },
    {
     "name": "stdout",
     "output_type": "stream",
     "text": [
      "EASE_R_Recommender: URM Detected 552 ( 4.2%) users with no interactions.\n",
      "EASE_R_Recommender: URM Detected 194 ( 0.9%) items with no interactions.\n",
      "EASE_R_Recommender: Fitting model... \n",
      "EASE_R_Recommender: Fitting model... done in 1.32 min\n",
      "EvaluatorHoldout: Processed 9908 (100.0%) in 5.51 sec. Users per second: 1798\n"
     ]
    },
    {
     "name": "stderr",
     "output_type": "stream",
     "text": [
      "[I 2023-12-17 19:39:46,975] Trial 27 finished with value: 0.03880934758508488 and parameters: {'topK': 75, 'l2_norm': 49}. Best is trial 14 with value: 0.03948435126977761.\n"
     ]
    },
    {
     "name": "stdout",
     "output_type": "stream",
     "text": [
      "EASE_R_Recommender: URM Detected 552 ( 4.2%) users with no interactions.\n",
      "EASE_R_Recommender: URM Detected 194 ( 0.9%) items with no interactions.\n",
      "EASE_R_Recommender: Fitting model... \n",
      "EASE_R_Recommender: Fitting model... done in 1.33 min\n",
      "EvaluatorHoldout: Processed 9908 (100.0%) in 5.35 sec. Users per second: 1852\n"
     ]
    },
    {
     "name": "stderr",
     "output_type": "stream",
     "text": [
      "[I 2023-12-17 19:41:24,670] Trial 28 finished with value: 0.03821775413166263 and parameters: {'topK': 38, 'l2_norm': 94}. Best is trial 14 with value: 0.03948435126977761.\n"
     ]
    },
    {
     "name": "stdout",
     "output_type": "stream",
     "text": [
      "EASE_R_Recommender: URM Detected 552 ( 4.2%) users with no interactions.\n",
      "EASE_R_Recommender: URM Detected 194 ( 0.9%) items with no interactions.\n",
      "EASE_R_Recommender: Fitting model... \n",
      "EASE_R_Recommender: Fitting model... done in 1.34 min\n",
      "EvaluatorHoldout: Processed 9908 (100.0%) in 5.25 sec. Users per second: 1888\n"
     ]
    },
    {
     "name": "stderr",
     "output_type": "stream",
     "text": [
      "[I 2023-12-17 19:43:02,899] Trial 29 finished with value: 0.021579896155743905 and parameters: {'topK': 47, 'l2_norm': 1}. Best is trial 14 with value: 0.03948435126977761.\n"
     ]
    },
    {
     "name": "stdout",
     "output_type": "stream",
     "text": [
      "EASE_R_Recommender: URM Detected 552 ( 4.2%) users with no interactions.\n",
      "EASE_R_Recommender: URM Detected 194 ( 0.9%) items with no interactions.\n",
      "EASE_R_Recommender: Fitting model... \n",
      "EASE_R_Recommender: Fitting model... done in 1.30 min\n",
      "EvaluatorHoldout: Processed 9908 (100.0%) in 5.09 sec. Users per second: 1947\n"
     ]
    },
    {
     "name": "stderr",
     "output_type": "stream",
     "text": [
      "[I 2023-12-17 19:44:38,443] Trial 30 finished with value: 0.03932902144170865 and parameters: {'topK': 20, 'l2_norm': 28}. Best is trial 14 with value: 0.03948435126977761.\n"
     ]
    },
    {
     "name": "stdout",
     "output_type": "stream",
     "text": [
      "EASE_R_Recommender: URM Detected 552 ( 4.2%) users with no interactions.\n",
      "EASE_R_Recommender: URM Detected 194 ( 0.9%) items with no interactions.\n",
      "EASE_R_Recommender: Fitting model... \n",
      "EASE_R_Recommender: Fitting model... done in 1.32 min\n",
      "EvaluatorHoldout: Processed 9908 (100.0%) in 5.29 sec. Users per second: 1874\n"
     ]
    },
    {
     "name": "stderr",
     "output_type": "stream",
     "text": [
      "[I 2023-12-17 19:46:15,604] Trial 31 finished with value: 0.03927526497747576 and parameters: {'topK': 53, 'l2_norm': 20}. Best is trial 14 with value: 0.03948435126977761.\n"
     ]
    },
    {
     "name": "stdout",
     "output_type": "stream",
     "text": [
      "EASE_R_Recommender: URM Detected 552 ( 4.2%) users with no interactions.\n",
      "EASE_R_Recommender: URM Detected 194 ( 0.9%) items with no interactions.\n",
      "EASE_R_Recommender: Fitting model... \n",
      "EASE_R_Recommender: Fitting model... done in 1.32 min\n",
      "EvaluatorHoldout: Processed 9908 (100.0%) in 5.33 sec. Users per second: 1860\n"
     ]
    },
    {
     "name": "stderr",
     "output_type": "stream",
     "text": [
      "[I 2023-12-17 19:47:53,206] Trial 32 finished with value: 0.03900634648288103 and parameters: {'topK': 63, 'l2_norm': 14}. Best is trial 14 with value: 0.03948435126977761.\n"
     ]
    },
    {
     "name": "stdout",
     "output_type": "stream",
     "text": [
      "EASE_R_Recommender: URM Detected 552 ( 4.2%) users with no interactions.\n",
      "EASE_R_Recommender: URM Detected 194 ( 0.9%) items with no interactions.\n",
      "EASE_R_Recommender: Fitting model... \n",
      "EASE_R_Recommender: Fitting model... done in 1.32 min\n",
      "EvaluatorHoldout: Processed 9908 (100.0%) in 5.25 sec. Users per second: 1889\n"
     ]
    },
    {
     "name": "stderr",
     "output_type": "stream",
     "text": [
      "[I 2023-12-17 19:49:29,882] Trial 33 finished with value: 0.039213854765429795 and parameters: {'topK': 33, 'l2_norm': 39}. Best is trial 14 with value: 0.03948435126977761.\n"
     ]
    },
    {
     "name": "stdout",
     "output_type": "stream",
     "text": [
      "EASE_R_Recommender: URM Detected 552 ( 4.2%) users with no interactions.\n",
      "EASE_R_Recommender: URM Detected 194 ( 0.9%) items with no interactions.\n",
      "EASE_R_Recommender: Fitting model... \n",
      "EASE_R_Recommender: Fitting model... done in 1.33 min\n",
      "EvaluatorHoldout: Processed 9908 (100.0%) in 5.58 sec. Users per second: 1774\n"
     ]
    },
    {
     "name": "stderr",
     "output_type": "stream",
     "text": [
      "[I 2023-12-17 19:51:08,868] Trial 34 finished with value: 0.03910873688730004 and parameters: {'topK': 102, 'l2_norm': 25}. Best is trial 14 with value: 0.03948435126977761.\n"
     ]
    },
    {
     "name": "stdout",
     "output_type": "stream",
     "text": [
      "EASE_R_Recommender: URM Detected 552 ( 4.2%) users with no interactions.\n",
      "EASE_R_Recommender: URM Detected 194 ( 0.9%) items with no interactions.\n",
      "EASE_R_Recommender: Fitting model... \n",
      "EASE_R_Recommender: Fitting model... done in 1.31 min\n",
      "EvaluatorHoldout: Processed 9908 (100.0%) in 7.34 sec. Users per second: 1349\n"
     ]
    },
    {
     "name": "stderr",
     "output_type": "stream",
     "text": [
      "[I 2023-12-17 19:52:47,950] Trial 35 finished with value: 0.03883298969567687 and parameters: {'topK': 82, 'l2_norm': 44}. Best is trial 14 with value: 0.03948435126977761.\n"
     ]
    },
    {
     "name": "stdout",
     "output_type": "stream",
     "text": [
      "EASE_R_Recommender: URM Detected 552 ( 4.2%) users with no interactions.\n",
      "EASE_R_Recommender: URM Detected 194 ( 0.9%) items with no interactions.\n",
      "EASE_R_Recommender: Fitting model... \n",
      "EASE_R_Recommender: Fitting model... done in 1.32 min\n",
      "EvaluatorHoldout: Processed 9908 (100.0%) in 5.44 sec. Users per second: 1820\n"
     ]
    },
    {
     "name": "stderr",
     "output_type": "stream",
     "text": [
      "[I 2023-12-17 19:54:25,413] Trial 36 finished with value: 0.0391458281267026 and parameters: {'topK': 61, 'l2_norm': 32}. Best is trial 14 with value: 0.03948435126977761.\n"
     ]
    },
    {
     "name": "stdout",
     "output_type": "stream",
     "text": [
      "EASE_R_Recommender: URM Detected 552 ( 4.2%) users with no interactions.\n",
      "EASE_R_Recommender: URM Detected 194 ( 0.9%) items with no interactions.\n",
      "EASE_R_Recommender: Fitting model... \n",
      "EASE_R_Recommender: Fitting model... done in 1.30 min\n",
      "EvaluatorHoldout: Processed 9908 (100.0%) in 5.05 sec. Users per second: 1962\n"
     ]
    },
    {
     "name": "stderr",
     "output_type": "stream",
     "text": [
      "[I 2023-12-17 19:56:00,897] Trial 37 finished with value: 0.037783368898629724 and parameters: {'topK': 10, 'l2_norm': 11}. Best is trial 14 with value: 0.03948435126977761.\n"
     ]
    },
    {
     "name": "stdout",
     "output_type": "stream",
     "text": [
      "EASE_R_Recommender: URM Detected 552 ( 4.2%) users with no interactions.\n",
      "EASE_R_Recommender: URM Detected 194 ( 0.9%) items with no interactions.\n",
      "EASE_R_Recommender: Fitting model... \n",
      "EASE_R_Recommender: Fitting model... done in 1.31 min\n",
      "EvaluatorHoldout: Processed 9908 (100.0%) in 5.28 sec. Users per second: 1876\n"
     ]
    },
    {
     "name": "stderr",
     "output_type": "stream",
     "text": [
      "[I 2023-12-17 19:57:37,005] Trial 38 finished with value: 0.03912093241952999 and parameters: {'topK': 39, 'l2_norm': 39}. Best is trial 14 with value: 0.03948435126977761.\n"
     ]
    },
    {
     "name": "stdout",
     "output_type": "stream",
     "text": [
      "EASE_R_Recommender: URM Detected 552 ( 4.2%) users with no interactions.\n",
      "EASE_R_Recommender: URM Detected 194 ( 0.9%) items with no interactions.\n",
      "EASE_R_Recommender: Fitting model... \n",
      "EASE_R_Recommender: Fitting model... done in 1.31 min\n",
      "EvaluatorHoldout: Processed 9908 (100.0%) in 5.55 sec. Users per second: 1785\n"
     ]
    },
    {
     "name": "stderr",
     "output_type": "stream",
     "text": [
      "[I 2023-12-17 19:59:13,665] Trial 39 finished with value: 0.03848513466751312 and parameters: {'topK': 69, 'l2_norm': 79}. Best is trial 14 with value: 0.03948435126977761.\n"
     ]
    },
    {
     "name": "stdout",
     "output_type": "stream",
     "text": [
      "EASE_R_Recommender: URM Detected 552 ( 4.2%) users with no interactions.\n",
      "EASE_R_Recommender: URM Detected 194 ( 0.9%) items with no interactions.\n",
      "EASE_R_Recommender: Fitting model... \n",
      "EASE_R_Recommender: Fitting model... done in 1.31 min\n",
      "EvaluatorHoldout: Processed 9908 (100.0%) in 5.31 sec. Users per second: 1867\n"
     ]
    },
    {
     "name": "stderr",
     "output_type": "stream",
     "text": [
      "[I 2023-12-17 20:00:50,310] Trial 40 finished with value: 0.039343135417267895 and parameters: {'topK': 57, 'l2_norm': 22}. Best is trial 14 with value: 0.03948435126977761.\n"
     ]
    },
    {
     "name": "stdout",
     "output_type": "stream",
     "text": [
      "EASE_R_Recommender: URM Detected 552 ( 4.2%) users with no interactions.\n",
      "EASE_R_Recommender: URM Detected 194 ( 0.9%) items with no interactions.\n",
      "EASE_R_Recommender: Fitting model... \n",
      "EASE_R_Recommender: Fitting model... done in 1.31 min\n",
      "EvaluatorHoldout: Processed 9908 (100.0%) in 5.19 sec. Users per second: 1908\n"
     ]
    },
    {
     "name": "stderr",
     "output_type": "stream",
     "text": [
      "[I 2023-12-17 20:02:26,640] Trial 41 finished with value: 0.03934335169271636 and parameters: {'topK': 25, 'l2_norm': 22}. Best is trial 14 with value: 0.03948435126977761.\n"
     ]
    },
    {
     "name": "stdout",
     "output_type": "stream",
     "text": [
      "EASE_R_Recommender: URM Detected 552 ( 4.2%) users with no interactions.\n",
      "EASE_R_Recommender: URM Detected 194 ( 0.9%) items with no interactions.\n",
      "EASE_R_Recommender: Fitting model... \n",
      "EASE_R_Recommender: Fitting model... done in 1.31 min\n",
      "EvaluatorHoldout: Processed 9908 (100.0%) in 5.12 sec. Users per second: 1934\n"
     ]
    },
    {
     "name": "stderr",
     "output_type": "stream",
     "text": [
      "[I 2023-12-17 20:04:02,556] Trial 42 finished with value: 0.03929879895034369 and parameters: {'topK': 25, 'l2_norm': 18}. Best is trial 14 with value: 0.03948435126977761.\n"
     ]
    },
    {
     "name": "stdout",
     "output_type": "stream",
     "text": [
      "EASE_R_Recommender: URM Detected 552 ( 4.2%) users with no interactions.\n",
      "EASE_R_Recommender: URM Detected 194 ( 0.9%) items with no interactions.\n",
      "EASE_R_Recommender: Fitting model... \n",
      "EASE_R_Recommender: Fitting model... done in 1.33 min\n",
      "EvaluatorHoldout: Processed 9908 (100.0%) in 5.22 sec. Users per second: 1898\n"
     ]
    },
    {
     "name": "stderr",
     "output_type": "stream",
     "text": [
      "[I 2023-12-17 20:05:40,399] Trial 43 finished with value: 0.038176012970119286 and parameters: {'topK': 45, 'l2_norm': 8}. Best is trial 14 with value: 0.03948435126977761.\n"
     ]
    },
    {
     "name": "stdout",
     "output_type": "stream",
     "text": [
      "EASE_R_Recommender: URM Detected 552 ( 4.2%) users with no interactions.\n",
      "EASE_R_Recommender: URM Detected 194 ( 0.9%) items with no interactions.\n",
      "EASE_R_Recommender: Fitting model... \n",
      "EASE_R_Recommender: Fitting model... done in 1.31 min\n",
      "EvaluatorHoldout: Processed 9908 (100.0%) in 5.01 sec. Users per second: 1976\n"
     ]
    },
    {
     "name": "stderr",
     "output_type": "stream",
     "text": [
      "[I 2023-12-17 20:07:15,852] Trial 44 finished with value: 0.03823459958603319 and parameters: {'topK': 7, 'l2_norm': 24}. Best is trial 14 with value: 0.03948435126977761.\n"
     ]
    },
    {
     "name": "stdout",
     "output_type": "stream",
     "text": [
      "EASE_R_Recommender: URM Detected 552 ( 4.2%) users with no interactions.\n",
      "EASE_R_Recommender: URM Detected 194 ( 0.9%) items with no interactions.\n",
      "EASE_R_Recommender: Fitting model... \n",
      "EASE_R_Recommender: Fitting model... done in 1.34 min\n",
      "EvaluatorHoldout: Processed 9908 (100.0%) in 5.23 sec. Users per second: 1896\n"
     ]
    },
    {
     "name": "stderr",
     "output_type": "stream",
     "text": [
      "[I 2023-12-17 20:08:53,750] Trial 45 finished with value: 0.03938535318581796 and parameters: {'topK': 28, 'l2_norm': 31}. Best is trial 14 with value: 0.03948435126977761.\n"
     ]
    },
    {
     "name": "stdout",
     "output_type": "stream",
     "text": [
      "EASE_R_Recommender: URM Detected 552 ( 4.2%) users with no interactions.\n",
      "EASE_R_Recommender: URM Detected 194 ( 0.9%) items with no interactions.\n",
      "EASE_R_Recommender: Fitting model... \n",
      "EASE_R_Recommender: Fitting model... done in 1.32 min\n",
      "EvaluatorHoldout: Processed 9908 (100.0%) in 5.42 sec. Users per second: 1830\n"
     ]
    },
    {
     "name": "stderr",
     "output_type": "stream",
     "text": [
      "[I 2023-12-17 20:10:31,593] Trial 46 finished with value: 0.03906693564924334 and parameters: {'topK': 69, 'l2_norm': 32}. Best is trial 14 with value: 0.03948435126977761.\n"
     ]
    },
    {
     "name": "stdout",
     "output_type": "stream",
     "text": [
      "EASE_R_Recommender: URM Detected 552 ( 4.2%) users with no interactions.\n",
      "EASE_R_Recommender: URM Detected 194 ( 0.9%) items with no interactions.\n",
      "EASE_R_Recommender: Fitting model... \n",
      "EASE_R_Recommender: Fitting model... done in 1.33 min\n",
      "EvaluatorHoldout: Processed 9908 (100.0%) in 5.77 sec. Users per second: 1717\n"
     ]
    },
    {
     "name": "stderr",
     "output_type": "stream",
     "text": [
      "[I 2023-12-17 20:12:10,739] Trial 47 finished with value: 0.03868393185561175 and parameters: {'topK': 126, 'l2_norm': 54}. Best is trial 14 with value: 0.03948435126977761.\n"
     ]
    },
    {
     "name": "stdout",
     "output_type": "stream",
     "text": [
      "EASE_R_Recommender: URM Detected 552 ( 4.2%) users with no interactions.\n",
      "EASE_R_Recommender: URM Detected 194 ( 0.9%) items with no interactions.\n",
      "EASE_R_Recommender: Fitting model... \n",
      "EASE_R_Recommender: Fitting model... done in 1.31 min\n",
      "EvaluatorHoldout: Processed 9908 (100.0%) in 5.53 sec. Users per second: 1790\n"
     ]
    },
    {
     "name": "stderr",
     "output_type": "stream",
     "text": [
      "[I 2023-12-17 20:13:47,869] Trial 48 finished with value: 0.03891462166214941 and parameters: {'topK': 85, 'l2_norm': 37}. Best is trial 14 with value: 0.03948435126977761.\n"
     ]
    },
    {
     "name": "stdout",
     "output_type": "stream",
     "text": [
      "EASE_R_Recommender: URM Detected 552 ( 4.2%) users with no interactions.\n",
      "EASE_R_Recommender: URM Detected 194 ( 0.9%) items with no interactions.\n",
      "EASE_R_Recommender: Fitting model... \n",
      "EASE_R_Recommender: Fitting model... done in 1.32 min\n",
      "EvaluatorHoldout: Processed 9908 (100.0%) in 5.36 sec. Users per second: 1847\n"
     ]
    },
    {
     "name": "stderr",
     "output_type": "stream",
     "text": [
      "[I 2023-12-17 20:15:25,266] Trial 49 finished with value: 0.03890524572095069 and parameters: {'topK': 53, 'l2_norm': 44}. Best is trial 14 with value: 0.03948435126977761.\n"
     ]
    },
    {
     "name": "stdout",
     "output_type": "stream",
     "text": [
      "EASE_R_Recommender: URM Detected 552 ( 4.2%) users with no interactions.\n",
      "EASE_R_Recommender: URM Detected 194 ( 0.9%) items with no interactions.\n",
      "EASE_R_Recommender: Fitting model... \n",
      "EASE_R_Recommender: Fitting model... done in 1.34 min\n",
      "EvaluatorHoldout: Processed 9908 (100.0%) in 5.20 sec. Users per second: 1906\n"
     ]
    },
    {
     "name": "stderr",
     "output_type": "stream",
     "text": [
      "[I 2023-12-17 20:17:03,197] Trial 50 finished with value: 0.039295727037956016 and parameters: {'topK': 33, 'l2_norm': 17}. Best is trial 14 with value: 0.03948435126977761.\n"
     ]
    },
    {
     "name": "stdout",
     "output_type": "stream",
     "text": [
      "EASE_R_Recommender: URM Detected 552 ( 4.2%) users with no interactions.\n",
      "EASE_R_Recommender: URM Detected 194 ( 0.9%) items with no interactions.\n",
      "EASE_R_Recommender: Fitting model... \n",
      "EASE_R_Recommender: Fitting model... done in 1.34 min\n",
      "EvaluatorHoldout: Processed 9908 (100.0%) in 5.20 sec. Users per second: 1906\n"
     ]
    },
    {
     "name": "stderr",
     "output_type": "stream",
     "text": [
      "[I 2023-12-17 20:18:41,366] Trial 51 finished with value: 0.039312159966934414 and parameters: {'topK': 25, 'l2_norm': 28}. Best is trial 14 with value: 0.03948435126977761.\n"
     ]
    },
    {
     "name": "stdout",
     "output_type": "stream",
     "text": [
      "EASE_R_Recommender: URM Detected 552 ( 4.2%) users with no interactions.\n",
      "EASE_R_Recommender: URM Detected 194 ( 0.9%) items with no interactions.\n",
      "EASE_R_Recommender: Fitting model... \n",
      "EASE_R_Recommender: Fitting model... done in 1.34 min\n",
      "EvaluatorHoldout: Processed 9908 (100.0%) in 5.15 sec. Users per second: 1924\n"
     ]
    },
    {
     "name": "stderr",
     "output_type": "stream",
     "text": [
      "[I 2023-12-17 20:20:19,366] Trial 52 finished with value: 0.039216906652312894 and parameters: {'topK': 19, 'l2_norm': 22}. Best is trial 14 with value: 0.03948435126977761.\n"
     ]
    },
    {
     "name": "stdout",
     "output_type": "stream",
     "text": [
      "EASE_R_Recommender: URM Detected 552 ( 4.2%) users with no interactions.\n",
      "EASE_R_Recommender: URM Detected 194 ( 0.9%) items with no interactions.\n",
      "EASE_R_Recommender: Fitting model... \n",
      "EASE_R_Recommender: Fitting model... done in 1.33 min\n",
      "EvaluatorHoldout: Processed 9908 (100.0%) in 5.29 sec. Users per second: 1872\n"
     ]
    },
    {
     "name": "stderr",
     "output_type": "stream",
     "text": [
      "[I 2023-12-17 20:21:57,183] Trial 53 finished with value: 0.03777697275249817 and parameters: {'topK': 41, 'l2_norm': 7}. Best is trial 14 with value: 0.03948435126977761.\n"
     ]
    },
    {
     "name": "stdout",
     "output_type": "stream",
     "text": [
      "EASE_R_Recommender: URM Detected 552 ( 4.2%) users with no interactions.\n",
      "EASE_R_Recommender: URM Detected 194 ( 0.9%) items with no interactions.\n",
      "EASE_R_Recommender: Fitting model... \n",
      "EASE_R_Recommender: Fitting model... done in 1.31 min\n",
      "EvaluatorHoldout: Processed 9908 (100.0%) in 5.20 sec. Users per second: 1905\n"
     ]
    },
    {
     "name": "stderr",
     "output_type": "stream",
     "text": [
      "[I 2023-12-17 20:23:33,363] Trial 54 finished with value: 0.03919375316403026 and parameters: {'topK': 29, 'l2_norm': 15}. Best is trial 14 with value: 0.03948435126977761.\n"
     ]
    },
    {
     "name": "stdout",
     "output_type": "stream",
     "text": [
      "EASE_R_Recommender: URM Detected 552 ( 4.2%) users with no interactions.\n",
      "EASE_R_Recommender: URM Detected 194 ( 0.9%) items with no interactions.\n",
      "EASE_R_Recommender: Fitting model... \n",
      "EASE_R_Recommender: Fitting model... done in 1.30 min\n",
      "EvaluatorHoldout: Processed 9908 (100.0%) in 5.79 sec. Users per second: 1712\n"
     ]
    },
    {
     "name": "stderr",
     "output_type": "stream",
     "text": [
      "[I 2023-12-17 20:25:11,996] Trial 55 finished with value: 0.03854703350186845 and parameters: {'topK': 170, 'l2_norm': 29}. Best is trial 14 with value: 0.03948435126977761.\n"
     ]
    },
    {
     "name": "stdout",
     "output_type": "stream",
     "text": [
      "EASE_R_Recommender: URM Detected 552 ( 4.2%) users with no interactions.\n",
      "EASE_R_Recommender: URM Detected 194 ( 0.9%) items with no interactions.\n",
      "EASE_R_Recommender: Fitting model... \n",
      "EASE_R_Recommender: Fitting model... done in 1.30 min\n",
      "EvaluatorHoldout: Processed 9908 (100.0%) in 5.29 sec. Users per second: 1871\n"
     ]
    },
    {
     "name": "stderr",
     "output_type": "stream",
     "text": [
      "[I 2023-12-17 20:26:48,249] Trial 56 finished with value: 0.03935489839860088 and parameters: {'topK': 51, 'l2_norm': 19}. Best is trial 14 with value: 0.03948435126977761.\n"
     ]
    },
    {
     "name": "stdout",
     "output_type": "stream",
     "text": [
      "EASE_R_Recommender: URM Detected 552 ( 4.2%) users with no interactions.\n",
      "EASE_R_Recommender: URM Detected 194 ( 0.9%) items with no interactions.\n",
      "EASE_R_Recommender: Fitting model... \n",
      "EASE_R_Recommender: Fitting model... done in 1.37 min\n",
      "EvaluatorHoldout: Processed 9908 (100.0%) in 5.37 sec. Users per second: 1846\n"
     ]
    },
    {
     "name": "stderr",
     "output_type": "stream",
     "text": [
      "[I 2023-12-17 20:28:28,353] Trial 57 finished with value: 0.03907838623270638 and parameters: {'topK': 51, 'l2_norm': 34}. Best is trial 14 with value: 0.03948435126977761.\n"
     ]
    },
    {
     "name": "stdout",
     "output_type": "stream",
     "text": [
      "EASE_R_Recommender: URM Detected 552 ( 4.2%) users with no interactions.\n",
      "EASE_R_Recommender: URM Detected 194 ( 0.9%) items with no interactions.\n",
      "EASE_R_Recommender: Fitting model... \n",
      "EASE_R_Recommender: Fitting model... done in 1.31 min\n",
      "EvaluatorHoldout: Processed 9908 (100.0%) in 5.39 sec. Users per second: 1838\n"
     ]
    },
    {
     "name": "stderr",
     "output_type": "stream",
     "text": [
      "[I 2023-12-17 20:30:05,694] Trial 58 finished with value: 0.03847524206829871 and parameters: {'topK': 70, 'l2_norm': 10}. Best is trial 14 with value: 0.03948435126977761.\n"
     ]
    },
    {
     "name": "stdout",
     "output_type": "stream",
     "text": [
      "EASE_R_Recommender: URM Detected 552 ( 4.2%) users with no interactions.\n",
      "EASE_R_Recommender: URM Detected 194 ( 0.9%) items with no interactions.\n",
      "EASE_R_Recommender: Fitting model... \n",
      "EASE_R_Recommender: Fitting model... done in 1.31 min\n",
      "EvaluatorHoldout: Processed 9908 (100.0%) in 5.31 sec. Users per second: 1866\n"
     ]
    },
    {
     "name": "stderr",
     "output_type": "stream",
     "text": [
      "[I 2023-12-17 20:31:42,605] Trial 59 finished with value: 0.03281720399100323 and parameters: {'topK': 61, 'l2_norm': 3}. Best is trial 14 with value: 0.03948435126977761.\n"
     ]
    },
    {
     "name": "stdout",
     "output_type": "stream",
     "text": [
      "EASE_R_Recommender: URM Detected 552 ( 4.2%) users with no interactions.\n",
      "EASE_R_Recommender: URM Detected 194 ( 0.9%) items with no interactions.\n",
      "EASE_R_Recommender: Fitting model... \n",
      "EASE_R_Recommender: Fitting model... done in 1.31 min\n",
      "EvaluatorHoldout: Processed 9908 (100.0%) in 5.22 sec. Users per second: 1900\n"
     ]
    },
    {
     "name": "stderr",
     "output_type": "stream",
     "text": [
      "[I 2023-12-17 20:33:19,071] Trial 60 finished with value: 0.03934509791670713 and parameters: {'topK': 40, 'l2_norm': 19}. Best is trial 14 with value: 0.03948435126977761.\n"
     ]
    },
    {
     "name": "stdout",
     "output_type": "stream",
     "text": [
      "EASE_R_Recommender: URM Detected 552 ( 4.2%) users with no interactions.\n",
      "EASE_R_Recommender: URM Detected 194 ( 0.9%) items with no interactions.\n",
      "EASE_R_Recommender: Fitting model... \n",
      "EASE_R_Recommender: Fitting model... done in 1.35 min\n",
      "EvaluatorHoldout: Processed 9908 (100.0%) in 5.23 sec. Users per second: 1896\n"
     ]
    },
    {
     "name": "stderr",
     "output_type": "stream",
     "text": [
      "[I 2023-12-17 20:34:58,186] Trial 61 finished with value: 0.039315816624052764 and parameters: {'topK': 41, 'l2_norm': 19}. Best is trial 14 with value: 0.03948435126977761.\n"
     ]
    },
    {
     "name": "stdout",
     "output_type": "stream",
     "text": [
      "EASE_R_Recommender: URM Detected 552 ( 4.2%) users with no interactions.\n",
      "EASE_R_Recommender: URM Detected 194 ( 0.9%) items with no interactions.\n",
      "EASE_R_Recommender: Fitting model... \n",
      "EASE_R_Recommender: Fitting model... done in 1.34 min\n",
      "EvaluatorHoldout: Processed 9908 (100.0%) in 5.38 sec. Users per second: 1840\n"
     ]
    },
    {
     "name": "stderr",
     "output_type": "stream",
     "text": [
      "[I 2023-12-17 20:36:36,865] Trial 62 finished with value: 0.03946754186131503 and parameters: {'topK': 57, 'l2_norm': 24}. Best is trial 14 with value: 0.03948435126977761.\n"
     ]
    },
    {
     "name": "stdout",
     "output_type": "stream",
     "text": [
      "EASE_R_Recommender: URM Detected 552 ( 4.2%) users with no interactions.\n",
      "EASE_R_Recommender: URM Detected 194 ( 0.9%) items with no interactions.\n",
      "EASE_R_Recommender: Fitting model... \n",
      "EASE_R_Recommender: Fitting model... done in 1.30 min\n",
      "EvaluatorHoldout: Processed 9908 (100.0%) in 5.30 sec. Users per second: 1870\n"
     ]
    },
    {
     "name": "stderr",
     "output_type": "stream",
     "text": [
      "[I 2023-12-17 20:38:12,942] Trial 63 finished with value: 0.039150690319191 and parameters: {'topK': 57, 'l2_norm': 14}. Best is trial 14 with value: 0.03948435126977761.\n"
     ]
    },
    {
     "name": "stdout",
     "output_type": "stream",
     "text": [
      "EASE_R_Recommender: URM Detected 552 ( 4.2%) users with no interactions.\n",
      "EASE_R_Recommender: URM Detected 194 ( 0.9%) items with no interactions.\n",
      "EASE_R_Recommender: Fitting model... \n",
      "EASE_R_Recommender: Fitting model... done in 1.29 min\n",
      "EvaluatorHoldout: Processed 9908 (100.0%) in 5.45 sec. Users per second: 1817\n"
     ]
    },
    {
     "name": "stderr",
     "output_type": "stream",
     "text": [
      "[I 2023-12-17 20:39:49,192] Trial 64 finished with value: 0.039104239158993324 and parameters: {'topK': 88, 'l2_norm': 26}. Best is trial 14 with value: 0.03948435126977761.\n"
     ]
    },
    {
     "name": "stdout",
     "output_type": "stream",
     "text": [
      "EASE_R_Recommender: URM Detected 552 ( 4.2%) users with no interactions.\n",
      "EASE_R_Recommender: URM Detected 194 ( 0.9%) items with no interactions.\n",
      "EASE_R_Recommender: Fitting model... \n",
      "EASE_R_Recommender: Fitting model... done in 1.41 min\n",
      "EvaluatorHoldout: Processed 9908 (100.0%) in 5.60 sec. Users per second: 1769\n"
     ]
    },
    {
     "name": "stderr",
     "output_type": "stream",
     "text": [
      "[I 2023-12-17 20:41:32,526] Trial 65 finished with value: 0.03886688085946306 and parameters: {'topK': 97, 'l2_norm': 31}. Best is trial 14 with value: 0.03948435126977761.\n"
     ]
    },
    {
     "name": "stdout",
     "output_type": "stream",
     "text": [
      "EASE_R_Recommender: URM Detected 552 ( 4.2%) users with no interactions.\n",
      "EASE_R_Recommender: URM Detected 194 ( 0.9%) items with no interactions.\n",
      "EASE_R_Recommender: Fitting model... \n",
      "EASE_R_Recommender: Fitting model... done in 1.30 min\n",
      "EvaluatorHoldout: Processed 9908 (100.0%) in 5.43 sec. Users per second: 1825\n"
     ]
    },
    {
     "name": "stderr",
     "output_type": "stream",
     "text": [
      "[I 2023-12-17 20:43:09,216] Trial 66 finished with value: 0.03937701857085237 and parameters: {'topK': 74, 'l2_norm': 25}. Best is trial 14 with value: 0.03948435126977761.\n"
     ]
    },
    {
     "name": "stdout",
     "output_type": "stream",
     "text": [
      "EASE_R_Recommender: URM Detected 552 ( 4.2%) users with no interactions.\n",
      "EASE_R_Recommender: URM Detected 194 ( 0.9%) items with no interactions.\n",
      "EASE_R_Recommender: Fitting model... \n",
      "EASE_R_Recommender: Fitting model... done in 1.30 min\n",
      "EvaluatorHoldout: Processed 9908 (100.0%) in 5.43 sec. Users per second: 1823\n"
     ]
    },
    {
     "name": "stderr",
     "output_type": "stream",
     "text": [
      "[I 2023-12-17 20:44:45,552] Trial 67 finished with value: 0.039391148566815255 and parameters: {'topK': 76, 'l2_norm': 25}. Best is trial 14 with value: 0.03948435126977761.\n"
     ]
    },
    {
     "name": "stdout",
     "output_type": "stream",
     "text": [
      "EASE_R_Recommender: URM Detected 552 ( 4.2%) users with no interactions.\n",
      "EASE_R_Recommender: URM Detected 194 ( 0.9%) items with no interactions.\n",
      "EASE_R_Recommender: Fitting model... \n",
      "EASE_R_Recommender: Fitting model... done in 1.33 min\n",
      "EvaluatorHoldout: Processed 9908 (100.0%) in 5.45 sec. Users per second: 1818\n"
     ]
    },
    {
     "name": "stderr",
     "output_type": "stream",
     "text": [
      "[I 2023-12-17 20:46:24,045] Trial 68 finished with value: 0.039391148566815255 and parameters: {'topK': 76, 'l2_norm': 25}. Best is trial 14 with value: 0.03948435126977761.\n"
     ]
    },
    {
     "name": "stdout",
     "output_type": "stream",
     "text": [
      "EASE_R_Recommender: URM Detected 552 ( 4.2%) users with no interactions.\n",
      "EASE_R_Recommender: URM Detected 194 ( 0.9%) items with no interactions.\n",
      "EASE_R_Recommender: Fitting model... \n",
      "EASE_R_Recommender: Fitting model... done in 1.31 min\n",
      "EvaluatorHoldout: Processed 9908 (100.0%) in 5.61 sec. Users per second: 1765\n"
     ]
    },
    {
     "name": "stderr",
     "output_type": "stream",
     "text": [
      "[I 2023-12-17 20:48:01,716] Trial 69 finished with value: 0.03867146798162186 and parameters: {'topK': 113, 'l2_norm': 41}. Best is trial 14 with value: 0.03948435126977761.\n"
     ]
    },
    {
     "name": "stdout",
     "output_type": "stream",
     "text": [
      "EASE_R_Recommender: URM Detected 552 ( 4.2%) users with no interactions.\n",
      "EASE_R_Recommender: URM Detected 194 ( 0.9%) items with no interactions.\n",
      "EASE_R_Recommender: Fitting model... \n",
      "EASE_R_Recommender: Fitting model... done in 1.34 min\n",
      "EvaluatorHoldout: Processed 9908 (100.0%) in 5.55 sec. Users per second: 1786\n"
     ]
    },
    {
     "name": "stderr",
     "output_type": "stream",
     "text": [
      "[I 2023-12-17 20:49:40,785] Trial 70 finished with value: 0.039012598445380575 and parameters: {'topK': 80, 'l2_norm': 36}. Best is trial 14 with value: 0.03948435126977761.\n"
     ]
    },
    {
     "name": "stdout",
     "output_type": "stream",
     "text": [
      "EASE_R_Recommender: URM Detected 552 ( 4.2%) users with no interactions.\n",
      "EASE_R_Recommender: URM Detected 194 ( 0.9%) items with no interactions.\n",
      "EASE_R_Recommender: Fitting model... \n",
      "EASE_R_Recommender: Fitting model... done in 1.31 min\n",
      "EvaluatorHoldout: Processed 9908 (100.0%) in 5.45 sec. Users per second: 1819\n"
     ]
    },
    {
     "name": "stderr",
     "output_type": "stream",
     "text": [
      "[I 2023-12-17 20:51:17,772] Trial 71 finished with value: 0.03937701857085237 and parameters: {'topK': 74, 'l2_norm': 25}. Best is trial 14 with value: 0.03948435126977761.\n"
     ]
    },
    {
     "name": "stdout",
     "output_type": "stream",
     "text": [
      "EASE_R_Recommender: URM Detected 552 ( 4.2%) users with no interactions.\n",
      "EASE_R_Recommender: URM Detected 194 ( 0.9%) items with no interactions.\n",
      "EASE_R_Recommender: Fitting model... \n",
      "EASE_R_Recommender: Fitting model... done in 1.31 min\n",
      "EvaluatorHoldout: Processed 9908 (100.0%) in 5.42 sec. Users per second: 1830\n"
     ]
    },
    {
     "name": "stderr",
     "output_type": "stream",
     "text": [
      "[I 2023-12-17 20:52:54,870] Trial 72 finished with value: 0.039347184574274274 and parameters: {'topK': 78, 'l2_norm': 25}. Best is trial 14 with value: 0.03948435126977761.\n"
     ]
    },
    {
     "name": "stdout",
     "output_type": "stream",
     "text": [
      "EASE_R_Recommender: URM Detected 552 ( 4.2%) users with no interactions.\n",
      "EASE_R_Recommender: URM Detected 194 ( 0.9%) items with no interactions.\n",
      "EASE_R_Recommender: Fitting model... \n",
      "EASE_R_Recommender: Fitting model... done in 1.31 min\n",
      "EvaluatorHoldout: Processed 9908 (100.0%) in 5.41 sec. Users per second: 1832\n"
     ]
    },
    {
     "name": "stderr",
     "output_type": "stream",
     "text": [
      "[I 2023-12-17 20:54:32,229] Trial 73 finished with value: 0.039093012861180415 and parameters: {'topK': 72, 'l2_norm': 29}. Best is trial 14 with value: 0.03948435126977761.\n"
     ]
    },
    {
     "name": "stdout",
     "output_type": "stream",
     "text": [
      "EASE_R_Recommender: URM Detected 552 ( 4.2%) users with no interactions.\n",
      "EASE_R_Recommender: URM Detected 194 ( 0.9%) items with no interactions.\n",
      "EASE_R_Recommender: Fitting model... \n",
      "EASE_R_Recommender: Fitting model... done in 1.33 min\n",
      "EvaluatorHoldout: Processed 9908 (100.0%) in 5.52 sec. Users per second: 1794\n"
     ]
    },
    {
     "name": "stderr",
     "output_type": "stream",
     "text": [
      "[I 2023-12-17 20:56:10,951] Trial 74 finished with value: 0.03914549570332818 and parameters: {'topK': 96, 'l2_norm': 25}. Best is trial 14 with value: 0.03948435126977761.\n"
     ]
    },
    {
     "name": "stdout",
     "output_type": "stream",
     "text": [
      "EASE_R_Recommender: URM Detected 552 ( 4.2%) users with no interactions.\n",
      "EASE_R_Recommender: URM Detected 194 ( 0.9%) items with no interactions.\n",
      "EASE_R_Recommender: Fitting model... \n",
      "EASE_R_Recommender: Fitting model... done in 1.30 min\n",
      "EvaluatorHoldout: Processed 9908 (100.0%) in 5.49 sec. Users per second: 1804\n"
     ]
    },
    {
     "name": "stderr",
     "output_type": "stream",
     "text": [
      "[I 2023-12-17 20:57:47,810] Trial 75 finished with value: 0.0390351751991341 and parameters: {'topK': 89, 'l2_norm': 31}. Best is trial 14 with value: 0.03948435126977761.\n"
     ]
    },
    {
     "name": "stdout",
     "output_type": "stream",
     "text": [
      "EASE_R_Recommender: URM Detected 552 ( 4.2%) users with no interactions.\n",
      "EASE_R_Recommender: URM Detected 194 ( 0.9%) items with no interactions.\n",
      "EASE_R_Recommender: Fitting model... \n",
      "EASE_R_Recommender: Fitting model... done in 1.43 min\n",
      "EvaluatorHoldout: Processed 9908 (100.0%) in 7.43 sec. Users per second: 1334\n"
     ]
    },
    {
     "name": "stderr",
     "output_type": "stream",
     "text": [
      "[I 2023-12-17 20:59:34,145] Trial 76 finished with value: 0.039132419048901225 and parameters: {'topK': 66, 'l2_norm': 35}. Best is trial 14 with value: 0.03948435126977761.\n"
     ]
    },
    {
     "name": "stdout",
     "output_type": "stream",
     "text": [
      "EASE_R_Recommender: URM Detected 552 ( 4.2%) users with no interactions.\n",
      "EASE_R_Recommender: URM Detected 194 ( 0.9%) items with no interactions.\n",
      "EASE_R_Recommender: Fitting model... \n",
      "EASE_R_Recommender: Fitting model... done in 1.33 min\n",
      "EvaluatorHoldout: Processed 9908 (100.0%) in 5.48 sec. Users per second: 1809\n"
     ]
    },
    {
     "name": "stderr",
     "output_type": "stream",
     "text": [
      "[I 2023-12-17 21:01:12,184] Trial 77 finished with value: 0.039203825992784935 and parameters: {'topK': 74, 'l2_norm': 27}. Best is trial 14 with value: 0.03948435126977761.\n"
     ]
    },
    {
     "name": "stdout",
     "output_type": "stream",
     "text": [
      "EASE_R_Recommender: URM Detected 552 ( 4.2%) users with no interactions.\n",
      "EASE_R_Recommender: URM Detected 194 ( 0.9%) items with no interactions.\n",
      "EASE_R_Recommender: Fitting model... \n",
      "EASE_R_Recommender: Fitting model... done in 1.31 min\n",
      "EvaluatorHoldout: Processed 9908 (100.0%) in 5.50 sec. Users per second: 1803\n"
     ]
    },
    {
     "name": "stderr",
     "output_type": "stream",
     "text": [
      "[I 2023-12-17 21:02:50,010] Trial 78 finished with value: 0.03906420016533105 and parameters: {'topK': 101, 'l2_norm': 16}. Best is trial 14 with value: 0.03948435126977761.\n"
     ]
    },
    {
     "name": "stdout",
     "output_type": "stream",
     "text": [
      "EASE_R_Recommender: URM Detected 552 ( 4.2%) users with no interactions.\n",
      "EASE_R_Recommender: URM Detected 194 ( 0.9%) items with no interactions.\n",
      "EASE_R_Recommender: Fitting model... \n",
      "EASE_R_Recommender: Fitting model... done in 1.31 min\n",
      "EvaluatorHoldout: Processed 9908 (100.0%) in 5.39 sec. Users per second: 1840\n"
     ]
    },
    {
     "name": "stderr",
     "output_type": "stream",
     "text": [
      "[I 2023-12-17 21:04:27,087] Trial 79 finished with value: 0.03941751014091596 and parameters: {'topK': 59, 'l2_norm': 24}. Best is trial 14 with value: 0.03948435126977761.\n"
     ]
    },
    {
     "name": "stdout",
     "output_type": "stream",
     "text": [
      "EASE_R_Recommender: URM Detected 552 ( 4.2%) users with no interactions.\n",
      "EASE_R_Recommender: URM Detected 194 ( 0.9%) items with no interactions.\n",
      "EASE_R_Recommender: Fitting model... \n",
      "EASE_R_Recommender: Fitting model... done in 1.31 min\n",
      "EvaluatorHoldout: Processed 9908 (100.0%) in 4.93 sec. Users per second: 2008\n"
     ]
    },
    {
     "name": "stderr",
     "output_type": "stream",
     "text": [
      "[I 2023-12-17 21:05:58,930] Trial 80 finished with value: 0.027996768684596756 and parameters: {'topK': 1, 'l2_norm': 23}. Best is trial 14 with value: 0.03948435126977761.\n"
     ]
    },
    {
     "name": "stdout",
     "output_type": "stream",
     "text": [
      "EASE_R_Recommender: URM Detected 552 ( 4.2%) users with no interactions.\n",
      "EASE_R_Recommender: URM Detected 194 ( 0.9%) items with no interactions.\n",
      "EASE_R_Recommender: Fitting model... \n",
      "EASE_R_Recommender: Fitting model... done in 1.31 min\n",
      "EvaluatorHoldout: Processed 9908 (100.0%) in 5.39 sec. Users per second: 1837\n"
     ]
    },
    {
     "name": "stderr",
     "output_type": "stream",
     "text": [
      "[I 2023-12-17 21:07:35,781] Trial 81 finished with value: 0.03917629893432323 and parameters: {'topK': 66, 'l2_norm': 30}. Best is trial 14 with value: 0.03948435126977761.\n"
     ]
    },
    {
     "name": "stdout",
     "output_type": "stream",
     "text": [
      "EASE_R_Recommender: URM Detected 552 ( 4.2%) users with no interactions.\n",
      "EASE_R_Recommender: URM Detected 194 ( 0.9%) items with no interactions.\n",
      "EASE_R_Recommender: Fitting model... \n",
      "EASE_R_Recommender: Fitting model... done in 1.31 min\n",
      "EvaluatorHoldout: Processed 9908 (100.0%) in 5.30 sec. Users per second: 1869\n"
     ]
    },
    {
     "name": "stderr",
     "output_type": "stream",
     "text": [
      "[I 2023-12-17 21:09:12,468] Trial 82 finished with value: 0.03941695743699218 and parameters: {'topK': 57, 'l2_norm': 23}. Best is trial 14 with value: 0.03948435126977761.\n"
     ]
    },
    {
     "name": "stdout",
     "output_type": "stream",
     "text": [
      "EASE_R_Recommender: URM Detected 552 ( 4.2%) users with no interactions.\n",
      "EASE_R_Recommender: URM Detected 194 ( 0.9%) items with no interactions.\n",
      "EASE_R_Recommender: Fitting model... \n",
      "EASE_R_Recommender: Fitting model... done in 1.46 min\n",
      "EvaluatorHoldout: Processed 9908 (100.0%) in 5.39 sec. Users per second: 1837\n"
     ]
    },
    {
     "name": "stderr",
     "output_type": "stream",
     "text": [
      "[I 2023-12-17 21:10:58,121] Trial 83 finished with value: 0.03929524242074743 and parameters: {'topK': 58, 'l2_norm': 21}. Best is trial 14 with value: 0.03948435126977761.\n"
     ]
    },
    {
     "name": "stdout",
     "output_type": "stream",
     "text": [
      "EASE_R_Recommender: URM Detected 552 ( 4.2%) users with no interactions.\n",
      "EASE_R_Recommender: URM Detected 194 ( 0.9%) items with no interactions.\n",
      "EASE_R_Recommender: Fitting model... \n",
      "EASE_R_Recommender: Fitting model... done in 1.32 min\n",
      "EvaluatorHoldout: Processed 9908 (100.0%) in 5.20 sec. Users per second: 1906\n"
     ]
    },
    {
     "name": "stderr",
     "output_type": "stream",
     "text": [
      "[I 2023-12-17 21:12:35,403] Trial 84 finished with value: 0.03892758617375143 and parameters: {'topK': 46, 'l2_norm': 13}. Best is trial 14 with value: 0.03948435126977761.\n"
     ]
    },
    {
     "name": "stdout",
     "output_type": "stream",
     "text": [
      "EASE_R_Recommender: URM Detected 552 ( 4.2%) users with no interactions.\n",
      "EASE_R_Recommender: URM Detected 194 ( 0.9%) items with no interactions.\n",
      "EASE_R_Recommender: Fitting model... \n",
      "EASE_R_Recommender: Fitting model... done in 1.30 min\n",
      "EvaluatorHoldout: Processed 9908 (100.0%) in 5.26 sec. Users per second: 1885\n"
     ]
    },
    {
     "name": "stderr",
     "output_type": "stream",
     "text": [
      "[I 2023-12-17 21:14:10,782] Trial 85 finished with value: 0.03839532027990902 and parameters: {'topK': 29, 'l2_norm': 77}. Best is trial 14 with value: 0.03948435126977761.\n"
     ]
    },
    {
     "name": "stdout",
     "output_type": "stream",
     "text": [
      "EASE_R_Recommender: URM Detected 552 ( 4.2%) users with no interactions.\n",
      "EASE_R_Recommender: URM Detected 194 ( 0.9%) items with no interactions.\n",
      "EASE_R_Recommender: Fitting model... \n",
      "EASE_R_Recommender: Fitting model... done in 1.32 min\n",
      "EvaluatorHoldout: Processed 9908 (100.0%) in 5.49 sec. Users per second: 1804\n"
     ]
    },
    {
     "name": "stderr",
     "output_type": "stream",
     "text": [
      "[I 2023-12-17 21:15:48,627] Trial 86 finished with value: 0.038927666275769324 and parameters: {'topK': 84, 'l2_norm': 37}. Best is trial 14 with value: 0.03948435126977761.\n"
     ]
    },
    {
     "name": "stdout",
     "output_type": "stream",
     "text": [
      "EASE_R_Recommender: URM Detected 552 ( 4.2%) users with no interactions.\n",
      "EASE_R_Recommender: URM Detected 194 ( 0.9%) items with no interactions.\n",
      "EASE_R_Recommender: Fitting model... \n",
      "EASE_R_Recommender: Fitting model... done in 1.31 min\n",
      "EvaluatorHoldout: Processed 9908 (100.0%) in 5.26 sec. Users per second: 1883\n"
     ]
    },
    {
     "name": "stderr",
     "output_type": "stream",
     "text": [
      "[I 2023-12-17 21:17:25,113] Trial 87 finished with value: 0.0387974684558259 and parameters: {'topK': 37, 'l2_norm': 62}. Best is trial 14 with value: 0.03948435126977761.\n"
     ]
    },
    {
     "name": "stdout",
     "output_type": "stream",
     "text": [
      "EASE_R_Recommender: URM Detected 552 ( 4.2%) users with no interactions.\n",
      "EASE_R_Recommender: URM Detected 194 ( 0.9%) items with no interactions.\n",
      "EASE_R_Recommender: Fitting model... \n",
      "EASE_R_Recommender: Fitting model... done in 1.45 min\n",
      "EvaluatorHoldout: Processed 9908 (100.0%) in 5.05 sec. Users per second: 1963\n"
     ]
    },
    {
     "name": "stderr",
     "output_type": "stream",
     "text": [
      "[I 2023-12-17 21:19:09,463] Trial 88 finished with value: 0.039035519637811156 and parameters: {'topK': 14, 'l2_norm': 27}. Best is trial 14 with value: 0.03948435126977761.\n"
     ]
    },
    {
     "name": "stdout",
     "output_type": "stream",
     "text": [
      "EASE_R_Recommender: URM Detected 552 ( 4.2%) users with no interactions.\n",
      "EASE_R_Recommender: URM Detected 194 ( 0.9%) items with no interactions.\n",
      "EASE_R_Recommender: Fitting model... \n",
      "EASE_R_Recommender: Fitting model... done in 1.32 min\n",
      "EvaluatorHoldout: Processed 9908 (100.0%) in 5.36 sec. Users per second: 1847\n"
     ]
    },
    {
     "name": "stderr",
     "output_type": "stream",
     "text": [
      "[I 2023-12-17 21:20:46,898] Trial 89 finished with value: 0.0391545792721615 and parameters: {'topK': 49, 'l2_norm': 33}. Best is trial 14 with value: 0.03948435126977761.\n"
     ]
    },
    {
     "name": "stdout",
     "output_type": "stream",
     "text": [
      "EASE_R_Recommender: URM Detected 552 ( 4.2%) users with no interactions.\n",
      "EASE_R_Recommender: URM Detected 194 ( 0.9%) items with no interactions.\n",
      "EASE_R_Recommender: Fitting model... \n",
      "EASE_R_Recommender: Fitting model... done in 1.31 min\n",
      "EvaluatorHoldout: Processed 9908 (100.0%) in 5.32 sec. Users per second: 1862\n"
     ]
    },
    {
     "name": "stderr",
     "output_type": "stream",
     "text": [
      "[I 2023-12-17 21:22:23,450] Trial 90 finished with value: 0.03936645311468734 and parameters: {'topK': 63, 'l2_norm': 23}. Best is trial 14 with value: 0.03948435126977761.\n"
     ]
    },
    {
     "name": "stdout",
     "output_type": "stream",
     "text": [
      "EASE_R_Recommender: URM Detected 552 ( 4.2%) users with no interactions.\n",
      "EASE_R_Recommender: URM Detected 194 ( 0.9%) items with no interactions.\n",
      "EASE_R_Recommender: Fitting model... \n",
      "EASE_R_Recommender: Fitting model... done in 1.30 min\n",
      "EvaluatorHoldout: Processed 9908 (100.0%) in 5.38 sec. Users per second: 1841\n"
     ]
    },
    {
     "name": "stderr",
     "output_type": "stream",
     "text": [
      "[I 2023-12-17 21:24:00,227] Trial 91 finished with value: 0.03938023066177135 and parameters: {'topK': 77, 'l2_norm': 25}. Best is trial 14 with value: 0.03948435126977761.\n"
     ]
    },
    {
     "name": "stdout",
     "output_type": "stream",
     "text": [
      "EASE_R_Recommender: URM Detected 552 ( 4.2%) users with no interactions.\n",
      "EASE_R_Recommender: URM Detected 194 ( 0.9%) items with no interactions.\n",
      "EASE_R_Recommender: Fitting model... \n",
      "EASE_R_Recommender: Fitting model... done in 1.33 min\n",
      "EvaluatorHoldout: Processed 9908 (100.0%) in 5.29 sec. Users per second: 1875\n"
     ]
    },
    {
     "name": "stderr",
     "output_type": "stream",
     "text": [
      "[I 2023-12-17 21:25:38,378] Trial 92 finished with value: 0.03916136391308012 and parameters: {'topK': 54, 'l2_norm': 17}. Best is trial 14 with value: 0.03948435126977761.\n"
     ]
    },
    {
     "name": "stdout",
     "output_type": "stream",
     "text": [
      "EASE_R_Recommender: URM Detected 552 ( 4.2%) users with no interactions.\n",
      "EASE_R_Recommender: URM Detected 194 ( 0.9%) items with no interactions.\n",
      "EASE_R_Recommender: Fitting model... \n",
      "EASE_R_Recommender: Fitting model... done in 1.32 min\n",
      "EvaluatorHoldout: Processed 9908 (100.0%) in 5.45 sec. Users per second: 1819\n"
     ]
    },
    {
     "name": "stderr",
     "output_type": "stream",
     "text": [
      "[I 2023-12-17 21:27:15,872] Trial 93 finished with value: 0.038971494094879676 and parameters: {'topK': 80, 'l2_norm': 30}. Best is trial 14 with value: 0.03948435126977761.\n"
     ]
    },
    {
     "name": "stdout",
     "output_type": "stream",
     "text": [
      "EASE_R_Recommender: URM Detected 552 ( 4.2%) users with no interactions.\n",
      "EASE_R_Recommender: URM Detected 194 ( 0.9%) items with no interactions.\n",
      "EASE_R_Recommender: Fitting model... \n",
      "EASE_R_Recommender: Fitting model... done in 1.33 min\n",
      "EvaluatorHoldout: Processed 9908 (100.0%) in 5.23 sec. Users per second: 1893\n"
     ]
    },
    {
     "name": "stderr",
     "output_type": "stream",
     "text": [
      "[I 2023-12-17 21:28:53,506] Trial 94 finished with value: 0.039380751324887796 and parameters: {'topK': 44, 'l2_norm': 21}. Best is trial 14 with value: 0.03948435126977761.\n"
     ]
    },
    {
     "name": "stdout",
     "output_type": "stream",
     "text": [
      "EASE_R_Recommender: URM Detected 552 ( 4.2%) users with no interactions.\n",
      "EASE_R_Recommender: URM Detected 194 ( 0.9%) items with no interactions.\n",
      "EASE_R_Recommender: Fitting model... \n",
      "EASE_R_Recommender: Fitting model... done in 1.32 min\n",
      "EvaluatorHoldout: Processed 9908 (100.0%) in 5.31 sec. Users per second: 1866\n"
     ]
    },
    {
     "name": "stderr",
     "output_type": "stream",
     "text": [
      "[I 2023-12-17 21:30:30,643] Trial 95 finished with value: 0.039360012912445674 and parameters: {'topK': 43, 'l2_norm': 20}. Best is trial 14 with value: 0.03948435126977761.\n"
     ]
    },
    {
     "name": "stdout",
     "output_type": "stream",
     "text": [
      "EASE_R_Recommender: URM Detected 552 ( 4.2%) users with no interactions.\n",
      "EASE_R_Recommender: URM Detected 194 ( 0.9%) items with no interactions.\n",
      "EASE_R_Recommender: Fitting model... \n",
      "EASE_R_Recommender: Fitting model... done in 1.30 min\n",
      "EvaluatorHoldout: Processed 9908 (100.0%) in 5.32 sec. Users per second: 1862\n"
     ]
    },
    {
     "name": "stderr",
     "output_type": "stream",
     "text": [
      "[I 2023-12-17 21:32:06,383] Trial 96 finished with value: 0.0381381487462437 and parameters: {'topK': 32, 'l2_norm': 100}. Best is trial 14 with value: 0.03948435126977761.\n"
     ]
    },
    {
     "name": "stdout",
     "output_type": "stream",
     "text": [
      "EASE_R_Recommender: URM Detected 552 ( 4.2%) users with no interactions.\n",
      "EASE_R_Recommender: URM Detected 194 ( 0.9%) items with no interactions.\n",
      "EASE_R_Recommender: Fitting model... \n",
      "EASE_R_Recommender: Fitting model... done in 1.31 min\n",
      "EvaluatorHoldout: Processed 9908 (100.0%) in 5.20 sec. Users per second: 1904\n"
     ]
    },
    {
     "name": "stderr",
     "output_type": "stream",
     "text": [
      "[I 2023-12-17 21:33:42,814] Trial 97 finished with value: 0.03954035459561339 and parameters: {'topK': 35, 'l2_norm': 23}. Best is trial 97 with value: 0.03954035459561339.\n"
     ]
    },
    {
     "name": "stdout",
     "output_type": "stream",
     "text": [
      "EASE_R_Recommender: URM Detected 552 ( 4.2%) users with no interactions.\n",
      "EASE_R_Recommender: URM Detected 194 ( 0.9%) items with no interactions.\n",
      "EASE_R_Recommender: Fitting model... \n",
      "EASE_R_Recommender: Fitting model... done in 1.34 min\n",
      "EvaluatorHoldout: Processed 9908 (100.0%) in 5.17 sec. Users per second: 1916\n"
     ]
    },
    {
     "name": "stderr",
     "output_type": "stream",
     "text": [
      "[I 2023-12-17 21:35:21,254] Trial 98 finished with value: 0.03832338466270701 and parameters: {'topK': 36, 'l2_norm': 9}. Best is trial 97 with value: 0.03954035459561339.\n"
     ]
    },
    {
     "name": "stdout",
     "output_type": "stream",
     "text": [
      "EASE_R_Recommender: URM Detected 552 ( 4.2%) users with no interactions.\n",
      "EASE_R_Recommender: URM Detected 194 ( 0.9%) items with no interactions.\n",
      "EASE_R_Recommender: Fitting model... \n",
      "EASE_R_Recommender: Fitting model... done in 1.30 min\n",
      "EvaluatorHoldout: Processed 9908 (100.0%) in 5.23 sec. Users per second: 1893\n"
     ]
    },
    {
     "name": "stderr",
     "output_type": "stream",
     "text": [
      "[I 2023-12-17 21:36:57,195] Trial 99 finished with value: 0.038874378408341397 and parameters: {'topK': 48, 'l2_norm': 12}. Best is trial 97 with value: 0.03954035459561339.\n"
     ]
    }
   ],
   "source": [
    "study = op.create_study(direction=\"maximize\")\n",
    "study.enqueue_trial(best_params)\n",
    "study.optimize(objective, n_trials=100)"
   ]
  },
  {
   "cell_type": "code",
   "execution_count": 17,
   "metadata": {},
   "outputs": [
    {
     "data": {
      "text/plain": [
       "{'topK': 35, 'l2_norm': 23}"
      ]
     },
     "execution_count": 17,
     "metadata": {},
     "output_type": "execute_result"
    }
   ],
   "source": [
    "study.best_params"
   ]
  },
  {
   "cell_type": "markdown",
   "metadata": {},
   "source": [
    "# Recommend"
   ]
  },
  {
   "cell_type": "code",
   "execution_count": null,
   "metadata": {
    "execution": {
     "iopub.execute_input": "2023-11-04T21:06:55.003332Z",
     "iopub.status.busy": "2023-11-04T21:06:55.002931Z",
     "iopub.status.idle": "2023-11-04T21:06:55.011864Z",
     "shell.execute_reply": "2023-11-04T21:06:55.010563Z",
     "shell.execute_reply.started": "2023-11-04T21:06:55.003286Z"
    }
   },
   "outputs": [],
   "source": [
    "# Open the submission sample file\n",
    "submission_sample = open('Input/data_target_users_test.csv', 'r')\n",
    "type(submission_sample)"
   ]
  },
  {
   "cell_type": "code",
   "execution_count": null,
   "metadata": {
    "execution": {
     "iopub.execute_input": "2023-11-04T21:07:03.629097Z",
     "iopub.status.busy": "2023-11-04T21:07:03.628687Z",
     "iopub.status.idle": "2023-11-04T21:07:03.654289Z",
     "shell.execute_reply": "2023-11-04T21:07:03.653175Z",
     "shell.execute_reply.started": "2023-11-04T21:07:03.629063Z"
    }
   },
   "outputs": [],
   "source": [
    "# Read the dataframe\n",
    "submission_df = pd.read_csv(filepath_or_buffer=submission_sample)\n",
    "submission_df"
   ]
  },
  {
   "cell_type": "code",
   "execution_count": null,
   "metadata": {
    "execution": {
     "iopub.execute_input": "2023-11-04T21:07:11.158728Z",
     "iopub.status.busy": "2023-11-04T21:07:11.158297Z",
     "iopub.status.idle": "2023-11-04T21:07:11.166227Z",
     "shell.execute_reply": "2023-11-04T21:07:11.165409Z",
     "shell.execute_reply.started": "2023-11-04T21:07:11.158693Z"
    }
   },
   "outputs": [],
   "source": [
    "# Convert the user_id column to numpy list\n",
    "user_list = submission_df['user_id'].to_numpy()\n",
    "user_list"
   ]
  },
  {
   "cell_type": "code",
   "execution_count": null,
   "metadata": {
    "execution": {
     "iopub.execute_input": "2023-11-04T21:07:14.181159Z",
     "iopub.status.busy": "2023-11-04T21:07:14.180417Z",
     "iopub.status.idle": "2023-11-04T21:07:22.297901Z",
     "shell.execute_reply": "2023-11-04T21:07:22.296845Z",
     "shell.execute_reply.started": "2023-11-04T21:07:14.181126Z"
    }
   },
   "outputs": [],
   "source": [
    "# Extract the recommended items and write them in the dataframe\n",
    "\n",
    "all_recommend = []\n",
    "\n",
    "for i,id in tqdm(enumerate(user_list)):\n",
    "    rec = recommender.recommend(id, cutoff=10)\n",
    "    rec_list = rec\n",
    "    rec_row = ' '.join(str(s) for s in rec_list)\n",
    "    all_recommend.append(rec_row)"
   ]
  },
  {
   "cell_type": "code",
   "execution_count": null,
   "metadata": {
    "execution": {
     "iopub.execute_input": "2023-11-04T21:07:30.817388Z",
     "iopub.status.busy": "2023-11-04T21:07:30.816981Z",
     "iopub.status.idle": "2023-11-04T21:07:30.824731Z",
     "shell.execute_reply": "2023-11-04T21:07:30.82381Z",
     "shell.execute_reply.started": "2023-11-04T21:07:30.817347Z"
    }
   },
   "outputs": [],
   "source": [
    "all_recommend[:10]"
   ]
  },
  {
   "cell_type": "code",
   "execution_count": null,
   "metadata": {
    "execution": {
     "iopub.execute_input": "2023-11-04T21:07:34.06307Z",
     "iopub.status.busy": "2023-11-04T21:07:34.062658Z",
     "iopub.status.idle": "2023-11-04T21:07:34.069637Z",
     "shell.execute_reply": "2023-11-04T21:07:34.068564Z",
     "shell.execute_reply.started": "2023-11-04T21:07:34.063035Z"
    }
   },
   "outputs": [],
   "source": [
    "submission_df['item_list'] = all_recommend"
   ]
  },
  {
   "cell_type": "code",
   "execution_count": null,
   "metadata": {
    "execution": {
     "iopub.execute_input": "2023-11-04T21:07:47.819936Z",
     "iopub.status.busy": "2023-11-04T21:07:47.819536Z",
     "iopub.status.idle": "2023-11-04T21:07:47.830373Z",
     "shell.execute_reply": "2023-11-04T21:07:47.829521Z",
     "shell.execute_reply.started": "2023-11-04T21:07:47.819905Z"
    }
   },
   "outputs": [],
   "source": [
    "submission_df.head(10)"
   ]
  },
  {
   "cell_type": "code",
   "execution_count": null,
   "metadata": {
    "execution": {
     "iopub.execute_input": "2023-11-04T21:07:53.820333Z",
     "iopub.status.busy": "2023-11-04T21:07:53.819501Z",
     "iopub.status.idle": "2023-11-04T21:07:53.865369Z",
     "shell.execute_reply": "2023-11-04T21:07:53.864316Z",
     "shell.execute_reply.started": "2023-11-04T21:07:53.820277Z"
    }
   },
   "outputs": [],
   "source": [
    "# Export the dataframe on csv file\n",
    "submission_df.to_csv('Output/EASE-R.csv', index=False)"
   ]
  }
 ],
 "metadata": {
  "kaggle": {
   "accelerator": "none",
   "dataSources": [
    {
     "databundleVersionId": 6919098,
     "sourceId": 62803,
     "sourceType": "competition"
    }
   ],
   "dockerImageVersionId": 30558,
   "isGpuEnabled": false,
   "isInternetEnabled": true,
   "language": "python",
   "sourceType": "notebook"
  },
  "kernelspec": {
   "display_name": "Python 3 (ipykernel)",
   "language": "python",
   "name": "python3"
  },
  "language_info": {
   "codemirror_mode": {
    "name": "ipython",
    "version": 3
   },
   "file_extension": ".py",
   "mimetype": "text/x-python",
   "name": "python",
   "nbconvert_exporter": "python",
   "pygments_lexer": "ipython3",
   "version": "3.8.18"
  }
 },
 "nbformat": 4,
 "nbformat_minor": 4
}
