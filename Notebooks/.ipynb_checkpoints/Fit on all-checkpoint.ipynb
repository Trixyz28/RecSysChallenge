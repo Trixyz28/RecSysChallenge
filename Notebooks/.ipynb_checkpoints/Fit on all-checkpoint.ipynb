{
 "cells": [
  {
   "cell_type": "markdown",
   "metadata": {},
   "source": [
    "# Recommender Systems Challenge, 2023/2024 @ PoliMi"
   ]
  },
  {
   "cell_type": "markdown",
   "metadata": {},
   "source": [
    "# Introduction\n",
    "\n",
    "## Problem Description\n",
    "The application domain is book recommendation. The datasets contain interactions of users with books, in particular, if the user attributed to the book a rating of at least 4. The main goal of the competition is to discover which items (books) a user will interact with.\n",
    "\n",
    "The datasets includes around 600k interactions, 13k users, 22k items (books).\n",
    "The training-test split is done via random holdout, 80% training, 20% test.\n",
    "The goal is to recommend a list of 10 potentially relevant items for each user.\n",
    "\n",
    "\n",
    "## Datasets\n",
    "All files are comma-separated (columns are separated with ',' ).\n",
    "\n",
    "- **data_train.csv**:\n",
    "Contains the training set, describing implicit preferences expressed by the users.\n",
    "    - **user_id** : identifier of the user\n",
    "    - **item_id** : identifier of the item (Book)\n",
    "    - **data** : \"1.0\" if the user liked the book attributing it a rating of at least 4.\n",
    "\n",
    "\n",
    "- **data_target_users_test.csv**:\n",
    "Contains the ids of the users that should appear in your submission file.\n",
    "The submission file should contain all and only these users.\n",
    "\n",
    "- **sample_submission.csv**:\n",
    "A sample submission file in the correct format: [user_id],[ordered list of recommended items].\n",
    "Be careful with the spaces and be sure to recommend the correct number of items to every user."
   ]
  },
  {
   "cell_type": "markdown",
   "metadata": {},
   "source": [
    "# Requirements\n",
    "\n",
    "The working environment and the required libraries are defined here."
   ]
  },
  {
   "cell_type": "code",
   "execution_count": 1,
   "metadata": {
    "_cell_guid": "b1076dfc-b9ad-4769-8c92-a6c4dae69d19",
    "_uuid": "8f2839f25d086af736a60e9eeb907d3b93b6e0e5",
    "execution": {
     "iopub.execute_input": "2023-11-12T22:55:27.107416Z",
     "iopub.status.busy": "2023-11-12T22:55:27.107103Z",
     "iopub.status.idle": "2023-11-12T22:55:27.415864Z",
     "shell.execute_reply": "2023-11-12T22:55:27.415002Z",
     "shell.execute_reply.started": "2023-11-12T22:55:27.107392Z"
    }
   },
   "outputs": [],
   "source": [
    "# Import libraries\n",
    "\n",
    "import numpy as np # linear algebra\n",
    "import pandas as pd # data processing, CSV file I/O (e.g. pd.read_csv)\n",
    "import scipy.sparse as sps # creation of sparse matrix\n",
    "import matplotlib.pyplot as pyplot # plot\n",
    "\n",
    "from tqdm import tqdm\n",
    "\n",
    "from scipy.stats import uniform, loguniform\n",
    "import optuna as op"
   ]
  },
  {
   "cell_type": "code",
   "execution_count": 2,
   "metadata": {},
   "outputs": [],
   "source": [
    "%load_ext Cython"
   ]
  },
  {
   "cell_type": "markdown",
   "metadata": {},
   "source": [
    "# Data Preprocessing"
   ]
  },
  {
   "cell_type": "code",
   "execution_count": 3,
   "metadata": {
    "execution": {
     "iopub.execute_input": "2023-11-12T22:55:29.530470Z",
     "iopub.status.busy": "2023-11-12T22:55:29.530065Z",
     "iopub.status.idle": "2023-11-12T22:55:29.536636Z",
     "shell.execute_reply": "2023-11-12T22:55:29.535790Z",
     "shell.execute_reply.started": "2023-11-12T22:55:29.530448Z"
    }
   },
   "outputs": [
    {
     "data": {
      "text/plain": [
       "_io.TextIOWrapper"
      ]
     },
     "execution_count": 3,
     "metadata": {},
     "output_type": "execute_result"
    }
   ],
   "source": [
    "# Handle the input file\n",
    "input_file = open('Input/data_train.csv', 'r')\n",
    "type(input_file)"
   ]
  },
  {
   "cell_type": "code",
   "execution_count": 4,
   "metadata": {
    "execution": {
     "iopub.execute_input": "2023-11-12T22:55:31.169146Z",
     "iopub.status.busy": "2023-11-12T22:55:31.168482Z",
     "iopub.status.idle": "2023-11-12T22:55:31.385566Z",
     "shell.execute_reply": "2023-11-12T22:55:31.384663Z",
     "shell.execute_reply.started": "2023-11-12T22:55:31.169120Z"
    }
   },
   "outputs": [
    {
     "data": {
      "text/plain": [
       "(478730, 3)"
      ]
     },
     "execution_count": 4,
     "metadata": {},
     "output_type": "execute_result"
    }
   ],
   "source": [
    "# Build the dataframe from the input file\n",
    "input_df = pd.read_csv(\n",
    "    filepath_or_buffer=input_file,\n",
    "    dtype={0:int, 1:int, 2:int},\n",
    "    names=['user_id','item_id','data'],\n",
    "    header=0\n",
    ")\n",
    "\n",
    "input_df.shape"
   ]
  },
  {
   "cell_type": "code",
   "execution_count": 5,
   "metadata": {
    "execution": {
     "iopub.execute_input": "2023-11-12T22:55:34.346527Z",
     "iopub.status.busy": "2023-11-12T22:55:34.346196Z",
     "iopub.status.idle": "2023-11-12T22:55:34.361128Z",
     "shell.execute_reply": "2023-11-12T22:55:34.360275Z",
     "shell.execute_reply.started": "2023-11-12T22:55:34.346502Z"
    }
   },
   "outputs": [
    {
     "data": {
      "text/html": [
       "<div>\n",
       "<style scoped>\n",
       "    .dataframe tbody tr th:only-of-type {\n",
       "        vertical-align: middle;\n",
       "    }\n",
       "\n",
       "    .dataframe tbody tr th {\n",
       "        vertical-align: top;\n",
       "    }\n",
       "\n",
       "    .dataframe thead th {\n",
       "        text-align: right;\n",
       "    }\n",
       "</style>\n",
       "<table border=\"1\" class=\"dataframe\">\n",
       "  <thead>\n",
       "    <tr style=\"text-align: right;\">\n",
       "      <th></th>\n",
       "      <th>user_id</th>\n",
       "      <th>item_id</th>\n",
       "      <th>data</th>\n",
       "    </tr>\n",
       "  </thead>\n",
       "  <tbody>\n",
       "    <tr>\n",
       "      <th>0</th>\n",
       "      <td>1</td>\n",
       "      <td>7</td>\n",
       "      <td>1</td>\n",
       "    </tr>\n",
       "    <tr>\n",
       "      <th>1</th>\n",
       "      <td>1</td>\n",
       "      <td>15</td>\n",
       "      <td>1</td>\n",
       "    </tr>\n",
       "    <tr>\n",
       "      <th>2</th>\n",
       "      <td>1</td>\n",
       "      <td>16</td>\n",
       "      <td>1</td>\n",
       "    </tr>\n",
       "    <tr>\n",
       "      <th>3</th>\n",
       "      <td>1</td>\n",
       "      <td>133</td>\n",
       "      <td>1</td>\n",
       "    </tr>\n",
       "    <tr>\n",
       "      <th>4</th>\n",
       "      <td>1</td>\n",
       "      <td>161</td>\n",
       "      <td>1</td>\n",
       "    </tr>\n",
       "    <tr>\n",
       "      <th>5</th>\n",
       "      <td>1</td>\n",
       "      <td>187</td>\n",
       "      <td>1</td>\n",
       "    </tr>\n",
       "    <tr>\n",
       "      <th>6</th>\n",
       "      <td>1</td>\n",
       "      <td>205</td>\n",
       "      <td>1</td>\n",
       "    </tr>\n",
       "    <tr>\n",
       "      <th>7</th>\n",
       "      <td>1</td>\n",
       "      <td>222</td>\n",
       "      <td>1</td>\n",
       "    </tr>\n",
       "    <tr>\n",
       "      <th>8</th>\n",
       "      <td>1</td>\n",
       "      <td>237</td>\n",
       "      <td>1</td>\n",
       "    </tr>\n",
       "    <tr>\n",
       "      <th>9</th>\n",
       "      <td>1</td>\n",
       "      <td>354</td>\n",
       "      <td>1</td>\n",
       "    </tr>\n",
       "  </tbody>\n",
       "</table>\n",
       "</div>"
      ],
      "text/plain": [
       "   user_id  item_id  data\n",
       "0        1        7     1\n",
       "1        1       15     1\n",
       "2        1       16     1\n",
       "3        1      133     1\n",
       "4        1      161     1\n",
       "5        1      187     1\n",
       "6        1      205     1\n",
       "7        1      222     1\n",
       "8        1      237     1\n",
       "9        1      354     1"
      ]
     },
     "execution_count": 5,
     "metadata": {},
     "output_type": "execute_result"
    }
   ],
   "source": [
    "# Show the first rows of the dataframe\n",
    "input_df.head(n=10)"
   ]
  },
  {
   "cell_type": "code",
   "execution_count": 6,
   "metadata": {
    "execution": {
     "iopub.execute_input": "2023-11-12T22:55:37.530832Z",
     "iopub.status.busy": "2023-11-12T22:55:37.530481Z",
     "iopub.status.idle": "2023-11-12T22:55:37.550310Z",
     "shell.execute_reply": "2023-11-12T22:55:37.549787Z",
     "shell.execute_reply.started": "2023-11-12T22:55:37.530806Z"
    }
   },
   "outputs": [
    {
     "name": "stdout",
     "output_type": "stream",
     "text": [
      "[    1     2     3 ... 13022 13023 13024]\n",
      "[    7    15    16 ... 22317 22339 21466]\n"
     ]
    }
   ],
   "source": [
    "# Create arrays of unique user_ids and item_ids\n",
    "arr_users = input_df[\"user_id\"].unique()\n",
    "arr_items = input_df[\"item_id\"].unique()\n",
    "\n",
    "print(arr_users)\n",
    "print(arr_items)"
   ]
  },
  {
   "cell_type": "code",
   "execution_count": 7,
   "metadata": {
    "execution": {
     "iopub.execute_input": "2023-11-12T22:56:02.215375Z",
     "iopub.status.busy": "2023-11-12T22:56:02.214968Z",
     "iopub.status.idle": "2023-11-12T22:56:02.223353Z",
     "shell.execute_reply": "2023-11-12T22:56:02.222530Z",
     "shell.execute_reply.started": "2023-11-12T22:56:02.215349Z"
    }
   },
   "outputs": [
    {
     "name": "stdout",
     "output_type": "stream",
     "text": [
      "Average interaction per user 37.88\n",
      "Average interaction per item 21.54\n",
      "Sparsity 99.83 %\n"
     ]
    }
   ],
   "source": [
    "# Show some statistics\n",
    "n_users = len(arr_users)\n",
    "n_items = len(arr_items)\n",
    "n_interactions = len(input_df)\n",
    "\n",
    "print(\"Average interaction per user {:.2f}\".format(n_interactions/n_users))\n",
    "print(\"Average interaction per item {:.2f}\".format(n_interactions/n_items))\n",
    "print(\"Sparsity {:.2f} %\".format((1-float(n_interactions)/(n_items*n_users))*100))"
   ]
  },
  {
   "cell_type": "code",
   "execution_count": 8,
   "metadata": {},
   "outputs": [
    {
     "name": "stdout",
     "output_type": "stream",
     "text": [
      "Number of users\t 12638, Number of items\t 22222 \n",
      "\n",
      "Max ID users\t 13024, Max ID items\t 22347 \n",
      "\n"
     ]
    }
   ],
   "source": [
    "print(\"Number of users\\t {}, Number of items\\t {} \\n\".format(n_users, n_items))\n",
    "print(\"Max ID users\\t {}, Max ID items\\t {} \\n\".format(max(arr_users), max(arr_items)))"
   ]
  },
  {
   "cell_type": "code",
   "execution_count": 9,
   "metadata": {},
   "outputs": [],
   "source": [
    "# # Remove empty indices, create a new mapping\n",
    "\n",
    "# mapped_id, original_id = pd.factorize(input_df[\"user_id\"].unique())\n",
    "# user_original_ID_to_index = pd.Series(mapped_id, index=original_id)\n",
    "\n",
    "# mapped_id, original_id = pd.factorize(input_df[\"item_id\"].unique())\n",
    "# item_original_ID_to_index = pd.Series(mapped_id, index=original_id)\n",
    "\n",
    "\n",
    "# original_item_ID = 980\n",
    "# print(\"New index for item {} is {}\".format(original_item_ID, item_original_ID_to_index[original_item_ID]))"
   ]
  },
  {
   "cell_type": "code",
   "execution_count": 10,
   "metadata": {},
   "outputs": [],
   "source": [
    "# # Replace the IDs in the dataframe\n",
    "\n",
    "# input_df[\"user_id\"] = input_df[\"user_id\"].map(user_original_ID_to_index)\n",
    "# input_df[\"item_id\"] = input_df[\"item_id\"].map(item_original_ID_to_index)\n",
    "\n",
    "\n",
    "# input_df.head(n=10)"
   ]
  },
  {
   "cell_type": "markdown",
   "metadata": {},
   "source": [
    "# Matrix Conversion"
   ]
  },
  {
   "cell_type": "code",
   "execution_count": 11,
   "metadata": {
    "execution": {
     "iopub.execute_input": "2023-11-12T22:56:41.759574Z",
     "iopub.status.busy": "2023-11-12T22:56:41.759295Z",
     "iopub.status.idle": "2023-11-12T22:56:41.769131Z",
     "shell.execute_reply": "2023-11-12T22:56:41.768410Z",
     "shell.execute_reply.started": "2023-11-12T22:56:41.759551Z"
    }
   },
   "outputs": [
    {
     "data": {
      "text/plain": [
       "<13025x22348 sparse matrix of type '<class 'numpy.int32'>'\n",
       "\twith 478730 stored elements in COOrdinate format>"
      ]
     },
     "execution_count": 11,
     "metadata": {},
     "output_type": "execute_result"
    }
   ],
   "source": [
    "# Build the COO matrix with the COO constructor: (data, (row, column))\n",
    "URM_all = sps.coo_matrix(\n",
    "    (input_df[\"data\"].values,\n",
    "    (input_df[\"user_id\"].values, input_df[\"item_id\"].values))\n",
    ")\n",
    "\n",
    "URM_all"
   ]
  },
  {
   "cell_type": "code",
   "execution_count": 12,
   "metadata": {
    "execution": {
     "iopub.execute_input": "2023-11-12T22:56:46.591716Z",
     "iopub.status.busy": "2023-11-12T22:56:46.591432Z",
     "iopub.status.idle": "2023-11-12T22:56:46.605733Z",
     "shell.execute_reply": "2023-11-12T22:56:46.604615Z",
     "shell.execute_reply.started": "2023-11-12T22:56:46.591696Z"
    }
   },
   "outputs": [
    {
     "data": {
      "text/plain": [
       "<13025x22348 sparse matrix of type '<class 'numpy.intc'>'\n",
       "\twith 478730 stored elements in Compressed Sparse Row format>"
      ]
     },
     "execution_count": 12,
     "metadata": {},
     "output_type": "execute_result"
    }
   ],
   "source": [
    "# Convert the matrix to Compressed Sparse Row format\n",
    "URM_all = URM_all.tocsr()\n",
    "\n",
    "URM_all"
   ]
  },
  {
   "cell_type": "code",
   "execution_count": 13,
   "metadata": {
    "execution": {
     "iopub.execute_input": "2023-11-12T22:56:50.673578Z",
     "iopub.status.busy": "2023-11-12T22:56:50.673250Z",
     "iopub.status.idle": "2023-11-12T22:56:50.688362Z",
     "shell.execute_reply": "2023-11-12T22:56:50.687787Z",
     "shell.execute_reply.started": "2023-11-12T22:56:50.673552Z"
    }
   },
   "outputs": [
    {
     "data": {
      "text/plain": [
       "array([   0, 1581, 1764, ...,    3,    5,    2])"
      ]
     },
     "execution_count": 13,
     "metadata": {},
     "output_type": "execute_result"
    }
   ],
   "source": [
    "# Compute the item popularity as the number of interaction in each column\n",
    "\n",
    "# numpy.ediff1d(): calculate the differences between consecutive elements of an array.\n",
    "# (scipy) indptr maps the elements of data and indices to the rows of the sparse matrix.\n",
    "item_popularity = np.ediff1d(URM_all.tocsc().indptr)\n",
    "item_popularity"
   ]
  },
  {
   "cell_type": "code",
   "execution_count": 14,
   "metadata": {
    "execution": {
     "iopub.execute_input": "2023-11-12T22:56:52.555626Z",
     "iopub.status.busy": "2023-11-12T22:56:52.554891Z",
     "iopub.status.idle": "2023-11-12T22:56:52.562565Z",
     "shell.execute_reply": "2023-11-12T22:56:52.561896Z",
     "shell.execute_reply.started": "2023-11-12T22:56:52.555593Z"
    }
   },
   "outputs": [
    {
     "data": {
      "text/plain": [
       "array([   0,    0,    0, ..., 1581, 1666, 1764])"
      ]
     },
     "execution_count": 14,
     "metadata": {},
     "output_type": "execute_result"
    }
   ],
   "source": [
    "# Sort the popularity array\n",
    "item_popularity = np.sort(item_popularity)\n",
    "item_popularity"
   ]
  },
  {
   "cell_type": "code",
   "execution_count": 15,
   "metadata": {
    "execution": {
     "iopub.execute_input": "2023-11-12T22:56:54.597465Z",
     "iopub.status.busy": "2023-11-12T22:56:54.597146Z",
     "iopub.status.idle": "2023-11-12T22:56:54.812621Z",
     "shell.execute_reply": "2023-11-12T22:56:54.811595Z",
     "shell.execute_reply.started": "2023-11-12T22:56:54.597440Z"
    }
   },
   "outputs": [
    {
     "data": {
      "image/png": "[encoded data removed]",
      "text/plain": [
       "<Figure size 640x480 with 1 Axes>"
      ]
     },
     "metadata": {},
     "output_type": "display_data"
    }
   ],
   "source": [
    "# Plot the correlation between sorted items and the number of interactions.\n",
    "pyplot.plot(item_popularity, 'ro')\n",
    "pyplot.ylabel('Num Interactions')\n",
    "pyplot.xlabel('Sorted Item')\n",
    "pyplot.show()"
   ]
  },
  {
   "cell_type": "code",
   "execution_count": 80,
   "metadata": {
    "execution": {
     "iopub.execute_input": "2023-11-12T22:56:58.473087Z",
     "iopub.status.busy": "2023-11-12T22:56:58.472593Z",
     "iopub.status.idle": "2023-11-12T22:56:58.479846Z",
     "shell.execute_reply": "2023-11-12T22:56:58.478957Z",
     "shell.execute_reply.started": "2023-11-12T22:56:58.473061Z"
    }
   },
   "outputs": [
    {
     "name": "stdout",
     "output_type": "stream",
     "text": [
      "Average per-item interactions over the whole dataset 21.42\n",
      "Average per-item interactions for the top 10% popular items 122.73\n",
      "Average per-item interactions for the least 10% popular items 2.18\n",
      "Average per-item interactions for the median 10% popular items 8.25\n",
      "Number of items with zero interactions 126\n"
     ]
    }
   ],
   "source": [
    "# Statistics\n",
    "ten_percent = int(n_items/10)\n",
    "\n",
    "print(\"Average per-item interactions over the whole dataset {:.2f}\".\n",
    "      format(item_popularity.mean()))\n",
    "\n",
    "print(\"Average per-item interactions for the top 10% popular items {:.2f}\".\n",
    "      format(item_popularity[-ten_percent:].mean()))\n",
    "\n",
    "print(\"Average per-item interactions for the least 10% popular items {:.2f}\".\n",
    "      format(item_popularity[:ten_percent].mean()))\n",
    "\n",
    "print(\"Average per-item interactions for the median 10% popular items {:.2f}\".\n",
    "      format(item_popularity[int(n_items*0.45):int(n_items*0.55)].mean()))\n",
    "\n",
    "print(\"Number of items with zero interactions {}\".\n",
    "      format(np.sum(item_popularity==0)))"
   ]
  },
  {
   "cell_type": "code",
   "execution_count": 81,
   "metadata": {
    "execution": {
     "iopub.execute_input": "2023-11-12T22:57:08.195018Z",
     "iopub.status.busy": "2023-11-12T22:57:08.194711Z",
     "iopub.status.idle": "2023-11-12T22:57:08.201059Z",
     "shell.execute_reply": "2023-11-12T22:57:08.200165Z",
     "shell.execute_reply.started": "2023-11-12T22:57:08.194997Z"
    }
   },
   "outputs": [
    {
     "data": {
      "text/plain": [
       "array([   0,    0,    0, ...,  729,  824, 1351])"
      ]
     },
     "execution_count": 81,
     "metadata": {},
     "output_type": "execute_result"
    }
   ],
   "source": [
    "# Compute the user activity as the number of interaction in each row\n",
    "user_activity = np.ediff1d(URM_all.indptr)\n",
    "user_activity = np.sort(user_activity)\n",
    "user_activity"
   ]
  },
  {
   "cell_type": "code",
   "execution_count": 82,
   "metadata": {
    "execution": {
     "iopub.execute_input": "2023-11-12T22:57:10.794195Z",
     "iopub.status.busy": "2023-11-12T22:57:10.793893Z",
     "iopub.status.idle": "2023-11-12T22:57:10.963991Z",
     "shell.execute_reply": "2023-11-12T22:57:10.963156Z",
     "shell.execute_reply.started": "2023-11-12T22:57:10.794172Z"
    }
   },
   "outputs": [
    {
     "data": {
      "image/png": "[encoded data removed]",
      "text/plain": [
       "<Figure size 640x480 with 1 Axes>"
      ]
     },
     "metadata": {},
     "output_type": "display_data"
    }
   ],
   "source": [
    "# Plot the correlation between sorted users and number of interactions\n",
    "pyplot.plot(user_activity, 'ro')\n",
    "pyplot.ylabel('Num Interactions')\n",
    "pyplot.xlabel('Sorted User')\n",
    "pyplot.show()"
   ]
  },
  {
   "cell_type": "markdown",
   "metadata": {},
   "source": [
    "# Evaluation of the recommender"
   ]
  },
  {
   "cell_type": "code",
   "execution_count": 83,
   "metadata": {
    "execution": {
     "iopub.execute_input": "2023-11-12T22:57:21.250734Z",
     "iopub.status.busy": "2023-11-12T22:57:21.250427Z",
     "iopub.status.idle": "2023-11-12T22:57:21.254680Z",
     "shell.execute_reply": "2023-11-12T22:57:21.253888Z",
     "shell.execute_reply.started": "2023-11-12T22:57:21.250710Z"
    }
   },
   "outputs": [],
   "source": [
    "# Define the train-test splitting ratio\n",
    "train_test_split = 0.85"
   ]
  },
  {
   "cell_type": "code",
   "execution_count": 84,
   "metadata": {},
   "outputs": [],
   "source": [
    "# Import Evaluators\n",
    "from Evaluation.Evaluator import EvaluatorHoldout\n",
    "from Data_manager.split_functions.split_train_validation_random_holdout import split_train_in_two_percentage_global_sample"
   ]
  },
  {
   "cell_type": "code",
   "execution_count": 86,
   "metadata": {},
   "outputs": [
    {
     "name": "stdout",
     "output_type": "stream",
     "text": [
      "Warning: 550 (4.22 %) of 13025 users have no train items\n",
      "Warning: 3091 (23.73 %) of 13025 users have no sampled items\n",
      "EvaluatorHoldout: Ignoring 3091 (23.7%) Users that have less than 1 test interactions\n"
     ]
    }
   ],
   "source": [
    "URM_train, URM_test = split_train_in_two_percentage_global_sample(URM_all, train_percentage = train_test_split)\n",
    "# URM_train, URM_validation = split_train_in_two_percentage_global_sample(URM_train, train_percentage = train_test_split)\n",
    "\n",
    "\n",
    "# evaluator_validation = EvaluatorHoldout(URM_validation, cutoff_list=[10])\n",
    "evaluator_test = EvaluatorHoldout(URM_test, cutoff_list=[10])"
   ]
  },
  {
   "cell_type": "code",
   "execution_count": null,
   "metadata": {},
   "outputs": [],
   "source": []
  },
  {
   "cell_type": "code",
   "execution_count": null,
   "metadata": {},
   "outputs": [],
   "source": []
  },
  {
   "cell_type": "code",
   "execution_count": 16,
   "metadata": {},
   "outputs": [],
   "source": [
    "from Recommenders.SLIM.SLIMElasticNetRecommender import MultiThreadSLIM_SLIMElasticNetRecommender"
   ]
  },
  {
   "cell_type": "code",
   "execution_count": 17,
   "metadata": {},
   "outputs": [
    {
     "name": "stdout",
     "output_type": "stream",
     "text": [
      "SLIMElasticNetRecommender: URM Detected 387 ( 3.0%) users with no interactions.\n",
      "SLIMElasticNetRecommender: URM Detected 126 ( 0.6%) items with no interactions.\n"
     ]
    },
    {
     "name": "stderr",
     "output_type": "stream",
     "text": [
      "100%|██████████████████████████████████████████████████████████████████████████▉| 22344/22348 [02:59<00:00, 124.64it/s]\n"
     ]
    }
   ],
   "source": [
    "slime_all = MultiThreadSLIM_SLIMElasticNetRecommender(URM_all)\n",
    "slime_all.fit(l1_ratio=0.05223, alpha=0.00116885, topK=451)"
   ]
  },
  {
   "cell_type": "code",
   "execution_count": 18,
   "metadata": {},
   "outputs": [],
   "source": [
    "from Recommenders.GraphBased.RP3betaRecommender import RP3betaRecommender"
   ]
  },
  {
   "cell_type": "code",
   "execution_count": 19,
   "metadata": {},
   "outputs": [
    {
     "name": "stdout",
     "output_type": "stream",
     "text": [
      "RP3betaRecommender: URM Detected 387 ( 3.0%) users with no interactions.\n",
      "RP3betaRecommender: URM Detected 126 ( 0.6%) items with no interactions.\n",
      "RP3betaRecommender: Similarity column 22348 (100.0%), 5831.61 column/sec. Elapsed time 3.83 sec\n"
     ]
    }
   ],
   "source": [
    "rp3beta_all = RP3betaRecommender(URM_all)\n",
    "rp3beta_all.fit(**{\n",
    "    'topK': 25,\n",
    "    'alpha': 0.26339,\n",
    "    'beta': 0.20854,\n",
    "    \"implicit\": True,\n",
    "    \"normalize_similarity\": True,\n",
    "})"
   ]
  },
  {
   "cell_type": "code",
   "execution_count": 20,
   "metadata": {},
   "outputs": [],
   "source": [
    "from Recommenders.KNN.ItemKNNSimilarityHybridRecommender import ItemKNNSimilarityHybridRecommender\n",
    "from Recommenders.Similarity.Compute_Similarity import Compute_Similarity"
   ]
  },
  {
   "cell_type": "code",
   "execution_count": 21,
   "metadata": {},
   "outputs": [
    {
     "name": "stdout",
     "output_type": "stream",
     "text": [
      "Similarity column 22348 (100.0%), 10440.14 column/sec. Elapsed time 2.14 sec\n",
      "Similarity column 22348 (100.0%), 10080.24 column/sec. Elapsed time 2.22 sec\n",
      "ItemKNNSimilarityHybridRecommender: URM Detected 387 ( 3.0%) users with no interactions.\n",
      "ItemKNNSimilarityHybridRecommender: URM Detected 126 ( 0.6%) items with no interactions.\n"
     ]
    }
   ],
   "source": [
    "sim1 = Compute_Similarity(URM_all, shrink = 9.803724, topK = 62, similarity = \"cosine\").compute_similarity()\n",
    "sim2 = Compute_Similarity(URM_all, shrink = 6.736, topK = 3, similarity = \"jaccard\").compute_similarity()\n",
    "\n",
    "itemhybrid = ItemKNNSimilarityHybridRecommender(URM_all, sim1, sim2)\n",
    "itemhybrid.fit(topK = 36, alpha = 0.267625)"
   ]
  },
  {
   "cell_type": "code",
   "execution_count": 34,
   "metadata": {},
   "outputs": [],
   "source": [
    "from Recommenders.ScoresHybridRecommender3 import ScoresHybridRecommender3"
   ]
  },
  {
   "cell_type": "code",
   "execution_count": 35,
   "metadata": {},
   "outputs": [
    {
     "name": "stdout",
     "output_type": "stream",
     "text": [
      "ScoresHybridRecommender3: URM Detected 387 ( 3.0%) users with no interactions.\n",
      "ScoresHybridRecommender3: URM Detected 126 ( 0.6%) items with no interactions.\n"
     ]
    }
   ],
   "source": [
    "recommender = ScoresHybridRecommender3(URM_all, slime_all, itemhybrid, rp3beta_all)\n",
    "recommender.fit(alpha=0.661077, beta=0.144166)"
   ]
  },
  {
   "cell_type": "markdown",
   "metadata": {},
   "source": [
    "## ItemKNNCF Recommender"
   ]
  },
  {
   "cell_type": "code",
   "execution_count": 87,
   "metadata": {},
   "outputs": [
    {
     "name": "stdout",
     "output_type": "stream",
     "text": [
      "EvaluatorHoldout: Ignoring 3091 (23.7%) Users that have less than 1 test interactions\n",
      "ItemKNNCFRecommender: URM Detected 550 ( 4.2%) users with no interactions.\n",
      "ItemKNNCFRecommender: URM Detected 206 ( 0.9%) items with no interactions.\n",
      "Similarity column 22348 (100.0%), 11553.97 column/sec. Elapsed time 1.93 sec\n"
     ]
    }
   ],
   "source": [
    "from Recommenders.KNN.ItemKNNCFRecommender import ItemKNNCFRecommender\n",
    "\n",
    "evaluator_test = EvaluatorHoldout(URM_test, cutoff_list=[10])\n",
    "\n",
    "recommender = ItemKNNCFRecommender(URM_train)\n",
    "recommender.fit(shrink=3, topK=5)"
   ]
  },
  {
   "cell_type": "code",
   "execution_count": 88,
   "metadata": {},
   "outputs": [
    {
     "name": "stdout",
     "output_type": "stream",
     "text": [
      "EvaluatorHoldout: Processed 9934 (100.0%) in 3.69 sec. Users per second: 2692\n"
     ]
    },
    {
     "data": {
      "text/plain": [
       "PRECISION                      0.072176\n",
       "PRECISION_RECALL_MIN_DEN       0.141942\n",
       "RECALL                         0.127062\n",
       "MAP                            0.035424\n",
       "MAP_MIN_DEN                    0.069046\n",
       "MRR                            0.218782\n",
       "NDCG                            0.12399\n",
       "F1                             0.092059\n",
       "HIT_RATE                       0.439903\n",
       "ARHR_ALL_HITS                  0.275657\n",
       "NOVELTY                        0.005531\n",
       "AVERAGE_POPULARITY             0.144747\n",
       "DIVERSITY_MEAN_INTER_LIST      0.984594\n",
       "DIVERSITY_HERFINDAHL            0.99845\n",
       "COVERAGE_ITEM                  0.478298\n",
       "COVERAGE_ITEM_HIT              0.099785\n",
       "ITEMS_IN_GT                    0.721989\n",
       "COVERAGE_USER                  0.762687\n",
       "COVERAGE_USER_HIT              0.335509\n",
       "USERS_IN_GT                    0.762687\n",
       "DIVERSITY_GINI                 0.109471\n",
       "SHANNON_ENTROPY               11.045543\n",
       "RATIO_DIVERSITY_HERFINDAHL     0.998811\n",
       "RATIO_DIVERSITY_GINI           0.315019\n",
       "RATIO_SHANNON_ENTROPY          0.850714\n",
       "RATIO_AVERAGE_POPULARITY       1.219697\n",
       "RATIO_NOVELTY                  0.304723\n",
       "Name: 10, dtype: object"
      ]
     },
     "execution_count": 88,
     "metadata": {},
     "output_type": "execute_result"
    }
   ],
   "source": [
    "result, _ = evaluator_test.evaluateRecommender(recommender)\n",
    "result.loc[10]"
   ]
  },
  {
   "cell_type": "markdown",
   "metadata": {},
   "source": [
    "### Hyperparameter Tuning"
   ]
  },
  {
   "cell_type": "code",
   "execution_count": 89,
   "metadata": {},
   "outputs": [
    {
     "data": {
      "text/plain": [
       "[4, 5, 6, 7, 8, 9, 10, 11, 12, 13, 14]"
      ]
     },
     "execution_count": 89,
     "metadata": {},
     "output_type": "execute_result"
    }
   ],
   "source": [
    "# Tuning the number of neighbours\n",
    "\n",
    "MAP_per_k = []\n",
    "\n",
    "# x_tick = uniform.rvs(1,50,size=20).astype(int)\n",
    "x_tick = [4, 5, 6, 7, 8, 9, 10, 11, 12, 13, 14]\n",
    "x_tick.sort()\n",
    "x_tick"
   ]
  },
  {
   "cell_type": "code",
   "execution_count": 90,
   "metadata": {},
   "outputs": [
    {
     "name": "stdout",
     "output_type": "stream",
     "text": [
      "ItemKNNCFRecommender: URM Detected 550 ( 4.2%) users with no interactions.\n",
      "ItemKNNCFRecommender: URM Detected 206 ( 0.9%) items with no interactions.\n",
      "Similarity column 22348 (100.0%), 11646.56 column/sec. Elapsed time 1.92 sec\n",
      "EvaluatorHoldout: Processed 9934 (100.0%) in 3.69 sec. Users per second: 2691\n",
      "ItemKNNCFRecommender: URM Detected 550 ( 4.2%) users with no interactions.\n",
      "ItemKNNCFRecommender: URM Detected 206 ( 0.9%) items with no interactions.\n",
      "Similarity column 22348 (100.0%), 11592.03 column/sec. Elapsed time 1.93 sec\n",
      "EvaluatorHoldout: Processed 9934 (100.0%) in 3.70 sec. Users per second: 2683\n",
      "ItemKNNCFRecommender: URM Detected 550 ( 4.2%) users with no interactions.\n",
      "ItemKNNCFRecommender: URM Detected 206 ( 0.9%) items with no interactions.\n",
      "Similarity column 22348 (100.0%), 11642.44 column/sec. Elapsed time 1.92 sec\n",
      "EvaluatorHoldout: Processed 9934 (100.0%) in 3.72 sec. Users per second: 2671\n",
      "ItemKNNCFRecommender: URM Detected 550 ( 4.2%) users with no interactions.\n",
      "ItemKNNCFRecommender: URM Detected 206 ( 0.9%) items with no interactions.\n",
      "Similarity column 22348 (100.0%), 11553.71 column/sec. Elapsed time 1.93 sec\n",
      "EvaluatorHoldout: Processed 9934 (100.0%) in 3.74 sec. Users per second: 2655\n",
      "ItemKNNCFRecommender: URM Detected 550 ( 4.2%) users with no interactions.\n",
      "ItemKNNCFRecommender: URM Detected 206 ( 0.9%) items with no interactions.\n",
      "Similarity column 22348 (100.0%), 11636.28 column/sec. Elapsed time 1.92 sec\n",
      "EvaluatorHoldout: Processed 9934 (100.0%) in 3.73 sec. Users per second: 2665\n",
      "ItemKNNCFRecommender: URM Detected 550 ( 4.2%) users with no interactions.\n",
      "ItemKNNCFRecommender: URM Detected 206 ( 0.9%) items with no interactions.\n",
      "Similarity column 22348 (100.0%), 11666.65 column/sec. Elapsed time 1.92 sec\n",
      "EvaluatorHoldout: Processed 9934 (100.0%) in 3.74 sec. Users per second: 2656\n",
      "ItemKNNCFRecommender: URM Detected 550 ( 4.2%) users with no interactions.\n",
      "ItemKNNCFRecommender: URM Detected 206 ( 0.9%) items with no interactions.\n",
      "Similarity column 22348 (100.0%), 11648.91 column/sec. Elapsed time 1.92 sec\n",
      "EvaluatorHoldout: Processed 9934 (100.0%) in 3.75 sec. Users per second: 2648\n",
      "ItemKNNCFRecommender: URM Detected 550 ( 4.2%) users with no interactions.\n",
      "ItemKNNCFRecommender: URM Detected 206 ( 0.9%) items with no interactions.\n",
      "Similarity column 22348 (100.0%), 11623.76 column/sec. Elapsed time 1.92 sec\n",
      "EvaluatorHoldout: Processed 9934 (100.0%) in 3.78 sec. Users per second: 2625\n",
      "ItemKNNCFRecommender: URM Detected 550 ( 4.2%) users with no interactions.\n",
      "ItemKNNCFRecommender: URM Detected 206 ( 0.9%) items with no interactions.\n",
      "Similarity column 22348 (100.0%), 11641.53 column/sec. Elapsed time 1.92 sec\n",
      "EvaluatorHoldout: Processed 9934 (100.0%) in 3.76 sec. Users per second: 2644\n",
      "ItemKNNCFRecommender: URM Detected 550 ( 4.2%) users with no interactions.\n",
      "ItemKNNCFRecommender: URM Detected 206 ( 0.9%) items with no interactions.\n",
      "Similarity column 22348 (100.0%), 11635.04 column/sec. Elapsed time 1.92 sec\n",
      "EvaluatorHoldout: Processed 9934 (100.0%) in 3.75 sec. Users per second: 2646\n",
      "ItemKNNCFRecommender: URM Detected 550 ( 4.2%) users with no interactions.\n",
      "ItemKNNCFRecommender: URM Detected 206 ( 0.9%) items with no interactions.\n",
      "Similarity column 22348 (100.0%), 11641.17 column/sec. Elapsed time 1.92 sec\n",
      "EvaluatorHoldout: Processed 9934 (100.0%) in 3.79 sec. Users per second: 2624\n"
     ]
    }
   ],
   "source": [
    "for x in x_tick:\n",
    "    \n",
    "    recommender = ItemKNNCFRecommender(URM_train)\n",
    "    recommender.fit(shrink=3, topK=x)\n",
    "    \n",
    "    result_df, _ = evaluator_test.evaluateRecommender(recommender)\n",
    "    \n",
    "    MAP_per_k.append(result_df.loc[10][\"MAP\"])"
   ]
  },
  {
   "cell_type": "code",
   "execution_count": 91,
   "metadata": {},
   "outputs": [
    {
     "data": {
      "image/png": "[encoded data removed]",
      "text/plain": [
       "<Figure size 640x480 with 1 Axes>"
      ]
     },
     "metadata": {},
     "output_type": "display_data"
    }
   ],
   "source": [
    "pyplot.plot(x_tick, MAP_per_k)\n",
    "pyplot.ylabel('MAP')\n",
    "pyplot.xlabel('TopK')\n",
    "pyplot.show()"
   ]
  },
  {
   "cell_type": "code",
   "execution_count": 92,
   "metadata": {},
   "outputs": [
    {
     "data": {
      "text/plain": [
       "5"
      ]
     },
     "execution_count": 92,
     "metadata": {},
     "output_type": "execute_result"
    }
   ],
   "source": [
    "# Best TopK found\n",
    "best_topk = x_tick[MAP_per_k.index(max(MAP_per_k))]\n",
    "best_topk"
   ]
  },
  {
   "cell_type": "code",
   "execution_count": 93,
   "metadata": {},
   "outputs": [
    {
     "data": {
      "text/plain": [
       "array([4.28, 4.44, 4.75, 4.88, 4.96, 5.13, 5.15, 5.34, 5.53, 5.54])"
      ]
     },
     "execution_count": 93,
     "metadata": {},
     "output_type": "execute_result"
    }
   ],
   "source": [
    "# Tuning the shrinkage\n",
    "MAP_per_k = []\n",
    "\n",
    "x_tick = uniform.rvs(loc=4,scale=2,size=10).astype(float)\n",
    "x_tick.sort()\n",
    "x_tick = x_tick.round(2)\n",
    "x_tick"
   ]
  },
  {
   "cell_type": "code",
   "execution_count": 94,
   "metadata": {},
   "outputs": [
    {
     "name": "stdout",
     "output_type": "stream",
     "text": [
      "ItemKNNCFRecommender: URM Detected 550 ( 4.2%) users with no interactions.\n",
      "ItemKNNCFRecommender: URM Detected 206 ( 0.9%) items with no interactions.\n",
      "Similarity column 22348 (100.0%), 11725.26 column/sec. Elapsed time 1.91 sec\n",
      "EvaluatorHoldout: Processed 9934 (100.0%) in 3.70 sec. Users per second: 2687\n",
      "ItemKNNCFRecommender: URM Detected 550 ( 4.2%) users with no interactions.\n",
      "ItemKNNCFRecommender: URM Detected 206 ( 0.9%) items with no interactions.\n",
      "Similarity column 22348 (100.0%), 11661.21 column/sec. Elapsed time 1.92 sec\n",
      "EvaluatorHoldout: Processed 9934 (100.0%) in 3.67 sec. Users per second: 2710\n",
      "ItemKNNCFRecommender: URM Detected 550 ( 4.2%) users with no interactions.\n",
      "ItemKNNCFRecommender: URM Detected 206 ( 0.9%) items with no interactions.\n",
      "Similarity column 22348 (100.0%), 11741.83 column/sec. Elapsed time 1.90 sec\n",
      "EvaluatorHoldout: Processed 9934 (100.0%) in 3.68 sec. Users per second: 2696\n",
      "ItemKNNCFRecommender: URM Detected 550 ( 4.2%) users with no interactions.\n",
      "ItemKNNCFRecommender: URM Detected 206 ( 0.9%) items with no interactions.\n",
      "Similarity column 22348 (100.0%), 11680.45 column/sec. Elapsed time 1.91 sec\n",
      "EvaluatorHoldout: Processed 9934 (100.0%) in 3.71 sec. Users per second: 2681\n",
      "ItemKNNCFRecommender: URM Detected 550 ( 4.2%) users with no interactions.\n",
      "ItemKNNCFRecommender: URM Detected 206 ( 0.9%) items with no interactions.\n",
      "Similarity column 22348 (100.0%), 11656.15 column/sec. Elapsed time 1.92 sec\n",
      "EvaluatorHoldout: Processed 9934 (100.0%) in 3.71 sec. Users per second: 2679\n",
      "ItemKNNCFRecommender: URM Detected 550 ( 4.2%) users with no interactions.\n",
      "ItemKNNCFRecommender: URM Detected 206 ( 0.9%) items with no interactions.\n",
      "Similarity column 22348 (100.0%), 11721.13 column/sec. Elapsed time 1.91 sec\n",
      "EvaluatorHoldout: Processed 9934 (100.0%) in 3.68 sec. Users per second: 2702\n",
      "ItemKNNCFRecommender: URM Detected 550 ( 4.2%) users with no interactions.\n",
      "ItemKNNCFRecommender: URM Detected 206 ( 0.9%) items with no interactions.\n",
      "Similarity column 22348 (100.0%), 11655.13 column/sec. Elapsed time 1.92 sec\n",
      "EvaluatorHoldout: Processed 9934 (100.0%) in 3.74 sec. Users per second: 2658\n",
      "ItemKNNCFRecommender: URM Detected 550 ( 4.2%) users with no interactions.\n",
      "ItemKNNCFRecommender: URM Detected 206 ( 0.9%) items with no interactions.\n",
      "Similarity column 22348 (100.0%), 11626.32 column/sec. Elapsed time 1.92 sec\n",
      "EvaluatorHoldout: Processed 9934 (100.0%) in 3.75 sec. Users per second: 2652\n",
      "ItemKNNCFRecommender: URM Detected 550 ( 4.2%) users with no interactions.\n",
      "ItemKNNCFRecommender: URM Detected 206 ( 0.9%) items with no interactions.\n",
      "Similarity column 22348 (100.0%), 11633.82 column/sec. Elapsed time 1.92 sec\n",
      "EvaluatorHoldout: Processed 9934 (100.0%) in 3.71 sec. Users per second: 2679\n",
      "ItemKNNCFRecommender: URM Detected 550 ( 4.2%) users with no interactions.\n",
      "ItemKNNCFRecommender: URM Detected 206 ( 0.9%) items with no interactions.\n",
      "Similarity column 22348 (100.0%), 11531.40 column/sec. Elapsed time 1.94 sec\n",
      "EvaluatorHoldout: Processed 9934 (100.0%) in 3.75 sec. Users per second: 2648\n"
     ]
    }
   ],
   "source": [
    "for x in x_tick:\n",
    "    \n",
    "    recommender = ItemKNNCFRecommender(URM_train)\n",
    "    recommender.fit(shrink=x, topK=best_topk)\n",
    "    \n",
    "    result_df, _ = evaluator_test.evaluateRecommender(recommender)\n",
    "    \n",
    "    MAP_per_k.append(result_df.loc[10][\"MAP\"])"
   ]
  },
  {
   "cell_type": "code",
   "execution_count": 95,
   "metadata": {},
   "outputs": [
    {
     "data": {
      "image/png": "[encoded data removed]",
      "text/plain": [
       "<Figure size 640x480 with 1 Axes>"
      ]
     },
     "metadata": {},
     "output_type": "display_data"
    }
   ],
   "source": [
    "pyplot.plot(x_tick, MAP_per_k)\n",
    "pyplot.ylabel('MAP')\n",
    "pyplot.xlabel('Shrink')\n",
    "pyplot.show()"
   ]
  },
  {
   "cell_type": "code",
   "execution_count": 96,
   "metadata": {},
   "outputs": [
    {
     "data": {
      "text/plain": [
       "5.13"
      ]
     },
     "execution_count": 96,
     "metadata": {},
     "output_type": "execute_result"
    }
   ],
   "source": [
    "# Best Shrink found\n",
    "best_shrink = x_tick[MAP_per_k.index(max(MAP_per_k))]\n",
    "best_shrink"
   ]
  },
  {
   "cell_type": "code",
   "execution_count": 97,
   "metadata": {},
   "outputs": [
    {
     "name": "stdout",
     "output_type": "stream",
     "text": [
      "ItemKNNCFRecommender: URM Detected 550 ( 4.2%) users with no interactions.\n",
      "ItemKNNCFRecommender: URM Detected 206 ( 0.9%) items with no interactions.\n",
      "Similarity column 22348 (100.0%), 11428.22 column/sec. Elapsed time 1.96 sec\n",
      "EvaluatorHoldout: Processed 9934 (100.0%) in 3.68 sec. Users per second: 2698\n",
      "ItemKNNCFRecommender: URM Detected 550 ( 4.2%) users with no interactions.\n",
      "ItemKNNCFRecommender: URM Detected 206 ( 0.9%) items with no interactions.\n",
      "Similarity column 22348 (100.0%), 11939.09 column/sec. Elapsed time 1.87 sec\n",
      "EvaluatorHoldout: Processed 9934 (100.0%) in 3.68 sec. Users per second: 2702\n",
      "ItemKNNCFRecommender: URM Detected 550 ( 4.2%) users with no interactions.\n",
      "ItemKNNCFRecommender: URM Detected 206 ( 0.9%) items with no interactions.\n",
      "Similarity column 22348 (100.0%), 11892.58 column/sec. Elapsed time 1.88 sec\n",
      "EvaluatorHoldout: Processed 9934 (100.0%) in 3.65 sec. Users per second: 2721\n",
      "ItemKNNCFRecommender: URM Detected 550 ( 4.2%) users with no interactions.\n",
      "ItemKNNCFRecommender: URM Detected 206 ( 0.9%) items with no interactions.\n",
      "Similarity column 22348 (100.0%), 13417.07 column/sec. Elapsed time 1.67 sec\n",
      "EvaluatorHoldout: Processed 9934 (100.0%) in 3.44 sec. Users per second: 2886\n"
     ]
    }
   ],
   "source": [
    "# Tuning the similarity type\n",
    "similarity_heuristic_list = [\"cosine\", \"dice\", \"jaccard\", \"pearson\"]\n",
    "MAP_per_sim = []\n",
    "\n",
    "for similarity_heuristic in similarity_heuristic_list:\n",
    "    \n",
    "    recommender = ItemKNNCFRecommender(URM_train)\n",
    "    recommender.fit(shrink=best_shrink, topK=best_topk, similarity = similarity_heuristic)\n",
    "    \n",
    "    result_df, _ = evaluator_test.evaluateRecommender(recommender)\n",
    "    MAP_per_sim.append(result_df.loc[10][\"MAP\"])"
   ]
  },
  {
   "cell_type": "code",
   "execution_count": 98,
   "metadata": {},
   "outputs": [
    {
     "data": {
      "text/plain": [
       "[0.03551477050118114,\n",
       " 0.035609295157563975,\n",
       " 0.03571774505386375,\n",
       " 1.0569760418763842e-05]"
      ]
     },
     "execution_count": 98,
     "metadata": {},
     "output_type": "execute_result"
    }
   ],
   "source": [
    "MAP_per_sim"
   ]
  },
  {
   "cell_type": "code",
   "execution_count": 99,
   "metadata": {},
   "outputs": [
    {
     "data": {
      "text/plain": [
       "'jaccard'"
      ]
     },
     "execution_count": 99,
     "metadata": {},
     "output_type": "execute_result"
    }
   ],
   "source": [
    "best_sim = similarity_heuristic_list[MAP_per_sim.index(max(MAP_per_sim))]\n",
    "best_sim"
   ]
  },
  {
   "cell_type": "code",
   "execution_count": 100,
   "metadata": {},
   "outputs": [
    {
     "name": "stdout",
     "output_type": "stream",
     "text": [
      "ItemKNNCFRecommender: URM Detected 550 ( 4.2%) users with no interactions.\n",
      "ItemKNNCFRecommender: URM Detected 206 ( 0.9%) items with no interactions.\n",
      "Similarity column 22348 (100.0%), 11871.44 column/sec. Elapsed time 1.88 sec\n",
      "EvaluatorHoldout: Processed 9934 (100.0%) in 3.66 sec. Users per second: 2714\n"
     ]
    },
    {
     "data": {
      "text/plain": [
       "PRECISION                      0.073133\n",
       "PRECISION_RECALL_MIN_DEN       0.143911\n",
       "RECALL                         0.128937\n",
       "MAP                            0.035718\n",
       "MAP_MIN_DEN                    0.069292\n",
       "MRR                            0.220086\n",
       "NDCG                           0.124966\n",
       "F1                             0.093329\n",
       "HIT_RATE                       0.446447\n",
       "ARHR_ALL_HITS                  0.277477\n",
       "NOVELTY                        0.005505\n",
       "AVERAGE_POPULARITY             0.151628\n",
       "DIVERSITY_MEAN_INTER_LIST      0.984004\n",
       "DIVERSITY_HERFINDAHL           0.998391\n",
       "COVERAGE_ITEM                  0.501387\n",
       "COVERAGE_ITEM_HIT              0.101799\n",
       "ITEMS_IN_GT                    0.721989\n",
       "COVERAGE_USER                  0.762687\n",
       "COVERAGE_USER_HIT              0.340499\n",
       "USERS_IN_GT                    0.762687\n",
       "DIVERSITY_GINI                 0.116605\n",
       "SHANNON_ENTROPY               11.087179\n",
       "RATIO_DIVERSITY_HERFINDAHL     0.998752\n",
       "RATIO_DIVERSITY_GINI           0.335548\n",
       "RATIO_SHANNON_ENTROPY          0.853921\n",
       "RATIO_AVERAGE_POPULARITY       1.277674\n",
       "RATIO_NOVELTY                  0.303304\n",
       "Name: 10, dtype: object"
      ]
     },
     "execution_count": 100,
     "metadata": {},
     "output_type": "execute_result"
    }
   ],
   "source": [
    "recommender = ItemKNNCFRecommender(URM_train)\n",
    "recommender.fit(shrink=best_shrink, topK=best_topk, similarity = best_sim)\n",
    "result, _ = evaluator_test.evaluateRecommender(recommender)\n",
    "result.loc[10]"
   ]
  },
  {
   "cell_type": "code",
   "execution_count": 101,
   "metadata": {},
   "outputs": [
    {
     "name": "stdout",
     "output_type": "stream",
     "text": [
      "ItemKNNCFRecommender: URM Detected 387 ( 3.0%) users with no interactions.\n",
      "ItemKNNCFRecommender: URM Detected 126 ( 0.6%) items with no interactions.\n",
      "Similarity column 22348 (100.0%), 10955.89 column/sec. Elapsed time 2.04 sec\n"
     ]
    }
   ],
   "source": [
    "recommender = ItemKNNCFRecommender(URM_all)\n",
    "recommender.fit(shrink=best_shrink, topK=best_topk, similarity = best_sim)"
   ]
  },
  {
   "cell_type": "markdown",
   "metadata": {},
   "source": [
    "## EASE Recommender"
   ]
  },
  {
   "cell_type": "code",
   "execution_count": 28,
   "metadata": {},
   "outputs": [
    {
     "name": "stdout",
     "output_type": "stream",
     "text": [
      "EASE_R_Recommender: URM Detected 560 ( 4.3%) users with no interactions.\n",
      "EASE_R_Recommender: URM Detected 205 ( 0.9%) items with no interactions.\n"
     ]
    }
   ],
   "source": [
    "from Recommenders.EASE_R.EASE_R_Recommender import EASE_R_Recommender\n",
    "\n",
    "recommender = EASE_R_Recommender(URM_train)"
   ]
  },
  {
   "cell_type": "code",
   "execution_count": null,
   "metadata": {},
   "outputs": [],
   "source": [
    "recommender.fit(topK = 20, l2_norm = 50)"
   ]
  },
  {
   "cell_type": "code",
   "execution_count": 15,
   "metadata": {},
   "outputs": [
    {
     "name": "stdout",
     "output_type": "stream",
     "text": [
      "EvaluatorHoldout: Processed 9876 (100.0%) in 5.15 sec. Users per second: 1919\n"
     ]
    },
    {
     "data": {
      "text/plain": [
       "PRECISION                      0.077167\n",
       "PRECISION_RECALL_MIN_DEN       0.153937\n",
       "RECALL                          0.13885\n",
       "MAP                             0.03842\n",
       "MAP_MIN_DEN                    0.076681\n",
       "MRR                            0.238254\n",
       "NDCG                           0.135325\n",
       "F1                             0.099202\n",
       "HIT_RATE                       0.468206\n",
       "ARHR_ALL_HITS                  0.300087\n",
       "NOVELTY                        0.005089\n",
       "AVERAGE_POPULARITY             0.181378\n",
       "DIVERSITY_MEAN_INTER_LIST      0.981334\n",
       "DIVERSITY_HERFINDAHL           0.998123\n",
       "COVERAGE_ITEM                  0.271299\n",
       "COVERAGE_ITEM_HIT               0.07164\n",
       "ITEMS_IN_GT                    0.727224\n",
       "COVERAGE_USER                  0.758234\n",
       "COVERAGE_USER_HIT               0.35501\n",
       "USERS_IN_GT                    0.758234\n",
       "DIVERSITY_GINI                 0.050155\n",
       "SHANNON_ENTROPY               10.230232\n",
       "RATIO_DIVERSITY_HERFINDAHL     0.998485\n",
       "RATIO_DIVERSITY_GINI           0.144338\n",
       "RATIO_SHANNON_ENTROPY          0.787944\n",
       "RATIO_AVERAGE_POPULARITY       1.494006\n",
       "RATIO_NOVELTY                  0.280373\n",
       "Name: 10, dtype: object"
      ]
     },
     "execution_count": 15,
     "metadata": {},
     "output_type": "execute_result"
    }
   ],
   "source": [
    "result, _ = evaluator_test.evaluateRecommender(recommender)\n",
    "result.loc[10]"
   ]
  },
  {
   "cell_type": "code",
   "execution_count": 46,
   "metadata": {},
   "outputs": [
    {
     "data": {
      "text/plain": [
       "[88, 89, 90, 91, 92]"
      ]
     },
     "execution_count": 46,
     "metadata": {},
     "output_type": "execute_result"
    }
   ],
   "source": [
    "# Tuning the topK\n",
    "MAP_per_k = []\n",
    "\n",
    "x_tick = [88, 89, 90, 91, 92]\n",
    "# x_tick = uniform.rvs(loc=80,scale=20,size=10).astype(int)\n",
    "x_tick.sort()\n",
    "x_tick"
   ]
  },
  {
   "cell_type": "code",
   "execution_count": 47,
   "metadata": {},
   "outputs": [
    {
     "name": "stdout",
     "output_type": "stream",
     "text": [
      "EASE_R_Recommender: URM Detected 560 ( 4.3%) users with no interactions.\n",
      "EASE_R_Recommender: URM Detected 205 ( 0.9%) items with no interactions.\n",
      "EASE_R_Recommender: Fitting model... \n",
      "EASE_R_Recommender: Fitting model... done in 1.46 min\n",
      "EvaluatorHoldout: Processed 9892 (100.0%) in 5.47 sec. Users per second: 1808\n",
      "EASE_R_Recommender: URM Detected 560 ( 4.3%) users with no interactions.\n",
      "EASE_R_Recommender: URM Detected 205 ( 0.9%) items with no interactions.\n",
      "EASE_R_Recommender: Fitting model... \n",
      "EASE_R_Recommender: Fitting model... done in 1.47 min\n",
      "EvaluatorHoldout: Processed 9892 (100.0%) in 5.67 sec. Users per second: 1745\n",
      "EASE_R_Recommender: URM Detected 560 ( 4.3%) users with no interactions.\n",
      "EASE_R_Recommender: URM Detected 205 ( 0.9%) items with no interactions.\n",
      "EASE_R_Recommender: Fitting model... \n",
      "EASE_R_Recommender: Fitting model... done in 1.49 min\n",
      "EvaluatorHoldout: Processed 9892 (100.0%) in 5.59 sec. Users per second: 1770\n",
      "EASE_R_Recommender: URM Detected 560 ( 4.3%) users with no interactions.\n",
      "EASE_R_Recommender: URM Detected 205 ( 0.9%) items with no interactions.\n",
      "EASE_R_Recommender: Fitting model... \n",
      "EASE_R_Recommender: Fitting model... done in 1.49 min\n",
      "EvaluatorHoldout: Processed 9892 (100.0%) in 5.54 sec. Users per second: 1786\n",
      "EASE_R_Recommender: URM Detected 560 ( 4.3%) users with no interactions.\n",
      "EASE_R_Recommender: URM Detected 205 ( 0.9%) items with no interactions.\n",
      "EASE_R_Recommender: Fitting model... \n",
      "EASE_R_Recommender: Fitting model... done in 1.47 min\n",
      "EvaluatorHoldout: Processed 9892 (100.0%) in 5.54 sec. Users per second: 1784\n"
     ]
    }
   ],
   "source": [
    "for x in x_tick:\n",
    "    \n",
    "    recommender = EASE_R_Recommender(URM_train)\n",
    "    recommender.fit(topK=x, l2_norm=50)\n",
    "    \n",
    "    # evaluator_test if no validation\n",
    "    result_df, _ = evaluator_test.evaluateRecommender(recommender)\n",
    "    \n",
    "    MAP_per_k.append(result_df.loc[10][\"MAP\"])"
   ]
  },
  {
   "cell_type": "code",
   "execution_count": 48,
   "metadata": {},
   "outputs": [
    {
     "data": {
      "image/png": "[encoded data removed]",
      "text/plain": [
       "<Figure size 640x480 with 1 Axes>"
      ]
     },
     "metadata": {},
     "output_type": "display_data"
    }
   ],
   "source": [
    "pyplot.plot(x_tick, MAP_per_k)\n",
    "pyplot.ylabel('MAP')\n",
    "pyplot.xlabel('topK')\n",
    "pyplot.show()"
   ]
  },
  {
   "cell_type": "code",
   "execution_count": 49,
   "metadata": {},
   "outputs": [
    {
     "data": {
      "text/plain": [
       "89"
      ]
     },
     "execution_count": 49,
     "metadata": {},
     "output_type": "execute_result"
    }
   ],
   "source": [
    "# Best TopK found\n",
    "best_topk = x_tick[MAP_per_k.index(max(MAP_per_k))]\n",
    "best_topk"
   ]
  },
  {
   "cell_type": "code",
   "execution_count": 61,
   "metadata": {},
   "outputs": [
    {
     "data": {
      "text/plain": [
       "[29, 30, 31, 32, 33, 34, 35]"
      ]
     },
     "execution_count": 61,
     "metadata": {},
     "output_type": "execute_result"
    }
   ],
   "source": [
    "# Tuning the l2_norm\n",
    "MAP_per_k = []\n",
    "\n",
    "x_tick = [29, 30, 31, 32, 33, 34, 35]\n",
    "# x_tick = uniform.rvs(20,30,size=10).astype(int)\n",
    "x_tick.sort()\n",
    "x_tick"
   ]
  },
  {
   "cell_type": "code",
   "execution_count": 62,
   "metadata": {
    "scrolled": true
   },
   "outputs": [
    {
     "name": "stdout",
     "output_type": "stream",
     "text": [
      "EASE_R_Recommender: URM Detected 560 ( 4.3%) users with no interactions.\n",
      "EASE_R_Recommender: URM Detected 205 ( 0.9%) items with no interactions.\n",
      "EASE_R_Recommender: Fitting model... \n",
      "EASE_R_Recommender: Fitting model... done in 1.42 min\n",
      "EvaluatorHoldout: Processed 9892 (100.0%) in 5.46 sec. Users per second: 1812\n",
      "EASE_R_Recommender: URM Detected 560 ( 4.3%) users with no interactions.\n",
      "EASE_R_Recommender: URM Detected 205 ( 0.9%) items with no interactions.\n",
      "EASE_R_Recommender: Fitting model... \n",
      "EASE_R_Recommender: Fitting model... done in 1.43 min\n",
      "EvaluatorHoldout: Processed 9892 (100.0%) in 5.57 sec. Users per second: 1776\n",
      "EASE_R_Recommender: URM Detected 560 ( 4.3%) users with no interactions.\n",
      "EASE_R_Recommender: URM Detected 205 ( 0.9%) items with no interactions.\n",
      "EASE_R_Recommender: Fitting model... \n",
      "EASE_R_Recommender: Fitting model... done in 1.41 min\n",
      "EvaluatorHoldout: Processed 9892 (100.0%) in 5.46 sec. Users per second: 1812\n",
      "EASE_R_Recommender: URM Detected 560 ( 4.3%) users with no interactions.\n",
      "EASE_R_Recommender: URM Detected 205 ( 0.9%) items with no interactions.\n",
      "EASE_R_Recommender: Fitting model... \n",
      "EASE_R_Recommender: Fitting model... done in 1.40 min\n",
      "EvaluatorHoldout: Processed 9892 (100.0%) in 5.46 sec. Users per second: 1813\n",
      "EASE_R_Recommender: URM Detected 560 ( 4.3%) users with no interactions.\n",
      "EASE_R_Recommender: URM Detected 205 ( 0.9%) items with no interactions.\n",
      "EASE_R_Recommender: Fitting model... \n",
      "EASE_R_Recommender: Fitting model... done in 1.42 min\n",
      "EvaluatorHoldout: Processed 9892 (100.0%) in 5.44 sec. Users per second: 1819\n",
      "EASE_R_Recommender: URM Detected 560 ( 4.3%) users with no interactions.\n",
      "EASE_R_Recommender: URM Detected 205 ( 0.9%) items with no interactions.\n",
      "EASE_R_Recommender: Fitting model... \n",
      "EASE_R_Recommender: Fitting model... done in 1.41 min\n",
      "EvaluatorHoldout: Processed 9892 (100.0%) in 5.48 sec. Users per second: 1804\n",
      "EASE_R_Recommender: URM Detected 560 ( 4.3%) users with no interactions.\n",
      "EASE_R_Recommender: URM Detected 205 ( 0.9%) items with no interactions.\n",
      "EASE_R_Recommender: Fitting model... \n",
      "EASE_R_Recommender: Fitting model... done in 1.41 min\n",
      "EvaluatorHoldout: Processed 9892 (100.0%) in 5.42 sec. Users per second: 1825\n"
     ]
    }
   ],
   "source": [
    "for x in x_tick:\n",
    "    \n",
    "    recommender = EASE_R_Recommender(URM_train)\n",
    "    recommender.fit(topK=best_topk, l2_norm=x)\n",
    "    \n",
    "    # evaluator_test if no validation\n",
    "    result_df, _ = evaluator_test.evaluateRecommender(recommender)\n",
    "    \n",
    "    MAP_per_k.append(result_df.loc[10][\"MAP\"])"
   ]
  },
  {
   "cell_type": "code",
   "execution_count": 63,
   "metadata": {},
   "outputs": [
    {
     "data": {
      "image/png": "[encoded data removed]",
      "text/plain": [
       "<Figure size 640x480 with 1 Axes>"
      ]
     },
     "metadata": {},
     "output_type": "display_data"
    }
   ],
   "source": [
    "pyplot.plot(x_tick, MAP_per_k)\n",
    "pyplot.ylabel('MAP')\n",
    "pyplot.xlabel('L2_norm')\n",
    "pyplot.show()"
   ]
  },
  {
   "cell_type": "code",
   "execution_count": 64,
   "metadata": {},
   "outputs": [
    {
     "data": {
      "text/plain": [
       "32"
      ]
     },
     "execution_count": 64,
     "metadata": {},
     "output_type": "execute_result"
    }
   ],
   "source": [
    "# Best L2_norm found\n",
    "best_l2 = x_tick[MAP_per_k.index(max(MAP_per_k))]\n",
    "best_l2"
   ]
  },
  {
   "cell_type": "code",
   "execution_count": null,
   "metadata": {},
   "outputs": [],
   "source": [
    "recommender = EASE_R_Recommender(URM_train)\n",
    "recommender.fit(topK=89, l2_norm=32)\n",
    "result, _ = evaluator_test.evaluateRecommender(recommender)\n",
    "result.loc[10]"
   ]
  },
  {
   "cell_type": "code",
   "execution_count": null,
   "metadata": {},
   "outputs": [],
   "source": [
    "recommender = EASE_R_Recommender(URM_all)\n",
    "recommender.fit(topK=89, l2_norm=32)"
   ]
  },
  {
   "cell_type": "markdown",
   "metadata": {},
   "source": []
  },
  {
   "cell_type": "markdown",
   "metadata": {},
   "source": [
    "## IALS Recommender"
   ]
  },
  {
   "cell_type": "code",
   "execution_count": 133,
   "metadata": {},
   "outputs": [
    {
     "name": "stdout",
     "output_type": "stream",
     "text": [
      "IALSRecommender: URM Detected 550 ( 4.2%) users with no interactions.\n",
      "IALSRecommender: URM Detected 206 ( 0.9%) items with no interactions.\n"
     ]
    }
   ],
   "source": [
    "from Recommenders.MatrixFactorization.IALSRecommender import IALSRecommender\n",
    "\n",
    "recommender = IALSRecommender(URM_train)"
   ]
  },
  {
   "cell_type": "code",
   "execution_count": 134,
   "metadata": {},
   "outputs": [
    {
     "name": "stdout",
     "output_type": "stream",
     "text": [
      "IALSRecommender: Epoch 1 of 100. Elapsed time 2.56 sec\n",
      "IALSRecommender: Epoch 2 of 100. Elapsed time 5.19 sec\n",
      "IALSRecommender: Epoch 3 of 100. Elapsed time 7.89 sec\n",
      "IALSRecommender: Epoch 4 of 100. Elapsed time 10.39 sec\n",
      "IALSRecommender: Validation begins...\n",
      "EvaluatorHoldout: Processed 9934 (100.0%) in 5.70 sec. Users per second: 1744\n",
      "IALSRecommender: CUTOFF: 10 - PRECISION: 0.0530300, PRECISION_RECALL_MIN_DEN: 0.1139697, RECALL: 0.1048471, MAP: 0.0237515, MAP_MIN_DEN: 0.0504100, MRR: 0.1666739, NDCG: 0.0937972, F1: 0.0704351, HIT_RATE: 0.3721562, ARHR_ALL_HITS: 0.1982920, NOVELTY: 0.0045181, AVERAGE_POPULARITY: 0.3168845, DIVERSITY_MEAN_INTER_LIST: 0.9463214, DIVERSITY_HERFINDAHL: 0.9946226, COVERAGE_ITEM: 0.0404510, COVERAGE_ITEM_HIT: 0.0238053, ITEMS_IN_GT: 0.7219885, COVERAGE_USER: 0.7626871, COVERAGE_USER_HIT: 0.2838388, USERS_IN_GT: 0.7626871, DIVERSITY_GINI: 0.0098541, SHANNON_ENTROPY: 8.1856754, RATIO_DIVERSITY_HERFINDAHL: 0.9949825, RATIO_DIVERSITY_GINI: 0.0283567, RATIO_SHANNON_ENTROPY: 0.6304509, RATIO_AVERAGE_POPULARITY: 2.6701949, RATIO_NOVELTY: 0.2489228, \n",
      "\n",
      "IALSRecommender: New best model found! Updating.\n",
      "IALSRecommender: Epoch 5 of 100. Elapsed time 18.70 sec\n",
      "IALSRecommender: Epoch 6 of 100. Elapsed time 21.33 sec\n",
      "IALSRecommender: Epoch 7 of 100. Elapsed time 23.85 sec\n",
      "IALSRecommender: Epoch 8 of 100. Elapsed time 26.51 sec\n",
      "IALSRecommender: Epoch 9 of 100. Elapsed time 29.06 sec\n",
      "IALSRecommender: Validation begins...\n",
      "EvaluatorHoldout: Processed 9934 (100.0%) in 5.60 sec. Users per second: 1774\n",
      "IALSRecommender: CUTOFF: 10 - PRECISION: 0.0546608, PRECISION_RECALL_MIN_DEN: 0.1172423, RECALL: 0.1076078, MAP: 0.0247893, MAP_MIN_DEN: 0.0525476, MRR: 0.1729542, NDCG: 0.0971378, F1: 0.0724962, HIT_RATE: 0.3805114, ARHR_ALL_HITS: 0.2062175, NOVELTY: 0.0045398, AVERAGE_POPULARITY: 0.3063735, DIVERSITY_MEAN_INTER_LIST: 0.9502060, DIVERSITY_HERFINDAHL: 0.9950110, COVERAGE_ITEM: 0.0431806, COVERAGE_ITEM_HIT: 0.0249239, ITEMS_IN_GT: 0.7219885, COVERAGE_USER: 0.7626871, COVERAGE_USER_HIT: 0.2902111, USERS_IN_GT: 0.7626871, DIVERSITY_GINI: 0.0103790, SHANNON_ENTROPY: 8.2673296, RATIO_DIVERSITY_HERFINDAHL: 0.9953711, RATIO_DIVERSITY_GINI: 0.0298670, RATIO_SHANNON_ENTROPY: 0.6367398, RATIO_AVERAGE_POPULARITY: 2.5816253, RATIO_NOVELTY: 0.2501142, \n",
      "\n",
      "IALSRecommender: New best model found! Updating.\n",
      "IALSRecommender: Epoch 10 of 100. Elapsed time 37.24 sec\n",
      "IALSRecommender: Epoch 11 of 100. Elapsed time 39.99 sec\n",
      "IALSRecommender: Epoch 12 of 100. Elapsed time 42.61 sec\n",
      "IALSRecommender: Epoch 13 of 100. Elapsed time 45.28 sec\n",
      "IALSRecommender: Epoch 14 of 100. Elapsed time 47.87 sec\n",
      "IALSRecommender: Validation begins...\n",
      "EvaluatorHoldout: Processed 9934 (100.0%) in 5.60 sec. Users per second: 1774\n",
      "IALSRecommender: CUTOFF: 10 - PRECISION: 0.0552144, PRECISION_RECALL_MIN_DEN: 0.1187747, RECALL: 0.1090159, MAP: 0.0252339, MAP_MIN_DEN: 0.0534140, MRR: 0.1761527, NDCG: 0.0985312, F1: 0.0733025, HIT_RATE: 0.3827260, ARHR_ALL_HITS: 0.2099443, NOVELTY: 0.0045430, AVERAGE_POPULARITY: 0.3047638, DIVERSITY_MEAN_INTER_LIST: 0.9507828, DIVERSITY_HERFINDAHL: 0.9950687, COVERAGE_ITEM: 0.0429569, COVERAGE_ITEM_HIT: 0.0246107, ITEMS_IN_GT: 0.7219885, COVERAGE_USER: 0.7626871, COVERAGE_USER_HIT: 0.2919002, USERS_IN_GT: 0.7626871, DIVERSITY_GINI: 0.0104773, SHANNON_ENTROPY: 8.2813700, RATIO_DIVERSITY_HERFINDAHL: 0.9954288, RATIO_DIVERSITY_GINI: 0.0301500, RATIO_SHANNON_ENTROPY: 0.6378212, RATIO_AVERAGE_POPULARITY: 2.5680613, RATIO_NOVELTY: 0.2502893, \n",
      "\n",
      "IALSRecommender: New best model found! Updating.\n",
      "IALSRecommender: Epoch 15 of 100. Elapsed time 56.13 sec\n",
      "IALSRecommender: Epoch 16 of 100. Elapsed time 58.88 sec\n",
      "IALSRecommender: Epoch 17 of 100. Elapsed time 1.03 min\n",
      "IALSRecommender: Epoch 18 of 100. Elapsed time 1.07 min\n",
      "IALSRecommender: Epoch 19 of 100. Elapsed time 1.11 min\n",
      "IALSRecommender: Validation begins...\n",
      "EvaluatorHoldout: Processed 9934 (100.0%) in 5.69 sec. Users per second: 1745\n",
      "IALSRecommender: CUTOFF: 10 - PRECISION: 0.0555265, PRECISION_RECALL_MIN_DEN: 0.1194209, RECALL: 0.1095851, MAP: 0.0253172, MAP_MIN_DEN: 0.0537674, MRR: 0.1772624, NDCG: 0.0991460, F1: 0.0737062, HIT_RATE: 0.3857459, ARHR_ALL_HITS: 0.2110885, NOVELTY: 0.0045450, AVERAGE_POPULARITY: 0.3039290, DIVERSITY_MEAN_INTER_LIST: 0.9511432, DIVERSITY_HERFINDAHL: 0.9951047, COVERAGE_ITEM: 0.0430911, COVERAGE_ITEM_HIT: 0.0247449, ITEMS_IN_GT: 0.7219885, COVERAGE_USER: 0.7626871, COVERAGE_USER_HIT: 0.2942035, USERS_IN_GT: 0.7626871, DIVERSITY_GINI: 0.0105353, SHANNON_ENTROPY: 8.2898620, RATIO_DIVERSITY_HERFINDAHL: 0.9954648, RATIO_DIVERSITY_GINI: 0.0303168, RATIO_SHANNON_ENTROPY: 0.6384752, RATIO_AVERAGE_POPULARITY: 2.5610271, RATIO_NOVELTY: 0.2504008, \n",
      "\n",
      "IALSRecommender: New best model found! Updating.\n",
      "IALSRecommender: Epoch 20 of 100. Elapsed time 1.25 min\n",
      "IALSRecommender: Epoch 21 of 100. Elapsed time 1.29 min\n",
      "IALSRecommender: Epoch 22 of 100. Elapsed time 1.34 min\n",
      "IALSRecommender: Epoch 23 of 100. Elapsed time 1.38 min\n",
      "IALSRecommender: Epoch 24 of 100. Elapsed time 1.42 min\n",
      "IALSRecommender: Validation begins...\n",
      "EvaluatorHoldout: Processed 9934 (100.0%) in 5.64 sec. Users per second: 1762\n",
      "IALSRecommender: CUTOFF: 10 - PRECISION: 0.0555265, PRECISION_RECALL_MIN_DEN: 0.1189020, RECALL: 0.1090150, MAP: 0.0254188, MAP_MIN_DEN: 0.0539501, MRR: 0.1776039, NDCG: 0.0991972, F1: 0.0735768, HIT_RATE: 0.3842360, ARHR_ALL_HITS: 0.2117088, NOVELTY: 0.0045456, AVERAGE_POPULARITY: 0.3036810, DIVERSITY_MEAN_INTER_LIST: 0.9512638, DIVERSITY_HERFINDAHL: 0.9951168, COVERAGE_ITEM: 0.0425541, COVERAGE_ITEM_HIT: 0.0247002, ITEMS_IN_GT: 0.7219885, COVERAGE_USER: 0.7626871, COVERAGE_USER_HIT: 0.2930518, USERS_IN_GT: 0.7626871, DIVERSITY_GINI: 0.0105578, SHANNON_ENTROPY: 8.2928806, RATIO_DIVERSITY_HERFINDAHL: 0.9954769, RATIO_DIVERSITY_GINI: 0.0303814, RATIO_SHANNON_ENTROPY: 0.6387077, RATIO_AVERAGE_POPULARITY: 2.5589376, RATIO_NOVELTY: 0.2504357, \n",
      "\n",
      "IALSRecommender: New best model found! Updating.\n",
      "IALSRecommender: Epoch 25 of 100. Elapsed time 1.56 min\n",
      "IALSRecommender: Epoch 26 of 100. Elapsed time 1.60 min\n",
      "IALSRecommender: Epoch 27 of 100. Elapsed time 1.65 min\n",
      "IALSRecommender: Epoch 28 of 100. Elapsed time 1.69 min\n",
      "IALSRecommender: Epoch 29 of 100. Elapsed time 1.73 min\n",
      "IALSRecommender: Validation begins...\n",
      "EvaluatorHoldout: Processed 9934 (100.0%) in 5.62 sec. Users per second: 1767\n",
      "IALSRecommender: CUTOFF: 10 - PRECISION: 0.0552547, PRECISION_RECALL_MIN_DEN: 0.1180722, RECALL: 0.1082110, MAP: 0.0255033, MAP_MIN_DEN: 0.0540579, MRR: 0.1781105, NDCG: 0.0990892, F1: 0.0731550, HIT_RATE: 0.3821220, ARHR_ALL_HITS: 0.2123704, NOVELTY: 0.0045467, AVERAGE_POPULARITY: 0.3031795, DIVERSITY_MEAN_INTER_LIST: 0.9514400, DIVERSITY_HERFINDAHL: 0.9951344, COVERAGE_ITEM: 0.0430016, COVERAGE_ITEM_HIT: 0.0249687, ITEMS_IN_GT: 0.7219885, COVERAGE_USER: 0.7626871, COVERAGE_USER_HIT: 0.2914395, USERS_IN_GT: 0.7626871, DIVERSITY_GINI: 0.0105897, SHANNON_ENTROPY: 8.2974592, RATIO_DIVERSITY_HERFINDAHL: 0.9954945, RATIO_DIVERSITY_GINI: 0.0304733, RATIO_SHANNON_ENTROPY: 0.6390604, RATIO_AVERAGE_POPULARITY: 2.5547118, RATIO_NOVELTY: 0.2504941, \n",
      "\n",
      "IALSRecommender: New best model found! Updating.\n",
      "IALSRecommender: Epoch 30 of 100. Elapsed time 1.87 min\n",
      "IALSRecommender: Epoch 31 of 100. Elapsed time 1.92 min\n",
      "IALSRecommender: Epoch 32 of 100. Elapsed time 1.96 min\n",
      "IALSRecommender: Epoch 33 of 100. Elapsed time 2.00 min\n",
      "IALSRecommender: Epoch 34 of 100. Elapsed time 2.05 min\n",
      "IALSRecommender: Validation begins...\n",
      "EvaluatorHoldout: Processed 9934 (100.0%) in 5.66 sec. Users per second: 1754\n",
      "IALSRecommender: CUTOFF: 10 - PRECISION: 0.0553453, PRECISION_RECALL_MIN_DEN: 0.1182256, RECALL: 0.1082644, MAP: 0.0255573, MAP_MIN_DEN: 0.0542353, MRR: 0.1783764, NDCG: 0.0993044, F1: 0.0732466, HIT_RATE: 0.3827260, ARHR_ALL_HITS: 0.2127182, NOVELTY: 0.0045466, AVERAGE_POPULARITY: 0.3032404, DIVERSITY_MEAN_INTER_LIST: 0.9514398, DIVERSITY_HERFINDAHL: 0.9951344, COVERAGE_ITEM: 0.0433148, COVERAGE_ITEM_HIT: 0.0252819, ITEMS_IN_GT: 0.7219885, COVERAGE_USER: 0.7626871, COVERAGE_USER_HIT: 0.2919002, USERS_IN_GT: 0.7626871, DIVERSITY_GINI: 0.0105972, SHANNON_ENTROPY: 8.2983443, RATIO_DIVERSITY_HERFINDAHL: 0.9954945, RATIO_DIVERSITY_GINI: 0.0304948, RATIO_SHANNON_ENTROPY: 0.6391285, RATIO_AVERAGE_POPULARITY: 2.5552250, RATIO_NOVELTY: 0.2504899, \n",
      "\n",
      "IALSRecommender: New best model found! Updating.\n",
      "IALSRecommender: Epoch 35 of 100. Elapsed time 2.18 min\n"
     ]
    },
    {
     "name": "stdout",
     "output_type": "stream",
     "text": [
      "IALSRecommender: Epoch 36 of 100. Elapsed time 2.23 min\n",
      "IALSRecommender: Epoch 37 of 100. Elapsed time 2.27 min\n",
      "IALSRecommender: Epoch 38 of 100. Elapsed time 2.32 min\n",
      "IALSRecommender: Epoch 39 of 100. Elapsed time 2.36 min\n",
      "IALSRecommender: Validation begins...\n",
      "EvaluatorHoldout: Processed 9934 (100.0%) in 5.60 sec. Users per second: 1773\n",
      "IALSRecommender: CUTOFF: 10 - PRECISION: 0.0554862, PRECISION_RECALL_MIN_DEN: 0.1179763, RECALL: 0.1079899, MAP: 0.0256740, MAP_MIN_DEN: 0.0543525, MRR: 0.1792818, NDCG: 0.0994840, F1: 0.0733067, HIT_RATE: 0.3827260, ARHR_ALL_HITS: 0.2137150, NOVELTY: 0.0045468, AVERAGE_POPULARITY: 0.3031299, DIVERSITY_MEAN_INTER_LIST: 0.9514930, DIVERSITY_HERFINDAHL: 0.9951397, COVERAGE_ITEM: 0.0432253, COVERAGE_ITEM_HIT: 0.0253267, ITEMS_IN_GT: 0.7219885, COVERAGE_USER: 0.7626871, COVERAGE_USER_HIT: 0.2919002, USERS_IN_GT: 0.7626871, DIVERSITY_GINI: 0.0105971, SHANNON_ENTROPY: 8.2986210, RATIO_DIVERSITY_HERFINDAHL: 0.9954998, RATIO_DIVERSITY_GINI: 0.0304946, RATIO_SHANNON_ENTROPY: 0.6391498, RATIO_AVERAGE_POPULARITY: 2.5542938, RATIO_NOVELTY: 0.2504987, \n",
      "\n",
      "IALSRecommender: New best model found! Updating.\n",
      "IALSRecommender: Epoch 40 of 100. Elapsed time 2.50 min\n",
      "IALSRecommender: Epoch 41 of 100. Elapsed time 2.54 min\n",
      "IALSRecommender: Epoch 42 of 100. Elapsed time 2.58 min\n",
      "IALSRecommender: Epoch 43 of 100. Elapsed time 2.62 min\n",
      "IALSRecommender: Epoch 44 of 100. Elapsed time 2.67 min\n",
      "IALSRecommender: Validation begins...\n",
      "EvaluatorHoldout: Processed 9934 (100.0%) in 5.59 sec. Users per second: 1776\n",
      "IALSRecommender: CUTOFF: 10 - PRECISION: 0.0554862, PRECISION_RECALL_MIN_DEN: 0.1179066, RECALL: 0.1079425, MAP: 0.0256298, MAP_MIN_DEN: 0.0541343, MRR: 0.1787638, NDCG: 0.0992745, F1: 0.0732958, HIT_RATE: 0.3826253, ARHR_ALL_HITS: 0.2132074, NOVELTY: 0.0045466, AVERAGE_POPULARITY: 0.3030878, DIVERSITY_MEAN_INTER_LIST: 0.9514792, DIVERSITY_HERFINDAHL: 0.9951383, COVERAGE_ITEM: 0.0433148, COVERAGE_ITEM_HIT: 0.0253267, ITEMS_IN_GT: 0.7219885, COVERAGE_USER: 0.7626871, COVERAGE_USER_HIT: 0.2918234, USERS_IN_GT: 0.7626871, DIVERSITY_GINI: 0.0105944, SHANNON_ENTROPY: 8.2982388, RATIO_DIVERSITY_HERFINDAHL: 0.9954984, RATIO_DIVERSITY_GINI: 0.0304869, RATIO_SHANNON_ENTROPY: 0.6391204, RATIO_AVERAGE_POPULARITY: 2.5539391, RATIO_NOVELTY: 0.2504923, \n",
      "\n",
      "IALSRecommender: Epoch 45 of 100. Elapsed time 2.81 min\n",
      "IALSRecommender: Epoch 46 of 100. Elapsed time 2.85 min\n",
      "IALSRecommender: Epoch 47 of 100. Elapsed time 2.89 min\n",
      "IALSRecommender: Epoch 48 of 100. Elapsed time 2.94 min\n",
      "IALSRecommender: Epoch 49 of 100. Elapsed time 2.98 min\n",
      "IALSRecommender: Validation begins...\n",
      "EvaluatorHoldout: Processed 9934 (100.0%) in 5.61 sec. Users per second: 1772\n",
      "IALSRecommender: CUTOFF: 10 - PRECISION: 0.0555567, PRECISION_RECALL_MIN_DEN: 0.1179839, RECALL: 0.1080222, MAP: 0.0256504, MAP_MIN_DEN: 0.0540813, MRR: 0.1784317, NDCG: 0.0992351, F1: 0.0733757, HIT_RATE: 0.3827260, ARHR_ALL_HITS: 0.2130402, NOVELTY: 0.0045467, AVERAGE_POPULARITY: 0.3031282, DIVERSITY_MEAN_INTER_LIST: 0.9514745, DIVERSITY_HERFINDAHL: 0.9951379, COVERAGE_ITEM: 0.0433148, COVERAGE_ITEM_HIT: 0.0252819, ITEMS_IN_GT: 0.7219885, COVERAGE_USER: 0.7626871, COVERAGE_USER_HIT: 0.2919002, USERS_IN_GT: 0.7626871, DIVERSITY_GINI: 0.0105944, SHANNON_ENTROPY: 8.2982178, RATIO_DIVERSITY_HERFINDAHL: 0.9954980, RATIO_DIVERSITY_GINI: 0.0304868, RATIO_SHANNON_ENTROPY: 0.6391188, RATIO_AVERAGE_POPULARITY: 2.5542794, RATIO_NOVELTY: 0.2504942, \n",
      "\n",
      "IALSRecommender: Epoch 50 of 100. Elapsed time 3.12 min\n",
      "IALSRecommender: Epoch 51 of 100. Elapsed time 3.16 min\n",
      "IALSRecommender: Epoch 52 of 100. Elapsed time 3.21 min\n",
      "IALSRecommender: Epoch 53 of 100. Elapsed time 3.25 min\n",
      "IALSRecommender: Epoch 54 of 100. Elapsed time 3.29 min\n",
      "IALSRecommender: Validation begins...\n",
      "EvaluatorHoldout: Processed 9934 (100.0%) in 5.62 sec. Users per second: 1768\n",
      "IALSRecommender: CUTOFF: 10 - PRECISION: 0.0556372, PRECISION_RECALL_MIN_DEN: 0.1178031, RECALL: 0.1078161, MAP: 0.0256854, MAP_MIN_DEN: 0.0540744, MRR: 0.1783809, NDCG: 0.0992067, F1: 0.0733982, HIT_RATE: 0.3826253, ARHR_ALL_HITS: 0.2131134, NOVELTY: 0.0045468, AVERAGE_POPULARITY: 0.3030688, DIVERSITY_MEAN_INTER_LIST: 0.9515160, DIVERSITY_HERFINDAHL: 0.9951420, COVERAGE_ITEM: 0.0431806, COVERAGE_ITEM_HIT: 0.0251029, ITEMS_IN_GT: 0.7219885, COVERAGE_USER: 0.7626871, COVERAGE_USER_HIT: 0.2918234, USERS_IN_GT: 0.7626871, DIVERSITY_GINI: 0.0105982, SHANNON_ENTROPY: 8.2988839, RATIO_DIVERSITY_HERFINDAHL: 0.9955021, RATIO_DIVERSITY_GINI: 0.0304980, RATIO_SHANNON_ENTROPY: 0.6391701, RATIO_AVERAGE_POPULARITY: 2.5537785, RATIO_NOVELTY: 0.2505025, \n",
      "\n",
      "IALSRecommender: New best model found! Updating.\n",
      "IALSRecommender: Epoch 55 of 100. Elapsed time 3.43 min\n",
      "IALSRecommender: Epoch 56 of 100. Elapsed time 3.47 min\n",
      "IALSRecommender: Epoch 57 of 100. Elapsed time 3.51 min\n",
      "IALSRecommender: Epoch 58 of 100. Elapsed time 3.56 min\n",
      "IALSRecommender: Epoch 59 of 100. Elapsed time 3.60 min\n",
      "IALSRecommender: Validation begins...\n",
      "EvaluatorHoldout: Processed 9934 (100.0%) in 5.61 sec. Users per second: 1772\n",
      "IALSRecommender: CUTOFF: 10 - PRECISION: 0.0557983, PRECISION_RECALL_MIN_DEN: 0.1188331, RECALL: 0.1088735, MAP: 0.0257027, MAP_MIN_DEN: 0.0542954, MRR: 0.1786481, NDCG: 0.0996150, F1: 0.0737826, HIT_RATE: 0.3842360, ARHR_ALL_HITS: 0.2132689, NOVELTY: 0.0045472, AVERAGE_POPULARITY: 0.3029249, DIVERSITY_MEAN_INTER_LIST: 0.9515855, DIVERSITY_HERFINDAHL: 0.9951490, COVERAGE_ITEM: 0.0430016, COVERAGE_ITEM_HIT: 0.0252819, ITEMS_IN_GT: 0.7219885, COVERAGE_USER: 0.7626871, COVERAGE_USER_HIT: 0.2930518, USERS_IN_GT: 0.7626871, DIVERSITY_GINI: 0.0106087, SHANNON_ENTROPY: 8.3003949, RATIO_DIVERSITY_HERFINDAHL: 0.9955091, RATIO_DIVERSITY_GINI: 0.0305279, RATIO_SHANNON_ENTROPY: 0.6392865, RATIO_AVERAGE_POPULARITY: 2.5525660, RATIO_NOVELTY: 0.2505221, \n",
      "\n",
      "IALSRecommender: New best model found! Updating.\n",
      "IALSRecommender: Epoch 60 of 100. Elapsed time 3.74 min\n",
      "IALSRecommender: Epoch 61 of 100. Elapsed time 3.78 min\n",
      "IALSRecommender: Epoch 62 of 100. Elapsed time 3.83 min\n",
      "IALSRecommender: Epoch 63 of 100. Elapsed time 3.87 min\n",
      "IALSRecommender: Epoch 64 of 100. Elapsed time 3.91 min\n",
      "IALSRecommender: Validation begins...\n",
      "EvaluatorHoldout: Processed 9934 (100.0%) in 5.71 sec. Users per second: 1741\n",
      "IALSRecommender: CUTOFF: 10 - PRECISION: 0.0558486, PRECISION_RECALL_MIN_DEN: 0.1186947, RECALL: 0.1086569, MAP: 0.0257892, MAP_MIN_DEN: 0.0544660, MRR: 0.1790974, NDCG: 0.0997688, F1: 0.0737767, HIT_RATE: 0.3834306, ARHR_ALL_HITS: 0.2138870, NOVELTY: 0.0045472, AVERAGE_POPULARITY: 0.3029192, DIVERSITY_MEAN_INTER_LIST: 0.9515816, DIVERSITY_HERFINDAHL: 0.9951486, COVERAGE_ITEM: 0.0429569, COVERAGE_ITEM_HIT: 0.0254161, ITEMS_IN_GT: 0.7219885, COVERAGE_USER: 0.7626871, COVERAGE_USER_HIT: 0.2924376, USERS_IN_GT: 0.7626871, DIVERSITY_GINI: 0.0106035, SHANNON_ENTROPY: 8.2998078, RATIO_DIVERSITY_HERFINDAHL: 0.9955087, RATIO_DIVERSITY_GINI: 0.0305129, RATIO_SHANNON_ENTROPY: 0.6392412, RATIO_AVERAGE_POPULARITY: 2.5525180, RATIO_NOVELTY: 0.2505217, \n",
      "\n",
      "IALSRecommender: New best model found! Updating.\n",
      "IALSRecommender: Epoch 65 of 100. Elapsed time 4.06 min\n",
      "IALSRecommender: Epoch 66 of 100. Elapsed time 4.10 min\n",
      "IALSRecommender: Epoch 67 of 100. Elapsed time 4.15 min\n",
      "IALSRecommender: Epoch 68 of 100. Elapsed time 4.19 min\n",
      "IALSRecommender: Epoch 69 of 100. Elapsed time 4.24 min\n",
      "IALSRecommender: Validation begins...\n",
      "EvaluatorHoldout: Processed 9934 (100.0%) in 5.82 sec. Users per second: 1708\n",
      "IALSRecommender: CUTOFF: 10 - PRECISION: 0.0559090, PRECISION_RECALL_MIN_DEN: 0.1184842, RECALL: 0.1083980, MAP: 0.0257881, MAP_MIN_DEN: 0.0544658, MRR: 0.1788790, NDCG: 0.0997116, F1: 0.0737695, HIT_RATE: 0.3836320, ARHR_ALL_HITS: 0.2136914, NOVELTY: 0.0045477, AVERAGE_POPULARITY: 0.3027373, DIVERSITY_MEAN_INTER_LIST: 0.9516501, DIVERSITY_HERFINDAHL: 0.9951554, COVERAGE_ITEM: 0.0429569, COVERAGE_ITEM_HIT: 0.0255504, ITEMS_IN_GT: 0.7219885, COVERAGE_USER: 0.7626871, COVERAGE_USER_HIT: 0.2925912, USERS_IN_GT: 0.7626871, DIVERSITY_GINI: 0.0106173, SHANNON_ENTROPY: 8.3017252, RATIO_DIVERSITY_HERFINDAHL: 0.9955155, RATIO_DIVERSITY_GINI: 0.0305528, RATIO_SHANNON_ENTROPY: 0.6393889, RATIO_AVERAGE_POPULARITY: 2.5509853, RATIO_NOVELTY: 0.2505484, \n",
      "\n",
      "IALSRecommender: Epoch 70 of 100. Elapsed time 4.38 min\n"
     ]
    },
    {
     "name": "stdout",
     "output_type": "stream",
     "text": [
      "IALSRecommender: Epoch 71 of 100. Elapsed time 4.43 min\n",
      "IALSRecommender: Epoch 72 of 100. Elapsed time 4.47 min\n",
      "IALSRecommender: Epoch 73 of 100. Elapsed time 4.52 min\n",
      "IALSRecommender: Epoch 74 of 100. Elapsed time 4.56 min\n",
      "IALSRecommender: Validation begins...\n",
      "EvaluatorHoldout: Processed 9934 (100.0%) in 5.64 sec. Users per second: 1762\n",
      "IALSRecommender: CUTOFF: 10 - PRECISION: 0.0558486, PRECISION_RECALL_MIN_DEN: 0.1181636, RECALL: 0.1080804, MAP: 0.0257478, MAP_MIN_DEN: 0.0543718, MRR: 0.1790151, NDCG: 0.0995957, F1: 0.0736433, HIT_RATE: 0.3845380, ARHR_ALL_HITS: 0.2136017, NOVELTY: 0.0045481, AVERAGE_POPULARITY: 0.3025170, DIVERSITY_MEAN_INTER_LIST: 0.9517201, DIVERSITY_HERFINDAHL: 0.9951624, COVERAGE_ITEM: 0.0431806, COVERAGE_ITEM_HIT: 0.0253714, ITEMS_IN_GT: 0.7219885, COVERAGE_USER: 0.7626871, COVERAGE_USER_HIT: 0.2932821, USERS_IN_GT: 0.7626871, DIVERSITY_GINI: 0.0106264, SHANNON_ENTROPY: 8.3031884, RATIO_DIVERSITY_HERFINDAHL: 0.9955225, RATIO_DIVERSITY_GINI: 0.0305790, RATIO_SHANNON_ENTROPY: 0.6395016, RATIO_AVERAGE_POPULARITY: 2.5491290, RATIO_NOVELTY: 0.2505750, \n",
      "\n",
      "IALSRecommender: Epoch 75 of 100. Elapsed time 4.70 min\n",
      "IALSRecommender: Epoch 76 of 100. Elapsed time 4.74 min\n",
      "IALSRecommender: Epoch 77 of 100. Elapsed time 4.79 min\n",
      "IALSRecommender: Epoch 78 of 100. Elapsed time 4.83 min\n",
      "IALSRecommender: Epoch 79 of 100. Elapsed time 4.87 min\n",
      "IALSRecommender: Validation begins...\n",
      "EvaluatorHoldout: Processed 9934 (100.0%) in 5.64 sec. Users per second: 1761\n",
      "IALSRecommender: CUTOFF: 10 - PRECISION: 0.0557681, PRECISION_RECALL_MIN_DEN: 0.1181545, RECALL: 0.1081092, MAP: 0.0257261, MAP_MIN_DEN: 0.0544290, MRR: 0.1787931, NDCG: 0.0995928, F1: 0.0735800, HIT_RATE: 0.3838333, ARHR_ALL_HITS: 0.2134051, NOVELTY: 0.0045483, AVERAGE_POPULARITY: 0.3024297, DIVERSITY_MEAN_INTER_LIST: 0.9517574, DIVERSITY_HERFINDAHL: 0.9951662, COVERAGE_ITEM: 0.0430464, COVERAGE_ITEM_HIT: 0.0252819, ITEMS_IN_GT: 0.7219885, COVERAGE_USER: 0.7626871, COVERAGE_USER_HIT: 0.2927447, USERS_IN_GT: 0.7626871, DIVERSITY_GINI: 0.0106214, SHANNON_ENTROPY: 8.3028136, RATIO_DIVERSITY_HERFINDAHL: 0.9955263, RATIO_DIVERSITY_GINI: 0.0305645, RATIO_SHANNON_ENTROPY: 0.6394727, RATIO_AVERAGE_POPULARITY: 2.5483931, RATIO_NOVELTY: 0.2505820, \n",
      "\n",
      "IALSRecommender: Epoch 80 of 100. Elapsed time 5.01 min\n",
      "IALSRecommender: Epoch 81 of 100. Elapsed time 5.06 min\n",
      "IALSRecommender: Epoch 82 of 100. Elapsed time 5.10 min\n",
      "IALSRecommender: Epoch 83 of 100. Elapsed time 5.15 min\n",
      "IALSRecommender: Epoch 84 of 100. Elapsed time 5.19 min\n",
      "IALSRecommender: Validation begins...\n",
      "EvaluatorHoldout: Processed 9934 (100.0%) in 5.62 sec. Users per second: 1767\n",
      "IALSRecommender: CUTOFF: 10 - PRECISION: 0.0558989, PRECISION_RECALL_MIN_DEN: 0.1183717, RECALL: 0.1082483, MAP: 0.0257370, MAP_MIN_DEN: 0.0543923, MRR: 0.1787640, NDCG: 0.0996456, F1: 0.0737261, HIT_RATE: 0.3845380, ARHR_ALL_HITS: 0.2134501, NOVELTY: 0.0045485, AVERAGE_POPULARITY: 0.3023740, DIVERSITY_MEAN_INTER_LIST: 0.9518030, DIVERSITY_HERFINDAHL: 0.9951707, COVERAGE_ITEM: 0.0430911, COVERAGE_ITEM_HIT: 0.0252819, ITEMS_IN_GT: 0.7219885, COVERAGE_USER: 0.7626871, COVERAGE_USER_HIT: 0.2932821, USERS_IN_GT: 0.7626871, DIVERSITY_GINI: 0.0106327, SHANNON_ENTROPY: 8.3043270, RATIO_DIVERSITY_HERFINDAHL: 0.9955308, RATIO_DIVERSITY_GINI: 0.0305971, RATIO_SHANNON_ENTROPY: 0.6395893, RATIO_AVERAGE_POPULARITY: 2.5479244, RATIO_NOVELTY: 0.2505968, \n",
      "\n",
      "IALSRecommender: Epoch 85 of 100. Elapsed time 5.33 min\n",
      "IALSRecommender: Epoch 86 of 100. Elapsed time 5.37 min\n",
      "IALSRecommender: Epoch 87 of 100. Elapsed time 5.41 min\n",
      "IALSRecommender: Epoch 88 of 100. Elapsed time 5.46 min\n",
      "IALSRecommender: Epoch 89 of 100. Elapsed time 5.50 min\n",
      "IALSRecommender: Validation begins...\n",
      "EvaluatorHoldout: Processed 9934 (100.0%) in 5.74 sec. Users per second: 1731\n",
      "IALSRecommender: CUTOFF: 10 - PRECISION: 0.0558587, PRECISION_RECALL_MIN_DEN: 0.1181839, RECALL: 0.1080415, MAP: 0.0257395, MAP_MIN_DEN: 0.0544101, MRR: 0.1789433, NDCG: 0.0996222, F1: 0.0736431, HIT_RATE: 0.3849406, ARHR_ALL_HITS: 0.2135391, NOVELTY: 0.0045486, AVERAGE_POPULARITY: 0.3023675, DIVERSITY_MEAN_INTER_LIST: 0.9518195, DIVERSITY_HERFINDAHL: 0.9951724, COVERAGE_ITEM: 0.0432253, COVERAGE_ITEM_HIT: 0.0252819, ITEMS_IN_GT: 0.7219885, COVERAGE_USER: 0.7626871, COVERAGE_USER_HIT: 0.2935893, USERS_IN_GT: 0.7626871, DIVERSITY_GINI: 0.0106379, SHANNON_ENTROPY: 8.3050127, RATIO_DIVERSITY_HERFINDAHL: 0.9955325, RATIO_DIVERSITY_GINI: 0.0306120, RATIO_SHANNON_ENTROPY: 0.6396421, RATIO_AVERAGE_POPULARITY: 2.5478696, RATIO_NOVELTY: 0.2506021, \n",
      "\n",
      "IALSRecommender: Convergence reached! Terminating at epoch 90. Best value for 'MAP' at epoch 65 is 0.0258. Elapsed time 5.64 min\n",
      "IALSRecommender: Epoch 90 of 100. Elapsed time 5.64 min\n"
     ]
    }
   ],
   "source": [
    "recommender.fit(**{\n",
    "    'epochs': 100,\n",
    "    'num_factors': 50,\n",
    "    'alpha': 3,\n",
    "    'epsilon': 0.3,\n",
    "    'reg': 0.03,\n",
    "    \"validation_every_n\": 5,\n",
    "    \"stop_on_validation\": True,\n",
    "    \"evaluator_object\": evaluator_test,\n",
    "    \"lower_validations_allowed\": 5,\n",
    "    \"validation_metric\": \"MAP\",\n",
    "})"
   ]
  },
  {
   "cell_type": "code",
   "execution_count": 164,
   "metadata": {},
   "outputs": [],
   "source": [
    "def objective(trial):\n",
    "    iterations = trial.suggest_int(\"epochs\", 10, 150)\n",
    "    factors = trial.suggest_int(\"num_factors\", 1, 150)\n",
    "    regularization = trial.suggest_float(\"reg\", 0.0001, 0.1)\n",
    "    alpha = trial.suggest_float(\"alpha\", 0.5, 5)\n",
    "    \n",
    "    recommender = IALSRecommender(URM_train)\n",
    "    recommender.fit(**{\n",
    "    'epochs': iterations,\n",
    "    'num_factors': factors,\n",
    "    'alpha': alpha,\n",
    "    'reg': regularization,\n",
    "    \"validation_every_n\": 5,\n",
    "    \"stop_on_validation\": True,\n",
    "    \"evaluator_object\": evaluator_test,\n",
    "    \"lower_validations_allowed\": 5,\n",
    "    \"validation_metric\": \"MAP\",\n",
    "    })\n",
    "    \n",
    "    result, _ = evaluator_test.evaluateRecommender(recommender)\n",
    "    MAP_result = result[\"MAP\"].item()\n",
    "       \n",
    "    return MAP_result"
   ]
  },
  {
   "cell_type": "code",
   "execution_count": 165,
   "metadata": {},
   "outputs": [
    {
     "name": "stderr",
     "output_type": "stream",
     "text": [
      "[I 2023-12-06 14:14:23,635] A new study created in memory with name: no-name-cb5fd9c3-bb6e-4ad6-ba9d-6d0825a34756\n"
     ]
    },
    {
     "name": "stdout",
     "output_type": "stream",
     "text": [
      "IALSRecommender: URM Detected 550 ( 4.2%) users with no interactions.\n",
      "IALSRecommender: URM Detected 206 ( 0.9%) items with no interactions.\n",
      "IALSRecommender: Epoch 1 of 100. Elapsed time 1.92 sec\n",
      "IALSRecommender: Epoch 2 of 100. Elapsed time 3.78 sec\n",
      "IALSRecommender: Epoch 3 of 100. Elapsed time 5.70 sec\n",
      "IALSRecommender: Epoch 4 of 100. Elapsed time 7.49 sec\n",
      "IALSRecommender: Validation begins...\n",
      "EvaluatorHoldout: Processed 9934 (100.0%) in 5.56 sec. Users per second: 1786\n",
      "IALSRecommender: CUTOFF: 10 - PRECISION: 0.0511576, PRECISION_RECALL_MIN_DEN: 0.1075471, RECALL: 0.0983336, MAP: 0.0227832, MAP_MIN_DEN: 0.0481931, MRR: 0.1611007, NDCG: 0.0898115, F1: 0.0673018, HIT_RATE: 0.3596738, ARHR_ALL_HITS: 0.1908199, NOVELTY: 0.0044290, AVERAGE_POPULARITY: 0.3574566, DIVERSITY_MEAN_INTER_LIST: 0.9256552, DIVERSITY_HERFINDAHL: 0.9925562, COVERAGE_ITEM: 0.0301146, COVERAGE_ITEM_HIT: 0.0184804, ITEMS_IN_GT: 0.7219885, COVERAGE_USER: 0.7626871, COVERAGE_USER_HIT: 0.2743186, USERS_IN_GT: 0.7626871, DIVERSITY_GINI: 0.0073491, SHANNON_ENTROPY: 7.7497536, RATIO_DIVERSITY_HERFINDAHL: 0.9929154, RATIO_DIVERSITY_GINI: 0.0211480, RATIO_SHANNON_ENTROPY: 0.5968767, RATIO_AVERAGE_POPULARITY: 3.0120716, RATIO_NOVELTY: 0.2440114, \n",
      "\n",
      "IALSRecommender: New best model found! Updating.\n",
      "IALSRecommender: Epoch 5 of 100. Elapsed time 14.89 sec\n",
      "IALSRecommender: Epoch 6 of 100. Elapsed time 16.70 sec\n",
      "IALSRecommender: Epoch 7 of 100. Elapsed time 18.52 sec\n",
      "IALSRecommender: Epoch 8 of 100. Elapsed time 20.35 sec\n",
      "IALSRecommender: Epoch 9 of 100. Elapsed time 22.16 sec\n",
      "IALSRecommender: Validation begins...\n",
      "EvaluatorHoldout: Processed 9934 (100.0%) in 5.53 sec. Users per second: 1796\n",
      "IALSRecommender: CUTOFF: 10 - PRECISION: 0.0518925, PRECISION_RECALL_MIN_DEN: 0.1092747, RECALL: 0.0999881, MAP: 0.0233755, MAP_MIN_DEN: 0.0491753, MRR: 0.1656664, NDCG: 0.0915636, F1: 0.0683251, HIT_RATE: 0.3655124, ARHR_ALL_HITS: 0.1961980, NOVELTY: 0.0044458, AVERAGE_POPULARITY: 0.3503970, DIVERSITY_MEAN_INTER_LIST: 0.9294495, DIVERSITY_HERFINDAHL: 0.9929356, COVERAGE_ITEM: 0.0317702, COVERAGE_ITEM_HIT: 0.0190174, ITEMS_IN_GT: 0.7219885, COVERAGE_USER: 0.7626871, COVERAGE_USER_HIT: 0.2787716, USERS_IN_GT: 0.7626871, DIVERSITY_GINI: 0.0077575, SHANNON_ENTROPY: 7.8279540, RATIO_DIVERSITY_HERFINDAHL: 0.9932949, RATIO_DIVERSITY_GINI: 0.0223233, RATIO_SHANNON_ENTROPY: 0.6028996, RATIO_AVERAGE_POPULARITY: 2.9525849, RATIO_NOVELTY: 0.2449352, \n",
      "\n",
      "IALSRecommender: New best model found! Updating.\n",
      "IALSRecommender: Epoch 10 of 100. Elapsed time 29.55 sec\n",
      "IALSRecommender: Epoch 11 of 100. Elapsed time 31.44 sec\n",
      "IALSRecommender: Epoch 12 of 100. Elapsed time 33.29 sec\n",
      "IALSRecommender: Epoch 13 of 100. Elapsed time 35.14 sec\n",
      "IALSRecommender: Epoch 14 of 100. Elapsed time 36.98 sec\n",
      "IALSRecommender: Validation begins...\n",
      "EvaluatorHoldout: Processed 9934 (100.0%) in 5.53 sec. Users per second: 1797\n",
      "IALSRecommender: CUTOFF: 10 - PRECISION: 0.0526877, PRECISION_RECALL_MIN_DEN: 0.1108076, RECALL: 0.1013333, MAP: 0.0237704, MAP_MIN_DEN: 0.0497538, MRR: 0.1671509, NDCG: 0.0926424, F1: 0.0693285, HIT_RATE: 0.3680290, ARHR_ALL_HITS: 0.1986096, NOVELTY: 0.0044500, AVERAGE_POPULARITY: 0.3481764, DIVERSITY_MEAN_INTER_LIST: 0.9304864, DIVERSITY_HERFINDAHL: 0.9930393, COVERAGE_ITEM: 0.0322624, COVERAGE_ITEM_HIT: 0.0192858, ITEMS_IN_GT: 0.7219885, COVERAGE_USER: 0.7626871, COVERAGE_USER_HIT: 0.2806910, USERS_IN_GT: 0.7626871, DIVERSITY_GINI: 0.0078642, SHANNON_ENTROPY: 7.8480543, RATIO_DIVERSITY_HERFINDAHL: 0.9933986, RATIO_DIVERSITY_GINI: 0.0226304, RATIO_SHANNON_ENTROPY: 0.6044477, RATIO_AVERAGE_POPULARITY: 2.9338733, RATIO_NOVELTY: 0.2451679, \n",
      "\n",
      "IALSRecommender: New best model found! Updating.\n",
      "IALSRecommender: Epoch 15 of 100. Elapsed time 44.35 sec\n",
      "IALSRecommender: Epoch 16 of 100. Elapsed time 46.19 sec\n",
      "IALSRecommender: Epoch 17 of 100. Elapsed time 48.03 sec\n",
      "IALSRecommender: Epoch 18 of 100. Elapsed time 49.81 sec\n",
      "IALSRecommender: Epoch 19 of 100. Elapsed time 51.61 sec\n",
      "IALSRecommender: Validation begins...\n",
      "EvaluatorHoldout: Processed 9934 (100.0%) in 5.55 sec. Users per second: 1789\n",
      "IALSRecommender: CUTOFF: 10 - PRECISION: 0.0530803, PRECISION_RECALL_MIN_DEN: 0.1112543, RECALL: 0.1015866, MAP: 0.0238267, MAP_MIN_DEN: 0.0497080, MRR: 0.1666995, NDCG: 0.0927693, F1: 0.0697272, HIT_RATE: 0.3690356, ARHR_ALL_HITS: 0.1985263, NOVELTY: 0.0044515, AVERAGE_POPULARITY: 0.3473066, DIVERSITY_MEAN_INTER_LIST: 0.9309445, DIVERSITY_HERFINDAHL: 0.9930851, COVERAGE_ITEM: 0.0319044, COVERAGE_ITEM_HIT: 0.0194201, ITEMS_IN_GT: 0.7219885, COVERAGE_USER: 0.7626871, COVERAGE_USER_HIT: 0.2814587, USERS_IN_GT: 0.7626871, DIVERSITY_GINI: 0.0079050, SHANNON_ENTROPY: 7.8555657, RATIO_DIVERSITY_HERFINDAHL: 0.9934444, RATIO_DIVERSITY_GINI: 0.0227477, RATIO_SHANNON_ENTROPY: 0.6050262, RATIO_AVERAGE_POPULARITY: 2.9265439, RATIO_NOVELTY: 0.2452509, \n",
      "\n",
      "IALSRecommender: New best model found! Updating.\n",
      "IALSRecommender: Epoch 20 of 100. Elapsed time 58.99 sec\n",
      "IALSRecommender: Epoch 21 of 100. Elapsed time 1.01 min\n",
      "IALSRecommender: Epoch 22 of 100. Elapsed time 1.05 min\n",
      "IALSRecommender: Epoch 23 of 100. Elapsed time 1.08 min\n",
      "IALSRecommender: Epoch 24 of 100. Elapsed time 1.11 min\n",
      "IALSRecommender: Validation begins...\n",
      "EvaluatorHoldout: Processed 9934 (100.0%) in 5.56 sec. Users per second: 1788\n",
      "IALSRecommender: CUTOFF: 10 - PRECISION: 0.0531005, PRECISION_RECALL_MIN_DEN: 0.1113916, RECALL: 0.1017007, MAP: 0.0237684, MAP_MIN_DEN: 0.0494063, MRR: 0.1663135, NDCG: 0.0925646, F1: 0.0697715, HIT_RATE: 0.3702436, ARHR_ALL_HITS: 0.1980680, NOVELTY: 0.0044524, AVERAGE_POPULARITY: 0.3468846, DIVERSITY_MEAN_INTER_LIST: 0.9311843, DIVERSITY_HERFINDAHL: 0.9931091, COVERAGE_ITEM: 0.0318597, COVERAGE_ITEM_HIT: 0.0195096, ITEMS_IN_GT: 0.7219885, COVERAGE_USER: 0.7626871, COVERAGE_USER_HIT: 0.2823800, USERS_IN_GT: 0.7626871, DIVERSITY_GINI: 0.0079317, SHANNON_ENTROPY: 7.8604539, RATIO_DIVERSITY_HERFINDAHL: 0.9934684, RATIO_DIVERSITY_GINI: 0.0228246, RATIO_SHANNON_ENTROPY: 0.6054027, RATIO_AVERAGE_POPULARITY: 2.9229881, RATIO_NOVELTY: 0.2453005, \n",
      "\n",
      "IALSRecommender: Epoch 25 of 100. Elapsed time 1.23 min\n",
      "IALSRecommender: Epoch 26 of 100. Elapsed time 1.26 min\n",
      "IALSRecommender: Epoch 27 of 100. Elapsed time 1.29 min\n",
      "IALSRecommender: Epoch 28 of 100. Elapsed time 1.32 min\n",
      "IALSRecommender: Epoch 29 of 100. Elapsed time 1.35 min\n",
      "IALSRecommender: Validation begins...\n",
      "EvaluatorHoldout: Processed 9934 (100.0%) in 5.53 sec. Users per second: 1798\n",
      "IALSRecommender: CUTOFF: 10 - PRECISION: 0.0528790, PRECISION_RECALL_MIN_DEN: 0.1106210, RECALL: 0.1009746, MAP: 0.0237587, MAP_MIN_DEN: 0.0496026, MRR: 0.1665860, NDCG: 0.0925208, F1: 0.0694093, HIT_RATE: 0.3697403, ARHR_ALL_HITS: 0.1981759, NOVELTY: 0.0044530, AVERAGE_POPULARITY: 0.3465026, DIVERSITY_MEAN_INTER_LIST: 0.9314322, DIVERSITY_HERFINDAHL: 0.9931338, COVERAGE_ITEM: 0.0319939, COVERAGE_ITEM_HIT: 0.0194648, ITEMS_IN_GT: 0.7219885, COVERAGE_USER: 0.7626871, COVERAGE_USER_HIT: 0.2819962, USERS_IN_GT: 0.7626871, DIVERSITY_GINI: 0.0079440, SHANNON_ENTROPY: 7.8633667, RATIO_DIVERSITY_HERFINDAHL: 0.9934932, RATIO_DIVERSITY_GINI: 0.0228601, RATIO_SHANNON_ENTROPY: 0.6056271, RATIO_AVERAGE_POPULARITY: 2.9197694, RATIO_NOVELTY: 0.2453348, \n",
      "\n",
      "IALSRecommender: Epoch 30 of 100. Elapsed time 1.48 min\n",
      "IALSRecommender: Epoch 31 of 100. Elapsed time 1.51 min\n",
      "IALSRecommender: Epoch 32 of 100. Elapsed time 1.54 min\n",
      "IALSRecommender: Epoch 33 of 100. Elapsed time 1.57 min\n",
      "IALSRecommender: Epoch 34 of 100. Elapsed time 1.60 min\n",
      "IALSRecommender: Validation begins...\n",
      "EvaluatorHoldout: Processed 9934 (100.0%) in 5.56 sec. Users per second: 1786\n",
      "IALSRecommender: CUTOFF: 10 - PRECISION: 0.0529998, PRECISION_RECALL_MIN_DEN: 0.1107893, RECALL: 0.1010847, MAP: 0.0238413, MAP_MIN_DEN: 0.0497680, MRR: 0.1670398, NDCG: 0.0927248, F1: 0.0695394, HIT_RATE: 0.3699416, ARHR_ALL_HITS: 0.1986734, NOVELTY: 0.0044530, AVERAGE_POPULARITY: 0.3465915, DIVERSITY_MEAN_INTER_LIST: 0.9313632, DIVERSITY_HERFINDAHL: 0.9931269, COVERAGE_ITEM: 0.0324861, COVERAGE_ITEM_HIT: 0.0195543, ITEMS_IN_GT: 0.7219885, COVERAGE_USER: 0.7626871, COVERAGE_USER_HIT: 0.2821497, USERS_IN_GT: 0.7626871, DIVERSITY_GINI: 0.0079436, SHANNON_ENTROPY: 7.8631559, RATIO_DIVERSITY_HERFINDAHL: 0.9934863, RATIO_DIVERSITY_GINI: 0.0228589, RATIO_SHANNON_ENTROPY: 0.6056108, RATIO_AVERAGE_POPULARITY: 2.9205182, RATIO_NOVELTY: 0.2453320, \n",
      "\n",
      "IALSRecommender: New best model found! Updating.\n",
      "IALSRecommender: Epoch 35 of 100. Elapsed time 1.72 min\n"
     ]
    },
    {
     "name": "stdout",
     "output_type": "stream",
     "text": [
      "IALSRecommender: Epoch 36 of 100. Elapsed time 1.75 min\n",
      "IALSRecommender: Epoch 37 of 100. Elapsed time 1.79 min\n",
      "IALSRecommender: Epoch 38 of 100. Elapsed time 1.82 min\n",
      "IALSRecommender: Epoch 39 of 100. Elapsed time 1.85 min\n",
      "IALSRecommender: Validation begins...\n",
      "EvaluatorHoldout: Processed 9934 (100.0%) in 5.65 sec. Users per second: 1758\n",
      "IALSRecommender: CUTOFF: 10 - PRECISION: 0.0531508, PRECISION_RECALL_MIN_DEN: 0.1114471, RECALL: 0.1017295, MAP: 0.0238419, MAP_MIN_DEN: 0.0497525, MRR: 0.1668834, NDCG: 0.0928630, F1: 0.0698217, HIT_RATE: 0.3705456, ARHR_ALL_HITS: 0.1985475, NOVELTY: 0.0044526, AVERAGE_POPULARITY: 0.3469240, DIVERSITY_MEAN_INTER_LIST: 0.9312159, DIVERSITY_HERFINDAHL: 0.9931122, COVERAGE_ITEM: 0.0324861, COVERAGE_ITEM_HIT: 0.0194201, ITEMS_IN_GT: 0.7219885, COVERAGE_USER: 0.7626871, COVERAGE_USER_HIT: 0.2826104, USERS_IN_GT: 0.7626871, DIVERSITY_GINI: 0.0079437, SHANNON_ENTROPY: 7.8625392, RATIO_DIVERSITY_HERFINDAHL: 0.9934716, RATIO_DIVERSITY_GINI: 0.0228591, RATIO_SHANNON_ENTROPY: 0.6055633, RATIO_AVERAGE_POPULARITY: 2.9233204, RATIO_NOVELTY: 0.2453139, \n",
      "\n",
      "IALSRecommender: New best model found! Updating.\n",
      "IALSRecommender: Epoch 40 of 100. Elapsed time 1.97 min\n",
      "IALSRecommender: Epoch 41 of 100. Elapsed time 2.01 min\n",
      "IALSRecommender: Epoch 42 of 100. Elapsed time 2.04 min\n",
      "IALSRecommender: Epoch 43 of 100. Elapsed time 2.07 min\n",
      "IALSRecommender: Epoch 44 of 100. Elapsed time 2.10 min\n",
      "IALSRecommender: Validation begins...\n",
      "EvaluatorHoldout: Processed 9934 (100.0%) in 5.59 sec. Users per second: 1778\n",
      "IALSRecommender: CUTOFF: 10 - PRECISION: 0.0531005, PRECISION_RECALL_MIN_DEN: 0.1114117, RECALL: 0.1017112, MAP: 0.0238399, MAP_MIN_DEN: 0.0497005, MRR: 0.1671813, NDCG: 0.0928450, F1: 0.0697740, HIT_RATE: 0.3705456, ARHR_ALL_HITS: 0.1986612, NOVELTY: 0.0044522, AVERAGE_POPULARITY: 0.3472608, DIVERSITY_MEAN_INTER_LIST: 0.9310840, DIVERSITY_HERFINDAHL: 0.9930990, COVERAGE_ITEM: 0.0323071, COVERAGE_ITEM_HIT: 0.0195991, ITEMS_IN_GT: 0.7219885, COVERAGE_USER: 0.7626871, COVERAGE_USER_HIT: 0.2826104, USERS_IN_GT: 0.7626871, DIVERSITY_GINI: 0.0079420, SHANNON_ENTROPY: 7.8617227, RATIO_DIVERSITY_HERFINDAHL: 0.9934584, RATIO_DIVERSITY_GINI: 0.0228541, RATIO_SHANNON_ENTROPY: 0.6055005, RATIO_AVERAGE_POPULARITY: 2.9261583, RATIO_NOVELTY: 0.2452916, \n",
      "\n",
      "IALSRecommender: Epoch 45 of 100. Elapsed time 2.22 min\n",
      "IALSRecommender: Epoch 46 of 100. Elapsed time 2.25 min\n",
      "IALSRecommender: Epoch 47 of 100. Elapsed time 2.29 min\n",
      "IALSRecommender: Epoch 48 of 100. Elapsed time 2.32 min\n",
      "IALSRecommender: Epoch 49 of 100. Elapsed time 2.35 min\n",
      "IALSRecommender: Validation begins...\n",
      "EvaluatorHoldout: Processed 9934 (100.0%) in 5.64 sec. Users per second: 1760\n",
      "IALSRecommender: CUTOFF: 10 - PRECISION: 0.0531206, PRECISION_RECALL_MIN_DEN: 0.1114799, RECALL: 0.1017715, MAP: 0.0238506, MAP_MIN_DEN: 0.0497453, MRR: 0.1672913, NDCG: 0.0929128, F1: 0.0698055, HIT_RATE: 0.3705456, ARHR_ALL_HITS: 0.1987951, NOVELTY: 0.0044522, AVERAGE_POPULARITY: 0.3473984, DIVERSITY_MEAN_INTER_LIST: 0.9310397, DIVERSITY_HERFINDAHL: 0.9930946, COVERAGE_ITEM: 0.0324414, COVERAGE_ITEM_HIT: 0.0196438, ITEMS_IN_GT: 0.7219885, COVERAGE_USER: 0.7626871, COVERAGE_USER_HIT: 0.2826104, USERS_IN_GT: 0.7626871, DIVERSITY_GINI: 0.0079451, SHANNON_ENTROPY: 7.8620729, RATIO_DIVERSITY_HERFINDAHL: 0.9934540, RATIO_DIVERSITY_GINI: 0.0228631, RATIO_SHANNON_ENTROPY: 0.6055274, RATIO_AVERAGE_POPULARITY: 2.9273174, RATIO_NOVELTY: 0.2452909, \n",
      "\n",
      "IALSRecommender: New best model found! Updating.\n",
      "IALSRecommender: Epoch 50 of 100. Elapsed time 2.47 min\n",
      "IALSRecommender: Epoch 51 of 100. Elapsed time 2.50 min\n",
      "IALSRecommender: Epoch 52 of 100. Elapsed time 2.53 min\n",
      "IALSRecommender: Epoch 53 of 100. Elapsed time 2.56 min\n",
      "IALSRecommender: Epoch 54 of 100. Elapsed time 2.59 min\n",
      "IALSRecommender: Validation begins...\n",
      "EvaluatorHoldout: Processed 9934 (100.0%) in 5.62 sec. Users per second: 1767\n",
      "IALSRecommender: CUTOFF: 10 - PRECISION: 0.0532011, PRECISION_RECALL_MIN_DEN: 0.1116651, RECALL: 0.1019444, MAP: 0.0238016, MAP_MIN_DEN: 0.0495355, MRR: 0.1670341, NDCG: 0.0928209, F1: 0.0699157, HIT_RATE: 0.3713509, ARHR_ALL_HITS: 0.1984439, NOVELTY: 0.0044522, AVERAGE_POPULARITY: 0.3474041, DIVERSITY_MEAN_INTER_LIST: 0.9310822, DIVERSITY_HERFINDAHL: 0.9930988, COVERAGE_ITEM: 0.0322176, COVERAGE_ITEM_HIT: 0.0195991, ITEMS_IN_GT: 0.7219885, COVERAGE_USER: 0.7626871, COVERAGE_USER_HIT: 0.2832246, USERS_IN_GT: 0.7626871, DIVERSITY_GINI: 0.0079476, SHANNON_ENTROPY: 7.8626149, RATIO_DIVERSITY_HERFINDAHL: 0.9934582, RATIO_DIVERSITY_GINI: 0.0228704, RATIO_SHANNON_ENTROPY: 0.6055692, RATIO_AVERAGE_POPULARITY: 2.9273656, RATIO_NOVELTY: 0.2452891, \n",
      "\n",
      "IALSRecommender: Epoch 55 of 100. Elapsed time 2.72 min\n",
      "IALSRecommender: Epoch 56 of 100. Elapsed time 2.75 min\n",
      "IALSRecommender: Epoch 57 of 100. Elapsed time 2.78 min\n",
      "IALSRecommender: Epoch 58 of 100. Elapsed time 2.81 min\n",
      "IALSRecommender: Epoch 59 of 100. Elapsed time 2.84 min\n",
      "IALSRecommender: Validation begins...\n",
      "EvaluatorHoldout: Processed 9934 (100.0%) in 5.58 sec. Users per second: 1779\n",
      "IALSRecommender: CUTOFF: 10 - PRECISION: 0.0532112, PRECISION_RECALL_MIN_DEN: 0.1115115, RECALL: 0.1017884, MAP: 0.0237989, MAP_MIN_DEN: 0.0493821, MRR: 0.1670461, NDCG: 0.0926953, F1: 0.0698877, HIT_RATE: 0.3717536, ARHR_ALL_HITS: 0.1984394, NOVELTY: 0.0044518, AVERAGE_POPULARITY: 0.3477643, DIVERSITY_MEAN_INTER_LIST: 0.9309169, DIVERSITY_HERFINDAHL: 0.9930823, COVERAGE_ITEM: 0.0321729, COVERAGE_ITEM_HIT: 0.0195991, ITEMS_IN_GT: 0.7219885, COVERAGE_USER: 0.7626871, COVERAGE_USER_HIT: 0.2835317, USERS_IN_GT: 0.7626871, DIVERSITY_GINI: 0.0079438, SHANNON_ENTROPY: 7.8613095, RATIO_DIVERSITY_HERFINDAHL: 0.9934417, RATIO_DIVERSITY_GINI: 0.0228594, RATIO_SHANNON_ENTROPY: 0.6054686, RATIO_AVERAGE_POPULARITY: 2.9304009, RATIO_NOVELTY: 0.2452667, \n",
      "\n",
      "IALSRecommender: Epoch 60 of 100. Elapsed time 2.97 min\n",
      "IALSRecommender: Epoch 61 of 100. Elapsed time 3.00 min\n",
      "IALSRecommender: Epoch 62 of 100. Elapsed time 3.03 min\n",
      "IALSRecommender: Epoch 63 of 100. Elapsed time 3.06 min\n",
      "IALSRecommender: Epoch 64 of 100. Elapsed time 3.09 min\n",
      "IALSRecommender: Validation begins...\n",
      "EvaluatorHoldout: Processed 9934 (100.0%) in 5.58 sec. Users per second: 1782\n",
      "IALSRecommender: CUTOFF: 10 - PRECISION: 0.0532414, PRECISION_RECALL_MIN_DEN: 0.1119263, RECALL: 0.1022233, MAP: 0.0237339, MAP_MIN_DEN: 0.0493941, MRR: 0.1665384, NDCG: 0.0927401, F1: 0.0700160, HIT_RATE: 0.3722569, ARHR_ALL_HITS: 0.1978643, NOVELTY: 0.0044519, AVERAGE_POPULARITY: 0.3478424, DIVERSITY_MEAN_INTER_LIST: 0.9308852, DIVERSITY_HERFINDAHL: 0.9930792, COVERAGE_ITEM: 0.0321729, COVERAGE_ITEM_HIT: 0.0195991, ITEMS_IN_GT: 0.7219885, COVERAGE_USER: 0.7626871, COVERAGE_USER_HIT: 0.2839155, USERS_IN_GT: 0.7626871, DIVERSITY_GINI: 0.0079520, SHANNON_ENTROPY: 7.8623749, RATIO_DIVERSITY_HERFINDAHL: 0.9934385, RATIO_DIVERSITY_GINI: 0.0228830, RATIO_SHANNON_ENTROPY: 0.6055507, RATIO_AVERAGE_POPULARITY: 2.9310591, RATIO_NOVELTY: 0.2452740, \n",
      "\n",
      "IALSRecommender: Epoch 65 of 100. Elapsed time 3.21 min\n",
      "IALSRecommender: Epoch 66 of 100. Elapsed time 3.24 min\n",
      "IALSRecommender: Epoch 67 of 100. Elapsed time 3.27 min\n",
      "IALSRecommender: Epoch 68 of 100. Elapsed time 3.30 min\n",
      "IALSRecommender: Epoch 69 of 100. Elapsed time 3.34 min\n",
      "IALSRecommender: Validation begins...\n",
      "EvaluatorHoldout: Processed 9934 (100.0%) in 5.61 sec. Users per second: 1771\n",
      "IALSRecommender: CUTOFF: 10 - PRECISION: 0.0533018, PRECISION_RECALL_MIN_DEN: 0.1121649, RECALL: 0.1024382, MAP: 0.0237807, MAP_MIN_DEN: 0.0495721, MRR: 0.1668663, NDCG: 0.0929557, F1: 0.0701187, HIT_RATE: 0.3722569, ARHR_ALL_HITS: 0.1982493, NOVELTY: 0.0044520, AVERAGE_POPULARITY: 0.3478561, DIVERSITY_MEAN_INTER_LIST: 0.9308779, DIVERSITY_HERFINDAHL: 0.9930784, COVERAGE_ITEM: 0.0322176, COVERAGE_ITEM_HIT: 0.0197333, ITEMS_IN_GT: 0.7219885, COVERAGE_USER: 0.7626871, COVERAGE_USER_HIT: 0.2839155, USERS_IN_GT: 0.7626871, DIVERSITY_GINI: 0.0079554, SHANNON_ENTROPY: 7.8627715, RATIO_DIVERSITY_HERFINDAHL: 0.9934378, RATIO_DIVERSITY_GINI: 0.0228928, RATIO_SHANNON_ENTROPY: 0.6055812, RATIO_AVERAGE_POPULARITY: 2.9311747, RATIO_NOVELTY: 0.2452783, \n",
      "\n",
      "IALSRecommender: Epoch 70 of 100. Elapsed time 3.46 min\n",
      "IALSRecommender: Epoch 71 of 100. Elapsed time 3.49 min\n",
      "IALSRecommender: Epoch 72 of 100. Elapsed time 3.52 min\n"
     ]
    },
    {
     "name": "stdout",
     "output_type": "stream",
     "text": [
      "IALSRecommender: Epoch 73 of 100. Elapsed time 3.55 min\n",
      "IALSRecommender: Epoch 74 of 100. Elapsed time 3.58 min\n",
      "IALSRecommender: Validation begins...\n",
      "EvaluatorHoldout: Processed 9934 (100.0%) in 5.61 sec. Users per second: 1771\n",
      "IALSRecommender: CUTOFF: 10 - PRECISION: 0.0533723, PRECISION_RECALL_MIN_DEN: 0.1121641, RECALL: 0.1023750, MAP: 0.0238291, MAP_MIN_DEN: 0.0496947, MRR: 0.1671372, NDCG: 0.0930848, F1: 0.0701648, HIT_RATE: 0.3724582, ARHR_ALL_HITS: 0.1985758, NOVELTY: 0.0044518, AVERAGE_POPULARITY: 0.3480088, DIVERSITY_MEAN_INTER_LIST: 0.9308063, DIVERSITY_HERFINDAHL: 0.9930713, COVERAGE_ITEM: 0.0322624, COVERAGE_ITEM_HIT: 0.0198228, ITEMS_IN_GT: 0.7219885, COVERAGE_USER: 0.7626871, COVERAGE_USER_HIT: 0.2840691, USERS_IN_GT: 0.7626871, DIVERSITY_GINI: 0.0079538, SHANNON_ENTROPY: 7.8622459, RATIO_DIVERSITY_HERFINDAHL: 0.9934306, RATIO_DIVERSITY_GINI: 0.0228881, RATIO_SHANNON_ENTROPY: 0.6055407, RATIO_AVERAGE_POPULARITY: 2.9324611, RATIO_NOVELTY: 0.2452681, \n",
      "\n",
      "IALSRecommender: Convergence reached! Terminating at epoch 75. Best value for 'MAP' at epoch 50 is 0.0239. Elapsed time 3.71 min\n",
      "IALSRecommender: Epoch 75 of 100. Elapsed time 3.71 min\n",
      "EvaluatorHoldout: Processed 9934 (100.0%) in 5.67 sec. Users per second: 1751\n"
     ]
    },
    {
     "name": "stderr",
     "output_type": "stream",
     "text": [
      "[I 2023-12-06 14:18:11,907] Trial 0 finished with value: 0.02385063242799303 and parameters: {'epochs': 100, 'num_factors': 30, 'reg': 0.05, 'alpha': 3.0}. Best is trial 0 with value: 0.02385063242799303.\n"
     ]
    },
    {
     "name": "stdout",
     "output_type": "stream",
     "text": [
      "IALSRecommender: URM Detected 550 ( 4.2%) users with no interactions.\n",
      "IALSRecommender: URM Detected 206 ( 0.9%) items with no interactions.\n",
      "IALSRecommender: Epoch 1 of 65. Elapsed time 7.37 sec\n",
      "IALSRecommender: Epoch 2 of 65. Elapsed time 14.75 sec\n",
      "IALSRecommender: Epoch 3 of 65. Elapsed time 22.01 sec\n",
      "IALSRecommender: Epoch 4 of 65. Elapsed time 29.22 sec\n",
      "IALSRecommender: Validation begins...\n",
      "EvaluatorHoldout: Processed 9934 (100.0%) in 5.74 sec. Users per second: 1730\n",
      "IALSRecommender: CUTOFF: 10 - PRECISION: 0.0562915, PRECISION_RECALL_MIN_DEN: 0.1189656, RECALL: 0.1091361, MAP: 0.0264058, MAP_MIN_DEN: 0.0557069, MRR: 0.1819627, NDCG: 0.1012870, F1: 0.0742734, HIT_RATE: 0.3839340, ARHR_ALL_HITS: 0.2182556, NOVELTY: 0.0046851, AVERAGE_POPULARITY: 0.2474342, DIVERSITY_MEAN_INTER_LIST: 0.9686755, DIVERSITY_HERFINDAHL: 0.9968578, COVERAGE_ITEM: 0.0625559, COVERAGE_ITEM_HIT: 0.0344997, ITEMS_IN_GT: 0.7219885, COVERAGE_USER: 0.7626871, COVERAGE_USER_HIT: 0.2928215, USERS_IN_GT: 0.7626871, DIVERSITY_GINI: 0.0155178, SHANNON_ENTROPY: 8.8637927, RATIO_DIVERSITY_HERFINDAHL: 0.9972185, RATIO_DIVERSITY_GINI: 0.0446547, RATIO_SHANNON_ENTROPY: 0.6826787, RATIO_AVERAGE_POPULARITY: 2.0849798, RATIO_NOVELTY: 0.2581235, \n",
      "\n",
      "IALSRecommender: New best model found! Updating.\n",
      "IALSRecommender: Epoch 5 of 65. Elapsed time 42.03 sec\n",
      "IALSRecommender: Epoch 6 of 65. Elapsed time 49.23 sec\n",
      "IALSRecommender: Epoch 7 of 65. Elapsed time 56.70 sec\n",
      "IALSRecommender: Epoch 8 of 65. Elapsed time 1.07 min\n",
      "IALSRecommender: Epoch 9 of 65. Elapsed time 1.19 min\n",
      "IALSRecommender: Validation begins...\n",
      "EvaluatorHoldout: Processed 9934 (100.0%) in 5.83 sec. Users per second: 1705\n",
      "IALSRecommender: CUTOFF: 10 - PRECISION: 0.0583048, PRECISION_RECALL_MIN_DEN: 0.1234082, RECALL: 0.1131552, MAP: 0.0272634, MAP_MIN_DEN: 0.0575874, MRR: 0.1867779, NDCG: 0.1045977, F1: 0.0769566, HIT_RATE: 0.3943024, ARHR_ALL_HITS: 0.2247335, NOVELTY: 0.0047078, AVERAGE_POPULARITY: 0.2395558, DIVERSITY_MEAN_INTER_LIST: 0.9704591, DIVERSITY_HERFINDAHL: 0.9970361, COVERAGE_ITEM: 0.0649723, COVERAGE_ITEM_HIT: 0.0361554, ITEMS_IN_GT: 0.7219885, COVERAGE_USER: 0.7626871, COVERAGE_USER_HIT: 0.3007294, USERS_IN_GT: 0.7626871, DIVERSITY_GINI: 0.0164088, SHANNON_ENTROPY: 8.9449071, RATIO_DIVERSITY_HERFINDAHL: 0.9973969, RATIO_DIVERSITY_GINI: 0.0472186, RATIO_SHANNON_ENTROPY: 0.6889260, RATIO_AVERAGE_POPULARITY: 2.0185925, RATIO_NOVELTY: 0.2593733, \n",
      "\n",
      "IALSRecommender: New best model found! Updating.\n",
      "IALSRecommender: Epoch 10 of 65. Elapsed time 1.42 min\n",
      "IALSRecommender: Epoch 11 of 65. Elapsed time 1.54 min\n",
      "IALSRecommender: Epoch 12 of 65. Elapsed time 1.66 min\n",
      "IALSRecommender: Epoch 13 of 65. Elapsed time 1.78 min\n",
      "IALSRecommender: Epoch 14 of 65. Elapsed time 1.90 min\n",
      "IALSRecommender: Validation begins...\n",
      "EvaluatorHoldout: Processed 9934 (100.0%) in 5.80 sec. Users per second: 1712\n",
      "IALSRecommender: CUTOFF: 10 - PRECISION: 0.0580834, PRECISION_RECALL_MIN_DEN: 0.1233127, RECALL: 0.1131762, MAP: 0.0273862, MAP_MIN_DEN: 0.0579293, MRR: 0.1879759, NDCG: 0.1049078, F1: 0.0767683, HIT_RATE: 0.3946044, ARHR_ALL_HITS: 0.2260166, NOVELTY: 0.0047113, AVERAGE_POPULARITY: 0.2387150, DIVERSITY_MEAN_INTER_LIST: 0.9707297, DIVERSITY_HERFINDAHL: 0.9970632, COVERAGE_ITEM: 0.0661357, COVERAGE_ITEM_HIT: 0.0361106, ITEMS_IN_GT: 0.7219885, COVERAGE_USER: 0.7626871, COVERAGE_USER_HIT: 0.3009597, USERS_IN_GT: 0.7626871, DIVERSITY_GINI: 0.0165800, SHANNON_ENTROPY: 8.9597196, RATIO_DIVERSITY_HERFINDAHL: 0.9974240, RATIO_DIVERSITY_GINI: 0.0477112, RATIO_SHANNON_ENTROPY: 0.6900669, RATIO_AVERAGE_POPULARITY: 2.0115079, RATIO_NOVELTY: 0.2595657, \n",
      "\n",
      "IALSRecommender: New best model found! Updating.\n",
      "IALSRecommender: Epoch 15 of 65. Elapsed time 2.12 min\n",
      "IALSRecommender: Epoch 16 of 65. Elapsed time 2.24 min\n",
      "IALSRecommender: Epoch 17 of 65. Elapsed time 2.36 min\n",
      "IALSRecommender: Epoch 18 of 65. Elapsed time 2.48 min\n",
      "IALSRecommender: Epoch 19 of 65. Elapsed time 2.60 min\n",
      "IALSRecommender: Validation begins...\n",
      "EvaluatorHoldout: Processed 9934 (100.0%) in 5.79 sec. Users per second: 1716\n",
      "IALSRecommender: CUTOFF: 10 - PRECISION: 0.0579022, PRECISION_RECALL_MIN_DEN: 0.1228455, RECALL: 0.1127277, MAP: 0.0274671, MAP_MIN_DEN: 0.0580463, MRR: 0.1884969, NDCG: 0.1049233, F1: 0.0765069, HIT_RATE: 0.3934971, ARHR_ALL_HITS: 0.2266493, NOVELTY: 0.0047136, AVERAGE_POPULARITY: 0.2379142, DIVERSITY_MEAN_INTER_LIST: 0.9708941, DIVERSITY_HERFINDAHL: 0.9970796, COVERAGE_ITEM: 0.0663147, COVERAGE_ITEM_HIT: 0.0362449, ITEMS_IN_GT: 0.7219885, COVERAGE_USER: 0.7626871, COVERAGE_USER_HIT: 0.3001152, USERS_IN_GT: 0.7626871, DIVERSITY_GINI: 0.0166763, SHANNON_ENTROPY: 8.9680893, RATIO_DIVERSITY_HERFINDAHL: 0.9974404, RATIO_DIVERSITY_GINI: 0.0479884, RATIO_SHANNON_ENTROPY: 0.6907115, RATIO_AVERAGE_POPULARITY: 2.0047600, RATIO_NOVELTY: 0.2596919, \n",
      "\n",
      "IALSRecommender: New best model found! Updating.\n",
      "IALSRecommender: Epoch 20 of 65. Elapsed time 2.82 min\n",
      "IALSRecommender: Epoch 21 of 65. Elapsed time 2.94 min\n",
      "IALSRecommender: Epoch 22 of 65. Elapsed time 3.06 min\n",
      "IALSRecommender: Epoch 23 of 65. Elapsed time 3.18 min\n",
      "IALSRecommender: Epoch 24 of 65. Elapsed time 3.30 min\n",
      "IALSRecommender: Validation begins...\n",
      "EvaluatorHoldout: Processed 9934 (100.0%) in 5.74 sec. Users per second: 1731\n",
      "IALSRecommender: CUTOFF: 10 - PRECISION: 0.0583451, PRECISION_RECALL_MIN_DEN: 0.1234409, RECALL: 0.1132138, MAP: 0.0276052, MAP_MIN_DEN: 0.0583635, MRR: 0.1892111, NDCG: 0.1054664, F1: 0.0770053, HIT_RATE: 0.3961144, ARHR_ALL_HITS: 0.2276183, NOVELTY: 0.0047150, AVERAGE_POPULARITY: 0.2373177, DIVERSITY_MEAN_INTER_LIST: 0.9709755, DIVERSITY_HERFINDAHL: 0.9970878, COVERAGE_ITEM: 0.0664489, COVERAGE_ITEM_HIT: 0.0364686, ITEMS_IN_GT: 0.7219885, COVERAGE_USER: 0.7626871, COVERAGE_USER_HIT: 0.3021113, USERS_IN_GT: 0.7626871, DIVERSITY_GINI: 0.0167217, SHANNON_ENTROPY: 8.9719999, RATIO_DIVERSITY_HERFINDAHL: 0.9974486, RATIO_DIVERSITY_GINI: 0.0481192, RATIO_SHANNON_ENTROPY: 0.6910127, RATIO_AVERAGE_POPULARITY: 1.9997338, RATIO_NOVELTY: 0.2597686, \n",
      "\n",
      "IALSRecommender: New best model found! Updating.\n",
      "IALSRecommender: Epoch 25 of 65. Elapsed time 3.51 min\n",
      "IALSRecommender: Epoch 26 of 65. Elapsed time 3.63 min\n",
      "IALSRecommender: Epoch 27 of 65. Elapsed time 3.76 min\n",
      "IALSRecommender: Epoch 28 of 65. Elapsed time 3.88 min\n",
      "IALSRecommender: Epoch 29 of 65. Elapsed time 4.00 min\n",
      "IALSRecommender: Validation begins...\n",
      "EvaluatorHoldout: Processed 9934 (100.0%) in 5.76 sec. Users per second: 1724\n",
      "IALSRecommender: CUTOFF: 10 - PRECISION: 0.0584759, PRECISION_RECALL_MIN_DEN: 0.1238355, RECALL: 0.1135807, MAP: 0.0276203, MAP_MIN_DEN: 0.0583648, MRR: 0.1893014, NDCG: 0.1055945, F1: 0.0772041, HIT_RATE: 0.3976243, ARHR_ALL_HITS: 0.2277415, NOVELTY: 0.0047155, AVERAGE_POPULARITY: 0.2372145, DIVERSITY_MEAN_INTER_LIST: 0.9710168, DIVERSITY_HERFINDAHL: 0.9970919, COVERAGE_ITEM: 0.0665384, COVERAGE_ITEM_HIT: 0.0363343, ITEMS_IN_GT: 0.7219885, COVERAGE_USER: 0.7626871, COVERAGE_USER_HIT: 0.3032630, USERS_IN_GT: 0.7626871, DIVERSITY_GINI: 0.0167415, SHANNON_ENTROPY: 8.9737661, RATIO_DIVERSITY_HERFINDAHL: 0.9974527, RATIO_DIVERSITY_GINI: 0.0481761, RATIO_SHANNON_ENTROPY: 0.6911487, RATIO_AVERAGE_POPULARITY: 1.9988641, RATIO_NOVELTY: 0.2597969, \n",
      "\n",
      "IALSRecommender: New best model found! Updating.\n",
      "IALSRecommender: Epoch 30 of 65. Elapsed time 4.21 min\n",
      "IALSRecommender: Epoch 31 of 65. Elapsed time 4.33 min\n",
      "IALSRecommender: Epoch 32 of 65. Elapsed time 4.45 min\n",
      "IALSRecommender: Epoch 33 of 65. Elapsed time 4.57 min\n",
      "IALSRecommender: Epoch 34 of 65. Elapsed time 4.69 min\n",
      "IALSRecommender: Validation begins...\n",
      "EvaluatorHoldout: Processed 9934 (100.0%) in 5.79 sec. Users per second: 1716\n",
      "IALSRecommender: CUTOFF: 10 - PRECISION: 0.0585766, PRECISION_RECALL_MIN_DEN: 0.1239441, RECALL: 0.1136223, MAP: 0.0276914, MAP_MIN_DEN: 0.0584646, MRR: 0.1890275, NDCG: 0.1056958, F1: 0.0773014, HIT_RATE: 0.3960137, ARHR_ALL_HITS: 0.2279559, NOVELTY: 0.0047155, AVERAGE_POPULARITY: 0.2372530, DIVERSITY_MEAN_INTER_LIST: 0.9710005, DIVERSITY_HERFINDAHL: 0.9970903, COVERAGE_ITEM: 0.0666279, COVERAGE_ITEM_HIT: 0.0366923, ITEMS_IN_GT: 0.7219885, COVERAGE_USER: 0.7626871, COVERAGE_USER_HIT: 0.3020345, USERS_IN_GT: 0.7626871, DIVERSITY_GINI: 0.0167425, SHANNON_ENTROPY: 8.9737176, RATIO_DIVERSITY_HERFINDAHL: 0.9974511, RATIO_DIVERSITY_GINI: 0.0481790, RATIO_SHANNON_ENTROPY: 0.6911450, RATIO_AVERAGE_POPULARITY: 1.9991887, RATIO_NOVELTY: 0.2597934, \n",
      "\n",
      "IALSRecommender: New best model found! Updating.\n",
      "IALSRecommender: Epoch 35 of 65. Elapsed time 4.91 min\n"
     ]
    },
    {
     "name": "stdout",
     "output_type": "stream",
     "text": [
      "IALSRecommender: Epoch 36 of 65. Elapsed time 5.03 min\n",
      "IALSRecommender: Epoch 37 of 65. Elapsed time 5.15 min\n",
      "IALSRecommender: Epoch 38 of 65. Elapsed time 5.27 min\n",
      "IALSRecommender: Epoch 39 of 65. Elapsed time 5.39 min\n",
      "IALSRecommender: Validation begins...\n",
      "EvaluatorHoldout: Processed 9934 (100.0%) in 5.81 sec. Users per second: 1711\n",
      "IALSRecommender: CUTOFF: 10 - PRECISION: 0.0587175, PRECISION_RECALL_MIN_DEN: 0.1247100, RECALL: 0.1144124, MAP: 0.0277097, MAP_MIN_DEN: 0.0585970, MRR: 0.1893484, NDCG: 0.1059894, F1: 0.0776066, HIT_RATE: 0.3981276, ARHR_ALL_HITS: 0.2282124, NOVELTY: 0.0047159, AVERAGE_POPULARITY: 0.2371004, DIVERSITY_MEAN_INTER_LIST: 0.9710412, DIVERSITY_HERFINDAHL: 0.9970943, COVERAGE_ITEM: 0.0663594, COVERAGE_ITEM_HIT: 0.0365581, ITEMS_IN_GT: 0.7219885, COVERAGE_USER: 0.7626871, COVERAGE_USER_HIT: 0.3036468, USERS_IN_GT: 0.7626871, DIVERSITY_GINI: 0.0167493, SHANNON_ENTROPY: 8.9745046, RATIO_DIVERSITY_HERFINDAHL: 0.9974552, RATIO_DIVERSITY_GINI: 0.0481986, RATIO_SHANNON_ENTROPY: 0.6912056, RATIO_AVERAGE_POPULARITY: 1.9979029, RATIO_NOVELTY: 0.2598187, \n",
      "\n",
      "IALSRecommender: New best model found! Updating.\n",
      "IALSRecommender: Epoch 40 of 65. Elapsed time 5.60 min\n",
      "IALSRecommender: Epoch 41 of 65. Elapsed time 5.72 min\n",
      "IALSRecommender: Epoch 42 of 65. Elapsed time 5.84 min\n",
      "IALSRecommender: Epoch 43 of 65. Elapsed time 5.96 min\n",
      "IALSRecommender: Epoch 44 of 65. Elapsed time 6.08 min\n",
      "IALSRecommender: Validation begins...\n",
      "EvaluatorHoldout: Processed 9934 (100.0%) in 5.81 sec. Users per second: 1710\n",
      "IALSRecommender: CUTOFF: 10 - PRECISION: 0.0586672, PRECISION_RECALL_MIN_DEN: 0.1244235, RECALL: 0.1141332, MAP: 0.0277392, MAP_MIN_DEN: 0.0586464, MRR: 0.1895617, NDCG: 0.1059681, F1: 0.0774984, HIT_RATE: 0.3977250, ARHR_ALL_HITS: 0.2284629, NOVELTY: 0.0047160, AVERAGE_POPULARITY: 0.2371915, DIVERSITY_MEAN_INTER_LIST: 0.9710622, DIVERSITY_HERFINDAHL: 0.9970964, COVERAGE_ITEM: 0.0667174, COVERAGE_ITEM_HIT: 0.0367371, ITEMS_IN_GT: 0.7219885, COVERAGE_USER: 0.7626871, COVERAGE_USER_HIT: 0.3033397, USERS_IN_GT: 0.7626871, DIVERSITY_GINI: 0.0167675, SHANNON_ENTROPY: 8.9759950, RATIO_DIVERSITY_HERFINDAHL: 0.9974572, RATIO_DIVERSITY_GINI: 0.0482508, RATIO_SHANNON_ENTROPY: 0.6913204, RATIO_AVERAGE_POPULARITY: 1.9986701, RATIO_NOVELTY: 0.2598219, \n",
      "\n",
      "IALSRecommender: New best model found! Updating.\n",
      "IALSRecommender: Epoch 45 of 65. Elapsed time 6.30 min\n",
      "IALSRecommender: Epoch 46 of 65. Elapsed time 6.41 min\n",
      "IALSRecommender: Epoch 47 of 65. Elapsed time 6.53 min\n",
      "IALSRecommender: Epoch 48 of 65. Elapsed time 6.66 min\n",
      "IALSRecommender: Epoch 49 of 65. Elapsed time 6.78 min\n",
      "IALSRecommender: Validation begins...\n",
      "EvaluatorHoldout: Processed 9934 (100.0%) in 5.78 sec. Users per second: 1720\n",
      "IALSRecommender: CUTOFF: 10 - PRECISION: 0.0585061, PRECISION_RECALL_MIN_DEN: 0.1243731, RECALL: 0.1141770, MAP: 0.0277236, MAP_MIN_DEN: 0.0585781, MRR: 0.1897401, NDCG: 0.1058805, F1: 0.0773678, HIT_RATE: 0.3976243, ARHR_ALL_HITS: 0.2284887, NOVELTY: 0.0047165, AVERAGE_POPULARITY: 0.2369632, DIVERSITY_MEAN_INTER_LIST: 0.9711130, DIVERSITY_HERFINDAHL: 0.9971015, COVERAGE_ITEM: 0.0666726, COVERAGE_ITEM_HIT: 0.0366028, ITEMS_IN_GT: 0.7219885, COVERAGE_USER: 0.7626871, COVERAGE_USER_HIT: 0.3032630, USERS_IN_GT: 0.7626871, DIVERSITY_GINI: 0.0167875, SHANNON_ENTROPY: 8.9778644, RATIO_DIVERSITY_HERFINDAHL: 0.9974623, RATIO_DIVERSITY_GINI: 0.0483085, RATIO_SHANNON_ENTROPY: 0.6914643, RATIO_AVERAGE_POPULARITY: 1.9967464, RATIO_NOVELTY: 0.2598514, \n",
      "\n",
      "IALSRecommender: Epoch 50 of 65. Elapsed time 7.00 min\n",
      "IALSRecommender: Epoch 51 of 65. Elapsed time 7.12 min\n",
      "IALSRecommender: Epoch 52 of 65. Elapsed time 7.24 min\n",
      "IALSRecommender: Epoch 53 of 65. Elapsed time 7.36 min\n",
      "IALSRecommender: Epoch 54 of 65. Elapsed time 7.48 min\n",
      "IALSRecommender: Validation begins...\n",
      "EvaluatorHoldout: Processed 9934 (100.0%) in 5.80 sec. Users per second: 1713\n",
      "IALSRecommender: CUTOFF: 10 - PRECISION: 0.0586370, PRECISION_RECALL_MIN_DEN: 0.1243698, RECALL: 0.1140906, MAP: 0.0277263, MAP_MIN_DEN: 0.0585769, MRR: 0.1895938, NDCG: 0.1059049, F1: 0.0774622, HIT_RATE: 0.3978256, ARHR_ALL_HITS: 0.2284050, NOVELTY: 0.0047166, AVERAGE_POPULARITY: 0.2369046, DIVERSITY_MEAN_INTER_LIST: 0.9711268, DIVERSITY_HERFINDAHL: 0.9971029, COVERAGE_ITEM: 0.0668516, COVERAGE_ITEM_HIT: 0.0367818, ITEMS_IN_GT: 0.7219885, COVERAGE_USER: 0.7626871, COVERAGE_USER_HIT: 0.3034165, USERS_IN_GT: 0.7626871, DIVERSITY_GINI: 0.0167900, SHANNON_ENTROPY: 8.9782090, RATIO_DIVERSITY_HERFINDAHL: 0.9974637, RATIO_DIVERSITY_GINI: 0.0483157, RATIO_SHANNON_ENTROPY: 0.6914909, RATIO_AVERAGE_POPULARITY: 1.9962532, RATIO_NOVELTY: 0.2598580, \n",
      "\n",
      "IALSRecommender: Epoch 55 of 65. Elapsed time 7.70 min\n",
      "IALSRecommender: Epoch 56 of 65. Elapsed time 7.81 min\n",
      "IALSRecommender: Epoch 57 of 65. Elapsed time 7.93 min\n",
      "IALSRecommender: Epoch 58 of 65. Elapsed time 8.06 min\n",
      "IALSRecommender: Epoch 59 of 65. Elapsed time 8.18 min\n",
      "IALSRecommender: Validation begins...\n",
      "EvaluatorHoldout: Processed 9934 (100.0%) in 5.81 sec. Users per second: 1709\n",
      "IALSRecommender: CUTOFF: 10 - PRECISION: 0.0585766, PRECISION_RECALL_MIN_DEN: 0.1241430, RECALL: 0.1139024, MAP: 0.0276375, MAP_MIN_DEN: 0.0583249, MRR: 0.1889263, NDCG: 0.1055961, F1: 0.0773661, HIT_RATE: 0.3976243, ARHR_ALL_HITS: 0.2276719, NOVELTY: 0.0047169, AVERAGE_POPULARITY: 0.2368591, DIVERSITY_MEAN_INTER_LIST: 0.9711400, DIVERSITY_HERFINDAHL: 0.9971042, COVERAGE_ITEM: 0.0669859, COVERAGE_ITEM_HIT: 0.0366923, ITEMS_IN_GT: 0.7219885, COVERAGE_USER: 0.7626871, COVERAGE_USER_HIT: 0.3032630, USERS_IN_GT: 0.7626871, DIVERSITY_GINI: 0.0168049, SHANNON_ENTROPY: 8.9793897, RATIO_DIVERSITY_HERFINDAHL: 0.9974650, RATIO_DIVERSITY_GINI: 0.0483584, RATIO_SHANNON_ENTROPY: 0.6915818, RATIO_AVERAGE_POPULARITY: 1.9958690, RATIO_NOVELTY: 0.2598716, \n",
      "\n",
      "IALSRecommender: Epoch 60 of 65. Elapsed time 8.39 min\n",
      "IALSRecommender: Epoch 61 of 65. Elapsed time 8.51 min\n",
      "IALSRecommender: Epoch 62 of 65. Elapsed time 8.63 min\n",
      "IALSRecommender: Epoch 63 of 65. Elapsed time 8.76 min\n",
      "IALSRecommender: Epoch 64 of 65. Elapsed time 8.88 min\n",
      "IALSRecommender: Validation begins...\n",
      "EvaluatorHoldout: Processed 9934 (100.0%) in 5.80 sec. Users per second: 1712\n",
      "IALSRecommender: CUTOFF: 10 - PRECISION: 0.0585665, PRECISION_RECALL_MIN_DEN: 0.1240181, RECALL: 0.1137783, MAP: 0.0277244, MAP_MIN_DEN: 0.0584844, MRR: 0.1895339, NDCG: 0.1057428, F1: 0.0773287, HIT_RATE: 0.3972217, ARHR_ALL_HITS: 0.2283815, NOVELTY: 0.0047163, AVERAGE_POPULARITY: 0.2370762, DIVERSITY_MEAN_INTER_LIST: 0.9711012, DIVERSITY_HERFINDAHL: 0.9971003, COVERAGE_ITEM: 0.0668964, COVERAGE_ITEM_HIT: 0.0365133, ITEMS_IN_GT: 0.7219885, COVERAGE_USER: 0.7626871, COVERAGE_USER_HIT: 0.3029559, USERS_IN_GT: 0.7626871, DIVERSITY_GINI: 0.0167900, SHANNON_ENTROPY: 8.9780231, RATIO_DIVERSITY_HERFINDAHL: 0.9974612, RATIO_DIVERSITY_GINI: 0.0483156, RATIO_SHANNON_ENTROPY: 0.6914766, RATIO_AVERAGE_POPULARITY: 1.9976985, RATIO_NOVELTY: 0.2598415, \n",
      "\n",
      "IALSRecommender: Epoch 65 of 65. Elapsed time 9.10 min\n",
      "IALSRecommender: Terminating at epoch 65. Best value for 'MAP' at epoch 45 is 0.0277. Elapsed time 9.10 min\n",
      "EvaluatorHoldout: Processed 9934 (100.0%) in 5.78 sec. Users per second: 1718\n"
     ]
    },
    {
     "name": "stderr",
     "output_type": "stream",
     "text": [
      "[I 2023-12-06 14:27:23,589] Trial 1 finished with value: 0.02773916180122147 and parameters: {'epochs': 65, 'num_factors': 109, 'reg': 0.08900329900255347, 'alpha': 2.612784491304448}. Best is trial 1 with value: 0.02773916180122147.\n"
     ]
    },
    {
     "name": "stdout",
     "output_type": "stream",
     "text": [
      "IALSRecommender: URM Detected 550 ( 4.2%) users with no interactions.\n",
      "IALSRecommender: URM Detected 206 ( 0.9%) items with no interactions.\n",
      "IALSRecommender: Epoch 1 of 39. Elapsed time 5.88 sec\n",
      "IALSRecommender: Epoch 2 of 39. Elapsed time 11.76 sec\n",
      "IALSRecommender: Epoch 3 of 39. Elapsed time 17.59 sec\n",
      "IALSRecommender: Epoch 4 of 39. Elapsed time 23.62 sec\n",
      "IALSRecommender: Validation begins...\n",
      "EvaluatorHoldout: Processed 9934 (100.0%) in 5.77 sec. Users per second: 1722\n",
      "IALSRecommender: CUTOFF: 10 - PRECISION: 0.0559493, PRECISION_RECALL_MIN_DEN: 0.1198911, RECALL: 0.1102280, MAP: 0.0261488, MAP_MIN_DEN: 0.0563494, MRR: 0.1811887, NDCG: 0.1016141, F1: 0.0742241, HIT_RATE: 0.3841353, ARHR_ALL_HITS: 0.2165856, NOVELTY: 0.0046492, AVERAGE_POPULARITY: 0.2633690, DIVERSITY_MEAN_INTER_LIST: 0.9650597, DIVERSITY_HERFINDAHL: 0.9964963, COVERAGE_ITEM: 0.0596026, COVERAGE_ITEM_HIT: 0.0324861, ITEMS_IN_GT: 0.7219885, COVERAGE_USER: 0.7626871, COVERAGE_USER_HIT: 0.2929750, USERS_IN_GT: 0.7626871, DIVERSITY_GINI: 0.0143749, SHANNON_ENTROPY: 8.7457553, RATIO_DIVERSITY_HERFINDAHL: 0.9968568, RATIO_DIVERSITY_GINI: 0.0413658, RATIO_SHANNON_ENTROPY: 0.6735876, RATIO_AVERAGE_POPULARITY: 2.2192526, RATIO_NOVELTY: 0.2561441, \n",
      "\n",
      "IALSRecommender: New best model found! Updating.\n",
      "IALSRecommender: Epoch 5 of 39. Elapsed time 35.28 sec\n",
      "IALSRecommender: Epoch 6 of 39. Elapsed time 41.37 sec\n",
      "IALSRecommender: Epoch 7 of 39. Elapsed time 47.49 sec\n",
      "IALSRecommender: Epoch 8 of 39. Elapsed time 53.53 sec\n",
      "IALSRecommender: Epoch 9 of 39. Elapsed time 59.69 sec\n",
      "IALSRecommender: Validation begins...\n",
      "EvaluatorHoldout: Processed 9934 (100.0%) in 5.78 sec. Users per second: 1719\n",
      "IALSRecommender: CUTOFF: 10 - PRECISION: 0.0576002, PRECISION_RECALL_MIN_DEN: 0.1234902, RECALL: 0.1134154, MAP: 0.0271679, MAP_MIN_DEN: 0.0576733, MRR: 0.1864483, NDCG: 0.1043707, F1: 0.0763994, HIT_RATE: 0.3920878, ARHR_ALL_HITS: 0.2240333, NOVELTY: 0.0046743, AVERAGE_POPULARITY: 0.2536650, DIVERSITY_MEAN_INTER_LIST: 0.9674826, DIVERSITY_HERFINDAHL: 0.9967385, COVERAGE_ITEM: 0.0621980, COVERAGE_ITEM_HIT: 0.0345892, ITEMS_IN_GT: 0.7219885, COVERAGE_USER: 0.7626871, COVERAGE_USER_HIT: 0.2990403, USERS_IN_GT: 0.7626871, DIVERSITY_GINI: 0.0152921, SHANNON_ENTROPY: 8.8373436, RATIO_DIVERSITY_HERFINDAHL: 0.9970992, RATIO_DIVERSITY_GINI: 0.0440051, RATIO_SHANNON_ENTROPY: 0.6806416, RATIO_AVERAGE_POPULARITY: 2.1374823, RATIO_NOVELTY: 0.2575235, \n",
      "\n",
      "IALSRecommender: New best model found! Updating.\n",
      "IALSRecommender: Epoch 10 of 39. Elapsed time 1.19 min\n",
      "IALSRecommender: Epoch 11 of 39. Elapsed time 1.29 min\n",
      "IALSRecommender: Epoch 12 of 39. Elapsed time 1.39 min\n",
      "IALSRecommender: Epoch 13 of 39. Elapsed time 1.49 min\n",
      "IALSRecommender: Epoch 14 of 39. Elapsed time 1.59 min\n",
      "IALSRecommender: Validation begins...\n",
      "EvaluatorHoldout: Processed 9934 (100.0%) in 5.81 sec. Users per second: 1710\n",
      "IALSRecommender: CUTOFF: 10 - PRECISION: 0.0580632, PRECISION_RECALL_MIN_DEN: 0.1245179, RECALL: 0.1143571, MAP: 0.0273667, MAP_MIN_DEN: 0.0581979, MRR: 0.1882495, NDCG: 0.1053078, F1: 0.0770204, HIT_RATE: 0.3958124, ARHR_ALL_HITS: 0.2259491, NOVELTY: 0.0046782, AVERAGE_POPULARITY: 0.2520369, DIVERSITY_MEAN_INTER_LIST: 0.9678559, DIVERSITY_HERFINDAHL: 0.9967758, COVERAGE_ITEM: 0.0629587, COVERAGE_ITEM_HIT: 0.0344997, ITEMS_IN_GT: 0.7219885, COVERAGE_USER: 0.7626871, COVERAGE_USER_HIT: 0.3018810, USERS_IN_GT: 0.7626871, DIVERSITY_GINI: 0.0154484, SHANNON_ENTROPY: 8.8523989, RATIO_DIVERSITY_HERFINDAHL: 0.9971365, RATIO_DIVERSITY_GINI: 0.0444549, RATIO_SHANNON_ENTROPY: 0.6818011, RATIO_AVERAGE_POPULARITY: 2.1237631, RATIO_NOVELTY: 0.2577412, \n",
      "\n",
      "IALSRecommender: New best model found! Updating.\n",
      "IALSRecommender: Epoch 15 of 39. Elapsed time 1.79 min\n",
      "IALSRecommender: Epoch 16 of 39. Elapsed time 1.88 min\n",
      "IALSRecommender: Epoch 17 of 39. Elapsed time 1.98 min\n",
      "IALSRecommender: Epoch 18 of 39. Elapsed time 2.08 min\n",
      "IALSRecommender: Epoch 19 of 39. Elapsed time 2.18 min\n",
      "IALSRecommender: Validation begins...\n",
      "EvaluatorHoldout: Processed 9934 (100.0%) in 5.74 sec. Users per second: 1730\n",
      "IALSRecommender: CUTOFF: 10 - PRECISION: 0.0580934, PRECISION_RECALL_MIN_DEN: 0.1250079, RECALL: 0.1148746, MAP: 0.0272548, MAP_MIN_DEN: 0.0580199, MRR: 0.1881550, NDCG: 0.1053123, F1: 0.0771641, HIT_RATE: 0.3970203, ARHR_ALL_HITS: 0.2255374, NOVELTY: 0.0046799, AVERAGE_POPULARITY: 0.2513361, DIVERSITY_MEAN_INTER_LIST: 0.9680488, DIVERSITY_HERFINDAHL: 0.9967951, COVERAGE_ITEM: 0.0633614, COVERAGE_ITEM_HIT: 0.0348130, ITEMS_IN_GT: 0.7219885, COVERAGE_USER: 0.7626871, COVERAGE_USER_HIT: 0.3028023, USERS_IN_GT: 0.7626871, DIVERSITY_GINI: 0.0155018, SHANNON_ENTROPY: 8.8580790, RATIO_DIVERSITY_HERFINDAHL: 0.9971558, RATIO_DIVERSITY_GINI: 0.0446088, RATIO_SHANNON_ENTROPY: 0.6822386, RATIO_AVERAGE_POPULARITY: 2.1178579, RATIO_NOVELTY: 0.2578357, \n",
      "\n",
      "IALSRecommender: Epoch 20 of 39. Elapsed time 2.37 min\n",
      "IALSRecommender: Epoch 21 of 39. Elapsed time 2.47 min\n",
      "IALSRecommender: Epoch 22 of 39. Elapsed time 2.57 min\n",
      "IALSRecommender: Epoch 23 of 39. Elapsed time 2.67 min\n",
      "IALSRecommender: Epoch 24 of 39. Elapsed time 2.77 min\n",
      "IALSRecommender: Validation begins...\n",
      "EvaluatorHoldout: Processed 9934 (100.0%) in 5.78 sec. Users per second: 1720\n",
      "IALSRecommender: CUTOFF: 10 - PRECISION: 0.0581739, PRECISION_RECALL_MIN_DEN: 0.1248144, RECALL: 0.1146380, MAP: 0.0271968, MAP_MIN_DEN: 0.0578152, MRR: 0.1876382, NDCG: 0.1051172, F1: 0.0771815, HIT_RATE: 0.3981276, ARHR_ALL_HITS: 0.2249997, NOVELTY: 0.0046801, AVERAGE_POPULARITY: 0.2512854, DIVERSITY_MEAN_INTER_LIST: 0.9680570, DIVERSITY_HERFINDAHL: 0.9967960, COVERAGE_ITEM: 0.0630929, COVERAGE_ITEM_HIT: 0.0351262, ITEMS_IN_GT: 0.7219885, COVERAGE_USER: 0.7626871, COVERAGE_USER_HIT: 0.3036468, USERS_IN_GT: 0.7626871, DIVERSITY_GINI: 0.0154977, SHANNON_ENTROPY: 8.8578415, RATIO_DIVERSITY_HERFINDAHL: 0.9971567, RATIO_DIVERSITY_GINI: 0.0445969, RATIO_SHANNON_ENTROPY: 0.6822203, RATIO_AVERAGE_POPULARITY: 2.1174307, RATIO_NOVELTY: 0.2578431, \n",
      "\n",
      "IALSRecommender: Epoch 25 of 39. Elapsed time 2.97 min\n",
      "IALSRecommender: Epoch 26 of 39. Elapsed time 3.06 min\n",
      "IALSRecommender: Epoch 27 of 39. Elapsed time 3.16 min\n",
      "IALSRecommender: Epoch 28 of 39. Elapsed time 3.26 min\n",
      "IALSRecommender: Epoch 29 of 39. Elapsed time 3.36 min\n",
      "IALSRecommender: Validation begins...\n",
      "EvaluatorHoldout: Processed 9934 (100.0%) in 5.82 sec. Users per second: 1707\n",
      "IALSRecommender: CUTOFF: 10 - PRECISION: 0.0582545, PRECISION_RECALL_MIN_DEN: 0.1253119, RECALL: 0.1151472, MAP: 0.0271876, MAP_MIN_DEN: 0.0580034, MRR: 0.1877132, NDCG: 0.1053702, F1: 0.0773677, HIT_RATE: 0.3989330, ARHR_ALL_HITS: 0.2250515, NOVELTY: 0.0046805, AVERAGE_POPULARITY: 0.2511665, DIVERSITY_MEAN_INTER_LIST: 0.9680765, DIVERSITY_HERFINDAHL: 0.9967979, COVERAGE_ITEM: 0.0626454, COVERAGE_ITEM_HIT: 0.0352157, ITEMS_IN_GT: 0.7219885, COVERAGE_USER: 0.7626871, COVERAGE_USER_HIT: 0.3042610, USERS_IN_GT: 0.7626871, DIVERSITY_GINI: 0.0155086, SHANNON_ENTROPY: 8.8587851, RATIO_DIVERSITY_HERFINDAHL: 0.9971586, RATIO_DIVERSITY_GINI: 0.0446282, RATIO_SHANNON_ENTROPY: 0.6822930, RATIO_AVERAGE_POPULARITY: 2.1164294, RATIO_NOVELTY: 0.2578680, \n",
      "\n",
      "IALSRecommender: Epoch 30 of 39. Elapsed time 3.56 min\n",
      "IALSRecommender: Epoch 31 of 39. Elapsed time 3.66 min\n",
      "IALSRecommender: Epoch 32 of 39. Elapsed time 3.76 min\n",
      "IALSRecommender: Epoch 33 of 39. Elapsed time 3.86 min\n",
      "IALSRecommender: Epoch 34 of 39. Elapsed time 3.96 min\n",
      "IALSRecommender: Validation begins...\n",
      "EvaluatorHoldout: Processed 9934 (100.0%) in 5.75 sec. Users per second: 1728\n",
      "IALSRecommender: CUTOFF: 10 - PRECISION: 0.0582142, PRECISION_RECALL_MIN_DEN: 0.1248013, RECALL: 0.1146357, MAP: 0.0272760, MAP_MIN_DEN: 0.0582843, MRR: 0.1886381, NDCG: 0.1055357, F1: 0.0772164, HIT_RATE: 0.3975237, ARHR_ALL_HITS: 0.2259109, NOVELTY: 0.0046812, AVERAGE_POPULARITY: 0.2509820, DIVERSITY_MEAN_INTER_LIST: 0.9681501, DIVERSITY_HERFINDAHL: 0.9968053, COVERAGE_ITEM: 0.0627349, COVERAGE_ITEM_HIT: 0.0351262, ITEMS_IN_GT: 0.7219885, COVERAGE_USER: 0.7626871, COVERAGE_USER_HIT: 0.3031862, USERS_IN_GT: 0.7626871, DIVERSITY_GINI: 0.0155363, SHANNON_ENTROPY: 8.8615636, RATIO_DIVERSITY_HERFINDAHL: 0.9971660, RATIO_DIVERSITY_GINI: 0.0447080, RATIO_SHANNON_ENTROPY: 0.6825070, RATIO_AVERAGE_POPULARITY: 2.1148745, RATIO_NOVELTY: 0.2579086, \n",
      "\n",
      "IALSRecommender: Epoch 35 of 39. Elapsed time 4.16 min\n"
     ]
    },
    {
     "name": "stdout",
     "output_type": "stream",
     "text": [
      "IALSRecommender: Epoch 36 of 39. Elapsed time 4.25 min\n",
      "IALSRecommender: Epoch 37 of 39. Elapsed time 4.35 min\n",
      "IALSRecommender: Epoch 38 of 39. Elapsed time 4.45 min\n",
      "IALSRecommender: Epoch 39 of 39. Elapsed time 4.55 min\n",
      "IALSRecommender: Terminating at epoch 39. Best value for 'MAP' at epoch 15 is 0.0274. Elapsed time 4.55 min\n",
      "EvaluatorHoldout: Processed 9934 (100.0%) in 5.80 sec. Users per second: 1713\n"
     ]
    },
    {
     "name": "stderr",
     "output_type": "stream",
     "text": [
      "[I 2023-12-06 14:32:02,438] Trial 2 finished with value: 0.02736671156617814 and parameters: {'epochs': 39, 'num_factors': 95, 'reg': 0.08877220492514754, 'alpha': 3.0024262772807475}. Best is trial 1 with value: 0.02773916180122147.\n"
     ]
    },
    {
     "name": "stdout",
     "output_type": "stream",
     "text": [
      "IALSRecommender: URM Detected 550 ( 4.2%) users with no interactions.\n",
      "IALSRecommender: URM Detected 206 ( 0.9%) items with no interactions.\n",
      "IALSRecommender: Epoch 1 of 85. Elapsed time 2.61 sec\n",
      "IALSRecommender: Epoch 2 of 85. Elapsed time 5.19 sec\n",
      "IALSRecommender: Epoch 3 of 85. Elapsed time 7.79 sec\n",
      "IALSRecommender: Epoch 4 of 85. Elapsed time 10.38 sec\n",
      "IALSRecommender: Validation begins...\n",
      "EvaluatorHoldout: Processed 9934 (100.0%) in 5.60 sec. Users per second: 1774\n",
      "IALSRecommender: CUTOFF: 10 - PRECISION: 0.0535031, PRECISION_RECALL_MIN_DEN: 0.1143424, RECALL: 0.1049771, MAP: 0.0243882, MAP_MIN_DEN: 0.0522038, MRR: 0.1711855, NDCG: 0.0958650, F1: 0.0708808, HIT_RATE: 0.3750755, ARHR_ALL_HITS: 0.2036204, NOVELTY: 0.0045173, AVERAGE_POPULARITY: 0.3179594, DIVERSITY_MEAN_INTER_LIST: 0.9456773, DIVERSITY_HERFINDAHL: 0.9945582, COVERAGE_ITEM: 0.0421067, COVERAGE_ITEM_HIT: 0.0243870, ITEMS_IN_GT: 0.7219885, COVERAGE_USER: 0.7626871, COVERAGE_USER_HIT: 0.2860653, USERS_IN_GT: 0.7626871, DIVERSITY_GINI: 0.0099401, SHANNON_ENTROPY: 8.1926392, RATIO_DIVERSITY_HERFINDAHL: 0.9949181, RATIO_DIVERSITY_GINI: 0.0286041, RATIO_SHANNON_ENTROPY: 0.6309872, RATIO_AVERAGE_POPULARITY: 2.6792531, RATIO_NOVELTY: 0.2488765, \n",
      "\n",
      "IALSRecommender: New best model found! Updating.\n",
      "IALSRecommender: Epoch 5 of 85. Elapsed time 18.63 sec\n",
      "IALSRecommender: Epoch 6 of 85. Elapsed time 21.27 sec\n",
      "IALSRecommender: Epoch 7 of 85. Elapsed time 23.89 sec\n",
      "IALSRecommender: Epoch 8 of 85. Elapsed time 26.53 sec\n",
      "IALSRecommender: Epoch 9 of 85. Elapsed time 29.16 sec\n",
      "IALSRecommender: Validation begins...\n",
      "EvaluatorHoldout: Processed 9934 (100.0%) in 5.55 sec. Users per second: 1791\n",
      "IALSRecommender: CUTOFF: 10 - PRECISION: 0.0554258, PRECISION_RECALL_MIN_DEN: 0.1178992, RECALL: 0.1079967, MAP: 0.0253621, MAP_MIN_DEN: 0.0535936, MRR: 0.1764029, NDCG: 0.0986954, F1: 0.0732556, HIT_RATE: 0.3837326, ARHR_ALL_HITS: 0.2105420, NOVELTY: 0.0045377, AVERAGE_POPULARITY: 0.3086570, DIVERSITY_MEAN_INTER_LIST: 0.9494308, DIVERSITY_HERFINDAHL: 0.9949335, COVERAGE_ITEM: 0.0430016, COVERAGE_ITEM_HIT: 0.0251924, ITEMS_IN_GT: 0.7219885, COVERAGE_USER: 0.7626871, COVERAGE_USER_HIT: 0.2926679, USERS_IN_GT: 0.7626871, DIVERSITY_GINI: 0.0104691, SHANNON_ENTROPY: 8.2731019, RATIO_DIVERSITY_HERFINDAHL: 0.9952935, RATIO_DIVERSITY_GINI: 0.0301263, RATIO_SHANNON_ENTROPY: 0.6371844, RATIO_AVERAGE_POPULARITY: 2.6008669, RATIO_NOVELTY: 0.2499973, \n",
      "\n",
      "IALSRecommender: New best model found! Updating.\n",
      "IALSRecommender: Epoch 10 of 85. Elapsed time 37.34 sec\n",
      "IALSRecommender: Epoch 11 of 85. Elapsed time 39.99 sec\n",
      "IALSRecommender: Epoch 12 of 85. Elapsed time 42.67 sec\n",
      "IALSRecommender: Epoch 13 of 85. Elapsed time 45.33 sec\n",
      "IALSRecommender: Epoch 14 of 85. Elapsed time 47.99 sec\n",
      "IALSRecommender: Validation begins...\n",
      "EvaluatorHoldout: Processed 9934 (100.0%) in 5.57 sec. Users per second: 1783\n",
      "IALSRecommender: CUTOFF: 10 - PRECISION: 0.0556372, PRECISION_RECALL_MIN_DEN: 0.1183458, RECALL: 0.1082567, MAP: 0.0253778, MAP_MIN_DEN: 0.0535143, MRR: 0.1761309, NDCG: 0.0987741, F1: 0.0735000, HIT_RATE: 0.3860479, ARHR_ALL_HITS: 0.2104749, NOVELTY: 0.0045420, AVERAGE_POPULARITY: 0.3065874, DIVERSITY_MEAN_INTER_LIST: 0.9502713, DIVERSITY_HERFINDAHL: 0.9950176, COVERAGE_ITEM: 0.0435386, COVERAGE_ITEM_HIT: 0.0253714, ITEMS_IN_GT: 0.7219885, COVERAGE_USER: 0.7626871, COVERAGE_USER_HIT: 0.2944338, USERS_IN_GT: 0.7626871, DIVERSITY_GINI: 0.0105971, SHANNON_ENTROPY: 8.2919586, RATIO_DIVERSITY_HERFINDAHL: 0.9953776, RATIO_DIVERSITY_GINI: 0.0304948, RATIO_SHANNON_ENTROPY: 0.6386367, RATIO_AVERAGE_POPULARITY: 2.5834275, RATIO_NOVELTY: 0.2502342, \n",
      "\n",
      "IALSRecommender: New best model found! Updating.\n",
      "IALSRecommender: Epoch 15 of 85. Elapsed time 56.20 sec\n",
      "IALSRecommender: Epoch 16 of 85. Elapsed time 58.77 sec\n",
      "IALSRecommender: Epoch 17 of 85. Elapsed time 1.02 min\n",
      "IALSRecommender: Epoch 18 of 85. Elapsed time 1.07 min\n",
      "IALSRecommender: Epoch 19 of 85. Elapsed time 1.11 min\n",
      "IALSRecommender: Validation begins...\n",
      "EvaluatorHoldout: Processed 9934 (100.0%) in 5.54 sec. Users per second: 1793\n",
      "IALSRecommender: CUTOFF: 10 - PRECISION: 0.0555768, PRECISION_RECALL_MIN_DEN: 0.1180931, RECALL: 0.1080083, MAP: 0.0253442, MAP_MIN_DEN: 0.0536310, MRR: 0.1761277, NDCG: 0.0987670, F1: 0.0733900, HIT_RATE: 0.3843366, ARHR_ALL_HITS: 0.2103793, NOVELTY: 0.0045439, AVERAGE_POPULARITY: 0.3056918, DIVERSITY_MEAN_INTER_LIST: 0.9506041, DIVERSITY_HERFINDAHL: 0.9950508, COVERAGE_ITEM: 0.0438965, COVERAGE_ITEM_HIT: 0.0255056, ITEMS_IN_GT: 0.7219885, COVERAGE_USER: 0.7626871, COVERAGE_USER_HIT: 0.2931286, USERS_IN_GT: 0.7626871, DIVERSITY_GINI: 0.0106541, SHANNON_ENTROPY: 8.3001750, RATIO_DIVERSITY_HERFINDAHL: 0.9954109, RATIO_DIVERSITY_GINI: 0.0306587, RATIO_SHANNON_ENTROPY: 0.6392695, RATIO_AVERAGE_POPULARITY: 2.5758815, RATIO_NOVELTY: 0.2503415, \n",
      "\n",
      "IALSRecommender: Epoch 20 of 85. Elapsed time 1.25 min\n",
      "IALSRecommender: Epoch 21 of 85. Elapsed time 1.29 min\n",
      "IALSRecommender: Epoch 22 of 85. Elapsed time 1.33 min\n",
      "IALSRecommender: Epoch 23 of 85. Elapsed time 1.38 min\n",
      "IALSRecommender: Epoch 24 of 85. Elapsed time 1.42 min\n",
      "IALSRecommender: Validation begins...\n",
      "EvaluatorHoldout: Processed 9934 (100.0%) in 5.53 sec. Users per second: 1797\n",
      "IALSRecommender: CUTOFF: 10 - PRECISION: 0.0553855, PRECISION_RECALL_MIN_DEN: 0.1180041, RECALL: 0.1080673, MAP: 0.0252559, MAP_MIN_DEN: 0.0535429, MRR: 0.1760340, NDCG: 0.0985935, F1: 0.0732366, HIT_RATE: 0.3841353, ARHR_ALL_HITS: 0.2099489, NOVELTY: 0.0045451, AVERAGE_POPULARITY: 0.3049665, DIVERSITY_MEAN_INTER_LIST: 0.9509006, DIVERSITY_HERFINDAHL: 0.9950805, COVERAGE_ITEM: 0.0441203, COVERAGE_ITEM_HIT: 0.0252372, ITEMS_IN_GT: 0.7219885, COVERAGE_USER: 0.7626871, COVERAGE_USER_HIT: 0.2929750, USERS_IN_GT: 0.7626871, DIVERSITY_GINI: 0.0106714, SHANNON_ENTROPY: 8.3037838, RATIO_DIVERSITY_HERFINDAHL: 0.9954406, RATIO_DIVERSITY_GINI: 0.0307084, RATIO_SHANNON_ENTROPY: 0.6395475, RATIO_AVERAGE_POPULARITY: 2.5697693, RATIO_NOVELTY: 0.2504080, \n",
      "\n",
      "IALSRecommender: Epoch 25 of 85. Elapsed time 1.56 min\n",
      "IALSRecommender: Epoch 26 of 85. Elapsed time 1.60 min\n",
      "IALSRecommender: Epoch 27 of 85. Elapsed time 1.64 min\n",
      "IALSRecommender: Epoch 28 of 85. Elapsed time 1.68 min\n",
      "IALSRecommender: Epoch 29 of 85. Elapsed time 1.73 min\n",
      "IALSRecommender: Validation begins...\n",
      "EvaluatorHoldout: Processed 9934 (100.0%) in 5.53 sec. Users per second: 1795\n",
      "IALSRecommender: CUTOFF: 10 - PRECISION: 0.0554560, PRECISION_RECALL_MIN_DEN: 0.1179264, RECALL: 0.1080360, MAP: 0.0253919, MAP_MIN_DEN: 0.0539556, MRR: 0.1772353, NDCG: 0.0989986, F1: 0.0732910, HIT_RATE: 0.3843366, ARHR_ALL_HITS: 0.2111455, NOVELTY: 0.0045458, AVERAGE_POPULARITY: 0.3046209, DIVERSITY_MEAN_INTER_LIST: 0.9510635, DIVERSITY_HERFINDAHL: 0.9950968, COVERAGE_ITEM: 0.0438965, COVERAGE_ITEM_HIT: 0.0252819, ITEMS_IN_GT: 0.7219885, COVERAGE_USER: 0.7626871, COVERAGE_USER_HIT: 0.2931286, USERS_IN_GT: 0.7626871, DIVERSITY_GINI: 0.0106815, SHANNON_ENTROPY: 8.3058037, RATIO_DIVERSITY_HERFINDAHL: 0.9954569, RATIO_DIVERSITY_GINI: 0.0307375, RATIO_SHANNON_ENTROPY: 0.6397030, RATIO_AVERAGE_POPULARITY: 2.5668573, RATIO_NOVELTY: 0.2504461, \n",
      "\n",
      "IALSRecommender: New best model found! Updating.\n",
      "IALSRecommender: Epoch 30 of 85. Elapsed time 1.87 min\n",
      "IALSRecommender: Epoch 31 of 85. Elapsed time 1.91 min\n",
      "IALSRecommender: Epoch 32 of 85. Elapsed time 1.95 min\n",
      "IALSRecommender: Epoch 33 of 85. Elapsed time 1.99 min\n",
      "IALSRecommender: Epoch 34 of 85. Elapsed time 2.04 min\n",
      "IALSRecommender: Validation begins...\n",
      "EvaluatorHoldout: Processed 9934 (100.0%) in 5.57 sec. Users per second: 1784\n",
      "IALSRecommender: CUTOFF: 10 - PRECISION: 0.0556070, PRECISION_RECALL_MIN_DEN: 0.1181998, RECALL: 0.1082814, MAP: 0.0254939, MAP_MIN_DEN: 0.0540392, MRR: 0.1779628, NDCG: 0.0992142, F1: 0.0734793, HIT_RATE: 0.3851419, ARHR_ALL_HITS: 0.2119846, NOVELTY: 0.0045463, AVERAGE_POPULARITY: 0.3043754, DIVERSITY_MEAN_INTER_LIST: 0.9511700, DIVERSITY_HERFINDAHL: 0.9951074, COVERAGE_ITEM: 0.0437623, COVERAGE_ITEM_HIT: 0.0254161, ITEMS_IN_GT: 0.7219885, COVERAGE_USER: 0.7626871, COVERAGE_USER_HIT: 0.2937428, USERS_IN_GT: 0.7626871, DIVERSITY_GINI: 0.0106971, SHANNON_ENTROPY: 8.3080617, RATIO_DIVERSITY_HERFINDAHL: 0.9954675, RATIO_DIVERSITY_GINI: 0.0307826, RATIO_SHANNON_ENTROPY: 0.6398769, RATIO_AVERAGE_POPULARITY: 2.5647885, RATIO_NOVELTY: 0.2504738, \n",
      "\n",
      "IALSRecommender: New best model found! Updating.\n",
      "IALSRecommender: Epoch 35 of 85. Elapsed time 2.17 min\n"
     ]
    },
    {
     "name": "stdout",
     "output_type": "stream",
     "text": [
      "IALSRecommender: Epoch 36 of 85. Elapsed time 2.21 min\n",
      "IALSRecommender: Epoch 37 of 85. Elapsed time 2.26 min\n",
      "IALSRecommender: Epoch 38 of 85. Elapsed time 2.30 min\n",
      "IALSRecommender: Epoch 39 of 85. Elapsed time 2.34 min\n",
      "IALSRecommender: Validation begins...\n",
      "EvaluatorHoldout: Processed 9934 (100.0%) in 5.61 sec. Users per second: 1771\n",
      "IALSRecommender: CUTOFF: 10 - PRECISION: 0.0556372, PRECISION_RECALL_MIN_DEN: 0.1183476, RECALL: 0.1084577, MAP: 0.0255048, MAP_MIN_DEN: 0.0539839, MRR: 0.1781290, NDCG: 0.0992453, F1: 0.0735463, HIT_RATE: 0.3857459, ARHR_ALL_HITS: 0.2121315, NOVELTY: 0.0045470, AVERAGE_POPULARITY: 0.3041678, DIVERSITY_MEAN_INTER_LIST: 0.9512797, DIVERSITY_HERFINDAHL: 0.9951184, COVERAGE_ITEM: 0.0440308, COVERAGE_ITEM_HIT: 0.0255056, ITEMS_IN_GT: 0.7219885, COVERAGE_USER: 0.7626871, COVERAGE_USER_HIT: 0.2942035, USERS_IN_GT: 0.7626871, DIVERSITY_GINI: 0.0107292, SHANNON_ENTROPY: 8.3121706, RATIO_DIVERSITY_HERFINDAHL: 0.9954785, RATIO_DIVERSITY_GINI: 0.0308747, RATIO_SHANNON_ENTROPY: 0.6401934, RATIO_AVERAGE_POPULARITY: 2.5630391, RATIO_NOVELTY: 0.2505143, \n",
      "\n",
      "IALSRecommender: New best model found! Updating.\n",
      "IALSRecommender: Epoch 40 of 85. Elapsed time 2.48 min\n",
      "IALSRecommender: Epoch 41 of 85. Elapsed time 2.53 min\n",
      "IALSRecommender: Epoch 42 of 85. Elapsed time 2.57 min\n",
      "IALSRecommender: Epoch 43 of 85. Elapsed time 2.61 min\n",
      "IALSRecommender: Epoch 44 of 85. Elapsed time 2.66 min\n",
      "IALSRecommender: Validation begins...\n",
      "EvaluatorHoldout: Processed 9934 (100.0%) in 5.55 sec. Users per second: 1790\n",
      "IALSRecommender: CUTOFF: 10 - PRECISION: 0.0555969, PRECISION_RECALL_MIN_DEN: 0.1179070, RECALL: 0.1080205, MAP: 0.0255356, MAP_MIN_DEN: 0.0540469, MRR: 0.1783536, NDCG: 0.0992129, F1: 0.0734104, HIT_RATE: 0.3854439, ARHR_ALL_HITS: 0.2123675, NOVELTY: 0.0045469, AVERAGE_POPULARITY: 0.3041911, DIVERSITY_MEAN_INTER_LIST: 0.9512955, DIVERSITY_HERFINDAHL: 0.9951200, COVERAGE_ITEM: 0.0439413, COVERAGE_ITEM_HIT: 0.0255504, ITEMS_IN_GT: 0.7219885, COVERAGE_USER: 0.7626871, COVERAGE_USER_HIT: 0.2939731, USERS_IN_GT: 0.7626871, DIVERSITY_GINI: 0.0107209, SHANNON_ENTROPY: 8.3113301, RATIO_DIVERSITY_HERFINDAHL: 0.9954801, RATIO_DIVERSITY_GINI: 0.0308509, RATIO_SHANNON_ENTROPY: 0.6401287, RATIO_AVERAGE_POPULARITY: 2.5632357, RATIO_NOVELTY: 0.2505079, \n",
      "\n",
      "IALSRecommender: New best model found! Updating.\n",
      "IALSRecommender: Epoch 45 of 85. Elapsed time 2.79 min\n",
      "IALSRecommender: Epoch 46 of 85. Elapsed time 2.84 min\n",
      "IALSRecommender: Epoch 47 of 85. Elapsed time 2.88 min\n",
      "IALSRecommender: Epoch 48 of 85. Elapsed time 2.93 min\n",
      "IALSRecommender: Epoch 49 of 85. Elapsed time 2.97 min\n",
      "IALSRecommender: Validation begins...\n",
      "EvaluatorHoldout: Processed 9934 (100.0%) in 5.58 sec. Users per second: 1781\n",
      "IALSRecommender: CUTOFF: 10 - PRECISION: 0.0557278, PRECISION_RECALL_MIN_DEN: 0.1181543, RECALL: 0.1082399, MAP: 0.0255643, MAP_MIN_DEN: 0.0540079, MRR: 0.1781549, NDCG: 0.0992368, F1: 0.0735751, HIT_RATE: 0.3849406, ARHR_ALL_HITS: 0.2123275, NOVELTY: 0.0045469, AVERAGE_POPULARITY: 0.3041403, DIVERSITY_MEAN_INTER_LIST: 0.9513410, DIVERSITY_HERFINDAHL: 0.9951245, COVERAGE_ITEM: 0.0438965, COVERAGE_ITEM_HIT: 0.0255951, ITEMS_IN_GT: 0.7219885, COVERAGE_USER: 0.7626871, COVERAGE_USER_HIT: 0.2935893, USERS_IN_GT: 0.7626871, DIVERSITY_GINI: 0.0107190, SHANNON_ENTROPY: 8.3114046, RATIO_DIVERSITY_HERFINDAHL: 0.9954846, RATIO_DIVERSITY_GINI: 0.0308455, RATIO_SHANNON_ENTROPY: 0.6401344, RATIO_AVERAGE_POPULARITY: 2.5628080, RATIO_NOVELTY: 0.2505089, \n",
      "\n",
      "IALSRecommender: New best model found! Updating.\n",
      "IALSRecommender: Epoch 50 of 85. Elapsed time 3.11 min\n",
      "IALSRecommender: Epoch 51 of 85. Elapsed time 3.15 min\n",
      "IALSRecommender: Epoch 52 of 85. Elapsed time 3.19 min\n",
      "IALSRecommender: Epoch 53 of 85. Elapsed time 3.24 min\n",
      "IALSRecommender: Epoch 54 of 85. Elapsed time 3.28 min\n",
      "IALSRecommender: Validation begins...\n",
      "EvaluatorHoldout: Processed 9934 (100.0%) in 5.53 sec. Users per second: 1796\n",
      "IALSRecommender: CUTOFF: 10 - PRECISION: 0.0559392, PRECISION_RECALL_MIN_DEN: 0.1186509, RECALL: 0.1086608, MAP: 0.0255848, MAP_MIN_DEN: 0.0540757, MRR: 0.1779609, NDCG: 0.0994098, F1: 0.0738566, HIT_RATE: 0.3853433, ARHR_ALL_HITS: 0.2122731, NOVELTY: 0.0045469, AVERAGE_POPULARITY: 0.3041977, DIVERSITY_MEAN_INTER_LIST: 0.9513405, DIVERSITY_HERFINDAHL: 0.9951245, COVERAGE_ITEM: 0.0438965, COVERAGE_ITEM_HIT: 0.0257741, ITEMS_IN_GT: 0.7219885, COVERAGE_USER: 0.7626871, COVERAGE_USER_HIT: 0.2938964, USERS_IN_GT: 0.7626871, DIVERSITY_GINI: 0.0107185, SHANNON_ENTROPY: 8.3113288, RATIO_DIVERSITY_HERFINDAHL: 0.9954846, RATIO_DIVERSITY_GINI: 0.0308441, RATIO_SHANNON_ENTROPY: 0.6401286, RATIO_AVERAGE_POPULARITY: 2.5632915, RATIO_NOVELTY: 0.2505051, \n",
      "\n",
      "IALSRecommender: New best model found! Updating.\n",
      "IALSRecommender: Epoch 55 of 85. Elapsed time 3.42 min\n",
      "IALSRecommender: Epoch 56 of 85. Elapsed time 3.46 min\n",
      "IALSRecommender: Epoch 57 of 85. Elapsed time 3.50 min\n",
      "IALSRecommender: Epoch 58 of 85. Elapsed time 3.54 min\n",
      "IALSRecommender: Epoch 59 of 85. Elapsed time 3.59 min\n",
      "IALSRecommender: Validation begins...\n",
      "EvaluatorHoldout: Processed 9934 (100.0%) in 5.53 sec. Users per second: 1795\n",
      "IALSRecommender: CUTOFF: 10 - PRECISION: 0.0560399, PRECISION_RECALL_MIN_DEN: 0.1188091, RECALL: 0.1087900, MAP: 0.0256014, MAP_MIN_DEN: 0.0540944, MRR: 0.1781905, NDCG: 0.0994989, F1: 0.0739742, HIT_RATE: 0.3858466, ARHR_ALL_HITS: 0.2124571, NOVELTY: 0.0045469, AVERAGE_POPULARITY: 0.3042054, DIVERSITY_MEAN_INTER_LIST: 0.9513320, DIVERSITY_HERFINDAHL: 0.9951236, COVERAGE_ITEM: 0.0436728, COVERAGE_ITEM_HIT: 0.0257741, ITEMS_IN_GT: 0.7219885, COVERAGE_USER: 0.7626871, COVERAGE_USER_HIT: 0.2942802, USERS_IN_GT: 0.7626871, DIVERSITY_GINI: 0.0107228, SHANNON_ENTROPY: 8.3116985, RATIO_DIVERSITY_HERFINDAHL: 0.9954837, RATIO_DIVERSITY_GINI: 0.0308563, RATIO_SHANNON_ENTROPY: 0.6401571, RATIO_AVERAGE_POPULARITY: 2.5633561, RATIO_NOVELTY: 0.2505088, \n",
      "\n",
      "IALSRecommender: New best model found! Updating.\n",
      "IALSRecommender: Epoch 60 of 85. Elapsed time 3.72 min\n",
      "IALSRecommender: Epoch 61 of 85. Elapsed time 3.77 min\n",
      "IALSRecommender: Epoch 62 of 85. Elapsed time 3.81 min\n",
      "IALSRecommender: Epoch 63 of 85. Elapsed time 3.85 min\n",
      "IALSRecommender: Epoch 64 of 85. Elapsed time 3.90 min\n",
      "IALSRecommender: Validation begins...\n",
      "EvaluatorHoldout: Processed 9934 (100.0%) in 5.58 sec. Users per second: 1781\n",
      "IALSRecommender: CUTOFF: 10 - PRECISION: 0.0560600, PRECISION_RECALL_MIN_DEN: 0.1188995, RECALL: 0.1088552, MAP: 0.0256103, MAP_MIN_DEN: 0.0539866, MRR: 0.1780424, NDCG: 0.0994366, F1: 0.0740068, HIT_RATE: 0.3857459, ARHR_ALL_HITS: 0.2123528, NOVELTY: 0.0045469, AVERAGE_POPULARITY: 0.3041897, DIVERSITY_MEAN_INTER_LIST: 0.9513503, DIVERSITY_HERFINDAHL: 0.9951255, COVERAGE_ITEM: 0.0435386, COVERAGE_ITEM_HIT: 0.0258636, ITEMS_IN_GT: 0.7219885, COVERAGE_USER: 0.7626871, COVERAGE_USER_HIT: 0.2942035, USERS_IN_GT: 0.7626871, DIVERSITY_GINI: 0.0107225, SHANNON_ENTROPY: 8.3117414, RATIO_DIVERSITY_HERFINDAHL: 0.9954855, RATIO_DIVERSITY_GINI: 0.0308556, RATIO_SHANNON_ENTROPY: 0.6401604, RATIO_AVERAGE_POPULARITY: 2.5632240, RATIO_NOVELTY: 0.2505093, \n",
      "\n",
      "IALSRecommender: New best model found! Updating.\n",
      "IALSRecommender: Epoch 65 of 85. Elapsed time 4.04 min\n",
      "IALSRecommender: Epoch 66 of 85. Elapsed time 4.08 min\n",
      "IALSRecommender: Epoch 67 of 85. Elapsed time 4.12 min\n",
      "IALSRecommender: Epoch 68 of 85. Elapsed time 4.17 min\n",
      "IALSRecommender: Epoch 69 of 85. Elapsed time 4.21 min\n",
      "IALSRecommender: Validation begins...\n",
      "EvaluatorHoldout: Processed 9934 (100.0%) in 5.55 sec. Users per second: 1790\n",
      "IALSRecommender: CUTOFF: 10 - PRECISION: 0.0559895, PRECISION_RECALL_MIN_DEN: 0.1193070, RECALL: 0.1093524, MAP: 0.0255888, MAP_MIN_DEN: 0.0539299, MRR: 0.1782318, NDCG: 0.0994931, F1: 0.0740597, HIT_RATE: 0.3865512, ARHR_ALL_HITS: 0.2123806, NOVELTY: 0.0045470, AVERAGE_POPULARITY: 0.3042206, DIVERSITY_MEAN_INTER_LIST: 0.9513438, DIVERSITY_HERFINDAHL: 0.9951248, COVERAGE_ITEM: 0.0436281, COVERAGE_ITEM_HIT: 0.0261321, ITEMS_IN_GT: 0.7219885, COVERAGE_USER: 0.7626871, COVERAGE_USER_HIT: 0.2948177, USERS_IN_GT: 0.7626871, DIVERSITY_GINI: 0.0107285, SHANNON_ENTROPY: 8.3124058, RATIO_DIVERSITY_HERFINDAHL: 0.9954849, RATIO_DIVERSITY_GINI: 0.0308729, RATIO_SHANNON_ENTROPY: 0.6402115, RATIO_AVERAGE_POPULARITY: 2.5634842, RATIO_NOVELTY: 0.2505139, \n",
      "\n",
      "IALSRecommender: Epoch 70 of 85. Elapsed time 4.35 min\n"
     ]
    },
    {
     "name": "stdout",
     "output_type": "stream",
     "text": [
      "IALSRecommender: Epoch 71 of 85. Elapsed time 4.39 min\n",
      "IALSRecommender: Epoch 72 of 85. Elapsed time 4.43 min\n",
      "IALSRecommender: Epoch 73 of 85. Elapsed time 4.48 min\n",
      "IALSRecommender: Epoch 74 of 85. Elapsed time 4.52 min\n",
      "IALSRecommender: Validation begins...\n",
      "EvaluatorHoldout: Processed 9934 (100.0%) in 5.57 sec. Users per second: 1782\n",
      "IALSRecommender: CUTOFF: 10 - PRECISION: 0.0562110, PRECISION_RECALL_MIN_DEN: 0.1198606, RECALL: 0.1098497, MAP: 0.0256107, MAP_MIN_DEN: 0.0538818, MRR: 0.1783839, NDCG: 0.0996555, F1: 0.0743675, HIT_RATE: 0.3877592, ARHR_ALL_HITS: 0.2126000, NOVELTY: 0.0045471, AVERAGE_POPULARITY: 0.3041285, DIVERSITY_MEAN_INTER_LIST: 0.9513629, DIVERSITY_HERFINDAHL: 0.9951267, COVERAGE_ITEM: 0.0435386, COVERAGE_ITEM_HIT: 0.0262216, ITEMS_IN_GT: 0.7219885, COVERAGE_USER: 0.7626871, COVERAGE_USER_HIT: 0.2957390, USERS_IN_GT: 0.7626871, DIVERSITY_GINI: 0.0107242, SHANNON_ENTROPY: 8.3120111, RATIO_DIVERSITY_HERFINDAHL: 0.9954868, RATIO_DIVERSITY_GINI: 0.0308603, RATIO_SHANNON_ENTROPY: 0.6401811, RATIO_AVERAGE_POPULARITY: 2.5627084, RATIO_NOVELTY: 0.2505199, \n",
      "\n",
      "IALSRecommender: New best model found! Updating.\n",
      "IALSRecommender: Epoch 75 of 85. Elapsed time 4.66 min\n",
      "IALSRecommender: Epoch 76 of 85. Elapsed time 4.70 min\n",
      "IALSRecommender: Epoch 77 of 85. Elapsed time 4.74 min\n",
      "IALSRecommender: Epoch 78 of 85. Elapsed time 4.79 min\n",
      "IALSRecommender: Epoch 79 of 85. Elapsed time 4.83 min\n",
      "IALSRecommender: Validation begins...\n",
      "EvaluatorHoldout: Processed 9934 (100.0%) in 5.57 sec. Users per second: 1783\n",
      "IALSRecommender: CUTOFF: 10 - PRECISION: 0.0561607, PRECISION_RECALL_MIN_DEN: 0.1194168, RECALL: 0.1093754, MAP: 0.0255882, MAP_MIN_DEN: 0.0538229, MRR: 0.1782094, NDCG: 0.0995098, F1: 0.0742146, HIT_RATE: 0.3873566, ARHR_ALL_HITS: 0.2124466, NOVELTY: 0.0045470, AVERAGE_POPULARITY: 0.3040706, DIVERSITY_MEAN_INTER_LIST: 0.9513680, DIVERSITY_HERFINDAHL: 0.9951272, COVERAGE_ITEM: 0.0434043, COVERAGE_ITEM_HIT: 0.0260426, ITEMS_IN_GT: 0.7219885, COVERAGE_USER: 0.7626871, COVERAGE_USER_HIT: 0.2954319, USERS_IN_GT: 0.7626871, DIVERSITY_GINI: 0.0107163, SHANNON_ENTROPY: 8.3111791, RATIO_DIVERSITY_HERFINDAHL: 0.9954873, RATIO_DIVERSITY_GINI: 0.0308378, RATIO_SHANNON_ENTROPY: 0.6401170, RATIO_AVERAGE_POPULARITY: 2.5622204, RATIO_NOVELTY: 0.2505149, \n",
      "\n",
      "IALSRecommender: Epoch 80 of 85. Elapsed time 4.97 min\n",
      "IALSRecommender: Epoch 81 of 85. Elapsed time 5.01 min\n",
      "IALSRecommender: Epoch 82 of 85. Elapsed time 5.05 min\n",
      "IALSRecommender: Epoch 83 of 85. Elapsed time 5.10 min\n",
      "IALSRecommender: Epoch 84 of 85. Elapsed time 5.14 min\n",
      "IALSRecommender: Validation begins...\n",
      "EvaluatorHoldout: Processed 9934 (100.0%) in 5.58 sec. Users per second: 1780\n",
      "IALSRecommender: CUTOFF: 10 - PRECISION: 0.0560902, PRECISION_RECALL_MIN_DEN: 0.1193163, RECALL: 0.1092690, MAP: 0.0255861, MAP_MIN_DEN: 0.0538695, MRR: 0.1784754, NDCG: 0.0995243, F1: 0.0741286, HIT_RATE: 0.3871552, ARHR_ALL_HITS: 0.2126196, NOVELTY: 0.0045474, AVERAGE_POPULARITY: 0.3039501, DIVERSITY_MEAN_INTER_LIST: 0.9514192, DIVERSITY_HERFINDAHL: 0.9951323, COVERAGE_ITEM: 0.0434938, COVERAGE_ITEM_HIT: 0.0260873, ITEMS_IN_GT: 0.7219885, COVERAGE_USER: 0.7626871, COVERAGE_USER_HIT: 0.2952783, USERS_IN_GT: 0.7626871, DIVERSITY_GINI: 0.0107250, SHANNON_ENTROPY: 8.3124526, RATIO_DIVERSITY_HERFINDAHL: 0.9954924, RATIO_DIVERSITY_GINI: 0.0308627, RATIO_SHANNON_ENTROPY: 0.6402151, RATIO_AVERAGE_POPULARITY: 2.5612047, RATIO_NOVELTY: 0.2505356, \n",
      "\n",
      "IALSRecommender: Epoch 85 of 85. Elapsed time 5.28 min\n",
      "IALSRecommender: Terminating at epoch 85. Best value for 'MAP' at epoch 75 is 0.0256. Elapsed time 5.28 min\n",
      "EvaluatorHoldout: Processed 9934 (100.0%) in 5.57 sec. Users per second: 1785\n"
     ]
    },
    {
     "name": "stderr",
     "output_type": "stream",
     "text": [
      "[I 2023-12-06 14:37:24,671] Trial 3 finished with value: 0.02561065332783673 and parameters: {'epochs': 85, 'num_factors': 50, 'reg': 0.09190432865085252, 'alpha': 3.2084604990333445}. Best is trial 1 with value: 0.02773916180122147.\n"
     ]
    },
    {
     "name": "stdout",
     "output_type": "stream",
     "text": [
      "IALSRecommender: URM Detected 550 ( 4.2%) users with no interactions.\n",
      "IALSRecommender: URM Detected 206 ( 0.9%) items with no interactions.\n",
      "IALSRecommender: Epoch 1 of 97. Elapsed time 7.23 sec\n",
      "IALSRecommender: Epoch 2 of 97. Elapsed time 14.53 sec\n",
      "IALSRecommender: Epoch 3 of 97. Elapsed time 21.88 sec\n",
      "IALSRecommender: Epoch 4 of 97. Elapsed time 29.22 sec\n",
      "IALSRecommender: Validation begins...\n",
      "EvaluatorHoldout: Processed 9934 (100.0%) in 5.72 sec. Users per second: 1738\n",
      "IALSRecommender: CUTOFF: 10 - PRECISION: 0.0556070, PRECISION_RECALL_MIN_DEN: 0.1164047, RECALL: 0.1066505, MAP: 0.0266392, MAP_MIN_DEN: 0.0553947, MRR: 0.1838885, NDCG: 0.1005021, F1: 0.0731000, HIT_RATE: 0.3778941, ARHR_ALL_HITS: 0.2203605, NOVELTY: 0.0046981, AVERAGE_POPULARITY: 0.2366627, DIVERSITY_MEAN_INTER_LIST: 0.9693082, DIVERSITY_HERFINDAHL: 0.9969211, COVERAGE_ITEM: 0.0591104, COVERAGE_ITEM_HIT: 0.0334706, ITEMS_IN_GT: 0.7219885, COVERAGE_USER: 0.7626871, COVERAGE_USER_HIT: 0.2882150, USERS_IN_GT: 0.7626871, DIVERSITY_GINI: 0.0151750, SHANNON_ENTROPY: 8.8392368, RATIO_DIVERSITY_HERFINDAHL: 0.9972818, RATIO_DIVERSITY_GINI: 0.0436681, RATIO_SHANNON_ENTROPY: 0.6807874, RATIO_AVERAGE_POPULARITY: 1.9942141, RATIO_NOVELTY: 0.2588372, \n",
      "\n",
      "IALSRecommender: New best model found! Updating.\n",
      "IALSRecommender: Epoch 5 of 97. Elapsed time 42.39 sec\n",
      "IALSRecommender: Epoch 6 of 97. Elapsed time 49.69 sec\n",
      "IALSRecommender: Epoch 7 of 97. Elapsed time 57.10 sec\n",
      "IALSRecommender: Epoch 8 of 97. Elapsed time 1.07 min\n",
      "IALSRecommender: Epoch 9 of 97. Elapsed time 1.20 min\n",
      "IALSRecommender: Validation begins...\n",
      "EvaluatorHoldout: Processed 9934 (100.0%) in 5.78 sec. Users per second: 1717\n",
      "IALSRecommender: CUTOFF: 10 - PRECISION: 0.0568854, PRECISION_RECALL_MIN_DEN: 0.1190320, RECALL: 0.1087228, MAP: 0.0273108, MAP_MIN_DEN: 0.0568830, MRR: 0.1877755, NDCG: 0.1029128, F1: 0.0746913, HIT_RATE: 0.3851419, ARHR_ALL_HITS: 0.2254259, NOVELTY: 0.0047208, AVERAGE_POPULARITY: 0.2288786, DIVERSITY_MEAN_INTER_LIST: 0.9709004, DIVERSITY_HERFINDAHL: 0.9970803, COVERAGE_ITEM: 0.0614820, COVERAGE_ITEM_HIT: 0.0348130, ITEMS_IN_GT: 0.7219885, COVERAGE_USER: 0.7626871, COVERAGE_USER_HIT: 0.2937428, USERS_IN_GT: 0.7626871, DIVERSITY_GINI: 0.0160159, SHANNON_ENTROPY: 8.9170989, RATIO_DIVERSITY_HERFINDAHL: 0.9974411, RATIO_DIVERSITY_GINI: 0.0460879, RATIO_SHANNON_ENTROPY: 0.6867843, RATIO_AVERAGE_POPULARITY: 1.9286227, RATIO_NOVELTY: 0.2600868, \n",
      "\n",
      "IALSRecommender: New best model found! Updating.\n",
      "IALSRecommender: Epoch 10 of 97. Elapsed time 1.41 min\n",
      "IALSRecommender: Epoch 11 of 97. Elapsed time 1.54 min\n",
      "IALSRecommender: Epoch 12 of 97. Elapsed time 1.66 min\n",
      "IALSRecommender: Epoch 13 of 97. Elapsed time 1.78 min\n",
      "IALSRecommender: Epoch 14 of 97. Elapsed time 1.90 min\n",
      "IALSRecommender: Validation begins...\n",
      "EvaluatorHoldout: Processed 9934 (100.0%) in 5.77 sec. Users per second: 1722\n",
      "IALSRecommender: CUTOFF: 10 - PRECISION: 0.0575196, PRECISION_RECALL_MIN_DEN: 0.1201974, RECALL: 0.1097417, MAP: 0.0276812, MAP_MIN_DEN: 0.0573793, MRR: 0.1896977, NDCG: 0.1038406, F1: 0.0754783, HIT_RATE: 0.3879605, ARHR_ALL_HITS: 0.2279639, NOVELTY: 0.0047249, AVERAGE_POPULARITY: 0.2275555, DIVERSITY_MEAN_INTER_LIST: 0.9711555, DIVERSITY_HERFINDAHL: 0.9971058, COVERAGE_ITEM: 0.0621085, COVERAGE_ITEM_HIT: 0.0349472, ITEMS_IN_GT: 0.7219885, COVERAGE_USER: 0.7626871, COVERAGE_USER_HIT: 0.2958925, USERS_IN_GT: 0.7626871, DIVERSITY_GINI: 0.0161920, SHANNON_ENTROPY: 8.9325242, RATIO_DIVERSITY_HERFINDAHL: 0.9974666, RATIO_DIVERSITY_GINI: 0.0465947, RATIO_SHANNON_ENTROPY: 0.6879723, RATIO_AVERAGE_POPULARITY: 1.9174732, RATIO_NOVELTY: 0.2603128, \n",
      "\n",
      "IALSRecommender: New best model found! Updating.\n",
      "IALSRecommender: Epoch 15 of 97. Elapsed time 2.12 min\n",
      "IALSRecommender: Epoch 16 of 97. Elapsed time 2.24 min\n",
      "IALSRecommender: Epoch 17 of 97. Elapsed time 2.37 min\n",
      "IALSRecommender: Epoch 18 of 97. Elapsed time 2.49 min\n",
      "IALSRecommender: Epoch 19 of 97. Elapsed time 2.61 min\n",
      "IALSRecommender: Validation begins...\n",
      "EvaluatorHoldout: Processed 9934 (100.0%) in 5.91 sec. Users per second: 1680\n",
      "IALSRecommender: CUTOFF: 10 - PRECISION: 0.0576002, PRECISION_RECALL_MIN_DEN: 0.1207916, RECALL: 0.1102690, MAP: 0.0278124, MAP_MIN_DEN: 0.0572721, MRR: 0.1900244, NDCG: 0.1039334, F1: 0.0756722, HIT_RATE: 0.3896718, ARHR_ALL_HITS: 0.2287114, NOVELTY: 0.0047266, AVERAGE_POPULARITY: 0.2268993, DIVERSITY_MEAN_INTER_LIST: 0.9712677, DIVERSITY_HERFINDAHL: 0.9971170, COVERAGE_ITEM: 0.0629139, COVERAGE_ITEM_HIT: 0.0354842, ITEMS_IN_GT: 0.7219885, COVERAGE_USER: 0.7626871, COVERAGE_USER_HIT: 0.2971977, USERS_IN_GT: 0.7626871, DIVERSITY_GINI: 0.0162571, SHANNON_ENTROPY: 8.9383054, RATIO_DIVERSITY_HERFINDAHL: 0.9974778, RATIO_DIVERSITY_GINI: 0.0467820, RATIO_SHANNON_ENTROPY: 0.6884176, RATIO_AVERAGE_POPULARITY: 1.9119439, RATIO_NOVELTY: 0.2604072, \n",
      "\n",
      "IALSRecommender: New best model found! Updating.\n",
      "IALSRecommender: Epoch 20 of 97. Elapsed time 2.83 min\n",
      "IALSRecommender: Epoch 21 of 97. Elapsed time 2.96 min\n",
      "IALSRecommender: Epoch 22 of 97. Elapsed time 3.09 min\n",
      "IALSRecommender: Epoch 23 of 97. Elapsed time 3.21 min\n",
      "IALSRecommender: Epoch 24 of 97. Elapsed time 3.34 min\n",
      "IALSRecommender: Validation begins...\n",
      "EvaluatorHoldout: Processed 9934 (100.0%) in 6.31 sec. Users per second: 1575\n",
      "IALSRecommender: CUTOFF: 10 - PRECISION: 0.0576706, PRECISION_RECALL_MIN_DEN: 0.1203678, RECALL: 0.1098388, MAP: 0.0278132, MAP_MIN_DEN: 0.0572424, MRR: 0.1903684, NDCG: 0.1039239, F1: 0.0756312, HIT_RATE: 0.3900745, ARHR_ALL_HITS: 0.2290059, NOVELTY: 0.0047272, AVERAGE_POPULARITY: 0.2266832, DIVERSITY_MEAN_INTER_LIST: 0.9712877, DIVERSITY_HERFINDAHL: 0.9971190, COVERAGE_ITEM: 0.0623769, COVERAGE_ITEM_HIT: 0.0353052, ITEMS_IN_GT: 0.7219885, COVERAGE_USER: 0.7626871, COVERAGE_USER_HIT: 0.2975048, USERS_IN_GT: 0.7626871, DIVERSITY_GINI: 0.0162795, SHANNON_ENTROPY: 8.9401898, RATIO_DIVERSITY_HERFINDAHL: 0.9974798, RATIO_DIVERSITY_GINI: 0.0468465, RATIO_SHANNON_ENTROPY: 0.6885627, RATIO_AVERAGE_POPULARITY: 1.9101235, RATIO_NOVELTY: 0.2604426, \n",
      "\n",
      "IALSRecommender: New best model found! Updating.\n",
      "IALSRecommender: Epoch 25 of 97. Elapsed time 3.58 min\n",
      "IALSRecommender: Epoch 26 of 97. Elapsed time 3.72 min\n",
      "IALSRecommender: Epoch 27 of 97. Elapsed time 3.85 min\n",
      "IALSRecommender: Epoch 28 of 97. Elapsed time 3.99 min\n",
      "IALSRecommender: Epoch 29 of 97. Elapsed time 4.13 min\n",
      "IALSRecommender: Validation begins...\n",
      "EvaluatorHoldout: Processed 9934 (100.0%) in 6.08 sec. Users per second: 1633\n",
      "IALSRecommender: CUTOFF: 10 - PRECISION: 0.0577008, PRECISION_RECALL_MIN_DEN: 0.1209945, RECALL: 0.1105116, MAP: 0.0278798, MAP_MIN_DEN: 0.0575629, MRR: 0.1910135, NDCG: 0.1043625, F1: 0.0758162, HIT_RATE: 0.3906785, ARHR_ALL_HITS: 0.2296640, NOVELTY: 0.0047281, AVERAGE_POPULARITY: 0.2264609, DIVERSITY_MEAN_INTER_LIST: 0.9713369, DIVERSITY_HERFINDAHL: 0.9971239, COVERAGE_ITEM: 0.0628244, COVERAGE_ITEM_HIT: 0.0357079, ITEMS_IN_GT: 0.7219885, COVERAGE_USER: 0.7626871, COVERAGE_USER_HIT: 0.2979655, USERS_IN_GT: 0.7626871, DIVERSITY_GINI: 0.0163167, SHANNON_ENTROPY: 8.9434760, RATIO_DIVERSITY_HERFINDAHL: 0.9974847, RATIO_DIVERSITY_GINI: 0.0469537, RATIO_SHANNON_ENTROPY: 0.6888158, RATIO_AVERAGE_POPULARITY: 1.9082500, RATIO_NOVELTY: 0.2604875, \n",
      "\n",
      "IALSRecommender: New best model found! Updating.\n",
      "IALSRecommender: Epoch 30 of 97. Elapsed time 4.37 min\n",
      "IALSRecommender: Epoch 31 of 97. Elapsed time 4.51 min\n",
      "IALSRecommender: Epoch 32 of 97. Elapsed time 4.64 min\n",
      "IALSRecommender: Epoch 33 of 97. Elapsed time 4.78 min\n",
      "IALSRecommender: Epoch 34 of 97. Elapsed time 4.92 min\n",
      "IALSRecommender: Validation begins...\n",
      "EvaluatorHoldout: Processed 9934 (100.0%) in 6.54 sec. Users per second: 1518\n",
      "IALSRecommender: CUTOFF: 10 - PRECISION: 0.0578216, PRECISION_RECALL_MIN_DEN: 0.1215655, RECALL: 0.1110897, MAP: 0.0279330, MAP_MIN_DEN: 0.0577298, MRR: 0.1914751, NDCG: 0.1046713, F1: 0.0760563, HIT_RATE: 0.3914838, ARHR_ALL_HITS: 0.2301586, NOVELTY: 0.0047286, AVERAGE_POPULARITY: 0.2263453, DIVERSITY_MEAN_INTER_LIST: 0.9713897, DIVERSITY_HERFINDAHL: 0.9971292, COVERAGE_ITEM: 0.0625559, COVERAGE_ITEM_HIT: 0.0356184, ITEMS_IN_GT: 0.7219885, COVERAGE_USER: 0.7626871, COVERAGE_USER_HIT: 0.2985797, USERS_IN_GT: 0.7626871, DIVERSITY_GINI: 0.0163202, SHANNON_ENTROPY: 8.9440318, RATIO_DIVERSITY_HERFINDAHL: 0.9974900, RATIO_DIVERSITY_GINI: 0.0469637, RATIO_SHANNON_ENTROPY: 0.6888586, RATIO_AVERAGE_POPULARITY: 1.9072761, RATIO_NOVELTY: 0.2605147, \n",
      "\n",
      "IALSRecommender: New best model found! Updating.\n",
      "IALSRecommender: Epoch 35 of 97. Elapsed time 5.17 min\n"
     ]
    },
    {
     "name": "stdout",
     "output_type": "stream",
     "text": [
      "IALSRecommender: Epoch 36 of 97. Elapsed time 5.31 min\n",
      "IALSRecommender: Epoch 37 of 97. Elapsed time 5.46 min\n",
      "IALSRecommender: Epoch 38 of 97. Elapsed time 5.59 min\n",
      "IALSRecommender: Epoch 39 of 97. Elapsed time 5.73 min\n",
      "IALSRecommender: Validation begins...\n",
      "EvaluatorHoldout: Processed 9934 (100.0%) in 6.35 sec. Users per second: 1565\n",
      "IALSRecommender: CUTOFF: 10 - PRECISION: 0.0580230, PRECISION_RECALL_MIN_DEN: 0.1220003, RECALL: 0.1115118, MAP: 0.0279167, MAP_MIN_DEN: 0.0577897, MRR: 0.1917362, NDCG: 0.1048913, F1: 0.0763294, HIT_RATE: 0.3936984, ARHR_ALL_HITS: 0.2302756, NOVELTY: 0.0047289, AVERAGE_POPULARITY: 0.2262748, DIVERSITY_MEAN_INTER_LIST: 0.9714464, DIVERSITY_HERFINDAHL: 0.9971349, COVERAGE_ITEM: 0.0626007, COVERAGE_ITEM_HIT: 0.0354842, ITEMS_IN_GT: 0.7219885, COVERAGE_USER: 0.7626871, COVERAGE_USER_HIT: 0.3002687, USERS_IN_GT: 0.7626871, DIVERSITY_GINI: 0.0163413, SHANNON_ENTROPY: 8.9460121, RATIO_DIVERSITY_HERFINDAHL: 0.9974957, RATIO_DIVERSITY_GINI: 0.0470244, RATIO_SHANNON_ENTROPY: 0.6890111, RATIO_AVERAGE_POPULARITY: 1.9066819, RATIO_NOVELTY: 0.2605341, \n",
      "\n",
      "IALSRecommender: Epoch 40 of 97. Elapsed time 5.98 min\n",
      "IALSRecommender: Epoch 41 of 97. Elapsed time 6.12 min\n",
      "IALSRecommender: Epoch 42 of 97. Elapsed time 6.26 min\n",
      "IALSRecommender: Epoch 43 of 97. Elapsed time 6.40 min\n",
      "IALSRecommender: Epoch 44 of 97. Elapsed time 6.54 min\n",
      "IALSRecommender: Validation begins...\n",
      "EvaluatorHoldout: Processed 9934 (100.0%) in 6.40 sec. Users per second: 1553\n",
      "IALSRecommender: CUTOFF: 10 - PRECISION: 0.0581639, PRECISION_RECALL_MIN_DEN: 0.1219619, RECALL: 0.1114140, MAP: 0.0279462, MAP_MIN_DEN: 0.0578173, MRR: 0.1918161, NDCG: 0.1049610, F1: 0.0764282, HIT_RATE: 0.3938997, ARHR_ALL_HITS: 0.2304018, NOVELTY: 0.0047288, AVERAGE_POPULARITY: 0.2263303, DIVERSITY_MEAN_INTER_LIST: 0.9714216, DIVERSITY_HERFINDAHL: 0.9971324, COVERAGE_ITEM: 0.0622427, COVERAGE_ITEM_HIT: 0.0357079, ITEMS_IN_GT: 0.7219885, COVERAGE_USER: 0.7626871, COVERAGE_USER_HIT: 0.3004223, USERS_IN_GT: 0.7626871, DIVERSITY_GINI: 0.0163287, SHANNON_ENTROPY: 8.9448358, RATIO_DIVERSITY_HERFINDAHL: 0.9974932, RATIO_DIVERSITY_GINI: 0.0469881, RATIO_SHANNON_ENTROPY: 0.6889205, RATIO_AVERAGE_POPULARITY: 1.9071491, RATIO_NOVELTY: 0.2605263, \n",
      "\n",
      "IALSRecommender: New best model found! Updating.\n",
      "IALSRecommender: Epoch 45 of 97. Elapsed time 6.79 min\n",
      "IALSRecommender: Epoch 46 of 97. Elapsed time 6.93 min\n",
      "IALSRecommender: Epoch 47 of 97. Elapsed time 7.07 min\n",
      "IALSRecommender: Epoch 48 of 97. Elapsed time 7.21 min\n",
      "IALSRecommender: Epoch 49 of 97. Elapsed time 7.36 min\n",
      "IALSRecommender: Validation begins...\n",
      "EvaluatorHoldout: Processed 9934 (100.0%) in 6.26 sec. Users per second: 1588\n",
      "IALSRecommender: CUTOFF: 10 - PRECISION: 0.0582041, PRECISION_RECALL_MIN_DEN: 0.1216647, RECALL: 0.1110972, MAP: 0.0279503, MAP_MIN_DEN: 0.0577450, MRR: 0.1914124, NDCG: 0.1048453, F1: 0.0763883, HIT_RATE: 0.3935977, ARHR_ALL_HITS: 0.2302155, NOVELTY: 0.0047296, AVERAGE_POPULARITY: 0.2260080, DIVERSITY_MEAN_INTER_LIST: 0.9714681, DIVERSITY_HERFINDAHL: 0.9971370, COVERAGE_ITEM: 0.0621085, COVERAGE_ITEM_HIT: 0.0356631, ITEMS_IN_GT: 0.7219885, COVERAGE_USER: 0.7626871, COVERAGE_USER_HIT: 0.3001919, USERS_IN_GT: 0.7626871, DIVERSITY_GINI: 0.0163559, SHANNON_ENTROPY: 8.9472464, RATIO_DIVERSITY_HERFINDAHL: 0.9974979, RATIO_DIVERSITY_GINI: 0.0470665, RATIO_SHANNON_ENTROPY: 0.6891062, RATIO_AVERAGE_POPULARITY: 1.9044334, RATIO_NOVELTY: 0.2605718, \n",
      "\n",
      "IALSRecommender: New best model found! Updating.\n",
      "IALSRecommender: Epoch 50 of 97. Elapsed time 7.60 min\n",
      "IALSRecommender: Epoch 51 of 97. Elapsed time 7.74 min\n",
      "IALSRecommender: Epoch 52 of 97. Elapsed time 7.88 min\n",
      "IALSRecommender: Epoch 53 of 97. Elapsed time 8.02 min\n",
      "IALSRecommender: Epoch 54 of 97. Elapsed time 8.16 min\n",
      "IALSRecommender: Validation begins...\n",
      "EvaluatorHoldout: Processed 9934 (100.0%) in 6.23 sec. Users per second: 1594\n",
      "IALSRecommender: CUTOFF: 10 - PRECISION: 0.0582243, PRECISION_RECALL_MIN_DEN: 0.1216980, RECALL: 0.1111104, MAP: 0.0279577, MAP_MIN_DEN: 0.0577960, MRR: 0.1915014, NDCG: 0.1049037, F1: 0.0764087, HIT_RATE: 0.3937991, ARHR_ALL_HITS: 0.2303138, NOVELTY: 0.0047299, AVERAGE_POPULARITY: 0.2259610, DIVERSITY_MEAN_INTER_LIST: 0.9714942, DIVERSITY_HERFINDAHL: 0.9971396, COVERAGE_ITEM: 0.0621532, COVERAGE_ITEM_HIT: 0.0355289, ITEMS_IN_GT: 0.7219885, COVERAGE_USER: 0.7626871, COVERAGE_USER_HIT: 0.3003455, USERS_IN_GT: 0.7626871, DIVERSITY_GINI: 0.0163668, SHANNON_ENTROPY: 8.9482420, RATIO_DIVERSITY_HERFINDAHL: 0.9975005, RATIO_DIVERSITY_GINI: 0.0470978, RATIO_SHANNON_ENTROPY: 0.6891829, RATIO_AVERAGE_POPULARITY: 1.9040376, RATIO_NOVELTY: 0.2605906, \n",
      "\n",
      "IALSRecommender: New best model found! Updating.\n",
      "IALSRecommender: Epoch 55 of 97. Elapsed time 8.40 min\n",
      "IALSRecommender: Epoch 56 of 97. Elapsed time 8.54 min\n",
      "IALSRecommender: Epoch 57 of 97. Elapsed time 8.67 min\n",
      "IALSRecommender: Epoch 58 of 97. Elapsed time 8.81 min\n",
      "IALSRecommender: Epoch 59 of 97. Elapsed time 8.95 min\n",
      "IALSRecommender: Validation begins...\n",
      "EvaluatorHoldout: Processed 9934 (100.0%) in 6.25 sec. Users per second: 1589\n",
      "IALSRecommender: CUTOFF: 10 - PRECISION: 0.0581739, PRECISION_RECALL_MIN_DEN: 0.1214695, RECALL: 0.1109138, MAP: 0.0279251, MAP_MIN_DEN: 0.0577306, MRR: 0.1914996, NDCG: 0.1048018, F1: 0.0763189, HIT_RATE: 0.3942017, ARHR_ALL_HITS: 0.2302102, NOVELTY: 0.0047297, AVERAGE_POPULARITY: 0.2259821, DIVERSITY_MEAN_INTER_LIST: 0.9714942, DIVERSITY_HERFINDAHL: 0.9971396, COVERAGE_ITEM: 0.0621532, COVERAGE_ITEM_HIT: 0.0353052, ITEMS_IN_GT: 0.7219885, COVERAGE_USER: 0.7626871, COVERAGE_USER_HIT: 0.3006526, USERS_IN_GT: 0.7626871, DIVERSITY_GINI: 0.0163563, SHANNON_ENTROPY: 8.9473778, RATIO_DIVERSITY_HERFINDAHL: 0.9975005, RATIO_DIVERSITY_GINI: 0.0470675, RATIO_SHANNON_ENTROPY: 0.6891163, RATIO_AVERAGE_POPULARITY: 1.9042152, RATIO_NOVELTY: 0.2605777, \n",
      "\n",
      "IALSRecommender: Epoch 60 of 97. Elapsed time 9.20 min\n",
      "IALSRecommender: Epoch 61 of 97. Elapsed time 9.34 min\n",
      "IALSRecommender: Epoch 62 of 97. Elapsed time 9.48 min\n",
      "IALSRecommender: Epoch 63 of 97. Elapsed time 9.62 min\n",
      "IALSRecommender: Epoch 64 of 97. Elapsed time 9.76 min\n",
      "IALSRecommender: Validation begins...\n",
      "EvaluatorHoldout: Processed 9934 (100.0%) in 6.17 sec. Users per second: 1611\n",
      "IALSRecommender: CUTOFF: 10 - PRECISION: 0.0582041, PRECISION_RECALL_MIN_DEN: 0.1214599, RECALL: 0.1108917, MAP: 0.0279404, MAP_MIN_DEN: 0.0577923, MRR: 0.1914870, NDCG: 0.1048600, F1: 0.0763396, HIT_RATE: 0.3944031, ARHR_ALL_HITS: 0.2303090, NOVELTY: 0.0047297, AVERAGE_POPULARITY: 0.2260520, DIVERSITY_MEAN_INTER_LIST: 0.9714942, DIVERSITY_HERFINDAHL: 0.9971396, COVERAGE_ITEM: 0.0621085, COVERAGE_ITEM_HIT: 0.0354842, ITEMS_IN_GT: 0.7219885, COVERAGE_USER: 0.7626871, COVERAGE_USER_HIT: 0.3008061, USERS_IN_GT: 0.7626871, DIVERSITY_GINI: 0.0163577, SHANNON_ENTROPY: 8.9474975, RATIO_DIVERSITY_HERFINDAHL: 0.9975005, RATIO_DIVERSITY_GINI: 0.0470716, RATIO_SHANNON_ENTROPY: 0.6891255, RATIO_AVERAGE_POPULARITY: 1.9048040, RATIO_NOVELTY: 0.2605778, \n",
      "\n",
      "IALSRecommender: Epoch 65 of 97. Elapsed time 10.00 min\n",
      "IALSRecommender: Epoch 66 of 97. Elapsed time 10.14 min\n",
      "IALSRecommender: Epoch 67 of 97. Elapsed time 10.27 min\n",
      "IALSRecommender: Epoch 68 of 97. Elapsed time 10.41 min\n",
      "IALSRecommender: Epoch 69 of 97. Elapsed time 10.55 min\n",
      "IALSRecommender: Validation begins...\n",
      "EvaluatorHoldout: Processed 9934 (100.0%) in 6.05 sec. Users per second: 1641\n",
      "IALSRecommender: CUTOFF: 10 - PRECISION: 0.0580934, PRECISION_RECALL_MIN_DEN: 0.1211758, RECALL: 0.1106679, MAP: 0.0279088, MAP_MIN_DEN: 0.0576773, MRR: 0.1913695, NDCG: 0.1046880, F1: 0.0761914, HIT_RATE: 0.3934971, ARHR_ALL_HITS: 0.2301380, NOVELTY: 0.0047295, AVERAGE_POPULARITY: 0.2261353, DIVERSITY_MEAN_INTER_LIST: 0.9714780, DIVERSITY_HERFINDAHL: 0.9971380, COVERAGE_ITEM: 0.0622875, COVERAGE_ITEM_HIT: 0.0355289, ITEMS_IN_GT: 0.7219885, COVERAGE_USER: 0.7626871, COVERAGE_USER_HIT: 0.3001152, USERS_IN_GT: 0.7626871, DIVERSITY_GINI: 0.0163539, SHANNON_ENTROPY: 8.9471452, RATIO_DIVERSITY_HERFINDAHL: 0.9974988, RATIO_DIVERSITY_GINI: 0.0470607, RATIO_SHANNON_ENTROPY: 0.6890984, RATIO_AVERAGE_POPULARITY: 1.9055063, RATIO_NOVELTY: 0.2605669, \n",
      "\n",
      "IALSRecommender: Epoch 70 of 97. Elapsed time 10.79 min\n",
      "IALSRecommender: Epoch 71 of 97. Elapsed time 10.92 min\n"
     ]
    },
    {
     "name": "stdout",
     "output_type": "stream",
     "text": [
      "IALSRecommender: Epoch 72 of 97. Elapsed time 11.06 min\n",
      "IALSRecommender: Epoch 73 of 97. Elapsed time 11.20 min\n",
      "IALSRecommender: Epoch 74 of 97. Elapsed time 11.33 min\n",
      "IALSRecommender: Validation begins...\n",
      "EvaluatorHoldout: Processed 9934 (100.0%) in 6.00 sec. Users per second: 1657\n",
      "IALSRecommender: CUTOFF: 10 - PRECISION: 0.0581035, PRECISION_RECALL_MIN_DEN: 0.1211646, RECALL: 0.1106457, MAP: 0.0279011, MAP_MIN_DEN: 0.0576321, MRR: 0.1912245, NDCG: 0.1046413, F1: 0.0761947, HIT_RATE: 0.3931951, ARHR_ALL_HITS: 0.2299730, NOVELTY: 0.0047294, AVERAGE_POPULARITY: 0.2261765, DIVERSITY_MEAN_INTER_LIST: 0.9714730, DIVERSITY_HERFINDAHL: 0.9971375, COVERAGE_ITEM: 0.0622427, COVERAGE_ITEM_HIT: 0.0356184, ITEMS_IN_GT: 0.7219885, COVERAGE_USER: 0.7626871, COVERAGE_USER_HIT: 0.2998848, USERS_IN_GT: 0.7626871, DIVERSITY_GINI: 0.0163542, SHANNON_ENTROPY: 8.9471531, RATIO_DIVERSITY_HERFINDAHL: 0.9974983, RATIO_DIVERSITY_GINI: 0.0470616, RATIO_SHANNON_ENTROPY: 0.6890990, RATIO_AVERAGE_POPULARITY: 1.9058536, RATIO_NOVELTY: 0.2605590, \n",
      "\n",
      "IALSRecommender: Epoch 75 of 97. Elapsed time 11.57 min\n",
      "IALSRecommender: Epoch 76 of 97. Elapsed time 11.70 min\n",
      "IALSRecommender: Epoch 77 of 97. Elapsed time 11.84 min\n",
      "IALSRecommender: Epoch 78 of 97. Elapsed time 11.97 min\n",
      "IALSRecommender: Epoch 79 of 97. Elapsed time 12.11 min\n",
      "IALSRecommender: Validation begins...\n",
      "EvaluatorHoldout: Processed 9934 (100.0%) in 6.01 sec. Users per second: 1652\n",
      "IALSRecommender: CUTOFF: 10 - PRECISION: 0.0580733, PRECISION_RECALL_MIN_DEN: 0.1210065, RECALL: 0.1104699, MAP: 0.0278702, MAP_MIN_DEN: 0.0575866, MRR: 0.1911114, NDCG: 0.1045632, F1: 0.0761271, HIT_RATE: 0.3929938, ARHR_ALL_HITS: 0.2298357, NOVELTY: 0.0047293, AVERAGE_POPULARITY: 0.2261959, DIVERSITY_MEAN_INTER_LIST: 0.9714819, DIVERSITY_HERFINDAHL: 0.9971384, COVERAGE_ITEM: 0.0624217, COVERAGE_ITEM_HIT: 0.0355289, ITEMS_IN_GT: 0.7219885, COVERAGE_USER: 0.7626871, COVERAGE_USER_HIT: 0.2997313, USERS_IN_GT: 0.7626871, DIVERSITY_GINI: 0.0163510, SHANNON_ENTROPY: 8.9469658, RATIO_DIVERSITY_HERFINDAHL: 0.9974992, RATIO_DIVERSITY_GINI: 0.0470524, RATIO_SHANNON_ENTROPY: 0.6890846, RATIO_AVERAGE_POPULARITY: 1.9060173, RATIO_NOVELTY: 0.2605585, \n",
      "\n",
      "IALSRecommender: Convergence reached! Terminating at epoch 80. Best value for 'MAP' at epoch 55 is 0.0280. Elapsed time 12.34 min\n",
      "IALSRecommender: Epoch 80 of 97. Elapsed time 12.34 min\n",
      "EvaluatorHoldout: Processed 9934 (100.0%) in 5.98 sec. Users per second: 1661\n"
     ]
    },
    {
     "name": "stderr",
     "output_type": "stream",
     "text": [
      "[I 2023-12-06 14:49:51,286] Trial 4 finished with value: 0.027957727349714613 and parameters: {'epochs': 97, 'num_factors': 112, 'reg': 0.042396416880571886, 'alpha': 1.6409742513177161}. Best is trial 4 with value: 0.027957727349714613.\n"
     ]
    },
    {
     "name": "stdout",
     "output_type": "stream",
     "text": [
      "IALSRecommender: URM Detected 550 ( 4.2%) users with no interactions.\n",
      "IALSRecommender: URM Detected 206 ( 0.9%) items with no interactions.\n",
      "IALSRecommender: Epoch 1 of 141. Elapsed time 0.93 sec\n",
      "IALSRecommender: Epoch 2 of 141. Elapsed time 1.88 sec\n",
      "IALSRecommender: Epoch 3 of 141. Elapsed time 2.79 sec\n",
      "IALSRecommender: Epoch 4 of 141. Elapsed time 3.73 sec\n",
      "IALSRecommender: Validation begins...\n",
      "EvaluatorHoldout: Processed 9934 (100.0%) in 5.51 sec. Users per second: 1802\n",
      "IALSRecommender: CUTOFF: 10 - PRECISION: 0.0448158, PRECISION_RECALL_MIN_DEN: 0.0950995, RECALL: 0.0869618, MAP: 0.0191509, MAP_MIN_DEN: 0.0403145, MRR: 0.1388594, NDCG: 0.0772432, F1: 0.0591491, HIT_RATE: 0.3279646, ARHR_ALL_HITS: 0.1623029, NOVELTY: 0.0042946, AVERAGE_POPULARITY: 0.4328118, DIVERSITY_MEAN_INTER_LIST: 0.8703285, DIVERSITY_HERFINDAHL: 0.9870241, COVERAGE_ITEM: 0.0215232, COVERAGE_ITEM_HIT: 0.0126186, ITEMS_IN_GT: 0.7219885, COVERAGE_USER: 0.7626871, COVERAGE_USER_HIT: 0.2501344, USERS_IN_GT: 0.7626871, DIVERSITY_GINI: 0.0047150, SHANNON_ENTROPY: 7.0674222, RATIO_DIVERSITY_HERFINDAHL: 0.9873813, RATIO_DIVERSITY_GINI: 0.0135682, RATIO_SHANNON_ENTROPY: 0.5443244, RATIO_AVERAGE_POPULARITY: 3.6470452, RATIO_NOVELTY: 0.2366062, \n",
      "\n",
      "IALSRecommender: New best model found! Updating.\n",
      "IALSRecommender: Epoch 5 of 141. Elapsed time 10.19 sec\n",
      "IALSRecommender: Epoch 6 of 141. Elapsed time 11.19 sec\n",
      "IALSRecommender: Epoch 7 of 141. Elapsed time 12.21 sec\n",
      "IALSRecommender: Epoch 8 of 141. Elapsed time 13.31 sec\n",
      "IALSRecommender: Epoch 9 of 141. Elapsed time 14.33 sec\n",
      "IALSRecommender: Validation begins...\n",
      "EvaluatorHoldout: Processed 9934 (100.0%) in 5.47 sec. Users per second: 1814\n",
      "IALSRecommender: CUTOFF: 10 - PRECISION: 0.0449366, PRECISION_RECALL_MIN_DEN: 0.0952279, RECALL: 0.0870784, MAP: 0.0190962, MAP_MIN_DEN: 0.0403061, MRR: 0.1387422, NDCG: 0.0773800, F1: 0.0592812, HIT_RATE: 0.3274612, ARHR_ALL_HITS: 0.1621394, NOVELTY: 0.0042966, AVERAGE_POPULARITY: 0.4310225, DIVERSITY_MEAN_INTER_LIST: 0.8723393, DIVERSITY_HERFINDAHL: 0.9872251, COVERAGE_ITEM: 0.0221496, COVERAGE_ITEM_HIT: 0.0128423, ITEMS_IN_GT: 0.7219885, COVERAGE_USER: 0.7626871, COVERAGE_USER_HIT: 0.2497505, USERS_IN_GT: 0.7626871, DIVERSITY_GINI: 0.0047476, SHANNON_ENTROPY: 7.0811094, RATIO_DIVERSITY_HERFINDAHL: 0.9875824, RATIO_DIVERSITY_GINI: 0.0136620, RATIO_SHANNON_ENTROPY: 0.5453785, RATIO_AVERAGE_POPULARITY: 3.6319673, RATIO_NOVELTY: 0.2367193, \n",
      "\n",
      "IALSRecommender: Epoch 10 of 141. Elapsed time 20.78 sec\n",
      "IALSRecommender: Epoch 11 of 141. Elapsed time 21.79 sec\n",
      "IALSRecommender: Epoch 12 of 141. Elapsed time 22.75 sec\n",
      "IALSRecommender: Epoch 13 of 141. Elapsed time 23.69 sec\n",
      "IALSRecommender: Epoch 14 of 141. Elapsed time 24.64 sec\n",
      "IALSRecommender: Validation begins...\n",
      "EvaluatorHoldout: Processed 9934 (100.0%) in 5.40 sec. Users per second: 1838\n",
      "IALSRecommender: CUTOFF: 10 - PRECISION: 0.0451580, PRECISION_RECALL_MIN_DEN: 0.0962284, RECALL: 0.0881132, MAP: 0.0191510, MAP_MIN_DEN: 0.0408797, MRR: 0.1400218, NDCG: 0.0781695, F1: 0.0597131, HIT_RATE: 0.3319911, ARHR_ALL_HITS: 0.1630688, NOVELTY: 0.0042979, AVERAGE_POPULARITY: 0.4297185, DIVERSITY_MEAN_INTER_LIST: 0.8736972, DIVERSITY_HERFINDAHL: 0.9873609, COVERAGE_ITEM: 0.0221944, COVERAGE_ITEM_HIT: 0.0133345, ITEMS_IN_GT: 0.7219885, COVERAGE_USER: 0.7626871, COVERAGE_USER_HIT: 0.2532054, USERS_IN_GT: 0.7626871, DIVERSITY_GINI: 0.0047575, SHANNON_ENTROPY: 7.0869513, RATIO_DIVERSITY_HERFINDAHL: 0.9877182, RATIO_DIVERSITY_GINI: 0.0136902, RATIO_SHANNON_ENTROPY: 0.5458285, RATIO_AVERAGE_POPULARITY: 3.6209799, RATIO_NOVELTY: 0.2367857, \n",
      "\n",
      "IALSRecommender: New best model found! Updating.\n",
      "IALSRecommender: Epoch 15 of 141. Elapsed time 30.98 sec\n",
      "IALSRecommender: Epoch 16 of 141. Elapsed time 31.96 sec\n",
      "IALSRecommender: Epoch 17 of 141. Elapsed time 32.92 sec\n",
      "IALSRecommender: Epoch 18 of 141. Elapsed time 33.80 sec\n",
      "IALSRecommender: Epoch 19 of 141. Elapsed time 34.75 sec\n",
      "IALSRecommender: Validation begins...\n",
      "EvaluatorHoldout: Processed 9934 (100.0%) in 5.38 sec. Users per second: 1847\n",
      "IALSRecommender: CUTOFF: 10 - PRECISION: 0.0453090, PRECISION_RECALL_MIN_DEN: 0.0969473, RECALL: 0.0887179, MAP: 0.0192357, MAP_MIN_DEN: 0.0412794, MRR: 0.1403167, NDCG: 0.0786169, F1: 0.0599838, HIT_RATE: 0.3315885, ARHR_ALL_HITS: 0.1635742, NOVELTY: 0.0042979, AVERAGE_POPULARITY: 0.4293971, DIVERSITY_MEAN_INTER_LIST: 0.8739716, DIVERSITY_HERFINDAHL: 0.9873884, COVERAGE_ITEM: 0.0219706, COVERAGE_ITEM_HIT: 0.0132898, ITEMS_IN_GT: 0.7219885, COVERAGE_USER: 0.7626871, COVERAGE_USER_HIT: 0.2528983, USERS_IN_GT: 0.7626871, DIVERSITY_GINI: 0.0047537, SHANNON_ENTROPY: 7.0864952, RATIO_DIVERSITY_HERFINDAHL: 0.9877457, RATIO_DIVERSITY_GINI: 0.0136795, RATIO_SHANNON_ENTROPY: 0.5457934, RATIO_AVERAGE_POPULARITY: 3.6182711, RATIO_NOVELTY: 0.2367885, \n",
      "\n",
      "IALSRecommender: New best model found! Updating.\n",
      "IALSRecommender: Epoch 20 of 141. Elapsed time 41.12 sec\n",
      "IALSRecommender: Epoch 21 of 141. Elapsed time 42.04 sec\n",
      "IALSRecommender: Epoch 22 of 141. Elapsed time 42.94 sec\n",
      "IALSRecommender: Epoch 23 of 141. Elapsed time 43.83 sec\n",
      "IALSRecommender: Epoch 24 of 141. Elapsed time 44.76 sec\n",
      "IALSRecommender: Validation begins...\n",
      "EvaluatorHoldout: Processed 9934 (100.0%) in 5.39 sec. Users per second: 1842\n",
      "IALSRecommender: CUTOFF: 10 - PRECISION: 0.0453694, PRECISION_RECALL_MIN_DEN: 0.0971770, RECALL: 0.0889984, MAP: 0.0192427, MAP_MIN_DEN: 0.0411897, MRR: 0.1404230, NDCG: 0.0786137, F1: 0.0601008, HIT_RATE: 0.3323938, ARHR_ALL_HITS: 0.1636498, NOVELTY: 0.0042978, AVERAGE_POPULARITY: 0.4294658, DIVERSITY_MEAN_INTER_LIST: 0.8738445, DIVERSITY_HERFINDAHL: 0.9873757, COVERAGE_ITEM: 0.0219706, COVERAGE_ITEM_HIT: 0.0130660, ITEMS_IN_GT: 0.7219885, COVERAGE_USER: 0.7626871, COVERAGE_USER_HIT: 0.2535125, USERS_IN_GT: 0.7626871, DIVERSITY_GINI: 0.0047552, SHANNON_ENTROPY: 7.0862101, RATIO_DIVERSITY_HERFINDAHL: 0.9877329, RATIO_DIVERSITY_GINI: 0.0136839, RATIO_SHANNON_ENTROPY: 0.5457714, RATIO_AVERAGE_POPULARITY: 3.6188507, RATIO_NOVELTY: 0.2367823, \n",
      "\n",
      "IALSRecommender: New best model found! Updating.\n",
      "IALSRecommender: Epoch 25 of 141. Elapsed time 51.13 sec\n",
      "IALSRecommender: Epoch 26 of 141. Elapsed time 52.07 sec\n",
      "IALSRecommender: Epoch 27 of 141. Elapsed time 52.97 sec\n",
      "IALSRecommender: Epoch 28 of 141. Elapsed time 53.91 sec\n",
      "IALSRecommender: Epoch 29 of 141. Elapsed time 54.84 sec\n",
      "IALSRecommender: Validation begins...\n",
      "EvaluatorHoldout: Processed 9934 (100.0%) in 5.40 sec. Users per second: 1840\n",
      "IALSRecommender: CUTOFF: 10 - PRECISION: 0.0453694, PRECISION_RECALL_MIN_DEN: 0.0970464, RECALL: 0.0888658, MAP: 0.0191791, MAP_MIN_DEN: 0.0408731, MRR: 0.1397797, NDCG: 0.0783115, F1: 0.0600705, HIT_RATE: 0.3323938, ARHR_ALL_HITS: 0.1629961, NOVELTY: 0.0042972, AVERAGE_POPULARITY: 0.4299001, DIVERSITY_MEAN_INTER_LIST: 0.8734371, DIVERSITY_HERFINDAHL: 0.9873349, COVERAGE_ITEM: 0.0221049, COVERAGE_ITEM_HIT: 0.0132898, ITEMS_IN_GT: 0.7219885, COVERAGE_USER: 0.7626871, COVERAGE_USER_HIT: 0.2535125, USERS_IN_GT: 0.7626871, DIVERSITY_GINI: 0.0047461, SHANNON_ENTROPY: 7.0829955, RATIO_DIVERSITY_HERFINDAHL: 0.9876922, RATIO_DIVERSITY_GINI: 0.0136575, RATIO_SHANNON_ENTROPY: 0.5455238, RATIO_AVERAGE_POPULARITY: 3.6225097, RATIO_NOVELTY: 0.2367494, \n",
      "\n",
      "IALSRecommender: Epoch 30 of 141. Elapsed time 1.02 min\n",
      "IALSRecommender: Epoch 31 of 141. Elapsed time 1.04 min\n",
      "IALSRecommender: Epoch 32 of 141. Elapsed time 1.05 min\n",
      "IALSRecommender: Epoch 33 of 141. Elapsed time 1.07 min\n",
      "IALSRecommender: Epoch 34 of 141. Elapsed time 1.08 min\n",
      "IALSRecommender: Validation begins...\n",
      "EvaluatorHoldout: Processed 9934 (100.0%) in 5.60 sec. Users per second: 1774\n",
      "IALSRecommender: CUTOFF: 10 - PRECISION: 0.0453392, PRECISION_RECALL_MIN_DEN: 0.0966237, RECALL: 0.0883996, MAP: 0.0191833, MAP_MIN_DEN: 0.0408071, MRR: 0.1399184, NDCG: 0.0782036, F1: 0.0599373, HIT_RATE: 0.3317898, ARHR_ALL_HITS: 0.1631417, NOVELTY: 0.0042968, AVERAGE_POPULARITY: 0.4302717, DIVERSITY_MEAN_INTER_LIST: 0.8730651, DIVERSITY_HERFINDAHL: 0.9872977, COVERAGE_ITEM: 0.0223286, COVERAGE_ITEM_HIT: 0.0131108, ITEMS_IN_GT: 0.7219885, COVERAGE_USER: 0.7626871, COVERAGE_USER_HIT: 0.2530518, USERS_IN_GT: 0.7626871, DIVERSITY_GINI: 0.0047435, SHANNON_ENTROPY: 7.0813424, RATIO_DIVERSITY_HERFINDAHL: 0.9876550, RATIO_DIVERSITY_GINI: 0.0136500, RATIO_SHANNON_ENTROPY: 0.5453965, RATIO_AVERAGE_POPULARITY: 3.6256415, RATIO_NOVELTY: 0.2367273, \n",
      "\n",
      "IALSRecommender: Epoch 35 of 141. Elapsed time 1.19 min\n"
     ]
    },
    {
     "name": "stdout",
     "output_type": "stream",
     "text": [
      "IALSRecommender: Epoch 36 of 141. Elapsed time 1.21 min\n",
      "IALSRecommender: Epoch 37 of 141. Elapsed time 1.22 min\n",
      "IALSRecommender: Epoch 38 of 141. Elapsed time 1.24 min\n",
      "IALSRecommender: Epoch 39 of 141. Elapsed time 1.25 min\n",
      "IALSRecommender: Validation begins...\n",
      "EvaluatorHoldout: Processed 9934 (100.0%) in 5.50 sec. Users per second: 1805\n",
      "IALSRecommender: CUTOFF: 10 - PRECISION: 0.0452788, PRECISION_RECALL_MIN_DEN: 0.0965770, RECALL: 0.0883770, MAP: 0.0191476, MAP_MIN_DEN: 0.0406348, MRR: 0.1395988, NDCG: 0.0780274, F1: 0.0598793, HIT_RATE: 0.3316891, ARHR_ALL_HITS: 0.1627999, NOVELTY: 0.0042961, AVERAGE_POPULARITY: 0.4307396, DIVERSITY_MEAN_INTER_LIST: 0.8726080, DIVERSITY_HERFINDAHL: 0.9872520, COVERAGE_ITEM: 0.0224629, COVERAGE_ITEM_HIT: 0.0132003, ITEMS_IN_GT: 0.7219885, COVERAGE_USER: 0.7626871, COVERAGE_USER_HIT: 0.2529750, USERS_IN_GT: 0.7626871, DIVERSITY_GINI: 0.0047351, SHANNON_ENTROPY: 7.0780903, RATIO_DIVERSITY_HERFINDAHL: 0.9876093, RATIO_DIVERSITY_GINI: 0.0136260, RATIO_SHANNON_ENTROPY: 0.5451460, RATIO_AVERAGE_POPULARITY: 3.6295835, RATIO_NOVELTY: 0.2366911, \n",
      "\n",
      "IALSRecommender: Epoch 40 of 141. Elapsed time 1.36 min\n",
      "IALSRecommender: Epoch 41 of 141. Elapsed time 1.38 min\n",
      "IALSRecommender: Epoch 42 of 141. Elapsed time 1.39 min\n",
      "IALSRecommender: Epoch 43 of 141. Elapsed time 1.41 min\n",
      "IALSRecommender: Epoch 44 of 141. Elapsed time 1.42 min\n",
      "IALSRecommender: Validation begins...\n",
      "EvaluatorHoldout: Processed 9934 (100.0%) in 5.42 sec. Users per second: 1834\n",
      "IALSRecommender: CUTOFF: 10 - PRECISION: 0.0452788, PRECISION_RECALL_MIN_DEN: 0.0963850, RECALL: 0.0881836, MAP: 0.0191618, MAP_MIN_DEN: 0.0406530, MRR: 0.1396079, NDCG: 0.0779846, F1: 0.0598348, HIT_RATE: 0.3310852, ARHR_ALL_HITS: 0.1628231, NOVELTY: 0.0042956, AVERAGE_POPULARITY: 0.4311593, DIVERSITY_MEAN_INTER_LIST: 0.8721543, DIVERSITY_HERFINDAHL: 0.9872067, COVERAGE_ITEM: 0.0224629, COVERAGE_ITEM_HIT: 0.0132003, ITEMS_IN_GT: 0.7219885, COVERAGE_USER: 0.7626871, COVERAGE_USER_HIT: 0.2525144, USERS_IN_GT: 0.7626871, DIVERSITY_GINI: 0.0047289, SHANNON_ENTROPY: 7.0751638, RATIO_DIVERSITY_HERFINDAHL: 0.9875639, RATIO_DIVERSITY_GINI: 0.0136082, RATIO_SHANNON_ENTROPY: 0.5449206, RATIO_AVERAGE_POPULARITY: 3.6331201, RATIO_NOVELTY: 0.2366637, \n",
      "\n",
      "IALSRecommender: Epoch 45 of 141. Elapsed time 1.53 min\n",
      "IALSRecommender: Epoch 46 of 141. Elapsed time 1.54 min\n",
      "IALSRecommender: Epoch 47 of 141. Elapsed time 1.56 min\n",
      "IALSRecommender: Epoch 48 of 141. Elapsed time 1.58 min\n",
      "IALSRecommender: Epoch 49 of 141. Elapsed time 1.59 min\n",
      "IALSRecommender: Validation begins...\n",
      "EvaluatorHoldout: Processed 9934 (100.0%) in 5.58 sec. Users per second: 1781\n",
      "IALSRecommender: CUTOFF: 10 - PRECISION: 0.0452285, PRECISION_RECALL_MIN_DEN: 0.0959360, RECALL: 0.0876844, MAP: 0.0191706, MAP_MIN_DEN: 0.0407157, MRR: 0.1399518, NDCG: 0.0779611, F1: 0.0596757, HIT_RATE: 0.3307832, ARHR_ALL_HITS: 0.1630600, NOVELTY: 0.0042951, AVERAGE_POPULARITY: 0.4315615, DIVERSITY_MEAN_INTER_LIST: 0.8717709, DIVERSITY_HERFINDAHL: 0.9871683, COVERAGE_ITEM: 0.0224181, COVERAGE_ITEM_HIT: 0.0130660, ITEMS_IN_GT: 0.7219885, COVERAGE_USER: 0.7626871, COVERAGE_USER_HIT: 0.2522841, USERS_IN_GT: 0.7626871, DIVERSITY_GINI: 0.0047258, SHANNON_ENTROPY: 7.0732814, RATIO_DIVERSITY_HERFINDAHL: 0.9875255, RATIO_DIVERSITY_GINI: 0.0135991, RATIO_SHANNON_ENTROPY: 0.5447757, RATIO_AVERAGE_POPULARITY: 3.6365094, RATIO_NOVELTY: 0.2366347, \n",
      "\n",
      "IALSRecommender: Convergence reached! Terminating at epoch 50. Best value for 'MAP' at epoch 25 is 0.0192. Elapsed time 1.70 min\n",
      "IALSRecommender: Epoch 50 of 141. Elapsed time 1.70 min\n",
      "EvaluatorHoldout: Processed 9934 (100.0%) in 5.39 sec. Users per second: 1844\n"
     ]
    },
    {
     "name": "stderr",
     "output_type": "stream",
     "text": [
      "[I 2023-12-06 14:51:38,822] Trial 5 finished with value: 0.019242660288059956 and parameters: {'epochs': 141, 'num_factors': 13, 'reg': 0.05886768069891402, 'alpha': 4.448653355621395}. Best is trial 4 with value: 0.027957727349714613.\n"
     ]
    },
    {
     "name": "stdout",
     "output_type": "stream",
     "text": [
      "IALSRecommender: URM Detected 550 ( 4.2%) users with no interactions.\n",
      "IALSRecommender: URM Detected 206 ( 0.9%) items with no interactions.\n",
      "IALSRecommender: Epoch 1 of 37. Elapsed time 9.21 sec\n",
      "IALSRecommender: Epoch 2 of 37. Elapsed time 18.24 sec\n",
      "IALSRecommender: Epoch 3 of 37. Elapsed time 27.48 sec\n",
      "IALSRecommender: Epoch 4 of 37. Elapsed time 36.45 sec\n",
      "IALSRecommender: Validation begins...\n",
      "EvaluatorHoldout: Processed 9934 (100.0%) in 5.85 sec. Users per second: 1699\n",
      "IALSRecommender: CUTOFF: 10 - PRECISION: 0.0559996, PRECISION_RECALL_MIN_DEN: 0.1234127, RECALL: 0.1142898, MAP: 0.0256605, MAP_MIN_DEN: 0.0566306, MRR: 0.1800643, NDCG: 0.1025402, F1: 0.0751683, HIT_RATE: 0.3895712, ARHR_ALL_HITS: 0.2140956, NOVELTY: 0.0047158, AVERAGE_POPULARITY: 0.2453065, DIVERSITY_MEAN_INTER_LIST: 0.9708957, DIVERSITY_HERFINDAHL: 0.9970798, COVERAGE_ITEM: 0.0767854, COVERAGE_ITEM_HIT: 0.0395114, ITEMS_IN_GT: 0.7219885, COVERAGE_USER: 0.7626871, COVERAGE_USER_HIT: 0.2971209, USERS_IN_GT: 0.7626871, DIVERSITY_GINI: 0.0181532, SHANNON_ENTROPY: 9.0682548, RATIO_DIVERSITY_HERFINDAHL: 0.9974406, RATIO_DIVERSITY_GINI: 0.0522383, RATIO_SHANNON_ENTROPY: 0.6984261, RATIO_AVERAGE_POPULARITY: 2.0670508, RATIO_NOVELTY: 0.2598123, \n",
      "\n",
      "IALSRecommender: New best model found! Updating.\n",
      "IALSRecommender: Epoch 5 of 37. Elapsed time 51.47 sec\n",
      "IALSRecommender: Epoch 6 of 37. Elapsed time 1.01 min\n",
      "IALSRecommender: Epoch 7 of 37. Elapsed time 1.16 min\n",
      "IALSRecommender: Epoch 8 of 37. Elapsed time 1.31 min\n",
      "IALSRecommender: Epoch 9 of 37. Elapsed time 1.46 min\n",
      "IALSRecommender: Validation begins...\n",
      "EvaluatorHoldout: Processed 9934 (100.0%) in 5.63 sec. Users per second: 1764\n",
      "IALSRecommender: CUTOFF: 10 - PRECISION: 0.0579022, PRECISION_RECALL_MIN_DEN: 0.1276918, RECALL: 0.1179542, MAP: 0.0266769, MAP_MIN_DEN: 0.0585676, MRR: 0.1854128, NDCG: 0.1059341, F1: 0.0776748, HIT_RATE: 0.3992350, ARHR_ALL_HITS: 0.2215368, NOVELTY: 0.0047365, AVERAGE_POPULARITY: 0.2379801, DIVERSITY_MEAN_INTER_LIST: 0.9725175, DIVERSITY_HERFINDAHL: 0.9972420, COVERAGE_ITEM: 0.0793360, COVERAGE_ITEM_HIT: 0.0417934, ITEMS_IN_GT: 0.7219885, COVERAGE_USER: 0.7626871, COVERAGE_USER_HIT: 0.3044914, USERS_IN_GT: 0.7626871, DIVERSITY_GINI: 0.0190710, SHANNON_ENTROPY: 9.1413876, RATIO_DIVERSITY_HERFINDAHL: 0.9976028, RATIO_DIVERSITY_GINI: 0.0548795, RATIO_SHANNON_ENTROPY: 0.7040587, RATIO_AVERAGE_POPULARITY: 2.0053151, RATIO_NOVELTY: 0.2609509, \n",
      "\n",
      "IALSRecommender: New best model found! Updating.\n",
      "IALSRecommender: Epoch 10 of 37. Elapsed time 1.71 min\n",
      "IALSRecommender: Epoch 11 of 37. Elapsed time 1.86 min\n",
      "IALSRecommender: Epoch 12 of 37. Elapsed time 2.01 min\n",
      "IALSRecommender: Epoch 13 of 37. Elapsed time 2.16 min\n",
      "IALSRecommender: Epoch 14 of 37. Elapsed time 2.31 min\n",
      "IALSRecommender: Validation begins...\n",
      "EvaluatorHoldout: Processed 9934 (100.0%) in 5.82 sec. Users per second: 1707\n",
      "IALSRecommender: CUTOFF: 10 - PRECISION: 0.0584457, PRECISION_RECALL_MIN_DEN: 0.1280584, RECALL: 0.1181155, MAP: 0.0269814, MAP_MIN_DEN: 0.0589032, MRR: 0.1868587, NDCG: 0.1065875, F1: 0.0781978, HIT_RATE: 0.4019529, ARHR_ALL_HITS: 0.2237015, NOVELTY: 0.0047421, AVERAGE_POPULARITY: 0.2361786, DIVERSITY_MEAN_INTER_LIST: 0.9729328, DIVERSITY_HERFINDAHL: 0.9972835, COVERAGE_ITEM: 0.0809021, COVERAGE_ITEM_HIT: 0.0414355, ITEMS_IN_GT: 0.7219885, COVERAGE_USER: 0.7626871, COVERAGE_USER_HIT: 0.3065643, USERS_IN_GT: 0.7626871, DIVERSITY_GINI: 0.0193519, SHANNON_ENTROPY: 9.1625540, RATIO_DIVERSITY_HERFINDAHL: 0.9976444, RATIO_DIVERSITY_GINI: 0.0556879, RATIO_SHANNON_ENTROPY: 0.7056889, RATIO_AVERAGE_POPULARITY: 1.9901353, RATIO_NOVELTY: 0.2612591, \n",
      "\n",
      "IALSRecommender: New best model found! Updating.\n",
      "IALSRecommender: Epoch 15 of 37. Elapsed time 2.56 min\n",
      "IALSRecommender: Epoch 16 of 37. Elapsed time 2.71 min\n",
      "IALSRecommender: Epoch 17 of 37. Elapsed time 2.86 min\n",
      "IALSRecommender: Epoch 18 of 37. Elapsed time 3.02 min\n",
      "IALSRecommender: Epoch 19 of 37. Elapsed time 3.17 min\n",
      "IALSRecommender: Validation begins...\n",
      "EvaluatorHoldout: Processed 9934 (100.0%) in 5.67 sec. Users per second: 1752\n",
      "IALSRecommender: CUTOFF: 10 - PRECISION: 0.0581035, PRECISION_RECALL_MIN_DEN: 0.1270066, RECALL: 0.1171765, MAP: 0.0269597, MAP_MIN_DEN: 0.0590907, MRR: 0.1869339, NDCG: 0.1064109, F1: 0.0776856, HIT_RATE: 0.3999396, ARHR_ALL_HITS: 0.2236973, NOVELTY: 0.0047438, AVERAGE_POPULARITY: 0.2354470, DIVERSITY_MEAN_INTER_LIST: 0.9730561, DIVERSITY_HERFINDAHL: 0.9972958, COVERAGE_ITEM: 0.0811258, COVERAGE_ITEM_HIT: 0.0413012, ITEMS_IN_GT: 0.7219885, COVERAGE_USER: 0.7626871, COVERAGE_USER_HIT: 0.3050288, USERS_IN_GT: 0.7626871, DIVERSITY_GINI: 0.0194038, SHANNON_ENTROPY: 9.1669366, RATIO_DIVERSITY_HERFINDAHL: 0.9976567, RATIO_DIVERSITY_GINI: 0.0558371, RATIO_SHANNON_ENTROPY: 0.7060265, RATIO_AVERAGE_POPULARITY: 1.9839707, RATIO_NOVELTY: 0.2613532, \n",
      "\n",
      "IALSRecommender: Epoch 20 of 37. Elapsed time 3.42 min\n",
      "IALSRecommender: Epoch 21 of 37. Elapsed time 3.56 min\n",
      "IALSRecommender: Epoch 22 of 37. Elapsed time 3.72 min\n",
      "IALSRecommender: Epoch 23 of 37. Elapsed time 3.86 min\n",
      "IALSRecommender: Epoch 24 of 37. Elapsed time 4.01 min\n",
      "IALSRecommender: Validation begins...\n",
      "EvaluatorHoldout: Processed 9934 (100.0%) in 5.66 sec. Users per second: 1755\n",
      "IALSRecommender: CUTOFF: 10 - PRECISION: 0.0582746, PRECISION_RECALL_MIN_DEN: 0.1272024, RECALL: 0.1173090, MAP: 0.0270346, MAP_MIN_DEN: 0.0590843, MRR: 0.1870251, NDCG: 0.1065271, F1: 0.0778676, HIT_RATE: 0.4002416, ARHR_ALL_HITS: 0.2241335, NOVELTY: 0.0047458, AVERAGE_POPULARITY: 0.2347770, DIVERSITY_MEAN_INTER_LIST: 0.9732071, DIVERSITY_HERFINDAHL: 0.9973109, COVERAGE_ITEM: 0.0813943, COVERAGE_ITEM_HIT: 0.0416145, ITEMS_IN_GT: 0.7219885, COVERAGE_USER: 0.7626871, COVERAGE_USER_HIT: 0.3052591, USERS_IN_GT: 0.7626871, DIVERSITY_GINI: 0.0195033, SHANNON_ENTROPY: 9.1743729, RATIO_DIVERSITY_HERFINDAHL: 0.9976718, RATIO_DIVERSITY_GINI: 0.0561235, RATIO_SHANNON_ENTROPY: 0.7065992, RATIO_AVERAGE_POPULARITY: 1.9783246, RATIO_NOVELTY: 0.2614664, \n",
      "\n",
      "IALSRecommender: New best model found! Updating.\n",
      "IALSRecommender: Epoch 25 of 37. Elapsed time 4.26 min\n",
      "IALSRecommender: Epoch 26 of 37. Elapsed time 4.41 min\n",
      "IALSRecommender: Epoch 27 of 37. Elapsed time 4.57 min\n",
      "IALSRecommender: Epoch 28 of 37. Elapsed time 4.71 min\n",
      "IALSRecommender: Epoch 29 of 37. Elapsed time 4.87 min\n",
      "IALSRecommender: Validation begins...\n",
      "EvaluatorHoldout: Processed 9934 (100.0%) in 5.74 sec. Users per second: 1732\n",
      "IALSRecommender: CUTOFF: 10 - PRECISION: 0.0584155, PRECISION_RECALL_MIN_DEN: 0.1276029, RECALL: 0.1177012, MAP: 0.0270232, MAP_MIN_DEN: 0.0588483, MRR: 0.1864942, NDCG: 0.1064188, F1: 0.0780798, HIT_RATE: 0.4010469, ARHR_ALL_HITS: 0.2237773, NOVELTY: 0.0047451, AVERAGE_POPULARITY: 0.2350552, DIVERSITY_MEAN_INTER_LIST: 0.9731618, DIVERSITY_HERFINDAHL: 0.9973064, COVERAGE_ITEM: 0.0816628, COVERAGE_ITEM_HIT: 0.0419724, ITEMS_IN_GT: 0.7219885, COVERAGE_USER: 0.7626871, COVERAGE_USER_HIT: 0.3058733, USERS_IN_GT: 0.7626871, DIVERSITY_GINI: 0.0194859, SHANNON_ENTROPY: 9.1728394, RATIO_DIVERSITY_HERFINDAHL: 0.9976673, RATIO_DIVERSITY_GINI: 0.0560734, RATIO_SHANNON_ENTROPY: 0.7064811, RATIO_AVERAGE_POPULARITY: 1.9806692, RATIO_NOVELTY: 0.2614289, \n",
      "\n",
      "IALSRecommender: Epoch 30 of 37. Elapsed time 5.11 min\n",
      "IALSRecommender: Epoch 31 of 37. Elapsed time 5.26 min\n",
      "IALSRecommender: Epoch 32 of 37. Elapsed time 5.41 min\n",
      "IALSRecommender: Epoch 33 of 37. Elapsed time 5.56 min\n",
      "IALSRecommender: Epoch 34 of 37. Elapsed time 5.72 min\n",
      "IALSRecommender: Validation begins...\n",
      "EvaluatorHoldout: Processed 9934 (100.0%) in 5.73 sec. Users per second: 1734\n",
      "IALSRecommender: CUTOFF: 10 - PRECISION: 0.0582847, PRECISION_RECALL_MIN_DEN: 0.1276599, RECALL: 0.1178052, MAP: 0.0269348, MAP_MIN_DEN: 0.0587487, MRR: 0.1861129, NDCG: 0.1062904, F1: 0.0779856, HIT_RATE: 0.4014496, ARHR_ALL_HITS: 0.2232577, NOVELTY: 0.0047448, AVERAGE_POPULARITY: 0.2351671, DIVERSITY_MEAN_INTER_LIST: 0.9731484, DIVERSITY_HERFINDAHL: 0.9973050, COVERAGE_ITEM: 0.0810811, COVERAGE_ITEM_HIT: 0.0414355, ITEMS_IN_GT: 0.7219885, COVERAGE_USER: 0.7626871, COVERAGE_USER_HIT: 0.3061804, USERS_IN_GT: 0.7626871, DIVERSITY_GINI: 0.0194616, SHANNON_ENTROPY: 9.1713329, RATIO_DIVERSITY_HERFINDAHL: 0.9976659, RATIO_DIVERSITY_GINI: 0.0560037, RATIO_SHANNON_ENTROPY: 0.7063651, RATIO_AVERAGE_POPULARITY: 1.9816122, RATIO_NOVELTY: 0.2614084, \n",
      "\n",
      "IALSRecommender: Epoch 35 of 37. Elapsed time 5.96 min\n"
     ]
    },
    {
     "name": "stdout",
     "output_type": "stream",
     "text": [
      "IALSRecommender: Epoch 36 of 37. Elapsed time 6.12 min\n",
      "IALSRecommender: Epoch 37 of 37. Elapsed time 6.27 min\n",
      "IALSRecommender: Terminating at epoch 37. Best value for 'MAP' at epoch 25 is 0.0270. Elapsed time 6.27 min\n",
      "EvaluatorHoldout: Processed 9934 (100.0%) in 5.72 sec. Users per second: 1737\n"
     ]
    },
    {
     "name": "stderr",
     "output_type": "stream",
     "text": [
      "[I 2023-12-06 14:58:00,587] Trial 6 finished with value: 0.027034610972098496 and parameters: {'epochs': 37, 'num_factors': 124, 'reg': 0.08136357471825091, 'alpha': 4.920524698065355}. Best is trial 4 with value: 0.027957727349714613.\n"
     ]
    },
    {
     "name": "stdout",
     "output_type": "stream",
     "text": [
      "IALSRecommender: URM Detected 550 ( 4.2%) users with no interactions.\n",
      "IALSRecommender: URM Detected 206 ( 0.9%) items with no interactions.\n",
      "IALSRecommender: Epoch 1 of 83. Elapsed time 2.30 sec\n",
      "IALSRecommender: Epoch 2 of 83. Elapsed time 4.50 sec\n",
      "IALSRecommender: Epoch 3 of 83. Elapsed time 6.77 sec\n",
      "IALSRecommender: Epoch 4 of 83. Elapsed time 8.98 sec\n",
      "IALSRecommender: Validation begins...\n",
      "EvaluatorHoldout: Processed 9934 (100.0%) in 5.63 sec. Users per second: 1764\n",
      "IALSRecommender: CUTOFF: 10 - PRECISION: 0.0517314, PRECISION_RECALL_MIN_DEN: 0.1115589, RECALL: 0.1026701, MAP: 0.0232541, MAP_MIN_DEN: 0.0497267, MRR: 0.1644890, NDCG: 0.0922029, F1: 0.0687982, HIT_RATE: 0.3663177, ARHR_ALL_HITS: 0.1947417, NOVELTY: 0.0044786, AVERAGE_POPULARITY: 0.3347904, DIVERSITY_MEAN_INTER_LIST: 0.9381439, DIVERSITY_HERFINDAHL: 0.9938049, COVERAGE_ITEM: 0.0372293, COVERAGE_ITEM_HIT: 0.0213442, ITEMS_IN_GT: 0.7219885, COVERAGE_USER: 0.7626871, COVERAGE_USER_HIT: 0.2793858, USERS_IN_GT: 0.7626871, DIVERSITY_GINI: 0.0088071, SHANNON_ENTROPY: 8.0145270, RATIO_DIVERSITY_HERFINDAHL: 0.9941646, RATIO_DIVERSITY_GINI: 0.0253436, RATIO_SHANNON_ENTROPY: 0.6172693, RATIO_AVERAGE_POPULARITY: 2.8210774, RATIO_NOVELTY: 0.2467429, \n",
      "\n",
      "IALSRecommender: New best model found! Updating.\n",
      "IALSRecommender: Epoch 5 of 83. Elapsed time 16.81 sec\n",
      "IALSRecommender: Epoch 6 of 83. Elapsed time 19.19 sec\n",
      "IALSRecommender: Epoch 7 of 83. Elapsed time 21.45 sec\n",
      "IALSRecommender: Epoch 8 of 83. Elapsed time 23.63 sec\n",
      "IALSRecommender: Epoch 9 of 83. Elapsed time 25.79 sec\n",
      "IALSRecommender: Validation begins...\n",
      "EvaluatorHoldout: Processed 9934 (100.0%) in 5.65 sec. Users per second: 1757\n",
      "IALSRecommender: CUTOFF: 10 - PRECISION: 0.0533823, PRECISION_RECALL_MIN_DEN: 0.1140361, RECALL: 0.1047711, MAP: 0.0240259, MAP_MIN_DEN: 0.0516199, MRR: 0.1698538, NDCG: 0.0951558, F1: 0.0707278, HIT_RATE: 0.3746728, ARHR_ALL_HITS: 0.2012290, NOVELTY: 0.0044948, AVERAGE_POPULARITY: 0.3283149, DIVERSITY_MEAN_INTER_LIST: 0.9411495, DIVERSITY_HERFINDAHL: 0.9941055, COVERAGE_ITEM: 0.0389744, COVERAGE_ITEM_HIT: 0.0229103, ITEMS_IN_GT: 0.7219885, COVERAGE_USER: 0.7626871, COVERAGE_USER_HIT: 0.2857582, USERS_IN_GT: 0.7626871, DIVERSITY_GINI: 0.0092650, SHANNON_ENTROPY: 8.0875573, RATIO_DIVERSITY_HERFINDAHL: 0.9944652, RATIO_DIVERSITY_GINI: 0.0266614, RATIO_SHANNON_ENTROPY: 0.6228940, RATIO_AVERAGE_POPULARITY: 2.7665128, RATIO_NOVELTY: 0.2476370, \n",
      "\n",
      "IALSRecommender: New best model found! Updating.\n",
      "IALSRecommender: Epoch 10 of 83. Elapsed time 33.79 sec\n",
      "IALSRecommender: Epoch 11 of 83. Elapsed time 36.07 sec\n",
      "IALSRecommender: Epoch 12 of 83. Elapsed time 38.33 sec\n",
      "IALSRecommender: Epoch 13 of 83. Elapsed time 40.60 sec\n",
      "IALSRecommender: Epoch 14 of 83. Elapsed time 42.97 sec\n",
      "IALSRecommender: Validation begins...\n",
      "EvaluatorHoldout: Processed 9934 (100.0%) in 5.66 sec. Users per second: 1755\n",
      "IALSRecommender: CUTOFF: 10 - PRECISION: 0.0537749, PRECISION_RECALL_MIN_DEN: 0.1145943, RECALL: 0.1052281, MAP: 0.0240408, MAP_MIN_DEN: 0.0513373, MRR: 0.1688928, NDCG: 0.0950926, F1: 0.0711764, HIT_RATE: 0.3759815, ARHR_ALL_HITS: 0.2007119, NOVELTY: 0.0044982, AVERAGE_POPULARITY: 0.3275802, DIVERSITY_MEAN_INTER_LIST: 0.9415213, DIVERSITY_HERFINDAHL: 0.9941427, COVERAGE_ITEM: 0.0399588, COVERAGE_ITEM_HIT: 0.0229551, ITEMS_IN_GT: 0.7219885, COVERAGE_USER: 0.7626871, COVERAGE_USER_HIT: 0.2867562, USERS_IN_GT: 0.7626871, DIVERSITY_GINI: 0.0094140, SHANNON_ENTROPY: 8.1078103, RATIO_DIVERSITY_HERFINDAHL: 0.9945024, RATIO_DIVERSITY_GINI: 0.0270902, RATIO_SHANNON_ENTROPY: 0.6244538, RATIO_AVERAGE_POPULARITY: 2.7603215, RATIO_NOVELTY: 0.2478243, \n",
      "\n",
      "IALSRecommender: New best model found! Updating.\n",
      "IALSRecommender: Epoch 15 of 83. Elapsed time 50.88 sec\n",
      "IALSRecommender: Epoch 16 of 83. Elapsed time 53.14 sec\n",
      "IALSRecommender: Epoch 17 of 83. Elapsed time 55.31 sec\n",
      "IALSRecommender: Epoch 18 of 83. Elapsed time 57.48 sec\n",
      "IALSRecommender: Epoch 19 of 83. Elapsed time 59.74 sec\n",
      "IALSRecommender: Validation begins...\n",
      "EvaluatorHoldout: Processed 9934 (100.0%) in 5.62 sec. Users per second: 1767\n",
      "IALSRecommender: CUTOFF: 10 - PRECISION: 0.0539964, PRECISION_RECALL_MIN_DEN: 0.1146138, RECALL: 0.1051782, MAP: 0.0240297, MAP_MIN_DEN: 0.0511992, MRR: 0.1689120, NDCG: 0.0950699, F1: 0.0713587, HIT_RATE: 0.3776928, ARHR_ALL_HITS: 0.2006774, NOVELTY: 0.0045000, AVERAGE_POPULARITY: 0.3268834, DIVERSITY_MEAN_INTER_LIST: 0.9418230, DIVERSITY_HERFINDAHL: 0.9941728, COVERAGE_ITEM: 0.0396456, COVERAGE_ITEM_HIT: 0.0231788, ITEMS_IN_GT: 0.7219885, COVERAGE_USER: 0.7626871, COVERAGE_USER_HIT: 0.2880614, USERS_IN_GT: 0.7626871, DIVERSITY_GINI: 0.0094777, SHANNON_ENTROPY: 8.1170821, RATIO_DIVERSITY_HERFINDAHL: 0.9945326, RATIO_DIVERSITY_GINI: 0.0272735, RATIO_SHANNON_ENTROPY: 0.6251679, RATIO_AVERAGE_POPULARITY: 2.7544497, RATIO_NOVELTY: 0.2479245, \n",
      "\n",
      "IALSRecommender: Epoch 20 of 83. Elapsed time 1.13 min\n",
      "IALSRecommender: Epoch 21 of 83. Elapsed time 1.17 min\n",
      "IALSRecommender: Epoch 22 of 83. Elapsed time 1.20 min\n",
      "IALSRecommender: Epoch 23 of 83. Elapsed time 1.24 min\n",
      "IALSRecommender: Epoch 24 of 83. Elapsed time 1.28 min\n",
      "IALSRecommender: Validation begins...\n",
      "EvaluatorHoldout: Processed 9934 (100.0%) in 5.63 sec. Users per second: 1764\n",
      "IALSRecommender: CUTOFF: 10 - PRECISION: 0.0540970, PRECISION_RECALL_MIN_DEN: 0.1150817, RECALL: 0.1055946, MAP: 0.0241006, MAP_MIN_DEN: 0.0512917, MRR: 0.1699774, NDCG: 0.0953549, F1: 0.0715423, HIT_RATE: 0.3808134, ARHR_ALL_HITS: 0.2015848, NOVELTY: 0.0045015, AVERAGE_POPULARITY: 0.3261261, DIVERSITY_MEAN_INTER_LIST: 0.9421119, DIVERSITY_HERFINDAHL: 0.9942017, COVERAGE_ITEM: 0.0400483, COVERAGE_ITEM_HIT: 0.0229103, ITEMS_IN_GT: 0.7219885, COVERAGE_USER: 0.7626871, COVERAGE_USER_HIT: 0.2904415, USERS_IN_GT: 0.7626871, DIVERSITY_GINI: 0.0095020, SHANNON_ENTROPY: 8.1216593, RATIO_DIVERSITY_HERFINDAHL: 0.9945615, RATIO_DIVERSITY_GINI: 0.0273432, RATIO_SHANNON_ENTROPY: 0.6255205, RATIO_AVERAGE_POPULARITY: 2.7480683, RATIO_NOVELTY: 0.2480053, \n",
      "\n",
      "IALSRecommender: New best model found! Updating.\n",
      "IALSRecommender: Epoch 25 of 83. Elapsed time 1.41 min\n",
      "IALSRecommender: Epoch 26 of 83. Elapsed time 1.45 min\n",
      "IALSRecommender: Epoch 27 of 83. Elapsed time 1.49 min\n",
      "IALSRecommender: Epoch 28 of 83. Elapsed time 1.52 min\n",
      "IALSRecommender: Epoch 29 of 83. Elapsed time 1.56 min\n",
      "IALSRecommender: Validation begins...\n",
      "EvaluatorHoldout: Processed 9934 (100.0%) in 5.61 sec. Users per second: 1770\n",
      "IALSRecommender: CUTOFF: 10 - PRECISION: 0.0540769, PRECISION_RECALL_MIN_DEN: 0.1154678, RECALL: 0.1059694, MAP: 0.0242324, MAP_MIN_DEN: 0.0517101, MRR: 0.1708684, NDCG: 0.0957878, F1: 0.0716105, HIT_RATE: 0.3795047, ARHR_ALL_HITS: 0.2026643, NOVELTY: 0.0045012, AVERAGE_POPULARITY: 0.3263961, DIVERSITY_MEAN_INTER_LIST: 0.9420516, DIVERSITY_HERFINDAHL: 0.9941957, COVERAGE_ITEM: 0.0401378, COVERAGE_ITEM_HIT: 0.0228208, ITEMS_IN_GT: 0.7219885, COVERAGE_USER: 0.7626871, COVERAGE_USER_HIT: 0.2894434, USERS_IN_GT: 0.7626871, DIVERSITY_GINI: 0.0095059, SHANNON_ENTROPY: 8.1218098, RATIO_DIVERSITY_HERFINDAHL: 0.9945554, RATIO_DIVERSITY_GINI: 0.0273545, RATIO_SHANNON_ENTROPY: 0.6255320, RATIO_AVERAGE_POPULARITY: 2.7503439, RATIO_NOVELTY: 0.2479916, \n",
      "\n",
      "IALSRecommender: New best model found! Updating.\n",
      "IALSRecommender: Epoch 30 of 83. Elapsed time 1.69 min\n",
      "IALSRecommender: Epoch 31 of 83. Elapsed time 1.73 min\n",
      "IALSRecommender: Epoch 32 of 83. Elapsed time 1.77 min\n",
      "IALSRecommender: Epoch 33 of 83. Elapsed time 1.80 min\n",
      "IALSRecommender: Epoch 34 of 83. Elapsed time 1.84 min\n",
      "IALSRecommender: Validation begins...\n",
      "EvaluatorHoldout: Processed 9934 (100.0%) in 5.62 sec. Users per second: 1768\n",
      "IALSRecommender: CUTOFF: 10 - PRECISION: 0.0539964, PRECISION_RECALL_MIN_DEN: 0.1150543, RECALL: 0.1055609, MAP: 0.0242311, MAP_MIN_DEN: 0.0515838, MRR: 0.1708910, NDCG: 0.0956281, F1: 0.0714465, HIT_RATE: 0.3784981, ARHR_ALL_HITS: 0.2027464, NOVELTY: 0.0045013, AVERAGE_POPULARITY: 0.3262993, DIVERSITY_MEAN_INTER_LIST: 0.9420652, DIVERSITY_HERFINDAHL: 0.9941970, COVERAGE_ITEM: 0.0405405, COVERAGE_ITEM_HIT: 0.0227761, ITEMS_IN_GT: 0.7219885, COVERAGE_USER: 0.7626871, COVERAGE_USER_HIT: 0.2886756, USERS_IN_GT: 0.7626871, DIVERSITY_GINI: 0.0095008, SHANNON_ENTROPY: 8.1213246, RATIO_DIVERSITY_HERFINDAHL: 0.9945568, RATIO_DIVERSITY_GINI: 0.0273399, RATIO_SHANNON_ENTROPY: 0.6254947, RATIO_AVERAGE_POPULARITY: 2.7495281, RATIO_NOVELTY: 0.2479942, \n",
      "\n",
      "IALSRecommender: Epoch 35 of 83. Elapsed time 1.97 min\n"
     ]
    },
    {
     "name": "stdout",
     "output_type": "stream",
     "text": [
      "IALSRecommender: Epoch 36 of 83. Elapsed time 2.01 min\n",
      "IALSRecommender: Epoch 37 of 83. Elapsed time 2.05 min\n",
      "IALSRecommender: Epoch 38 of 83. Elapsed time 2.08 min\n",
      "IALSRecommender: Epoch 39 of 83. Elapsed time 2.12 min\n",
      "IALSRecommender: Validation begins...\n",
      "EvaluatorHoldout: Processed 9934 (100.0%) in 5.65 sec. Users per second: 1757\n",
      "IALSRecommender: CUTOFF: 10 - PRECISION: 0.0539964, PRECISION_RECALL_MIN_DEN: 0.1148659, RECALL: 0.1053444, MAP: 0.0242456, MAP_MIN_DEN: 0.0516012, MRR: 0.1711125, NDCG: 0.0956550, F1: 0.0713969, HIT_RATE: 0.3784981, ARHR_ALL_HITS: 0.2029408, NOVELTY: 0.0045016, AVERAGE_POPULARITY: 0.3260043, DIVERSITY_MEAN_INTER_LIST: 0.9421921, DIVERSITY_HERFINDAHL: 0.9942097, COVERAGE_ITEM: 0.0407195, COVERAGE_ITEM_HIT: 0.0228208, ITEMS_IN_GT: 0.7219885, COVERAGE_USER: 0.7626871, COVERAGE_USER_HIT: 0.2886756, USERS_IN_GT: 0.7626871, DIVERSITY_GINI: 0.0095047, SHANNON_ENTROPY: 8.1223958, RATIO_DIVERSITY_HERFINDAHL: 0.9945695, RATIO_DIVERSITY_GINI: 0.0273511, RATIO_SHANNON_ENTROPY: 0.6255772, RATIO_AVERAGE_POPULARITY: 2.7470425, RATIO_NOVELTY: 0.2480089, \n",
      "\n",
      "IALSRecommender: New best model found! Updating.\n",
      "IALSRecommender: Epoch 40 of 83. Elapsed time 2.25 min\n",
      "IALSRecommender: Epoch 41 of 83. Elapsed time 2.29 min\n",
      "IALSRecommender: Epoch 42 of 83. Elapsed time 2.33 min\n",
      "IALSRecommender: Epoch 43 of 83. Elapsed time 2.36 min\n",
      "IALSRecommender: Epoch 44 of 83. Elapsed time 2.40 min\n",
      "IALSRecommender: Validation begins...\n",
      "EvaluatorHoldout: Processed 9934 (100.0%) in 5.64 sec. Users per second: 1760\n",
      "IALSRecommender: CUTOFF: 10 - PRECISION: 0.0541977, PRECISION_RECALL_MIN_DEN: 0.1153442, RECALL: 0.1057770, MAP: 0.0242512, MAP_MIN_DEN: 0.0517227, MRR: 0.1712728, NDCG: 0.0959132, F1: 0.0716722, HIT_RATE: 0.3805114, ARHR_ALL_HITS: 0.2030189, NOVELTY: 0.0045021, AVERAGE_POPULARITY: 0.3256426, DIVERSITY_MEAN_INTER_LIST: 0.9423287, DIVERSITY_HERFINDAHL: 0.9942234, COVERAGE_ITEM: 0.0402273, COVERAGE_ITEM_HIT: 0.0227761, ITEMS_IN_GT: 0.7219885, COVERAGE_USER: 0.7626871, COVERAGE_USER_HIT: 0.2902111, USERS_IN_GT: 0.7626871, DIVERSITY_GINI: 0.0095095, SHANNON_ENTROPY: 8.1235719, RATIO_DIVERSITY_HERFINDAHL: 0.9945831, RATIO_DIVERSITY_GINI: 0.0273651, RATIO_SHANNON_ENTROPY: 0.6256678, RATIO_AVERAGE_POPULARITY: 2.7439948, RATIO_NOVELTY: 0.2480393, \n",
      "\n",
      "IALSRecommender: New best model found! Updating.\n",
      "IALSRecommender: Epoch 45 of 83. Elapsed time 2.53 min\n",
      "IALSRecommender: Epoch 46 of 83. Elapsed time 2.57 min\n",
      "IALSRecommender: Epoch 47 of 83. Elapsed time 2.60 min\n",
      "IALSRecommender: Epoch 48 of 83. Elapsed time 2.64 min\n",
      "IALSRecommender: Epoch 49 of 83. Elapsed time 2.68 min\n",
      "IALSRecommender: Validation begins...\n",
      "EvaluatorHoldout: Processed 9934 (100.0%) in 5.67 sec. Users per second: 1751\n",
      "IALSRecommender: CUTOFF: 10 - PRECISION: 0.0540870, PRECISION_RECALL_MIN_DEN: 0.1154433, RECALL: 0.1059853, MAP: 0.0242195, MAP_MIN_DEN: 0.0516584, MRR: 0.1707913, NDCG: 0.0958223, F1: 0.0716229, HIT_RATE: 0.3793034, ARHR_ALL_HITS: 0.2026301, NOVELTY: 0.0045026, AVERAGE_POPULARITY: 0.3253501, DIVERSITY_MEAN_INTER_LIST: 0.9424822, DIVERSITY_HERFINDAHL: 0.9942387, COVERAGE_ITEM: 0.0401826, COVERAGE_ITEM_HIT: 0.0228656, ITEMS_IN_GT: 0.7219885, COVERAGE_USER: 0.7626871, COVERAGE_USER_HIT: 0.2892898, USERS_IN_GT: 0.7626871, DIVERSITY_GINI: 0.0095208, SHANNON_ENTROPY: 8.1256421, RATIO_DIVERSITY_HERFINDAHL: 0.9945985, RATIO_DIVERSITY_GINI: 0.0273974, RATIO_SHANNON_ENTROPY: 0.6258272, RATIO_AVERAGE_POPULARITY: 2.7415296, RATIO_NOVELTY: 0.2480653, \n",
      "\n",
      "IALSRecommender: Epoch 50 of 83. Elapsed time 2.81 min\n",
      "IALSRecommender: Epoch 51 of 83. Elapsed time 2.85 min\n",
      "IALSRecommender: Epoch 52 of 83. Elapsed time 2.88 min\n",
      "IALSRecommender: Epoch 53 of 83. Elapsed time 2.92 min\n",
      "IALSRecommender: Epoch 54 of 83. Elapsed time 2.96 min\n",
      "IALSRecommender: Validation begins...\n",
      "EvaluatorHoldout: Processed 9934 (100.0%) in 5.67 sec. Users per second: 1753\n",
      "IALSRecommender: CUTOFF: 10 - PRECISION: 0.0541474, PRECISION_RECALL_MIN_DEN: 0.1154337, RECALL: 0.1059472, MAP: 0.0242335, MAP_MIN_DEN: 0.0516747, MRR: 0.1706064, NDCG: 0.0958249, F1: 0.0716672, HIT_RATE: 0.3790014, ARHR_ALL_HITS: 0.2025737, NOVELTY: 0.0045031, AVERAGE_POPULARITY: 0.3250905, DIVERSITY_MEAN_INTER_LIST: 0.9425945, DIVERSITY_HERFINDAHL: 0.9942500, COVERAGE_ITEM: 0.0401826, COVERAGE_ITEM_HIT: 0.0229998, ITEMS_IN_GT: 0.7219885, COVERAGE_USER: 0.7626871, COVERAGE_USER_HIT: 0.2890595, USERS_IN_GT: 0.7626871, DIVERSITY_GINI: 0.0095355, SHANNON_ENTROPY: 8.1279572, RATIO_DIVERSITY_HERFINDAHL: 0.9946097, RATIO_DIVERSITY_GINI: 0.0274397, RATIO_SHANNON_ENTROPY: 0.6260055, RATIO_AVERAGE_POPULARITY: 2.7393422, RATIO_NOVELTY: 0.2480943, \n",
      "\n",
      "IALSRecommender: Epoch 55 of 83. Elapsed time 3.09 min\n",
      "IALSRecommender: Epoch 56 of 83. Elapsed time 3.13 min\n",
      "IALSRecommender: Epoch 57 of 83. Elapsed time 3.17 min\n",
      "IALSRecommender: Epoch 58 of 83. Elapsed time 3.20 min\n",
      "IALSRecommender: Epoch 59 of 83. Elapsed time 3.24 min\n",
      "IALSRecommender: Validation begins...\n",
      "EvaluatorHoldout: Processed 9934 (100.0%) in 5.63 sec. Users per second: 1763\n",
      "IALSRecommender: CUTOFF: 10 - PRECISION: 0.0542178, PRECISION_RECALL_MIN_DEN: 0.1157983, RECALL: 0.1062543, MAP: 0.0242828, MAP_MIN_DEN: 0.0517476, MRR: 0.1707133, NDCG: 0.0959821, F1: 0.0717991, HIT_RATE: 0.3789007, ARHR_ALL_HITS: 0.2028637, NOVELTY: 0.0045022, AVERAGE_POPULARITY: 0.3255840, DIVERSITY_MEAN_INTER_LIST: 0.9423617, DIVERSITY_HERFINDAHL: 0.9942267, COVERAGE_ITEM: 0.0399141, COVERAGE_ITEM_HIT: 0.0228656, ITEMS_IN_GT: 0.7219885, COVERAGE_USER: 0.7626871, COVERAGE_USER_HIT: 0.2889827, USERS_IN_GT: 0.7626871, DIVERSITY_GINI: 0.0095137, SHANNON_ENTROPY: 8.1240708, RATIO_DIVERSITY_HERFINDAHL: 0.9945865, RATIO_DIVERSITY_GINI: 0.0273769, RATIO_SHANNON_ENTROPY: 0.6257062, RATIO_AVERAGE_POPULARITY: 2.7435012, RATIO_NOVELTY: 0.2480455, \n",
      "\n",
      "IALSRecommender: New best model found! Updating.\n",
      "IALSRecommender: Epoch 60 of 83. Elapsed time 3.37 min\n",
      "IALSRecommender: Epoch 61 of 83. Elapsed time 3.41 min\n",
      "IALSRecommender: Epoch 62 of 83. Elapsed time 3.45 min\n",
      "IALSRecommender: Epoch 63 of 83. Elapsed time 3.48 min\n",
      "IALSRecommender: Epoch 64 of 83. Elapsed time 3.52 min\n",
      "IALSRecommender: Validation begins...\n",
      "EvaluatorHoldout: Processed 9934 (100.0%) in 5.70 sec. Users per second: 1744\n",
      "IALSRecommender: CUTOFF: 10 - PRECISION: 0.0542178, PRECISION_RECALL_MIN_DEN: 0.1158655, RECALL: 0.1063480, MAP: 0.0242957, MAP_MIN_DEN: 0.0516359, MRR: 0.1708785, NDCG: 0.0959444, F1: 0.0718205, HIT_RATE: 0.3790014, ARHR_ALL_HITS: 0.2029996, NOVELTY: 0.0045022, AVERAGE_POPULARITY: 0.3255154, DIVERSITY_MEAN_INTER_LIST: 0.9423804, DIVERSITY_HERFINDAHL: 0.9942286, COVERAGE_ITEM: 0.0397351, COVERAGE_ITEM_HIT: 0.0227313, ITEMS_IN_GT: 0.7219885, COVERAGE_USER: 0.7626871, COVERAGE_USER_HIT: 0.2890595, USERS_IN_GT: 0.7626871, DIVERSITY_GINI: 0.0095090, SHANNON_ENTROPY: 8.1235843, RATIO_DIVERSITY_HERFINDAHL: 0.9945883, RATIO_DIVERSITY_GINI: 0.0273634, RATIO_SHANNON_ENTROPY: 0.6256687, RATIO_AVERAGE_POPULARITY: 2.7429225, RATIO_NOVELTY: 0.2480442, \n",
      "\n",
      "IALSRecommender: New best model found! Updating.\n",
      "IALSRecommender: Epoch 65 of 83. Elapsed time 3.65 min\n",
      "IALSRecommender: Epoch 66 of 83. Elapsed time 3.69 min\n",
      "IALSRecommender: Epoch 67 of 83. Elapsed time 3.73 min\n",
      "IALSRecommender: Epoch 68 of 83. Elapsed time 3.76 min\n",
      "IALSRecommender: Epoch 69 of 83. Elapsed time 3.80 min\n",
      "IALSRecommender: Validation begins...\n",
      "EvaluatorHoldout: Processed 9934 (100.0%) in 5.63 sec. Users per second: 1766\n",
      "IALSRecommender: CUTOFF: 10 - PRECISION: 0.0542078, PRECISION_RECALL_MIN_DEN: 0.1159302, RECALL: 0.1063851, MAP: 0.0243344, MAP_MIN_DEN: 0.0517724, MRR: 0.1711245, NDCG: 0.0960756, F1: 0.0718201, HIT_RATE: 0.3783974, ARHR_ALL_HITS: 0.2033239, NOVELTY: 0.0045023, AVERAGE_POPULARITY: 0.3255233, DIVERSITY_MEAN_INTER_LIST: 0.9423614, DIVERSITY_HERFINDAHL: 0.9942267, COVERAGE_ITEM: 0.0395561, COVERAGE_ITEM_HIT: 0.0227313, ITEMS_IN_GT: 0.7219885, COVERAGE_USER: 0.7626871, COVERAGE_USER_HIT: 0.2885988, USERS_IN_GT: 0.7626871, DIVERSITY_GINI: 0.0095059, SHANNON_ENTROPY: 8.1230601, RATIO_DIVERSITY_HERFINDAHL: 0.9945864, RATIO_DIVERSITY_GINI: 0.0273547, RATIO_SHANNON_ENTROPY: 0.6256283, RATIO_AVERAGE_POPULARITY: 2.7429894, RATIO_NOVELTY: 0.2480470, \n",
      "\n",
      "IALSRecommender: New best model found! Updating.\n",
      "IALSRecommender: Epoch 70 of 83. Elapsed time 3.93 min\n"
     ]
    },
    {
     "name": "stdout",
     "output_type": "stream",
     "text": [
      "IALSRecommender: Epoch 71 of 83. Elapsed time 3.97 min\n",
      "IALSRecommender: Epoch 72 of 83. Elapsed time 4.00 min\n",
      "IALSRecommender: Epoch 73 of 83. Elapsed time 4.04 min\n",
      "IALSRecommender: Epoch 74 of 83. Elapsed time 4.08 min\n",
      "IALSRecommender: Validation begins...\n",
      "EvaluatorHoldout: Processed 9934 (100.0%) in 5.70 sec. Users per second: 1743\n",
      "IALSRecommender: CUTOFF: 10 - PRECISION: 0.0542782, PRECISION_RECALL_MIN_DEN: 0.1161182, RECALL: 0.1065648, MAP: 0.0243256, MAP_MIN_DEN: 0.0517895, MRR: 0.1708974, NDCG: 0.0961084, F1: 0.0719229, HIT_RATE: 0.3781961, ARHR_ALL_HITS: 0.2031694, NOVELTY: 0.0045025, AVERAGE_POPULARITY: 0.3254023, DIVERSITY_MEAN_INTER_LIST: 0.9424082, DIVERSITY_HERFINDAHL: 0.9942313, COVERAGE_ITEM: 0.0395561, COVERAGE_ITEM_HIT: 0.0226418, ITEMS_IN_GT: 0.7219885, COVERAGE_USER: 0.7626871, COVERAGE_USER_HIT: 0.2884453, USERS_IN_GT: 0.7626871, DIVERSITY_GINI: 0.0095133, SHANNON_ENTROPY: 8.1241923, RATIO_DIVERSITY_HERFINDAHL: 0.9945911, RATIO_DIVERSITY_GINI: 0.0273757, RATIO_SHANNON_ENTROPY: 0.6257155, RATIO_AVERAGE_POPULARITY: 2.7419697, RATIO_NOVELTY: 0.2480631, \n",
      "\n",
      "IALSRecommender: Epoch 75 of 83. Elapsed time 4.21 min\n",
      "IALSRecommender: Epoch 76 of 83. Elapsed time 4.25 min\n",
      "IALSRecommender: Epoch 77 of 83. Elapsed time 4.28 min\n",
      "IALSRecommender: Epoch 78 of 83. Elapsed time 4.32 min\n",
      "IALSRecommender: Epoch 79 of 83. Elapsed time 4.36 min\n",
      "IALSRecommender: Validation begins...\n",
      "EvaluatorHoldout: Processed 9934 (100.0%) in 5.68 sec. Users per second: 1750\n",
      "IALSRecommender: CUTOFF: 10 - PRECISION: 0.0542984, PRECISION_RECALL_MIN_DEN: 0.1162493, RECALL: 0.1066766, MAP: 0.0242816, MAP_MIN_DEN: 0.0517925, MRR: 0.1704829, NDCG: 0.0960889, F1: 0.0719660, HIT_RATE: 0.3784981, ARHR_ALL_HITS: 0.2027250, NOVELTY: 0.0045029, AVERAGE_POPULARITY: 0.3252405, DIVERSITY_MEAN_INTER_LIST: 0.9424906, DIVERSITY_HERFINDAHL: 0.9942396, COVERAGE_ITEM: 0.0395114, COVERAGE_ITEM_HIT: 0.0227313, ITEMS_IN_GT: 0.7219885, COVERAGE_USER: 0.7626871, COVERAGE_USER_HIT: 0.2886756, USERS_IN_GT: 0.7626871, DIVERSITY_GINI: 0.0095259, SHANNON_ENTROPY: 8.1261379, RATIO_DIVERSITY_HERFINDAHL: 0.9945993, RATIO_DIVERSITY_GINI: 0.0274121, RATIO_SHANNON_ENTROPY: 0.6258654, RATIO_AVERAGE_POPULARITY: 2.7406063, RATIO_NOVELTY: 0.2480853, \n",
      "\n",
      "IALSRecommender: Epoch 80 of 83. Elapsed time 4.49 min\n",
      "IALSRecommender: Epoch 81 of 83. Elapsed time 4.53 min\n",
      "IALSRecommender: Epoch 82 of 83. Elapsed time 4.57 min\n",
      "IALSRecommender: Epoch 83 of 83. Elapsed time 4.60 min\n",
      "IALSRecommender: Terminating at epoch 83. Best value for 'MAP' at epoch 70 is 0.0243. Elapsed time 4.60 min\n",
      "EvaluatorHoldout: Processed 9934 (100.0%) in 5.66 sec. Users per second: 1755\n"
     ]
    },
    {
     "name": "stderr",
     "output_type": "stream",
     "text": [
      "[I 2023-12-06 15:02:42,381] Trial 7 finished with value: 0.024334400695383188 and parameters: {'epochs': 83, 'num_factors': 39, 'reg': 0.09099660493335862, 'alpha': 3.794084950016773}. Best is trial 4 with value: 0.027957727349714613.\n"
     ]
    },
    {
     "name": "stdout",
     "output_type": "stream",
     "text": [
      "IALSRecommender: URM Detected 550 ( 4.2%) users with no interactions.\n",
      "IALSRecommender: URM Detected 206 ( 0.9%) items with no interactions.\n",
      "IALSRecommender: Epoch 1 of 84. Elapsed time 2.66 sec\n",
      "IALSRecommender: Epoch 2 of 84. Elapsed time 5.34 sec\n",
      "IALSRecommender: Epoch 3 of 84. Elapsed time 8.05 sec\n",
      "IALSRecommender: Epoch 4 of 84. Elapsed time 10.77 sec\n",
      "IALSRecommender: Validation begins...\n",
      "EvaluatorHoldout: Processed 9934 (100.0%) in 5.68 sec. Users per second: 1748\n",
      "IALSRecommender: CUTOFF: 10 - PRECISION: 0.0530401, PRECISION_RECALL_MIN_DEN: 0.1138785, RECALL: 0.1047859, MAP: 0.0240965, MAP_MIN_DEN: 0.0514091, MRR: 0.1706907, NDCG: 0.0949730, F1: 0.0704301, HIT_RATE: 0.3715522, ARHR_ALL_HITS: 0.2022227, NOVELTY: 0.0045190, AVERAGE_POPULARITY: 0.3166655, DIVERSITY_MEAN_INTER_LIST: 0.9465293, DIVERSITY_HERFINDAHL: 0.9946434, COVERAGE_ITEM: 0.0434491, COVERAGE_ITEM_HIT: 0.0247002, ITEMS_IN_GT: 0.7219885, COVERAGE_USER: 0.7626871, COVERAGE_USER_HIT: 0.2833781, USERS_IN_GT: 0.7626871, DIVERSITY_GINI: 0.0100289, SHANNON_ENTROPY: 8.2076022, RATIO_DIVERSITY_HERFINDAHL: 0.9950033, RATIO_DIVERSITY_GINI: 0.0288597, RATIO_SHANNON_ENTROPY: 0.6321397, RATIO_AVERAGE_POPULARITY: 2.6683499, RATIO_NOVELTY: 0.2489702, \n",
      "\n",
      "IALSRecommender: New best model found! Updating.\n",
      "IALSRecommender: Epoch 5 of 84. Elapsed time 19.32 sec\n",
      "IALSRecommender: Epoch 6 of 84. Elapsed time 22.15 sec\n",
      "IALSRecommender: Epoch 7 of 84. Elapsed time 24.97 sec\n",
      "IALSRecommender: Epoch 8 of 84. Elapsed time 27.68 sec\n",
      "IALSRecommender: Epoch 9 of 84. Elapsed time 30.52 sec\n",
      "IALSRecommender: Validation begins...\n",
      "EvaluatorHoldout: Processed 9934 (100.0%) in 5.70 sec. Users per second: 1743\n",
      "IALSRecommender: CUTOFF: 10 - PRECISION: 0.0547413, PRECISION_RECALL_MIN_DEN: 0.1166612, RECALL: 0.1070707, MAP: 0.0248022, MAP_MIN_DEN: 0.0531667, MRR: 0.1733261, NDCG: 0.0976226, F1: 0.0724444, HIT_RATE: 0.3797061, ARHR_ALL_HITS: 0.2067960, NOVELTY: 0.0045405, AVERAGE_POPULARITY: 0.3078836, DIVERSITY_MEAN_INTER_LIST: 0.9500572, DIVERSITY_HERFINDAHL: 0.9949962, COVERAGE_ITEM: 0.0454179, COVERAGE_ITEM_HIT: 0.0255056, ITEMS_IN_GT: 0.7219885, COVERAGE_USER: 0.7626871, COVERAGE_USER_HIT: 0.2895969, USERS_IN_GT: 0.7626871, DIVERSITY_GINI: 0.0106587, SHANNON_ENTROPY: 8.2978159, RATIO_DIVERSITY_HERFINDAHL: 0.9953562, RATIO_DIVERSITY_GINI: 0.0306719, RATIO_SHANNON_ENTROPY: 0.6390878, RATIO_AVERAGE_POPULARITY: 2.5943502, RATIO_NOVELTY: 0.2501550, \n",
      "\n",
      "IALSRecommender: New best model found! Updating.\n",
      "IALSRecommender: Epoch 10 of 84. Elapsed time 39.09 sec\n",
      "IALSRecommender: Epoch 11 of 84. Elapsed time 41.99 sec\n",
      "IALSRecommender: Epoch 12 of 84. Elapsed time 44.77 sec\n",
      "IALSRecommender: Epoch 13 of 84. Elapsed time 47.69 sec\n",
      "IALSRecommender: Epoch 14 of 84. Elapsed time 50.52 sec\n",
      "IALSRecommender: Validation begins...\n",
      "EvaluatorHoldout: Processed 9934 (100.0%) in 5.73 sec. Users per second: 1733\n",
      "IALSRecommender: CUTOFF: 10 - PRECISION: 0.0552144, PRECISION_RECALL_MIN_DEN: 0.1179080, RECALL: 0.1081573, MAP: 0.0249919, MAP_MIN_DEN: 0.0537126, MRR: 0.1736912, NDCG: 0.0984365, F1: 0.0731074, HIT_RATE: 0.3830280, ARHR_ALL_HITS: 0.2076386, NOVELTY: 0.0045466, AVERAGE_POPULARITY: 0.3051443, DIVERSITY_MEAN_INTER_LIST: 0.9510838, DIVERSITY_HERFINDAHL: 0.9950988, COVERAGE_ITEM: 0.0451047, COVERAGE_ITEM_HIT: 0.0255056, ITEMS_IN_GT: 0.7219885, COVERAGE_USER: 0.7626871, COVERAGE_USER_HIT: 0.2921305, USERS_IN_GT: 0.7626871, DIVERSITY_GINI: 0.0108406, SHANNON_ENTROPY: 8.3232051, RATIO_DIVERSITY_HERFINDAHL: 0.9954589, RATIO_DIVERSITY_GINI: 0.0311955, RATIO_SHANNON_ENTROPY: 0.6410433, RATIO_AVERAGE_POPULARITY: 2.5712675, RATIO_NOVELTY: 0.2504900, \n",
      "\n",
      "IALSRecommender: New best model found! Updating.\n",
      "IALSRecommender: Epoch 15 of 84. Elapsed time 59.02 sec\n",
      "IALSRecommender: Epoch 16 of 84. Elapsed time 1.03 min\n",
      "IALSRecommender: Epoch 17 of 84. Elapsed time 1.08 min\n",
      "IALSRecommender: Epoch 18 of 84. Elapsed time 1.13 min\n",
      "IALSRecommender: Epoch 19 of 84. Elapsed time 1.17 min\n",
      "IALSRecommender: Validation begins...\n",
      "EvaluatorHoldout: Processed 9934 (100.0%) in 5.68 sec. Users per second: 1749\n",
      "IALSRecommender: CUTOFF: 10 - PRECISION: 0.0551842, PRECISION_RECALL_MIN_DEN: 0.1186941, RECALL: 0.1089612, MAP: 0.0250945, MAP_MIN_DEN: 0.0538606, MRR: 0.1742608, NDCG: 0.0987306, F1: 0.0732635, HIT_RATE: 0.3830280, ARHR_ALL_HITS: 0.2084541, NOVELTY: 0.0045484, AVERAGE_POPULARITY: 0.3043716, DIVERSITY_MEAN_INTER_LIST: 0.9513558, DIVERSITY_HERFINDAHL: 0.9951260, COVERAGE_ITEM: 0.0454179, COVERAGE_ITEM_HIT: 0.0255951, ITEMS_IN_GT: 0.7219885, COVERAGE_USER: 0.7626871, COVERAGE_USER_HIT: 0.2921305, USERS_IN_GT: 0.7626871, DIVERSITY_GINI: 0.0109027, SHANNON_ENTROPY: 8.3314390, RATIO_DIVERSITY_HERFINDAHL: 0.9954861, RATIO_DIVERSITY_GINI: 0.0313741, RATIO_SHANNON_ENTROPY: 0.6416774, RATIO_AVERAGE_POPULARITY: 2.5647564, RATIO_NOVELTY: 0.2505883, \n",
      "\n",
      "IALSRecommender: New best model found! Updating.\n",
      "IALSRecommender: Epoch 20 of 84. Elapsed time 1.32 min\n",
      "IALSRecommender: Epoch 21 of 84. Elapsed time 1.36 min\n",
      "IALSRecommender: Epoch 22 of 84. Elapsed time 1.41 min\n",
      "IALSRecommender: Epoch 23 of 84. Elapsed time 1.46 min\n",
      "IALSRecommender: Epoch 24 of 84. Elapsed time 1.51 min\n",
      "IALSRecommender: Validation begins...\n",
      "EvaluatorHoldout: Processed 9934 (100.0%) in 5.68 sec. Users per second: 1748\n",
      "IALSRecommender: CUTOFF: 10 - PRECISION: 0.0552647, PRECISION_RECALL_MIN_DEN: 0.1180730, RECALL: 0.1082665, MAP: 0.0251674, MAP_MIN_DEN: 0.0535809, MRR: 0.1746277, NDCG: 0.0984747, F1: 0.0731765, HIT_RATE: 0.3812160, ARHR_ALL_HITS: 0.2088768, NOVELTY: 0.0045497, AVERAGE_POPULARITY: 0.3038506, DIVERSITY_MEAN_INTER_LIST: 0.9515444, DIVERSITY_HERFINDAHL: 0.9951449, COVERAGE_ITEM: 0.0459101, COVERAGE_ITEM_HIT: 0.0258636, ITEMS_IN_GT: 0.7219885, COVERAGE_USER: 0.7626871, COVERAGE_USER_HIT: 0.2907486, USERS_IN_GT: 0.7626871, DIVERSITY_GINI: 0.0109493, SHANNON_ENTROPY: 8.3376157, RATIO_DIVERSITY_HERFINDAHL: 0.9955050, RATIO_DIVERSITY_GINI: 0.0315083, RATIO_SHANNON_ENTROPY: 0.6421532, RATIO_AVERAGE_POPULARITY: 2.5603661, RATIO_NOVELTY: 0.2506616, \n",
      "\n",
      "IALSRecommender: New best model found! Updating.\n",
      "IALSRecommender: Epoch 25 of 84. Elapsed time 1.65 min\n",
      "IALSRecommender: Epoch 26 of 84. Elapsed time 1.69 min\n",
      "IALSRecommender: Epoch 27 of 84. Elapsed time 1.74 min\n",
      "IALSRecommender: Epoch 28 of 84. Elapsed time 1.79 min\n",
      "IALSRecommender: Epoch 29 of 84. Elapsed time 1.83 min\n",
      "IALSRecommender: Validation begins...\n",
      "EvaluatorHoldout: Processed 9934 (100.0%) in 5.65 sec. Users per second: 1759\n",
      "IALSRecommender: CUTOFF: 10 - PRECISION: 0.0552748, PRECISION_RECALL_MIN_DEN: 0.1176232, RECALL: 0.1078089, MAP: 0.0252616, MAP_MIN_DEN: 0.0536568, MRR: 0.1748558, NDCG: 0.0984701, F1: 0.0730805, HIT_RATE: 0.3806120, ARHR_ALL_HITS: 0.2093896, NOVELTY: 0.0045503, AVERAGE_POPULARITY: 0.3035795, DIVERSITY_MEAN_INTER_LIST: 0.9516169, DIVERSITY_HERFINDAHL: 0.9951521, COVERAGE_ITEM: 0.0456864, COVERAGE_ITEM_HIT: 0.0262216, ITEMS_IN_GT: 0.7219885, COVERAGE_USER: 0.7626871, COVERAGE_USER_HIT: 0.2902879, USERS_IN_GT: 0.7626871, DIVERSITY_GINI: 0.0109524, SHANNON_ENTROPY: 8.3383433, RATIO_DIVERSITY_HERFINDAHL: 0.9955122, RATIO_DIVERSITY_GINI: 0.0315171, RATIO_SHANNON_ENTROPY: 0.6422092, RATIO_AVERAGE_POPULARITY: 2.5580824, RATIO_NOVELTY: 0.2506919, \n",
      "\n",
      "IALSRecommender: New best model found! Updating.\n",
      "IALSRecommender: Epoch 30 of 84. Elapsed time 1.98 min\n",
      "IALSRecommender: Epoch 31 of 84. Elapsed time 2.02 min\n",
      "IALSRecommender: Epoch 32 of 84. Elapsed time 2.07 min\n",
      "IALSRecommender: Epoch 33 of 84. Elapsed time 2.12 min\n",
      "IALSRecommender: Epoch 34 of 84. Elapsed time 2.16 min\n",
      "IALSRecommender: Validation begins...\n",
      "EvaluatorHoldout: Processed 9934 (100.0%) in 5.79 sec. Users per second: 1716\n",
      "IALSRecommender: CUTOFF: 10 - PRECISION: 0.0553453, PRECISION_RECALL_MIN_DEN: 0.1181280, RECALL: 0.1082750, MAP: 0.0252579, MAP_MIN_DEN: 0.0536618, MRR: 0.1749349, NDCG: 0.0985966, F1: 0.0732490, HIT_RATE: 0.3814174, ARHR_ALL_HITS: 0.2093994, NOVELTY: 0.0045507, AVERAGE_POPULARITY: 0.3035483, DIVERSITY_MEAN_INTER_LIST: 0.9516332, DIVERSITY_HERFINDAHL: 0.9951537, COVERAGE_ITEM: 0.0456417, COVERAGE_ITEM_HIT: 0.0265348, ITEMS_IN_GT: 0.7219885, COVERAGE_USER: 0.7626871, COVERAGE_USER_HIT: 0.2909021, USERS_IN_GT: 0.7626871, DIVERSITY_GINI: 0.0109699, SHANNON_ENTROPY: 8.3402746, RATIO_DIVERSITY_HERFINDAHL: 0.9955138, RATIO_DIVERSITY_GINI: 0.0315675, RATIO_SHANNON_ENTROPY: 0.6423579, RATIO_AVERAGE_POPULARITY: 2.5578192, RATIO_NOVELTY: 0.2507139, \n",
      "\n",
      "IALSRecommender: Epoch 35 of 84. Elapsed time 2.31 min\n"
     ]
    },
    {
     "name": "stdout",
     "output_type": "stream",
     "text": [
      "IALSRecommender: Epoch 36 of 84. Elapsed time 2.36 min\n",
      "IALSRecommender: Epoch 37 of 84. Elapsed time 2.40 min\n",
      "IALSRecommender: Epoch 38 of 84. Elapsed time 2.45 min\n",
      "IALSRecommender: Epoch 39 of 84. Elapsed time 2.50 min\n",
      "IALSRecommender: Validation begins...\n",
      "EvaluatorHoldout: Processed 9934 (100.0%) in 5.69 sec. Users per second: 1747\n",
      "IALSRecommender: CUTOFF: 10 - PRECISION: 0.0553050, PRECISION_RECALL_MIN_DEN: 0.1183398, RECALL: 0.1085505, MAP: 0.0252419, MAP_MIN_DEN: 0.0535634, MRR: 0.1751505, NDCG: 0.0985911, F1: 0.0732766, HIT_RATE: 0.3819207, ARHR_ALL_HITS: 0.2094737, NOVELTY: 0.0045511, AVERAGE_POPULARITY: 0.3033543, DIVERSITY_MEAN_INTER_LIST: 0.9517112, DIVERSITY_HERFINDAHL: 0.9951615, COVERAGE_ITEM: 0.0457312, COVERAGE_ITEM_HIT: 0.0264901, ITEMS_IN_GT: 0.7219885, COVERAGE_USER: 0.7626871, COVERAGE_USER_HIT: 0.2912860, USERS_IN_GT: 0.7626871, DIVERSITY_GINI: 0.0109824, SHANNON_ENTROPY: 8.3420437, RATIO_DIVERSITY_HERFINDAHL: 0.9955216, RATIO_DIVERSITY_GINI: 0.0316035, RATIO_SHANNON_ENTROPY: 0.6424942, RATIO_AVERAGE_POPULARITY: 2.5561846, RATIO_NOVELTY: 0.2507398, \n",
      "\n",
      "IALSRecommender: Epoch 40 of 84. Elapsed time 2.64 min\n",
      "IALSRecommender: Epoch 41 of 84. Elapsed time 2.69 min\n",
      "IALSRecommender: Epoch 42 of 84. Elapsed time 2.73 min\n",
      "IALSRecommender: Epoch 43 of 84. Elapsed time 2.78 min\n",
      "IALSRecommender: Epoch 44 of 84. Elapsed time 2.83 min\n",
      "IALSRecommender: Validation begins...\n",
      "EvaluatorHoldout: Processed 9934 (100.0%) in 5.72 sec. Users per second: 1736\n",
      "IALSRecommender: CUTOFF: 10 - PRECISION: 0.0554057, PRECISION_RECALL_MIN_DEN: 0.1181601, RECALL: 0.1083101, MAP: 0.0252566, MAP_MIN_DEN: 0.0535738, MRR: 0.1751480, NDCG: 0.0985754, F1: 0.0733099, HIT_RATE: 0.3823233, ARHR_ALL_HITS: 0.2094867, NOVELTY: 0.0045505, AVERAGE_POPULARITY: 0.3036754, DIVERSITY_MEAN_INTER_LIST: 0.9516258, DIVERSITY_HERFINDAHL: 0.9951530, COVERAGE_ITEM: 0.0455969, COVERAGE_ITEM_HIT: 0.0262216, ITEMS_IN_GT: 0.7219885, COVERAGE_USER: 0.7626871, COVERAGE_USER_HIT: 0.2915931, USERS_IN_GT: 0.7626871, DIVERSITY_GINI: 0.0109638, SHANNON_ENTROPY: 8.3396210, RATIO_DIVERSITY_HERFINDAHL: 0.9955131, RATIO_DIVERSITY_GINI: 0.0315500, RATIO_SHANNON_ENTROPY: 0.6423076, RATIO_AVERAGE_POPULARITY: 2.5588900, RATIO_NOVELTY: 0.2507035, \n",
      "\n",
      "IALSRecommender: Epoch 45 of 84. Elapsed time 2.97 min\n",
      "IALSRecommender: Epoch 46 of 84. Elapsed time 3.02 min\n",
      "IALSRecommender: Epoch 47 of 84. Elapsed time 3.07 min\n",
      "IALSRecommender: Epoch 48 of 84. Elapsed time 3.11 min\n",
      "IALSRecommender: Epoch 49 of 84. Elapsed time 3.16 min\n",
      "IALSRecommender: Validation begins...\n",
      "EvaluatorHoldout: Processed 9934 (100.0%) in 5.69 sec. Users per second: 1747\n",
      "IALSRecommender: CUTOFF: 10 - PRECISION: 0.0552144, PRECISION_RECALL_MIN_DEN: 0.1180786, RECALL: 0.1083186, MAP: 0.0252574, MAP_MIN_DEN: 0.0537430, MRR: 0.1756653, NDCG: 0.0986625, F1: 0.0731442, HIT_RATE: 0.3821220, ARHR_ALL_HITS: 0.2097839, NOVELTY: 0.0045505, AVERAGE_POPULARITY: 0.3036342, DIVERSITY_MEAN_INTER_LIST: 0.9516473, DIVERSITY_HERFINDAHL: 0.9951551, COVERAGE_ITEM: 0.0455074, COVERAGE_ITEM_HIT: 0.0260873, ITEMS_IN_GT: 0.7219885, COVERAGE_USER: 0.7626871, COVERAGE_USER_HIT: 0.2914395, USERS_IN_GT: 0.7626871, DIVERSITY_GINI: 0.0109645, SHANNON_ENTROPY: 8.3398199, RATIO_DIVERSITY_HERFINDAHL: 0.9955153, RATIO_DIVERSITY_GINI: 0.0315519, RATIO_SHANNON_ENTROPY: 0.6423229, RATIO_AVERAGE_POPULARITY: 2.5585430, RATIO_NOVELTY: 0.2507068, \n",
      "\n",
      "IALSRecommender: Epoch 50 of 84. Elapsed time 3.30 min\n",
      "IALSRecommender: Epoch 51 of 84. Elapsed time 3.35 min\n",
      "IALSRecommender: Epoch 52 of 84. Elapsed time 3.39 min\n",
      "IALSRecommender: Epoch 53 of 84. Elapsed time 3.44 min\n",
      "IALSRecommender: Epoch 54 of 84. Elapsed time 3.49 min\n",
      "IALSRecommender: Validation begins...\n",
      "EvaluatorHoldout: Processed 9934 (100.0%) in 5.65 sec. Users per second: 1757\n",
      "IALSRecommender: CUTOFF: 10 - PRECISION: 0.0553453, PRECISION_RECALL_MIN_DEN: 0.1187884, RECALL: 0.1090628, MAP: 0.0253233, MAP_MIN_DEN: 0.0540611, MRR: 0.1761511, NDCG: 0.0991091, F1: 0.0734284, HIT_RATE: 0.3826253, ARHR_ALL_HITS: 0.2103547, NOVELTY: 0.0045512, AVERAGE_POPULARITY: 0.3033821, DIVERSITY_MEAN_INTER_LIST: 0.9517367, DIVERSITY_HERFINDAHL: 0.9951641, COVERAGE_ITEM: 0.0451942, COVERAGE_ITEM_HIT: 0.0264901, ITEMS_IN_GT: 0.7219885, COVERAGE_USER: 0.7626871, COVERAGE_USER_HIT: 0.2918234, USERS_IN_GT: 0.7626871, DIVERSITY_GINI: 0.0109783, SHANNON_ENTROPY: 8.3417262, RATIO_DIVERSITY_HERFINDAHL: 0.9955242, RATIO_DIVERSITY_GINI: 0.0315916, RATIO_SHANNON_ENTROPY: 0.6424697, RATIO_AVERAGE_POPULARITY: 2.5564186, RATIO_NOVELTY: 0.2507410, \n",
      "\n",
      "IALSRecommender: New best model found! Updating.\n",
      "IALSRecommender: Epoch 55 of 84. Elapsed time 3.63 min\n",
      "IALSRecommender: Epoch 56 of 84. Elapsed time 3.67 min\n",
      "IALSRecommender: Epoch 57 of 84. Elapsed time 3.72 min\n",
      "IALSRecommender: Epoch 58 of 84. Elapsed time 3.76 min\n",
      "IALSRecommender: Epoch 59 of 84. Elapsed time 3.81 min\n",
      "IALSRecommender: Validation begins...\n",
      "EvaluatorHoldout: Processed 9934 (100.0%) in 5.65 sec. Users per second: 1759\n",
      "IALSRecommender: CUTOFF: 10 - PRECISION: 0.0552949, PRECISION_RECALL_MIN_DEN: 0.1184890, RECALL: 0.1088648, MAP: 0.0252920, MAP_MIN_DEN: 0.0539015, MRR: 0.1761961, NDCG: 0.0989458, F1: 0.0733392, HIT_RATE: 0.3835313, ARHR_ALL_HITS: 0.2102242, NOVELTY: 0.0045509, AVERAGE_POPULARITY: 0.3035397, DIVERSITY_MEAN_INTER_LIST: 0.9516860, DIVERSITY_HERFINDAHL: 0.9951590, COVERAGE_ITEM: 0.0452837, COVERAGE_ITEM_HIT: 0.0264901, ITEMS_IN_GT: 0.7219885, COVERAGE_USER: 0.7626871, COVERAGE_USER_HIT: 0.2925144, USERS_IN_GT: 0.7626871, DIVERSITY_GINI: 0.0109813, SHANNON_ENTROPY: 8.3417684, RATIO_DIVERSITY_HERFINDAHL: 0.9955191, RATIO_DIVERSITY_GINI: 0.0316003, RATIO_SHANNON_ENTROPY: 0.6424730, RATIO_AVERAGE_POPULARITY: 2.5577468, RATIO_NOVELTY: 0.2507284, \n",
      "\n",
      "IALSRecommender: Epoch 60 of 84. Elapsed time 3.95 min\n",
      "IALSRecommender: Epoch 61 of 84. Elapsed time 4.00 min\n",
      "IALSRecommender: Epoch 62 of 84. Elapsed time 4.04 min\n",
      "IALSRecommender: Epoch 63 of 84. Elapsed time 4.09 min\n",
      "IALSRecommender: Epoch 64 of 84. Elapsed time 4.14 min\n",
      "IALSRecommender: Validation begins...\n",
      "EvaluatorHoldout: Processed 9934 (100.0%) in 5.62 sec. Users per second: 1767\n",
      "IALSRecommender: CUTOFF: 10 - PRECISION: 0.0554459, PRECISION_RECALL_MIN_DEN: 0.1186082, RECALL: 0.1089272, MAP: 0.0253370, MAP_MIN_DEN: 0.0538745, MRR: 0.1765301, NDCG: 0.0990166, F1: 0.0734861, HIT_RATE: 0.3841353, ARHR_ALL_HITS: 0.2105730, NOVELTY: 0.0045507, AVERAGE_POPULARITY: 0.3036765, DIVERSITY_MEAN_INTER_LIST: 0.9516552, DIVERSITY_HERFINDAHL: 0.9951559, COVERAGE_ITEM: 0.0454627, COVERAGE_ITEM_HIT: 0.0264901, ITEMS_IN_GT: 0.7219885, COVERAGE_USER: 0.7626871, COVERAGE_USER_HIT: 0.2929750, USERS_IN_GT: 0.7626871, DIVERSITY_GINI: 0.0109798, SHANNON_ENTROPY: 8.3414464, RATIO_DIVERSITY_HERFINDAHL: 0.9955160, RATIO_DIVERSITY_GINI: 0.0315960, RATIO_SHANNON_ENTROPY: 0.6424482, RATIO_AVERAGE_POPULARITY: 2.5588994, RATIO_NOVELTY: 0.2507163, \n",
      "\n",
      "IALSRecommender: New best model found! Updating.\n",
      "IALSRecommender: Epoch 65 of 84. Elapsed time 4.28 min\n",
      "IALSRecommender: Epoch 66 of 84. Elapsed time 4.32 min\n",
      "IALSRecommender: Epoch 67 of 84. Elapsed time 4.37 min\n",
      "IALSRecommender: Epoch 68 of 84. Elapsed time 4.42 min\n",
      "IALSRecommender: Epoch 69 of 84. Elapsed time 4.46 min\n",
      "IALSRecommender: Validation begins...\n",
      "EvaluatorHoldout: Processed 9934 (100.0%) in 5.69 sec. Users per second: 1746\n",
      "IALSRecommender: CUTOFF: 10 - PRECISION: 0.0556573, PRECISION_RECALL_MIN_DEN: 0.1190007, RECALL: 0.1092788, MAP: 0.0253879, MAP_MIN_DEN: 0.0539710, MRR: 0.1770296, NDCG: 0.0992783, F1: 0.0737518, HIT_RATE: 0.3854439, ARHR_ALL_HITS: 0.2110592, NOVELTY: 0.0045506, AVERAGE_POPULARITY: 0.3037602, DIVERSITY_MEAN_INTER_LIST: 0.9516303, DIVERSITY_HERFINDAHL: 0.9951534, COVERAGE_ITEM: 0.0453284, COVERAGE_ITEM_HIT: 0.0264901, ITEMS_IN_GT: 0.7219885, COVERAGE_USER: 0.7626871, COVERAGE_USER_HIT: 0.2939731, USERS_IN_GT: 0.7626871, DIVERSITY_GINI: 0.0109792, SHANNON_ENTROPY: 8.3412166, RATIO_DIVERSITY_HERFINDAHL: 0.9955136, RATIO_DIVERSITY_GINI: 0.0315943, RATIO_SHANNON_ENTROPY: 0.6424305, RATIO_AVERAGE_POPULARITY: 2.5596051, RATIO_NOVELTY: 0.2507113, \n",
      "\n",
      "IALSRecommender: New best model found! Updating.\n",
      "IALSRecommender: Epoch 70 of 84. Elapsed time 4.60 min\n",
      "IALSRecommender: Epoch 71 of 84. Elapsed time 4.65 min\n"
     ]
    },
    {
     "name": "stdout",
     "output_type": "stream",
     "text": [
      "IALSRecommender: Epoch 72 of 84. Elapsed time 4.69 min\n",
      "IALSRecommender: Epoch 73 of 84. Elapsed time 4.74 min\n",
      "IALSRecommender: Epoch 74 of 84. Elapsed time 4.78 min\n",
      "IALSRecommender: Validation begins...\n",
      "EvaluatorHoldout: Processed 9934 (100.0%) in 5.66 sec. Users per second: 1756\n",
      "IALSRecommender: CUTOFF: 10 - PRECISION: 0.0559090, PRECISION_RECALL_MIN_DEN: 0.1192553, RECALL: 0.1094785, MAP: 0.0254395, MAP_MIN_DEN: 0.0539293, MRR: 0.1773959, NDCG: 0.0994223, F1: 0.0740181, HIT_RATE: 0.3867526, ARHR_ALL_HITS: 0.2115262, NOVELTY: 0.0045504, AVERAGE_POPULARITY: 0.3038311, DIVERSITY_MEAN_INTER_LIST: 0.9516160, DIVERSITY_HERFINDAHL: 0.9951520, COVERAGE_ITEM: 0.0452837, COVERAGE_ITEM_HIT: 0.0263111, ITEMS_IN_GT: 0.7219885, COVERAGE_USER: 0.7626871, COVERAGE_USER_HIT: 0.2949712, USERS_IN_GT: 0.7626871, DIVERSITY_GINI: 0.0109764, SHANNON_ENTROPY: 8.3408462, RATIO_DIVERSITY_HERFINDAHL: 0.9955121, RATIO_DIVERSITY_GINI: 0.0315860, RATIO_SHANNON_ENTROPY: 0.6424020, RATIO_AVERAGE_POPULARITY: 2.5602020, RATIO_NOVELTY: 0.2507014, \n",
      "\n",
      "IALSRecommender: New best model found! Updating.\n",
      "IALSRecommender: Epoch 75 of 84. Elapsed time 4.92 min\n",
      "IALSRecommender: Epoch 76 of 84. Elapsed time 4.97 min\n",
      "IALSRecommender: Epoch 77 of 84. Elapsed time 5.02 min\n",
      "IALSRecommender: Epoch 78 of 84. Elapsed time 5.06 min\n",
      "IALSRecommender: Epoch 79 of 84. Elapsed time 5.11 min\n",
      "IALSRecommender: Validation begins...\n",
      "EvaluatorHoldout: Processed 9934 (100.0%) in 5.67 sec. Users per second: 1752\n",
      "IALSRecommender: CUTOFF: 10 - PRECISION: 0.0558587, PRECISION_RECALL_MIN_DEN: 0.1191938, RECALL: 0.1094275, MAP: 0.0254666, MAP_MIN_DEN: 0.0539880, MRR: 0.1776172, NDCG: 0.0994538, F1: 0.0739623, HIT_RATE: 0.3857459, ARHR_ALL_HITS: 0.2117475, NOVELTY: 0.0045505, AVERAGE_POPULARITY: 0.3038894, DIVERSITY_MEAN_INTER_LIST: 0.9515996, DIVERSITY_HERFINDAHL: 0.9951504, COVERAGE_ITEM: 0.0451047, COVERAGE_ITEM_HIT: 0.0264453, ITEMS_IN_GT: 0.7219885, COVERAGE_USER: 0.7626871, COVERAGE_USER_HIT: 0.2942035, USERS_IN_GT: 0.7626871, DIVERSITY_GINI: 0.0109802, SHANNON_ENTROPY: 8.3411401, RATIO_DIVERSITY_HERFINDAHL: 0.9955105, RATIO_DIVERSITY_GINI: 0.0315970, RATIO_SHANNON_ENTROPY: 0.6424246, RATIO_AVERAGE_POPULARITY: 2.5606932, RATIO_NOVELTY: 0.2507025, \n",
      "\n",
      "IALSRecommender: New best model found! Updating.\n",
      "IALSRecommender: Epoch 80 of 84. Elapsed time 5.25 min\n",
      "IALSRecommender: Epoch 81 of 84. Elapsed time 5.30 min\n",
      "IALSRecommender: Epoch 82 of 84. Elapsed time 5.35 min\n",
      "IALSRecommender: Epoch 83 of 84. Elapsed time 5.39 min\n",
      "IALSRecommender: Epoch 84 of 84. Elapsed time 5.44 min\n",
      "IALSRecommender: Terminating at epoch 84. Best value for 'MAP' at epoch 80 is 0.0255. Elapsed time 5.44 min\n",
      "EvaluatorHoldout: Processed 9934 (100.0%) in 5.71 sec. Users per second: 1739\n"
     ]
    },
    {
     "name": "stderr",
     "output_type": "stream",
     "text": [
      "[I 2023-12-06 15:08:14,704] Trial 8 finished with value: 0.02546658341881819 and parameters: {'epochs': 84, 'num_factors': 50, 'reg': 0.028869367122140586, 'alpha': 3.782505112172116}. Best is trial 4 with value: 0.027957727349714613.\n"
     ]
    },
    {
     "name": "stdout",
     "output_type": "stream",
     "text": [
      "IALSRecommender: URM Detected 550 ( 4.2%) users with no interactions.\n",
      "IALSRecommender: URM Detected 206 ( 0.9%) items with no interactions.\n",
      "IALSRecommender: Epoch 1 of 145. Elapsed time 11.07 sec\n",
      "IALSRecommender: Epoch 2 of 145. Elapsed time 22.37 sec\n",
      "IALSRecommender: Epoch 3 of 145. Elapsed time 33.52 sec\n",
      "IALSRecommender: Epoch 4 of 145. Elapsed time 44.42 sec\n",
      "IALSRecommender: Validation begins...\n",
      "EvaluatorHoldout: Processed 9934 (100.0%) in 5.86 sec. Users per second: 1695\n",
      "IALSRecommender: CUTOFF: 10 - PRECISION: 0.0567042, PRECISION_RECALL_MIN_DEN: 0.1190692, RECALL: 0.1092668, MAP: 0.0268309, MAP_MIN_DEN: 0.0560638, MRR: 0.1866970, NDCG: 0.1022172, F1: 0.0746623, HIT_RATE: 0.3887659, ARHR_ALL_HITS: 0.2230885, NOVELTY: 0.0047324, AVERAGE_POPULARITY: 0.2247181, DIVERSITY_MEAN_INTER_LIST: 0.9718270, DIVERSITY_HERFINDAHL: 0.9971729, COVERAGE_ITEM: 0.0639431, COVERAGE_ITEM_HIT: 0.0355289, ITEMS_IN_GT: 0.7219885, COVERAGE_USER: 0.7626871, COVERAGE_USER_HIT: 0.2965067, USERS_IN_GT: 0.7626871, DIVERSITY_GINI: 0.0165303, SHANNON_ENTROPY: 8.9627364, RATIO_DIVERSITY_HERFINDAHL: 0.9975338, RATIO_DIVERSITY_GINI: 0.0475682, RATIO_SHANNON_ENTROPY: 0.6902992, RATIO_AVERAGE_POPULARITY: 1.8935645, RATIO_NOVELTY: 0.2607240, \n",
      "\n",
      "IALSRecommender: New best model found! Updating.\n",
      "IALSRecommender: Epoch 5 of 145. Elapsed time 1.02 min\n",
      "IALSRecommender: Epoch 6 of 145. Elapsed time 1.20 min\n",
      "IALSRecommender: Epoch 7 of 145. Elapsed time 1.39 min\n",
      "IALSRecommender: Epoch 8 of 145. Elapsed time 1.57 min\n",
      "IALSRecommender: Epoch 9 of 145. Elapsed time 1.76 min\n",
      "IALSRecommender: Validation begins...\n",
      "EvaluatorHoldout: Processed 9934 (100.0%) in 5.92 sec. Users per second: 1679\n",
      "IALSRecommender: CUTOFF: 10 - PRECISION: 0.0578619, PRECISION_RECALL_MIN_DEN: 0.1217972, RECALL: 0.1115570, MAP: 0.0278138, MAP_MIN_DEN: 0.0577552, MRR: 0.1923232, NDCG: 0.1048995, F1: 0.0762005, HIT_RATE: 0.3929938, ARHR_ALL_HITS: 0.2303583, NOVELTY: 0.0047547, AVERAGE_POPULARITY: 0.2176039, DIVERSITY_MEAN_INTER_LIST: 0.9733001, DIVERSITY_HERFINDAHL: 0.9973202, COVERAGE_ITEM: 0.0662699, COVERAGE_ITEM_HIT: 0.0377215, ITEMS_IN_GT: 0.7219885, COVERAGE_USER: 0.7626871, COVERAGE_USER_HIT: 0.2997313, USERS_IN_GT: 0.7626871, DIVERSITY_GINI: 0.0174343, SHANNON_ENTROPY: 9.0397021, RATIO_DIVERSITY_HERFINDAHL: 0.9976811, RATIO_DIVERSITY_GINI: 0.0501697, RATIO_SHANNON_ENTROPY: 0.6962270, RATIO_AVERAGE_POPULARITY: 1.8336174, RATIO_NOVELTY: 0.2619539, \n",
      "\n",
      "IALSRecommender: New best model found! Updating.\n",
      "IALSRecommender: Epoch 10 of 145. Elapsed time 2.04 min\n",
      "IALSRecommender: Epoch 11 of 145. Elapsed time 2.22 min\n",
      "IALSRecommender: Epoch 12 of 145. Elapsed time 2.40 min\n",
      "IALSRecommender: Epoch 13 of 145. Elapsed time 2.58 min\n",
      "IALSRecommender: Epoch 14 of 145. Elapsed time 2.76 min\n",
      "IALSRecommender: Validation begins...\n",
      "EvaluatorHoldout: Processed 9934 (100.0%) in 5.87 sec. Users per second: 1694\n",
      "IALSRecommender: CUTOFF: 10 - PRECISION: 0.0582444, PRECISION_RECALL_MIN_DEN: 0.1223333, RECALL: 0.1118413, MAP: 0.0279957, MAP_MIN_DEN: 0.0581238, MRR: 0.1933103, NDCG: 0.1054869, F1: 0.0765982, HIT_RATE: 0.3931951, ARHR_ALL_HITS: 0.2316699, NOVELTY: 0.0047599, AVERAGE_POPULARITY: 0.2159025, DIVERSITY_MEAN_INTER_LIST: 0.9736342, DIVERSITY_HERFINDAHL: 0.9973536, COVERAGE_ITEM: 0.0672543, COVERAGE_ITEM_HIT: 0.0385717, ITEMS_IN_GT: 0.7219885, COVERAGE_USER: 0.7626871, COVERAGE_USER_HIT: 0.2998848, USERS_IN_GT: 0.7626871, DIVERSITY_GINI: 0.0176617, SHANNON_ENTROPY: 9.0584238, RATIO_DIVERSITY_HERFINDAHL: 0.9977145, RATIO_DIVERSITY_GINI: 0.0508242, RATIO_SHANNON_ENTROPY: 0.6976689, RATIO_AVERAGE_POPULARITY: 1.8192804, RATIO_NOVELTY: 0.2622402, \n",
      "\n",
      "IALSRecommender: New best model found! Updating.\n",
      "IALSRecommender: Epoch 15 of 145. Elapsed time 3.04 min\n",
      "IALSRecommender: Epoch 16 of 145. Elapsed time 3.23 min\n",
      "IALSRecommender: Epoch 17 of 145. Elapsed time 3.41 min\n",
      "IALSRecommender: Epoch 18 of 145. Elapsed time 3.59 min\n",
      "IALSRecommender: Epoch 19 of 145. Elapsed time 3.78 min\n",
      "IALSRecommender: Validation begins...\n",
      "EvaluatorHoldout: Processed 9934 (100.0%) in 5.84 sec. Users per second: 1701\n",
      "IALSRecommender: CUTOFF: 10 - PRECISION: 0.0585766, PRECISION_RECALL_MIN_DEN: 0.1227259, RECALL: 0.1121326, MAP: 0.0280203, MAP_MIN_DEN: 0.0580788, MRR: 0.1928028, NDCG: 0.1055968, F1: 0.0769536, HIT_RATE: 0.3955104, ARHR_ALL_HITS: 0.2314220, NOVELTY: 0.0047615, AVERAGE_POPULARITY: 0.2155840, DIVERSITY_MEAN_INTER_LIST: 0.9737505, DIVERSITY_HERFINDAHL: 0.9973652, COVERAGE_ITEM: 0.0677018, COVERAGE_ITEM_HIT: 0.0383480, ITEMS_IN_GT: 0.7219885, COVERAGE_USER: 0.7626871, COVERAGE_USER_HIT: 0.3016507, USERS_IN_GT: 0.7626871, DIVERSITY_GINI: 0.0177496, SHANNON_ENTROPY: 9.0655715, RATIO_DIVERSITY_HERFINDAHL: 0.9977262, RATIO_DIVERSITY_GINI: 0.0510769, RATIO_SHANNON_ENTROPY: 0.6982194, RATIO_AVERAGE_POPULARITY: 1.8165966, RATIO_NOVELTY: 0.2623311, \n",
      "\n",
      "IALSRecommender: New best model found! Updating.\n",
      "IALSRecommender: Epoch 20 of 145. Elapsed time 4.06 min\n",
      "IALSRecommender: Epoch 21 of 145. Elapsed time 4.24 min\n",
      "IALSRecommender: Epoch 22 of 145. Elapsed time 4.42 min\n",
      "IALSRecommender: Epoch 23 of 145. Elapsed time 4.60 min\n",
      "IALSRecommender: Epoch 24 of 145. Elapsed time 4.78 min\n",
      "IALSRecommender: Validation begins...\n",
      "EvaluatorHoldout: Processed 9934 (100.0%) in 5.80 sec. Users per second: 1711\n",
      "IALSRecommender: CUTOFF: 10 - PRECISION: 0.0584256, PRECISION_RECALL_MIN_DEN: 0.1222437, RECALL: 0.1117256, MAP: 0.0279912, MAP_MIN_DEN: 0.0580051, MRR: 0.1932651, NDCG: 0.1054723, F1: 0.0767275, HIT_RATE: 0.3969197, ARHR_ALL_HITS: 0.2315860, NOVELTY: 0.0047629, AVERAGE_POPULARITY: 0.2150412, DIVERSITY_MEAN_INTER_LIST: 0.9737962, DIVERSITY_HERFINDAHL: 0.9973698, COVERAGE_ITEM: 0.0680150, COVERAGE_ITEM_HIT: 0.0384374, ITEMS_IN_GT: 0.7219885, COVERAGE_USER: 0.7626871, COVERAGE_USER_HIT: 0.3027255, USERS_IN_GT: 0.7626871, DIVERSITY_GINI: 0.0177929, SHANNON_ENTROPY: 9.0689859, RATIO_DIVERSITY_HERFINDAHL: 0.9977307, RATIO_DIVERSITY_GINI: 0.0512016, RATIO_SHANNON_ENTROPY: 0.6984824, RATIO_AVERAGE_POPULARITY: 1.8120230, RATIO_NOVELTY: 0.2624084, \n",
      "\n",
      "IALSRecommender: Epoch 25 of 145. Elapsed time 5.06 min\n",
      "IALSRecommender: Epoch 26 of 145. Elapsed time 5.25 min\n",
      "IALSRecommender: Epoch 27 of 145. Elapsed time 5.43 min\n",
      "IALSRecommender: Epoch 28 of 145. Elapsed time 5.62 min\n",
      "IALSRecommender: Epoch 29 of 145. Elapsed time 5.80 min\n",
      "IALSRecommender: Validation begins...\n",
      "EvaluatorHoldout: Processed 9934 (100.0%) in 5.87 sec. Users per second: 1693\n",
      "IALSRecommender: CUTOFF: 10 - PRECISION: 0.0583249, PRECISION_RECALL_MIN_DEN: 0.1220980, RECALL: 0.1115627, MAP: 0.0279964, MAP_MIN_DEN: 0.0581685, MRR: 0.1928837, NDCG: 0.1054726, F1: 0.0766023, HIT_RATE: 0.3956110, ARHR_ALL_HITS: 0.2313631, NOVELTY: 0.0047629, AVERAGE_POPULARITY: 0.2151243, DIVERSITY_MEAN_INTER_LIST: 0.9738011, DIVERSITY_HERFINDAHL: 0.9973703, COVERAGE_ITEM: 0.0681940, COVERAGE_ITEM_HIT: 0.0383480, ITEMS_IN_GT: 0.7219885, COVERAGE_USER: 0.7626871, COVERAGE_USER_HIT: 0.3017274, USERS_IN_GT: 0.7626871, DIVERSITY_GINI: 0.0178022, SHANNON_ENTROPY: 9.0696807, RATIO_DIVERSITY_HERFINDAHL: 0.9977312, RATIO_DIVERSITY_GINI: 0.0512284, RATIO_SHANNON_ENTROPY: 0.6985359, RATIO_AVERAGE_POPULARITY: 1.8127235, RATIO_NOVELTY: 0.2624079, \n",
      "\n",
      "IALSRecommender: Epoch 30 of 145. Elapsed time 6.08 min\n",
      "IALSRecommender: Epoch 31 of 145. Elapsed time 6.26 min\n",
      "IALSRecommender: Epoch 32 of 145. Elapsed time 6.45 min\n",
      "IALSRecommender: Epoch 33 of 145. Elapsed time 6.63 min\n",
      "IALSRecommender: Epoch 34 of 145. Elapsed time 6.81 min\n",
      "IALSRecommender: Validation begins...\n",
      "EvaluatorHoldout: Processed 9934 (100.0%) in 5.88 sec. Users per second: 1690\n",
      "IALSRecommender: CUTOFF: 10 - PRECISION: 0.0582142, PRECISION_RECALL_MIN_DEN: 0.1219076, RECALL: 0.1114247, MAP: 0.0279574, MAP_MIN_DEN: 0.0581719, MRR: 0.1927828, NDCG: 0.1053864, F1: 0.0764742, HIT_RATE: 0.3950070, ARHR_ALL_HITS: 0.2310836, NOVELTY: 0.0047629, AVERAGE_POPULARITY: 0.2151130, DIVERSITY_MEAN_INTER_LIST: 0.9738153, DIVERSITY_HERFINDAHL: 0.9973717, COVERAGE_ITEM: 0.0679703, COVERAGE_ITEM_HIT: 0.0377215, ITEMS_IN_GT: 0.7219885, COVERAGE_USER: 0.7626871, COVERAGE_USER_HIT: 0.3012668, USERS_IN_GT: 0.7626871, DIVERSITY_GINI: 0.0178108, SHANNON_ENTROPY: 9.0704026, RATIO_DIVERSITY_HERFINDAHL: 0.9977326, RATIO_DIVERSITY_GINI: 0.0512532, RATIO_SHANNON_ENTROPY: 0.6985915, RATIO_AVERAGE_POPULARITY: 1.8126284, RATIO_NOVELTY: 0.2624058, \n",
      "\n",
      "IALSRecommender: Epoch 35 of 145. Elapsed time 7.09 min\n"
     ]
    },
    {
     "name": "stdout",
     "output_type": "stream",
     "text": [
      "IALSRecommender: Epoch 36 of 145. Elapsed time 7.27 min\n",
      "IALSRecommender: Epoch 37 of 145. Elapsed time 7.46 min\n",
      "IALSRecommender: Epoch 38 of 145. Elapsed time 7.64 min\n",
      "IALSRecommender: Epoch 39 of 145. Elapsed time 7.82 min\n",
      "IALSRecommender: Validation begins...\n",
      "EvaluatorHoldout: Processed 9934 (100.0%) in 5.86 sec. Users per second: 1696\n",
      "IALSRecommender: CUTOFF: 10 - PRECISION: 0.0581437, PRECISION_RECALL_MIN_DEN: 0.1217486, RECALL: 0.1112768, MAP: 0.0279442, MAP_MIN_DEN: 0.0580418, MRR: 0.1928359, NDCG: 0.1052443, F1: 0.0763786, HIT_RATE: 0.3943024, ARHR_ALL_HITS: 0.2310776, NOVELTY: 0.0047630, AVERAGE_POPULARITY: 0.2150086, DIVERSITY_MEAN_INTER_LIST: 0.9738226, DIVERSITY_HERFINDAHL: 0.9973725, COVERAGE_ITEM: 0.0676571, COVERAGE_ITEM_HIT: 0.0376767, ITEMS_IN_GT: 0.7219885, COVERAGE_USER: 0.7626871, COVERAGE_USER_HIT: 0.3007294, USERS_IN_GT: 0.7626871, DIVERSITY_GINI: 0.0178042, SHANNON_ENTROPY: 9.0699373, RATIO_DIVERSITY_HERFINDAHL: 0.9977334, RATIO_DIVERSITY_GINI: 0.0512341, RATIO_SHANNON_ENTROPY: 0.6985557, RATIO_AVERAGE_POPULARITY: 1.8117484, RATIO_NOVELTY: 0.2624147, \n",
      "\n",
      "IALSRecommender: Epoch 40 of 145. Elapsed time 8.10 min\n",
      "IALSRecommender: Epoch 41 of 145. Elapsed time 8.28 min\n",
      "IALSRecommender: Epoch 42 of 145. Elapsed time 8.46 min\n",
      "IALSRecommender: Epoch 43 of 145. Elapsed time 8.64 min\n",
      "IALSRecommender: Epoch 44 of 145. Elapsed time 8.83 min\n",
      "IALSRecommender: Validation begins...\n",
      "EvaluatorHoldout: Processed 9934 (100.0%) in 5.88 sec. Users per second: 1690\n",
      "IALSRecommender: CUTOFF: 10 - PRECISION: 0.0582041, PRECISION_RECALL_MIN_DEN: 0.1220827, RECALL: 0.1115728, MAP: 0.0280119, MAP_MIN_DEN: 0.0580878, MRR: 0.1929915, NDCG: 0.1053659, F1: 0.0765004, HIT_RATE: 0.3943024, ARHR_ALL_HITS: 0.2314069, NOVELTY: 0.0047629, AVERAGE_POPULARITY: 0.2151554, DIVERSITY_MEAN_INTER_LIST: 0.9738320, DIVERSITY_HERFINDAHL: 0.9973734, COVERAGE_ITEM: 0.0678360, COVERAGE_ITEM_HIT: 0.0379452, ITEMS_IN_GT: 0.7219885, COVERAGE_USER: 0.7626871, COVERAGE_USER_HIT: 0.3007294, USERS_IN_GT: 0.7626871, DIVERSITY_GINI: 0.0178231, SHANNON_ENTROPY: 9.0713614, RATIO_DIVERSITY_HERFINDAHL: 0.9977343, RATIO_DIVERSITY_GINI: 0.0512884, RATIO_SHANNON_ENTROPY: 0.6986654, RATIO_AVERAGE_POPULARITY: 1.8129854, RATIO_NOVELTY: 0.2624085, \n",
      "\n",
      "IALSRecommender: Convergence reached! Terminating at epoch 45. Best value for 'MAP' at epoch 20 is 0.0280. Elapsed time 9.11 min\n",
      "IALSRecommender: Epoch 45 of 145. Elapsed time 9.11 min\n",
      "EvaluatorHoldout: Processed 9934 (100.0%) in 5.85 sec. Users per second: 1697\n"
     ]
    },
    {
     "name": "stderr",
     "output_type": "stream",
     "text": [
      "[I 2023-12-06 15:17:26,940] Trial 9 finished with value: 0.02802030704235268 and parameters: {'epochs': 145, 'num_factors': 128, 'reg': 0.08960853265940928, 'alpha': 1.6431935714463723}. Best is trial 9 with value: 0.02802030704235268.\n"
     ]
    },
    {
     "name": "stdout",
     "output_type": "stream",
     "text": [
      "IALSRecommender: URM Detected 550 ( 4.2%) users with no interactions.\n",
      "IALSRecommender: URM Detected 206 ( 0.9%) items with no interactions.\n",
      "IALSRecommender: Epoch 1 of 146. Elapsed time 4.56 sec\n",
      "IALSRecommender: Epoch 2 of 146. Elapsed time 9.07 sec\n",
      "IALSRecommender: Epoch 3 of 146. Elapsed time 13.63 sec\n",
      "IALSRecommender: Epoch 4 of 146. Elapsed time 18.11 sec\n",
      "IALSRecommender: Validation begins...\n",
      "EvaluatorHoldout: Processed 9934 (100.0%) in 5.83 sec. Users per second: 1703\n",
      "IALSRecommender: CUTOFF: 10 - PRECISION: 0.0534629, PRECISION_RECALL_MIN_DEN: 0.1102275, RECALL: 0.1003095, MAP: 0.0257100, MAP_MIN_DEN: 0.0528390, MRR: 0.1786734, NDCG: 0.0961102, F1: 0.0697503, HIT_RATE: 0.3681297, ARHR_ALL_HITS: 0.2133938, NOVELTY: 0.0046138, AVERAGE_POPULARITY: 0.2587799, DIVERSITY_MEAN_INTER_LIST: 0.9587589, DIVERSITY_HERFINDAHL: 0.9958662, COVERAGE_ITEM: 0.0408538, COVERAGE_ITEM_HIT: 0.0245660, ITEMS_IN_GT: 0.7219885, COVERAGE_USER: 0.7626871, COVERAGE_USER_HIT: 0.2807678, USERS_IN_GT: 0.7626871, DIVERSITY_GINI: 0.0109611, SHANNON_ENTROPY: 8.3711732, RATIO_DIVERSITY_HERFINDAHL: 0.9962266, RATIO_DIVERSITY_GINI: 0.0315421, RATIO_SHANNON_ENTROPY: 0.6447377, RATIO_AVERAGE_POPULARITY: 2.1805830, RATIO_NOVELTY: 0.2541903, \n",
      "\n",
      "IALSRecommender: New best model found! Updating.\n",
      "IALSRecommender: Epoch 5 of 146. Elapsed time 28.47 sec\n",
      "IALSRecommender: Epoch 6 of 146. Elapsed time 33.21 sec\n",
      "IALSRecommender: Epoch 7 of 146. Elapsed time 37.84 sec\n",
      "IALSRecommender: Epoch 8 of 146. Elapsed time 42.62 sec\n",
      "IALSRecommender: Epoch 9 of 146. Elapsed time 47.26 sec\n",
      "IALSRecommender: Validation begins...\n",
      "EvaluatorHoldout: Processed 9934 (100.0%) in 5.81 sec. Users per second: 1710\n",
      "IALSRecommender: CUTOFF: 10 - PRECISION: 0.0548722, PRECISION_RECALL_MIN_DEN: 0.1126633, RECALL: 0.1023659, MAP: 0.0265130, MAP_MIN_DEN: 0.0542988, MRR: 0.1830467, NDCG: 0.0986157, F1: 0.0714463, HIT_RATE: 0.3760821, ARHR_ALL_HITS: 0.2194846, NOVELTY: 0.0046409, AVERAGE_POPULARITY: 0.2479827, DIVERSITY_MEAN_INTER_LIST: 0.9613527, DIVERSITY_HERFINDAHL: 0.9961256, COVERAGE_ITEM: 0.0425094, COVERAGE_ITEM_HIT: 0.0259084, ITEMS_IN_GT: 0.7219885, COVERAGE_USER: 0.7626871, COVERAGE_USER_HIT: 0.2868330, USERS_IN_GT: 0.7626871, DIVERSITY_GINI: 0.0116690, SHANNON_ENTROPY: 8.4618462, RATIO_DIVERSITY_HERFINDAHL: 0.9964860, RATIO_DIVERSITY_GINI: 0.0335793, RATIO_SHANNON_ENTROPY: 0.6517212, RATIO_AVERAGE_POPULARITY: 2.0896014, RATIO_NOVELTY: 0.2556829, \n",
      "\n",
      "IALSRecommender: New best model found! Updating.\n",
      "IALSRecommender: Epoch 10 of 146. Elapsed time 57.76 sec\n",
      "IALSRecommender: Epoch 11 of 146. Elapsed time 1.04 min\n",
      "IALSRecommender: Epoch 12 of 146. Elapsed time 1.12 min\n",
      "IALSRecommender: Epoch 13 of 146. Elapsed time 1.20 min\n",
      "IALSRecommender: Epoch 14 of 146. Elapsed time 1.28 min\n",
      "IALSRecommender: Validation begins...\n",
      "EvaluatorHoldout: Processed 9934 (100.0%) in 5.87 sec. Users per second: 1692\n",
      "IALSRecommender: CUTOFF: 10 - PRECISION: 0.0553151, PRECISION_RECALL_MIN_DEN: 0.1131634, RECALL: 0.1027123, MAP: 0.0267186, MAP_MIN_DEN: 0.0543920, MRR: 0.1844917, NDCG: 0.0990581, F1: 0.0719058, HIT_RATE: 0.3784981, ARHR_ALL_HITS: 0.2211087, NOVELTY: 0.0046460, AVERAGE_POPULARITY: 0.2460058, DIVERSITY_MEAN_INTER_LIST: 0.9617891, DIVERSITY_HERFINDAHL: 0.9961692, COVERAGE_ITEM: 0.0428226, COVERAGE_ITEM_HIT: 0.0260426, ITEMS_IN_GT: 0.7219885, COVERAGE_USER: 0.7626871, COVERAGE_USER_HIT: 0.2886756, USERS_IN_GT: 0.7626871, DIVERSITY_GINI: 0.0118148, SHANNON_ENTROPY: 8.4798247, RATIO_DIVERSITY_HERFINDAHL: 0.9965297, RATIO_DIVERSITY_GINI: 0.0339987, RATIO_SHANNON_ENTROPY: 0.6531059, RATIO_AVERAGE_POPULARITY: 2.0729435, RATIO_NOVELTY: 0.2559658, \n",
      "\n",
      "IALSRecommender: New best model found! Updating.\n",
      "IALSRecommender: Epoch 15 of 146. Elapsed time 1.45 min\n",
      "IALSRecommender: Epoch 16 of 146. Elapsed time 1.53 min\n",
      "IALSRecommender: Epoch 17 of 146. Elapsed time 1.61 min\n",
      "IALSRecommender: Epoch 18 of 146. Elapsed time 1.68 min\n",
      "IALSRecommender: Epoch 19 of 146. Elapsed time 1.76 min\n",
      "IALSRecommender: Validation begins...\n",
      "EvaluatorHoldout: Processed 9934 (100.0%) in 5.79 sec. Users per second: 1716\n",
      "IALSRecommender: CUTOFF: 10 - PRECISION: 0.0555164, PRECISION_RECALL_MIN_DEN: 0.1140404, RECALL: 0.1034794, MAP: 0.0266496, MAP_MIN_DEN: 0.0540599, MRR: 0.1836466, NDCG: 0.0989527, F1: 0.0722636, HIT_RATE: 0.3795047, ARHR_ALL_HITS: 0.2202667, NOVELTY: 0.0046479, AVERAGE_POPULARITY: 0.2453149, DIVERSITY_MEAN_INTER_LIST: 0.9618981, DIVERSITY_HERFINDAHL: 0.9961801, COVERAGE_ITEM: 0.0433596, COVERAGE_ITEM_HIT: 0.0264006, ITEMS_IN_GT: 0.7219885, COVERAGE_USER: 0.7626871, COVERAGE_USER_HIT: 0.2894434, USERS_IN_GT: 0.7626871, DIVERSITY_GINI: 0.0118625, SHANNON_ENTROPY: 8.4856222, RATIO_DIVERSITY_HERFINDAHL: 0.9965406, RATIO_DIVERSITY_GINI: 0.0341360, RATIO_SHANNON_ENTROPY: 0.6535524, RATIO_AVERAGE_POPULARITY: 2.0671215, RATIO_NOVELTY: 0.2560709, \n",
      "\n",
      "IALSRecommender: Epoch 20 of 146. Elapsed time 1.94 min\n",
      "IALSRecommender: Epoch 21 of 146. Elapsed time 2.02 min\n",
      "IALSRecommender: Epoch 22 of 146. Elapsed time 2.09 min\n",
      "IALSRecommender: Epoch 23 of 146. Elapsed time 2.17 min\n",
      "IALSRecommender: Epoch 24 of 146. Elapsed time 2.25 min\n",
      "IALSRecommender: Validation begins...\n",
      "EvaluatorHoldout: Processed 9934 (100.0%) in 5.82 sec. Users per second: 1707\n",
      "IALSRecommender: CUTOFF: 10 - PRECISION: 0.0554258, PRECISION_RECALL_MIN_DEN: 0.1137176, RECALL: 0.1031556, MAP: 0.0266387, MAP_MIN_DEN: 0.0540715, MRR: 0.1835669, NDCG: 0.0988689, F1: 0.0721079, HIT_RATE: 0.3788001, ARHR_ALL_HITS: 0.2201092, NOVELTY: 0.0046487, AVERAGE_POPULARITY: 0.2450273, DIVERSITY_MEAN_INTER_LIST: 0.9619871, DIVERSITY_HERFINDAHL: 0.9961890, COVERAGE_ITEM: 0.0433596, COVERAGE_ITEM_HIT: 0.0263111, ITEMS_IN_GT: 0.7219885, COVERAGE_USER: 0.7626871, COVERAGE_USER_HIT: 0.2889060, USERS_IN_GT: 0.7626871, DIVERSITY_GINI: 0.0118890, SHANNON_ENTROPY: 8.4888223, RATIO_DIVERSITY_HERFINDAHL: 0.9965495, RATIO_DIVERSITY_GINI: 0.0342122, RATIO_SHANNON_ENTROPY: 0.6537989, RATIO_AVERAGE_POPULARITY: 2.0646980, RATIO_NOVELTY: 0.2561140, \n",
      "\n",
      "IALSRecommender: Epoch 25 of 146. Elapsed time 2.42 min\n",
      "IALSRecommender: Epoch 26 of 146. Elapsed time 2.50 min\n",
      "IALSRecommender: Epoch 27 of 146. Elapsed time 2.58 min\n",
      "IALSRecommender: Epoch 28 of 146. Elapsed time 2.66 min\n",
      "IALSRecommender: Epoch 29 of 146. Elapsed time 2.74 min\n",
      "IALSRecommender: Validation begins...\n",
      "EvaluatorHoldout: Processed 9934 (100.0%) in 5.81 sec. Users per second: 1711\n",
      "IALSRecommender: CUTOFF: 10 - PRECISION: 0.0556372, PRECISION_RECALL_MIN_DEN: 0.1143120, RECALL: 0.1036969, MAP: 0.0266663, MAP_MIN_DEN: 0.0541197, MRR: 0.1835250, NDCG: 0.0990540, F1: 0.0724190, HIT_RATE: 0.3792027, ARHR_ALL_HITS: 0.2201751, NOVELTY: 0.0046492, AVERAGE_POPULARITY: 0.2447976, DIVERSITY_MEAN_INTER_LIST: 0.9620294, DIVERSITY_HERFINDAHL: 0.9961933, COVERAGE_ITEM: 0.0430464, COVERAGE_ITEM_HIT: 0.0261321, ITEMS_IN_GT: 0.7219885, COVERAGE_USER: 0.7626871, COVERAGE_USER_HIT: 0.2892131, USERS_IN_GT: 0.7626871, DIVERSITY_GINI: 0.0119003, SHANNON_ENTROPY: 8.4901942, RATIO_DIVERSITY_HERFINDAHL: 0.9965537, RATIO_DIVERSITY_GINI: 0.0342448, RATIO_SHANNON_ENTROPY: 0.6539046, RATIO_AVERAGE_POPULARITY: 2.0627626, RATIO_NOVELTY: 0.2561427, \n",
      "\n",
      "IALSRecommender: Epoch 30 of 146. Elapsed time 2.91 min\n",
      "IALSRecommender: Epoch 31 of 146. Elapsed time 2.99 min\n",
      "IALSRecommender: Epoch 32 of 146. Elapsed time 3.07 min\n",
      "IALSRecommender: Epoch 33 of 146. Elapsed time 3.15 min\n",
      "IALSRecommender: Epoch 34 of 146. Elapsed time 3.22 min\n",
      "IALSRecommender: Validation begins...\n",
      "EvaluatorHoldout: Processed 9934 (100.0%) in 5.83 sec. Users per second: 1705\n",
      "IALSRecommender: CUTOFF: 10 - PRECISION: 0.0556573, PRECISION_RECALL_MIN_DEN: 0.1142378, RECALL: 0.1035807, MAP: 0.0266714, MAP_MIN_DEN: 0.0542127, MRR: 0.1833171, NDCG: 0.0990953, F1: 0.0724076, HIT_RATE: 0.3785988, ARHR_ALL_HITS: 0.2200959, NOVELTY: 0.0046494, AVERAGE_POPULARITY: 0.2447511, DIVERSITY_MEAN_INTER_LIST: 0.9620348, DIVERSITY_HERFINDAHL: 0.9961938, COVERAGE_ITEM: 0.0434491, COVERAGE_ITEM_HIT: 0.0264453, ITEMS_IN_GT: 0.7219885, COVERAGE_USER: 0.7626871, COVERAGE_USER_HIT: 0.2887524, USERS_IN_GT: 0.7626871, DIVERSITY_GINI: 0.0119111, SHANNON_ENTROPY: 8.4915534, RATIO_DIVERSITY_HERFINDAHL: 0.9965543, RATIO_DIVERSITY_GINI: 0.0342760, RATIO_SHANNON_ENTROPY: 0.6540093, RATIO_AVERAGE_POPULARITY: 2.0623709, RATIO_NOVELTY: 0.2561518, \n",
      "\n",
      "IALSRecommender: Epoch 35 of 146. Elapsed time 3.40 min\n"
     ]
    },
    {
     "name": "stdout",
     "output_type": "stream",
     "text": [
      "IALSRecommender: Epoch 36 of 146. Elapsed time 3.47 min\n",
      "IALSRecommender: Epoch 37 of 146. Elapsed time 3.55 min\n",
      "IALSRecommender: Epoch 38 of 146. Elapsed time 3.63 min\n",
      "IALSRecommender: Epoch 39 of 146. Elapsed time 3.71 min\n",
      "IALSRecommender: Validation begins...\n",
      "EvaluatorHoldout: Processed 9934 (100.0%) in 5.87 sec. Users per second: 1693\n",
      "IALSRecommender: CUTOFF: 10 - PRECISION: 0.0556674, PRECISION_RECALL_MIN_DEN: 0.1143688, RECALL: 0.1037102, MAP: 0.0266450, MAP_MIN_DEN: 0.0540652, MRR: 0.1829161, NDCG: 0.0989857, F1: 0.0724478, HIT_RATE: 0.3781961, ARHR_ALL_HITS: 0.2197721, NOVELTY: 0.0046498, AVERAGE_POPULARITY: 0.2446046, DIVERSITY_MEAN_INTER_LIST: 0.9620748, DIVERSITY_HERFINDAHL: 0.9961978, COVERAGE_ITEM: 0.0434043, COVERAGE_ITEM_HIT: 0.0265348, ITEMS_IN_GT: 0.7219885, COVERAGE_USER: 0.7626871, COVERAGE_USER_HIT: 0.2884453, USERS_IN_GT: 0.7626871, DIVERSITY_GINI: 0.0119272, SHANNON_ENTROPY: 8.4934928, RATIO_DIVERSITY_HERFINDAHL: 0.9965583, RATIO_DIVERSITY_GINI: 0.0343223, RATIO_SHANNON_ENTROPY: 0.6541586, RATIO_AVERAGE_POPULARITY: 2.0611362, RATIO_NOVELTY: 0.2561768, \n",
      "\n",
      "IALSRecommender: Convergence reached! Terminating at epoch 40. Best value for 'MAP' at epoch 15 is 0.0267. Elapsed time 3.88 min\n",
      "IALSRecommender: Epoch 40 of 146. Elapsed time 3.88 min\n",
      "EvaluatorHoldout: Processed 9934 (100.0%) in 5.76 sec. Users per second: 1725\n"
     ]
    },
    {
     "name": "stderr",
     "output_type": "stream",
     "text": [
      "[I 2023-12-06 15:21:25,617] Trial 10 finished with value: 0.02671855676033247 and parameters: {'epochs': 146, 'num_factors': 77, 'reg': 0.0018539622279492157, 'alpha': 0.6804948720125619}. Best is trial 9 with value: 0.02802030704235268.\n"
     ]
    },
    {
     "name": "stdout",
     "output_type": "stream",
     "text": [
      "IALSRecommender: URM Detected 550 ( 4.2%) users with no interactions.\n",
      "IALSRecommender: URM Detected 206 ( 0.9%) items with no interactions.\n",
      "IALSRecommender: Epoch 1 of 121. Elapsed time 14.00 sec\n",
      "IALSRecommender: Epoch 2 of 121. Elapsed time 27.98 sec\n",
      "IALSRecommender: Epoch 3 of 121. Elapsed time 41.78 sec\n",
      "IALSRecommender: Epoch 4 of 121. Elapsed time 55.54 sec\n",
      "IALSRecommender: Validation begins...\n",
      "EvaluatorHoldout: Processed 9934 (100.0%) in 5.80 sec. Users per second: 1712\n",
      "IALSRecommender: CUTOFF: 10 - PRECISION: 0.0570264, PRECISION_RECALL_MIN_DEN: 0.1190503, RECALL: 0.1087845, MAP: 0.0270270, MAP_MIN_DEN: 0.0561305, MRR: 0.1868604, NDCG: 0.1023594, F1: 0.0748272, HIT_RATE: 0.3870546, ARHR_ALL_HITS: 0.2240063, NOVELTY: 0.0047780, AVERAGE_POPULARITY: 0.2074732, DIVERSITY_MEAN_INTER_LIST: 0.9744391, DIVERSITY_HERFINDAHL: 0.9974341, COVERAGE_ITEM: 0.0668069, COVERAGE_ITEM_HIT: 0.0382585, ITEMS_IN_GT: 0.7219885, COVERAGE_USER: 0.7626871, COVERAGE_USER_HIT: 0.2952015, USERS_IN_GT: 0.7626871, DIVERSITY_GINI: 0.0179532, SHANNON_ENTROPY: 9.0838050, RATIO_DIVERSITY_HERFINDAHL: 0.9977950, RATIO_DIVERSITY_GINI: 0.0516630, RATIO_SHANNON_ENTROPY: 0.6996238, RATIO_AVERAGE_POPULARITY: 1.7482523, RATIO_NOVELTY: 0.2632381, \n",
      "\n",
      "IALSRecommender: New best model found! Updating.\n",
      "IALSRecommender: Epoch 5 of 121. Elapsed time 1.25 min\n"
     ]
    },
    {
     "name": "stderr",
     "output_type": "stream",
     "text": [
      "[W 2023-12-06 15:22:50,445] Trial 11 failed with parameters: {'epochs': 121, 'num_factors': 149, 'reg': 0.0647265000964938, 'alpha': 1.268061203836035} because of the following error: KeyboardInterrupt().\n",
      "Traceback (most recent call last):\n",
      "  File \"C:\\Users\\zheng\\.conda\\envs\\RecSysFramework\\lib\\site-packages\\optuna\\study\\_optimize.py\", line 200, in _run_trial\n",
      "    value_or_values = func(trial)\n",
      "  File \"C:\\Users\\zheng\\AppData\\Local\\Temp\\ipykernel_24164\\2970231677.py\", line 8, in objective\n",
      "    recommender.fit(**{\n",
      "  File \"D:\\Uni\\Magistrale\\Recommender Systems\\23-24 challenge\\Recommenders\\MatrixFactorization\\IALSRecommender.py\", line 88, in fit\n",
      "    self._train_with_early_stopping(epochs,\n",
      "  File \"D:\\Uni\\Magistrale\\Recommender Systems\\23-24 challenge\\Recommenders\\Incremental_Training_Early_Stopping.py\", line 199, in _train_with_early_stopping\n",
      "    self._run_epoch(epochs_current)\n",
      "  File \"D:\\Uni\\Magistrale\\Recommender Systems\\23-24 challenge\\Recommenders\\MatrixFactorization\\IALSRecommender.py\", line 166, in _run_epoch\n",
      "    self.ITEM_factors[item_id, :] = self._update_row(item_profile, item_confidence, self.USER_factors, UU)\n",
      "  File \"D:\\Uni\\Magistrale\\Recommender Systems\\23-24 challenge\\Recommenders\\MatrixFactorization\\IALSRecommender.py\", line 201, in _update_row\n",
      "    return np.dot(np.linalg.inv(B), Y_interactions.T.dot(interaction_confidence))\n",
      "  File \"<__array_function__ internals>\", line 200, in inv\n",
      "  File \"C:\\Users\\zheng\\.conda\\envs\\RecSysFramework\\lib\\site-packages\\numpy\\linalg\\linalg.py\", line 538, in inv\n",
      "    ainv = _umath_linalg.inv(a, signature=signature, extobj=extobj)\n",
      "KeyboardInterrupt\n",
      "[W 2023-12-06 15:22:50,446] Trial 11 failed with value None.\n"
     ]
    },
    {
     "ename": "KeyboardInterrupt",
     "evalue": "",
     "output_type": "error",
     "traceback": [
      "\u001b[1;31m---------------------------------------------------------------------------\u001b[0m",
      "\u001b[1;31mKeyboardInterrupt\u001b[0m                         Traceback (most recent call last)",
      "Cell \u001b[1;32mIn[165], line 10\u001b[0m\n\u001b[0;32m      8\u001b[0m study \u001b[38;5;241m=\u001b[39m op\u001b[38;5;241m.\u001b[39mcreate_study(direction\u001b[38;5;241m=\u001b[39m\u001b[38;5;124m\"\u001b[39m\u001b[38;5;124mmaximize\u001b[39m\u001b[38;5;124m\"\u001b[39m)\n\u001b[0;32m      9\u001b[0m study\u001b[38;5;241m.\u001b[39menqueue_trial(best_params)\n\u001b[1;32m---> 10\u001b[0m \u001b[43mstudy\u001b[49m\u001b[38;5;241;43m.\u001b[39;49m\u001b[43moptimize\u001b[49m\u001b[43m(\u001b[49m\u001b[43mobjective\u001b[49m\u001b[43m,\u001b[49m\u001b[43m \u001b[49m\u001b[43mn_trials\u001b[49m\u001b[38;5;241;43m=\u001b[39;49m\u001b[38;5;241;43m100\u001b[39;49m\u001b[43m)\u001b[49m\n",
      "File \u001b[1;32m~\\.conda\\envs\\RecSysFramework\\lib\\site-packages\\optuna\\study\\study.py:451\u001b[0m, in \u001b[0;36mStudy.optimize\u001b[1;34m(self, func, n_trials, timeout, n_jobs, catch, callbacks, gc_after_trial, show_progress_bar)\u001b[0m\n\u001b[0;32m    348\u001b[0m \u001b[38;5;28;01mdef\u001b[39;00m \u001b[38;5;21moptimize\u001b[39m(\n\u001b[0;32m    349\u001b[0m     \u001b[38;5;28mself\u001b[39m,\n\u001b[0;32m    350\u001b[0m     func: ObjectiveFuncType,\n\u001b[1;32m   (...)\u001b[0m\n\u001b[0;32m    357\u001b[0m     show_progress_bar: \u001b[38;5;28mbool\u001b[39m \u001b[38;5;241m=\u001b[39m \u001b[38;5;28;01mFalse\u001b[39;00m,\n\u001b[0;32m    358\u001b[0m ) \u001b[38;5;241m-\u001b[39m\u001b[38;5;241m>\u001b[39m \u001b[38;5;28;01mNone\u001b[39;00m:\n\u001b[0;32m    359\u001b[0m \u001b[38;5;250m    \u001b[39m\u001b[38;5;124;03m\"\"\"Optimize an objective function.\u001b[39;00m\n\u001b[0;32m    360\u001b[0m \n\u001b[0;32m    361\u001b[0m \u001b[38;5;124;03m    Optimization is done by choosing a suitable set of hyperparameter values from a given\u001b[39;00m\n\u001b[1;32m   (...)\u001b[0m\n\u001b[0;32m    449\u001b[0m \u001b[38;5;124;03m            If nested invocation of this method occurs.\u001b[39;00m\n\u001b[0;32m    450\u001b[0m \u001b[38;5;124;03m    \"\"\"\u001b[39;00m\n\u001b[1;32m--> 451\u001b[0m     \u001b[43m_optimize\u001b[49m\u001b[43m(\u001b[49m\n\u001b[0;32m    452\u001b[0m \u001b[43m        \u001b[49m\u001b[43mstudy\u001b[49m\u001b[38;5;241;43m=\u001b[39;49m\u001b[38;5;28;43mself\u001b[39;49m\u001b[43m,\u001b[49m\n\u001b[0;32m    453\u001b[0m \u001b[43m        \u001b[49m\u001b[43mfunc\u001b[49m\u001b[38;5;241;43m=\u001b[39;49m\u001b[43mfunc\u001b[49m\u001b[43m,\u001b[49m\n\u001b[0;32m    454\u001b[0m \u001b[43m        \u001b[49m\u001b[43mn_trials\u001b[49m\u001b[38;5;241;43m=\u001b[39;49m\u001b[43mn_trials\u001b[49m\u001b[43m,\u001b[49m\n\u001b[0;32m    455\u001b[0m \u001b[43m        \u001b[49m\u001b[43mtimeout\u001b[49m\u001b[38;5;241;43m=\u001b[39;49m\u001b[43mtimeout\u001b[49m\u001b[43m,\u001b[49m\n\u001b[0;32m    456\u001b[0m \u001b[43m        \u001b[49m\u001b[43mn_jobs\u001b[49m\u001b[38;5;241;43m=\u001b[39;49m\u001b[43mn_jobs\u001b[49m\u001b[43m,\u001b[49m\n\u001b[0;32m    457\u001b[0m \u001b[43m        \u001b[49m\u001b[43mcatch\u001b[49m\u001b[38;5;241;43m=\u001b[39;49m\u001b[38;5;28;43mtuple\u001b[39;49m\u001b[43m(\u001b[49m\u001b[43mcatch\u001b[49m\u001b[43m)\u001b[49m\u001b[43m \u001b[49m\u001b[38;5;28;43;01mif\u001b[39;49;00m\u001b[43m \u001b[49m\u001b[38;5;28;43misinstance\u001b[39;49m\u001b[43m(\u001b[49m\u001b[43mcatch\u001b[49m\u001b[43m,\u001b[49m\u001b[43m \u001b[49m\u001b[43mIterable\u001b[49m\u001b[43m)\u001b[49m\u001b[43m \u001b[49m\u001b[38;5;28;43;01melse\u001b[39;49;00m\u001b[43m \u001b[49m\u001b[43m(\u001b[49m\u001b[43mcatch\u001b[49m\u001b[43m,\u001b[49m\u001b[43m)\u001b[49m\u001b[43m,\u001b[49m\n\u001b[0;32m    458\u001b[0m \u001b[43m        \u001b[49m\u001b[43mcallbacks\u001b[49m\u001b[38;5;241;43m=\u001b[39;49m\u001b[43mcallbacks\u001b[49m\u001b[43m,\u001b[49m\n\u001b[0;32m    459\u001b[0m \u001b[43m        \u001b[49m\u001b[43mgc_after_trial\u001b[49m\u001b[38;5;241;43m=\u001b[39;49m\u001b[43mgc_after_trial\u001b[49m\u001b[43m,\u001b[49m\n\u001b[0;32m    460\u001b[0m \u001b[43m        \u001b[49m\u001b[43mshow_progress_bar\u001b[49m\u001b[38;5;241;43m=\u001b[39;49m\u001b[43mshow_progress_bar\u001b[49m\u001b[43m,\u001b[49m\n\u001b[0;32m    461\u001b[0m \u001b[43m    \u001b[49m\u001b[43m)\u001b[49m\n",
      "File \u001b[1;32m~\\.conda\\envs\\RecSysFramework\\lib\\site-packages\\optuna\\study\\_optimize.py:66\u001b[0m, in \u001b[0;36m_optimize\u001b[1;34m(study, func, n_trials, timeout, n_jobs, catch, callbacks, gc_after_trial, show_progress_bar)\u001b[0m\n\u001b[0;32m     64\u001b[0m \u001b[38;5;28;01mtry\u001b[39;00m:\n\u001b[0;32m     65\u001b[0m     \u001b[38;5;28;01mif\u001b[39;00m n_jobs \u001b[38;5;241m==\u001b[39m \u001b[38;5;241m1\u001b[39m:\n\u001b[1;32m---> 66\u001b[0m         \u001b[43m_optimize_sequential\u001b[49m\u001b[43m(\u001b[49m\n\u001b[0;32m     67\u001b[0m \u001b[43m            \u001b[49m\u001b[43mstudy\u001b[49m\u001b[43m,\u001b[49m\n\u001b[0;32m     68\u001b[0m \u001b[43m            \u001b[49m\u001b[43mfunc\u001b[49m\u001b[43m,\u001b[49m\n\u001b[0;32m     69\u001b[0m \u001b[43m            \u001b[49m\u001b[43mn_trials\u001b[49m\u001b[43m,\u001b[49m\n\u001b[0;32m     70\u001b[0m \u001b[43m            \u001b[49m\u001b[43mtimeout\u001b[49m\u001b[43m,\u001b[49m\n\u001b[0;32m     71\u001b[0m \u001b[43m            \u001b[49m\u001b[43mcatch\u001b[49m\u001b[43m,\u001b[49m\n\u001b[0;32m     72\u001b[0m \u001b[43m            \u001b[49m\u001b[43mcallbacks\u001b[49m\u001b[43m,\u001b[49m\n\u001b[0;32m     73\u001b[0m \u001b[43m            \u001b[49m\u001b[43mgc_after_trial\u001b[49m\u001b[43m,\u001b[49m\n\u001b[0;32m     74\u001b[0m \u001b[43m            \u001b[49m\u001b[43mreseed_sampler_rng\u001b[49m\u001b[38;5;241;43m=\u001b[39;49m\u001b[38;5;28;43;01mFalse\u001b[39;49;00m\u001b[43m,\u001b[49m\n\u001b[0;32m     75\u001b[0m \u001b[43m            \u001b[49m\u001b[43mtime_start\u001b[49m\u001b[38;5;241;43m=\u001b[39;49m\u001b[38;5;28;43;01mNone\u001b[39;49;00m\u001b[43m,\u001b[49m\n\u001b[0;32m     76\u001b[0m \u001b[43m            \u001b[49m\u001b[43mprogress_bar\u001b[49m\u001b[38;5;241;43m=\u001b[39;49m\u001b[43mprogress_bar\u001b[49m\u001b[43m,\u001b[49m\n\u001b[0;32m     77\u001b[0m \u001b[43m        \u001b[49m\u001b[43m)\u001b[49m\n\u001b[0;32m     78\u001b[0m     \u001b[38;5;28;01melse\u001b[39;00m:\n\u001b[0;32m     79\u001b[0m         \u001b[38;5;28;01mif\u001b[39;00m n_jobs \u001b[38;5;241m==\u001b[39m \u001b[38;5;241m-\u001b[39m\u001b[38;5;241m1\u001b[39m:\n",
      "File \u001b[1;32m~\\.conda\\envs\\RecSysFramework\\lib\\site-packages\\optuna\\study\\_optimize.py:163\u001b[0m, in \u001b[0;36m_optimize_sequential\u001b[1;34m(study, func, n_trials, timeout, catch, callbacks, gc_after_trial, reseed_sampler_rng, time_start, progress_bar)\u001b[0m\n\u001b[0;32m    160\u001b[0m         \u001b[38;5;28;01mbreak\u001b[39;00m\n\u001b[0;32m    162\u001b[0m \u001b[38;5;28;01mtry\u001b[39;00m:\n\u001b[1;32m--> 163\u001b[0m     frozen_trial \u001b[38;5;241m=\u001b[39m \u001b[43m_run_trial\u001b[49m\u001b[43m(\u001b[49m\u001b[43mstudy\u001b[49m\u001b[43m,\u001b[49m\u001b[43m \u001b[49m\u001b[43mfunc\u001b[49m\u001b[43m,\u001b[49m\u001b[43m \u001b[49m\u001b[43mcatch\u001b[49m\u001b[43m)\u001b[49m\n\u001b[0;32m    164\u001b[0m \u001b[38;5;28;01mfinally\u001b[39;00m:\n\u001b[0;32m    165\u001b[0m     \u001b[38;5;66;03m# The following line mitigates memory problems that can be occurred in some\u001b[39;00m\n\u001b[0;32m    166\u001b[0m     \u001b[38;5;66;03m# environments (e.g., services that use computing containers such as GitHub Actions).\u001b[39;00m\n\u001b[0;32m    167\u001b[0m     \u001b[38;5;66;03m# Please refer to the following PR for further details:\u001b[39;00m\n\u001b[0;32m    168\u001b[0m     \u001b[38;5;66;03m# https://github.com/optuna/optuna/pull/325.\u001b[39;00m\n\u001b[0;32m    169\u001b[0m     \u001b[38;5;28;01mif\u001b[39;00m gc_after_trial:\n",
      "File \u001b[1;32m~\\.conda\\envs\\RecSysFramework\\lib\\site-packages\\optuna\\study\\_optimize.py:251\u001b[0m, in \u001b[0;36m_run_trial\u001b[1;34m(study, func, catch)\u001b[0m\n\u001b[0;32m    244\u001b[0m         \u001b[38;5;28;01massert\u001b[39;00m \u001b[38;5;28;01mFalse\u001b[39;00m, \u001b[38;5;124m\"\u001b[39m\u001b[38;5;124mShould not reach.\u001b[39m\u001b[38;5;124m\"\u001b[39m\n\u001b[0;32m    246\u001b[0m \u001b[38;5;28;01mif\u001b[39;00m (\n\u001b[0;32m    247\u001b[0m     frozen_trial\u001b[38;5;241m.\u001b[39mstate \u001b[38;5;241m==\u001b[39m TrialState\u001b[38;5;241m.\u001b[39mFAIL\n\u001b[0;32m    248\u001b[0m     \u001b[38;5;129;01mand\u001b[39;00m func_err \u001b[38;5;129;01mis\u001b[39;00m \u001b[38;5;129;01mnot\u001b[39;00m \u001b[38;5;28;01mNone\u001b[39;00m\n\u001b[0;32m    249\u001b[0m     \u001b[38;5;129;01mand\u001b[39;00m \u001b[38;5;129;01mnot\u001b[39;00m \u001b[38;5;28misinstance\u001b[39m(func_err, catch)\n\u001b[0;32m    250\u001b[0m ):\n\u001b[1;32m--> 251\u001b[0m     \u001b[38;5;28;01mraise\u001b[39;00m func_err\n\u001b[0;32m    252\u001b[0m \u001b[38;5;28;01mreturn\u001b[39;00m frozen_trial\n",
      "File \u001b[1;32m~\\.conda\\envs\\RecSysFramework\\lib\\site-packages\\optuna\\study\\_optimize.py:200\u001b[0m, in \u001b[0;36m_run_trial\u001b[1;34m(study, func, catch)\u001b[0m\n\u001b[0;32m    198\u001b[0m \u001b[38;5;28;01mwith\u001b[39;00m get_heartbeat_thread(trial\u001b[38;5;241m.\u001b[39m_trial_id, study\u001b[38;5;241m.\u001b[39m_storage):\n\u001b[0;32m    199\u001b[0m     \u001b[38;5;28;01mtry\u001b[39;00m:\n\u001b[1;32m--> 200\u001b[0m         value_or_values \u001b[38;5;241m=\u001b[39m \u001b[43mfunc\u001b[49m\u001b[43m(\u001b[49m\u001b[43mtrial\u001b[49m\u001b[43m)\u001b[49m\n\u001b[0;32m    201\u001b[0m     \u001b[38;5;28;01mexcept\u001b[39;00m exceptions\u001b[38;5;241m.\u001b[39mTrialPruned \u001b[38;5;28;01mas\u001b[39;00m e:\n\u001b[0;32m    202\u001b[0m         \u001b[38;5;66;03m# TODO(mamu): Handle multi-objective cases.\u001b[39;00m\n\u001b[0;32m    203\u001b[0m         state \u001b[38;5;241m=\u001b[39m TrialState\u001b[38;5;241m.\u001b[39mPRUNED\n",
      "Cell \u001b[1;32mIn[164], line 8\u001b[0m, in \u001b[0;36mobjective\u001b[1;34m(trial)\u001b[0m\n\u001b[0;32m      5\u001b[0m alpha \u001b[38;5;241m=\u001b[39m trial\u001b[38;5;241m.\u001b[39msuggest_float(\u001b[38;5;124m\"\u001b[39m\u001b[38;5;124malpha\u001b[39m\u001b[38;5;124m\"\u001b[39m, \u001b[38;5;241m0.5\u001b[39m, \u001b[38;5;241m5\u001b[39m)\n\u001b[0;32m      7\u001b[0m recommender \u001b[38;5;241m=\u001b[39m IALSRecommender(URM_train)\n\u001b[1;32m----> 8\u001b[0m \u001b[43mrecommender\u001b[49m\u001b[38;5;241;43m.\u001b[39;49m\u001b[43mfit\u001b[49m\u001b[43m(\u001b[49m\u001b[38;5;241;43m*\u001b[39;49m\u001b[38;5;241;43m*\u001b[39;49m\u001b[43m{\u001b[49m\n\u001b[0;32m      9\u001b[0m \u001b[43m\u001b[49m\u001b[38;5;124;43m'\u001b[39;49m\u001b[38;5;124;43mepochs\u001b[39;49m\u001b[38;5;124;43m'\u001b[39;49m\u001b[43m:\u001b[49m\u001b[43m \u001b[49m\u001b[43miterations\u001b[49m\u001b[43m,\u001b[49m\n\u001b[0;32m     10\u001b[0m \u001b[43m\u001b[49m\u001b[38;5;124;43m'\u001b[39;49m\u001b[38;5;124;43mnum_factors\u001b[39;49m\u001b[38;5;124;43m'\u001b[39;49m\u001b[43m:\u001b[49m\u001b[43m \u001b[49m\u001b[43mfactors\u001b[49m\u001b[43m,\u001b[49m\n\u001b[0;32m     11\u001b[0m \u001b[43m\u001b[49m\u001b[38;5;124;43m'\u001b[39;49m\u001b[38;5;124;43malpha\u001b[39;49m\u001b[38;5;124;43m'\u001b[39;49m\u001b[43m:\u001b[49m\u001b[43m \u001b[49m\u001b[43malpha\u001b[49m\u001b[43m,\u001b[49m\n\u001b[0;32m     12\u001b[0m \u001b[43m\u001b[49m\u001b[38;5;124;43m'\u001b[39;49m\u001b[38;5;124;43mreg\u001b[39;49m\u001b[38;5;124;43m'\u001b[39;49m\u001b[43m:\u001b[49m\u001b[43m \u001b[49m\u001b[43mregularization\u001b[49m\u001b[43m,\u001b[49m\n\u001b[0;32m     13\u001b[0m \u001b[43m\u001b[49m\u001b[38;5;124;43m\"\u001b[39;49m\u001b[38;5;124;43mvalidation_every_n\u001b[39;49m\u001b[38;5;124;43m\"\u001b[39;49m\u001b[43m:\u001b[49m\u001b[43m \u001b[49m\u001b[38;5;241;43m5\u001b[39;49m\u001b[43m,\u001b[49m\n\u001b[0;32m     14\u001b[0m \u001b[43m\u001b[49m\u001b[38;5;124;43m\"\u001b[39;49m\u001b[38;5;124;43mstop_on_validation\u001b[39;49m\u001b[38;5;124;43m\"\u001b[39;49m\u001b[43m:\u001b[49m\u001b[43m \u001b[49m\u001b[38;5;28;43;01mTrue\u001b[39;49;00m\u001b[43m,\u001b[49m\n\u001b[0;32m     15\u001b[0m \u001b[43m\u001b[49m\u001b[38;5;124;43m\"\u001b[39;49m\u001b[38;5;124;43mevaluator_object\u001b[39;49m\u001b[38;5;124;43m\"\u001b[39;49m\u001b[43m:\u001b[49m\u001b[43m \u001b[49m\u001b[43mevaluator_test\u001b[49m\u001b[43m,\u001b[49m\n\u001b[0;32m     16\u001b[0m \u001b[43m\u001b[49m\u001b[38;5;124;43m\"\u001b[39;49m\u001b[38;5;124;43mlower_validations_allowed\u001b[39;49m\u001b[38;5;124;43m\"\u001b[39;49m\u001b[43m:\u001b[49m\u001b[43m \u001b[49m\u001b[38;5;241;43m5\u001b[39;49m\u001b[43m,\u001b[49m\n\u001b[0;32m     17\u001b[0m \u001b[43m\u001b[49m\u001b[38;5;124;43m\"\u001b[39;49m\u001b[38;5;124;43mvalidation_metric\u001b[39;49m\u001b[38;5;124;43m\"\u001b[39;49m\u001b[43m:\u001b[49m\u001b[43m \u001b[49m\u001b[38;5;124;43m\"\u001b[39;49m\u001b[38;5;124;43mMAP\u001b[39;49m\u001b[38;5;124;43m\"\u001b[39;49m\u001b[43m,\u001b[49m\n\u001b[0;32m     18\u001b[0m \u001b[43m\u001b[49m\u001b[43m}\u001b[49m\u001b[43m)\u001b[49m\n\u001b[0;32m     20\u001b[0m result, _ \u001b[38;5;241m=\u001b[39m evaluator_test\u001b[38;5;241m.\u001b[39mevaluateRecommender(recommender)\n\u001b[0;32m     21\u001b[0m MAP_result \u001b[38;5;241m=\u001b[39m result[\u001b[38;5;124m\"\u001b[39m\u001b[38;5;124mMAP\u001b[39m\u001b[38;5;124m\"\u001b[39m]\u001b[38;5;241m.\u001b[39mitem()\n",
      "File \u001b[1;32mD:\\Uni\\Magistrale\\Recommender Systems\\23-24 challenge\\Recommenders\\MatrixFactorization\\IALSRecommender.py:88\u001b[0m, in \u001b[0;36mIALSRecommender.fit\u001b[1;34m(self, epochs, num_factors, confidence_scaling, alpha, epsilon, reg, init_mean, init_std, **earlystopping_kwargs)\u001b[0m\n\u001b[0;32m     84\u001b[0m \u001b[38;5;28mself\u001b[39m\u001b[38;5;241m.\u001b[39mregularization_diagonal \u001b[38;5;241m=\u001b[39m np\u001b[38;5;241m.\u001b[39mdiag(\u001b[38;5;28mself\u001b[39m\u001b[38;5;241m.\u001b[39mreg \u001b[38;5;241m*\u001b[39m np\u001b[38;5;241m.\u001b[39mones(\u001b[38;5;28mself\u001b[39m\u001b[38;5;241m.\u001b[39mnum_factors))\n\u001b[0;32m     86\u001b[0m \u001b[38;5;28mself\u001b[39m\u001b[38;5;241m.\u001b[39m_update_best_model()\n\u001b[1;32m---> 88\u001b[0m \u001b[38;5;28;43mself\u001b[39;49m\u001b[38;5;241;43m.\u001b[39;49m\u001b[43m_train_with_early_stopping\u001b[49m\u001b[43m(\u001b[49m\u001b[43mepochs\u001b[49m\u001b[43m,\u001b[49m\n\u001b[0;32m     89\u001b[0m \u001b[43m                                \u001b[49m\u001b[43malgorithm_name\u001b[49m\u001b[43m \u001b[49m\u001b[38;5;241;43m=\u001b[39;49m\u001b[43m \u001b[49m\u001b[38;5;28;43mself\u001b[39;49m\u001b[38;5;241;43m.\u001b[39;49m\u001b[43mRECOMMENDER_NAME\u001b[49m\u001b[43m,\u001b[49m\n\u001b[0;32m     90\u001b[0m \u001b[43m                                \u001b[49m\u001b[38;5;241;43m*\u001b[39;49m\u001b[38;5;241;43m*\u001b[39;49m\u001b[43mearlystopping_kwargs\u001b[49m\u001b[43m)\u001b[49m\n\u001b[0;32m     93\u001b[0m \u001b[38;5;28mself\u001b[39m\u001b[38;5;241m.\u001b[39mUSER_factors \u001b[38;5;241m=\u001b[39m \u001b[38;5;28mself\u001b[39m\u001b[38;5;241m.\u001b[39mUSER_factors_best\n\u001b[0;32m     94\u001b[0m \u001b[38;5;28mself\u001b[39m\u001b[38;5;241m.\u001b[39mITEM_factors \u001b[38;5;241m=\u001b[39m \u001b[38;5;28mself\u001b[39m\u001b[38;5;241m.\u001b[39mITEM_factors_best\n",
      "File \u001b[1;32mD:\\Uni\\Magistrale\\Recommender Systems\\23-24 challenge\\Recommenders\\Incremental_Training_Early_Stopping.py:199\u001b[0m, in \u001b[0;36mIncremental_Training_Early_Stopping._train_with_early_stopping\u001b[1;34m(self, epochs_max, epochs_min, validation_every_n, stop_on_validation, validation_metric, lower_validations_allowed, evaluator_object, algorithm_name)\u001b[0m\n\u001b[0;32m    195\u001b[0m epochs_current \u001b[38;5;241m=\u001b[39m \u001b[38;5;241m0\u001b[39m\n\u001b[0;32m    197\u001b[0m \u001b[38;5;28;01mwhile\u001b[39;00m epochs_current \u001b[38;5;241m<\u001b[39m epochs_max \u001b[38;5;129;01mand\u001b[39;00m \u001b[38;5;129;01mnot\u001b[39;00m convergence:\n\u001b[1;32m--> 199\u001b[0m     \u001b[38;5;28;43mself\u001b[39;49m\u001b[38;5;241;43m.\u001b[39;49m\u001b[43m_run_epoch\u001b[49m\u001b[43m(\u001b[49m\u001b[43mepochs_current\u001b[49m\u001b[43m)\u001b[49m\n\u001b[0;32m    201\u001b[0m     \u001b[38;5;66;03m# If no validation required, always keep the latest\u001b[39;00m\n\u001b[0;32m    202\u001b[0m     \u001b[38;5;28;01mif\u001b[39;00m evaluator_object \u001b[38;5;129;01mis\u001b[39;00m \u001b[38;5;28;01mNone\u001b[39;00m:\n",
      "File \u001b[1;32mD:\\Uni\\Magistrale\\Recommender Systems\\23-24 challenge\\Recommenders\\MatrixFactorization\\IALSRecommender.py:166\u001b[0m, in \u001b[0;36mIALSRecommender._run_epoch\u001b[1;34m(self, num_epoch)\u001b[0m\n\u001b[0;32m    163\u001b[0m item_profile \u001b[38;5;241m=\u001b[39m \u001b[38;5;28mself\u001b[39m\u001b[38;5;241m.\u001b[39mC_csc\u001b[38;5;241m.\u001b[39mindices[start_pos:end_pos]\n\u001b[0;32m    164\u001b[0m item_confidence \u001b[38;5;241m=\u001b[39m \u001b[38;5;28mself\u001b[39m\u001b[38;5;241m.\u001b[39mC_csc\u001b[38;5;241m.\u001b[39mdata[start_pos:end_pos]\n\u001b[1;32m--> 166\u001b[0m \u001b[38;5;28mself\u001b[39m\u001b[38;5;241m.\u001b[39mITEM_factors[item_id, :] \u001b[38;5;241m=\u001b[39m \u001b[38;5;28;43mself\u001b[39;49m\u001b[38;5;241;43m.\u001b[39;49m\u001b[43m_update_row\u001b[49m\u001b[43m(\u001b[49m\u001b[43mitem_profile\u001b[49m\u001b[43m,\u001b[49m\u001b[43m \u001b[49m\u001b[43mitem_confidence\u001b[49m\u001b[43m,\u001b[49m\u001b[43m \u001b[49m\u001b[38;5;28;43mself\u001b[39;49m\u001b[38;5;241;43m.\u001b[39;49m\u001b[43mUSER_factors\u001b[49m\u001b[43m,\u001b[49m\u001b[43m \u001b[49m\u001b[43mUU\u001b[49m\u001b[43m)\u001b[49m\n",
      "File \u001b[1;32mD:\\Uni\\Magistrale\\Recommender Systems\\23-24 challenge\\Recommenders\\MatrixFactorization\\IALSRecommender.py:201\u001b[0m, in \u001b[0;36mIALSRecommender._update_row\u001b[1;34m(self, interaction_profile, interaction_confidence, Y, YtY)\u001b[0m\n\u001b[0;32m    197\u001b[0m A \u001b[38;5;241m=\u001b[39m Y_interactions\u001b[38;5;241m.\u001b[39mT\u001b[38;5;241m.\u001b[39mdot(((interaction_confidence \u001b[38;5;241m-\u001b[39m \u001b[38;5;241m1\u001b[39m) \u001b[38;5;241m*\u001b[39m Y_interactions\u001b[38;5;241m.\u001b[39mT)\u001b[38;5;241m.\u001b[39mT)\n\u001b[0;32m    199\u001b[0m B \u001b[38;5;241m=\u001b[39m YtY \u001b[38;5;241m+\u001b[39m A \u001b[38;5;241m+\u001b[39m \u001b[38;5;28mself\u001b[39m\u001b[38;5;241m.\u001b[39mregularization_diagonal\n\u001b[1;32m--> 201\u001b[0m \u001b[38;5;28;01mreturn\u001b[39;00m np\u001b[38;5;241m.\u001b[39mdot(\u001b[43mnp\u001b[49m\u001b[38;5;241;43m.\u001b[39;49m\u001b[43mlinalg\u001b[49m\u001b[38;5;241;43m.\u001b[39;49m\u001b[43minv\u001b[49m\u001b[43m(\u001b[49m\u001b[43mB\u001b[49m\u001b[43m)\u001b[49m, Y_interactions\u001b[38;5;241m.\u001b[39mT\u001b[38;5;241m.\u001b[39mdot(interaction_confidence))\n",
      "File \u001b[1;32m<__array_function__ internals>:200\u001b[0m, in \u001b[0;36minv\u001b[1;34m(*args, **kwargs)\u001b[0m\n",
      "File \u001b[1;32m~\\.conda\\envs\\RecSysFramework\\lib\\site-packages\\numpy\\linalg\\linalg.py:538\u001b[0m, in \u001b[0;36minv\u001b[1;34m(a)\u001b[0m\n\u001b[0;32m    536\u001b[0m signature \u001b[38;5;241m=\u001b[39m \u001b[38;5;124m'\u001b[39m\u001b[38;5;124mD->D\u001b[39m\u001b[38;5;124m'\u001b[39m \u001b[38;5;28;01mif\u001b[39;00m isComplexType(t) \u001b[38;5;28;01melse\u001b[39;00m \u001b[38;5;124m'\u001b[39m\u001b[38;5;124md->d\u001b[39m\u001b[38;5;124m'\u001b[39m\n\u001b[0;32m    537\u001b[0m extobj \u001b[38;5;241m=\u001b[39m get_linalg_error_extobj(_raise_linalgerror_singular)\n\u001b[1;32m--> 538\u001b[0m ainv \u001b[38;5;241m=\u001b[39m \u001b[43m_umath_linalg\u001b[49m\u001b[38;5;241;43m.\u001b[39;49m\u001b[43minv\u001b[49m\u001b[43m(\u001b[49m\u001b[43ma\u001b[49m\u001b[43m,\u001b[49m\u001b[43m \u001b[49m\u001b[43msignature\u001b[49m\u001b[38;5;241;43m=\u001b[39;49m\u001b[43msignature\u001b[49m\u001b[43m,\u001b[49m\u001b[43m \u001b[49m\u001b[43mextobj\u001b[49m\u001b[38;5;241;43m=\u001b[39;49m\u001b[43mextobj\u001b[49m\u001b[43m)\u001b[49m\n\u001b[0;32m    539\u001b[0m \u001b[38;5;28;01mreturn\u001b[39;00m wrap(ainv\u001b[38;5;241m.\u001b[39mastype(result_t, copy\u001b[38;5;241m=\u001b[39m\u001b[38;5;28;01mFalse\u001b[39;00m))\n",
      "\u001b[1;31mKeyboardInterrupt\u001b[0m: "
     ]
    }
   ],
   "source": [
    "best_params = {\n",
    "    'epochs': 100,\n",
    "    'num_factors': 30,\n",
    "    'reg': 0.05,\n",
    "    'alpha': 3,\n",
    "}\n",
    "\n",
    "study = op.create_study(direction=\"maximize\")\n",
    "study.enqueue_trial(best_params)\n",
    "study.optimize(objective, n_trials=100)"
   ]
  },
  {
   "cell_type": "code",
   "execution_count": null,
   "metadata": {},
   "outputs": [],
   "source": [
    "study.best_params"
   ]
  },
  {
   "cell_type": "code",
   "execution_count": 119,
   "metadata": {},
   "outputs": [
    {
     "name": "stdout",
     "output_type": "stream",
     "text": [
      "EvaluatorHoldout: Processed 9934 (100.0%) in 5.63 sec. Users per second: 1766\n"
     ]
    },
    {
     "data": {
      "text/plain": [
       "PRECISION                     0.049537\n",
       "PRECISION_RECALL_MIN_DEN      0.102736\n",
       "RECALL                         0.09343\n",
       "MAP                           0.022398\n",
       "MAP_MIN_DEN                   0.045853\n",
       "MRR                           0.159471\n",
       "NDCG                          0.086388\n",
       "F1                            0.064746\n",
       "HIT_RATE                      0.353735\n",
       "ARHR_ALL_HITS                 0.188127\n",
       "NOVELTY                       0.004367\n",
       "AVERAGE_POPULARITY            0.381945\n",
       "DIVERSITY_MEAN_INTER_LIST     0.904839\n",
       "DIVERSITY_HERFINDAHL          0.990475\n",
       "COVERAGE_ITEM                 0.018704\n",
       "COVERAGE_ITEM_HIT             0.012082\n",
       "ITEMS_IN_GT                   0.721989\n",
       "COVERAGE_USER                 0.762687\n",
       "COVERAGE_USER_HIT             0.269789\n",
       "USERS_IN_GT                   0.762687\n",
       "DIVERSITY_GINI                0.005182\n",
       "SHANNON_ENTROPY               7.264919\n",
       "RATIO_DIVERSITY_HERFINDAHL    0.990833\n",
       "RATIO_DIVERSITY_GINI          0.014912\n",
       "RATIO_SHANNON_ENTROPY         0.559535\n",
       "RATIO_AVERAGE_POPULARITY      3.218419\n",
       "RATIO_NOVELTY                 0.240593\n",
       "Name: 10, dtype: object"
      ]
     },
     "execution_count": 119,
     "metadata": {},
     "output_type": "execute_result"
    }
   ],
   "source": [
    "result, _ = evaluator_test.evaluateRecommender(recommender)\n",
    "result.loc[10]"
   ]
  },
  {
   "cell_type": "markdown",
   "metadata": {},
   "source": [
    "## Evaluation Function"
   ]
  },
  {
   "cell_type": "code",
   "execution_count": null,
   "metadata": {
    "execution": {
     "iopub.execute_input": "2023-11-12T22:59:14.538785Z",
     "iopub.status.busy": "2023-11-12T22:59:14.537928Z",
     "iopub.status.idle": "2023-11-12T22:59:14.545005Z",
     "shell.execute_reply": "2023-11-12T22:59:14.544265Z",
     "shell.execute_reply.started": "2023-11-12T22:59:14.538735Z"
    }
   },
   "outputs": [],
   "source": [
    "# Define the evaluation algorithm\n",
    "# The recommender class is passed as parameter\n",
    "\n",
    "def evaluate_algorithm(URM_test, recommender_object, at=10):\n",
    "    \n",
    "    cumulative_precision = 0.0\n",
    "    cumulative_recall = 0.0\n",
    "    cumulative_AP = 0.0\n",
    "    \n",
    "    num_eval = 0\n",
    "\n",
    "\n",
    "    for user_id in range(URM_test.shape[0]):\n",
    "\n",
    "        relevant_items = URM_test.indices[URM_test.indptr[user_id]:URM_test.indptr[user_id+1]]\n",
    "        \n",
    "        if len(relevant_items)>0:\n",
    "            \n",
    "            recommended_items = recommender_object.recommend(user_id, cutoff=at)\n",
    "            num_eval+=1\n",
    "\n",
    "            cumulative_precision += precision(recommended_items, relevant_items)\n",
    "            cumulative_recall += recall(recommended_items, relevant_items)\n",
    "            cumulative_AP += AP(recommended_items, relevant_items)\n",
    "            \n",
    "    cumulative_precision /= num_eval\n",
    "    cumulative_recall /= num_eval\n",
    "    MAP = cumulative_AP / num_eval\n",
    "    \n",
    "    print(\"Recommender results are: Precision = {:.4f}, Recall = {:.4f}, MAP = {:.4f}\".format(\n",
    "        cumulative_precision, cumulative_recall, MAP)) "
   ]
  },
  {
   "cell_type": "code",
   "execution_count": null,
   "metadata": {
    "execution": {
     "iopub.execute_input": "2023-11-12T22:59:40.838318Z",
     "iopub.status.busy": "2023-11-12T22:59:40.837556Z",
     "iopub.status.idle": "2023-11-12T22:59:47.442482Z",
     "shell.execute_reply": "2023-11-12T22:59:47.441666Z",
     "shell.execute_reply.started": "2023-11-12T22:59:40.838290Z"
    }
   },
   "outputs": [],
   "source": [
    "# Run the evaluation\n",
    "evaluate_algorithm(URM_test, recommender)"
   ]
  },
  {
   "cell_type": "markdown",
   "metadata": {},
   "source": [
    "# Recommend items"
   ]
  },
  {
   "cell_type": "code",
   "execution_count": 36,
   "metadata": {
    "execution": {
     "iopub.execute_input": "2023-11-04T21:06:55.003332Z",
     "iopub.status.busy": "2023-11-04T21:06:55.002931Z",
     "iopub.status.idle": "2023-11-04T21:06:55.011864Z",
     "shell.execute_reply": "2023-11-04T21:06:55.010563Z",
     "shell.execute_reply.started": "2023-11-04T21:06:55.003286Z"
    }
   },
   "outputs": [
    {
     "data": {
      "text/plain": [
       "_io.TextIOWrapper"
      ]
     },
     "execution_count": 36,
     "metadata": {},
     "output_type": "execute_result"
    }
   ],
   "source": [
    "# Open the submission sample file\n",
    "submission_sample = open('Input/data_target_users_test.csv', 'r')\n",
    "type(submission_sample)"
   ]
  },
  {
   "cell_type": "code",
   "execution_count": 37,
   "metadata": {
    "execution": {
     "iopub.execute_input": "2023-11-04T21:07:03.629097Z",
     "iopub.status.busy": "2023-11-04T21:07:03.628687Z",
     "iopub.status.idle": "2023-11-04T21:07:03.654289Z",
     "shell.execute_reply": "2023-11-04T21:07:03.653175Z",
     "shell.execute_reply.started": "2023-11-04T21:07:03.629063Z"
    }
   },
   "outputs": [
    {
     "data": {
      "text/html": [
       "<div>\n",
       "<style scoped>\n",
       "    .dataframe tbody tr th:only-of-type {\n",
       "        vertical-align: middle;\n",
       "    }\n",
       "\n",
       "    .dataframe tbody tr th {\n",
       "        vertical-align: top;\n",
       "    }\n",
       "\n",
       "    .dataframe thead th {\n",
       "        text-align: right;\n",
       "    }\n",
       "</style>\n",
       "<table border=\"1\" class=\"dataframe\">\n",
       "  <thead>\n",
       "    <tr style=\"text-align: right;\">\n",
       "      <th></th>\n",
       "      <th>user_id</th>\n",
       "    </tr>\n",
       "  </thead>\n",
       "  <tbody>\n",
       "    <tr>\n",
       "      <th>0</th>\n",
       "      <td>1</td>\n",
       "    </tr>\n",
       "    <tr>\n",
       "      <th>1</th>\n",
       "      <td>2</td>\n",
       "    </tr>\n",
       "    <tr>\n",
       "      <th>2</th>\n",
       "      <td>3</td>\n",
       "    </tr>\n",
       "    <tr>\n",
       "      <th>3</th>\n",
       "      <td>4</td>\n",
       "    </tr>\n",
       "    <tr>\n",
       "      <th>4</th>\n",
       "      <td>5</td>\n",
       "    </tr>\n",
       "    <tr>\n",
       "      <th>...</th>\n",
       "      <td>...</td>\n",
       "    </tr>\n",
       "    <tr>\n",
       "      <th>10877</th>\n",
       "      <td>13020</td>\n",
       "    </tr>\n",
       "    <tr>\n",
       "      <th>10878</th>\n",
       "      <td>13021</td>\n",
       "    </tr>\n",
       "    <tr>\n",
       "      <th>10879</th>\n",
       "      <td>13022</td>\n",
       "    </tr>\n",
       "    <tr>\n",
       "      <th>10880</th>\n",
       "      <td>13023</td>\n",
       "    </tr>\n",
       "    <tr>\n",
       "      <th>10881</th>\n",
       "      <td>13024</td>\n",
       "    </tr>\n",
       "  </tbody>\n",
       "</table>\n",
       "<p>10882 rows × 1 columns</p>\n",
       "</div>"
      ],
      "text/plain": [
       "       user_id\n",
       "0            1\n",
       "1            2\n",
       "2            3\n",
       "3            4\n",
       "4            5\n",
       "...        ...\n",
       "10877    13020\n",
       "10878    13021\n",
       "10879    13022\n",
       "10880    13023\n",
       "10881    13024\n",
       "\n",
       "[10882 rows x 1 columns]"
      ]
     },
     "execution_count": 37,
     "metadata": {},
     "output_type": "execute_result"
    }
   ],
   "source": [
    "# Read the dataframe\n",
    "submission_df = pd.read_csv(filepath_or_buffer=submission_sample)\n",
    "submission_df"
   ]
  },
  {
   "cell_type": "code",
   "execution_count": 38,
   "metadata": {
    "execution": {
     "iopub.execute_input": "2023-11-04T21:07:11.158728Z",
     "iopub.status.busy": "2023-11-04T21:07:11.158297Z",
     "iopub.status.idle": "2023-11-04T21:07:11.166227Z",
     "shell.execute_reply": "2023-11-04T21:07:11.165409Z",
     "shell.execute_reply.started": "2023-11-04T21:07:11.158693Z"
    }
   },
   "outputs": [
    {
     "data": {
      "text/plain": [
       "array([    1,     2,     3, ..., 13022, 13023, 13024], dtype=int64)"
      ]
     },
     "execution_count": 38,
     "metadata": {},
     "output_type": "execute_result"
    }
   ],
   "source": [
    "# Convert the user_id column to numpy list\n",
    "user_list = submission_df['user_id'].to_numpy()\n",
    "user_list"
   ]
  },
  {
   "cell_type": "code",
   "execution_count": 39,
   "metadata": {
    "execution": {
     "iopub.execute_input": "2023-11-04T21:07:14.181159Z",
     "iopub.status.busy": "2023-11-04T21:07:14.180417Z",
     "iopub.status.idle": "2023-11-04T21:07:22.297901Z",
     "shell.execute_reply": "2023-11-04T21:07:22.296845Z",
     "shell.execute_reply.started": "2023-11-04T21:07:14.181126Z"
    }
   },
   "outputs": [
    {
     "name": "stderr",
     "output_type": "stream",
     "text": [
      "10882it [00:08, 1247.37it/s]\n"
     ]
    }
   ],
   "source": [
    "# Extract the recommended items and write them in the dataframe\n",
    "\n",
    "all_recommend = []\n",
    "\n",
    "for i,id in tqdm(enumerate(user_list)):\n",
    "    rec = recommender.recommend(id, cutoff=10)\n",
    "    rec_list = rec\n",
    "    rec_row = ' '.join(str(s) for s in rec_list)\n",
    "    all_recommend.append(rec_row)"
   ]
  },
  {
   "cell_type": "code",
   "execution_count": 40,
   "metadata": {
    "execution": {
     "iopub.execute_input": "2023-11-04T21:07:30.817388Z",
     "iopub.status.busy": "2023-11-04T21:07:30.816981Z",
     "iopub.status.idle": "2023-11-04T21:07:30.824731Z",
     "shell.execute_reply": "2023-11-04T21:07:30.82381Z",
     "shell.execute_reply.started": "2023-11-04T21:07:30.817347Z"
    }
   },
   "outputs": [
    {
     "data": {
      "text/plain": [
       "['101 36 506 123 515 403 694 1546 1422 52',\n",
       " '1095 47 12 50 1522 949 11 102 3176 196',\n",
       " '59 2172 4252 857 648 259 956 536 4623 1281',\n",
       " '249 28 50 314 136 171 254 146 128 139',\n",
       " '1570 77 170 5138 1511 95 471 131 135 116',\n",
       " '886 35 395 88 9 874 168 104 14 184',\n",
       " '210 443 451 600 722 95 3916 480 1094 80',\n",
       " '9018 2821 17799 2282 10108 115 21322 20151 4535 8133',\n",
       " '1816 1446 561 2617 1668 2565 2423 3905 3721 1767',\n",
       " '31 40 58 955 67 185 34 52 44 32']"
      ]
     },
     "execution_count": 40,
     "metadata": {},
     "output_type": "execute_result"
    }
   ],
   "source": [
    "all_recommend[:10]"
   ]
  },
  {
   "cell_type": "code",
   "execution_count": 41,
   "metadata": {
    "execution": {
     "iopub.execute_input": "2023-11-04T21:07:34.06307Z",
     "iopub.status.busy": "2023-11-04T21:07:34.062658Z",
     "iopub.status.idle": "2023-11-04T21:07:34.069637Z",
     "shell.execute_reply": "2023-11-04T21:07:34.068564Z",
     "shell.execute_reply.started": "2023-11-04T21:07:34.063035Z"
    }
   },
   "outputs": [],
   "source": [
    "submission_df['item_list'] = all_recommend"
   ]
  },
  {
   "cell_type": "code",
   "execution_count": 42,
   "metadata": {
    "execution": {
     "iopub.execute_input": "2023-11-04T21:07:47.819936Z",
     "iopub.status.busy": "2023-11-04T21:07:47.819536Z",
     "iopub.status.idle": "2023-11-04T21:07:47.830373Z",
     "shell.execute_reply": "2023-11-04T21:07:47.829521Z",
     "shell.execute_reply.started": "2023-11-04T21:07:47.819905Z"
    }
   },
   "outputs": [
    {
     "data": {
      "text/html": [
       "<div>\n",
       "<style scoped>\n",
       "    .dataframe tbody tr th:only-of-type {\n",
       "        vertical-align: middle;\n",
       "    }\n",
       "\n",
       "    .dataframe tbody tr th {\n",
       "        vertical-align: top;\n",
       "    }\n",
       "\n",
       "    .dataframe thead th {\n",
       "        text-align: right;\n",
       "    }\n",
       "</style>\n",
       "<table border=\"1\" class=\"dataframe\">\n",
       "  <thead>\n",
       "    <tr style=\"text-align: right;\">\n",
       "      <th></th>\n",
       "      <th>user_id</th>\n",
       "      <th>item_list</th>\n",
       "    </tr>\n",
       "  </thead>\n",
       "  <tbody>\n",
       "    <tr>\n",
       "      <th>0</th>\n",
       "      <td>1</td>\n",
       "      <td>101 36 506 123 515 403 694 1546 1422 52</td>\n",
       "    </tr>\n",
       "    <tr>\n",
       "      <th>1</th>\n",
       "      <td>2</td>\n",
       "      <td>1095 47 12 50 1522 949 11 102 3176 196</td>\n",
       "    </tr>\n",
       "    <tr>\n",
       "      <th>2</th>\n",
       "      <td>3</td>\n",
       "      <td>59 2172 4252 857 648 259 956 536 4623 1281</td>\n",
       "    </tr>\n",
       "    <tr>\n",
       "      <th>3</th>\n",
       "      <td>4</td>\n",
       "      <td>249 28 50 314 136 171 254 146 128 139</td>\n",
       "    </tr>\n",
       "    <tr>\n",
       "      <th>4</th>\n",
       "      <td>5</td>\n",
       "      <td>1570 77 170 5138 1511 95 471 131 135 116</td>\n",
       "    </tr>\n",
       "    <tr>\n",
       "      <th>5</th>\n",
       "      <td>6</td>\n",
       "      <td>886 35 395 88 9 874 168 104 14 184</td>\n",
       "    </tr>\n",
       "    <tr>\n",
       "      <th>6</th>\n",
       "      <td>8</td>\n",
       "      <td>210 443 451 600 722 95 3916 480 1094 80</td>\n",
       "    </tr>\n",
       "    <tr>\n",
       "      <th>7</th>\n",
       "      <td>9</td>\n",
       "      <td>9018 2821 17799 2282 10108 115 21322 20151 453...</td>\n",
       "    </tr>\n",
       "    <tr>\n",
       "      <th>8</th>\n",
       "      <td>10</td>\n",
       "      <td>1816 1446 561 2617 1668 2565 2423 3905 3721 1767</td>\n",
       "    </tr>\n",
       "    <tr>\n",
       "      <th>9</th>\n",
       "      <td>11</td>\n",
       "      <td>31 40 58 955 67 185 34 52 44 32</td>\n",
       "    </tr>\n",
       "  </tbody>\n",
       "</table>\n",
       "</div>"
      ],
      "text/plain": [
       "   user_id                                          item_list\n",
       "0        1            101 36 506 123 515 403 694 1546 1422 52\n",
       "1        2             1095 47 12 50 1522 949 11 102 3176 196\n",
       "2        3         59 2172 4252 857 648 259 956 536 4623 1281\n",
       "3        4              249 28 50 314 136 171 254 146 128 139\n",
       "4        5           1570 77 170 5138 1511 95 471 131 135 116\n",
       "5        6                 886 35 395 88 9 874 168 104 14 184\n",
       "6        8            210 443 451 600 722 95 3916 480 1094 80\n",
       "7        9  9018 2821 17799 2282 10108 115 21322 20151 453...\n",
       "8       10   1816 1446 561 2617 1668 2565 2423 3905 3721 1767\n",
       "9       11                    31 40 58 955 67 185 34 52 44 32"
      ]
     },
     "execution_count": 42,
     "metadata": {},
     "output_type": "execute_result"
    }
   ],
   "source": [
    "submission_df.head(10)"
   ]
  },
  {
   "cell_type": "code",
   "execution_count": 43,
   "metadata": {
    "execution": {
     "iopub.execute_input": "2023-11-04T21:07:53.820333Z",
     "iopub.status.busy": "2023-11-04T21:07:53.819501Z",
     "iopub.status.idle": "2023-11-04T21:07:53.865369Z",
     "shell.execute_reply": "2023-11-04T21:07:53.864316Z",
     "shell.execute_reply.started": "2023-11-04T21:07:53.820277Z"
    }
   },
   "outputs": [],
   "source": [
    "# Export the dataframe on csv file\n",
    "submission_df.to_csv('Output/ScoresHybrid3new.csv', index=False)"
   ]
  },
  {
   "cell_type": "code",
   "execution_count": null,
   "metadata": {},
   "outputs": [],
   "source": []
  },
  {
   "cell_type": "markdown",
   "metadata": {},
   "source": [
    "The user-item interaction value is not set in stone, you can weight that number according to some heuristics, for example you can weight less interactions of very popular items or users with huge profiles, this will impact how the item-item or user-user similarities are computed. For example: interaction value * log(popularity) or sqrt(popularity) or other ways, it is a heuristic so its success depends on the data and you may need to try a few.\n",
    "\n",
    "Optimization of hyperparameters is very important in any prediction/classification/recommendation task. Sometimes spending a few extra hours optimizing is more efficient than spending a few days in searching for new ideas or models. Combine the two for the best outcome!"
   ]
  },
  {
   "cell_type": "code",
   "execution_count": null,
   "metadata": {},
   "outputs": [],
   "source": []
  }
 ],
 "metadata": {
  "kaggle": {
   "accelerator": "none",
   "dataSources": [
    {
     "databundleVersionId": 6919098,
     "sourceId": 62803,
     "sourceType": "competition"
    }
   ],
   "dockerImageVersionId": 30558,
   "isGpuEnabled": false,
   "isInternetEnabled": true,
   "language": "python",
   "sourceType": "notebook"
  },
  "kernelspec": {
   "display_name": "Python 3 (ipykernel)",
   "language": "python",
   "name": "python3"
  },
  "language_info": {
   "codemirror_mode": {
    "name": "ipython",
    "version": 3
   },
   "file_extension": ".py",
   "mimetype": "text/x-python",
   "name": "python",
   "nbconvert_exporter": "python",
   "pygments_lexer": "ipython3",
   "version": "3.8.18"
  }
 },
 "nbformat": 4,
 "nbformat_minor": 4
}
