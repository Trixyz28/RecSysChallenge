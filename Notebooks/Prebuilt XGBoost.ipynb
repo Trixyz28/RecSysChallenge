{
 "cells": [
  {
   "cell_type": "markdown",
   "metadata": {},
   "source": [
    "# Recommender Systems Challenge, 2023/2024 @ PoliMi"
   ]
  },
  {
   "cell_type": "markdown",
   "metadata": {},
   "source": [
    "# Introduction\n",
    "\n",
    "## Problem Description\n",
    "The application domain is book recommendation. The datasets contain interactions of users with books, in particular, if the user attributed to the book a rating of at least 4. The main goal of the competition is to discover which items (books) a user will interact with.\n",
    "\n",
    "The datasets includes around 600k interactions, 13k users, 22k items (books).\n",
    "The training-test split is done via random holdout, 80% training, 20% test.\n",
    "The goal is to recommend a list of 10 potentially relevant items for each user.\n",
    "\n",
    "\n",
    "## Datasets\n",
    "All files are comma-separated (columns are separated with ',' ).\n",
    "\n",
    "- **data_train.csv**:\n",
    "Contains the training set, describing implicit preferences expressed by the users.\n",
    "    - **user_id** : identifier of the user\n",
    "    - **item_id** : identifier of the item (Book)\n",
    "    - **data** : \"1.0\" if the user liked the book attributing it a rating of at least 4.\n",
    "\n",
    "\n",
    "- **data_target_users_test.csv**:\n",
    "Contains the ids of the users that should appear in your submission file.\n",
    "The submission file should contain all and only these users.\n",
    "\n",
    "- **sample_submission.csv**:\n",
    "A sample submission file in the correct format: [user_id],[ordered list of recommended items].\n",
    "Be careful with the spaces and be sure to recommend the correct number of items to every user."
   ]
  },
  {
   "cell_type": "markdown",
   "metadata": {},
   "source": [
    "# Requirements\n",
    "\n",
    "The working environment and the required libraries are defined here."
   ]
  },
  {
   "cell_type": "code",
   "execution_count": 1,
   "metadata": {
    "_cell_guid": "b1076dfc-b9ad-4769-8c92-a6c4dae69d19",
    "_uuid": "8f2839f25d086af736a60e9eeb907d3b93b6e0e5",
    "execution": {
     "iopub.execute_input": "2023-11-12T22:55:27.107416Z",
     "iopub.status.busy": "2023-11-12T22:55:27.107103Z",
     "iopub.status.idle": "2023-11-12T22:55:27.415864Z",
     "shell.execute_reply": "2023-11-12T22:55:27.415002Z",
     "shell.execute_reply.started": "2023-11-12T22:55:27.107392Z"
    }
   },
   "outputs": [],
   "source": [
    "# Import libraries\n",
    "\n",
    "import numpy as np # linear algebra\n",
    "import pandas as pd # data processing, CSV file I/O (e.g. pd.read_csv)\n",
    "import scipy.sparse as sps # creation of sparse matrix\n",
    "import matplotlib.pyplot as pyplot # plot\n",
    "\n",
    "from tqdm import tqdm\n",
    "\n",
    "from scipy.stats import uniform, loguniform\n",
    "import optuna as op\n",
    "import xgboost as xgb\n",
    "from xgboost import XGBRanker"
   ]
  },
  {
   "cell_type": "code",
   "execution_count": 2,
   "metadata": {},
   "outputs": [],
   "source": [
    "%load_ext Cython"
   ]
  },
  {
   "cell_type": "markdown",
   "metadata": {},
   "source": [
    "# Data Preprocessing"
   ]
  },
  {
   "cell_type": "code",
   "execution_count": 3,
   "metadata": {
    "execution": {
     "iopub.execute_input": "2023-11-12T22:55:29.530470Z",
     "iopub.status.busy": "2023-11-12T22:55:29.530065Z",
     "iopub.status.idle": "2023-11-12T22:55:29.536636Z",
     "shell.execute_reply": "2023-11-12T22:55:29.535790Z",
     "shell.execute_reply.started": "2023-11-12T22:55:29.530448Z"
    }
   },
   "outputs": [
    {
     "data": {
      "text/plain": [
       "_io.TextIOWrapper"
      ]
     },
     "execution_count": 3,
     "metadata": {},
     "output_type": "execute_result"
    }
   ],
   "source": [
    "# Handle the input file\n",
    "input_file = open('Input/data_train.csv', 'r')\n",
    "type(input_file)"
   ]
  },
  {
   "cell_type": "code",
   "execution_count": 4,
   "metadata": {
    "execution": {
     "iopub.execute_input": "2023-11-12T22:55:31.169146Z",
     "iopub.status.busy": "2023-11-12T22:55:31.168482Z",
     "iopub.status.idle": "2023-11-12T22:55:31.385566Z",
     "shell.execute_reply": "2023-11-12T22:55:31.384663Z",
     "shell.execute_reply.started": "2023-11-12T22:55:31.169120Z"
    }
   },
   "outputs": [
    {
     "data": {
      "text/plain": [
       "(478730, 3)"
      ]
     },
     "execution_count": 4,
     "metadata": {},
     "output_type": "execute_result"
    }
   ],
   "source": [
    "# Build the dataframe from the input file\n",
    "input_df = pd.read_csv(\n",
    "    filepath_or_buffer=input_file,\n",
    "    dtype={0:int, 1:int, 2:int},\n",
    "    names=['user_id','item_id','data'],\n",
    "    header=0\n",
    ")\n",
    "\n",
    "input_df.shape"
   ]
  },
  {
   "cell_type": "code",
   "execution_count": 5,
   "metadata": {},
   "outputs": [
    {
     "data": {
      "text/plain": [
       "(478730, 3)"
      ]
     },
     "execution_count": 5,
     "metadata": {},
     "output_type": "execute_result"
    }
   ],
   "source": [
    "input_df.drop_duplicates()\n",
    "input_df.shape"
   ]
  },
  {
   "cell_type": "code",
   "execution_count": 6,
   "metadata": {
    "execution": {
     "iopub.execute_input": "2023-11-12T22:55:34.346527Z",
     "iopub.status.busy": "2023-11-12T22:55:34.346196Z",
     "iopub.status.idle": "2023-11-12T22:55:34.361128Z",
     "shell.execute_reply": "2023-11-12T22:55:34.360275Z",
     "shell.execute_reply.started": "2023-11-12T22:55:34.346502Z"
    }
   },
   "outputs": [
    {
     "data": {
      "text/html": [
       "<div>\n",
       "<style scoped>\n",
       "    .dataframe tbody tr th:only-of-type {\n",
       "        vertical-align: middle;\n",
       "    }\n",
       "\n",
       "    .dataframe tbody tr th {\n",
       "        vertical-align: top;\n",
       "    }\n",
       "\n",
       "    .dataframe thead th {\n",
       "        text-align: right;\n",
       "    }\n",
       "</style>\n",
       "<table border=\"1\" class=\"dataframe\">\n",
       "  <thead>\n",
       "    <tr style=\"text-align: right;\">\n",
       "      <th></th>\n",
       "      <th>user_id</th>\n",
       "      <th>item_id</th>\n",
       "      <th>data</th>\n",
       "    </tr>\n",
       "  </thead>\n",
       "  <tbody>\n",
       "    <tr>\n",
       "      <th>0</th>\n",
       "      <td>1</td>\n",
       "      <td>7</td>\n",
       "      <td>1</td>\n",
       "    </tr>\n",
       "    <tr>\n",
       "      <th>1</th>\n",
       "      <td>1</td>\n",
       "      <td>15</td>\n",
       "      <td>1</td>\n",
       "    </tr>\n",
       "    <tr>\n",
       "      <th>2</th>\n",
       "      <td>1</td>\n",
       "      <td>16</td>\n",
       "      <td>1</td>\n",
       "    </tr>\n",
       "    <tr>\n",
       "      <th>3</th>\n",
       "      <td>1</td>\n",
       "      <td>133</td>\n",
       "      <td>1</td>\n",
       "    </tr>\n",
       "    <tr>\n",
       "      <th>4</th>\n",
       "      <td>1</td>\n",
       "      <td>161</td>\n",
       "      <td>1</td>\n",
       "    </tr>\n",
       "    <tr>\n",
       "      <th>5</th>\n",
       "      <td>1</td>\n",
       "      <td>187</td>\n",
       "      <td>1</td>\n",
       "    </tr>\n",
       "    <tr>\n",
       "      <th>6</th>\n",
       "      <td>1</td>\n",
       "      <td>205</td>\n",
       "      <td>1</td>\n",
       "    </tr>\n",
       "    <tr>\n",
       "      <th>7</th>\n",
       "      <td>1</td>\n",
       "      <td>222</td>\n",
       "      <td>1</td>\n",
       "    </tr>\n",
       "    <tr>\n",
       "      <th>8</th>\n",
       "      <td>1</td>\n",
       "      <td>237</td>\n",
       "      <td>1</td>\n",
       "    </tr>\n",
       "    <tr>\n",
       "      <th>9</th>\n",
       "      <td>1</td>\n",
       "      <td>354</td>\n",
       "      <td>1</td>\n",
       "    </tr>\n",
       "  </tbody>\n",
       "</table>\n",
       "</div>"
      ],
      "text/plain": [
       "   user_id  item_id  data\n",
       "0        1        7     1\n",
       "1        1       15     1\n",
       "2        1       16     1\n",
       "3        1      133     1\n",
       "4        1      161     1\n",
       "5        1      187     1\n",
       "6        1      205     1\n",
       "7        1      222     1\n",
       "8        1      237     1\n",
       "9        1      354     1"
      ]
     },
     "execution_count": 6,
     "metadata": {},
     "output_type": "execute_result"
    }
   ],
   "source": [
    "# Show the first rows of the dataframe\n",
    "input_df.head(n=10)"
   ]
  },
  {
   "cell_type": "code",
   "execution_count": 7,
   "metadata": {
    "execution": {
     "iopub.execute_input": "2023-11-12T22:55:37.530832Z",
     "iopub.status.busy": "2023-11-12T22:55:37.530481Z",
     "iopub.status.idle": "2023-11-12T22:55:37.550310Z",
     "shell.execute_reply": "2023-11-12T22:55:37.549787Z",
     "shell.execute_reply.started": "2023-11-12T22:55:37.530806Z"
    }
   },
   "outputs": [
    {
     "name": "stdout",
     "output_type": "stream",
     "text": [
      "[    1     2     3 ... 13022 13023 13024]\n",
      "[    7    15    16 ... 22317 22339 21466]\n"
     ]
    }
   ],
   "source": [
    "# Create arrays of unique user_ids and item_ids\n",
    "arr_users = input_df[\"user_id\"].unique()\n",
    "arr_items = input_df[\"item_id\"].unique()\n",
    "\n",
    "print(arr_users)\n",
    "print(arr_items)"
   ]
  },
  {
   "cell_type": "code",
   "execution_count": 8,
   "metadata": {
    "execution": {
     "iopub.execute_input": "2023-11-12T22:56:02.215375Z",
     "iopub.status.busy": "2023-11-12T22:56:02.214968Z",
     "iopub.status.idle": "2023-11-12T22:56:02.223353Z",
     "shell.execute_reply": "2023-11-12T22:56:02.222530Z",
     "shell.execute_reply.started": "2023-11-12T22:56:02.215349Z"
    }
   },
   "outputs": [
    {
     "name": "stdout",
     "output_type": "stream",
     "text": [
      "Average interaction per user 37.88\n",
      "Average interaction per item 21.54\n",
      "Sparsity 99.83 %\n"
     ]
    }
   ],
   "source": [
    "# Show some statistics\n",
    "n_users = len(arr_users)\n",
    "n_items = len(arr_items)\n",
    "n_interactions = len(input_df)\n",
    "\n",
    "print(\"Average interaction per user {:.2f}\".format(n_interactions/n_users))\n",
    "print(\"Average interaction per item {:.2f}\".format(n_interactions/n_items))\n",
    "print(\"Sparsity {:.2f} %\".format((1-float(n_interactions)/(n_items*n_users))*100))"
   ]
  },
  {
   "cell_type": "code",
   "execution_count": 9,
   "metadata": {},
   "outputs": [
    {
     "name": "stdout",
     "output_type": "stream",
     "text": [
      "Number of users\t 12638, Number of items\t 22222 \n",
      "\n",
      "Max ID users\t 13024, Max ID items\t 22347 \n",
      "\n"
     ]
    }
   ],
   "source": [
    "print(\"Number of users\\t {}, Number of items\\t {} \\n\".format(n_users, n_items))\n",
    "print(\"Max ID users\\t {}, Max ID items\\t {} \\n\".format(max(arr_users), max(arr_items)))"
   ]
  },
  {
   "cell_type": "code",
   "execution_count": 10,
   "metadata": {},
   "outputs": [],
   "source": [
    "# # Remove empty indices, create a new mapping\n",
    "\n",
    "# mapped_id, original_id = pd.factorize(input_df[\"user_id\"].unique())\n",
    "# user_original_ID_to_index = pd.Series(mapped_id, index=original_id)\n",
    "\n",
    "# mapped_id, original_id = pd.factorize(input_df[\"item_id\"].unique())\n",
    "# item_original_ID_to_index = pd.Series(mapped_id, index=original_id)\n",
    "\n",
    "\n",
    "# original_item_ID = 980\n",
    "# print(\"New index for item {} is {}\".format(original_item_ID, item_original_ID_to_index[original_item_ID]))"
   ]
  },
  {
   "cell_type": "code",
   "execution_count": 11,
   "metadata": {},
   "outputs": [],
   "source": [
    "# # Replace the IDs in the dataframe\n",
    "\n",
    "# input_df[\"user_id\"] = input_df[\"user_id\"].map(user_original_ID_to_index)\n",
    "# input_df[\"item_id\"] = input_df[\"item_id\"].map(item_original_ID_to_index)\n",
    "\n",
    "\n",
    "# input_df.head(n=10)"
   ]
  },
  {
   "cell_type": "markdown",
   "metadata": {},
   "source": [
    "# Matrix Conversion"
   ]
  },
  {
   "cell_type": "code",
   "execution_count": 12,
   "metadata": {
    "execution": {
     "iopub.execute_input": "2023-11-12T22:56:41.759574Z",
     "iopub.status.busy": "2023-11-12T22:56:41.759295Z",
     "iopub.status.idle": "2023-11-12T22:56:41.769131Z",
     "shell.execute_reply": "2023-11-12T22:56:41.768410Z",
     "shell.execute_reply.started": "2023-11-12T22:56:41.759551Z"
    }
   },
   "outputs": [
    {
     "data": {
      "text/plain": [
       "<13025x22348 sparse matrix of type '<class 'numpy.int32'>'\n",
       "\twith 478730 stored elements in COOrdinate format>"
      ]
     },
     "execution_count": 12,
     "metadata": {},
     "output_type": "execute_result"
    }
   ],
   "source": [
    "# Build the COO matrix with the COO constructor: (data, (row, column))\n",
    "URM_all = sps.coo_matrix(\n",
    "    (input_df[\"data\"].values,\n",
    "    (input_df[\"user_id\"].values, input_df[\"item_id\"].values))\n",
    ")\n",
    "\n",
    "URM_all"
   ]
  },
  {
   "cell_type": "code",
   "execution_count": 13,
   "metadata": {
    "execution": {
     "iopub.execute_input": "2023-11-12T22:56:46.591716Z",
     "iopub.status.busy": "2023-11-12T22:56:46.591432Z",
     "iopub.status.idle": "2023-11-12T22:56:46.605733Z",
     "shell.execute_reply": "2023-11-12T22:56:46.604615Z",
     "shell.execute_reply.started": "2023-11-12T22:56:46.591696Z"
    }
   },
   "outputs": [
    {
     "data": {
      "text/plain": [
       "<13025x22348 sparse matrix of type '<class 'numpy.intc'>'\n",
       "\twith 478730 stored elements in Compressed Sparse Row format>"
      ]
     },
     "execution_count": 13,
     "metadata": {},
     "output_type": "execute_result"
    }
   ],
   "source": [
    "# Convert the matrix to Compressed Sparse Row format\n",
    "URM_all = URM_all.tocsr()\n",
    "\n",
    "URM_all"
   ]
  },
  {
   "cell_type": "code",
   "execution_count": 14,
   "metadata": {
    "execution": {
     "iopub.execute_input": "2023-11-12T22:56:50.673578Z",
     "iopub.status.busy": "2023-11-12T22:56:50.673250Z",
     "iopub.status.idle": "2023-11-12T22:56:50.688362Z",
     "shell.execute_reply": "2023-11-12T22:56:50.687787Z",
     "shell.execute_reply.started": "2023-11-12T22:56:50.673552Z"
    }
   },
   "outputs": [
    {
     "data": {
      "text/plain": [
       "array([   0, 1581, 1764, ...,    3,    5,    2])"
      ]
     },
     "execution_count": 14,
     "metadata": {},
     "output_type": "execute_result"
    }
   ],
   "source": [
    "# Compute the item popularity as the number of interaction in each column\n",
    "\n",
    "# numpy.ediff1d(): calculate the differences between consecutive elements of an array.\n",
    "# (scipy) indptr maps the elements of data and indices to the rows of the sparse matrix.\n",
    "item_popularity = np.ediff1d(URM_all.tocsc().indptr)\n",
    "item_popularity"
   ]
  },
  {
   "cell_type": "code",
   "execution_count": 15,
   "metadata": {
    "execution": {
     "iopub.execute_input": "2023-11-12T22:56:52.555626Z",
     "iopub.status.busy": "2023-11-12T22:56:52.554891Z",
     "iopub.status.idle": "2023-11-12T22:56:52.562565Z",
     "shell.execute_reply": "2023-11-12T22:56:52.561896Z",
     "shell.execute_reply.started": "2023-11-12T22:56:52.555593Z"
    }
   },
   "outputs": [
    {
     "data": {
      "text/plain": [
       "array([   0,    0,    0, ..., 1581, 1666, 1764])"
      ]
     },
     "execution_count": 15,
     "metadata": {},
     "output_type": "execute_result"
    }
   ],
   "source": [
    "# Sort the popularity array\n",
    "item_popularity = np.sort(item_popularity)\n",
    "item_popularity"
   ]
  },
  {
   "cell_type": "code",
   "execution_count": 16,
   "metadata": {
    "execution": {
     "iopub.execute_input": "2023-11-12T22:56:54.597465Z",
     "iopub.status.busy": "2023-11-12T22:56:54.597146Z",
     "iopub.status.idle": "2023-11-12T22:56:54.812621Z",
     "shell.execute_reply": "2023-11-12T22:56:54.811595Z",
     "shell.execute_reply.started": "2023-11-12T22:56:54.597440Z"
    }
   },
   "outputs": [
    {
     "data": {
      "image/png": "[encoded data removed]",
      "text/plain": [
       "<Figure size 640x480 with 1 Axes>"
      ]
     },
     "metadata": {},
     "output_type": "display_data"
    }
   ],
   "source": [
    "# Plot the correlation between sorted items and the number of interactions.\n",
    "pyplot.plot(item_popularity, 'ro')\n",
    "pyplot.ylabel('Num Interactions')\n",
    "pyplot.xlabel('Sorted Item')\n",
    "pyplot.show()"
   ]
  },
  {
   "cell_type": "code",
   "execution_count": 17,
   "metadata": {
    "execution": {
     "iopub.execute_input": "2023-11-12T22:56:58.473087Z",
     "iopub.status.busy": "2023-11-12T22:56:58.472593Z",
     "iopub.status.idle": "2023-11-12T22:56:58.479846Z",
     "shell.execute_reply": "2023-11-12T22:56:58.478957Z",
     "shell.execute_reply.started": "2023-11-12T22:56:58.473061Z"
    }
   },
   "outputs": [
    {
     "name": "stdout",
     "output_type": "stream",
     "text": [
      "Average per-item interactions over the whole dataset 21.42\n",
      "Average per-item interactions for the top 10% popular items 122.73\n",
      "Average per-item interactions for the least 10% popular items 2.18\n",
      "Average per-item interactions for the median 10% popular items 8.25\n",
      "Number of items with zero interactions 126\n"
     ]
    }
   ],
   "source": [
    "# Statistics\n",
    "ten_percent = int(n_items/10)\n",
    "\n",
    "print(\"Average per-item interactions over the whole dataset {:.2f}\".\n",
    "      format(item_popularity.mean()))\n",
    "\n",
    "print(\"Average per-item interactions for the top 10% popular items {:.2f}\".\n",
    "      format(item_popularity[-ten_percent:].mean()))\n",
    "\n",
    "print(\"Average per-item interactions for the least 10% popular items {:.2f}\".\n",
    "      format(item_popularity[:ten_percent].mean()))\n",
    "\n",
    "print(\"Average per-item interactions for the median 10% popular items {:.2f}\".\n",
    "      format(item_popularity[int(n_items*0.45):int(n_items*0.55)].mean()))\n",
    "\n",
    "print(\"Number of items with zero interactions {}\".\n",
    "      format(np.sum(item_popularity==0)))"
   ]
  },
  {
   "cell_type": "code",
   "execution_count": 18,
   "metadata": {
    "execution": {
     "iopub.execute_input": "2023-11-12T22:57:08.195018Z",
     "iopub.status.busy": "2023-11-12T22:57:08.194711Z",
     "iopub.status.idle": "2023-11-12T22:57:08.201059Z",
     "shell.execute_reply": "2023-11-12T22:57:08.200165Z",
     "shell.execute_reply.started": "2023-11-12T22:57:08.194997Z"
    }
   },
   "outputs": [
    {
     "data": {
      "text/plain": [
       "array([   0,    0,    0, ...,  729,  824, 1351])"
      ]
     },
     "execution_count": 18,
     "metadata": {},
     "output_type": "execute_result"
    }
   ],
   "source": [
    "# Compute the user activity as the number of interaction in each row\n",
    "user_activity = np.ediff1d(URM_all.indptr)\n",
    "user_activity = np.sort(user_activity)\n",
    "user_activity"
   ]
  },
  {
   "cell_type": "code",
   "execution_count": 19,
   "metadata": {
    "execution": {
     "iopub.execute_input": "2023-11-12T22:57:10.794195Z",
     "iopub.status.busy": "2023-11-12T22:57:10.793893Z",
     "iopub.status.idle": "2023-11-12T22:57:10.963991Z",
     "shell.execute_reply": "2023-11-12T22:57:10.963156Z",
     "shell.execute_reply.started": "2023-11-12T22:57:10.794172Z"
    }
   },
   "outputs": [
    {
     "data": {
      "image/png": "[encoded data removed]",
      "text/plain": [
       "<Figure size 640x480 with 1 Axes>"
      ]
     },
     "metadata": {},
     "output_type": "display_data"
    }
   ],
   "source": [
    "# Plot the correlation between sorted users and number of interactions\n",
    "pyplot.plot(user_activity, 'ro')\n",
    "pyplot.ylabel('Num Interactions')\n",
    "pyplot.xlabel('Sorted User')\n",
    "pyplot.show()"
   ]
  },
  {
   "cell_type": "markdown",
   "metadata": {},
   "source": [
    "# Evaluation of the recommender"
   ]
  },
  {
   "cell_type": "code",
   "execution_count": 20,
   "metadata": {
    "execution": {
     "iopub.execute_input": "2023-11-12T22:57:21.250734Z",
     "iopub.status.busy": "2023-11-12T22:57:21.250427Z",
     "iopub.status.idle": "2023-11-12T22:57:21.254680Z",
     "shell.execute_reply": "2023-11-12T22:57:21.253888Z",
     "shell.execute_reply.started": "2023-11-12T22:57:21.250710Z"
    }
   },
   "outputs": [],
   "source": [
    "# Define the train-test splitting ratio\n",
    "train_test_split = 0.85"
   ]
  },
  {
   "cell_type": "code",
   "execution_count": 21,
   "metadata": {},
   "outputs": [],
   "source": [
    "# Import Evaluators\n",
    "from Evaluation.Evaluator import EvaluatorHoldout\n",
    "from Data_manager.split_functions.split_train_validation_random_holdout import split_train_in_two_percentage_global_sample"
   ]
  },
  {
   "cell_type": "code",
   "execution_count": null,
   "metadata": {},
   "outputs": [],
   "source": [
    "URM_train, URM_test = split_train_in_two_percentage_global_sample(URM_all, train_percentage = train_test_split)\n",
    "# URM_train, URM_validation = split_train_in_two_percentage_global_sample(URM_train, train_percentage = train_test_split)"
   ]
  },
  {
   "cell_type": "code",
   "execution_count": 22,
   "metadata": {},
   "outputs": [
    {
     "data": {
      "text/plain": [
       "<13025x22348 sparse matrix of type '<class 'numpy.float64'>'\n",
       "\twith 406920 stored elements in Compressed Sparse Row format>"
      ]
     },
     "execution_count": 22,
     "metadata": {},
     "output_type": "execute_result"
    }
   ],
   "source": [
    "# Or load from existing dataframe\n",
    "URM_train = sps.load_npz('Input/train10.npz')\n",
    "URM_train"
   ]
  },
  {
   "cell_type": "code",
   "execution_count": 23,
   "metadata": {},
   "outputs": [
    {
     "data": {
      "text/plain": [
       "<13025x22348 sparse matrix of type '<class 'numpy.float64'>'\n",
       "\twith 71810 stored elements in Compressed Sparse Row format>"
      ]
     },
     "execution_count": 23,
     "metadata": {},
     "output_type": "execute_result"
    }
   ],
   "source": [
    "URM_test = sps.load_npz('Input/test10.npz')\n",
    "URM_test"
   ]
  },
  {
   "cell_type": "code",
   "execution_count": 24,
   "metadata": {},
   "outputs": [
    {
     "name": "stdout",
     "output_type": "stream",
     "text": [
      "EvaluatorHoldout: Ignoring 3145 (24.1%) Users that have less than 1 test interactions\n"
     ]
    }
   ],
   "source": [
    "# evaluator_validation = EvaluatorHoldout(URM_validation, cutoff_list=[10])\n",
    "evaluator_test = EvaluatorHoldout(URM_test, cutoff_list=[10])"
   ]
  },
  {
   "cell_type": "code",
   "execution_count": null,
   "metadata": {},
   "outputs": [],
   "source": []
  },
  {
   "cell_type": "code",
   "execution_count": null,
   "metadata": {},
   "outputs": [],
   "source": []
  },
  {
   "cell_type": "code",
   "execution_count": null,
   "metadata": {},
   "outputs": [],
   "source": []
  },
  {
   "cell_type": "code",
   "execution_count": null,
   "metadata": {},
   "outputs": [],
   "source": []
  },
  {
   "cell_type": "code",
   "execution_count": null,
   "metadata": {},
   "outputs": [],
   "source": []
  },
  {
   "cell_type": "markdown",
   "metadata": {},
   "source": [
    "Content-based: URM in csr, ICM in csr\n",
    "\n",
    "Collaborative filtering: URM in csr\n",
    "\n",
    "FunkSVD: URM in coo\n",
    "\n",
    "AsySVD: URM in coo\n"
   ]
  },
  {
   "cell_type": "markdown",
   "metadata": {},
   "source": [
    "## Best Recommenders after tuning"
   ]
  },
  {
   "cell_type": "code",
   "execution_count": 25,
   "metadata": {},
   "outputs": [
    {
     "name": "stdout",
     "output_type": "stream",
     "text": [
      "SLIMElasticNetRecommender: URM Detected 523 ( 4.0%) users with no interactions.\n",
      "SLIMElasticNetRecommender: URM Detected 219 ( 1.0%) items with no interactions.\n"
     ]
    },
    {
     "name": "stderr",
     "output_type": "stream",
     "text": [
      "100%|██████████████████████████████████████████████████████████████████████████▉| 22344/22348 [02:10<00:00, 171.10it/s]\n"
     ]
    }
   ],
   "source": [
    "from Recommenders.SLIM.SLIMElasticNetRecommender import MultiThreadSLIM_SLIMElasticNetRecommender\n",
    "slime = MultiThreadSLIM_SLIMElasticNetRecommender(URM_train)\n",
    "slime.fit(l1_ratio=0.05223, alpha=0.00116885, topK=451)"
   ]
  },
  {
   "cell_type": "code",
   "execution_count": 30,
   "metadata": {},
   "outputs": [
    {
     "name": "stdout",
     "output_type": "stream",
     "text": [
      "ItemKNNCFRecommender: URM Detected 523 ( 4.0%) users with no interactions.\n",
      "ItemKNNCFRecommender: URM Detected 219 ( 1.0%) items with no interactions.\n",
      "Similarity column 22348 (100.0%), 11466.59 column/sec. Elapsed time 1.95 sec\n"
     ]
    }
   ],
   "source": [
    "from Recommenders.KNN.ItemKNNCFRecommender import ItemKNNCFRecommender\n",
    "itemknncf = ItemKNNCFRecommender(URM_train)\n",
    "itemknncf.fit(shrink=15.47563, topK=12, similarity='dice')"
   ]
  },
  {
   "cell_type": "code",
   "execution_count": 31,
   "metadata": {},
   "outputs": [
    {
     "name": "stdout",
     "output_type": "stream",
     "text": [
      "P3alphaRecommender: URM Detected 523 ( 4.0%) users with no interactions.\n",
      "P3alphaRecommender: URM Detected 219 ( 1.0%) items with no interactions.\n",
      "P3alphaRecommender: Similarity column 22348 (100.0%), 6463.99 column/sec. Elapsed time 3.46 sec\n"
     ]
    }
   ],
   "source": [
    "from Recommenders.GraphBased.P3alphaRecommender import P3alphaRecommender\n",
    "p3alpha = P3alphaRecommender(URM_train)\n",
    "p3alpha.fit(topK=35, alpha=0.210046, implicit=True, normalize_similarity=True)"
   ]
  },
  {
   "cell_type": "code",
   "execution_count": 32,
   "metadata": {},
   "outputs": [
    {
     "name": "stdout",
     "output_type": "stream",
     "text": [
      "RP3betaRecommender: URM Detected 523 ( 4.0%) users with no interactions.\n",
      "RP3betaRecommender: URM Detected 219 ( 1.0%) items with no interactions.\n",
      "RP3betaRecommender: Similarity column 22348 (100.0%), 6308.39 column/sec. Elapsed time 3.54 sec\n"
     ]
    }
   ],
   "source": [
    "from Recommenders.GraphBased.RP3betaRecommender import RP3betaRecommender\n",
    "rp3beta = RP3betaRecommender(URM_train)\n",
    "rp3beta.fit(topK=25, alpha=0.26339, beta=0.20854, implicit=True, normalize_similarity=True)"
   ]
  },
  {
   "cell_type": "code",
   "execution_count": 33,
   "metadata": {},
   "outputs": [
    {
     "name": "stdout",
     "output_type": "stream",
     "text": [
      "EASE_R_Recommender: URM Detected 523 ( 4.0%) users with no interactions.\n",
      "EASE_R_Recommender: URM Detected 219 ( 1.0%) items with no interactions.\n",
      "EASE_R_Recommender: Fitting model... \n",
      "EASE_R_Recommender: Fitting model... done in 1.36 min\n"
     ]
    }
   ],
   "source": [
    "from Recommenders.EASE_R.EASE_R_Recommender import EASE_R_Recommender\n",
    "ease = EASE_R_Recommender(URM_train)\n",
    "ease.fit(topK=29, l2_norm=19)"
   ]
  },
  {
   "cell_type": "code",
   "execution_count": 34,
   "metadata": {},
   "outputs": [
    {
     "name": "stdout",
     "output_type": "stream",
     "text": [
      "UserKNNCFRecommender: URM Detected 523 ( 4.0%) users with no interactions.\n",
      "UserKNNCFRecommender: URM Detected 219 ( 1.0%) items with no interactions.\n",
      "Similarity column 13025 (100.0%), 10293.82 column/sec. Elapsed time 1.27 sec\n"
     ]
    }
   ],
   "source": [
    "from Recommenders.KNN.UserKNNCFRecommender import UserKNNCFRecommender\n",
    "userknncf = UserKNNCFRecommender(URM_train)\n",
    "userknncf.fit(shrink=1.432797, topK=329, feature_weighting=\"TF-IDF\")"
   ]
  },
  {
   "cell_type": "code",
   "execution_count": 35,
   "metadata": {},
   "outputs": [
    {
     "name": "stdout",
     "output_type": "stream",
     "text": [
      "Similarity column 22348 (100.0%), 11247.28 column/sec. Elapsed time 1.99 sec\n",
      "Similarity column 22348 (100.0%), 10413.79 column/sec. Elapsed time 2.15 sec\n",
      "ItemKNNSimilarityHybridRecommender: URM Detected 523 ( 4.0%) users with no interactions.\n",
      "ItemKNNSimilarityHybridRecommender: URM Detected 219 ( 1.0%) items with no interactions.\n"
     ]
    }
   ],
   "source": [
    "from Recommenders.KNN.ItemKNNSimilarityHybridRecommender import ItemKNNSimilarityHybridRecommender\n",
    "from Recommenders.Similarity.Compute_Similarity import Compute_Similarity\n",
    "sim1 = Compute_Similarity(URM_train, shrink = 9.803724, topK = 62, similarity = 'cosine').compute_similarity()\n",
    "sim2 = Compute_Similarity(URM_train, shrink = 6.736, topK = 3, similarity = 'jaccard').compute_similarity()\n",
    "itemhybrid = ItemKNNSimilarityHybridRecommender(URM_train, sim1, sim2)\n",
    "itemhybrid.fit(topK = 36, alpha = 0.267625)"
   ]
  },
  {
   "cell_type": "code",
   "execution_count": 36,
   "metadata": {},
   "outputs": [
    {
     "name": "stdout",
     "output_type": "stream",
     "text": [
      "ScoresHybridRecommender3: URM Detected 523 ( 4.0%) users with no interactions.\n",
      "ScoresHybridRecommender3: URM Detected 219 ( 1.0%) items with no interactions.\n"
     ]
    }
   ],
   "source": [
    "from Recommenders.ScoresHybridRecommender3 import ScoresHybridRecommender3\n",
    "recommender = ScoresHybridRecommender3(URM_train, slime, itemhybrid, rp3beta)\n",
    "recommender.fit(alpha=0.661077, beta=0.144166)"
   ]
  },
  {
   "cell_type": "code",
   "execution_count": null,
   "metadata": {},
   "outputs": [],
   "source": []
  },
  {
   "cell_type": "code",
   "execution_count": null,
   "metadata": {},
   "outputs": [],
   "source": []
  },
  {
   "cell_type": "markdown",
   "metadata": {},
   "source": [
    "## XGBoost"
   ]
  },
  {
   "cell_type": "code",
   "execution_count": 37,
   "metadata": {},
   "outputs": [
    {
     "name": "stderr",
     "output_type": "stream",
     "text": [
      "C:\\Users\\zheng\\.conda\\envs\\RecSysFramework\\lib\\site-packages\\lightfm\\_lightfm_fast.py:9: UserWarning: LightFM was compiled without OpenMP support. Only a single thread will be used.\n",
      "  warnings.warn(\n"
     ]
    }
   ],
   "source": [
    "from Recommenders.Recommender_import_list import *"
   ]
  },
  {
   "cell_type": "code",
   "execution_count": 126,
   "metadata": {},
   "outputs": [],
   "source": [
    "candidate_generator_recommender = recommender"
   ]
  },
  {
   "cell_type": "code",
   "execution_count": 127,
   "metadata": {},
   "outputs": [],
   "source": [
    "n_users, n_items = URM_train.shape\n",
    "\n",
    "training_dataframe = pd.DataFrame(index=range(0,n_users), columns = [\"item_id\"])\n",
    "training_dataframe.index.name='user_id'"
   ]
  },
  {
   "cell_type": "code",
   "execution_count": 128,
   "metadata": {},
   "outputs": [
    {
     "data": {
      "text/html": [
       "<div>\n",
       "<style scoped>\n",
       "    .dataframe tbody tr th:only-of-type {\n",
       "        vertical-align: middle;\n",
       "    }\n",
       "\n",
       "    .dataframe tbody tr th {\n",
       "        vertical-align: top;\n",
       "    }\n",
       "\n",
       "    .dataframe thead th {\n",
       "        text-align: right;\n",
       "    }\n",
       "</style>\n",
       "<table border=\"1\" class=\"dataframe\">\n",
       "  <thead>\n",
       "    <tr style=\"text-align: right;\">\n",
       "      <th></th>\n",
       "      <th>item_id</th>\n",
       "    </tr>\n",
       "    <tr>\n",
       "      <th>user_id</th>\n",
       "      <th></th>\n",
       "    </tr>\n",
       "  </thead>\n",
       "  <tbody>\n",
       "    <tr>\n",
       "      <th>0</th>\n",
       "      <td>NaN</td>\n",
       "    </tr>\n",
       "    <tr>\n",
       "      <th>1</th>\n",
       "      <td>NaN</td>\n",
       "    </tr>\n",
       "    <tr>\n",
       "      <th>2</th>\n",
       "      <td>NaN</td>\n",
       "    </tr>\n",
       "    <tr>\n",
       "      <th>3</th>\n",
       "      <td>NaN</td>\n",
       "    </tr>\n",
       "    <tr>\n",
       "      <th>4</th>\n",
       "      <td>NaN</td>\n",
       "    </tr>\n",
       "    <tr>\n",
       "      <th>...</th>\n",
       "      <td>...</td>\n",
       "    </tr>\n",
       "    <tr>\n",
       "      <th>13020</th>\n",
       "      <td>NaN</td>\n",
       "    </tr>\n",
       "    <tr>\n",
       "      <th>13021</th>\n",
       "      <td>NaN</td>\n",
       "    </tr>\n",
       "    <tr>\n",
       "      <th>13022</th>\n",
       "      <td>NaN</td>\n",
       "    </tr>\n",
       "    <tr>\n",
       "      <th>13023</th>\n",
       "      <td>NaN</td>\n",
       "    </tr>\n",
       "    <tr>\n",
       "      <th>13024</th>\n",
       "      <td>NaN</td>\n",
       "    </tr>\n",
       "  </tbody>\n",
       "</table>\n",
       "<p>13025 rows × 1 columns</p>\n",
       "</div>"
      ],
      "text/plain": [
       "        item_id\n",
       "user_id        \n",
       "0           NaN\n",
       "1           NaN\n",
       "2           NaN\n",
       "3           NaN\n",
       "4           NaN\n",
       "...         ...\n",
       "13020       NaN\n",
       "13021       NaN\n",
       "13022       NaN\n",
       "13023       NaN\n",
       "13024       NaN\n",
       "\n",
       "[13025 rows x 1 columns]"
      ]
     },
     "execution_count": 128,
     "metadata": {},
     "output_type": "execute_result"
    }
   ],
   "source": [
    "training_dataframe"
   ]
  },
  {
   "cell_type": "code",
   "execution_count": 129,
   "metadata": {},
   "outputs": [
    {
     "name": "stderr",
     "output_type": "stream",
     "text": [
      "100%|██████████████████████████████████████████████████████████████████████████| 13025/13025 [00:10<00:00, 1220.17it/s]\n"
     ]
    }
   ],
   "source": [
    "cutoff = 50\n",
    "\n",
    "for user_id in tqdm(range(n_users)):    \n",
    "    recommendations = candidate_generator_recommender.recommend(user_id, cutoff = cutoff)\n",
    "    training_dataframe.loc[user_id, \"item_id\"] = recommendations"
   ]
  },
  {
   "cell_type": "code",
   "execution_count": 130,
   "metadata": {},
   "outputs": [
    {
     "data": {
      "text/html": [
       "<div>\n",
       "<style scoped>\n",
       "    .dataframe tbody tr th:only-of-type {\n",
       "        vertical-align: middle;\n",
       "    }\n",
       "\n",
       "    .dataframe tbody tr th {\n",
       "        vertical-align: top;\n",
       "    }\n",
       "\n",
       "    .dataframe thead th {\n",
       "        text-align: right;\n",
       "    }\n",
       "</style>\n",
       "<table border=\"1\" class=\"dataframe\">\n",
       "  <thead>\n",
       "    <tr style=\"text-align: right;\">\n",
       "      <th></th>\n",
       "      <th>item_id</th>\n",
       "    </tr>\n",
       "    <tr>\n",
       "      <th>user_id</th>\n",
       "      <th></th>\n",
       "    </tr>\n",
       "  </thead>\n",
       "  <tbody>\n",
       "    <tr>\n",
       "      <th>0</th>\n",
       "      <td>[14886, 14901, 14900, 14899, 14898, 14897, 148...</td>\n",
       "    </tr>\n",
       "    <tr>\n",
       "      <th>1</th>\n",
       "      <td>[36, 101, 123, 403, 506, 515, 694, 1481, 1338,...</td>\n",
       "    </tr>\n",
       "    <tr>\n",
       "      <th>2</th>\n",
       "      <td>[1095, 47, 1372, 12, 50, 11, 112, 196, 102, 13...</td>\n",
       "    </tr>\n",
       "    <tr>\n",
       "      <th>3</th>\n",
       "      <td>[59, 857, 2748, 3152, 1895, 2172, 956, 584, 25...</td>\n",
       "    </tr>\n",
       "    <tr>\n",
       "      <th>4</th>\n",
       "      <td>[27, 28, 249, 252, 7, 314, 50, 5, 171, 254, 13...</td>\n",
       "    </tr>\n",
       "    <tr>\n",
       "      <th>...</th>\n",
       "      <td>...</td>\n",
       "    </tr>\n",
       "    <tr>\n",
       "      <th>13020</th>\n",
       "      <td>[6198, 6450, 7056, 6451, 6452, 6749, 6197, 572...</td>\n",
       "    </tr>\n",
       "    <tr>\n",
       "      <th>13021</th>\n",
       "      <td>[148, 6451, 6426, 6720, 7369, 7055, 304, 6179,...</td>\n",
       "    </tr>\n",
       "    <tr>\n",
       "      <th>13022</th>\n",
       "      <td>[1668, 1674, 1411, 1446, 809, 10789, 8100, 384...</td>\n",
       "    </tr>\n",
       "    <tr>\n",
       "      <th>13023</th>\n",
       "      <td>[299, 329, 1107, 828, 208, 662, 706, 138, 1124...</td>\n",
       "    </tr>\n",
       "    <tr>\n",
       "      <th>13024</th>\n",
       "      <td>[10211, 10204, 2366, 2120, 4428, 7771, 2584, 4...</td>\n",
       "    </tr>\n",
       "  </tbody>\n",
       "</table>\n",
       "<p>13025 rows × 1 columns</p>\n",
       "</div>"
      ],
      "text/plain": [
       "                                                   item_id\n",
       "user_id                                                   \n",
       "0        [14886, 14901, 14900, 14899, 14898, 14897, 148...\n",
       "1        [36, 101, 123, 403, 506, 515, 694, 1481, 1338,...\n",
       "2        [1095, 47, 1372, 12, 50, 11, 112, 196, 102, 13...\n",
       "3        [59, 857, 2748, 3152, 1895, 2172, 956, 584, 25...\n",
       "4        [27, 28, 249, 252, 7, 314, 50, 5, 171, 254, 13...\n",
       "...                                                    ...\n",
       "13020    [6198, 6450, 7056, 6451, 6452, 6749, 6197, 572...\n",
       "13021    [148, 6451, 6426, 6720, 7369, 7055, 304, 6179,...\n",
       "13022    [1668, 1674, 1411, 1446, 809, 10789, 8100, 384...\n",
       "13023    [299, 329, 1107, 828, 208, 662, 706, 138, 1124...\n",
       "13024    [10211, 10204, 2366, 2120, 4428, 7771, 2584, 4...\n",
       "\n",
       "[13025 rows x 1 columns]"
      ]
     },
     "execution_count": 130,
     "metadata": {},
     "output_type": "execute_result"
    }
   ],
   "source": [
    "training_dataframe"
   ]
  },
  {
   "cell_type": "code",
   "execution_count": 131,
   "metadata": {},
   "outputs": [
    {
     "data": {
      "text/html": [
       "<div>\n",
       "<style scoped>\n",
       "    .dataframe tbody tr th:only-of-type {\n",
       "        vertical-align: middle;\n",
       "    }\n",
       "\n",
       "    .dataframe tbody tr th {\n",
       "        vertical-align: top;\n",
       "    }\n",
       "\n",
       "    .dataframe thead th {\n",
       "        text-align: right;\n",
       "    }\n",
       "</style>\n",
       "<table border=\"1\" class=\"dataframe\">\n",
       "  <thead>\n",
       "    <tr style=\"text-align: right;\">\n",
       "      <th></th>\n",
       "      <th>item_id</th>\n",
       "    </tr>\n",
       "    <tr>\n",
       "      <th>user_id</th>\n",
       "      <th></th>\n",
       "    </tr>\n",
       "  </thead>\n",
       "  <tbody>\n",
       "    <tr>\n",
       "      <th>0</th>\n",
       "      <td>14886</td>\n",
       "    </tr>\n",
       "    <tr>\n",
       "      <th>0</th>\n",
       "      <td>14901</td>\n",
       "    </tr>\n",
       "    <tr>\n",
       "      <th>0</th>\n",
       "      <td>14900</td>\n",
       "    </tr>\n",
       "    <tr>\n",
       "      <th>0</th>\n",
       "      <td>14899</td>\n",
       "    </tr>\n",
       "    <tr>\n",
       "      <th>0</th>\n",
       "      <td>14898</td>\n",
       "    </tr>\n",
       "    <tr>\n",
       "      <th>...</th>\n",
       "      <td>...</td>\n",
       "    </tr>\n",
       "    <tr>\n",
       "      <th>13024</th>\n",
       "      <td>10125</td>\n",
       "    </tr>\n",
       "    <tr>\n",
       "      <th>13024</th>\n",
       "      <td>24</td>\n",
       "    </tr>\n",
       "    <tr>\n",
       "      <th>13024</th>\n",
       "      <td>1069</td>\n",
       "    </tr>\n",
       "    <tr>\n",
       "      <th>13024</th>\n",
       "      <td>696</td>\n",
       "    </tr>\n",
       "    <tr>\n",
       "      <th>13024</th>\n",
       "      <td>43</td>\n",
       "    </tr>\n",
       "  </tbody>\n",
       "</table>\n",
       "<p>651250 rows × 1 columns</p>\n",
       "</div>"
      ],
      "text/plain": [
       "        item_id\n",
       "user_id        \n",
       "0         14886\n",
       "0         14901\n",
       "0         14900\n",
       "0         14899\n",
       "0         14898\n",
       "...         ...\n",
       "13024     10125\n",
       "13024        24\n",
       "13024      1069\n",
       "13024       696\n",
       "13024        43\n",
       "\n",
       "[651250 rows x 1 columns]"
      ]
     },
     "execution_count": 131,
     "metadata": {},
     "output_type": "execute_result"
    }
   ],
   "source": [
    "training_dataframe = training_dataframe.explode(\"item_id\")\n",
    "training_dataframe"
   ]
  },
  {
   "cell_type": "code",
   "execution_count": 132,
   "metadata": {},
   "outputs": [],
   "source": [
    "URM_validation=URM_test"
   ]
  },
  {
   "cell_type": "code",
   "execution_count": 133,
   "metadata": {},
   "outputs": [
    {
     "data": {
      "text/html": [
       "<div>\n",
       "<style scoped>\n",
       "    .dataframe tbody tr th:only-of-type {\n",
       "        vertical-align: middle;\n",
       "    }\n",
       "\n",
       "    .dataframe tbody tr th {\n",
       "        vertical-align: top;\n",
       "    }\n",
       "\n",
       "    .dataframe thead th {\n",
       "        text-align: right;\n",
       "    }\n",
       "</style>\n",
       "<table border=\"1\" class=\"dataframe\">\n",
       "  <thead>\n",
       "    <tr style=\"text-align: right;\">\n",
       "      <th></th>\n",
       "      <th>user_id</th>\n",
       "      <th>item_id</th>\n",
       "    </tr>\n",
       "  </thead>\n",
       "  <tbody>\n",
       "    <tr>\n",
       "      <th>0</th>\n",
       "      <td>1</td>\n",
       "      <td>16</td>\n",
       "    </tr>\n",
       "    <tr>\n",
       "      <th>1</th>\n",
       "      <td>1</td>\n",
       "      <td>377</td>\n",
       "    </tr>\n",
       "    <tr>\n",
       "      <th>2</th>\n",
       "      <td>1</td>\n",
       "      <td>544</td>\n",
       "    </tr>\n",
       "    <tr>\n",
       "      <th>3</th>\n",
       "      <td>1</td>\n",
       "      <td>1935</td>\n",
       "    </tr>\n",
       "    <tr>\n",
       "      <th>4</th>\n",
       "      <td>1</td>\n",
       "      <td>2462</td>\n",
       "    </tr>\n",
       "    <tr>\n",
       "      <th>...</th>\n",
       "      <td>...</td>\n",
       "      <td>...</td>\n",
       "    </tr>\n",
       "    <tr>\n",
       "      <th>71805</th>\n",
       "      <td>13024</td>\n",
       "      <td>3495</td>\n",
       "    </tr>\n",
       "    <tr>\n",
       "      <th>71806</th>\n",
       "      <td>13024</td>\n",
       "      <td>4428</td>\n",
       "    </tr>\n",
       "    <tr>\n",
       "      <th>71807</th>\n",
       "      <td>13024</td>\n",
       "      <td>7824</td>\n",
       "    </tr>\n",
       "    <tr>\n",
       "      <th>71808</th>\n",
       "      <td>13024</td>\n",
       "      <td>10204</td>\n",
       "    </tr>\n",
       "    <tr>\n",
       "      <th>71809</th>\n",
       "      <td>13024</td>\n",
       "      <td>11058</td>\n",
       "    </tr>\n",
       "  </tbody>\n",
       "</table>\n",
       "<p>71810 rows × 2 columns</p>\n",
       "</div>"
      ],
      "text/plain": [
       "       user_id  item_id\n",
       "0            1       16\n",
       "1            1      377\n",
       "2            1      544\n",
       "3            1     1935\n",
       "4            1     2462\n",
       "...        ...      ...\n",
       "71805    13024     3495\n",
       "71806    13024     4428\n",
       "71807    13024     7824\n",
       "71808    13024    10204\n",
       "71809    13024    11058\n",
       "\n",
       "[71810 rows x 2 columns]"
      ]
     },
     "execution_count": 133,
     "metadata": {},
     "output_type": "execute_result"
    }
   ],
   "source": [
    "URM_validation_coo = sps.coo_matrix(URM_validation)\n",
    "\n",
    "correct_recommendations = pd.DataFrame({\"user_id\": URM_validation_coo.row,\n",
    "                                        \"item_id\": URM_validation_coo.col})\n",
    "correct_recommendations"
   ]
  },
  {
   "cell_type": "code",
   "execution_count": 134,
   "metadata": {},
   "outputs": [
    {
     "data": {
      "text/html": [
       "<div>\n",
       "<style scoped>\n",
       "    .dataframe tbody tr th:only-of-type {\n",
       "        vertical-align: middle;\n",
       "    }\n",
       "\n",
       "    .dataframe tbody tr th {\n",
       "        vertical-align: top;\n",
       "    }\n",
       "\n",
       "    .dataframe thead th {\n",
       "        text-align: right;\n",
       "    }\n",
       "</style>\n",
       "<table border=\"1\" class=\"dataframe\">\n",
       "  <thead>\n",
       "    <tr style=\"text-align: right;\">\n",
       "      <th></th>\n",
       "      <th>user_id</th>\n",
       "      <th>item_id</th>\n",
       "      <th>Exist</th>\n",
       "    </tr>\n",
       "  </thead>\n",
       "  <tbody>\n",
       "    <tr>\n",
       "      <th>0</th>\n",
       "      <td>0</td>\n",
       "      <td>14886</td>\n",
       "      <td>left_only</td>\n",
       "    </tr>\n",
       "    <tr>\n",
       "      <th>1</th>\n",
       "      <td>0</td>\n",
       "      <td>14901</td>\n",
       "      <td>left_only</td>\n",
       "    </tr>\n",
       "    <tr>\n",
       "      <th>2</th>\n",
       "      <td>0</td>\n",
       "      <td>14900</td>\n",
       "      <td>left_only</td>\n",
       "    </tr>\n",
       "    <tr>\n",
       "      <th>3</th>\n",
       "      <td>0</td>\n",
       "      <td>14899</td>\n",
       "      <td>left_only</td>\n",
       "    </tr>\n",
       "    <tr>\n",
       "      <th>4</th>\n",
       "      <td>0</td>\n",
       "      <td>14898</td>\n",
       "      <td>left_only</td>\n",
       "    </tr>\n",
       "    <tr>\n",
       "      <th>...</th>\n",
       "      <td>...</td>\n",
       "      <td>...</td>\n",
       "      <td>...</td>\n",
       "    </tr>\n",
       "    <tr>\n",
       "      <th>651245</th>\n",
       "      <td>13024</td>\n",
       "      <td>10125</td>\n",
       "      <td>left_only</td>\n",
       "    </tr>\n",
       "    <tr>\n",
       "      <th>651246</th>\n",
       "      <td>13024</td>\n",
       "      <td>24</td>\n",
       "      <td>left_only</td>\n",
       "    </tr>\n",
       "    <tr>\n",
       "      <th>651247</th>\n",
       "      <td>13024</td>\n",
       "      <td>1069</td>\n",
       "      <td>left_only</td>\n",
       "    </tr>\n",
       "    <tr>\n",
       "      <th>651248</th>\n",
       "      <td>13024</td>\n",
       "      <td>696</td>\n",
       "      <td>left_only</td>\n",
       "    </tr>\n",
       "    <tr>\n",
       "      <th>651249</th>\n",
       "      <td>13024</td>\n",
       "      <td>43</td>\n",
       "      <td>left_only</td>\n",
       "    </tr>\n",
       "  </tbody>\n",
       "</table>\n",
       "<p>651250 rows × 3 columns</p>\n",
       "</div>"
      ],
      "text/plain": [
       "        user_id item_id      Exist\n",
       "0             0   14886  left_only\n",
       "1             0   14901  left_only\n",
       "2             0   14900  left_only\n",
       "3             0   14899  left_only\n",
       "4             0   14898  left_only\n",
       "...         ...     ...        ...\n",
       "651245    13024   10125  left_only\n",
       "651246    13024      24  left_only\n",
       "651247    13024    1069  left_only\n",
       "651248    13024     696  left_only\n",
       "651249    13024      43  left_only\n",
       "\n",
       "[651250 rows x 3 columns]"
      ]
     },
     "execution_count": 134,
     "metadata": {},
     "output_type": "execute_result"
    }
   ],
   "source": [
    "training_dataframe = pd.merge(training_dataframe, correct_recommendations, on=['user_id','item_id'], how='left', indicator='Exist')\n",
    "training_dataframe"
   ]
  },
  {
   "cell_type": "code",
   "execution_count": 135,
   "metadata": {},
   "outputs": [
    {
     "data": {
      "text/html": [
       "<div>\n",
       "<style scoped>\n",
       "    .dataframe tbody tr th:only-of-type {\n",
       "        vertical-align: middle;\n",
       "    }\n",
       "\n",
       "    .dataframe tbody tr th {\n",
       "        vertical-align: top;\n",
       "    }\n",
       "\n",
       "    .dataframe thead th {\n",
       "        text-align: right;\n",
       "    }\n",
       "</style>\n",
       "<table border=\"1\" class=\"dataframe\">\n",
       "  <thead>\n",
       "    <tr style=\"text-align: right;\">\n",
       "      <th></th>\n",
       "      <th>user_id</th>\n",
       "      <th>item_id</th>\n",
       "      <th>Label</th>\n",
       "    </tr>\n",
       "  </thead>\n",
       "  <tbody>\n",
       "    <tr>\n",
       "      <th>0</th>\n",
       "      <td>0</td>\n",
       "      <td>14886</td>\n",
       "      <td>False</td>\n",
       "    </tr>\n",
       "    <tr>\n",
       "      <th>1</th>\n",
       "      <td>0</td>\n",
       "      <td>14901</td>\n",
       "      <td>False</td>\n",
       "    </tr>\n",
       "    <tr>\n",
       "      <th>2</th>\n",
       "      <td>0</td>\n",
       "      <td>14900</td>\n",
       "      <td>False</td>\n",
       "    </tr>\n",
       "    <tr>\n",
       "      <th>3</th>\n",
       "      <td>0</td>\n",
       "      <td>14899</td>\n",
       "      <td>False</td>\n",
       "    </tr>\n",
       "    <tr>\n",
       "      <th>4</th>\n",
       "      <td>0</td>\n",
       "      <td>14898</td>\n",
       "      <td>False</td>\n",
       "    </tr>\n",
       "    <tr>\n",
       "      <th>...</th>\n",
       "      <td>...</td>\n",
       "      <td>...</td>\n",
       "      <td>...</td>\n",
       "    </tr>\n",
       "    <tr>\n",
       "      <th>651245</th>\n",
       "      <td>13024</td>\n",
       "      <td>10125</td>\n",
       "      <td>False</td>\n",
       "    </tr>\n",
       "    <tr>\n",
       "      <th>651246</th>\n",
       "      <td>13024</td>\n",
       "      <td>24</td>\n",
       "      <td>False</td>\n",
       "    </tr>\n",
       "    <tr>\n",
       "      <th>651247</th>\n",
       "      <td>13024</td>\n",
       "      <td>1069</td>\n",
       "      <td>False</td>\n",
       "    </tr>\n",
       "    <tr>\n",
       "      <th>651248</th>\n",
       "      <td>13024</td>\n",
       "      <td>696</td>\n",
       "      <td>False</td>\n",
       "    </tr>\n",
       "    <tr>\n",
       "      <th>651249</th>\n",
       "      <td>13024</td>\n",
       "      <td>43</td>\n",
       "      <td>False</td>\n",
       "    </tr>\n",
       "  </tbody>\n",
       "</table>\n",
       "<p>651250 rows × 3 columns</p>\n",
       "</div>"
      ],
      "text/plain": [
       "        user_id item_id  Label\n",
       "0             0   14886  False\n",
       "1             0   14901  False\n",
       "2             0   14900  False\n",
       "3             0   14899  False\n",
       "4             0   14898  False\n",
       "...         ...     ...    ...\n",
       "651245    13024   10125  False\n",
       "651246    13024      24  False\n",
       "651247    13024    1069  False\n",
       "651248    13024     696  False\n",
       "651249    13024      43  False\n",
       "\n",
       "[651250 rows x 3 columns]"
      ]
     },
     "execution_count": 135,
     "metadata": {},
     "output_type": "execute_result"
    }
   ],
   "source": [
    "training_dataframe[\"Label\"] = training_dataframe[\"Exist\"] == \"both\"\n",
    "training_dataframe.drop(columns = ['Exist'], inplace=True)\n",
    "training_dataframe"
   ]
  },
  {
   "cell_type": "code",
   "execution_count": 136,
   "metadata": {},
   "outputs": [
    {
     "name": "stdout",
     "output_type": "stream",
     "text": [
      "TopPopRecommender: URM Detected 523 ( 4.0%) users with no interactions.\n",
      "TopPopRecommender: URM Detected 219 ( 1.0%) items with no interactions.\n"
     ]
    }
   ],
   "source": [
    "topPop = TopPop(URM_train)\n",
    "topPop.fit()"
   ]
  },
  {
   "cell_type": "code",
   "execution_count": 137,
   "metadata": {},
   "outputs": [],
   "source": [
    "other_algorithms = {\n",
    "    \"TopPop\": topPop,\n",
    "    \"ItemKNNCF\": itemknncf,\n",
    "    \"P3alpha\": p3alpha,\n",
    "    \"RP3beta\": rp3beta,\n",
    "    \"SLIM-E\": slime,\n",
    "    \"EASE_R\": ease,\n",
    "    \"UserKNNCF\": userknncf,\n",
    "    \"ItemHybrid\": itemhybrid,\n",
    "}"
   ]
  },
  {
   "cell_type": "code",
   "execution_count": 138,
   "metadata": {},
   "outputs": [
    {
     "name": "stderr",
     "output_type": "stream",
     "text": [
      "100%|███████████████████████████████████████████████████████████████████████████| 13025/13025 [00:40<00:00, 318.49it/s]\n"
     ]
    },
    {
     "data": {
      "text/html": [
       "<div>\n",
       "<style scoped>\n",
       "    .dataframe tbody tr th:only-of-type {\n",
       "        vertical-align: middle;\n",
       "    }\n",
       "\n",
       "    .dataframe tbody tr th {\n",
       "        vertical-align: top;\n",
       "    }\n",
       "\n",
       "    .dataframe thead th {\n",
       "        text-align: right;\n",
       "    }\n",
       "</style>\n",
       "<table border=\"1\" class=\"dataframe\">\n",
       "  <thead>\n",
       "    <tr style=\"text-align: right;\">\n",
       "      <th></th>\n",
       "      <th>user_id</th>\n",
       "      <th>item_id</th>\n",
       "      <th>Label</th>\n",
       "      <th>TopPop</th>\n",
       "      <th>ItemKNNCF</th>\n",
       "      <th>P3alpha</th>\n",
       "      <th>RP3beta</th>\n",
       "      <th>SLIM-E</th>\n",
       "      <th>EASE_R</th>\n",
       "      <th>UserKNNCF</th>\n",
       "      <th>ItemHybrid</th>\n",
       "    </tr>\n",
       "  </thead>\n",
       "  <tbody>\n",
       "    <tr>\n",
       "      <th>0</th>\n",
       "      <td>0</td>\n",
       "      <td>14886</td>\n",
       "      <td>False</td>\n",
       "      <td>9.0</td>\n",
       "      <td>0.000000</td>\n",
       "      <td>0.000000</td>\n",
       "      <td>0.000000</td>\n",
       "      <td>0.000000</td>\n",
       "      <td>0.000000</td>\n",
       "      <td>0.000000</td>\n",
       "      <td>0.000000</td>\n",
       "    </tr>\n",
       "    <tr>\n",
       "      <th>1</th>\n",
       "      <td>0</td>\n",
       "      <td>14901</td>\n",
       "      <td>False</td>\n",
       "      <td>7.0</td>\n",
       "      <td>0.000000</td>\n",
       "      <td>0.000000</td>\n",
       "      <td>0.000000</td>\n",
       "      <td>0.000000</td>\n",
       "      <td>0.000000</td>\n",
       "      <td>0.000000</td>\n",
       "      <td>0.000000</td>\n",
       "    </tr>\n",
       "    <tr>\n",
       "      <th>2</th>\n",
       "      <td>0</td>\n",
       "      <td>14900</td>\n",
       "      <td>False</td>\n",
       "      <td>5.0</td>\n",
       "      <td>0.000000</td>\n",
       "      <td>0.000000</td>\n",
       "      <td>0.000000</td>\n",
       "      <td>0.000000</td>\n",
       "      <td>0.000000</td>\n",
       "      <td>0.000000</td>\n",
       "      <td>0.000000</td>\n",
       "    </tr>\n",
       "    <tr>\n",
       "      <th>3</th>\n",
       "      <td>0</td>\n",
       "      <td>14899</td>\n",
       "      <td>False</td>\n",
       "      <td>4.0</td>\n",
       "      <td>0.000000</td>\n",
       "      <td>0.000000</td>\n",
       "      <td>0.000000</td>\n",
       "      <td>0.000000</td>\n",
       "      <td>0.000000</td>\n",
       "      <td>0.000000</td>\n",
       "      <td>0.000000</td>\n",
       "    </tr>\n",
       "    <tr>\n",
       "      <th>4</th>\n",
       "      <td>0</td>\n",
       "      <td>14898</td>\n",
       "      <td>False</td>\n",
       "      <td>7.0</td>\n",
       "      <td>0.000000</td>\n",
       "      <td>0.000000</td>\n",
       "      <td>0.000000</td>\n",
       "      <td>0.000000</td>\n",
       "      <td>0.000000</td>\n",
       "      <td>0.000000</td>\n",
       "      <td>0.000000</td>\n",
       "    </tr>\n",
       "    <tr>\n",
       "      <th>...</th>\n",
       "      <td>...</td>\n",
       "      <td>...</td>\n",
       "      <td>...</td>\n",
       "      <td>...</td>\n",
       "      <td>...</td>\n",
       "      <td>...</td>\n",
       "      <td>...</td>\n",
       "      <td>...</td>\n",
       "      <td>...</td>\n",
       "      <td>...</td>\n",
       "      <td>...</td>\n",
       "    </tr>\n",
       "    <tr>\n",
       "      <th>651245</th>\n",
       "      <td>13024</td>\n",
       "      <td>10125</td>\n",
       "      <td>False</td>\n",
       "      <td>9.0</td>\n",
       "      <td>0.255285</td>\n",
       "      <td>0.043667</td>\n",
       "      <td>0.067852</td>\n",
       "      <td>0.098157</td>\n",
       "      <td>0.072344</td>\n",
       "      <td>1.332146</td>\n",
       "      <td>0.455006</td>\n",
       "    </tr>\n",
       "    <tr>\n",
       "      <th>651246</th>\n",
       "      <td>13024</td>\n",
       "      <td>24</td>\n",
       "      <td>False</td>\n",
       "      <td>570.0</td>\n",
       "      <td>0.256824</td>\n",
       "      <td>0.000000</td>\n",
       "      <td>0.000000</td>\n",
       "      <td>0.129597</td>\n",
       "      <td>0.000000</td>\n",
       "      <td>3.041317</td>\n",
       "      <td>0.389825</td>\n",
       "    </tr>\n",
       "    <tr>\n",
       "      <th>651247</th>\n",
       "      <td>13024</td>\n",
       "      <td>1069</td>\n",
       "      <td>False</td>\n",
       "      <td>72.0</td>\n",
       "      <td>0.240426</td>\n",
       "      <td>0.061309</td>\n",
       "      <td>0.090716</td>\n",
       "      <td>0.115235</td>\n",
       "      <td>0.105858</td>\n",
       "      <td>4.787150</td>\n",
       "      <td>0.319857</td>\n",
       "    </tr>\n",
       "    <tr>\n",
       "      <th>651248</th>\n",
       "      <td>13024</td>\n",
       "      <td>696</td>\n",
       "      <td>False</td>\n",
       "      <td>87.0</td>\n",
       "      <td>0.204475</td>\n",
       "      <td>0.000000</td>\n",
       "      <td>0.000000</td>\n",
       "      <td>0.138367</td>\n",
       "      <td>0.000000</td>\n",
       "      <td>5.042644</td>\n",
       "      <td>0.302819</td>\n",
       "    </tr>\n",
       "    <tr>\n",
       "      <th>651249</th>\n",
       "      <td>13024</td>\n",
       "      <td>43</td>\n",
       "      <td>False</td>\n",
       "      <td>350.0</td>\n",
       "      <td>0.000000</td>\n",
       "      <td>0.058210</td>\n",
       "      <td>0.126658</td>\n",
       "      <td>0.150515</td>\n",
       "      <td>0.105803</td>\n",
       "      <td>2.966408</td>\n",
       "      <td>0.074310</td>\n",
       "    </tr>\n",
       "  </tbody>\n",
       "</table>\n",
       "<p>651250 rows × 11 columns</p>\n",
       "</div>"
      ],
      "text/plain": [
       "        user_id item_id  Label  TopPop  ItemKNNCF   P3alpha   RP3beta  \\\n",
       "0             0   14886  False     9.0   0.000000  0.000000  0.000000   \n",
       "1             0   14901  False     7.0   0.000000  0.000000  0.000000   \n",
       "2             0   14900  False     5.0   0.000000  0.000000  0.000000   \n",
       "3             0   14899  False     4.0   0.000000  0.000000  0.000000   \n",
       "4             0   14898  False     7.0   0.000000  0.000000  0.000000   \n",
       "...         ...     ...    ...     ...        ...       ...       ...   \n",
       "651245    13024   10125  False     9.0   0.255285  0.043667  0.067852   \n",
       "651246    13024      24  False   570.0   0.256824  0.000000  0.000000   \n",
       "651247    13024    1069  False    72.0   0.240426  0.061309  0.090716   \n",
       "651248    13024     696  False    87.0   0.204475  0.000000  0.000000   \n",
       "651249    13024      43  False   350.0   0.000000  0.058210  0.126658   \n",
       "\n",
       "          SLIM-E    EASE_R  UserKNNCF  ItemHybrid  \n",
       "0       0.000000  0.000000   0.000000    0.000000  \n",
       "1       0.000000  0.000000   0.000000    0.000000  \n",
       "2       0.000000  0.000000   0.000000    0.000000  \n",
       "3       0.000000  0.000000   0.000000    0.000000  \n",
       "4       0.000000  0.000000   0.000000    0.000000  \n",
       "...          ...       ...        ...         ...  \n",
       "651245  0.098157  0.072344   1.332146    0.455006  \n",
       "651246  0.129597  0.000000   3.041317    0.389825  \n",
       "651247  0.115235  0.105858   4.787150    0.319857  \n",
       "651248  0.138367  0.000000   5.042644    0.302819  \n",
       "651249  0.150515  0.105803   2.966408    0.074310  \n",
       "\n",
       "[651250 rows x 11 columns]"
      ]
     },
     "execution_count": 138,
     "metadata": {},
     "output_type": "execute_result"
    }
   ],
   "source": [
    "training_dataframe = training_dataframe.set_index('user_id')\n",
    "\n",
    "for user_id in tqdm(range(n_users)):  \n",
    "    for rec_label, rec_instance in other_algorithms.items():\n",
    "        \n",
    "        item_list = training_dataframe.loc[user_id, \"item_id\"].values.tolist()\n",
    "        \n",
    "        all_item_scores = rec_instance._compute_item_score([user_id], items_to_compute = item_list)\n",
    "\n",
    "        training_dataframe.loc[user_id, rec_label] = all_item_scores[0, item_list] \n",
    "\n",
    "training_dataframe = training_dataframe.reset_index()\n",
    "training_dataframe = training_dataframe.rename(columns = {\"index\": \"user_id\"})\n",
    "training_dataframe"
   ]
  },
  {
   "cell_type": "code",
   "execution_count": 139,
   "metadata": {},
   "outputs": [
    {
     "data": {
      "text/html": [
       "<div>\n",
       "<style scoped>\n",
       "    .dataframe tbody tr th:only-of-type {\n",
       "        vertical-align: middle;\n",
       "    }\n",
       "\n",
       "    .dataframe tbody tr th {\n",
       "        vertical-align: top;\n",
       "    }\n",
       "\n",
       "    .dataframe thead th {\n",
       "        text-align: right;\n",
       "    }\n",
       "</style>\n",
       "<table border=\"1\" class=\"dataframe\">\n",
       "  <thead>\n",
       "    <tr style=\"text-align: right;\">\n",
       "      <th></th>\n",
       "      <th>user_id</th>\n",
       "      <th>item_id</th>\n",
       "      <th>Label</th>\n",
       "      <th>TopPop</th>\n",
       "      <th>ItemKNNCF</th>\n",
       "      <th>P3alpha</th>\n",
       "      <th>RP3beta</th>\n",
       "      <th>SLIM-E</th>\n",
       "      <th>EASE_R</th>\n",
       "      <th>UserKNNCF</th>\n",
       "      <th>ItemHybrid</th>\n",
       "      <th>item_popularity</th>\n",
       "    </tr>\n",
       "  </thead>\n",
       "  <tbody>\n",
       "    <tr>\n",
       "      <th>0</th>\n",
       "      <td>0</td>\n",
       "      <td>14886</td>\n",
       "      <td>False</td>\n",
       "      <td>9.0</td>\n",
       "      <td>0.000000</td>\n",
       "      <td>0.000000</td>\n",
       "      <td>0.000000</td>\n",
       "      <td>0.000000</td>\n",
       "      <td>0.000000</td>\n",
       "      <td>0.000000</td>\n",
       "      <td>0.000000</td>\n",
       "      <td>9</td>\n",
       "    </tr>\n",
       "    <tr>\n",
       "      <th>1</th>\n",
       "      <td>0</td>\n",
       "      <td>14901</td>\n",
       "      <td>False</td>\n",
       "      <td>7.0</td>\n",
       "      <td>0.000000</td>\n",
       "      <td>0.000000</td>\n",
       "      <td>0.000000</td>\n",
       "      <td>0.000000</td>\n",
       "      <td>0.000000</td>\n",
       "      <td>0.000000</td>\n",
       "      <td>0.000000</td>\n",
       "      <td>7</td>\n",
       "    </tr>\n",
       "    <tr>\n",
       "      <th>2</th>\n",
       "      <td>0</td>\n",
       "      <td>14900</td>\n",
       "      <td>False</td>\n",
       "      <td>5.0</td>\n",
       "      <td>0.000000</td>\n",
       "      <td>0.000000</td>\n",
       "      <td>0.000000</td>\n",
       "      <td>0.000000</td>\n",
       "      <td>0.000000</td>\n",
       "      <td>0.000000</td>\n",
       "      <td>0.000000</td>\n",
       "      <td>5</td>\n",
       "    </tr>\n",
       "    <tr>\n",
       "      <th>3</th>\n",
       "      <td>0</td>\n",
       "      <td>14899</td>\n",
       "      <td>False</td>\n",
       "      <td>4.0</td>\n",
       "      <td>0.000000</td>\n",
       "      <td>0.000000</td>\n",
       "      <td>0.000000</td>\n",
       "      <td>0.000000</td>\n",
       "      <td>0.000000</td>\n",
       "      <td>0.000000</td>\n",
       "      <td>0.000000</td>\n",
       "      <td>4</td>\n",
       "    </tr>\n",
       "    <tr>\n",
       "      <th>4</th>\n",
       "      <td>0</td>\n",
       "      <td>14898</td>\n",
       "      <td>False</td>\n",
       "      <td>7.0</td>\n",
       "      <td>0.000000</td>\n",
       "      <td>0.000000</td>\n",
       "      <td>0.000000</td>\n",
       "      <td>0.000000</td>\n",
       "      <td>0.000000</td>\n",
       "      <td>0.000000</td>\n",
       "      <td>0.000000</td>\n",
       "      <td>7</td>\n",
       "    </tr>\n",
       "    <tr>\n",
       "      <th>...</th>\n",
       "      <td>...</td>\n",
       "      <td>...</td>\n",
       "      <td>...</td>\n",
       "      <td>...</td>\n",
       "      <td>...</td>\n",
       "      <td>...</td>\n",
       "      <td>...</td>\n",
       "      <td>...</td>\n",
       "      <td>...</td>\n",
       "      <td>...</td>\n",
       "      <td>...</td>\n",
       "      <td>...</td>\n",
       "    </tr>\n",
       "    <tr>\n",
       "      <th>651245</th>\n",
       "      <td>13024</td>\n",
       "      <td>10125</td>\n",
       "      <td>False</td>\n",
       "      <td>9.0</td>\n",
       "      <td>0.255285</td>\n",
       "      <td>0.043667</td>\n",
       "      <td>0.067852</td>\n",
       "      <td>0.098157</td>\n",
       "      <td>0.072344</td>\n",
       "      <td>1.332146</td>\n",
       "      <td>0.455006</td>\n",
       "      <td>9</td>\n",
       "    </tr>\n",
       "    <tr>\n",
       "      <th>651246</th>\n",
       "      <td>13024</td>\n",
       "      <td>24</td>\n",
       "      <td>False</td>\n",
       "      <td>570.0</td>\n",
       "      <td>0.256824</td>\n",
       "      <td>0.000000</td>\n",
       "      <td>0.000000</td>\n",
       "      <td>0.129597</td>\n",
       "      <td>0.000000</td>\n",
       "      <td>3.041317</td>\n",
       "      <td>0.389825</td>\n",
       "      <td>570</td>\n",
       "    </tr>\n",
       "    <tr>\n",
       "      <th>651247</th>\n",
       "      <td>13024</td>\n",
       "      <td>1069</td>\n",
       "      <td>False</td>\n",
       "      <td>72.0</td>\n",
       "      <td>0.240426</td>\n",
       "      <td>0.061309</td>\n",
       "      <td>0.090716</td>\n",
       "      <td>0.115235</td>\n",
       "      <td>0.105858</td>\n",
       "      <td>4.787150</td>\n",
       "      <td>0.319857</td>\n",
       "      <td>72</td>\n",
       "    </tr>\n",
       "    <tr>\n",
       "      <th>651248</th>\n",
       "      <td>13024</td>\n",
       "      <td>696</td>\n",
       "      <td>False</td>\n",
       "      <td>87.0</td>\n",
       "      <td>0.204475</td>\n",
       "      <td>0.000000</td>\n",
       "      <td>0.000000</td>\n",
       "      <td>0.138367</td>\n",
       "      <td>0.000000</td>\n",
       "      <td>5.042644</td>\n",
       "      <td>0.302819</td>\n",
       "      <td>87</td>\n",
       "    </tr>\n",
       "    <tr>\n",
       "      <th>651249</th>\n",
       "      <td>13024</td>\n",
       "      <td>43</td>\n",
       "      <td>False</td>\n",
       "      <td>350.0</td>\n",
       "      <td>0.000000</td>\n",
       "      <td>0.058210</td>\n",
       "      <td>0.126658</td>\n",
       "      <td>0.150515</td>\n",
       "      <td>0.105803</td>\n",
       "      <td>2.966408</td>\n",
       "      <td>0.074310</td>\n",
       "      <td>350</td>\n",
       "    </tr>\n",
       "  </tbody>\n",
       "</table>\n",
       "<p>651250 rows × 12 columns</p>\n",
       "</div>"
      ],
      "text/plain": [
       "        user_id item_id  Label  TopPop  ItemKNNCF   P3alpha   RP3beta  \\\n",
       "0             0   14886  False     9.0   0.000000  0.000000  0.000000   \n",
       "1             0   14901  False     7.0   0.000000  0.000000  0.000000   \n",
       "2             0   14900  False     5.0   0.000000  0.000000  0.000000   \n",
       "3             0   14899  False     4.0   0.000000  0.000000  0.000000   \n",
       "4             0   14898  False     7.0   0.000000  0.000000  0.000000   \n",
       "...         ...     ...    ...     ...        ...       ...       ...   \n",
       "651245    13024   10125  False     9.0   0.255285  0.043667  0.067852   \n",
       "651246    13024      24  False   570.0   0.256824  0.000000  0.000000   \n",
       "651247    13024    1069  False    72.0   0.240426  0.061309  0.090716   \n",
       "651248    13024     696  False    87.0   0.204475  0.000000  0.000000   \n",
       "651249    13024      43  False   350.0   0.000000  0.058210  0.126658   \n",
       "\n",
       "          SLIM-E    EASE_R  UserKNNCF  ItemHybrid  item_popularity  \n",
       "0       0.000000  0.000000   0.000000    0.000000                9  \n",
       "1       0.000000  0.000000   0.000000    0.000000                7  \n",
       "2       0.000000  0.000000   0.000000    0.000000                5  \n",
       "3       0.000000  0.000000   0.000000    0.000000                4  \n",
       "4       0.000000  0.000000   0.000000    0.000000                7  \n",
       "...          ...       ...        ...         ...              ...  \n",
       "651245  0.098157  0.072344   1.332146    0.455006                9  \n",
       "651246  0.129597  0.000000   3.041317    0.389825              570  \n",
       "651247  0.115235  0.105858   4.787150    0.319857               72  \n",
       "651248  0.138367  0.000000   5.042644    0.302819               87  \n",
       "651249  0.150515  0.105803   2.966408    0.074310              350  \n",
       "\n",
       "[651250 rows x 12 columns]"
      ]
     },
     "execution_count": 139,
     "metadata": {},
     "output_type": "execute_result"
    }
   ],
   "source": [
    "item_popularity = np.ediff1d(sps.csc_matrix(URM_train).indptr)\n",
    "\n",
    "training_dataframe['item_popularity'] = item_popularity[training_dataframe[\"item_id\"].values.astype(int)]\n",
    "training_dataframe"
   ]
  },
  {
   "cell_type": "code",
   "execution_count": 140,
   "metadata": {},
   "outputs": [
    {
     "data": {
      "text/html": [
       "<div>\n",
       "<style scoped>\n",
       "    .dataframe tbody tr th:only-of-type {\n",
       "        vertical-align: middle;\n",
       "    }\n",
       "\n",
       "    .dataframe tbody tr th {\n",
       "        vertical-align: top;\n",
       "    }\n",
       "\n",
       "    .dataframe thead th {\n",
       "        text-align: right;\n",
       "    }\n",
       "</style>\n",
       "<table border=\"1\" class=\"dataframe\">\n",
       "  <thead>\n",
       "    <tr style=\"text-align: right;\">\n",
       "      <th></th>\n",
       "      <th>user_id</th>\n",
       "      <th>item_id</th>\n",
       "      <th>Label</th>\n",
       "      <th>TopPop</th>\n",
       "      <th>ItemKNNCF</th>\n",
       "      <th>P3alpha</th>\n",
       "      <th>RP3beta</th>\n",
       "      <th>SLIM-E</th>\n",
       "      <th>EASE_R</th>\n",
       "      <th>UserKNNCF</th>\n",
       "      <th>ItemHybrid</th>\n",
       "      <th>item_popularity</th>\n",
       "      <th>user_profile_len</th>\n",
       "    </tr>\n",
       "  </thead>\n",
       "  <tbody>\n",
       "    <tr>\n",
       "      <th>0</th>\n",
       "      <td>0</td>\n",
       "      <td>14886</td>\n",
       "      <td>False</td>\n",
       "      <td>9.0</td>\n",
       "      <td>0.000000</td>\n",
       "      <td>0.000000</td>\n",
       "      <td>0.000000</td>\n",
       "      <td>0.000000</td>\n",
       "      <td>0.000000</td>\n",
       "      <td>0.000000</td>\n",
       "      <td>0.000000</td>\n",
       "      <td>9</td>\n",
       "      <td>0</td>\n",
       "    </tr>\n",
       "    <tr>\n",
       "      <th>1</th>\n",
       "      <td>0</td>\n",
       "      <td>14901</td>\n",
       "      <td>False</td>\n",
       "      <td>7.0</td>\n",
       "      <td>0.000000</td>\n",
       "      <td>0.000000</td>\n",
       "      <td>0.000000</td>\n",
       "      <td>0.000000</td>\n",
       "      <td>0.000000</td>\n",
       "      <td>0.000000</td>\n",
       "      <td>0.000000</td>\n",
       "      <td>7</td>\n",
       "      <td>0</td>\n",
       "    </tr>\n",
       "    <tr>\n",
       "      <th>2</th>\n",
       "      <td>0</td>\n",
       "      <td>14900</td>\n",
       "      <td>False</td>\n",
       "      <td>5.0</td>\n",
       "      <td>0.000000</td>\n",
       "      <td>0.000000</td>\n",
       "      <td>0.000000</td>\n",
       "      <td>0.000000</td>\n",
       "      <td>0.000000</td>\n",
       "      <td>0.000000</td>\n",
       "      <td>0.000000</td>\n",
       "      <td>5</td>\n",
       "      <td>0</td>\n",
       "    </tr>\n",
       "    <tr>\n",
       "      <th>3</th>\n",
       "      <td>0</td>\n",
       "      <td>14899</td>\n",
       "      <td>False</td>\n",
       "      <td>4.0</td>\n",
       "      <td>0.000000</td>\n",
       "      <td>0.000000</td>\n",
       "      <td>0.000000</td>\n",
       "      <td>0.000000</td>\n",
       "      <td>0.000000</td>\n",
       "      <td>0.000000</td>\n",
       "      <td>0.000000</td>\n",
       "      <td>4</td>\n",
       "      <td>0</td>\n",
       "    </tr>\n",
       "    <tr>\n",
       "      <th>4</th>\n",
       "      <td>0</td>\n",
       "      <td>14898</td>\n",
       "      <td>False</td>\n",
       "      <td>7.0</td>\n",
       "      <td>0.000000</td>\n",
       "      <td>0.000000</td>\n",
       "      <td>0.000000</td>\n",
       "      <td>0.000000</td>\n",
       "      <td>0.000000</td>\n",
       "      <td>0.000000</td>\n",
       "      <td>0.000000</td>\n",
       "      <td>7</td>\n",
       "      <td>0</td>\n",
       "    </tr>\n",
       "    <tr>\n",
       "      <th>...</th>\n",
       "      <td>...</td>\n",
       "      <td>...</td>\n",
       "      <td>...</td>\n",
       "      <td>...</td>\n",
       "      <td>...</td>\n",
       "      <td>...</td>\n",
       "      <td>...</td>\n",
       "      <td>...</td>\n",
       "      <td>...</td>\n",
       "      <td>...</td>\n",
       "      <td>...</td>\n",
       "      <td>...</td>\n",
       "      <td>...</td>\n",
       "    </tr>\n",
       "    <tr>\n",
       "      <th>651245</th>\n",
       "      <td>13024</td>\n",
       "      <td>10125</td>\n",
       "      <td>False</td>\n",
       "      <td>9.0</td>\n",
       "      <td>0.255285</td>\n",
       "      <td>0.043667</td>\n",
       "      <td>0.067852</td>\n",
       "      <td>0.098157</td>\n",
       "      <td>0.072344</td>\n",
       "      <td>1.332146</td>\n",
       "      <td>0.455006</td>\n",
       "      <td>9</td>\n",
       "      <td>59</td>\n",
       "    </tr>\n",
       "    <tr>\n",
       "      <th>651246</th>\n",
       "      <td>13024</td>\n",
       "      <td>24</td>\n",
       "      <td>False</td>\n",
       "      <td>570.0</td>\n",
       "      <td>0.256824</td>\n",
       "      <td>0.000000</td>\n",
       "      <td>0.000000</td>\n",
       "      <td>0.129597</td>\n",
       "      <td>0.000000</td>\n",
       "      <td>3.041317</td>\n",
       "      <td>0.389825</td>\n",
       "      <td>570</td>\n",
       "      <td>59</td>\n",
       "    </tr>\n",
       "    <tr>\n",
       "      <th>651247</th>\n",
       "      <td>13024</td>\n",
       "      <td>1069</td>\n",
       "      <td>False</td>\n",
       "      <td>72.0</td>\n",
       "      <td>0.240426</td>\n",
       "      <td>0.061309</td>\n",
       "      <td>0.090716</td>\n",
       "      <td>0.115235</td>\n",
       "      <td>0.105858</td>\n",
       "      <td>4.787150</td>\n",
       "      <td>0.319857</td>\n",
       "      <td>72</td>\n",
       "      <td>59</td>\n",
       "    </tr>\n",
       "    <tr>\n",
       "      <th>651248</th>\n",
       "      <td>13024</td>\n",
       "      <td>696</td>\n",
       "      <td>False</td>\n",
       "      <td>87.0</td>\n",
       "      <td>0.204475</td>\n",
       "      <td>0.000000</td>\n",
       "      <td>0.000000</td>\n",
       "      <td>0.138367</td>\n",
       "      <td>0.000000</td>\n",
       "      <td>5.042644</td>\n",
       "      <td>0.302819</td>\n",
       "      <td>87</td>\n",
       "      <td>59</td>\n",
       "    </tr>\n",
       "    <tr>\n",
       "      <th>651249</th>\n",
       "      <td>13024</td>\n",
       "      <td>43</td>\n",
       "      <td>False</td>\n",
       "      <td>350.0</td>\n",
       "      <td>0.000000</td>\n",
       "      <td>0.058210</td>\n",
       "      <td>0.126658</td>\n",
       "      <td>0.150515</td>\n",
       "      <td>0.105803</td>\n",
       "      <td>2.966408</td>\n",
       "      <td>0.074310</td>\n",
       "      <td>350</td>\n",
       "      <td>59</td>\n",
       "    </tr>\n",
       "  </tbody>\n",
       "</table>\n",
       "<p>651250 rows × 13 columns</p>\n",
       "</div>"
      ],
      "text/plain": [
       "        user_id item_id  Label  TopPop  ItemKNNCF   P3alpha   RP3beta  \\\n",
       "0             0   14886  False     9.0   0.000000  0.000000  0.000000   \n",
       "1             0   14901  False     7.0   0.000000  0.000000  0.000000   \n",
       "2             0   14900  False     5.0   0.000000  0.000000  0.000000   \n",
       "3             0   14899  False     4.0   0.000000  0.000000  0.000000   \n",
       "4             0   14898  False     7.0   0.000000  0.000000  0.000000   \n",
       "...         ...     ...    ...     ...        ...       ...       ...   \n",
       "651245    13024   10125  False     9.0   0.255285  0.043667  0.067852   \n",
       "651246    13024      24  False   570.0   0.256824  0.000000  0.000000   \n",
       "651247    13024    1069  False    72.0   0.240426  0.061309  0.090716   \n",
       "651248    13024     696  False    87.0   0.204475  0.000000  0.000000   \n",
       "651249    13024      43  False   350.0   0.000000  0.058210  0.126658   \n",
       "\n",
       "          SLIM-E    EASE_R  UserKNNCF  ItemHybrid  item_popularity  \\\n",
       "0       0.000000  0.000000   0.000000    0.000000                9   \n",
       "1       0.000000  0.000000   0.000000    0.000000                7   \n",
       "2       0.000000  0.000000   0.000000    0.000000                5   \n",
       "3       0.000000  0.000000   0.000000    0.000000                4   \n",
       "4       0.000000  0.000000   0.000000    0.000000                7   \n",
       "...          ...       ...        ...         ...              ...   \n",
       "651245  0.098157  0.072344   1.332146    0.455006                9   \n",
       "651246  0.129597  0.000000   3.041317    0.389825              570   \n",
       "651247  0.115235  0.105858   4.787150    0.319857               72   \n",
       "651248  0.138367  0.000000   5.042644    0.302819               87   \n",
       "651249  0.150515  0.105803   2.966408    0.074310              350   \n",
       "\n",
       "        user_profile_len  \n",
       "0                      0  \n",
       "1                      0  \n",
       "2                      0  \n",
       "3                      0  \n",
       "4                      0  \n",
       "...                  ...  \n",
       "651245                59  \n",
       "651246                59  \n",
       "651247                59  \n",
       "651248                59  \n",
       "651249                59  \n",
       "\n",
       "[651250 rows x 13 columns]"
      ]
     },
     "execution_count": 140,
     "metadata": {},
     "output_type": "execute_result"
    }
   ],
   "source": [
    "user_popularity = np.ediff1d(sps.csr_matrix(URM_train).indptr)\n",
    "\n",
    "training_dataframe['user_profile_len'] = user_popularity[training_dataframe[\"user_id\"].values.astype(int)]\n",
    "training_dataframe"
   ]
  },
  {
   "cell_type": "markdown",
   "metadata": {},
   "source": [
    "## After adding features"
   ]
  },
  {
   "cell_type": "code",
   "execution_count": 142,
   "metadata": {},
   "outputs": [
    {
     "data": {
      "text/html": [
       "<div>\n",
       "<style scoped>\n",
       "    .dataframe tbody tr th:only-of-type {\n",
       "        vertical-align: middle;\n",
       "    }\n",
       "\n",
       "    .dataframe tbody tr th {\n",
       "        vertical-align: top;\n",
       "    }\n",
       "\n",
       "    .dataframe thead th {\n",
       "        text-align: right;\n",
       "    }\n",
       "</style>\n",
       "<table border=\"1\" class=\"dataframe\">\n",
       "  <thead>\n",
       "    <tr style=\"text-align: right;\">\n",
       "      <th></th>\n",
       "      <th>user_id</th>\n",
       "      <th>item_id</th>\n",
       "      <th>Label</th>\n",
       "      <th>TopPop</th>\n",
       "      <th>ItemKNNCF</th>\n",
       "      <th>P3alpha</th>\n",
       "      <th>RP3beta</th>\n",
       "      <th>SLIM-E</th>\n",
       "      <th>EASE_R</th>\n",
       "      <th>UserKNNCF</th>\n",
       "      <th>ItemHybrid</th>\n",
       "      <th>item_popularity</th>\n",
       "      <th>user_profile_len</th>\n",
       "    </tr>\n",
       "  </thead>\n",
       "  <tbody>\n",
       "    <tr>\n",
       "      <th>0</th>\n",
       "      <td>0</td>\n",
       "      <td>14886</td>\n",
       "      <td>False</td>\n",
       "      <td>9.0</td>\n",
       "      <td>0.000000</td>\n",
       "      <td>0.000000</td>\n",
       "      <td>0.000000</td>\n",
       "      <td>0.000000</td>\n",
       "      <td>0.000000</td>\n",
       "      <td>0.000000</td>\n",
       "      <td>0.000000</td>\n",
       "      <td>9</td>\n",
       "      <td>0</td>\n",
       "    </tr>\n",
       "    <tr>\n",
       "      <th>1</th>\n",
       "      <td>0</td>\n",
       "      <td>14901</td>\n",
       "      <td>False</td>\n",
       "      <td>7.0</td>\n",
       "      <td>0.000000</td>\n",
       "      <td>0.000000</td>\n",
       "      <td>0.000000</td>\n",
       "      <td>0.000000</td>\n",
       "      <td>0.000000</td>\n",
       "      <td>0.000000</td>\n",
       "      <td>0.000000</td>\n",
       "      <td>7</td>\n",
       "      <td>0</td>\n",
       "    </tr>\n",
       "    <tr>\n",
       "      <th>2</th>\n",
       "      <td>0</td>\n",
       "      <td>14900</td>\n",
       "      <td>False</td>\n",
       "      <td>5.0</td>\n",
       "      <td>0.000000</td>\n",
       "      <td>0.000000</td>\n",
       "      <td>0.000000</td>\n",
       "      <td>0.000000</td>\n",
       "      <td>0.000000</td>\n",
       "      <td>0.000000</td>\n",
       "      <td>0.000000</td>\n",
       "      <td>5</td>\n",
       "      <td>0</td>\n",
       "    </tr>\n",
       "    <tr>\n",
       "      <th>3</th>\n",
       "      <td>0</td>\n",
       "      <td>14899</td>\n",
       "      <td>False</td>\n",
       "      <td>4.0</td>\n",
       "      <td>0.000000</td>\n",
       "      <td>0.000000</td>\n",
       "      <td>0.000000</td>\n",
       "      <td>0.000000</td>\n",
       "      <td>0.000000</td>\n",
       "      <td>0.000000</td>\n",
       "      <td>0.000000</td>\n",
       "      <td>4</td>\n",
       "      <td>0</td>\n",
       "    </tr>\n",
       "    <tr>\n",
       "      <th>4</th>\n",
       "      <td>0</td>\n",
       "      <td>14898</td>\n",
       "      <td>False</td>\n",
       "      <td>7.0</td>\n",
       "      <td>0.000000</td>\n",
       "      <td>0.000000</td>\n",
       "      <td>0.000000</td>\n",
       "      <td>0.000000</td>\n",
       "      <td>0.000000</td>\n",
       "      <td>0.000000</td>\n",
       "      <td>0.000000</td>\n",
       "      <td>7</td>\n",
       "      <td>0</td>\n",
       "    </tr>\n",
       "    <tr>\n",
       "      <th>...</th>\n",
       "      <td>...</td>\n",
       "      <td>...</td>\n",
       "      <td>...</td>\n",
       "      <td>...</td>\n",
       "      <td>...</td>\n",
       "      <td>...</td>\n",
       "      <td>...</td>\n",
       "      <td>...</td>\n",
       "      <td>...</td>\n",
       "      <td>...</td>\n",
       "      <td>...</td>\n",
       "      <td>...</td>\n",
       "      <td>...</td>\n",
       "    </tr>\n",
       "    <tr>\n",
       "      <th>651245</th>\n",
       "      <td>13024</td>\n",
       "      <td>10125</td>\n",
       "      <td>False</td>\n",
       "      <td>9.0</td>\n",
       "      <td>0.255285</td>\n",
       "      <td>0.043667</td>\n",
       "      <td>0.067852</td>\n",
       "      <td>0.098157</td>\n",
       "      <td>0.072344</td>\n",
       "      <td>1.332146</td>\n",
       "      <td>0.455006</td>\n",
       "      <td>9</td>\n",
       "      <td>59</td>\n",
       "    </tr>\n",
       "    <tr>\n",
       "      <th>651246</th>\n",
       "      <td>13024</td>\n",
       "      <td>24</td>\n",
       "      <td>False</td>\n",
       "      <td>570.0</td>\n",
       "      <td>0.256824</td>\n",
       "      <td>0.000000</td>\n",
       "      <td>0.000000</td>\n",
       "      <td>0.129597</td>\n",
       "      <td>0.000000</td>\n",
       "      <td>3.041317</td>\n",
       "      <td>0.389825</td>\n",
       "      <td>570</td>\n",
       "      <td>59</td>\n",
       "    </tr>\n",
       "    <tr>\n",
       "      <th>651247</th>\n",
       "      <td>13024</td>\n",
       "      <td>1069</td>\n",
       "      <td>False</td>\n",
       "      <td>72.0</td>\n",
       "      <td>0.240426</td>\n",
       "      <td>0.061309</td>\n",
       "      <td>0.090716</td>\n",
       "      <td>0.115235</td>\n",
       "      <td>0.105858</td>\n",
       "      <td>4.787150</td>\n",
       "      <td>0.319857</td>\n",
       "      <td>72</td>\n",
       "      <td>59</td>\n",
       "    </tr>\n",
       "    <tr>\n",
       "      <th>651248</th>\n",
       "      <td>13024</td>\n",
       "      <td>696</td>\n",
       "      <td>False</td>\n",
       "      <td>87.0</td>\n",
       "      <td>0.204475</td>\n",
       "      <td>0.000000</td>\n",
       "      <td>0.000000</td>\n",
       "      <td>0.138367</td>\n",
       "      <td>0.000000</td>\n",
       "      <td>5.042644</td>\n",
       "      <td>0.302819</td>\n",
       "      <td>87</td>\n",
       "      <td>59</td>\n",
       "    </tr>\n",
       "    <tr>\n",
       "      <th>651249</th>\n",
       "      <td>13024</td>\n",
       "      <td>43</td>\n",
       "      <td>False</td>\n",
       "      <td>350.0</td>\n",
       "      <td>0.000000</td>\n",
       "      <td>0.058210</td>\n",
       "      <td>0.126658</td>\n",
       "      <td>0.150515</td>\n",
       "      <td>0.105803</td>\n",
       "      <td>2.966408</td>\n",
       "      <td>0.074310</td>\n",
       "      <td>350</td>\n",
       "      <td>59</td>\n",
       "    </tr>\n",
       "  </tbody>\n",
       "</table>\n",
       "<p>651250 rows × 13 columns</p>\n",
       "</div>"
      ],
      "text/plain": [
       "        user_id  item_id  Label  TopPop  ItemKNNCF   P3alpha   RP3beta  \\\n",
       "0             0    14886  False     9.0   0.000000  0.000000  0.000000   \n",
       "1             0    14901  False     7.0   0.000000  0.000000  0.000000   \n",
       "2             0    14900  False     5.0   0.000000  0.000000  0.000000   \n",
       "3             0    14899  False     4.0   0.000000  0.000000  0.000000   \n",
       "4             0    14898  False     7.0   0.000000  0.000000  0.000000   \n",
       "...         ...      ...    ...     ...        ...       ...       ...   \n",
       "651245    13024    10125  False     9.0   0.255285  0.043667  0.067852   \n",
       "651246    13024       24  False   570.0   0.256824  0.000000  0.000000   \n",
       "651247    13024     1069  False    72.0   0.240426  0.061309  0.090716   \n",
       "651248    13024      696  False    87.0   0.204475  0.000000  0.000000   \n",
       "651249    13024       43  False   350.0   0.000000  0.058210  0.126658   \n",
       "\n",
       "          SLIM-E    EASE_R  UserKNNCF  ItemHybrid  item_popularity  \\\n",
       "0       0.000000  0.000000   0.000000    0.000000                9   \n",
       "1       0.000000  0.000000   0.000000    0.000000                7   \n",
       "2       0.000000  0.000000   0.000000    0.000000                5   \n",
       "3       0.000000  0.000000   0.000000    0.000000                4   \n",
       "4       0.000000  0.000000   0.000000    0.000000                7   \n",
       "...          ...       ...        ...         ...              ...   \n",
       "651245  0.098157  0.072344   1.332146    0.455006                9   \n",
       "651246  0.129597  0.000000   3.041317    0.389825              570   \n",
       "651247  0.115235  0.105858   4.787150    0.319857               72   \n",
       "651248  0.138367  0.000000   5.042644    0.302819               87   \n",
       "651249  0.150515  0.105803   2.966408    0.074310              350   \n",
       "\n",
       "        user_profile_len  \n",
       "0                      0  \n",
       "1                      0  \n",
       "2                      0  \n",
       "3                      0  \n",
       "4                      0  \n",
       "...                  ...  \n",
       "651245                59  \n",
       "651246                59  \n",
       "651247                59  \n",
       "651248                59  \n",
       "651249                59  \n",
       "\n",
       "[651250 rows x 13 columns]"
      ]
     },
     "execution_count": 142,
     "metadata": {},
     "output_type": "execute_result"
    }
   ],
   "source": [
    "training_dataframe = training_dataframe.set_index('user_id')\n",
    "training_dataframe = training_dataframe.reset_index()\n",
    "training_dataframe = training_dataframe.rename(columns = {\"index\": 'user_id'})\n",
    "training_dataframe"
   ]
  },
  {
   "cell_type": "code",
   "execution_count": 143,
   "metadata": {},
   "outputs": [
    {
     "data": {
      "text/html": [
       "<div>\n",
       "<style scoped>\n",
       "    .dataframe tbody tr th:only-of-type {\n",
       "        vertical-align: middle;\n",
       "    }\n",
       "\n",
       "    .dataframe tbody tr th {\n",
       "        vertical-align: top;\n",
       "    }\n",
       "\n",
       "    .dataframe thead th {\n",
       "        text-align: right;\n",
       "    }\n",
       "</style>\n",
       "<table border=\"1\" class=\"dataframe\">\n",
       "  <thead>\n",
       "    <tr style=\"text-align: right;\">\n",
       "      <th></th>\n",
       "      <th>user_id</th>\n",
       "      <th>item_id</th>\n",
       "      <th>Label</th>\n",
       "      <th>TopPop</th>\n",
       "      <th>ItemKNNCF</th>\n",
       "      <th>P3alpha</th>\n",
       "      <th>RP3beta</th>\n",
       "      <th>SLIM-E</th>\n",
       "      <th>EASE_R</th>\n",
       "      <th>UserKNNCF</th>\n",
       "      <th>ItemHybrid</th>\n",
       "      <th>item_popularity</th>\n",
       "      <th>user_profile_len</th>\n",
       "    </tr>\n",
       "  </thead>\n",
       "  <tbody>\n",
       "    <tr>\n",
       "      <th>0</th>\n",
       "      <td>0</td>\n",
       "      <td>14886</td>\n",
       "      <td>False</td>\n",
       "      <td>9.0</td>\n",
       "      <td>0.000000</td>\n",
       "      <td>0.000000</td>\n",
       "      <td>0.000000</td>\n",
       "      <td>0.000000</td>\n",
       "      <td>0.000000</td>\n",
       "      <td>0.000000</td>\n",
       "      <td>0.000000</td>\n",
       "      <td>9</td>\n",
       "      <td>0</td>\n",
       "    </tr>\n",
       "    <tr>\n",
       "      <th>1</th>\n",
       "      <td>0</td>\n",
       "      <td>14926</td>\n",
       "      <td>False</td>\n",
       "      <td>5.0</td>\n",
       "      <td>0.000000</td>\n",
       "      <td>0.000000</td>\n",
       "      <td>0.000000</td>\n",
       "      <td>0.000000</td>\n",
       "      <td>0.000000</td>\n",
       "      <td>0.000000</td>\n",
       "      <td>0.000000</td>\n",
       "      <td>5</td>\n",
       "      <td>0</td>\n",
       "    </tr>\n",
       "    <tr>\n",
       "      <th>2</th>\n",
       "      <td>0</td>\n",
       "      <td>14925</td>\n",
       "      <td>False</td>\n",
       "      <td>9.0</td>\n",
       "      <td>0.000000</td>\n",
       "      <td>0.000000</td>\n",
       "      <td>0.000000</td>\n",
       "      <td>0.000000</td>\n",
       "      <td>0.000000</td>\n",
       "      <td>0.000000</td>\n",
       "      <td>0.000000</td>\n",
       "      <td>9</td>\n",
       "      <td>0</td>\n",
       "    </tr>\n",
       "    <tr>\n",
       "      <th>3</th>\n",
       "      <td>0</td>\n",
       "      <td>14924</td>\n",
       "      <td>False</td>\n",
       "      <td>6.0</td>\n",
       "      <td>0.000000</td>\n",
       "      <td>0.000000</td>\n",
       "      <td>0.000000</td>\n",
       "      <td>0.000000</td>\n",
       "      <td>0.000000</td>\n",
       "      <td>0.000000</td>\n",
       "      <td>0.000000</td>\n",
       "      <td>6</td>\n",
       "      <td>0</td>\n",
       "    </tr>\n",
       "    <tr>\n",
       "      <th>4</th>\n",
       "      <td>0</td>\n",
       "      <td>14923</td>\n",
       "      <td>False</td>\n",
       "      <td>6.0</td>\n",
       "      <td>0.000000</td>\n",
       "      <td>0.000000</td>\n",
       "      <td>0.000000</td>\n",
       "      <td>0.000000</td>\n",
       "      <td>0.000000</td>\n",
       "      <td>0.000000</td>\n",
       "      <td>0.000000</td>\n",
       "      <td>6</td>\n",
       "      <td>0</td>\n",
       "    </tr>\n",
       "    <tr>\n",
       "      <th>...</th>\n",
       "      <td>...</td>\n",
       "      <td>...</td>\n",
       "      <td>...</td>\n",
       "      <td>...</td>\n",
       "      <td>...</td>\n",
       "      <td>...</td>\n",
       "      <td>...</td>\n",
       "      <td>...</td>\n",
       "      <td>...</td>\n",
       "      <td>...</td>\n",
       "      <td>...</td>\n",
       "      <td>...</td>\n",
       "      <td>...</td>\n",
       "    </tr>\n",
       "    <tr>\n",
       "      <th>651245</th>\n",
       "      <td>13024</td>\n",
       "      <td>11058</td>\n",
       "      <td>True</td>\n",
       "      <td>13.0</td>\n",
       "      <td>0.300752</td>\n",
       "      <td>0.086007</td>\n",
       "      <td>0.162755</td>\n",
       "      <td>0.198510</td>\n",
       "      <td>0.088448</td>\n",
       "      <td>5.069626</td>\n",
       "      <td>0.716538</td>\n",
       "      <td>13</td>\n",
       "      <td>59</td>\n",
       "    </tr>\n",
       "    <tr>\n",
       "      <th>651246</th>\n",
       "      <td>13024</td>\n",
       "      <td>554</td>\n",
       "      <td>True</td>\n",
       "      <td>113.0</td>\n",
       "      <td>0.366370</td>\n",
       "      <td>0.064209</td>\n",
       "      <td>0.133706</td>\n",
       "      <td>0.263935</td>\n",
       "      <td>0.296763</td>\n",
       "      <td>5.176641</td>\n",
       "      <td>0.406508</td>\n",
       "      <td>113</td>\n",
       "      <td>59</td>\n",
       "    </tr>\n",
       "    <tr>\n",
       "      <th>651247</th>\n",
       "      <td>13024</td>\n",
       "      <td>9590</td>\n",
       "      <td>False</td>\n",
       "      <td>10.0</td>\n",
       "      <td>0.729179</td>\n",
       "      <td>0.120036</td>\n",
       "      <td>0.181075</td>\n",
       "      <td>0.196558</td>\n",
       "      <td>0.151942</td>\n",
       "      <td>3.946443</td>\n",
       "      <td>0.645834</td>\n",
       "      <td>10</td>\n",
       "      <td>59</td>\n",
       "    </tr>\n",
       "    <tr>\n",
       "      <th>651248</th>\n",
       "      <td>13024</td>\n",
       "      <td>9059</td>\n",
       "      <td>False</td>\n",
       "      <td>13.0</td>\n",
       "      <td>0.540476</td>\n",
       "      <td>0.136707</td>\n",
       "      <td>0.224997</td>\n",
       "      <td>0.235551</td>\n",
       "      <td>0.141614</td>\n",
       "      <td>4.291100</td>\n",
       "      <td>0.942295</td>\n",
       "      <td>13</td>\n",
       "      <td>59</td>\n",
       "    </tr>\n",
       "    <tr>\n",
       "      <th>651249</th>\n",
       "      <td>13024</td>\n",
       "      <td>43</td>\n",
       "      <td>False</td>\n",
       "      <td>350.0</td>\n",
       "      <td>0.000000</td>\n",
       "      <td>0.058210</td>\n",
       "      <td>0.126658</td>\n",
       "      <td>0.150515</td>\n",
       "      <td>0.105803</td>\n",
       "      <td>2.966408</td>\n",
       "      <td>0.074310</td>\n",
       "      <td>350</td>\n",
       "      <td>59</td>\n",
       "    </tr>\n",
       "  </tbody>\n",
       "</table>\n",
       "<p>651250 rows × 13 columns</p>\n",
       "</div>"
      ],
      "text/plain": [
       "        user_id  item_id  Label  TopPop  ItemKNNCF   P3alpha   RP3beta  \\\n",
       "0             0    14886  False     9.0   0.000000  0.000000  0.000000   \n",
       "1             0    14926  False     5.0   0.000000  0.000000  0.000000   \n",
       "2             0    14925  False     9.0   0.000000  0.000000  0.000000   \n",
       "3             0    14924  False     6.0   0.000000  0.000000  0.000000   \n",
       "4             0    14923  False     6.0   0.000000  0.000000  0.000000   \n",
       "...         ...      ...    ...     ...        ...       ...       ...   \n",
       "651245    13024    11058   True    13.0   0.300752  0.086007  0.162755   \n",
       "651246    13024      554   True   113.0   0.366370  0.064209  0.133706   \n",
       "651247    13024     9590  False    10.0   0.729179  0.120036  0.181075   \n",
       "651248    13024     9059  False    13.0   0.540476  0.136707  0.224997   \n",
       "651249    13024       43  False   350.0   0.000000  0.058210  0.126658   \n",
       "\n",
       "          SLIM-E    EASE_R  UserKNNCF  ItemHybrid  item_popularity  \\\n",
       "0       0.000000  0.000000   0.000000    0.000000                9   \n",
       "1       0.000000  0.000000   0.000000    0.000000                5   \n",
       "2       0.000000  0.000000   0.000000    0.000000                9   \n",
       "3       0.000000  0.000000   0.000000    0.000000                6   \n",
       "4       0.000000  0.000000   0.000000    0.000000                6   \n",
       "...          ...       ...        ...         ...              ...   \n",
       "651245  0.198510  0.088448   5.069626    0.716538               13   \n",
       "651246  0.263935  0.296763   5.176641    0.406508              113   \n",
       "651247  0.196558  0.151942   3.946443    0.645834               10   \n",
       "651248  0.235551  0.141614   4.291100    0.942295               13   \n",
       "651249  0.150515  0.105803   2.966408    0.074310              350   \n",
       "\n",
       "        user_profile_len  \n",
       "0                      0  \n",
       "1                      0  \n",
       "2                      0  \n",
       "3                      0  \n",
       "4                      0  \n",
       "...                  ...  \n",
       "651245                59  \n",
       "651246                59  \n",
       "651247                59  \n",
       "651248                59  \n",
       "651249                59  \n",
       "\n",
       "[651250 rows x 13 columns]"
      ]
     },
     "execution_count": 143,
     "metadata": {},
     "output_type": "execute_result"
    }
   ],
   "source": [
    "training_dataframe = training_dataframe.sort_values(\"user_id\").reset_index()\n",
    "training_dataframe.drop(columns = ['index'], inplace=True)\n",
    "training_dataframe"
   ]
  },
  {
   "cell_type": "code",
   "execution_count": 144,
   "metadata": {},
   "outputs": [
    {
     "data": {
      "text/plain": [
       "array([50, 50, 50, ..., 50, 50, 50], dtype=int64)"
      ]
     },
     "execution_count": 144,
     "metadata": {},
     "output_type": "execute_result"
    }
   ],
   "source": [
    "groups = training_dataframe.groupby(\"user_id\").size().values\n",
    "groups"
   ]
  },
  {
   "cell_type": "code",
   "execution_count": 145,
   "metadata": {},
   "outputs": [],
   "source": [
    "y_train = training_dataframe[\"Label\"]\n",
    "X_train = training_dataframe.drop(columns=[\"Label\"])"
   ]
  },
  {
   "cell_type": "code",
   "execution_count": 146,
   "metadata": {},
   "outputs": [],
   "source": [
    "X_train[\"user_id\"] = X_train[\"user_id\"].astype(\"category\")\n",
    "X_train[\"item_id\"] = X_train[\"item_id\"].astype(\"category\")"
   ]
  },
  {
   "cell_type": "code",
   "execution_count": 147,
   "metadata": {},
   "outputs": [],
   "source": [
    "n_estimators = 200\n",
    "learning_rate = 0.1\n",
    "reg_alpha = 1\n",
    "reg_lambda = 0.1\n",
    "max_depth = 3\n",
    "max_leaves = 0\n",
    "grow_policy = \"depthwise\"\n",
    "objective = \"pairwise\"\n",
    "booster = \"gbtree\"\n",
    "use_user_profile = False\n",
    "random_seed = None\n",
    "\n",
    "colsample_bytree = 0.5\n",
    "gamma = 5\n",
    "min_child_weight = 5.0\n",
    "\n",
    "\n",
    "XGB_model = XGBRanker(objective='rank:{}'.format(objective),\n",
    "                      n_estimators = int(n_estimators),\n",
    "                      random_state = random_seed,\n",
    "                      learning_rate = learning_rate,\n",
    "                      reg_alpha = reg_alpha,\n",
    "                      reg_lambda = reg_lambda,\n",
    "                      max_depth = int(max_depth),\n",
    "                      max_leaves = int(max_leaves),\n",
    "                      grow_policy = grow_policy,\n",
    "                      verbosity = 2, # 2 if self.verbose else 0,\n",
    "                      booster = booster,\n",
    "                      enable_categorical = True,\n",
    "                      colsample_bytree = colsample_bytree,\n",
    "                      gamma = gamma,\n",
    "                      min_child_weight = min_child_weight,\n",
    "                      tree_method = \"hist\",  # Supported tree methods are `gpu_hist`, `approx`, and `hist`.\n",
    "                      )"
   ]
  },
  {
   "cell_type": "code",
   "execution_count": 148,
   "metadata": {},
   "outputs": [
    {
     "data": {
      "text/html": [
       "<style>#sk-container-id-3 {color: black;}#sk-container-id-3 pre{padding: 0;}#sk-container-id-3 div.sk-toggleable {background-color: white;}#sk-container-id-3 label.sk-toggleable__label {cursor: pointer;display: block;width: 100%;margin-bottom: 0;padding: 0.3em;box-sizing: border-box;text-align: center;}#sk-container-id-3 label.sk-toggleable__label-arrow:before {content: \"▸\";float: left;margin-right: 0.25em;color: #696969;}#sk-container-id-3 label.sk-toggleable__label-arrow:hover:before {color: black;}#sk-container-id-3 div.sk-estimator:hover label.sk-toggleable__label-arrow:before {color: black;}#sk-container-id-3 div.sk-toggleable__content {max-height: 0;max-width: 0;overflow: hidden;text-align: left;background-color: #f0f8ff;}#sk-container-id-3 div.sk-toggleable__content pre {margin: 0.2em;color: black;border-radius: 0.25em;background-color: #f0f8ff;}#sk-container-id-3 input.sk-toggleable__control:checked~div.sk-toggleable__content {max-height: 200px;max-width: 100%;overflow: auto;}#sk-container-id-3 input.sk-toggleable__control:checked~label.sk-toggleable__label-arrow:before {content: \"▾\";}#sk-container-id-3 div.sk-estimator input.sk-toggleable__control:checked~label.sk-toggleable__label {background-color: #d4ebff;}#sk-container-id-3 div.sk-label input.sk-toggleable__control:checked~label.sk-toggleable__label {background-color: #d4ebff;}#sk-container-id-3 input.sk-hidden--visually {border: 0;clip: rect(1px 1px 1px 1px);clip: rect(1px, 1px, 1px, 1px);height: 1px;margin: -1px;overflow: hidden;padding: 0;position: absolute;width: 1px;}#sk-container-id-3 div.sk-estimator {font-family: monospace;background-color: #f0f8ff;border: 1px dotted black;border-radius: 0.25em;box-sizing: border-box;margin-bottom: 0.5em;}#sk-container-id-3 div.sk-estimator:hover {background-color: #d4ebff;}#sk-container-id-3 div.sk-parallel-item::after {content: \"\";width: 100%;border-bottom: 1px solid gray;flex-grow: 1;}#sk-container-id-3 div.sk-label:hover label.sk-toggleable__label {background-color: #d4ebff;}#sk-container-id-3 div.sk-serial::before {content: \"\";position: absolute;border-left: 1px solid gray;box-sizing: border-box;top: 0;bottom: 0;left: 50%;z-index: 0;}#sk-container-id-3 div.sk-serial {display: flex;flex-direction: column;align-items: center;background-color: white;padding-right: 0.2em;padding-left: 0.2em;position: relative;}#sk-container-id-3 div.sk-item {position: relative;z-index: 1;}#sk-container-id-3 div.sk-parallel {display: flex;align-items: stretch;justify-content: center;background-color: white;position: relative;}#sk-container-id-3 div.sk-item::before, #sk-container-id-3 div.sk-parallel-item::before {content: \"\";position: absolute;border-left: 1px solid gray;box-sizing: border-box;top: 0;bottom: 0;left: 50%;z-index: -1;}#sk-container-id-3 div.sk-parallel-item {display: flex;flex-direction: column;z-index: 1;position: relative;background-color: white;}#sk-container-id-3 div.sk-parallel-item:first-child::after {align-self: flex-end;width: 50%;}#sk-container-id-3 div.sk-parallel-item:last-child::after {align-self: flex-start;width: 50%;}#sk-container-id-3 div.sk-parallel-item:only-child::after {width: 0;}#sk-container-id-3 div.sk-dashed-wrapped {border: 1px dashed gray;margin: 0 0.4em 0.5em 0.4em;box-sizing: border-box;padding-bottom: 0.4em;background-color: white;}#sk-container-id-3 div.sk-label label {font-family: monospace;font-weight: bold;display: inline-block;line-height: 1.2em;}#sk-container-id-3 div.sk-label-container {text-align: center;}#sk-container-id-3 div.sk-container {/* jupyter's `normalize.less` sets `[hidden] { display: none; }` but bootstrap.min.css set `[hidden] { display: none !important; }` so we also need the `!important` here to be able to override the default hidden behavior on the sphinx rendered scikit-learn.org. See: https://github.com/scikit-learn/scikit-learn/issues/21755 */display: inline-block !important;position: relative;}#sk-container-id-3 div.sk-text-repr-fallback {display: none;}</style><div id=\"sk-container-id-3\" class=\"sk-top-container\"><div class=\"sk-text-repr-fallback\"><pre>XGBRanker(base_score=None, booster=&#x27;gbtree&#x27;, callbacks=None,\n",
       "          colsample_bylevel=None, colsample_bynode=None, colsample_bytree=0.5,\n",
       "          device=None, early_stopping_rounds=None, enable_categorical=True,\n",
       "          eval_metric=None, feature_types=None, gamma=5,\n",
       "          grow_policy=&#x27;depthwise&#x27;, importance_type=None,\n",
       "          interaction_constraints=None, learning_rate=0.1, max_bin=None,\n",
       "          max_cat_threshold=None, max_cat_to_onehot=None, max_delta_step=None,\n",
       "          max_depth=3, max_leaves=0, min_child_weight=5.0, missing=nan,\n",
       "          monotone_constraints=None, multi_strategy=None, n_estimators=200,\n",
       "          n_jobs=None, num_parallel_tree=None, objective=&#x27;rank:pairwise&#x27;, ...)</pre><b>In a Jupyter environment, please rerun this cell to show the HTML representation or trust the notebook. <br />On GitHub, the HTML representation is unable to render, please try loading this page with nbviewer.org.</b></div><div class=\"sk-container\" hidden><div class=\"sk-item\"><div class=\"sk-estimator sk-toggleable\"><input class=\"sk-toggleable__control sk-hidden--visually\" id=\"sk-estimator-id-3\" type=\"checkbox\" checked><label for=\"sk-estimator-id-3\" class=\"sk-toggleable__label sk-toggleable__label-arrow\">XGBRanker</label><div class=\"sk-toggleable__content\"><pre>XGBRanker(base_score=None, booster=&#x27;gbtree&#x27;, callbacks=None,\n",
       "          colsample_bylevel=None, colsample_bynode=None, colsample_bytree=0.5,\n",
       "          device=None, early_stopping_rounds=None, enable_categorical=True,\n",
       "          eval_metric=None, feature_types=None, gamma=5,\n",
       "          grow_policy=&#x27;depthwise&#x27;, importance_type=None,\n",
       "          interaction_constraints=None, learning_rate=0.1, max_bin=None,\n",
       "          max_cat_threshold=None, max_cat_to_onehot=None, max_delta_step=None,\n",
       "          max_depth=3, max_leaves=0, min_child_weight=5.0, missing=nan,\n",
       "          monotone_constraints=None, multi_strategy=None, n_estimators=200,\n",
       "          n_jobs=None, num_parallel_tree=None, objective=&#x27;rank:pairwise&#x27;, ...)</pre></div></div></div></div></div>"
      ],
      "text/plain": [
       "XGBRanker(base_score=None, booster='gbtree', callbacks=None,\n",
       "          colsample_bylevel=None, colsample_bynode=None, colsample_bytree=0.5,\n",
       "          device=None, early_stopping_rounds=None, enable_categorical=True,\n",
       "          eval_metric=None, feature_types=None, gamma=5,\n",
       "          grow_policy='depthwise', importance_type=None,\n",
       "          interaction_constraints=None, learning_rate=0.1, max_bin=None,\n",
       "          max_cat_threshold=None, max_cat_to_onehot=None, max_delta_step=None,\n",
       "          max_depth=3, max_leaves=0, min_child_weight=5.0, missing=nan,\n",
       "          monotone_constraints=None, multi_strategy=None, n_estimators=200,\n",
       "          n_jobs=None, num_parallel_tree=None, objective='rank:pairwise', ...)"
      ]
     },
     "execution_count": 148,
     "metadata": {},
     "output_type": "execute_result"
    }
   ],
   "source": [
    "XGB_model.fit(X_train,\n",
    "          y_train,\n",
    "          group=groups,\n",
    "          verbose=True)"
   ]
  },
  {
   "cell_type": "code",
   "execution_count": 149,
   "metadata": {},
   "outputs": [],
   "source": [
    "%matplotlib inline\n",
    "from xgboost import plot_importance"
   ]
  },
  {
   "cell_type": "code",
   "execution_count": 150,
   "metadata": {
    "scrolled": false
   },
   "outputs": [
    {
     "data": {
      "text/plain": [
       "<Axes: title={'center': 'Weight (Frequence)'}, xlabel='F score', ylabel='Features'>"
      ]
     },
     "execution_count": 150,
     "metadata": {},
     "output_type": "execute_result"
    },
    {
     "data": {
      "image/png": "[encoded data removed]",
      "text/plain": [
       "<Figure size 640x480 with 1 Axes>"
      ]
     },
     "metadata": {},
     "output_type": "display_data"
    }
   ],
   "source": [
    "plot_importance(XGB_model, importance_type='weight', title='Weight (Frequence)')"
   ]
  },
  {
   "cell_type": "code",
   "execution_count": 151,
   "metadata": {},
   "outputs": [],
   "source": [
    "def cut(array, at=10):\n",
    "    return np.argsort(array)[::-1][:at]"
   ]
  },
  {
   "cell_type": "code",
   "execution_count": 154,
   "metadata": {},
   "outputs": [],
   "source": [
    "from Recommenders.BaseRecommender import BaseRecommender"
   ]
  },
  {
   "cell_type": "code",
   "execution_count": 167,
   "metadata": {},
   "outputs": [],
   "source": [
    "class BohRecommender(BaseRecommender):\n",
    "    def fit(self, XGB):\n",
    "        self.XGB = XGB\n",
    "    def recommend(self, user_id, cutoff=10, **kwargs):\n",
    "        res = []\n",
    "        for x in cut(self.XGB.predict(X_to_predict), cutoff):\n",
    "            res.append(X_train[X_train[\"user_id\"]==user_id][\"item_id\"][X_train[X_train[\"user_id\"]==user_id][\"item_id\"].index[x]])\n",
    "            \n",
    "        return res"
   ]
  },
  {
   "cell_type": "code",
   "execution_count": 168,
   "metadata": {},
   "outputs": [
    {
     "name": "stdout",
     "output_type": "stream",
     "text": [
      "Recommender_Base_Class: URM Detected 523 ( 4.0%) users with no interactions.\n",
      "Recommender_Base_Class: URM Detected 219 ( 1.0%) items with no interactions.\n"
     ]
    }
   ],
   "source": [
    "boh = BohRecommender(URM_train)"
   ]
  },
  {
   "cell_type": "code",
   "execution_count": 169,
   "metadata": {},
   "outputs": [],
   "source": [
    "boh.fit(XGB_model)"
   ]
  },
  {
   "cell_type": "code",
   "execution_count": 170,
   "metadata": {},
   "outputs": [
    {
     "ename": "ValueError",
     "evalue": "('Lengths must match to compare', (651250,), (1000,))",
     "output_type": "error",
     "traceback": [
      "\u001b[1;31m---------------------------------------------------------------------------\u001b[0m",
      "\u001b[1;31mValueError\u001b[0m                                Traceback (most recent call last)",
      "Cell \u001b[1;32mIn[170], line 1\u001b[0m\n\u001b[1;32m----> 1\u001b[0m result, _ \u001b[38;5;241m=\u001b[39m \u001b[43mevaluator_test\u001b[49m\u001b[38;5;241;43m.\u001b[39;49m\u001b[43mevaluateRecommender\u001b[49m\u001b[43m(\u001b[49m\u001b[43mboh\u001b[49m\u001b[43m)\u001b[49m\n\u001b[0;32m      2\u001b[0m result\u001b[38;5;241m.\u001b[39mloc[\u001b[38;5;241m10\u001b[39m]\n",
      "File \u001b[1;32mD:\\Uni\\Magistrale\\Recommender Systems\\23-24 challenge\\Evaluation\\Evaluator.py:276\u001b[0m, in \u001b[0;36mEvaluator.evaluateRecommender\u001b[1;34m(self, recommender_object)\u001b[0m\n\u001b[0;32m    273\u001b[0m \u001b[38;5;28mself\u001b[39m\u001b[38;5;241m.\u001b[39m_start_time_print \u001b[38;5;241m=\u001b[39m time\u001b[38;5;241m.\u001b[39mtime()\n\u001b[0;32m    274\u001b[0m \u001b[38;5;28mself\u001b[39m\u001b[38;5;241m.\u001b[39m_n_users_evaluated \u001b[38;5;241m=\u001b[39m \u001b[38;5;241m0\u001b[39m\n\u001b[1;32m--> 276\u001b[0m results_dict \u001b[38;5;241m=\u001b[39m \u001b[38;5;28;43mself\u001b[39;49m\u001b[38;5;241;43m.\u001b[39;49m\u001b[43m_run_evaluation_on_selected_users\u001b[49m\u001b[43m(\u001b[49m\u001b[43mrecommender_object\u001b[49m\u001b[43m,\u001b[49m\u001b[43m \u001b[49m\u001b[38;5;28;43mself\u001b[39;49m\u001b[38;5;241;43m.\u001b[39;49m\u001b[43musers_to_evaluate\u001b[49m\u001b[43m)\u001b[49m\n\u001b[0;32m    279\u001b[0m \u001b[38;5;28;01mif\u001b[39;00m \u001b[38;5;28mself\u001b[39m\u001b[38;5;241m.\u001b[39m_n_users_evaluated \u001b[38;5;241m>\u001b[39m \u001b[38;5;241m0\u001b[39m:\n\u001b[0;32m    281\u001b[0m     \u001b[38;5;28;01mfor\u001b[39;00m cutoff \u001b[38;5;129;01min\u001b[39;00m \u001b[38;5;28mself\u001b[39m\u001b[38;5;241m.\u001b[39mcutoff_list:\n",
      "File \u001b[1;32mD:\\Uni\\Magistrale\\Recommender Systems\\23-24 challenge\\Evaluation\\Evaluator.py:476\u001b[0m, in \u001b[0;36mEvaluatorHoldout._run_evaluation_on_selected_users\u001b[1;34m(self, recommender_object, users_to_evaluate, block_size)\u001b[0m\n\u001b[0;32m    473\u001b[0m     user_batch_start \u001b[38;5;241m=\u001b[39m user_batch_end\n\u001b[0;32m    475\u001b[0m     \u001b[38;5;66;03m# Compute predictions for a batch of users using vectorization, much more efficient than computing it one at a time\u001b[39;00m\n\u001b[1;32m--> 476\u001b[0m     recommended_items_batch_list, scores_batch \u001b[38;5;241m=\u001b[39m \u001b[43mrecommender_object\u001b[49m\u001b[38;5;241;43m.\u001b[39;49m\u001b[43mrecommend\u001b[49m\u001b[43m(\u001b[49m\u001b[43mtest_user_batch_array\u001b[49m\u001b[43m,\u001b[49m\n\u001b[0;32m    477\u001b[0m \u001b[43m                                                              \u001b[49m\u001b[43mremove_seen_flag\u001b[49m\u001b[38;5;241;43m=\u001b[39;49m\u001b[38;5;28;43mself\u001b[39;49m\u001b[38;5;241;43m.\u001b[39;49m\u001b[43mexclude_seen\u001b[49m\u001b[43m,\u001b[49m\n\u001b[0;32m    478\u001b[0m \u001b[43m                                                              \u001b[49m\u001b[43mcutoff\u001b[49m\u001b[43m \u001b[49m\u001b[38;5;241;43m=\u001b[39;49m\u001b[43m \u001b[49m\u001b[38;5;28;43mself\u001b[39;49m\u001b[38;5;241;43m.\u001b[39;49m\u001b[43mmax_cutoff\u001b[49m\u001b[43m,\u001b[49m\n\u001b[0;32m    479\u001b[0m \u001b[43m                                                              \u001b[49m\u001b[43mremove_top_pop_flag\u001b[49m\u001b[38;5;241;43m=\u001b[39;49m\u001b[38;5;28;43;01mFalse\u001b[39;49;00m\u001b[43m,\u001b[49m\n\u001b[0;32m    480\u001b[0m \u001b[43m                                                              \u001b[49m\u001b[43mremove_custom_items_flag\u001b[49m\u001b[38;5;241;43m=\u001b[39;49m\u001b[38;5;28;43mself\u001b[39;49m\u001b[38;5;241;43m.\u001b[39;49m\u001b[43mignore_items_flag\u001b[49m\u001b[43m,\u001b[49m\n\u001b[0;32m    481\u001b[0m \u001b[43m                                                              \u001b[49m\u001b[43mreturn_scores\u001b[49m\u001b[43m \u001b[49m\u001b[38;5;241;43m=\u001b[39;49m\u001b[43m \u001b[49m\u001b[38;5;28;43;01mTrue\u001b[39;49;00m\n\u001b[0;32m    482\u001b[0m \u001b[43m                                                             \u001b[49m\u001b[43m)\u001b[49m\n\u001b[0;32m    484\u001b[0m     results_dict \u001b[38;5;241m=\u001b[39m \u001b[38;5;28mself\u001b[39m\u001b[38;5;241m.\u001b[39m_compute_metrics_on_recommendation_list(test_user_batch_array \u001b[38;5;241m=\u001b[39m test_user_batch_array,\n\u001b[0;32m    485\u001b[0m                                                  recommended_items_batch_list \u001b[38;5;241m=\u001b[39m recommended_items_batch_list,\n\u001b[0;32m    486\u001b[0m                                                  scores_batch \u001b[38;5;241m=\u001b[39m scores_batch,\n\u001b[0;32m    487\u001b[0m                                                  results_dict \u001b[38;5;241m=\u001b[39m results_dict)\n\u001b[0;32m    490\u001b[0m \u001b[38;5;28;01mreturn\u001b[39;00m results_dict\n",
      "Cell \u001b[1;32mIn[167], line 7\u001b[0m, in \u001b[0;36mBohRecommender.recommend\u001b[1;34m(self, user_id, cutoff, **kwargs)\u001b[0m\n\u001b[0;32m      5\u001b[0m res \u001b[38;5;241m=\u001b[39m []\n\u001b[0;32m      6\u001b[0m \u001b[38;5;28;01mfor\u001b[39;00m x \u001b[38;5;129;01min\u001b[39;00m cut(\u001b[38;5;28mself\u001b[39m\u001b[38;5;241m.\u001b[39mXGB\u001b[38;5;241m.\u001b[39mpredict(X_to_predict), cutoff):\n\u001b[1;32m----> 7\u001b[0m     res\u001b[38;5;241m.\u001b[39mappend(X_train[\u001b[43mX_train\u001b[49m\u001b[43m[\u001b[49m\u001b[38;5;124;43m\"\u001b[39;49m\u001b[38;5;124;43muser_id\u001b[39;49m\u001b[38;5;124;43m\"\u001b[39;49m\u001b[43m]\u001b[49m\u001b[38;5;241;43m==\u001b[39;49m\u001b[43muser_id\u001b[49m][\u001b[38;5;124m\"\u001b[39m\u001b[38;5;124mitem_id\u001b[39m\u001b[38;5;124m\"\u001b[39m][X_train[X_train[\u001b[38;5;124m\"\u001b[39m\u001b[38;5;124muser_id\u001b[39m\u001b[38;5;124m\"\u001b[39m]\u001b[38;5;241m==\u001b[39muser_id][\u001b[38;5;124m\"\u001b[39m\u001b[38;5;124mitem_id\u001b[39m\u001b[38;5;124m\"\u001b[39m]\u001b[38;5;241m.\u001b[39mindex[x]])\n\u001b[0;32m      9\u001b[0m \u001b[38;5;28;01mreturn\u001b[39;00m res\n",
      "File \u001b[1;32m~\\.conda\\envs\\RecSysFramework\\lib\\site-packages\\pandas\\core\\ops\\common.py:81\u001b[0m, in \u001b[0;36m_unpack_zerodim_and_defer.<locals>.new_method\u001b[1;34m(self, other)\u001b[0m\n\u001b[0;32m     77\u001b[0m             \u001b[38;5;28;01mreturn\u001b[39;00m \u001b[38;5;28mNotImplemented\u001b[39m\n\u001b[0;32m     79\u001b[0m other \u001b[38;5;241m=\u001b[39m item_from_zerodim(other)\n\u001b[1;32m---> 81\u001b[0m \u001b[38;5;28;01mreturn\u001b[39;00m \u001b[43mmethod\u001b[49m\u001b[43m(\u001b[49m\u001b[38;5;28;43mself\u001b[39;49m\u001b[43m,\u001b[49m\u001b[43m \u001b[49m\u001b[43mother\u001b[49m\u001b[43m)\u001b[49m\n",
      "File \u001b[1;32m~\\.conda\\envs\\RecSysFramework\\lib\\site-packages\\pandas\\core\\arraylike.py:40\u001b[0m, in \u001b[0;36mOpsMixin.__eq__\u001b[1;34m(self, other)\u001b[0m\n\u001b[0;32m     38\u001b[0m \u001b[38;5;129m@unpack_zerodim_and_defer\u001b[39m(\u001b[38;5;124m\"\u001b[39m\u001b[38;5;124m__eq__\u001b[39m\u001b[38;5;124m\"\u001b[39m)\n\u001b[0;32m     39\u001b[0m \u001b[38;5;28;01mdef\u001b[39;00m \u001b[38;5;21m__eq__\u001b[39m(\u001b[38;5;28mself\u001b[39m, other):\n\u001b[1;32m---> 40\u001b[0m     \u001b[38;5;28;01mreturn\u001b[39;00m \u001b[38;5;28;43mself\u001b[39;49m\u001b[38;5;241;43m.\u001b[39;49m\u001b[43m_cmp_method\u001b[49m\u001b[43m(\u001b[49m\u001b[43mother\u001b[49m\u001b[43m,\u001b[49m\u001b[43m \u001b[49m\u001b[43moperator\u001b[49m\u001b[38;5;241;43m.\u001b[39;49m\u001b[43meq\u001b[49m\u001b[43m)\u001b[49m\n",
      "File \u001b[1;32m~\\.conda\\envs\\RecSysFramework\\lib\\site-packages\\pandas\\core\\series.py:6096\u001b[0m, in \u001b[0;36mSeries._cmp_method\u001b[1;34m(self, other, op)\u001b[0m\n\u001b[0;32m   6093\u001b[0m rvalues \u001b[38;5;241m=\u001b[39m extract_array(other, extract_numpy\u001b[38;5;241m=\u001b[39m\u001b[38;5;28;01mTrue\u001b[39;00m, extract_range\u001b[38;5;241m=\u001b[39m\u001b[38;5;28;01mTrue\u001b[39;00m)\n\u001b[0;32m   6095\u001b[0m \u001b[38;5;28;01mwith\u001b[39;00m np\u001b[38;5;241m.\u001b[39merrstate(\u001b[38;5;28mall\u001b[39m\u001b[38;5;241m=\u001b[39m\u001b[38;5;124m\"\u001b[39m\u001b[38;5;124mignore\u001b[39m\u001b[38;5;124m\"\u001b[39m):\n\u001b[1;32m-> 6096\u001b[0m     res_values \u001b[38;5;241m=\u001b[39m \u001b[43mops\u001b[49m\u001b[38;5;241;43m.\u001b[39;49m\u001b[43mcomparison_op\u001b[49m\u001b[43m(\u001b[49m\u001b[43mlvalues\u001b[49m\u001b[43m,\u001b[49m\u001b[43m \u001b[49m\u001b[43mrvalues\u001b[49m\u001b[43m,\u001b[49m\u001b[43m \u001b[49m\u001b[43mop\u001b[49m\u001b[43m)\u001b[49m\n\u001b[0;32m   6098\u001b[0m \u001b[38;5;28;01mreturn\u001b[39;00m \u001b[38;5;28mself\u001b[39m\u001b[38;5;241m.\u001b[39m_construct_result(res_values, name\u001b[38;5;241m=\u001b[39mres_name)\n",
      "File \u001b[1;32m~\\.conda\\envs\\RecSysFramework\\lib\\site-packages\\pandas\\core\\ops\\array_ops.py:270\u001b[0m, in \u001b[0;36mcomparison_op\u001b[1;34m(left, right, op)\u001b[0m\n\u001b[0;32m    265\u001b[0m \u001b[38;5;28;01mif\u001b[39;00m \u001b[38;5;28misinstance\u001b[39m(rvalues, (np\u001b[38;5;241m.\u001b[39mndarray, ABCExtensionArray)):\n\u001b[0;32m    266\u001b[0m     \u001b[38;5;66;03m# TODO: make this treatment consistent across ops and classes.\u001b[39;00m\n\u001b[0;32m    267\u001b[0m     \u001b[38;5;66;03m#  We are not catching all listlikes here (e.g. frozenset, tuple)\u001b[39;00m\n\u001b[0;32m    268\u001b[0m     \u001b[38;5;66;03m#  The ambiguous case is object-dtype.  See GH#27803\u001b[39;00m\n\u001b[0;32m    269\u001b[0m     \u001b[38;5;28;01mif\u001b[39;00m \u001b[38;5;28mlen\u001b[39m(lvalues) \u001b[38;5;241m!=\u001b[39m \u001b[38;5;28mlen\u001b[39m(rvalues):\n\u001b[1;32m--> 270\u001b[0m         \u001b[38;5;28;01mraise\u001b[39;00m \u001b[38;5;167;01mValueError\u001b[39;00m(\n\u001b[0;32m    271\u001b[0m             \u001b[38;5;124m\"\u001b[39m\u001b[38;5;124mLengths must match to compare\u001b[39m\u001b[38;5;124m\"\u001b[39m, lvalues\u001b[38;5;241m.\u001b[39mshape, rvalues\u001b[38;5;241m.\u001b[39mshape\n\u001b[0;32m    272\u001b[0m         )\n\u001b[0;32m    274\u001b[0m \u001b[38;5;28;01mif\u001b[39;00m should_extension_dispatch(lvalues, rvalues) \u001b[38;5;129;01mor\u001b[39;00m (\n\u001b[0;32m    275\u001b[0m     (\u001b[38;5;28misinstance\u001b[39m(rvalues, (Timedelta, BaseOffset, Timestamp)) \u001b[38;5;129;01mor\u001b[39;00m right \u001b[38;5;129;01mis\u001b[39;00m NaT)\n\u001b[0;32m    276\u001b[0m     \u001b[38;5;129;01mand\u001b[39;00m \u001b[38;5;129;01mnot\u001b[39;00m is_object_dtype(lvalues\u001b[38;5;241m.\u001b[39mdtype)\n\u001b[0;32m    277\u001b[0m ):\n\u001b[0;32m    278\u001b[0m     \u001b[38;5;66;03m# Call the method on lvalues\u001b[39;00m\n\u001b[0;32m    279\u001b[0m     res_values \u001b[38;5;241m=\u001b[39m op(lvalues, rvalues)\n",
      "\u001b[1;31mValueError\u001b[0m: ('Lengths must match to compare', (651250,), (1000,))"
     ]
    }
   ],
   "source": [
    "result, _ = evaluator_test.evaluateRecommender(boh)\n",
    "result.loc[10]"
   ]
  },
  {
   "cell_type": "code",
   "execution_count": null,
   "metadata": {},
   "outputs": [],
   "source": []
  },
  {
   "cell_type": "code",
   "execution_count": null,
   "metadata": {},
   "outputs": [],
   "source": []
  },
  {
   "cell_type": "code",
   "execution_count": 98,
   "metadata": {},
   "outputs": [
    {
     "data": {
      "text/plain": [
       "array([ 1.0525024 ,  0.6931635 ,  0.31613076,  0.4879189 ,  0.7825882 ,\n",
       "       -0.14841728,  0.14535111,  0.36647776,  0.5036566 ,  0.17475817,\n",
       "        0.71250683,  0.62847525,  0.39926475,  0.05171981,  0.4895998 ,\n",
       "        0.17818108, -0.08979055,  0.01078345, -0.31097522, -0.32114303,\n",
       "       -0.17068353, -0.61630565, -0.39364687, -0.2332153 , -0.37971154,\n",
       "       -0.46723568, -0.80869436, -0.29756397, -0.17820723, -0.16792165],\n",
       "      dtype=float32)"
      ]
     },
     "execution_count": 98,
     "metadata": {},
     "output_type": "execute_result"
    }
   ],
   "source": [
    "X_to_predict = X_train[X_train[\"user_id\"] == 10]\n",
    "\n",
    "XGB_model.predict(X_to_predict)"
   ]
  },
  {
   "cell_type": "markdown",
   "metadata": {},
   "source": [
    "## Build models on the complete URM"
   ]
  },
  {
   "cell_type": "code",
   "execution_count": 71,
   "metadata": {},
   "outputs": [
    {
     "name": "stdout",
     "output_type": "stream",
     "text": [
      "SLIMElasticNetRecommender: URM Detected 387 ( 3.0%) users with no interactions.\n",
      "SLIMElasticNetRecommender: URM Detected 126 ( 0.6%) items with no interactions.\n"
     ]
    },
    {
     "name": "stderr",
     "output_type": "stream",
     "text": [
      "100%|██████████████████████████████████████████████████████████████████████████▉| 22344/22348 [02:58<00:00, 125.25it/s]\n"
     ]
    }
   ],
   "source": [
    "slime_all = MultiThreadSLIM_SLIMElasticNetRecommender(URM_all)\n",
    "slime_all.fit(l1_ratio=0.05223, alpha=0.00116885, topK=451)"
   ]
  },
  {
   "cell_type": "code",
   "execution_count": 72,
   "metadata": {},
   "outputs": [
    {
     "name": "stdout",
     "output_type": "stream",
     "text": [
      "ItemKNNCFRecommender: URM Detected 387 ( 3.0%) users with no interactions.\n",
      "ItemKNNCFRecommender: URM Detected 126 ( 0.6%) items with no interactions.\n",
      "Similarity column 22348 (100.0%), 10379.16 column/sec. Elapsed time 2.15 sec\n"
     ]
    }
   ],
   "source": [
    "itemknncf_all = ItemKNNCFRecommender(URM_all)\n",
    "itemknncf_all.fit(shrink=15.47563, topK=12, similarity='dice')"
   ]
  },
  {
   "cell_type": "code",
   "execution_count": 73,
   "metadata": {},
   "outputs": [
    {
     "name": "stdout",
     "output_type": "stream",
     "text": [
      "P3alphaRecommender: URM Detected 387 ( 3.0%) users with no interactions.\n",
      "P3alphaRecommender: URM Detected 126 ( 0.6%) items with no interactions.\n",
      "P3alphaRecommender: Similarity column 22348 (100.0%), 5682.12 column/sec. Elapsed time 3.93 sec\n"
     ]
    }
   ],
   "source": [
    "p3alpha_all = P3alphaRecommender(URM_all)\n",
    "p3alpha_all.fit(topK=35, alpha=0.210046, implicit=True, normalize_similarity=True)"
   ]
  },
  {
   "cell_type": "code",
   "execution_count": 74,
   "metadata": {},
   "outputs": [
    {
     "name": "stdout",
     "output_type": "stream",
     "text": [
      "RP3betaRecommender: URM Detected 387 ( 3.0%) users with no interactions.\n",
      "RP3betaRecommender: URM Detected 126 ( 0.6%) items with no interactions.\n",
      "RP3betaRecommender: Similarity column 22348 (100.0%), 5670.56 column/sec. Elapsed time 3.94 sec\n"
     ]
    }
   ],
   "source": [
    "rp3beta_all = RP3betaRecommender(URM_all)\n",
    "rp3beta_all.fit(topK=25, alpha=0.26339, beta=0.20854, implicit=True, normalize_similarity=True)"
   ]
  },
  {
   "cell_type": "code",
   "execution_count": 75,
   "metadata": {},
   "outputs": [
    {
     "name": "stdout",
     "output_type": "stream",
     "text": [
      "EASE_R_Recommender: URM Detected 387 ( 3.0%) users with no interactions.\n",
      "EASE_R_Recommender: URM Detected 126 ( 0.6%) items with no interactions.\n",
      "EASE_R_Recommender: Fitting model... \n",
      "EASE_R_Recommender: Fitting model... done in 1.46 min\n"
     ]
    }
   ],
   "source": [
    "ease_all = EASE_R_Recommender(URM_all)\n",
    "ease_all.fit(topK=29, l2_norm=19)"
   ]
  },
  {
   "cell_type": "code",
   "execution_count": 76,
   "metadata": {},
   "outputs": [
    {
     "name": "stdout",
     "output_type": "stream",
     "text": [
      "UserKNNCFRecommender: URM Detected 387 ( 3.0%) users with no interactions.\n",
      "UserKNNCFRecommender: URM Detected 126 ( 0.6%) items with no interactions.\n",
      "Similarity column 13025 (100.0%), 8957.50 column/sec. Elapsed time 1.45 sec\n"
     ]
    }
   ],
   "source": [
    "userknncf_all = UserKNNCFRecommender(URM_all)\n",
    "userknncf_all.fit(shrink=1.432797, topK=329, feature_weighting=\"TF-IDF\")"
   ]
  },
  {
   "cell_type": "code",
   "execution_count": 79,
   "metadata": {},
   "outputs": [
    {
     "name": "stdout",
     "output_type": "stream",
     "text": [
      "Similarity column 22348 (100.0%), 10282.94 column/sec. Elapsed time 2.17 sec\n",
      "Similarity column 22348 (100.0%), 9929.65 column/sec. Elapsed time 2.25 sec\n",
      "ItemKNNSimilarityHybridRecommender: URM Detected 387 ( 3.0%) users with no interactions.\n",
      "ItemKNNSimilarityHybridRecommender: URM Detected 126 ( 0.6%) items with no interactions.\n"
     ]
    }
   ],
   "source": [
    "sim1 = Compute_Similarity(URM_all, shrink = 9.803724, topK = 62, similarity = 'cosine').compute_similarity()\n",
    "sim2 = Compute_Similarity(URM_all, shrink = 6.736, topK = 3, similarity = 'jaccard').compute_similarity()\n",
    "itemhybrid_all = ItemKNNSimilarityHybridRecommender(URM_all, sim1, sim2)\n",
    "itemhybrid_all.fit(topK = 36, alpha = 0.267625)"
   ]
  },
  {
   "cell_type": "code",
   "execution_count": 80,
   "metadata": {},
   "outputs": [
    {
     "name": "stdout",
     "output_type": "stream",
     "text": [
      "ScoresHybridRecommender3: URM Detected 387 ( 3.0%) users with no interactions.\n",
      "ScoresHybridRecommender3: URM Detected 126 ( 0.6%) items with no interactions.\n"
     ]
    }
   ],
   "source": [
    "recommender_all = ScoresHybridRecommender3(URM_all, slime, itemhybrid, rp3beta)\n",
    "recommender_all.fit(alpha=0.661077, beta=0.144166)"
   ]
  },
  {
   "cell_type": "code",
   "execution_count": 81,
   "metadata": {},
   "outputs": [
    {
     "name": "stdout",
     "output_type": "stream",
     "text": [
      "TopPopRecommender: URM Detected 387 ( 3.0%) users with no interactions.\n",
      "TopPopRecommender: URM Detected 126 ( 0.6%) items with no interactions.\n"
     ]
    }
   ],
   "source": [
    "topPop_all = TopPop(URM_all)\n",
    "topPop_all.fit()"
   ]
  },
  {
   "cell_type": "code",
   "execution_count": 82,
   "metadata": {},
   "outputs": [],
   "source": [
    "other_algorithms_all = {\n",
    "    \"TopPop\": topPop_all,\n",
    "    \"ItemKNNCF\": itemknncf_all,\n",
    "    \"P3alpha\": p3alpha_all,\n",
    "    \"RP3beta\": rp3beta_all,\n",
    "    \"SLIM-E\": slime_all,\n",
    "    \"EASE_R\": ease_all,\n",
    "    \"UserKNNCF\": userknncf_all,\n",
    "    \"ItemHybrid\": itemhybrid_all,\n",
    "}"
   ]
  },
  {
   "cell_type": "code",
   "execution_count": 83,
   "metadata": {},
   "outputs": [
    {
     "name": "stderr",
     "output_type": "stream",
     "text": [
      "100%|██████████████████████████████████████████████████████████████████████████| 10882/10882 [00:08<00:00, 1263.40it/s]\n"
     ]
    }
   ],
   "source": [
    "user_recommendations_items = []\n",
    "user_recommendations_user_id = []\n",
    "\n",
    "for id in tqdm(target['user_id']):\n",
    "    recommendations = recommender_all.recommend(user_id_array=id, remove_seen_flag=True, cutoff=cutoff)\n",
    "    \n",
    "    user_recommendations_items.extend(recommendations)\n",
    "    user_recommendations_user_id.extend([id]*len(recommendations))"
   ]
  },
  {
   "cell_type": "code",
   "execution_count": 84,
   "metadata": {},
   "outputs": [],
   "source": [
    "test_dataframe = pd.DataFrame({\"user_id\":user_recommendations_user_id, \"item_id\":user_recommendations_items})"
   ]
  },
  {
   "cell_type": "code",
   "execution_count": 85,
   "metadata": {},
   "outputs": [
    {
     "name": "stderr",
     "output_type": "stream",
     "text": [
      "100%|███████████████████████████████████████████████████████████████████████████| 10882/10882 [00:34<00:00, 316.87it/s]\n"
     ]
    }
   ],
   "source": [
    "test_dataframe = test_dataframe.set_index('user_id')\n",
    "\n",
    "for user_id in tqdm(target['user_id']):\n",
    "    for rec_label, rec_instance in other_algorithms_all.items():\n",
    "        \n",
    "        item_list = test_dataframe.loc[user_id, \"item_id\"].values.tolist()\n",
    "        \n",
    "        all_item_scores = rec_instance._compute_item_score([user_id], items_to_compute = item_list)\n",
    "\n",
    "        test_dataframe.loc[user_id, rec_label] = all_item_scores[0, item_list] \n",
    "\n",
    "test_dataframe = test_dataframe.reset_index()\n",
    "test_dataframe = test_dataframe.rename(columns = {\"index\": \"user_id\"})"
   ]
  },
  {
   "cell_type": "code",
   "execution_count": 99,
   "metadata": {},
   "outputs": [
    {
     "data": {
      "text/html": [
       "<div>\n",
       "<style scoped>\n",
       "    .dataframe tbody tr th:only-of-type {\n",
       "        vertical-align: middle;\n",
       "    }\n",
       "\n",
       "    .dataframe tbody tr th {\n",
       "        vertical-align: top;\n",
       "    }\n",
       "\n",
       "    .dataframe thead th {\n",
       "        text-align: right;\n",
       "    }\n",
       "</style>\n",
       "<table border=\"1\" class=\"dataframe\">\n",
       "  <thead>\n",
       "    <tr style=\"text-align: right;\">\n",
       "      <th></th>\n",
       "      <th>user_id</th>\n",
       "      <th>item_id</th>\n",
       "      <th>TopPop</th>\n",
       "      <th>ItemKNNCF</th>\n",
       "      <th>P3alpha</th>\n",
       "      <th>RP3beta</th>\n",
       "      <th>SLIM-E</th>\n",
       "      <th>EASE_R</th>\n",
       "      <th>UserKNNCF</th>\n",
       "      <th>ItemHybrid</th>\n",
       "      <th>item_popularity</th>\n",
       "      <th>user_profile_len</th>\n",
       "    </tr>\n",
       "  </thead>\n",
       "  <tbody>\n",
       "    <tr>\n",
       "      <th>0</th>\n",
       "      <td>1</td>\n",
       "      <td>36</td>\n",
       "      <td>713.0</td>\n",
       "      <td>0.439743</td>\n",
       "      <td>0.593026</td>\n",
       "      <td>0.680395</td>\n",
       "      <td>0.610377</td>\n",
       "      <td>0.593840</td>\n",
       "      <td>21.718302</td>\n",
       "      <td>0.646958</td>\n",
       "      <td>713</td>\n",
       "      <td>44</td>\n",
       "    </tr>\n",
       "    <tr>\n",
       "      <th>1</th>\n",
       "      <td>1</td>\n",
       "      <td>101</td>\n",
       "      <td>426.0</td>\n",
       "      <td>0.479897</td>\n",
       "      <td>0.494574</td>\n",
       "      <td>0.594016</td>\n",
       "      <td>0.627155</td>\n",
       "      <td>0.481909</td>\n",
       "      <td>21.875183</td>\n",
       "      <td>0.813761</td>\n",
       "      <td>426</td>\n",
       "      <td>44</td>\n",
       "    </tr>\n",
       "    <tr>\n",
       "      <th>2</th>\n",
       "      <td>1</td>\n",
       "      <td>123</td>\n",
       "      <td>193.0</td>\n",
       "      <td>0.144487</td>\n",
       "      <td>0.226880</td>\n",
       "      <td>0.242852</td>\n",
       "      <td>0.448209</td>\n",
       "      <td>0.382725</td>\n",
       "      <td>5.670939</td>\n",
       "      <td>0.274542</td>\n",
       "      <td>193</td>\n",
       "      <td>44</td>\n",
       "    </tr>\n",
       "    <tr>\n",
       "      <th>3</th>\n",
       "      <td>1</td>\n",
       "      <td>403</td>\n",
       "      <td>131.0</td>\n",
       "      <td>0.503931</td>\n",
       "      <td>0.184924</td>\n",
       "      <td>0.226695</td>\n",
       "      <td>0.311231</td>\n",
       "      <td>0.274095</td>\n",
       "      <td>12.644982</td>\n",
       "      <td>0.445680</td>\n",
       "      <td>131</td>\n",
       "      <td>44</td>\n",
       "    </tr>\n",
       "    <tr>\n",
       "      <th>4</th>\n",
       "      <td>1</td>\n",
       "      <td>506</td>\n",
       "      <td>119.0</td>\n",
       "      <td>0.533700</td>\n",
       "      <td>0.130398</td>\n",
       "      <td>0.279060</td>\n",
       "      <td>0.393088</td>\n",
       "      <td>0.247785</td>\n",
       "      <td>10.563779</td>\n",
       "      <td>0.555201</td>\n",
       "      <td>119</td>\n",
       "      <td>44</td>\n",
       "    </tr>\n",
       "    <tr>\n",
       "      <th>...</th>\n",
       "      <td>...</td>\n",
       "      <td>...</td>\n",
       "      <td>...</td>\n",
       "      <td>...</td>\n",
       "      <td>...</td>\n",
       "      <td>...</td>\n",
       "      <td>...</td>\n",
       "      <td>...</td>\n",
       "      <td>...</td>\n",
       "      <td>...</td>\n",
       "      <td>...</td>\n",
       "      <td>...</td>\n",
       "    </tr>\n",
       "    <tr>\n",
       "      <th>326455</th>\n",
       "      <td>13024</td>\n",
       "      <td>464</td>\n",
       "      <td>126.0</td>\n",
       "      <td>0.137999</td>\n",
       "      <td>0.121003</td>\n",
       "      <td>0.185898</td>\n",
       "      <td>0.180337</td>\n",
       "      <td>0.131936</td>\n",
       "      <td>0.954991</td>\n",
       "      <td>0.287109</td>\n",
       "      <td>126</td>\n",
       "      <td>71</td>\n",
       "    </tr>\n",
       "    <tr>\n",
       "      <th>326456</th>\n",
       "      <td>13024</td>\n",
       "      <td>329</td>\n",
       "      <td>195.0</td>\n",
       "      <td>0.395758</td>\n",
       "      <td>0.038777</td>\n",
       "      <td>0.101987</td>\n",
       "      <td>0.134547</td>\n",
       "      <td>0.017730</td>\n",
       "      <td>13.241991</td>\n",
       "      <td>0.539088</td>\n",
       "      <td>195</td>\n",
       "      <td>71</td>\n",
       "    </tr>\n",
       "    <tr>\n",
       "      <th>326457</th>\n",
       "      <td>13024</td>\n",
       "      <td>11019</td>\n",
       "      <td>11.0</td>\n",
       "      <td>0.665549</td>\n",
       "      <td>0.123840</td>\n",
       "      <td>0.258476</td>\n",
       "      <td>0.253895</td>\n",
       "      <td>0.145207</td>\n",
       "      <td>5.985425</td>\n",
       "      <td>1.391520</td>\n",
       "      <td>11</td>\n",
       "      <td>71</td>\n",
       "    </tr>\n",
       "    <tr>\n",
       "      <th>326458</th>\n",
       "      <td>13024</td>\n",
       "      <td>410</td>\n",
       "      <td>150.0</td>\n",
       "      <td>0.226425</td>\n",
       "      <td>0.044570</td>\n",
       "      <td>0.113783</td>\n",
       "      <td>0.222708</td>\n",
       "      <td>0.186144</td>\n",
       "      <td>1.250641</td>\n",
       "      <td>0.264823</td>\n",
       "      <td>150</td>\n",
       "      <td>71</td>\n",
       "    </tr>\n",
       "    <tr>\n",
       "      <th>326459</th>\n",
       "      <td>13024</td>\n",
       "      <td>22</td>\n",
       "      <td>802.0</td>\n",
       "      <td>0.232860</td>\n",
       "      <td>0.049714</td>\n",
       "      <td>0.119175</td>\n",
       "      <td>0.141004</td>\n",
       "      <td>0.021271</td>\n",
       "      <td>7.257642</td>\n",
       "      <td>0.231685</td>\n",
       "      <td>802</td>\n",
       "      <td>71</td>\n",
       "    </tr>\n",
       "  </tbody>\n",
       "</table>\n",
       "<p>326460 rows × 12 columns</p>\n",
       "</div>"
      ],
      "text/plain": [
       "        user_id  item_id  TopPop  ItemKNNCF   P3alpha   RP3beta    SLIM-E  \\\n",
       "0             1       36   713.0   0.439743  0.593026  0.680395  0.610377   \n",
       "1             1      101   426.0   0.479897  0.494574  0.594016  0.627155   \n",
       "2             1      123   193.0   0.144487  0.226880  0.242852  0.448209   \n",
       "3             1      403   131.0   0.503931  0.184924  0.226695  0.311231   \n",
       "4             1      506   119.0   0.533700  0.130398  0.279060  0.393088   \n",
       "...         ...      ...     ...        ...       ...       ...       ...   \n",
       "326455    13024      464   126.0   0.137999  0.121003  0.185898  0.180337   \n",
       "326456    13024      329   195.0   0.395758  0.038777  0.101987  0.134547   \n",
       "326457    13024    11019    11.0   0.665549  0.123840  0.258476  0.253895   \n",
       "326458    13024      410   150.0   0.226425  0.044570  0.113783  0.222708   \n",
       "326459    13024       22   802.0   0.232860  0.049714  0.119175  0.141004   \n",
       "\n",
       "          EASE_R  UserKNNCF  ItemHybrid  item_popularity  user_profile_len  \n",
       "0       0.593840  21.718302    0.646958              713                44  \n",
       "1       0.481909  21.875183    0.813761              426                44  \n",
       "2       0.382725   5.670939    0.274542              193                44  \n",
       "3       0.274095  12.644982    0.445680              131                44  \n",
       "4       0.247785  10.563779    0.555201              119                44  \n",
       "...          ...        ...         ...              ...               ...  \n",
       "326455  0.131936   0.954991    0.287109              126                71  \n",
       "326456  0.017730  13.241991    0.539088              195                71  \n",
       "326457  0.145207   5.985425    1.391520               11                71  \n",
       "326458  0.186144   1.250641    0.264823              150                71  \n",
       "326459  0.021271   7.257642    0.231685              802                71  \n",
       "\n",
       "[326460 rows x 12 columns]"
      ]
     },
     "execution_count": 99,
     "metadata": {},
     "output_type": "execute_result"
    }
   ],
   "source": [
    "item_popularity = np.ediff1d(sps.csc_matrix(URM_all).indptr)\n",
    "test_dataframe['item_popularity'] = item_popularity[test_dataframe[\"item_id\"].values.astype(int)]\n",
    "\n",
    "user_popularity = np.ediff1d(sps.csr_matrix(URM_all).indptr)\n",
    "test_dataframe['user_profile_len'] = user_popularity[test_dataframe[\"user_id\"].values.astype(int)]\n",
    "\n",
    "test_dataframe"
   ]
  },
  {
   "cell_type": "code",
   "execution_count": 100,
   "metadata": {},
   "outputs": [],
   "source": [
    "X = test_dataframe"
   ]
  },
  {
   "cell_type": "code",
   "execution_count": 101,
   "metadata": {},
   "outputs": [
    {
     "data": {
      "text/plain": [
       "array([ 0.6738808 ,  0.6219238 ,  0.27607703, ...,  0.35487825,\n",
       "       -0.34369797, -0.27026796], dtype=float32)"
      ]
     },
     "execution_count": 101,
     "metadata": {},
     "output_type": "execute_result"
    }
   ],
   "source": [
    "predictions = XGB_model.predict(X)\n",
    "predictions"
   ]
  },
  {
   "cell_type": "code",
   "execution_count": 102,
   "metadata": {},
   "outputs": [
    {
     "data": {
      "text/html": [
       "<div>\n",
       "<style scoped>\n",
       "    .dataframe tbody tr th:only-of-type {\n",
       "        vertical-align: middle;\n",
       "    }\n",
       "\n",
       "    .dataframe tbody tr th {\n",
       "        vertical-align: top;\n",
       "    }\n",
       "\n",
       "    .dataframe thead th {\n",
       "        text-align: right;\n",
       "    }\n",
       "</style>\n",
       "<table border=\"1\" class=\"dataframe\">\n",
       "  <thead>\n",
       "    <tr style=\"text-align: right;\">\n",
       "      <th></th>\n",
       "      <th>user_id</th>\n",
       "      <th>item_id</th>\n",
       "      <th>TopPop</th>\n",
       "      <th>ItemKNNCF</th>\n",
       "      <th>P3alpha</th>\n",
       "      <th>RP3beta</th>\n",
       "      <th>SLIM-E</th>\n",
       "      <th>EASE_R</th>\n",
       "      <th>UserKNNCF</th>\n",
       "      <th>ItemHybrid</th>\n",
       "      <th>item_popularity</th>\n",
       "      <th>user_profile_len</th>\n",
       "      <th>rating_xgb</th>\n",
       "    </tr>\n",
       "  </thead>\n",
       "  <tbody>\n",
       "    <tr>\n",
       "      <th>0</th>\n",
       "      <td>1</td>\n",
       "      <td>36</td>\n",
       "      <td>713.0</td>\n",
       "      <td>0.439743</td>\n",
       "      <td>0.593026</td>\n",
       "      <td>0.680395</td>\n",
       "      <td>0.610377</td>\n",
       "      <td>0.593840</td>\n",
       "      <td>21.718302</td>\n",
       "      <td>0.646958</td>\n",
       "      <td>713</td>\n",
       "      <td>44</td>\n",
       "      <td>0.673881</td>\n",
       "    </tr>\n",
       "    <tr>\n",
       "      <th>1</th>\n",
       "      <td>1</td>\n",
       "      <td>101</td>\n",
       "      <td>426.0</td>\n",
       "      <td>0.479897</td>\n",
       "      <td>0.494574</td>\n",
       "      <td>0.594016</td>\n",
       "      <td>0.627155</td>\n",
       "      <td>0.481909</td>\n",
       "      <td>21.875183</td>\n",
       "      <td>0.813761</td>\n",
       "      <td>426</td>\n",
       "      <td>44</td>\n",
       "      <td>0.621924</td>\n",
       "    </tr>\n",
       "    <tr>\n",
       "      <th>2</th>\n",
       "      <td>1</td>\n",
       "      <td>123</td>\n",
       "      <td>193.0</td>\n",
       "      <td>0.144487</td>\n",
       "      <td>0.226880</td>\n",
       "      <td>0.242852</td>\n",
       "      <td>0.448209</td>\n",
       "      <td>0.382725</td>\n",
       "      <td>5.670939</td>\n",
       "      <td>0.274542</td>\n",
       "      <td>193</td>\n",
       "      <td>44</td>\n",
       "      <td>0.276077</td>\n",
       "    </tr>\n",
       "    <tr>\n",
       "      <th>3</th>\n",
       "      <td>1</td>\n",
       "      <td>403</td>\n",
       "      <td>131.0</td>\n",
       "      <td>0.503931</td>\n",
       "      <td>0.184924</td>\n",
       "      <td>0.226695</td>\n",
       "      <td>0.311231</td>\n",
       "      <td>0.274095</td>\n",
       "      <td>12.644982</td>\n",
       "      <td>0.445680</td>\n",
       "      <td>131</td>\n",
       "      <td>44</td>\n",
       "      <td>0.127435</td>\n",
       "    </tr>\n",
       "    <tr>\n",
       "      <th>4</th>\n",
       "      <td>1</td>\n",
       "      <td>506</td>\n",
       "      <td>119.0</td>\n",
       "      <td>0.533700</td>\n",
       "      <td>0.130398</td>\n",
       "      <td>0.279060</td>\n",
       "      <td>0.393088</td>\n",
       "      <td>0.247785</td>\n",
       "      <td>10.563779</td>\n",
       "      <td>0.555201</td>\n",
       "      <td>119</td>\n",
       "      <td>44</td>\n",
       "      <td>0.289327</td>\n",
       "    </tr>\n",
       "    <tr>\n",
       "      <th>...</th>\n",
       "      <td>...</td>\n",
       "      <td>...</td>\n",
       "      <td>...</td>\n",
       "      <td>...</td>\n",
       "      <td>...</td>\n",
       "      <td>...</td>\n",
       "      <td>...</td>\n",
       "      <td>...</td>\n",
       "      <td>...</td>\n",
       "      <td>...</td>\n",
       "      <td>...</td>\n",
       "      <td>...</td>\n",
       "      <td>...</td>\n",
       "    </tr>\n",
       "    <tr>\n",
       "      <th>326455</th>\n",
       "      <td>13024</td>\n",
       "      <td>464</td>\n",
       "      <td>126.0</td>\n",
       "      <td>0.137999</td>\n",
       "      <td>0.121003</td>\n",
       "      <td>0.185898</td>\n",
       "      <td>0.180337</td>\n",
       "      <td>0.131936</td>\n",
       "      <td>0.954991</td>\n",
       "      <td>0.287109</td>\n",
       "      <td>126</td>\n",
       "      <td>71</td>\n",
       "      <td>-0.205596</td>\n",
       "    </tr>\n",
       "    <tr>\n",
       "      <th>326456</th>\n",
       "      <td>13024</td>\n",
       "      <td>329</td>\n",
       "      <td>195.0</td>\n",
       "      <td>0.395758</td>\n",
       "      <td>0.038777</td>\n",
       "      <td>0.101987</td>\n",
       "      <td>0.134547</td>\n",
       "      <td>0.017730</td>\n",
       "      <td>13.241991</td>\n",
       "      <td>0.539088</td>\n",
       "      <td>195</td>\n",
       "      <td>71</td>\n",
       "      <td>-0.240137</td>\n",
       "    </tr>\n",
       "    <tr>\n",
       "      <th>326457</th>\n",
       "      <td>13024</td>\n",
       "      <td>11019</td>\n",
       "      <td>11.0</td>\n",
       "      <td>0.665549</td>\n",
       "      <td>0.123840</td>\n",
       "      <td>0.258476</td>\n",
       "      <td>0.253895</td>\n",
       "      <td>0.145207</td>\n",
       "      <td>5.985425</td>\n",
       "      <td>1.391520</td>\n",
       "      <td>11</td>\n",
       "      <td>71</td>\n",
       "      <td>0.354878</td>\n",
       "    </tr>\n",
       "    <tr>\n",
       "      <th>326458</th>\n",
       "      <td>13024</td>\n",
       "      <td>410</td>\n",
       "      <td>150.0</td>\n",
       "      <td>0.226425</td>\n",
       "      <td>0.044570</td>\n",
       "      <td>0.113783</td>\n",
       "      <td>0.222708</td>\n",
       "      <td>0.186144</td>\n",
       "      <td>1.250641</td>\n",
       "      <td>0.264823</td>\n",
       "      <td>150</td>\n",
       "      <td>71</td>\n",
       "      <td>-0.343698</td>\n",
       "    </tr>\n",
       "    <tr>\n",
       "      <th>326459</th>\n",
       "      <td>13024</td>\n",
       "      <td>22</td>\n",
       "      <td>802.0</td>\n",
       "      <td>0.232860</td>\n",
       "      <td>0.049714</td>\n",
       "      <td>0.119175</td>\n",
       "      <td>0.141004</td>\n",
       "      <td>0.021271</td>\n",
       "      <td>7.257642</td>\n",
       "      <td>0.231685</td>\n",
       "      <td>802</td>\n",
       "      <td>71</td>\n",
       "      <td>-0.270268</td>\n",
       "    </tr>\n",
       "  </tbody>\n",
       "</table>\n",
       "<p>326460 rows × 13 columns</p>\n",
       "</div>"
      ],
      "text/plain": [
       "        user_id  item_id  TopPop  ItemKNNCF   P3alpha   RP3beta    SLIM-E  \\\n",
       "0             1       36   713.0   0.439743  0.593026  0.680395  0.610377   \n",
       "1             1      101   426.0   0.479897  0.494574  0.594016  0.627155   \n",
       "2             1      123   193.0   0.144487  0.226880  0.242852  0.448209   \n",
       "3             1      403   131.0   0.503931  0.184924  0.226695  0.311231   \n",
       "4             1      506   119.0   0.533700  0.130398  0.279060  0.393088   \n",
       "...         ...      ...     ...        ...       ...       ...       ...   \n",
       "326455    13024      464   126.0   0.137999  0.121003  0.185898  0.180337   \n",
       "326456    13024      329   195.0   0.395758  0.038777  0.101987  0.134547   \n",
       "326457    13024    11019    11.0   0.665549  0.123840  0.258476  0.253895   \n",
       "326458    13024      410   150.0   0.226425  0.044570  0.113783  0.222708   \n",
       "326459    13024       22   802.0   0.232860  0.049714  0.119175  0.141004   \n",
       "\n",
       "          EASE_R  UserKNNCF  ItemHybrid  item_popularity  user_profile_len  \\\n",
       "0       0.593840  21.718302    0.646958              713                44   \n",
       "1       0.481909  21.875183    0.813761              426                44   \n",
       "2       0.382725   5.670939    0.274542              193                44   \n",
       "3       0.274095  12.644982    0.445680              131                44   \n",
       "4       0.247785  10.563779    0.555201              119                44   \n",
       "...          ...        ...         ...              ...               ...   \n",
       "326455  0.131936   0.954991    0.287109              126                71   \n",
       "326456  0.017730  13.241991    0.539088              195                71   \n",
       "326457  0.145207   5.985425    1.391520               11                71   \n",
       "326458  0.186144   1.250641    0.264823              150                71   \n",
       "326459  0.021271   7.257642    0.231685              802                71   \n",
       "\n",
       "        rating_xgb  \n",
       "0         0.673881  \n",
       "1         0.621924  \n",
       "2         0.276077  \n",
       "3         0.127435  \n",
       "4         0.289327  \n",
       "...            ...  \n",
       "326455   -0.205596  \n",
       "326456   -0.240137  \n",
       "326457    0.354878  \n",
       "326458   -0.343698  \n",
       "326459   -0.270268  \n",
       "\n",
       "[326460 rows x 13 columns]"
      ]
     },
     "execution_count": 102,
     "metadata": {},
     "output_type": "execute_result"
    }
   ],
   "source": [
    "reranked_dataframe = test_dataframe.copy()\n",
    "reranked_dataframe['rating_xgb'] = pd.Series(predictions, index=reranked_dataframe.index)\n",
    "reranked_dataframe"
   ]
  },
  {
   "cell_type": "code",
   "execution_count": 104,
   "metadata": {},
   "outputs": [
    {
     "data": {
      "text/html": [
       "<div>\n",
       "<style scoped>\n",
       "    .dataframe tbody tr th:only-of-type {\n",
       "        vertical-align: middle;\n",
       "    }\n",
       "\n",
       "    .dataframe tbody tr th {\n",
       "        vertical-align: top;\n",
       "    }\n",
       "\n",
       "    .dataframe thead th {\n",
       "        text-align: right;\n",
       "    }\n",
       "</style>\n",
       "<table border=\"1\" class=\"dataframe\">\n",
       "  <thead>\n",
       "    <tr style=\"text-align: right;\">\n",
       "      <th></th>\n",
       "      <th>user_id</th>\n",
       "      <th>item_id</th>\n",
       "      <th>TopPop</th>\n",
       "      <th>ItemKNNCF</th>\n",
       "      <th>P3alpha</th>\n",
       "      <th>RP3beta</th>\n",
       "      <th>SLIM-E</th>\n",
       "      <th>EASE_R</th>\n",
       "      <th>UserKNNCF</th>\n",
       "      <th>ItemHybrid</th>\n",
       "      <th>item_popularity</th>\n",
       "      <th>user_profile_len</th>\n",
       "      <th>rating_xgb</th>\n",
       "    </tr>\n",
       "  </thead>\n",
       "  <tbody>\n",
       "    <tr>\n",
       "      <th>5</th>\n",
       "      <td>1</td>\n",
       "      <td>515</td>\n",
       "      <td>97.0</td>\n",
       "      <td>0.500261</td>\n",
       "      <td>0.102181</td>\n",
       "      <td>0.276208</td>\n",
       "      <td>0.333997</td>\n",
       "      <td>0.283821</td>\n",
       "      <td>7.476872</td>\n",
       "      <td>0.473502</td>\n",
       "      <td>97</td>\n",
       "      <td>44</td>\n",
       "      <td>1.416169</td>\n",
       "    </tr>\n",
       "    <tr>\n",
       "      <th>0</th>\n",
       "      <td>1</td>\n",
       "      <td>36</td>\n",
       "      <td>713.0</td>\n",
       "      <td>0.439743</td>\n",
       "      <td>0.593026</td>\n",
       "      <td>0.680395</td>\n",
       "      <td>0.610377</td>\n",
       "      <td>0.593840</td>\n",
       "      <td>21.718302</td>\n",
       "      <td>0.646958</td>\n",
       "      <td>713</td>\n",
       "      <td>44</td>\n",
       "      <td>0.673881</td>\n",
       "    </tr>\n",
       "    <tr>\n",
       "      <th>1</th>\n",
       "      <td>1</td>\n",
       "      <td>101</td>\n",
       "      <td>426.0</td>\n",
       "      <td>0.479897</td>\n",
       "      <td>0.494574</td>\n",
       "      <td>0.594016</td>\n",
       "      <td>0.627155</td>\n",
       "      <td>0.481909</td>\n",
       "      <td>21.875183</td>\n",
       "      <td>0.813761</td>\n",
       "      <td>426</td>\n",
       "      <td>44</td>\n",
       "      <td>0.621924</td>\n",
       "    </tr>\n",
       "    <tr>\n",
       "      <th>4</th>\n",
       "      <td>1</td>\n",
       "      <td>506</td>\n",
       "      <td>119.0</td>\n",
       "      <td>0.533700</td>\n",
       "      <td>0.130398</td>\n",
       "      <td>0.279060</td>\n",
       "      <td>0.393088</td>\n",
       "      <td>0.247785</td>\n",
       "      <td>10.563779</td>\n",
       "      <td>0.555201</td>\n",
       "      <td>119</td>\n",
       "      <td>44</td>\n",
       "      <td>0.289327</td>\n",
       "    </tr>\n",
       "    <tr>\n",
       "      <th>2</th>\n",
       "      <td>1</td>\n",
       "      <td>123</td>\n",
       "      <td>193.0</td>\n",
       "      <td>0.144487</td>\n",
       "      <td>0.226880</td>\n",
       "      <td>0.242852</td>\n",
       "      <td>0.448209</td>\n",
       "      <td>0.382725</td>\n",
       "      <td>5.670939</td>\n",
       "      <td>0.274542</td>\n",
       "      <td>193</td>\n",
       "      <td>44</td>\n",
       "      <td>0.276077</td>\n",
       "    </tr>\n",
       "    <tr>\n",
       "      <th>...</th>\n",
       "      <td>...</td>\n",
       "      <td>...</td>\n",
       "      <td>...</td>\n",
       "      <td>...</td>\n",
       "      <td>...</td>\n",
       "      <td>...</td>\n",
       "      <td>...</td>\n",
       "      <td>...</td>\n",
       "      <td>...</td>\n",
       "      <td>...</td>\n",
       "      <td>...</td>\n",
       "      <td>...</td>\n",
       "      <td>...</td>\n",
       "    </tr>\n",
       "    <tr>\n",
       "      <th>326454</th>\n",
       "      <td>13024</td>\n",
       "      <td>1240</td>\n",
       "      <td>75.0</td>\n",
       "      <td>0.243063</td>\n",
       "      <td>0.000000</td>\n",
       "      <td>0.088398</td>\n",
       "      <td>0.255405</td>\n",
       "      <td>0.174513</td>\n",
       "      <td>9.203048</td>\n",
       "      <td>0.548179</td>\n",
       "      <td>75</td>\n",
       "      <td>71</td>\n",
       "      <td>-0.061915</td>\n",
       "    </tr>\n",
       "    <tr>\n",
       "      <th>326455</th>\n",
       "      <td>13024</td>\n",
       "      <td>464</td>\n",
       "      <td>126.0</td>\n",
       "      <td>0.137999</td>\n",
       "      <td>0.121003</td>\n",
       "      <td>0.185898</td>\n",
       "      <td>0.180337</td>\n",
       "      <td>0.131936</td>\n",
       "      <td>0.954991</td>\n",
       "      <td>0.287109</td>\n",
       "      <td>126</td>\n",
       "      <td>71</td>\n",
       "      <td>-0.205596</td>\n",
       "    </tr>\n",
       "    <tr>\n",
       "      <th>326456</th>\n",
       "      <td>13024</td>\n",
       "      <td>329</td>\n",
       "      <td>195.0</td>\n",
       "      <td>0.395758</td>\n",
       "      <td>0.038777</td>\n",
       "      <td>0.101987</td>\n",
       "      <td>0.134547</td>\n",
       "      <td>0.017730</td>\n",
       "      <td>13.241991</td>\n",
       "      <td>0.539088</td>\n",
       "      <td>195</td>\n",
       "      <td>71</td>\n",
       "      <td>-0.240137</td>\n",
       "    </tr>\n",
       "    <tr>\n",
       "      <th>326459</th>\n",
       "      <td>13024</td>\n",
       "      <td>22</td>\n",
       "      <td>802.0</td>\n",
       "      <td>0.232860</td>\n",
       "      <td>0.049714</td>\n",
       "      <td>0.119175</td>\n",
       "      <td>0.141004</td>\n",
       "      <td>0.021271</td>\n",
       "      <td>7.257642</td>\n",
       "      <td>0.231685</td>\n",
       "      <td>802</td>\n",
       "      <td>71</td>\n",
       "      <td>-0.270268</td>\n",
       "    </tr>\n",
       "    <tr>\n",
       "      <th>326458</th>\n",
       "      <td>13024</td>\n",
       "      <td>410</td>\n",
       "      <td>150.0</td>\n",
       "      <td>0.226425</td>\n",
       "      <td>0.044570</td>\n",
       "      <td>0.113783</td>\n",
       "      <td>0.222708</td>\n",
       "      <td>0.186144</td>\n",
       "      <td>1.250641</td>\n",
       "      <td>0.264823</td>\n",
       "      <td>150</td>\n",
       "      <td>71</td>\n",
       "      <td>-0.343698</td>\n",
       "    </tr>\n",
       "  </tbody>\n",
       "</table>\n",
       "<p>326460 rows × 13 columns</p>\n",
       "</div>"
      ],
      "text/plain": [
       "        user_id  item_id  TopPop  ItemKNNCF   P3alpha   RP3beta    SLIM-E  \\\n",
       "5             1      515    97.0   0.500261  0.102181  0.276208  0.333997   \n",
       "0             1       36   713.0   0.439743  0.593026  0.680395  0.610377   \n",
       "1             1      101   426.0   0.479897  0.494574  0.594016  0.627155   \n",
       "4             1      506   119.0   0.533700  0.130398  0.279060  0.393088   \n",
       "2             1      123   193.0   0.144487  0.226880  0.242852  0.448209   \n",
       "...         ...      ...     ...        ...       ...       ...       ...   \n",
       "326454    13024     1240    75.0   0.243063  0.000000  0.088398  0.255405   \n",
       "326455    13024      464   126.0   0.137999  0.121003  0.185898  0.180337   \n",
       "326456    13024      329   195.0   0.395758  0.038777  0.101987  0.134547   \n",
       "326459    13024       22   802.0   0.232860  0.049714  0.119175  0.141004   \n",
       "326458    13024      410   150.0   0.226425  0.044570  0.113783  0.222708   \n",
       "\n",
       "          EASE_R  UserKNNCF  ItemHybrid  item_popularity  user_profile_len  \\\n",
       "5       0.283821   7.476872    0.473502               97                44   \n",
       "0       0.593840  21.718302    0.646958              713                44   \n",
       "1       0.481909  21.875183    0.813761              426                44   \n",
       "4       0.247785  10.563779    0.555201              119                44   \n",
       "2       0.382725   5.670939    0.274542              193                44   \n",
       "...          ...        ...         ...              ...               ...   \n",
       "326454  0.174513   9.203048    0.548179               75                71   \n",
       "326455  0.131936   0.954991    0.287109              126                71   \n",
       "326456  0.017730  13.241991    0.539088              195                71   \n",
       "326459  0.021271   7.257642    0.231685              802                71   \n",
       "326458  0.186144   1.250641    0.264823              150                71   \n",
       "\n",
       "        rating_xgb  \n",
       "5         1.416169  \n",
       "0         0.673881  \n",
       "1         0.621924  \n",
       "4         0.289327  \n",
       "2         0.276077  \n",
       "...            ...  \n",
       "326454   -0.061915  \n",
       "326455   -0.205596  \n",
       "326456   -0.240137  \n",
       "326459   -0.270268  \n",
       "326458   -0.343698  \n",
       "\n",
       "[326460 rows x 13 columns]"
      ]
     },
     "execution_count": 104,
     "metadata": {},
     "output_type": "execute_result"
    }
   ],
   "source": [
    "reranked_dataframe = reranked_dataframe.sort_values(['user_id','rating_xgb'], ascending=[True, False])\n",
    "reranked_dataframe"
   ]
  },
  {
   "cell_type": "code",
   "execution_count": null,
   "metadata": {},
   "outputs": [],
   "source": []
  },
  {
   "cell_type": "code",
   "execution_count": 115,
   "metadata": {},
   "outputs": [],
   "source": [
    "def reranked_recommendations():\n",
    "    recommendations = 'user_id,item_list'\n",
    "    f = open(\"Output/Reranked.csv\", \"w\")\n",
    "\n",
    "    for id in tqdm(target['user_id']):\n",
    "        recommendations_per_user = reranked_dataframe.loc[reranked_dataframe['user_id'] == id].item_id.values[:10]\n",
    "\n",
    "        recommendation_string = str(id) + ','\n",
    "\n",
    "        for rec in recommendations_per_user:\n",
    "            recommendation_string = recommendation_string + str(rec) + ' '\n",
    "\n",
    "        recommendation_string = recommendation_string[:-1]\n",
    "        recommendations = recommendations + '\\n' + recommendation_string\n",
    "\n",
    "    f.write(recommendations)\n",
    "    f.close()"
   ]
  },
  {
   "cell_type": "code",
   "execution_count": 116,
   "metadata": {},
   "outputs": [
    {
     "name": "stderr",
     "output_type": "stream",
     "text": [
      "100%|██████████████████████████████████████████████████████████████████████████| 10882/10882 [00:03<00:00, 3205.94it/s]\n"
     ]
    }
   ],
   "source": [
    "reranked_recommendations()"
   ]
  },
  {
   "cell_type": "code",
   "execution_count": 118,
   "metadata": {},
   "outputs": [],
   "source": [
    "noreranksubmission = pd.read_csv(\"Output/ScoresHybrid3new.csv\")\n",
    "submission = pd.read_csv(\"Output/Reranked.csv\")"
   ]
  },
  {
   "cell_type": "code",
   "execution_count": 120,
   "metadata": {},
   "outputs": [
    {
     "name": "stdout",
     "output_type": "stream",
     "text": [
      "Changed 32481 items, 29.85% of total\n"
     ]
    }
   ],
   "source": [
    "changed_item_count = 0\n",
    "\n",
    "for user_id in submission['user_id']:\n",
    "    default_items = noreranksubmission[noreranksubmission['user_id'] == user_id].item_list.values[0].split()\n",
    "    reranked_items = submission[submission['user_id'] == user_id].item_list.values[0].split()\n",
    "    \n",
    "    new_items = list(set(reranked_items) - set(default_items))\n",
    "    \n",
    "    changed_item_count = changed_item_count + len(new_items)\n",
    "    \n",
    "n_users_to_recommend = len(target['user_id'])\n",
    "n_recommended_items = n_users_to_recommend * 10\n",
    "\n",
    "print(\"Changed {} items, {:.2f}% of total\".format(changed_item_count, changed_item_count/n_recommended_items * 100))"
   ]
  },
  {
   "cell_type": "code",
   "execution_count": null,
   "metadata": {},
   "outputs": [],
   "source": []
  },
  {
   "cell_type": "code",
   "execution_count": null,
   "metadata": {},
   "outputs": [],
   "source": []
  },
  {
   "cell_type": "code",
   "execution_count": 66,
   "metadata": {
    "execution": {
     "iopub.execute_input": "2023-11-04T21:06:55.003332Z",
     "iopub.status.busy": "2023-11-04T21:06:55.002931Z",
     "iopub.status.idle": "2023-11-04T21:06:55.011864Z",
     "shell.execute_reply": "2023-11-04T21:06:55.010563Z",
     "shell.execute_reply.started": "2023-11-04T21:06:55.003286Z"
    }
   },
   "outputs": [
    {
     "data": {
      "text/plain": [
       "_io.TextIOWrapper"
      ]
     },
     "execution_count": 66,
     "metadata": {},
     "output_type": "execute_result"
    }
   ],
   "source": [
    "# Open the submission sample file\n",
    "submission_sample = open('Input/data_target_users_test.csv', 'r')\n",
    "type(submission_sample)"
   ]
  },
  {
   "cell_type": "code",
   "execution_count": 67,
   "metadata": {
    "execution": {
     "iopub.execute_input": "2023-11-04T21:07:03.629097Z",
     "iopub.status.busy": "2023-11-04T21:07:03.628687Z",
     "iopub.status.idle": "2023-11-04T21:07:03.654289Z",
     "shell.execute_reply": "2023-11-04T21:07:03.653175Z",
     "shell.execute_reply.started": "2023-11-04T21:07:03.629063Z"
    }
   },
   "outputs": [
    {
     "data": {
      "text/html": [
       "<div>\n",
       "<style scoped>\n",
       "    .dataframe tbody tr th:only-of-type {\n",
       "        vertical-align: middle;\n",
       "    }\n",
       "\n",
       "    .dataframe tbody tr th {\n",
       "        vertical-align: top;\n",
       "    }\n",
       "\n",
       "    .dataframe thead th {\n",
       "        text-align: right;\n",
       "    }\n",
       "</style>\n",
       "<table border=\"1\" class=\"dataframe\">\n",
       "  <thead>\n",
       "    <tr style=\"text-align: right;\">\n",
       "      <th></th>\n",
       "      <th>user_id</th>\n",
       "    </tr>\n",
       "  </thead>\n",
       "  <tbody>\n",
       "    <tr>\n",
       "      <th>0</th>\n",
       "      <td>1</td>\n",
       "    </tr>\n",
       "    <tr>\n",
       "      <th>1</th>\n",
       "      <td>2</td>\n",
       "    </tr>\n",
       "    <tr>\n",
       "      <th>2</th>\n",
       "      <td>3</td>\n",
       "    </tr>\n",
       "    <tr>\n",
       "      <th>3</th>\n",
       "      <td>4</td>\n",
       "    </tr>\n",
       "    <tr>\n",
       "      <th>4</th>\n",
       "      <td>5</td>\n",
       "    </tr>\n",
       "    <tr>\n",
       "      <th>...</th>\n",
       "      <td>...</td>\n",
       "    </tr>\n",
       "    <tr>\n",
       "      <th>10877</th>\n",
       "      <td>13020</td>\n",
       "    </tr>\n",
       "    <tr>\n",
       "      <th>10878</th>\n",
       "      <td>13021</td>\n",
       "    </tr>\n",
       "    <tr>\n",
       "      <th>10879</th>\n",
       "      <td>13022</td>\n",
       "    </tr>\n",
       "    <tr>\n",
       "      <th>10880</th>\n",
       "      <td>13023</td>\n",
       "    </tr>\n",
       "    <tr>\n",
       "      <th>10881</th>\n",
       "      <td>13024</td>\n",
       "    </tr>\n",
       "  </tbody>\n",
       "</table>\n",
       "<p>10882 rows × 1 columns</p>\n",
       "</div>"
      ],
      "text/plain": [
       "       user_id\n",
       "0            1\n",
       "1            2\n",
       "2            3\n",
       "3            4\n",
       "4            5\n",
       "...        ...\n",
       "10877    13020\n",
       "10878    13021\n",
       "10879    13022\n",
       "10880    13023\n",
       "10881    13024\n",
       "\n",
       "[10882 rows x 1 columns]"
      ]
     },
     "execution_count": 67,
     "metadata": {},
     "output_type": "execute_result"
    }
   ],
   "source": [
    "# Read the dataframe\n",
    "target = pd.read_csv(filepath_or_buffer=submission_sample)\n",
    "target"
   ]
  }
 ],
 "metadata": {
  "kaggle": {
   "accelerator": "none",
   "dataSources": [
    {
     "databundleVersionId": 6919098,
     "sourceId": 62803,
     "sourceType": "competition"
    }
   ],
   "dockerImageVersionId": 30558,
   "isGpuEnabled": false,
   "isInternetEnabled": true,
   "language": "python",
   "sourceType": "notebook"
  },
  "kernelspec": {
   "display_name": "Python 3 (ipykernel)",
   "language": "python",
   "name": "python3"
  },
  "language_info": {
   "codemirror_mode": {
    "name": "ipython",
    "version": 3
   },
   "file_extension": ".py",
   "mimetype": "text/x-python",
   "name": "python",
   "nbconvert_exporter": "python",
   "pygments_lexer": "ipython3",
   "version": "3.8.18"
  }
 },
 "nbformat": 4,
 "nbformat_minor": 4
}
