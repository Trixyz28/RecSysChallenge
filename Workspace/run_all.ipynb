{
 "cells": [
  {
   "cell_type": "markdown",
   "metadata": {},
   "source": [
    "# Recommender Systems Challenge, 2023/2024 @ PoliMi"
   ]
  },
  {
   "cell_type": "markdown",
   "metadata": {},
   "source": [
    "# Introduction\n",
    "\n",
    "## Problem Description\n",
    "The application domain is book recommendation. The datasets contain interactions of users with books, in particular, if the user attributed to the book a rating of at least 4. The main goal of the competition is to discover which items (books) a user will interact with.\n",
    "\n",
    "The datasets includes around 600k interactions, 13k users, 22k items (books).\n",
    "The training-test split is done via random holdout, 80% training, 20% test.\n",
    "The goal is to recommend a list of 10 potentially relevant items for each user.\n",
    "\n",
    "\n",
    "## Datasets\n",
    "All files are comma-separated (columns are separated with ',' ).\n",
    "\n",
    "- **data_train.csv**:\n",
    "Contains the training set, describing implicit preferences expressed by the users.\n",
    "    - **user_id** : identifier of the user\n",
    "    - **item_id** : identifier of the item (Book)\n",
    "    - **data** : \"1.0\" if the user liked the book attributing it a rating of at least 4.\n",
    "\n",
    "\n",
    "- **data_target_users_test.csv**:\n",
    "Contains the ids of the users that should appear in your submission file.\n",
    "The submission file should contain all and only these users.\n",
    "\n",
    "- **sample_submission.csv**:\n",
    "A sample submission file in the correct format: [user_id],[ordered list of recommended items].\n",
    "Be careful with the spaces and be sure to recommend the correct number of items to every user."
   ]
  },
  {
   "cell_type": "markdown",
   "metadata": {},
   "source": [
    "# Requirements\n",
    "\n",
    "The working environment and the required libraries are defined here."
   ]
  },
  {
   "cell_type": "code",
   "execution_count": 1,
   "metadata": {
    "_cell_guid": "b1076dfc-b9ad-4769-8c92-a6c4dae69d19",
    "_uuid": "8f2839f25d086af736a60e9eeb907d3b93b6e0e5",
    "execution": {
     "iopub.execute_input": "2023-11-12T22:55:27.107416Z",
     "iopub.status.busy": "2023-11-12T22:55:27.107103Z",
     "iopub.status.idle": "2023-11-12T22:55:27.415864Z",
     "shell.execute_reply": "2023-11-12T22:55:27.415002Z",
     "shell.execute_reply.started": "2023-11-12T22:55:27.107392Z"
    }
   },
   "outputs": [
    {
     "name": "stderr",
     "output_type": "stream",
     "text": [
      "C:\\Users\\zheng\\.conda\\envs\\RecSysFramework\\lib\\site-packages\\lightfm\\_lightfm_fast.py:9: UserWarning: LightFM was compiled without OpenMP support. Only a single thread will be used.\n",
      "  warnings.warn(\n"
     ]
    }
   ],
   "source": [
    "# Import libraries\n",
    "\n",
    "import numpy as np # linear algebra\n",
    "import pandas as pd # data processing, CSV file I/O (e.g. pd.read_csv)\n",
    "import scipy.sparse as sps # creation of sparse matrix\n",
    "import matplotlib.pyplot as pyplot # plot\n",
    "import tensorflow as tf\n",
    "\n",
    "from tqdm import tqdm\n",
    "\n",
    "from scipy.stats import uniform, loguniform\n",
    "\n",
    "from Recommenders.Recommender_import_list import *\n",
    "\n",
    "from Data_manager.DataSplitter_leave_k_out import DataSplitter_leave_k_out\n",
    "from Recommenders.Incremental_Training_Early_Stopping import Incremental_Training_Early_Stopping\n",
    "from Recommenders.BaseCBFRecommender import BaseItemCBFRecommender, BaseUserCBFRecommender\n",
    "from Evaluation.Evaluator import EvaluatorHoldout\n",
    "import traceback, os"
   ]
  },
  {
   "cell_type": "code",
   "execution_count": 2,
   "metadata": {},
   "outputs": [],
   "source": [
    "%load_ext Cython"
   ]
  },
  {
   "cell_type": "markdown",
   "metadata": {},
   "source": [
    "# Data Preprocessing"
   ]
  },
  {
   "cell_type": "code",
   "execution_count": 3,
   "metadata": {
    "execution": {
     "iopub.execute_input": "2023-11-12T22:55:29.530470Z",
     "iopub.status.busy": "2023-11-12T22:55:29.530065Z",
     "iopub.status.idle": "2023-11-12T22:55:29.536636Z",
     "shell.execute_reply": "2023-11-12T22:55:29.535790Z",
     "shell.execute_reply.started": "2023-11-12T22:55:29.530448Z"
    }
   },
   "outputs": [
    {
     "data": {
      "text/plain": [
       "_io.TextIOWrapper"
      ]
     },
     "execution_count": 3,
     "metadata": {},
     "output_type": "execute_result"
    }
   ],
   "source": [
    "# Handle the input file\n",
    "input_file = open('Input/data_train.csv', 'r')\n",
    "type(input_file)"
   ]
  },
  {
   "cell_type": "code",
   "execution_count": 4,
   "metadata": {
    "execution": {
     "iopub.execute_input": "2023-11-12T22:55:31.169146Z",
     "iopub.status.busy": "2023-11-12T22:55:31.168482Z",
     "iopub.status.idle": "2023-11-12T22:55:31.385566Z",
     "shell.execute_reply": "2023-11-12T22:55:31.384663Z",
     "shell.execute_reply.started": "2023-11-12T22:55:31.169120Z"
    }
   },
   "outputs": [
    {
     "data": {
      "text/plain": [
       "(478730, 3)"
      ]
     },
     "execution_count": 4,
     "metadata": {},
     "output_type": "execute_result"
    }
   ],
   "source": [
    "# Build the dataframe from the input file\n",
    "input_df = pd.read_csv(\n",
    "    filepath_or_buffer=input_file,\n",
    "    dtype={0:int, 1:int, 2:int},\n",
    "    names=['user_id','item_id','data'],\n",
    "    header=0\n",
    ")\n",
    "\n",
    "input_df.shape"
   ]
  },
  {
   "cell_type": "code",
   "execution_count": 5,
   "metadata": {
    "execution": {
     "iopub.execute_input": "2023-11-12T22:55:34.346527Z",
     "iopub.status.busy": "2023-11-12T22:55:34.346196Z",
     "iopub.status.idle": "2023-11-12T22:55:34.361128Z",
     "shell.execute_reply": "2023-11-12T22:55:34.360275Z",
     "shell.execute_reply.started": "2023-11-12T22:55:34.346502Z"
    }
   },
   "outputs": [
    {
     "data": {
      "text/html": [
       "<div>\n",
       "<style scoped>\n",
       "    .dataframe tbody tr th:only-of-type {\n",
       "        vertical-align: middle;\n",
       "    }\n",
       "\n",
       "    .dataframe tbody tr th {\n",
       "        vertical-align: top;\n",
       "    }\n",
       "\n",
       "    .dataframe thead th {\n",
       "        text-align: right;\n",
       "    }\n",
       "</style>\n",
       "<table border=\"1\" class=\"dataframe\">\n",
       "  <thead>\n",
       "    <tr style=\"text-align: right;\">\n",
       "      <th></th>\n",
       "      <th>user_id</th>\n",
       "      <th>item_id</th>\n",
       "      <th>data</th>\n",
       "    </tr>\n",
       "  </thead>\n",
       "  <tbody>\n",
       "    <tr>\n",
       "      <th>0</th>\n",
       "      <td>1</td>\n",
       "      <td>7</td>\n",
       "      <td>1</td>\n",
       "    </tr>\n",
       "    <tr>\n",
       "      <th>1</th>\n",
       "      <td>1</td>\n",
       "      <td>15</td>\n",
       "      <td>1</td>\n",
       "    </tr>\n",
       "    <tr>\n",
       "      <th>2</th>\n",
       "      <td>1</td>\n",
       "      <td>16</td>\n",
       "      <td>1</td>\n",
       "    </tr>\n",
       "    <tr>\n",
       "      <th>3</th>\n",
       "      <td>1</td>\n",
       "      <td>133</td>\n",
       "      <td>1</td>\n",
       "    </tr>\n",
       "    <tr>\n",
       "      <th>4</th>\n",
       "      <td>1</td>\n",
       "      <td>161</td>\n",
       "      <td>1</td>\n",
       "    </tr>\n",
       "    <tr>\n",
       "      <th>5</th>\n",
       "      <td>1</td>\n",
       "      <td>187</td>\n",
       "      <td>1</td>\n",
       "    </tr>\n",
       "    <tr>\n",
       "      <th>6</th>\n",
       "      <td>1</td>\n",
       "      <td>205</td>\n",
       "      <td>1</td>\n",
       "    </tr>\n",
       "    <tr>\n",
       "      <th>7</th>\n",
       "      <td>1</td>\n",
       "      <td>222</td>\n",
       "      <td>1</td>\n",
       "    </tr>\n",
       "    <tr>\n",
       "      <th>8</th>\n",
       "      <td>1</td>\n",
       "      <td>237</td>\n",
       "      <td>1</td>\n",
       "    </tr>\n",
       "    <tr>\n",
       "      <th>9</th>\n",
       "      <td>1</td>\n",
       "      <td>354</td>\n",
       "      <td>1</td>\n",
       "    </tr>\n",
       "  </tbody>\n",
       "</table>\n",
       "</div>"
      ],
      "text/plain": [
       "   user_id  item_id  data\n",
       "0        1        7     1\n",
       "1        1       15     1\n",
       "2        1       16     1\n",
       "3        1      133     1\n",
       "4        1      161     1\n",
       "5        1      187     1\n",
       "6        1      205     1\n",
       "7        1      222     1\n",
       "8        1      237     1\n",
       "9        1      354     1"
      ]
     },
     "execution_count": 5,
     "metadata": {},
     "output_type": "execute_result"
    }
   ],
   "source": [
    "# Show the first rows of the dataframe\n",
    "input_df.head(n=10)"
   ]
  },
  {
   "cell_type": "code",
   "execution_count": 6,
   "metadata": {
    "execution": {
     "iopub.execute_input": "2023-11-12T22:55:37.530832Z",
     "iopub.status.busy": "2023-11-12T22:55:37.530481Z",
     "iopub.status.idle": "2023-11-12T22:55:37.550310Z",
     "shell.execute_reply": "2023-11-12T22:55:37.549787Z",
     "shell.execute_reply.started": "2023-11-12T22:55:37.530806Z"
    }
   },
   "outputs": [
    {
     "name": "stdout",
     "output_type": "stream",
     "text": [
      "[    1     2     3 ... 13022 13023 13024]\n",
      "[    7    15    16 ... 22317 22339 21466]\n"
     ]
    }
   ],
   "source": [
    "# Create arrays of unique user_ids and item_ids\n",
    "arr_users = input_df[\"user_id\"].unique()\n",
    "arr_items = input_df[\"item_id\"].unique()\n",
    "\n",
    "print(arr_users)\n",
    "print(arr_items)"
   ]
  },
  {
   "cell_type": "code",
   "execution_count": 7,
   "metadata": {
    "execution": {
     "iopub.execute_input": "2023-11-12T22:56:02.215375Z",
     "iopub.status.busy": "2023-11-12T22:56:02.214968Z",
     "iopub.status.idle": "2023-11-12T22:56:02.223353Z",
     "shell.execute_reply": "2023-11-12T22:56:02.222530Z",
     "shell.execute_reply.started": "2023-11-12T22:56:02.215349Z"
    }
   },
   "outputs": [
    {
     "name": "stdout",
     "output_type": "stream",
     "text": [
      "Average interaction per user 37.88\n",
      "Average interaction per item 21.54\n",
      "Sparsity 99.83 %\n"
     ]
    }
   ],
   "source": [
    "# Show some statistics\n",
    "n_users = len(arr_users)\n",
    "n_items = len(arr_items)\n",
    "n_interactions = len(input_df)\n",
    "\n",
    "print(\"Average interaction per user {:.2f}\".format(n_interactions/n_users))\n",
    "print(\"Average interaction per item {:.2f}\".format(n_interactions/n_items))\n",
    "print(\"Sparsity {:.2f} %\".format((1-float(n_interactions)/(n_items*n_users))*100))"
   ]
  },
  {
   "cell_type": "code",
   "execution_count": 8,
   "metadata": {},
   "outputs": [
    {
     "name": "stdout",
     "output_type": "stream",
     "text": [
      "Number of users\t 12638, Number of items\t 22222 \n",
      "\n",
      "Max ID users\t 13024, Max ID items\t 22347 \n",
      "\n"
     ]
    }
   ],
   "source": [
    "print(\"Number of users\\t {}, Number of items\\t {} \\n\".format(n_users, n_items))\n",
    "print(\"Max ID users\\t {}, Max ID items\\t {} \\n\".format(max(arr_users), max(arr_items)))"
   ]
  },
  {
   "cell_type": "code",
   "execution_count": 9,
   "metadata": {},
   "outputs": [],
   "source": [
    "# # Remove empty indices, create a new mapping\n",
    "\n",
    "# mapped_id, original_id = pd.factorize(input_df[\"user_id\"].unique())\n",
    "# user_original_ID_to_index = pd.Series(mapped_id, index=original_id)\n",
    "\n",
    "# mapped_id, original_id = pd.factorize(input_df[\"item_id\"].unique())\n",
    "# item_original_ID_to_index = pd.Series(mapped_id, index=original_id)\n",
    "\n",
    "\n",
    "# original_item_ID = 980\n",
    "# print(\"New index for item {} is {}\".format(original_item_ID, item_original_ID_to_index[original_item_ID]))"
   ]
  },
  {
   "cell_type": "code",
   "execution_count": 10,
   "metadata": {},
   "outputs": [],
   "source": [
    "# # Replace the IDs in the dataframe\n",
    "\n",
    "# input_df[\"user_id\"] = input_df[\"user_id\"].map(user_original_ID_to_index)\n",
    "# input_df[\"item_id\"] = input_df[\"item_id\"].map(item_original_ID_to_index)\n",
    "\n",
    "\n",
    "# input_df.head(n=10)"
   ]
  },
  {
   "cell_type": "markdown",
   "metadata": {},
   "source": [
    "# Matrix Conversion"
   ]
  },
  {
   "cell_type": "code",
   "execution_count": 11,
   "metadata": {
    "execution": {
     "iopub.execute_input": "2023-11-12T22:56:41.759574Z",
     "iopub.status.busy": "2023-11-12T22:56:41.759295Z",
     "iopub.status.idle": "2023-11-12T22:56:41.769131Z",
     "shell.execute_reply": "2023-11-12T22:56:41.768410Z",
     "shell.execute_reply.started": "2023-11-12T22:56:41.759551Z"
    }
   },
   "outputs": [
    {
     "data": {
      "text/plain": [
       "<13025x22348 sparse matrix of type '<class 'numpy.int32'>'\n",
       "\twith 478730 stored elements in COOrdinate format>"
      ]
     },
     "execution_count": 11,
     "metadata": {},
     "output_type": "execute_result"
    }
   ],
   "source": [
    "# Build the COO matrix with the COO constructor: (data, (row, column))\n",
    "URM_all = sps.coo_matrix(\n",
    "    (input_df[\"data\"].values,\n",
    "    (input_df[\"user_id\"].values, input_df[\"item_id\"].values))\n",
    ")\n",
    "\n",
    "URM_all"
   ]
  },
  {
   "cell_type": "code",
   "execution_count": 12,
   "metadata": {
    "execution": {
     "iopub.execute_input": "2023-11-12T22:56:46.591716Z",
     "iopub.status.busy": "2023-11-12T22:56:46.591432Z",
     "iopub.status.idle": "2023-11-12T22:56:46.605733Z",
     "shell.execute_reply": "2023-11-12T22:56:46.604615Z",
     "shell.execute_reply.started": "2023-11-12T22:56:46.591696Z"
    }
   },
   "outputs": [
    {
     "data": {
      "text/plain": [
       "<13025x22348 sparse matrix of type '<class 'numpy.intc'>'\n",
       "\twith 478730 stored elements in Compressed Sparse Row format>"
      ]
     },
     "execution_count": 12,
     "metadata": {},
     "output_type": "execute_result"
    }
   ],
   "source": [
    "# Convert the matrix to Compressed Sparse Row format\n",
    "URM_all = URM_all.tocsr()\n",
    "\n",
    "URM_all"
   ]
  },
  {
   "cell_type": "code",
   "execution_count": 13,
   "metadata": {
    "execution": {
     "iopub.execute_input": "2023-11-12T22:56:50.673578Z",
     "iopub.status.busy": "2023-11-12T22:56:50.673250Z",
     "iopub.status.idle": "2023-11-12T22:56:50.688362Z",
     "shell.execute_reply": "2023-11-12T22:56:50.687787Z",
     "shell.execute_reply.started": "2023-11-12T22:56:50.673552Z"
    }
   },
   "outputs": [
    {
     "data": {
      "text/plain": [
       "array([   0, 1581, 1764, ...,    3,    5,    2])"
      ]
     },
     "execution_count": 13,
     "metadata": {},
     "output_type": "execute_result"
    }
   ],
   "source": [
    "# Compute the item popularity as the number of interaction in each column\n",
    "\n",
    "# numpy.ediff1d(): calculate the differences between consecutive elements of an array.\n",
    "# (scipy) indptr maps the elements of data and indices to the rows of the sparse matrix.\n",
    "item_popularity = np.ediff1d(URM_all.tocsc().indptr)\n",
    "item_popularity"
   ]
  },
  {
   "cell_type": "code",
   "execution_count": 14,
   "metadata": {
    "execution": {
     "iopub.execute_input": "2023-11-12T22:56:52.555626Z",
     "iopub.status.busy": "2023-11-12T22:56:52.554891Z",
     "iopub.status.idle": "2023-11-12T22:56:52.562565Z",
     "shell.execute_reply": "2023-11-12T22:56:52.561896Z",
     "shell.execute_reply.started": "2023-11-12T22:56:52.555593Z"
    }
   },
   "outputs": [
    {
     "data": {
      "text/plain": [
       "array([   0,    0,    0, ..., 1581, 1666, 1764])"
      ]
     },
     "execution_count": 14,
     "metadata": {},
     "output_type": "execute_result"
    }
   ],
   "source": [
    "# Sort the popularity array\n",
    "item_popularity = np.sort(item_popularity)\n",
    "item_popularity"
   ]
  },
  {
   "cell_type": "code",
   "execution_count": 15,
   "metadata": {
    "execution": {
     "iopub.execute_input": "2023-11-12T22:56:54.597465Z",
     "iopub.status.busy": "2023-11-12T22:56:54.597146Z",
     "iopub.status.idle": "2023-11-12T22:56:54.812621Z",
     "shell.execute_reply": "2023-11-12T22:56:54.811595Z",
     "shell.execute_reply.started": "2023-11-12T22:56:54.597440Z"
    }
   },
   "outputs": [
    {
     "data": {
      "image/png": "[encoded data removed]",
      "text/plain": [
       "<Figure size 640x480 with 1 Axes>"
      ]
     },
     "metadata": {},
     "output_type": "display_data"
    }
   ],
   "source": [
    "# Plot the correlation between sorted items and the number of interactions.\n",
    "pyplot.plot(item_popularity, 'ro')\n",
    "pyplot.ylabel('Num Interactions')\n",
    "pyplot.xlabel('Sorted Item')\n",
    "pyplot.show()"
   ]
  },
  {
   "cell_type": "code",
   "execution_count": 16,
   "metadata": {
    "execution": {
     "iopub.execute_input": "2023-11-12T22:56:58.473087Z",
     "iopub.status.busy": "2023-11-12T22:56:58.472593Z",
     "iopub.status.idle": "2023-11-12T22:56:58.479846Z",
     "shell.execute_reply": "2023-11-12T22:56:58.478957Z",
     "shell.execute_reply.started": "2023-11-12T22:56:58.473061Z"
    }
   },
   "outputs": [
    {
     "name": "stdout",
     "output_type": "stream",
     "text": [
      "Average per-item interactions over the whole dataset 21.42\n",
      "Average per-item interactions for the top 10% popular items 122.73\n",
      "Average per-item interactions for the least 10% popular items 2.18\n",
      "Average per-item interactions for the median 10% popular items 8.25\n",
      "Number of items with zero interactions 126\n"
     ]
    }
   ],
   "source": [
    "# Statistics\n",
    "ten_percent = int(n_items/10)\n",
    "\n",
    "print(\"Average per-item interactions over the whole dataset {:.2f}\".\n",
    "      format(item_popularity.mean()))\n",
    "\n",
    "print(\"Average per-item interactions for the top 10% popular items {:.2f}\".\n",
    "      format(item_popularity[-ten_percent:].mean()))\n",
    "\n",
    "print(\"Average per-item interactions for the least 10% popular items {:.2f}\".\n",
    "      format(item_popularity[:ten_percent].mean()))\n",
    "\n",
    "print(\"Average per-item interactions for the median 10% popular items {:.2f}\".\n",
    "      format(item_popularity[int(n_items*0.45):int(n_items*0.55)].mean()))\n",
    "\n",
    "print(\"Number of items with zero interactions {}\".\n",
    "      format(np.sum(item_popularity==0)))"
   ]
  },
  {
   "cell_type": "code",
   "execution_count": 17,
   "metadata": {
    "execution": {
     "iopub.execute_input": "2023-11-12T22:57:08.195018Z",
     "iopub.status.busy": "2023-11-12T22:57:08.194711Z",
     "iopub.status.idle": "2023-11-12T22:57:08.201059Z",
     "shell.execute_reply": "2023-11-12T22:57:08.200165Z",
     "shell.execute_reply.started": "2023-11-12T22:57:08.194997Z"
    }
   },
   "outputs": [
    {
     "data": {
      "text/plain": [
       "array([   0,    0,    0, ...,  729,  824, 1351])"
      ]
     },
     "execution_count": 17,
     "metadata": {},
     "output_type": "execute_result"
    }
   ],
   "source": [
    "# Compute the user activity as the number of interaction in each row\n",
    "user_activity = np.ediff1d(URM_all.indptr)\n",
    "user_activity = np.sort(user_activity)\n",
    "user_activity"
   ]
  },
  {
   "cell_type": "code",
   "execution_count": 18,
   "metadata": {
    "execution": {
     "iopub.execute_input": "2023-11-12T22:57:10.794195Z",
     "iopub.status.busy": "2023-11-12T22:57:10.793893Z",
     "iopub.status.idle": "2023-11-12T22:57:10.963991Z",
     "shell.execute_reply": "2023-11-12T22:57:10.963156Z",
     "shell.execute_reply.started": "2023-11-12T22:57:10.794172Z"
    }
   },
   "outputs": [
    {
     "data": {
      "image/png": "[encoded data removed]",
      "text/plain": [
       "<Figure size 640x480 with 1 Axes>"
      ]
     },
     "metadata": {},
     "output_type": "display_data"
    }
   ],
   "source": [
    "# Plot the correlation between sorted users and number of interactions\n",
    "pyplot.plot(user_activity, 'ro')\n",
    "pyplot.ylabel('Num Interactions')\n",
    "pyplot.xlabel('Sorted User')\n",
    "pyplot.show()"
   ]
  },
  {
   "cell_type": "markdown",
   "metadata": {},
   "source": [
    "# Evaluation of the recommender"
   ]
  },
  {
   "cell_type": "code",
   "execution_count": 19,
   "metadata": {
    "execution": {
     "iopub.execute_input": "2023-11-12T22:57:21.250734Z",
     "iopub.status.busy": "2023-11-12T22:57:21.250427Z",
     "iopub.status.idle": "2023-11-12T22:57:21.254680Z",
     "shell.execute_reply": "2023-11-12T22:57:21.253888Z",
     "shell.execute_reply.started": "2023-11-12T22:57:21.250710Z"
    }
   },
   "outputs": [],
   "source": [
    "def _get_instance(recommender_class, URM_train, ICM_all, UCM_all):\n",
    "\n",
    "    if issubclass(recommender_class, BaseItemCBFRecommender):\n",
    "        recommender_object = recommender_class(URM_train, ICM_all)\n",
    "    elif issubclass(recommender_class, BaseUserCBFRecommender):\n",
    "        recommender_object = recommender_class(URM_train, UCM_all)\n",
    "    else:\n",
    "        recommender_object = recommender_class(URM_train)\n",
    "\n",
    "    return recommender_object# Define the train-test splitting ratio"
   ]
  },
  {
   "cell_type": "code",
   "execution_count": 20,
   "metadata": {},
   "outputs": [],
   "source": [
    "train_test_split = 0.85"
   ]
  },
  {
   "cell_type": "code",
   "execution_count": 21,
   "metadata": {},
   "outputs": [],
   "source": [
    "# Import Evaluators\n",
    "from Data_manager.split_functions.split_train_validation_random_holdout import split_train_in_two_percentage_global_sample"
   ]
  },
  {
   "cell_type": "code",
   "execution_count": 22,
   "metadata": {},
   "outputs": [
    {
     "name": "stdout",
     "output_type": "stream",
     "text": [
      "Warning: 526 (4.04 %) of 13025 users have no train items\n",
      "Warning: 3159 (24.25 %) of 13025 users have no sampled items\n",
      "Warning: 703 (5.40 %) of 13025 users have no train items\n",
      "Warning: 3424 (26.29 %) of 13025 users have no sampled items\n",
      "EvaluatorHoldout: Ignoring 3424 (26.3%) Users that have less than 1 test interactions\n",
      "EvaluatorHoldout: Ignoring 3159 (24.3%) Users that have less than 1 test interactions\n"
     ]
    }
   ],
   "source": [
    "URM_train, URM_test = split_train_in_two_percentage_global_sample(URM_all, train_percentage = train_test_split)\n",
    "URM_train, URM_validation = split_train_in_two_percentage_global_sample(URM_train, train_percentage = train_test_split)\n",
    "\n",
    "\n",
    "evaluator_validation = EvaluatorHoldout(URM_validation, cutoff_list=[10], exclude_seen = True)\n",
    "evaluator = EvaluatorHoldout(URM_test, cutoff_list=[10], exclude_seen = True)"
   ]
  },
  {
   "cell_type": "code",
   "execution_count": null,
   "metadata": {},
   "outputs": [],
   "source": []
  },
  {
   "cell_type": "markdown",
   "metadata": {},
   "source": [
    "Content-based: URM in csr, ICM in csr\n",
    "\n",
    "Collaborative filtering: URM in csr\n",
    "\n",
    "FunkSVD: URM in coo\n",
    "\n",
    "AsySVD: URM in coo\n"
   ]
  },
  {
   "cell_type": "code",
   "execution_count": 23,
   "metadata": {},
   "outputs": [
    {
     "name": "stdout",
     "output_type": "stream",
     "text": [
      "EvaluatorHoldout: Ignoring 3424 (26.3%) Users that have less than 1 test interactions\n"
     ]
    }
   ],
   "source": [
    "earlystopping_keywargs = {\"validation_every_n\": 5,\n",
    "                        \"stop_on_validation\": True,\n",
    "                        \"evaluator_object\": EvaluatorHoldout(URM_validation, [10], exclude_seen=True),\n",
    "                        \"lower_validations_allowed\": 5,\n",
    "                        \"validation_metric\": \"MAP\",\n",
    "}"
   ]
  },
  {
   "cell_type": "code",
   "execution_count": 24,
   "metadata": {},
   "outputs": [],
   "source": [
    "output_root_path = \"./result_experiments/\"\n",
    "\n",
    "# If directory does not exist, create\n",
    "if not os.path.exists(output_root_path):\n",
    "    os.makedirs(output_root_path)\n",
    "\n",
    "\n",
    "logFile = open(output_root_path + \"result_all_algorithms.txt\", \"a\")"
   ]
  },
  {
   "cell_type": "code",
   "execution_count": 25,
   "metadata": {},
   "outputs": [],
   "source": [
    "recommender_class_list = [\n",
    "    Random,\n",
    "    TopPop,\n",
    "    GlobalEffects,\n",
    "    SLIMElasticNetRecommender,\n",
    "    UserKNNCFRecommender,\n",
    "    IALSRecommender,\n",
    "    MatrixFactorization_BPR_Cython,\n",
    "    # MatrixFactorization_FunkSVD_Cython,\n",
    "    MatrixFactorization_AsySVD_Cython,\n",
    "    EASE_R_Recommender,\n",
    "    ItemKNNCFRecommender,\n",
    "    P3alphaRecommender,\n",
    "    SLIM_BPR_Cython,\n",
    "    RP3betaRecommender,\n",
    "    PureSVDRecommender,\n",
    "    NMFRecommender,\n",
    "    UserKNNCBFRecommender,\n",
    "    ItemKNNCBFRecommender,\n",
    "    UserKNN_CFCBF_Hybrid_Recommender,\n",
    "    ItemKNN_CFCBF_Hybrid_Recommender,\n",
    "    LightFMCFRecommender,\n",
    "    LightFMUserHybridRecommender,\n",
    "    LightFMItemHybridRecommender,\n",
    "]"
   ]
  },
  {
   "cell_type": "code",
   "execution_count": 26,
   "metadata": {},
   "outputs": [],
   "source": [
    "ICM_all = np.array([])\n",
    "UCM_all = np.array([])"
   ]
  },
  {
   "cell_type": "code",
   "execution_count": null,
   "metadata": {
    "scrolled": true
   },
   "outputs": [
    {
     "name": "stderr",
     "output_type": "stream",
     "text": [
      "\r",
      "  0%|                                                                                                | 0/22 [00:00<?, ?it/s]"
     ]
    },
    {
     "name": "stdout",
     "output_type": "stream",
     "text": [
      "Algorithm: <class 'Recommenders.NonPersonalizedRecommender.Random'>\n",
      "RandomRecommender: URM Detected 703 ( 5.4%) users with no interactions.\n",
      "RandomRecommender: URM Detected 313 ( 1.4%) items with no interactions.\n",
      "EvaluatorHoldout: Processed 9866 (100.0%) in 5.79 sec. Users per second: 1705\n",
      "RandomRecommender: Saving model in file './result_experiments/temp_model.zip'\n",
      "RandomRecommender: Saving complete\n",
      "RandomRecommender: URM Detected 703 ( 5.4%) users with no interactions.\n",
      "RandomRecommender: URM Detected 313 ( 1.4%) items with no interactions.\n",
      "RandomRecommender: Loading model from file './result_experiments/temp_model.zip'\n",
      "RandomRecommender: Loading complete\n",
      "EvaluatorHoldout: Processed 9866 (100.0%) in 5.80 sec. Users per second: 1702\n"
     ]
    },
    {
     "name": "stderr",
     "output_type": "stream",
     "text": [
      "\r",
      "  5%|████                                                                                    | 1/22 [00:11<04:04, 11.62s/it]"
     ]
    },
    {
     "name": "stdout",
     "output_type": "stream",
     "text": [
      "Algorithm: <class 'Recommenders.NonPersonalizedRecommender.Random'>, results: \n",
      "CUTOFF: 10 - PRECISION: 0.0003446, PRECISION_RECALL_MIN_DEN: 0.0006922, RECALL: 0.0005970, MAP: 0.0000895, MAP_MIN_DEN: 0.0001982, MRR: 0.0008948, NDCG: 0.0004832, F1: 0.0004370, HIT_RATE: 0.0034462, ARHR_ALL_HITS: 0.0008948, NOVELTY: 0.0068600, AVERAGE_POPULARITY: 0.0118872, DIVERSITY_MEAN_INTER_LIST: 0.9995552, DIVERSITY_HERFINDAHL: 0.9999454, COVERAGE_ITEM: 0.9885896, COVERAGE_ITEM_HIT: 0.0015214, ITEMS_IN_GT: 0.7239574, COVERAGE_USER: 0.7574664, COVERAGE_USER_HIT: 0.0026104, USERS_IN_GT: 0.7574664, DIVERSITY_GINI: 0.7389694, SHANNON_ENTROPY: 14.2798848, RATIO_DIVERSITY_HERFINDAHL: 1.0003072, RATIO_DIVERSITY_GINI: 2.1460907, RATIO_SHANNON_ENTROPY: 1.1005257, RATIO_AVERAGE_POPULARITY: 0.1009350, RATIO_NOVELTY: 0.4449276, \n",
      "\n",
      "Algorithm: <class 'Recommenders.NonPersonalizedRecommender.TopPop'>\n",
      "TopPopRecommender: URM Detected 703 ( 5.4%) users with no interactions.\n",
      "TopPopRecommender: URM Detected 313 ( 1.4%) items with no interactions.\n",
      "EvaluatorHoldout: Processed 9866 (100.0%) in 5.32 sec. Users per second: 1856\n",
      "TopPopRecommender: Saving model in file './result_experiments/temp_model.zip'\n",
      "TopPopRecommender: Saving complete\n",
      "TopPopRecommender: URM Detected 703 ( 5.4%) users with no interactions.\n",
      "TopPopRecommender: URM Detected 313 ( 1.4%) items with no interactions.\n",
      "TopPopRecommender: Loading model from file './result_experiments/temp_model.zip'\n",
      "TopPopRecommender: Loading complete\n",
      "EvaluatorHoldout: Processed 9866 (100.0%) in 5.31 sec. Users per second: 1858\n"
     ]
    },
    {
     "name": "stderr",
     "output_type": "stream",
     "text": [
      "\r",
      "  9%|████████                                                                                | 2/22 [00:22<03:41, 11.06s/it]"
     ]
    },
    {
     "name": "stdout",
     "output_type": "stream",
     "text": [
      "Algorithm: <class 'Recommenders.NonPersonalizedRecommender.TopPop'>, results: \n",
      "CUTOFF: 10 - PRECISION: 0.0226941, PRECISION_RECALL_MIN_DEN: 0.0500740, RECALL: 0.0456202, MAP: 0.0088857, MAP_MIN_DEN: 0.0192084, MRR: 0.0737662, NDCG: 0.0391560, F1: 0.0303102, HIT_RATE: 0.1911616, ARHR_ALL_HITS: 0.0808880, NOVELTY: 0.0038302, AVERAGE_POPULARITY: 0.7277142, DIVERSITY_MEAN_INTER_LIST: 0.1484619, DIVERSITY_HERFINDAHL: 0.9148447, COVERAGE_ITEM: 0.0010292, COVERAGE_ITEM_HIT: 0.0008054, ITEMS_IN_GT: 0.7239574, COVERAGE_USER: 0.7574664, COVERAGE_USER_HIT: 0.1447985, USERS_IN_GT: 0.7574664, DIVERSITY_GINI: 0.0005417, SHANNON_ENTROPY: 3.6444576, RATIO_DIVERSITY_HERFINDAHL: 0.9151757, RATIO_DIVERSITY_GINI: 0.0015733, RATIO_SHANNON_ENTROPY: 0.2808720, RATIO_AVERAGE_POPULARITY: 6.1790469, RATIO_NOVELTY: 0.2484205, \n",
      "\n",
      "Algorithm: <class 'Recommenders.NonPersonalizedRecommender.GlobalEffects'>\n",
      "GlobalEffectsRecommender: URM Detected 703 ( 5.4%) users with no interactions.\n",
      "GlobalEffectsRecommender: URM Detected 313 ( 1.4%) items with no interactions.\n",
      "EvaluatorHoldout: Processed 9866 (100.0%) in 3.76 sec. Users per second: 2622\n",
      "GlobalEffectsRecommender: Saving model in file './result_experiments/temp_model.zip'\n",
      "GlobalEffectsRecommender: Saving complete\n",
      "GlobalEffectsRecommender: URM Detected 703 ( 5.4%) users with no interactions.\n",
      "GlobalEffectsRecommender: URM Detected 313 ( 1.4%) items with no interactions.\n",
      "GlobalEffectsRecommender: Loading model from file './result_experiments/temp_model.zip'\n",
      "GlobalEffectsRecommender: Loading complete\n",
      "EvaluatorHoldout: Processed 9866 (100.0%) in 3.72 sec. Users per second: 2654\n"
     ]
    },
    {
     "name": "stderr",
     "output_type": "stream",
     "text": [
      "\r",
      " 14%|████████████                                                                            | 3/22 [00:29<02:59,  9.47s/it]"
     ]
    },
    {
     "name": "stdout",
     "output_type": "stream",
     "text": [
      "Algorithm: <class 'Recommenders.NonPersonalizedRecommender.GlobalEffects'>, results: \n",
      "CUTOFF: 10 - PRECISION: 0.0000811, PRECISION_RECALL_MIN_DEN: 0.0001464, RECALL: 0.0001130, MAP: 0.0000222, MAP_MIN_DEN: 0.0000392, MRR: 0.0002223, NDCG: 0.0001067, F1: 0.0000944, HIT_RATE: 0.0008109, ARHR_ALL_HITS: 0.0002223, NOVELTY: 0.0075356, AVERAGE_POPULARITY: 0.0026936, DIVERSITY_MEAN_INTER_LIST: 0.2389302, DIVERSITY_HERFINDAHL: 0.9238906, COVERAGE_ITEM: 0.0062198, COVERAGE_ITEM_HIT: 0.0003132, ITEMS_IN_GT: 0.7239574, COVERAGE_USER: 0.7574664, COVERAGE_USER_HIT: 0.0006142, USERS_IN_GT: 0.7574664, DIVERSITY_GINI: 0.0005922, SHANNON_ENTROPY: 3.9380099, RATIO_DIVERSITY_HERFINDAHL: 0.9242249, RATIO_DIVERSITY_GINI: 0.0017199, RATIO_SHANNON_ENTROPY: 0.3034955, RATIO_AVERAGE_POPULARITY: 0.0228717, RATIO_NOVELTY: 0.4887464, \n",
      "\n",
      "Algorithm: <class 'Recommenders.SLIM.SLIMElasticNetRecommender.SLIMElasticNetRecommender'>\n",
      "SLIMElasticNetRecommender: URM Detected 703 ( 5.4%) users with no interactions.\n",
      "SLIMElasticNetRecommender: URM Detected 313 ( 1.4%) items with no interactions.\n",
      "SLIMElasticNetRecommender: Processed 22348 (100.0%) in 3.04 min. Items per second: 122.32\n",
      "EvaluatorHoldout: Processed 9866 (100.0%) in 3.37 sec. Users per second: 2930\n",
      "SLIMElasticNetRecommender: Saving model in file './result_experiments/temp_model.zip'\n",
      "SLIMElasticNetRecommender: Saving complete\n",
      "SLIMElasticNetRecommender: URM Detected 703 ( 5.4%) users with no interactions.\n",
      "SLIMElasticNetRecommender: URM Detected 313 ( 1.4%) items with no interactions.\n",
      "SLIMElasticNetRecommender: Loading model from file './result_experiments/temp_model.zip'\n",
      "SLIMElasticNetRecommender: Loading complete\n",
      "EvaluatorHoldout: Processed 9866 (100.0%) in 3.39 sec. Users per second: 2908\n"
     ]
    },
    {
     "name": "stderr",
     "output_type": "stream",
     "text": [
      "\r",
      " 18%|████████████████                                                                        | 4/22 [03:39<24:09, 80.55s/it]"
     ]
    },
    {
     "name": "stdout",
     "output_type": "stream",
     "text": [
      "Algorithm: <class 'Recommenders.SLIM.SLIMElasticNetRecommender.SLIMElasticNetRecommender'>, results: \n",
      "CUTOFF: 10 - PRECISION: 0.0000608, PRECISION_RECALL_MIN_DEN: 0.0000804, RECALL: 0.0000582, MAP: 0.0000194, MAP_MIN_DEN: 0.0000215, MRR: 0.0001935, NDCG: 0.0000702, F1: 0.0000595, HIT_RATE: 0.0006081, ARHR_ALL_HITS: 0.0001935, NOVELTY: 0.0073029, AVERAGE_POPULARITY: 0.0033762, DIVERSITY_MEAN_INTER_LIST: 0.2411967, DIVERSITY_HERFINDAHL: 0.9241172, COVERAGE_ITEM: 0.0038482, COVERAGE_ITEM_HIT: 0.0002237, ITEMS_IN_GT: 0.7239574, COVERAGE_USER: 0.7574664, COVERAGE_USER_HIT: 0.0004607, USERS_IN_GT: 0.7574664, DIVERSITY_GINI: 0.0005871, SHANNON_ENTROPY: 3.9363720, RATIO_DIVERSITY_HERFINDAHL: 0.9244516, RATIO_DIVERSITY_GINI: 0.0017050, RATIO_SHANNON_ENTROPY: 0.3033693, RATIO_AVERAGE_POPULARITY: 0.0286670, RATIO_NOVELTY: 0.4736551, \n",
      "\n",
      "Algorithm: <class 'Recommenders.KNN.UserKNNCFRecommender.UserKNNCFRecommender'>\n",
      "UserKNNCFRecommender: URM Detected 703 ( 5.4%) users with no interactions.\n",
      "UserKNNCFRecommender: URM Detected 313 ( 1.4%) items with no interactions.\n",
      "Similarity column 13025 (100.0%), 12633.24 column/sec. Elapsed time 1.03 sec\n",
      "EvaluatorHoldout: Processed 9866 (100.0%) in 3.86 sec. Users per second: 2559\n",
      "UserKNNCFRecommender: Saving model in file './result_experiments/temp_model.zip'\n",
      "UserKNNCFRecommender: Saving complete\n",
      "UserKNNCFRecommender: URM Detected 703 ( 5.4%) users with no interactions.\n",
      "UserKNNCFRecommender: URM Detected 313 ( 1.4%) items with no interactions.\n",
      "UserKNNCFRecommender: Loading model from file './result_experiments/temp_model.zip'\n",
      "UserKNNCFRecommender: Loading complete\n",
      "EvaluatorHoldout: Processed 9866 (100.0%) in 3.87 sec. Users per second: 2547\n"
     ]
    },
    {
     "name": "stderr",
     "output_type": "stream",
     "text": [
      "\r",
      " 23%|████████████████████                                                                    | 5/22 [03:48<15:31, 54.81s/it]"
     ]
    },
    {
     "name": "stdout",
     "output_type": "stream",
     "text": [
      "Algorithm: <class 'Recommenders.KNN.UserKNNCFRecommender.UserKNNCFRecommender'>, results: \n",
      "CUTOFF: 10 - PRECISION: 0.0358301, PRECISION_RECALL_MIN_DEN: 0.0599113, RECALL: 0.0510317, MAP: 0.0160228, MAP_MIN_DEN: 0.0269986, MRR: 0.1141930, NDCG: 0.0549725, F1: 0.0421007, HIT_RATE: 0.2516724, ARHR_ALL_HITS: 0.1347382, NOVELTY: 0.0053195, AVERAGE_POPULARITY: 0.1896800, DIVERSITY_MEAN_INTER_LIST: 0.9814999, DIVERSITY_HERFINDAHL: 0.9981400, COVERAGE_ITEM: 0.5070700, COVERAGE_ITEM_HIT: 0.0421067, ITEMS_IN_GT: 0.7239574, COVERAGE_USER: 0.7574664, COVERAGE_USER_HIT: 0.1906334, USERS_IN_GT: 0.7574664, DIVERSITY_GINI: 0.1234549, SHANNON_ENTROPY: 11.1416503, RATIO_DIVERSITY_HERFINDAHL: 0.9985012, RATIO_DIVERSITY_GINI: 0.3585337, RATIO_SHANNON_ENTROPY: 0.8586675, RATIO_AVERAGE_POPULARITY: 1.6105796, RATIO_NOVELTY: 0.3450147, \n",
      "\n",
      "Algorithm: <class 'Recommenders.MatrixFactorization.IALSRecommender.IALSRecommender'>\n",
      "IALSRecommender: URM Detected 703 ( 5.4%) users with no interactions.\n",
      "IALSRecommender: URM Detected 313 ( 1.4%) items with no interactions.\n",
      "IALSRecommender: Epoch 1 of 15. Elapsed time 1.48 sec\n",
      "IALSRecommender: Epoch 2 of 15. Elapsed time 2.99 sec\n",
      "IALSRecommender: Epoch 3 of 15. Elapsed time 4.48 sec\n",
      "IALSRecommender: Epoch 4 of 15. Elapsed time 5.97 sec\n",
      "IALSRecommender: Validation begins...\n",
      "EvaluatorHoldout: Processed 9601 (100.0%) in 5.37 sec. Users per second: 1789\n",
      "IALSRecommender: CUTOFF: 10 - PRECISION: 0.0374857, PRECISION_RECALL_MIN_DEN: 0.0859396, RECALL: 0.0803324, MAP: 0.0159654, MAP_MIN_DEN: 0.0365891, MRR: 0.1234029, NDCG: 0.0689851, F1: 0.0511180, HIT_RATE: 0.2881991, ARHR_ALL_HITS: 0.1402023, NOVELTY: 0.0043274, AVERAGE_POPULARITY: 0.4052947, DIVERSITY_MEAN_INTER_LIST: 0.8928588, DIVERSITY_HERFINDAHL: 0.9892766, COVERAGE_ITEM: 0.0164221, COVERAGE_ITEM_HIT: 0.0103812, ITEMS_IN_GT: 0.6810453, COVERAGE_USER: 0.7371209, COVERAGE_USER_HIT: 0.2124376, USERS_IN_GT: 0.7371209, DIVERSITY_GINI: 0.0045436, SHANNON_ENTROPY: 7.0780243, RATIO_DIVERSITY_HERFINDAHL: 0.9896345, RATIO_DIVERSITY_GINI: 0.0131955, RATIO_SHANNON_ENTROPY: 0.5454909, RATIO_AVERAGE_POPULARITY: 3.4413719, RATIO_NOVELTY: 0.2806661, \n",
      "\n",
      "IALSRecommender: New best model found! Updating.\n",
      "IALSRecommender: Epoch 5 of 15. Elapsed time 12.84 sec\n",
      "IALSRecommender: Epoch 6 of 15. Elapsed time 14.30 sec\n",
      "IALSRecommender: Epoch 7 of 15. Elapsed time 15.76 sec\n",
      "IALSRecommender: Epoch 8 of 15. Elapsed time 17.17 sec\n",
      "IALSRecommender: Epoch 9 of 15. Elapsed time 18.59 sec\n",
      "IALSRecommender: Validation begins...\n",
      "EvaluatorHoldout: Processed 9601 (100.0%) in 5.41 sec. Users per second: 1774\n",
      "IALSRecommender: CUTOFF: 10 - PRECISION: 0.0389439, PRECISION_RECALL_MIN_DEN: 0.0892038, RECALL: 0.0833262, MAP: 0.0168677, MAP_MIN_DEN: 0.0386838, MRR: 0.1299043, NDCG: 0.0722967, F1: 0.0530800, HIT_RATE: 0.2973649, ARHR_ALL_HITS: 0.1477641, NOVELTY: 0.0043437, AVERAGE_POPULARITY: 0.3978096, DIVERSITY_MEAN_INTER_LIST: 0.8979801, DIVERSITY_HERFINDAHL: 0.9897887, COVERAGE_ITEM: 0.0167353, COVERAGE_ITEM_HIT: 0.0111419, ITEMS_IN_GT: 0.6810453, COVERAGE_USER: 0.7371209, COVERAGE_USER_HIT: 0.2191939, USERS_IN_GT: 0.7371209, DIVERSITY_GINI: 0.0048119, SHANNON_ENTROPY: 7.1595988, RATIO_DIVERSITY_HERFINDAHL: 0.9901468, RATIO_DIVERSITY_GINI: 0.0139745, RATIO_SHANNON_ENTROPY: 0.5517778, RATIO_AVERAGE_POPULARITY: 3.3778151, RATIO_NOVELTY: 0.2817265, \n",
      "\n",
      "IALSRecommender: New best model found! Updating.\n",
      "IALSRecommender: Epoch 10 of 15. Elapsed time 25.52 sec\n",
      "IALSRecommender: Epoch 11 of 15. Elapsed time 27.06 sec\n",
      "IALSRecommender: Epoch 12 of 15. Elapsed time 28.57 sec\n",
      "IALSRecommender: Epoch 13 of 15. Elapsed time 30.11 sec\n",
      "IALSRecommender: Epoch 14 of 15. Elapsed time 31.58 sec\n",
      "IALSRecommender: Validation begins...\n",
      "EvaluatorHoldout: Processed 9601 (100.0%) in 5.40 sec. Users per second: 1778\n",
      "IALSRecommender: CUTOFF: 10 - PRECISION: 0.0391626, PRECISION_RECALL_MIN_DEN: 0.0894669, RECALL: 0.0836088, MAP: 0.0171735, MAP_MIN_DEN: 0.0395532, MRR: 0.1326733, NDCG: 0.0733695, F1: 0.0533404, HIT_RATE: 0.2989272, ARHR_ALL_HITS: 0.1507187, NOVELTY: 0.0043502, AVERAGE_POPULARITY: 0.3938454, DIVERSITY_MEAN_INTER_LIST: 0.9002998, DIVERSITY_HERFINDAHL: 0.9900206, COVERAGE_ITEM: 0.0170485, COVERAGE_ITEM_HIT: 0.0107840, ITEMS_IN_GT: 0.6810453, COVERAGE_USER: 0.7371209, COVERAGE_USER_HIT: 0.2203455, USERS_IN_GT: 0.7371209, DIVERSITY_GINI: 0.0048938, SHANNON_ENTROPY: 7.1854803, RATIO_DIVERSITY_HERFINDAHL: 0.9903788, RATIO_DIVERSITY_GINI: 0.0142124, RATIO_SHANNON_ENTROPY: 0.5537724, RATIO_AVERAGE_POPULARITY: 3.3441552, RATIO_NOVELTY: 0.2821423, \n",
      "\n",
      "IALSRecommender: New best model found! Updating.\n",
      "IALSRecommender: Epoch 15 of 15. Elapsed time 38.41 sec\n",
      "IALSRecommender: Terminating at epoch 15. Best value for 'MAP' at epoch 15 is 0.0172. Elapsed time 38.41 sec\n",
      "EvaluatorHoldout: Processed 9866 (100.0%) in 5.53 sec. Users per second: 1785\n",
      "IALSRecommender: Saving model in file './result_experiments/temp_model.zip'\n",
      "IALSRecommender: Saving complete\n",
      "IALSRecommender: URM Detected 703 ( 5.4%) users with no interactions.\n",
      "IALSRecommender: URM Detected 313 ( 1.4%) items with no interactions.\n",
      "IALSRecommender: Loading model from file './result_experiments/temp_model.zip'\n",
      "IALSRecommender: Loading complete\n",
      "EvaluatorHoldout: Processed 9866 (100.0%) in 5.48 sec. Users per second: 1799\n"
     ]
    },
    {
     "name": "stderr",
     "output_type": "stream",
     "text": [
      "\r",
      " 27%|████████████████████████                                                                | 6/22 [04:38<14:09, 53.07s/it]"
     ]
    },
    {
     "name": "stdout",
     "output_type": "stream",
     "text": [
      "Algorithm: <class 'Recommenders.MatrixFactorization.IALSRecommender.IALSRecommender'>, results: \n",
      "CUTOFF: 10 - PRECISION: 0.0450334, PRECISION_RECALL_MIN_DEN: 0.0946873, RECALL: 0.0858986, MAP: 0.0196295, MAP_MIN_DEN: 0.0413384, MRR: 0.1449314, NDCG: 0.0786960, F1: 0.0590888, HIT_RATE: 0.3295155, ARHR_ALL_HITS: 0.1682088, NOVELTY: 0.0043490, AVERAGE_POPULARITY: 0.3937965, DIVERSITY_MEAN_INTER_LIST: 0.9002799, DIVERSITY_HERFINDAHL: 0.9900189, COVERAGE_ITEM: 0.0171380, COVERAGE_ITEM_HIT: 0.0117684, ITEMS_IN_GT: 0.7239574, COVERAGE_USER: 0.7574664, COVERAGE_USER_HIT: 0.2495969, USERS_IN_GT: 0.7574664, DIVERSITY_GINI: 0.0048919, SHANNON_ENTROPY: 7.1848843, RATIO_DIVERSITY_HERFINDAHL: 0.9903771, RATIO_DIVERSITY_GINI: 0.0142070, RATIO_SHANNON_ENTROPY: 0.5537265, RATIO_AVERAGE_POPULARITY: 3.3437402, RATIO_NOVELTY: 0.2820656, \n",
      "\n",
      "Algorithm: <class 'Recommenders.MatrixFactorization.Cython.MatrixFactorization_Cython.MatrixFactorization_BPR_Cython'>\n",
      "MatrixFactorization_BPR_Cython_Recommender: URM Detected 703 ( 5.4%) users with no interactions.\n",
      "MatrixFactorization_BPR_Cython_Recommender: URM Detected 313 ( 1.4%) items with no interactions.\n",
      "Algorithm: <class 'Recommenders.MatrixFactorization.Cython.MatrixFactorization_Cython.MatrixFactorization_AsySVD_Cython'>\n",
      "MatrixFactorization_AsySVD_Cython_Recommender: URM Detected 703 ( 5.4%) users with no interactions.\n",
      "MatrixFactorization_AsySVD_Cython_Recommender: URM Detected 313 ( 1.4%) items with no interactions.\n",
      "Algorithm: <class 'Recommenders.EASE_R.EASE_R_Recommender.EASE_R_Recommender'>\n",
      "EASE_R_Recommender: URM Detected 703 ( 5.4%) users with no interactions.\n",
      "EASE_R_Recommender: URM Detected 313 ( 1.4%) items with no interactions.\n",
      "EASE_R_Recommender: Fitting model... \n"
     ]
    },
    {
     "name": "stderr",
     "output_type": "stream",
     "text": [
      "Traceback (most recent call last):\n",
      "  File \"C:\\Users\\zheng\\AppData\\Local\\Temp\\ipykernel_24296\\1019192044.py\", line 14, in <module>\n",
      "    recommender_object.fit(**fit_params)\n",
      "  File \"D:\\Uni\\Magistrale\\Recommender Systems\\23-24 challenge\\Recommenders\\MatrixFactorization\\Cython\\MatrixFactorization_Cython.py\", line 169, in fit\n",
      "    super(MatrixFactorization_BPR_Cython, self).fit(**key_args)\n",
      "  File \"D:\\Uni\\Magistrale\\Recommender Systems\\23-24 challenge\\Recommenders\\MatrixFactorization\\Cython\\MatrixFactorization_Cython.py\", line 91, in fit\n",
      "    self.cythonEpoch = MatrixFactorization_Cython_Epoch(URM_train_positive,\n",
      "  File \"MatrixFactorization_Cython_Epoch.pyx\", line 99, in MatrixFactorization_Cython_Epoch.MatrixFactorization_Cython_Epoch.__init__\n",
      "TypeError: __init__() got an unexpected keyword argument 'WARP_neg_item_attempts'\n",
      "Traceback (most recent call last):\n",
      "  File \"C:\\Users\\zheng\\AppData\\Local\\Temp\\ipykernel_24296\\1019192044.py\", line 14, in <module>\n",
      "    recommender_object.fit(**fit_params)\n",
      "  File \"D:\\Uni\\Magistrale\\Recommender Systems\\23-24 challenge\\Recommenders\\MatrixFactorization\\Cython\\MatrixFactorization_Cython.py\", line 249, in fit\n",
      "    super(MatrixFactorization_AsySVD_Cython, self).fit(**key_args)\n",
      "  File \"D:\\Uni\\Magistrale\\Recommender Systems\\23-24 challenge\\Recommenders\\MatrixFactorization\\Cython\\MatrixFactorization_Cython.py\", line 62, in fit\n",
      "    self.cythonEpoch = MatrixFactorization_Cython_Epoch(self.URM_train,\n",
      "  File \"MatrixFactorization_Cython_Epoch.pyx\", line 170, in MatrixFactorization_Cython_Epoch.MatrixFactorization_Cython_Epoch.__init__\n",
      "  File \"MatrixFactorization_Cython_Epoch.pyx\", line 763, in MatrixFactorization_Cython_Epoch.MatrixFactorization_Cython_Epoch._init_minibatch_data_structures\n",
      "  File \"C:\\Users\\zheng\\.conda\\envs\\RecSysFramework\\lib\\site-packages\\numpy\\__init__.py\", line 305, in __getattr__\n",
      "    raise AttributeError(__former_attrs__[attr])\n",
      "AttributeError: module 'numpy' has no attribute 'int'.\n",
      "`np.int` was a deprecated alias for the builtin `int`. To avoid this error in existing code, use `int` by itself. Doing this will not modify any behavior and is safe. When replacing `np.int`, you may wish to use e.g. `np.int64` or `np.int32` to specify the precision. If you wish to review your current use, check the release note link for additional information.\n",
      "The aliases was originally deprecated in NumPy 1.20; for more details and guidance see the original release note at:\n",
      "    https://numpy.org/devdocs/release/1.20.0-notes.html#deprecations\n"
     ]
    },
    {
     "name": "stdout",
     "output_type": "stream",
     "text": [
      "EASE_R_Recommender: Fitting model... done in 1.48 min\n",
      "EvaluatorHoldout: Processed 9866 (100.0%) in 6.22 sec. Users per second: 1585\n",
      "EASE_R_Recommender: Saving model in file './result_experiments/temp_model.zip'\n",
      "EASE_R_Recommender: Saving complete\n",
      "EASE_R_Recommender: URM Detected 703 ( 5.4%) users with no interactions.\n",
      "EASE_R_Recommender: URM Detected 313 ( 1.4%) items with no interactions.\n",
      "EASE_R_Recommender: Loading model from file './result_experiments/temp_model.zip'\n",
      "EASE_R_Recommender: Loading complete\n",
      "EvaluatorHoldout: Processed 9866 (100.0%) in 6.27 sec. Users per second: 1573\n"
     ]
    },
    {
     "name": "stderr",
     "output_type": "stream",
     "text": [
      "\r",
      " 41%|████████████████████████████████████                                                    | 9/22 [07:32<12:07, 55.98s/it]"
     ]
    },
    {
     "name": "stdout",
     "output_type": "stream",
     "text": [
      "Algorithm: <class 'Recommenders.EASE_R.EASE_R_Recommender.EASE_R_Recommender'>, results: \n",
      "CUTOFF: 10 - PRECISION: 0.0555038, PRECISION_RECALL_MIN_DEN: 0.1236455, RECALL: 0.1136958, MAP: 0.0250503, MAP_MIN_DEN: 0.0560137, MRR: 0.1803208, NDCG: 0.1019966, F1: 0.0745929, HIT_RATE: 0.3970201, ARHR_ALL_HITS: 0.2119168, NOVELTY: 0.0043823, AVERAGE_POPULARITY: 0.4308465, DIVERSITY_MEAN_INTER_LIST: 0.8584360, DIVERSITY_HERFINDAHL: 0.9858349, COVERAGE_ITEM: 0.1098532, COVERAGE_ITEM_HIT: 0.0267585, ITEMS_IN_GT: 0.7239574, COVERAGE_USER: 0.7574664, COVERAGE_USER_HIT: 0.3007294, USERS_IN_GT: 0.7574664, DIVERSITY_GINI: 0.0101962, SHANNON_ENTROPY: 7.6414638, RATIO_DIVERSITY_HERFINDAHL: 0.9861916, RATIO_DIVERSITY_GINI: 0.0296114, RATIO_SHANNON_ENTROPY: 0.5889142, RATIO_AVERAGE_POPULARITY: 3.6583325, RATIO_NOVELTY: 0.2842273, \n",
      "\n",
      "Algorithm: <class 'Recommenders.KNN.ItemKNNCFRecommender.ItemKNNCFRecommender'>\n",
      "ItemKNNCFRecommender: URM Detected 703 ( 5.4%) users with no interactions.\n",
      "ItemKNNCFRecommender: URM Detected 313 ( 1.4%) items with no interactions.\n",
      "Similarity column 22348 (100.0%), 12698.27 column/sec. Elapsed time 1.76 sec\n",
      "EvaluatorHoldout: Processed 9866 (100.0%) in 5.57 sec. Users per second: 1773\n",
      "ItemKNNCFRecommender: Saving model in file './result_experiments/temp_model.zip'\n",
      "ItemKNNCFRecommender: Saving complete\n",
      "ItemKNNCFRecommender: URM Detected 703 ( 5.4%) users with no interactions.\n",
      "ItemKNNCFRecommender: URM Detected 313 ( 1.4%) items with no interactions.\n",
      "ItemKNNCFRecommender: Loading model from file './result_experiments/temp_model.zip'\n",
      "ItemKNNCFRecommender: Loading complete\n",
      "EvaluatorHoldout: Processed 9866 (100.0%) in 5.57 sec. Users per second: 1771\n"
     ]
    },
    {
     "name": "stderr",
     "output_type": "stream",
     "text": [
      "\r",
      " 45%|███████████████████████████████████████▌                                               | 10/22 [07:45<09:19, 46.65s/it]"
     ]
    },
    {
     "name": "stdout",
     "output_type": "stream",
     "text": [
      "Algorithm: <class 'Recommenders.KNN.ItemKNNCFRecommender.ItemKNNCFRecommender'>, results: \n",
      "CUTOFF: 10 - PRECISION: 0.0578553, PRECISION_RECALL_MIN_DEN: 0.1255292, RECALL: 0.1144394, MAP: 0.0266161, MAP_MIN_DEN: 0.0584272, MRR: 0.1858320, NDCG: 0.1052864, F1: 0.0768558, HIT_RATE: 0.4012771, ARHR_ALL_HITS: 0.2213674, NOVELTY: 0.0047263, AVERAGE_POPULARITY: 0.2992546, DIVERSITY_MEAN_INTER_LIST: 0.9456209, DIVERSITY_HERFINDAHL: 0.9945525, COVERAGE_ITEM: 0.2260158, COVERAGE_ITEM_HIT: 0.0424647, ITEMS_IN_GT: 0.7239574, COVERAGE_USER: 0.7574664, COVERAGE_USER_HIT: 0.3039539, USERS_IN_GT: 0.7574664, DIVERSITY_GINI: 0.0277693, SHANNON_ENTROPY: 9.0257205, RATIO_DIVERSITY_HERFINDAHL: 0.9949124, RATIO_DIVERSITY_GINI: 0.0806467, RATIO_SHANNON_ENTROPY: 0.6955965, RATIO_AVERAGE_POPULARITY: 2.5409811, RATIO_NOVELTY: 0.3065415, \n",
      "\n",
      "Algorithm: <class 'Recommenders.GraphBased.P3alphaRecommender.P3alphaRecommender'>\n",
      "P3alphaRecommender: URM Detected 703 ( 5.4%) users with no interactions.\n",
      "P3alphaRecommender: URM Detected 313 ( 1.4%) items with no interactions.\n",
      "P3alphaRecommender: Similarity column 22348 (100.0%), 5409.60 column/sec. Elapsed time 4.13 sec\n",
      "EvaluatorHoldout: Processed 9866 (100.0%) in 3.83 sec. Users per second: 2576\n",
      "P3alphaRecommender: Saving model in file './result_experiments/temp_model.zip'\n",
      "P3alphaRecommender: Saving complete\n",
      "P3alphaRecommender: URM Detected 703 ( 5.4%) users with no interactions.\n",
      "P3alphaRecommender: URM Detected 313 ( 1.4%) items with no interactions.\n",
      "P3alphaRecommender: Loading model from file './result_experiments/temp_model.zip'\n",
      "P3alphaRecommender: Loading complete\n",
      "EvaluatorHoldout: Processed 9866 (100.0%) in 3.81 sec. Users per second: 2586\n"
     ]
    },
    {
     "name": "stderr",
     "output_type": "stream",
     "text": [
      "\r",
      " 50%|███████████████████████████████████████████▌                                           | 11/22 [07:59<07:05, 38.72s/it]"
     ]
    },
    {
     "name": "stdout",
     "output_type": "stream",
     "text": [
      "Algorithm: <class 'Recommenders.GraphBased.P3alphaRecommender.P3alphaRecommender'>, results: \n",
      "CUTOFF: 10 - PRECISION: 0.0284614, PRECISION_RECALL_MIN_DEN: 0.0555643, RECALL: 0.0493416, MAP: 0.0125448, MAP_MIN_DEN: 0.0262944, MRR: 0.0922543, NDCG: 0.0489930, F1: 0.0360997, HIT_RATE: 0.2132577, ARHR_ALL_HITS: 0.1068522, NOVELTY: 0.0059556, AVERAGE_POPULARITY: 0.0718191, DIVERSITY_MEAN_INTER_LIST: 0.9958088, DIVERSITY_HERFINDAHL: 0.9995708, COVERAGE_ITEM: 0.5397351, COVERAGE_ITEM_HIT: 0.0603186, ITEMS_IN_GT: 0.7239574, COVERAGE_USER: 0.7574664, COVERAGE_USER_HIT: 0.1615355, USERS_IN_GT: 0.7574664, DIVERSITY_GINI: 0.2076652, SHANNON_ENTROPY: 12.4240395, RATIO_DIVERSITY_HERFINDAHL: 0.9999325, RATIO_DIVERSITY_GINI: 0.6030945, RATIO_SHANNON_ENTROPY: 0.9574990, RATIO_AVERAGE_POPULARITY: 0.6098185, RATIO_NOVELTY: 0.3862657, \n",
      "\n",
      "Algorithm: <class 'Recommenders.SLIM.Cython.SLIM_BPR_Cython.SLIM_BPR_Cython'>\n",
      "SLIM_BPR_Recommender: URM Detected 703 ( 5.4%) users with no interactions.\n",
      "SLIM_BPR_Recommender: URM Detected 313 ( 1.4%) items with no interactions.\n",
      "Unable to read memory status: list index out of range\n",
      "SLIM_BPR_Recommender: Automatic selection of fastest train mode. Unable to get current RAM status, you may be using a non-Linux operating system. Using dense matrix.\n",
      "Processed 13025 (100.0%) in 0.13 sec. BPR loss is 1.97E-07. Sample per second: 101110\n",
      "SLIM_BPR_Recommender: Epoch 1 of 15. Elapsed time 0.03 sec\n",
      "Processed 13025 (100.0%) in 0.16 sec. BPR loss is 8.53E-07. Sample per second: 79025\n",
      "SLIM_BPR_Recommender: Epoch 2 of 15. Elapsed time 0.07 sec\n",
      "Processed 13025 (100.0%) in 0.20 sec. BPR loss is 1.04E-06. Sample per second: 65183\n",
      "SLIM_BPR_Recommender: Epoch 3 of 15. Elapsed time 0.10 sec\n",
      "Processed 13025 (100.0%) in 0.23 sec. BPR loss is 1.44E-06. Sample per second: 55944\n",
      "SLIM_BPR_Recommender: Epoch 4 of 15. Elapsed time 0.14 sec\n",
      "Processed 13025 (100.0%) in 0.27 sec. BPR loss is 2.02E-06. Sample per second: 48633\n",
      "SLIM_BPR_Recommender: Validation begins...\n",
      "EvaluatorHoldout: Processed 9601 (100.0%) in 4.50 sec. Users per second: 2135\n",
      "SLIM_BPR_Recommender: CUTOFF: 10 - PRECISION: 0.0382252, PRECISION_RECALL_MIN_DEN: 0.0893049, RECALL: 0.0840598, MAP: 0.0165565, MAP_MIN_DEN: 0.0390642, MRR: 0.1293296, NDCG: 0.0723652, F1: 0.0525527, HIT_RATE: 0.2974690, ARHR_ALL_HITS: 0.1462506, NOVELTY: 0.0044845, AVERAGE_POPULARITY: 0.4407689, DIVERSITY_MEAN_INTER_LIST: 0.8219101, DIVERSITY_HERFINDAHL: 0.9821825, COVERAGE_ITEM: 0.2127260, COVERAGE_ITEM_HIT: 0.0175855, ITEMS_IN_GT: 0.6810453, COVERAGE_USER: 0.7371209, COVERAGE_USER_HIT: 0.2192706, USERS_IN_GT: 0.7371209, DIVERSITY_GINI: 0.0210265, SHANNON_ENTROPY: 7.7426825, RATIO_DIVERSITY_HERFINDAHL: 0.9825378, RATIO_DIVERSITY_GINI: 0.0610643, RATIO_SHANNON_ENTROPY: 0.5967150, RATIO_AVERAGE_POPULARITY: 3.7425841, RATIO_NOVELTY: 0.2908537, \n",
      "\n",
      "SLIM_BPR_Recommender: New best model found! Updating.\n",
      "SLIM_BPR_Recommender: Epoch 5 of 15. Elapsed time 8.54 sec\n",
      "Processed 13025 (100.0%) in 0.68 sec. BPR loss is 2.46E-06. Sample per second: 19243\n",
      "SLIM_BPR_Recommender: Epoch 6 of 15. Elapsed time 8.58 sec\n",
      "Processed 13025 (100.0%) in 0.71 sec. BPR loss is 2.79E-06. Sample per second: 18271\n",
      "SLIM_BPR_Recommender: Epoch 7 of 15. Elapsed time 8.62 sec\n",
      "Processed 13025 (100.0%) in 0.75 sec. BPR loss is 3.28E-06. Sample per second: 17416\n",
      "SLIM_BPR_Recommender: Epoch 8 of 15. Elapsed time 8.65 sec\n",
      "Processed 13025 (100.0%) in 0.78 sec. BPR loss is 3.68E-06. Sample per second: 16638\n",
      "SLIM_BPR_Recommender: Epoch 9 of 15. Elapsed time 8.69 sec\n",
      "Processed 13025 (100.0%) in 0.82 sec. BPR loss is 4.15E-06. Sample per second: 15926\n",
      "SLIM_BPR_Recommender: Validation begins...\n",
      "EvaluatorHoldout: Processed 9601 (100.0%) in 4.50 sec. Users per second: 2135\n",
      "SLIM_BPR_Recommender: CUTOFF: 10 - PRECISION: 0.0393605, PRECISION_RECALL_MIN_DEN: 0.0930469, RECALL: 0.0876643, MAP: 0.0172549, MAP_MIN_DEN: 0.0409770, MRR: 0.1341861, NDCG: 0.0753493, F1: 0.0543281, HIT_RATE: 0.3047599, ARHR_ALL_HITS: 0.1519576, NOVELTY: 0.0044346, AVERAGE_POPULARITY: 0.4583090, DIVERSITY_MEAN_INTER_LIST: 0.8057092, DIVERSITY_HERFINDAHL: 0.9805625, COVERAGE_ITEM: 0.2135762, COVERAGE_ITEM_HIT: 0.0180329, ITEMS_IN_GT: 0.6810453, COVERAGE_USER: 0.7371209, COVERAGE_USER_HIT: 0.2246449, USERS_IN_GT: 0.7371209, DIVERSITY_GINI: 0.0197955, SHANNON_ENTROPY: 7.5854021, RATIO_DIVERSITY_HERFINDAHL: 0.9809173, RATIO_DIVERSITY_GINI: 0.0574894, RATIO_SHANNON_ENTROPY: 0.5845937, RATIO_AVERAGE_POPULARITY: 3.8915178, RATIO_NOVELTY: 0.2876193, \n",
      "\n",
      "SLIM_BPR_Recommender: New best model found! Updating.\n",
      "SLIM_BPR_Recommender: Epoch 10 of 15. Elapsed time 17.56 sec\n",
      "Processed 13025 (100.0%) in 0.69 sec. BPR loss is 4.44E-06. Sample per second: 18801\n",
      "SLIM_BPR_Recommender: Epoch 11 of 15. Elapsed time 17.60 sec\n",
      "Processed 13025 (100.0%) in 0.73 sec. BPR loss is 5.10E-06. Sample per second: 17922\n",
      "SLIM_BPR_Recommender: Epoch 12 of 15. Elapsed time 17.63 sec\n",
      "Processed 13025 (100.0%) in 0.76 sec. BPR loss is 5.38E-06. Sample per second: 17076\n",
      "SLIM_BPR_Recommender: Epoch 13 of 15. Elapsed time 17.67 sec\n",
      "Processed 13025 (100.0%) in 0.80 sec. BPR loss is 6.19E-06. Sample per second: 16347\n",
      "SLIM_BPR_Recommender: Epoch 14 of 15. Elapsed time 17.70 sec\n",
      "Processed 13025 (100.0%) in 0.83 sec. BPR loss is 6.20E-06. Sample per second: 15659\n",
      "SLIM_BPR_Recommender: Validation begins...\n",
      "EvaluatorHoldout: Processed 9601 (100.0%) in 4.48 sec. Users per second: 2143\n",
      "SLIM_BPR_Recommender: CUTOFF: 10 - PRECISION: 0.0399229, PRECISION_RECALL_MIN_DEN: 0.0948649, RECALL: 0.0894244, MAP: 0.0175936, MAP_MIN_DEN: 0.0421686, MRR: 0.1368654, NDCG: 0.0770340, F1: 0.0552015, HIT_RATE: 0.3079888, ARHR_ALL_HITS: 0.1549348, NOVELTY: 0.0044214, AVERAGE_POPULARITY: 0.4635544, DIVERSITY_MEAN_INTER_LIST: 0.8002947, DIVERSITY_HERFINDAHL: 0.9800211, COVERAGE_ITEM: 0.2150528, COVERAGE_ITEM_HIT: 0.0184804, ITEMS_IN_GT: 0.6810453, COVERAGE_USER: 0.7371209, COVERAGE_USER_HIT: 0.2270250, USERS_IN_GT: 0.7371209, DIVERSITY_GINI: 0.0194539, SHANNON_ENTROPY: 7.5384912, RATIO_DIVERSITY_HERFINDAHL: 0.9803757, RATIO_DIVERSITY_GINI: 0.0564974, RATIO_SHANNON_ENTROPY: 0.5809783, RATIO_AVERAGE_POPULARITY: 3.9360566, RATIO_NOVELTY: 0.2867627, \n",
      "\n",
      "SLIM_BPR_Recommender: New best model found! Updating.\n",
      "SLIM_BPR_Recommender: Epoch 15 of 15. Elapsed time 26.81 sec\n",
      "SLIM_BPR_Recommender: Terminating at epoch 15. Best value for 'MAP' at epoch 15 is 0.0176. Elapsed time 26.81 sec\n",
      "Deallocating Cython objects\n",
      "EvaluatorHoldout: Processed 9866 (100.0%) in 4.62 sec. Users per second: 2138\n",
      "SLIM_BPR_Recommender: Saving model in file './result_experiments/temp_model.zip'\n",
      "SLIM_BPR_Recommender: Saving complete\n",
      "SLIM_BPR_Recommender: URM Detected 703 ( 5.4%) users with no interactions.\n",
      "SLIM_BPR_Recommender: URM Detected 313 ( 1.4%) items with no interactions.\n",
      "Deallocating Cython objects\n",
      "SLIM_BPR_Recommender: Loading model from file './result_experiments/temp_model.zip'\n",
      "SLIM_BPR_Recommender: Loading complete\n",
      "EvaluatorHoldout: Processed 9866 (100.0%) in 4.67 sec. Users per second: 2115\n"
     ]
    },
    {
     "name": "stderr",
     "output_type": "stream",
     "text": [
      "\r",
      " 55%|███████████████████████████████████████████████▍                                       | 12/22 [08:44<06:42, 40.26s/it]"
     ]
    },
    {
     "name": "stdout",
     "output_type": "stream",
     "text": [
      "Algorithm: <class 'Recommenders.SLIM.Cython.SLIM_BPR_Cython.SLIM_BPR_Cython'>, results: \n",
      "CUTOFF: 10 - PRECISION: 0.0469897, PRECISION_RECALL_MIN_DEN: 0.1038143, RECALL: 0.0955144, MAP: 0.0209450, MAP_MIN_DEN: 0.0468252, MRR: 0.1548458, NDCG: 0.0861158, F1: 0.0629903, HIT_RATE: 0.3456315, ARHR_ALL_HITS: 0.1796895, NOVELTY: 0.0044297, AVERAGE_POPULARITY: 0.4607014, DIVERSITY_MEAN_INTER_LIST: 0.8033592, DIVERSITY_HERFINDAHL: 0.9803278, COVERAGE_ITEM: 0.2200644, COVERAGE_ITEM_HIT: 0.0217469, ITEMS_IN_GT: 0.7239574, COVERAGE_USER: 0.7574664, COVERAGE_USER_HIT: 0.2618042, USERS_IN_GT: 0.7574664, DIVERSITY_GINI: 0.0200815, SHANNON_ENTROPY: 7.5810976, RATIO_DIVERSITY_HERFINDAHL: 0.9806825, RATIO_DIVERSITY_GINI: 0.0583200, RATIO_SHANNON_ENTROPY: 0.5842619, RATIO_AVERAGE_POPULARITY: 3.9118322, RATIO_NOVELTY: 0.2873030, \n",
      "\n",
      "Algorithm: <class 'Recommenders.GraphBased.RP3betaRecommender.RP3betaRecommender'>\n",
      "RP3betaRecommender: URM Detected 703 ( 5.4%) users with no interactions.\n",
      "RP3betaRecommender: URM Detected 313 ( 1.4%) items with no interactions.\n",
      "RP3betaRecommender: Similarity column 22348 (100.0%), 4879.25 column/sec. Elapsed time 4.58 sec\n",
      "EvaluatorHoldout: Processed 9866 (100.0%) in 4.45 sec. Users per second: 2215\n",
      "RP3betaRecommender: Saving model in file './result_experiments/temp_model.zip'\n",
      "RP3betaRecommender: Saving complete\n",
      "RP3betaRecommender: URM Detected 703 ( 5.4%) users with no interactions.\n",
      "RP3betaRecommender: URM Detected 313 ( 1.4%) items with no interactions.\n",
      "RP3betaRecommender: Loading model from file './result_experiments/temp_model.zip'\n",
      "RP3betaRecommender: Loading complete\n",
      "EvaluatorHoldout: Processed 9866 (100.0%) in 4.38 sec. Users per second: 2250\n"
     ]
    },
    {
     "name": "stderr",
     "output_type": "stream",
     "text": [
      "\r",
      " 59%|███████████████████████████████████████████████████▍                                   | 13/22 [09:00<05:04, 33.89s/it]"
     ]
    },
    {
     "name": "stdout",
     "output_type": "stream",
     "text": [
      "Algorithm: <class 'Recommenders.GraphBased.RP3betaRecommender.RP3betaRecommender'>, results: \n",
      "CUTOFF: 10 - PRECISION: 0.0306913, PRECISION_RECALL_MIN_DEN: 0.0648493, RECALL: 0.0588898, MAP: 0.0115772, MAP_MIN_DEN: 0.0244130, MRR: 0.0813591, NDCG: 0.0490121, F1: 0.0403523, HIT_RATE: 0.2241030, ARHR_ALL_HITS: 0.0965425, NOVELTY: 0.0068413, AVERAGE_POPULARITY: 0.0567567, DIVERSITY_MEAN_INTER_LIST: 0.9948045, DIVERSITY_HERFINDAHL: 0.9994704, COVERAGE_ITEM: 0.5298908, COVERAGE_ITEM_HIT: 0.0515482, ITEMS_IN_GT: 0.7239574, COVERAGE_USER: 0.7574664, COVERAGE_USER_HIT: 0.1697505, USERS_IN_GT: 0.7574664, DIVERSITY_GINI: 0.1837142, SHANNON_ENTROPY: 12.2048042, RATIO_DIVERSITY_HERFINDAHL: 0.9998320, RATIO_DIVERSITY_GINI: 0.5335367, RATIO_SHANNON_ENTROPY: 0.9406029, RATIO_AVERAGE_POPULARITY: 0.4819235, RATIO_NOVELTY: 0.4437118, \n",
      "\n",
      "Algorithm: <class 'Recommenders.MatrixFactorization.PureSVDRecommender.PureSVDRecommender'>\n",
      "PureSVDRecommender: URM Detected 703 ( 5.4%) users with no interactions.\n",
      "PureSVDRecommender: URM Detected 313 ( 1.4%) items with no interactions.\n",
      "PureSVDRecommender: Computing SVD decomposition...\n",
      "PureSVDRecommender: Computing SVD decomposition... done in 0.40 sec\n",
      "EvaluatorHoldout: Processed 9866 (100.0%) in 5.46 sec. Users per second: 1806\n",
      "PureSVDRecommender: Saving model in file './result_experiments/temp_model.zip'\n",
      "PureSVDRecommender: Saving complete\n",
      "PureSVDRecommender: URM Detected 703 ( 5.4%) users with no interactions.\n",
      "PureSVDRecommender: URM Detected 313 ( 1.4%) items with no interactions.\n",
      "PureSVDRecommender: Loading model from file './result_experiments/temp_model.zip'\n",
      "PureSVDRecommender: Loading complete\n",
      "EvaluatorHoldout: Processed 9866 (100.0%) in 5.45 sec. Users per second: 1811\n"
     ]
    },
    {
     "name": "stderr",
     "output_type": "stream",
     "text": [
      "\r",
      " 64%|███████████████████████████████████████████████████████▎                               | 14/22 [09:12<03:42, 27.83s/it]"
     ]
    },
    {
     "name": "stdout",
     "output_type": "stream",
     "text": [
      "Algorithm: <class 'Recommenders.MatrixFactorization.PureSVDRecommender.PureSVDRecommender'>, results: \n",
      "CUTOFF: 10 - PRECISION: 0.0448611, PRECISION_RECALL_MIN_DEN: 0.0925299, RECALL: 0.0839697, MAP: 0.0210870, MAP_MIN_DEN: 0.0436646, MRR: 0.1537089, NDCG: 0.0807553, F1: 0.0584794, HIT_RATE: 0.3260693, ARHR_ALL_HITS: 0.1795392, NOVELTY: 0.0046811, AVERAGE_POPULARITY: 0.2229210, DIVERSITY_MEAN_INTER_LIST: 0.9591598, DIVERSITY_HERFINDAHL: 0.9959063, COVERAGE_ITEM: 0.0371845, COVERAGE_ITEM_HIT: 0.0218364, ITEMS_IN_GT: 0.7239574, COVERAGE_USER: 0.7574664, COVERAGE_USER_HIT: 0.2469866, USERS_IN_GT: 0.7574664, DIVERSITY_GINI: 0.0107302, SHANNON_ENTROPY: 8.3389427, RATIO_DIVERSITY_HERFINDAHL: 0.9962666, RATIO_DIVERSITY_GINI: 0.0311623, RATIO_SHANNON_ENTROPY: 0.6426677, RATIO_AVERAGE_POPULARITY: 1.8928300, RATIO_NOVELTY: 0.3036101, \n",
      "\n",
      "Algorithm: <class 'Recommenders.MatrixFactorization.NMFRecommender.NMFRecommender'>\n",
      "NMFRecommender: URM Detected 703 ( 5.4%) users with no interactions.\n",
      "NMFRecommender: URM Detected 313 ( 1.4%) items with no interactions.\n",
      "NMFRecommender: Computing NMF decomposition...\n",
      "NMFRecommender: Computing NMF decomposition... done in 4.01 sec\n",
      "EvaluatorHoldout: Processed 9866 (100.0%) in 5.35 sec. Users per second: 1843\n",
      "NMFRecommender: Saving model in file './result_experiments/temp_model.zip'\n",
      "NMFRecommender: Saving complete\n",
      "NMFRecommender: URM Detected 703 ( 5.4%) users with no interactions.\n",
      "NMFRecommender: URM Detected 313 ( 1.4%) items with no interactions.\n",
      "NMFRecommender: Loading model from file './result_experiments/temp_model.zip'\n",
      "NMFRecommender: Loading complete\n",
      "EvaluatorHoldout: Processed 9866 (100.0%) in 5.38 sec. Users per second: 1833\n"
     ]
    },
    {
     "name": "stderr",
     "output_type": "stream",
     "text": [
      "\r",
      " 68%|███████████████████████████████████████████████████████████▎                           | 15/22 [09:27<02:49, 24.29s/it]"
     ]
    },
    {
     "name": "stdout",
     "output_type": "stream",
     "text": [
      "Algorithm: <class 'Recommenders.MatrixFactorization.NMFRecommender.NMFRecommender'>, results: \n",
      "CUTOFF: 10 - PRECISION: 0.0416278, PRECISION_RECALL_MIN_DEN: 0.0846507, RECALL: 0.0761133, MAP: 0.0188715, MAP_MIN_DEN: 0.0389653, MRR: 0.1402515, NDCG: 0.0733040, F1: 0.0538203, HIT_RATE: 0.3076221, ARHR_ALL_HITS: 0.1621962, NOVELTY: 0.0047905, AVERAGE_POPULARITY: 0.1945679, DIVERSITY_MEAN_INTER_LIST: 0.9648855, DIVERSITY_HERFINDAHL: 0.9964788, COVERAGE_ITEM: 0.0517272, COVERAGE_ITEM_HIT: 0.0208520, ITEMS_IN_GT: 0.7239574, COVERAGE_USER: 0.7574664, COVERAGE_USER_HIT: 0.2330134, USERS_IN_GT: 0.7574664, DIVERSITY_GINI: 0.0127535, SHANNON_ENTROPY: 8.5885315, RATIO_DIVERSITY_HERFINDAHL: 0.9968393, RATIO_DIVERSITY_GINI: 0.0370383, RATIO_SHANNON_ENTROPY: 0.6619031, RATIO_AVERAGE_POPULARITY: 1.6520833, RATIO_NOVELTY: 0.3107010, \n",
      "\n",
      "Algorithm: <class 'Recommenders.KNN.UserKNNCBFRecommender.UserKNNCBFRecommender'>\n",
      "UserKNNCBFRecommender: URM Detected 703 ( 5.4%) users with no interactions.\n",
      "UserKNNCBFRecommender: URM Detected 313 ( 1.4%) items with no interactions.\n",
      "Algorithm: <class 'Recommenders.KNN.ItemKNNCBFRecommender.ItemKNNCBFRecommender'>\n",
      "ItemKNNCBFRecommender: URM Detected 703 ( 5.4%) users with no interactions.\n",
      "ItemKNNCBFRecommender: URM Detected 313 ( 1.4%) items with no interactions.\n",
      "Algorithm: <class 'Recommenders.KNN.UserKNN_CFCBF_Hybrid_Recommender.UserKNN_CFCBF_Hybrid_Recommender'>\n",
      "UserKNN_CFCBF_Hybrid_Recommender: URM Detected 703 ( 5.4%) users with no interactions.\n",
      "UserKNN_CFCBF_Hybrid_Recommender: URM Detected 313 ( 1.4%) items with no interactions.\n",
      "Algorithm: <class 'Recommenders.KNN.ItemKNN_CFCBF_Hybrid_Recommender.ItemKNN_CFCBF_Hybrid_Recommender'>\n",
      "ItemKNN_CFCBF_HybridRecommender: URM Detected 703 ( 5.4%) users with no interactions.\n",
      "ItemKNN_CFCBF_HybridRecommender: URM Detected 313 ( 1.4%) items with no interactions.\n",
      "Algorithm: <class 'Recommenders.FactorizationMachines.LightFMRecommender.LightFMCFRecommender'>\n",
      "LightFMCFRecommender: URM Detected 703 ( 5.4%) users with no interactions.\n",
      "LightFMCFRecommender: URM Detected 313 ( 1.4%) items with no interactions.\n"
     ]
    },
    {
     "name": "stderr",
     "output_type": "stream",
     "text": [
      "Traceback (most recent call last):\n",
      "  File \"C:\\Users\\zheng\\AppData\\Local\\Temp\\ipykernel_24296\\1019192044.py\", line 7, in <module>\n",
      "    recommender_object = _get_instance(recommender_class, URM_train, ICM_all, UCM_all)\n",
      "  File \"C:\\Users\\zheng\\AppData\\Local\\Temp\\ipykernel_24296\\389352537.py\", line 6, in _get_instance\n",
      "    recommender_object = recommender_class(URM_train, UCM_all)\n",
      "  File \"D:\\Uni\\Magistrale\\Recommender Systems\\23-24 challenge\\Recommenders\\KNN\\UserKNNCBFRecommender.py\", line 26, in __init__\n",
      "    super(UserKNNCBFRecommender, self).__init__(URM_train, UCM_train, verbose = verbose)\n",
      "  File \"D:\\Uni\\Magistrale\\Recommender Systems\\23-24 challenge\\Recommenders\\BaseCBFRecommender.py\", line 52, in __init__\n",
      "    assert self.n_users == UCM_train.shape[0], \"{}: URM_train has {} users but UCM_train has {}\".format(self.RECOMMENDER_NAME, self.n_items, UCM_train.shape[0])\n",
      "AssertionError: UserKNNCBFRecommender: URM_train has 22348 users but UCM_train has 0\n",
      "Traceback (most recent call last):\n",
      "  File \"C:\\Users\\zheng\\AppData\\Local\\Temp\\ipykernel_24296\\1019192044.py\", line 7, in <module>\n",
      "    recommender_object = _get_instance(recommender_class, URM_train, ICM_all, UCM_all)\n",
      "  File \"C:\\Users\\zheng\\AppData\\Local\\Temp\\ipykernel_24296\\389352537.py\", line 4, in _get_instance\n",
      "    recommender_object = recommender_class(URM_train, ICM_all)\n",
      "  File \"D:\\Uni\\Magistrale\\Recommender Systems\\23-24 challenge\\Recommenders\\KNN\\ItemKNNCBFRecommender.py\", line 26, in __init__\n",
      "    super(ItemKNNCBFRecommender, self).__init__(URM_train, ICM_train, verbose = verbose)\n",
      "  File \"D:\\Uni\\Magistrale\\Recommender Systems\\23-24 challenge\\Recommenders\\BaseCBFRecommender.py\", line 24, in __init__\n",
      "    assert self.n_items == ICM_train.shape[0], \"{}: URM_train has {} items but ICM_train has {}\".format(self.RECOMMENDER_NAME, self.n_items, ICM_train.shape[0])\n",
      "AssertionError: ItemKNNCBFRecommender: URM_train has 22348 items but ICM_train has 0\n",
      "Traceback (most recent call last):\n",
      "  File \"C:\\Users\\zheng\\AppData\\Local\\Temp\\ipykernel_24296\\1019192044.py\", line 7, in <module>\n",
      "    recommender_object = _get_instance(recommender_class, URM_train, ICM_all, UCM_all)\n",
      "  File \"C:\\Users\\zheng\\AppData\\Local\\Temp\\ipykernel_24296\\389352537.py\", line 6, in _get_instance\n",
      "    recommender_object = recommender_class(URM_train, UCM_all)\n",
      "  File \"D:\\Uni\\Magistrale\\Recommender Systems\\23-24 challenge\\Recommenders\\KNN\\UserKNNCBFRecommender.py\", line 26, in __init__\n",
      "    super(UserKNNCBFRecommender, self).__init__(URM_train, UCM_train, verbose = verbose)\n",
      "  File \"D:\\Uni\\Magistrale\\Recommender Systems\\23-24 challenge\\Recommenders\\BaseCBFRecommender.py\", line 52, in __init__\n",
      "    assert self.n_users == UCM_train.shape[0], \"{}: URM_train has {} users but UCM_train has {}\".format(self.RECOMMENDER_NAME, self.n_items, UCM_train.shape[0])\n",
      "AssertionError: UserKNN_CFCBF_Hybrid_Recommender: URM_train has 22348 users but UCM_train has 0\n",
      "Traceback (most recent call last):\n",
      "  File \"C:\\Users\\zheng\\AppData\\Local\\Temp\\ipykernel_24296\\1019192044.py\", line 7, in <module>\n",
      "    recommender_object = _get_instance(recommender_class, URM_train, ICM_all, UCM_all)\n",
      "  File \"C:\\Users\\zheng\\AppData\\Local\\Temp\\ipykernel_24296\\389352537.py\", line 4, in _get_instance\n",
      "    recommender_object = recommender_class(URM_train, ICM_all)\n",
      "  File \"D:\\Uni\\Magistrale\\Recommender Systems\\23-24 challenge\\Recommenders\\KNN\\ItemKNNCBFRecommender.py\", line 26, in __init__\n",
      "    super(ItemKNNCBFRecommender, self).__init__(URM_train, ICM_train, verbose = verbose)\n",
      "  File \"D:\\Uni\\Magistrale\\Recommender Systems\\23-24 challenge\\Recommenders\\BaseCBFRecommender.py\", line 24, in __init__\n",
      "    assert self.n_items == ICM_train.shape[0], \"{}: URM_train has {} items but ICM_train has {}\".format(self.RECOMMENDER_NAME, self.n_items, ICM_train.shape[0])\n",
      "AssertionError: ItemKNN_CFCBF_HybridRecommender: URM_train has 22348 items but ICM_train has 0\n"
     ]
    }
   ],
   "source": [
    "for recommender_class in tqdm(recommender_class_list):\n",
    "\n",
    "    try:\n",
    "\n",
    "        print(\"Algorithm: {}\".format(recommender_class))\n",
    "\n",
    "        recommender_object = _get_instance(recommender_class, URM_train, ICM_all, UCM_all)\n",
    "\n",
    "        if isinstance(recommender_object, Incremental_Training_Early_Stopping):\n",
    "            fit_params = {\"epochs\": 15, **earlystopping_keywargs}\n",
    "        else:\n",
    "            fit_params = {}\n",
    "\n",
    "        recommender_object.fit(**fit_params)\n",
    "\n",
    "        results_run_1, results_run_string_1 = evaluator.evaluateRecommender(recommender_object)\n",
    "\n",
    "        recommender_object.save_model(output_root_path, file_name = \"temp_model.zip\")\n",
    "\n",
    "        recommender_object = _get_instance(recommender_class, URM_train, ICM_all, UCM_all)\n",
    "        recommender_object.load_model(output_root_path, file_name = \"temp_model.zip\")\n",
    "\n",
    "        os.remove(output_root_path + \"temp_model.zip\")\n",
    "\n",
    "        results_run_2, results_run_string_2 = evaluator.evaluateRecommender(recommender_object)\n",
    "\n",
    "        if recommender_class not in [Random]:\n",
    "            assert results_run_1.equals(results_run_2)\n",
    "\n",
    "        print(\"Algorithm: {}, results: \\n{}\".format(recommender_class, results_run_string_1))\n",
    "        logFile.write(\"Algorithm: {}, results: \\n{}\\n\".format(recommender_class, results_run_string_1))\n",
    "        logFile.flush()\n",
    "\n",
    "\n",
    "    except Exception as e:\n",
    "        traceback.print_exc()\n",
    "        logFile.write(\"Algorithm: {} - Exception: {}\\n\".format(recommender_class, str(e)))\n",
    "        logFile.flush()"
   ]
  },
  {
   "cell_type": "markdown",
   "metadata": {},
   "source": [
    "# Recommend items"
   ]
  },
  {
   "cell_type": "code",
   "execution_count": null,
   "metadata": {
    "execution": {
     "iopub.execute_input": "2023-11-04T21:06:55.003332Z",
     "iopub.status.busy": "2023-11-04T21:06:55.002931Z",
     "iopub.status.idle": "2023-11-04T21:06:55.011864Z",
     "shell.execute_reply": "2023-11-04T21:06:55.010563Z",
     "shell.execute_reply.started": "2023-11-04T21:06:55.003286Z"
    }
   },
   "outputs": [],
   "source": [
    "# Open the submission sample file\n",
    "submission_sample = open('Input/data_target_users_test.csv', 'r')\n",
    "type(submission_sample)"
   ]
  },
  {
   "cell_type": "code",
   "execution_count": null,
   "metadata": {
    "execution": {
     "iopub.execute_input": "2023-11-04T21:07:03.629097Z",
     "iopub.status.busy": "2023-11-04T21:07:03.628687Z",
     "iopub.status.idle": "2023-11-04T21:07:03.654289Z",
     "shell.execute_reply": "2023-11-04T21:07:03.653175Z",
     "shell.execute_reply.started": "2023-11-04T21:07:03.629063Z"
    }
   },
   "outputs": [],
   "source": [
    "# Read the dataframe\n",
    "submission_df = pd.read_csv(filepath_or_buffer=submission_sample)\n",
    "submission_df"
   ]
  },
  {
   "cell_type": "code",
   "execution_count": null,
   "metadata": {
    "execution": {
     "iopub.execute_input": "2023-11-04T21:07:11.158728Z",
     "iopub.status.busy": "2023-11-04T21:07:11.158297Z",
     "iopub.status.idle": "2023-11-04T21:07:11.166227Z",
     "shell.execute_reply": "2023-11-04T21:07:11.165409Z",
     "shell.execute_reply.started": "2023-11-04T21:07:11.158693Z"
    }
   },
   "outputs": [],
   "source": [
    "# Convert the user_id column to numpy list\n",
    "user_list = submission_df['user_id'].to_numpy()\n",
    "user_list"
   ]
  },
  {
   "cell_type": "code",
   "execution_count": null,
   "metadata": {
    "execution": {
     "iopub.execute_input": "2023-11-04T21:07:14.181159Z",
     "iopub.status.busy": "2023-11-04T21:07:14.180417Z",
     "iopub.status.idle": "2023-11-04T21:07:22.297901Z",
     "shell.execute_reply": "2023-11-04T21:07:22.296845Z",
     "shell.execute_reply.started": "2023-11-04T21:07:14.181126Z"
    }
   },
   "outputs": [],
   "source": [
    "# Extract the recommended items and write them in the dataframe\n",
    "\n",
    "all_recommend = []\n",
    "\n",
    "for i,id in tqdm(enumerate(user_list)):\n",
    "    rec = recommender.recommend(id, cutoff=10)\n",
    "    rec_list = rec\n",
    "    rec_row = ' '.join(str(s) for s in rec_list)\n",
    "    all_recommend.append(rec_row)"
   ]
  },
  {
   "cell_type": "code",
   "execution_count": null,
   "metadata": {
    "execution": {
     "iopub.execute_input": "2023-11-04T21:07:30.817388Z",
     "iopub.status.busy": "2023-11-04T21:07:30.816981Z",
     "iopub.status.idle": "2023-11-04T21:07:30.824731Z",
     "shell.execute_reply": "2023-11-04T21:07:30.82381Z",
     "shell.execute_reply.started": "2023-11-04T21:07:30.817347Z"
    }
   },
   "outputs": [],
   "source": [
    "all_recommend[:10]"
   ]
  },
  {
   "cell_type": "code",
   "execution_count": null,
   "metadata": {
    "execution": {
     "iopub.execute_input": "2023-11-04T21:07:34.06307Z",
     "iopub.status.busy": "2023-11-04T21:07:34.062658Z",
     "iopub.status.idle": "2023-11-04T21:07:34.069637Z",
     "shell.execute_reply": "2023-11-04T21:07:34.068564Z",
     "shell.execute_reply.started": "2023-11-04T21:07:34.063035Z"
    }
   },
   "outputs": [],
   "source": [
    "submission_df['item_list'] = all_recommend"
   ]
  },
  {
   "cell_type": "code",
   "execution_count": null,
   "metadata": {
    "execution": {
     "iopub.execute_input": "2023-11-04T21:07:47.819936Z",
     "iopub.status.busy": "2023-11-04T21:07:47.819536Z",
     "iopub.status.idle": "2023-11-04T21:07:47.830373Z",
     "shell.execute_reply": "2023-11-04T21:07:47.829521Z",
     "shell.execute_reply.started": "2023-11-04T21:07:47.819905Z"
    }
   },
   "outputs": [],
   "source": [
    "submission_df.head(10)"
   ]
  },
  {
   "cell_type": "code",
   "execution_count": null,
   "metadata": {
    "execution": {
     "iopub.execute_input": "2023-11-04T21:07:53.820333Z",
     "iopub.status.busy": "2023-11-04T21:07:53.819501Z",
     "iopub.status.idle": "2023-11-04T21:07:53.865369Z",
     "shell.execute_reply": "2023-11-04T21:07:53.864316Z",
     "shell.execute_reply.started": "2023-11-04T21:07:53.820277Z"
    }
   },
   "outputs": [],
   "source": [
    "# Export the dataframe on csv file\n",
    "submission_df.to_csv('Output/ItemKNNCF.csv', index=False)"
   ]
  },
  {
   "cell_type": "code",
   "execution_count": null,
   "metadata": {},
   "outputs": [],
   "source": []
  },
  {
   "cell_type": "markdown",
   "metadata": {},
   "source": [
    "The user-item interaction value is not set in stone, you can weight that number according to some heuristics, for example you can weight less interactions of very popular items or users with huge profiles, this will impact how the item-item or user-user similarities are computed. For example: interaction value * log(popularity) or sqrt(popularity) or other ways, it is a heuristic so its success depends on the data and you may need to try a few.\n",
    "\n",
    "Optimization of hyperparameters is very important in any prediction/classification/recommendation task. Sometimes spending a few extra hours optimizing is more efficient than spending a few days in searching for new ideas or models. Combine the two for the best outcome!"
   ]
  },
  {
   "cell_type": "code",
   "execution_count": null,
   "metadata": {},
   "outputs": [],
   "source": []
  }
 ],
 "metadata": {
  "kaggle": {
   "accelerator": "none",
   "dataSources": [
    {
     "databundleVersionId": 6919098,
     "sourceId": 62803,
     "sourceType": "competition"
    }
   ],
   "dockerImageVersionId": 30558,
   "isGpuEnabled": false,
   "isInternetEnabled": true,
   "language": "python",
   "sourceType": "notebook"
  },
  "kernelspec": {
   "display_name": "Python 3 (ipykernel)",
   "language": "python",
   "name": "python3"
  },
  "language_info": {
   "codemirror_mode": {
    "name": "ipython",
    "version": 3
   },
   "file_extension": ".py",
   "mimetype": "text/x-python",
   "name": "python",
   "nbconvert_exporter": "python",
   "pygments_lexer": "ipython3",
   "version": "3.8.18"
  }
 },
 "nbformat": 4,
 "nbformat_minor": 4
}
